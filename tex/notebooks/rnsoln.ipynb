{
 "cells": [
  {
   "cell_type": "markdown",
   "metadata": {},
   "source": [
    "# The rotation solution vector"
   ]
  },
  {
   "cell_type": "markdown",
   "metadata": {},
   "source": [
    "We begin by importing some stuff and defining our functions:"
   ]
  },
  {
   "cell_type": "code",
   "execution_count": 40,
   "metadata": {
    "collapsed": true
   },
   "outputs": [],
   "source": [
    "import numpy as np\n",
    "from scipy import integrate\n",
    "from scipy.special import gamma"
   ]
  },
  {
   "cell_type": "code",
   "execution_count": 93,
   "metadata": {
    "collapsed": false
   },
   "outputs": [],
   "source": [
    "def ptilde(n, x, y):\n",
    "    \"\"\"Return the n^th term in the polynomial basis as a function of x and y.\"\"\"\n",
    "    if n == 0:\n",
    "        return 1\n",
    "    l = int(np.floor(np.sqrt(n)))\n",
    "    m = n - l * l - l\n",
    "    mu = l - m\n",
    "    nu = l + m\n",
    "    if (nu % 2 == 0):\n",
    "        i = mu // 2\n",
    "        j = nu // 2\n",
    "        return x ** i * y ** j\n",
    "    else:\n",
    "        i = (mu - 1) // 2\n",
    "        j = (nu - 1) // 2\n",
    "        return x ** i * y ** j * np.sqrt(1 - x * x - y * y)\n",
    "\n",
    "def rn_numerical(n):\n",
    "    \"\"\"Compute the n^th term in the rotation solution vector `r` by numerical integration.\"\"\"\n",
    "    f = lambda y, x: ptilde(n, x, y)\n",
    "    y, err = integrate.dblquad(f, -1, 1, lambda x: -np.sqrt(1 - x * x), lambda x: np.sqrt(1 - x * x))\n",
    "    return y\n",
    "\n",
    "def rn(n):\n",
    "    \"\"\"Compute the n^th term in the rotation solution vector `r` analytically.\"\"\"\n",
    "    l = int(np.floor(np.sqrt(n)))\n",
    "    m = n - l * l - l\n",
    "    mu = l - m\n",
    "    nu = l + m\n",
    "    if (mu % 2 == 0) and ((mu / 2) % 2 == 0) and (nu % 2 == 0) and ((nu / 2) % 2 == 0): \n",
    "        return gamma(mu / 4 + 0.5) * gamma(nu / 4 + 0.5) / gamma((mu + nu) / 4 + 2)\n",
    "    elif ((mu - 1) % 2 == 0) and (((mu - 1) / 2) % 2 == 0) and ((nu - 1) % 2 == 0) and (((nu - 1) / 2) % 2 == 0): \n",
    "        return 0.5 * np.sqrt(np.pi) * gamma(mu / 4 + 0.25) * gamma(nu / 4 + 0.25) / gamma((mu + nu) / 4 + 2)\n",
    "    else:\n",
    "        return 0"
   ]
  },
  {
   "cell_type": "markdown",
   "metadata": {},
   "source": [
    "Let's compare the numerical evaluation of the double integral to our expression involving Gamma functions for the first 50 values of $n$:"
   ]
  },
  {
   "cell_type": "code",
   "execution_count": 106,
   "metadata": {
    "collapsed": false
   },
   "outputs": [
    {
     "name": "stdout",
     "output_type": "stream",
     "text": [
      "Numerical        Analytical\n",
      "----------       ----------\n",
      "3.14159265       3.14159265\n",
      "0.00000000       0.00000000\n",
      "2.09439510       2.09439510\n",
      "0.00000000       0.00000000\n",
      "0.78539816       0.78539816\n",
      "0.00000000       0.00000000\n",
      "0.00000000       0.00000000\n",
      "0.00000000       0.00000000\n",
      "0.78539816       0.78539816\n",
      "0.00000000       0.00000000\n",
      "0.41887902       0.41887902\n",
      "0.00000000       0.00000000\n",
      "0.00000000       0.00000000\n",
      "0.00000000       0.00000000\n",
      "0.41887902       0.41887902\n",
      "0.00000000       0.00000000\n",
      "0.39269908       0.39269908\n",
      "0.00000000       0.00000000\n",
      "0.00000000       0.00000000\n",
      "0.00000000       0.00000000\n",
      "0.13089969       0.13089969\n",
      "0.00000000       0.00000000\n",
      "0.00000000       0.00000000\n",
      "0.00000000       0.00000000\n",
      "0.39269908       0.39269908\n",
      "0.00000000       0.00000000\n",
      "0.17951958       0.17951958\n",
      "0.00000000       0.00000000\n",
      "0.00000000       0.00000000\n",
      "0.00000000       0.00000000\n",
      "0.05983986       0.05983986\n",
      "0.00000000       0.00000000\n",
      "0.00000000       0.00000000\n",
      "0.00000000       0.00000000\n",
      "0.17951958       0.17951958\n",
      "0.00000000       0.00000000\n",
      "0.24543693       0.24543693\n",
      "0.00000000       0.00000000\n",
      "0.00000000       0.00000000\n",
      "0.00000000       0.00000000\n",
      "0.04908739       0.04908739\n",
      "0.00000000       0.00000000\n",
      "0.00000000       0.00000000\n",
      "0.00000000       0.00000000\n",
      "0.04908739       0.04908739\n",
      "0.00000000       0.00000000\n",
      "0.00000000       0.00000000\n",
      "0.00000000       0.00000000\n",
      "0.24543693       0.24543693\n",
      "0.00000000       0.00000000\n"
     ]
    }
   ],
   "source": [
    "print(\"Numerical        Analytical\")\n",
    "print(\"----------       ----------\")\n",
    "for n in range(50):\n",
    "    print(\"%.8f       %.8f\" % (rn_numerical(n), rn(n)))"
   ]
  }
 ],
 "metadata": {
  "kernelspec": {
   "display_name": "Python 3",
   "language": "python",
   "name": "python3"
  },
  "language_info": {
   "codemirror_mode": {
    "name": "ipython",
    "version": 3
   },
   "file_extension": ".py",
   "mimetype": "text/x-python",
   "name": "python",
   "nbconvert_exporter": "python",
   "pygments_lexer": "ipython3",
   "version": "3.4.5"
  }
 },
 "nbformat": 4,
 "nbformat_minor": 2
}
