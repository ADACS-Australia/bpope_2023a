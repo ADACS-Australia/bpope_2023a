{
 "cells": [
  {
   "cell_type": "markdown",
   "metadata": {},
   "source": [
    "# The vector function $\\mathbf{G}$"
   ]
  },
  {
   "cell_type": "markdown",
   "metadata": {},
   "source": [
    "We begin by importing some stuff and defining our functions:"
   ]
  },
  {
   "cell_type": "code",
   "execution_count": 1,
   "metadata": {
    "collapsed": false
   },
   "outputs": [
    {
     "name": "stderr",
     "output_type": "stream",
     "text": [
      "//anaconda/lib/python3.4/importlib/_bootstrap.py:321: FutureWarning: Conversion of the second argument of issubdtype from `float` to `np.floating` is deprecated. In future, it will be treated as `np.float64 == np.dtype(float).type`.\n",
      "  return f(*args, **kwds)\n"
     ]
    },
    {
     "name": "stdout",
     "output_type": "stream",
     "text": [
      "\n",
      "Using sympy version 1.1.2.dev\n"
     ]
    }
   ],
   "source": [
    "import numpy as np\n",
    "import sympy\n",
    "from sympy import *\n",
    "\n",
    "# Initialize the session\n",
    "init_session(quiet=True)\n",
    "\n",
    "# I am using the dev version of sympy\n",
    "print(\"Using sympy version\", sympy.__version__)\n",
    "\n",
    "# Define our symbols\n",
    "x, y, z, mu, nu = symbols('x y z mu nu')\n",
    "from sympy.vector import CoordSys3D\n",
    "N = CoordSys3D('N')"
   ]
  },
  {
   "cell_type": "markdown",
   "metadata": {},
   "source": [
    "Define the exterior derivative operation:"
   ]
  },
  {
   "cell_type": "code",
   "execution_count": 2,
   "metadata": {
    "collapsed": false
   },
   "outputs": [],
   "source": [
    "def ExteriorDerivative(F):\n",
    "    \"\"\"Return the exterior derivative of the vector function F.\"\"\"\n",
    "    return simplify(diff(F.dot(N.j), x) - diff(F.dot(N.i), y))"
   ]
  },
  {
   "cell_type": "markdown",
   "metadata": {},
   "source": [
    "## $\\nu$ even"
   ]
  },
  {
   "cell_type": "code",
   "execution_count": 8,
   "metadata": {
    "collapsed": false
   },
   "outputs": [],
   "source": [
    "F = 0 * N.i + x ** ((mu + 2) / 2) * y ** (nu / 2) * N.j"
   ]
  },
  {
   "cell_type": "code",
   "execution_count": 9,
   "metadata": {
    "collapsed": false
   },
   "outputs": [
    {
     "data": {
      "image/png": "[encoded data removed]",
      "text/latex": [
       "$$(x^{\\frac{\\mu}{2} + 1} y^{\\frac{\\nu}{2}})\\mathbf{\\hat{j}_{N}}$$"
      ],
      "text/plain": [
       "⎛ μ      ν⎞    \n",
       "⎜ ─ + 1  ─⎟ N_j\n",
       "⎜ 2      2⎟    \n",
       "⎝x     ⋅y ⎠    "
      ]
     },
     "execution_count": 9,
     "metadata": {},
     "output_type": "execute_result"
    }
   ],
   "source": [
    "F"
   ]
  },
  {
   "cell_type": "code",
   "execution_count": 10,
   "metadata": {
    "collapsed": false
   },
   "outputs": [
    {
     "data": {
      "image/png": "[encoded data removed]",
      "text/latex": [
       "$$\\frac{x^{\\frac{\\mu}{2}} y^{\\frac{\\nu}{2}} \\left(\\mu + 2\\right)}{2}$$"
      ],
      "text/plain": [
       " μ  ν        \n",
       " ─  ─        \n",
       " 2  2        \n",
       "x ⋅y ⋅(μ + 2)\n",
       "─────────────\n",
       "      2      "
      ]
     },
     "execution_count": 10,
     "metadata": {},
     "output_type": "execute_result"
    }
   ],
   "source": [
    "ExteriorDerivative(F)"
   ]
  },
  {
   "cell_type": "markdown",
   "metadata": {},
   "source": [
    "## $\\nu = \\mu = 1$"
   ]
  },
  {
   "cell_type": "code",
   "execution_count": 21,
   "metadata": {
    "collapsed": false
   },
   "outputs": [],
   "source": [
    "z = sqrt(1 - x ** 2 - y ** 2)"
   ]
  },
  {
   "cell_type": "code",
   "execution_count": 27,
   "metadata": {
    "collapsed": false
   },
   "outputs": [],
   "source": [
    "F = (1 - z ** 3) / (3 * (1 - z ** 2)) * (-y * N.i + x * N.j)"
   ]
  },
  {
   "cell_type": "code",
   "execution_count": 29,
   "metadata": {
    "collapsed": false
   },
   "outputs": [
    {
     "data": {
      "image/png": "[encoded data removed]",
      "text/latex": [
       "$$(- \\frac{y \\left(- \\left(- x^{2} - y^{2} + 1\\right)^{\\frac{3}{2}} + 1\\right)}{3 x^{2} + 3 y^{2}})\\mathbf{\\hat{i}_{N}} + (\\frac{x \\left(- \\left(- x^{2} - y^{2} + 1\\right)^{\\frac{3}{2}} + 1\\right)}{3 x^{2} + 3 y^{2}})\\mathbf{\\hat{j}_{N}}$$"
      ],
      "text/plain": [
       "⎛   ⎛                 3/2    ⎞ ⎞       ⎛  ⎛                 3/2    ⎞⎞    \n",
       "⎜   ⎜  ⎛   2    2    ⎞       ⎟ N_i ⎟ + ⎜  ⎜  ⎛   2    2    ⎞       ⎟ N_j⎟\n",
       "⎜-y⋅⎝- ⎝- x  - y  + 1⎠    + 1⎠ ⎟       ⎜x⋅⎝- ⎝- x  - y  + 1⎠    + 1⎠⎟    \n",
       "⎜──────────────────────────────⎟       ⎜────────────────────────────⎟    \n",
       "⎜            2      2          ⎟       ⎜           2      2         ⎟    \n",
       "⎝         3⋅x  + 3⋅y           ⎠       ⎝        3⋅x  + 3⋅y          ⎠    "
      ]
     },
     "execution_count": 29,
     "metadata": {},
     "output_type": "execute_result"
    }
   ],
   "source": [
    "F"
   ]
  },
  {
   "cell_type": "code",
   "execution_count": 28,
   "metadata": {
    "collapsed": false
   },
   "outputs": [
    {
     "data": {
      "image/png": "[encoded data removed]",
      "text/latex": [
       "$$\\sqrt{- x^{2} - y^{2} + 1}$$"
      ],
      "text/plain": [
       "   _______________\n",
       "  ╱    2    2     \n",
       "╲╱  - x  - y  + 1 "
      ]
     },
     "execution_count": 28,
     "metadata": {},
     "output_type": "execute_result"
    }
   ],
   "source": [
    "ExteriorDerivative(F)"
   ]
  },
  {
   "cell_type": "code",
   "execution_count": null,
   "metadata": {
    "collapsed": true
   },
   "outputs": [],
   "source": []
  }
 ],
 "metadata": {
  "kernelspec": {
   "display_name": "Python 3",
   "language": "python",
   "name": "python3"
  },
  "language_info": {
   "codemirror_mode": {
    "name": "ipython",
    "version": 3
   },
   "file_extension": ".py",
   "mimetype": "text/x-python",
   "name": "python",
   "nbconvert_exporter": "python",
   "pygments_lexer": "ipython3",
   "version": "3.4.5"
  }
 },
 "nbformat": 4,
 "nbformat_minor": 2
}
