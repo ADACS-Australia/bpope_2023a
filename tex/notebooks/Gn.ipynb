{
 "cells": [
  {
   "cell_type": "markdown",
   "metadata": {},
   "source": [
    "# The vector function $\\mathbf{G}$"
   ]
  },
  {
   "cell_type": "markdown",
   "metadata": {},
   "source": [
    "We begin by importing some stuff and defining our functions:"
   ]
  },
  {
   "cell_type": "code",
   "execution_count": 1,
   "metadata": {
    "collapsed": false
   },
   "outputs": [
    {
     "name": "stdout",
     "output_type": "stream",
     "text": [
      "\n",
      "Using sympy version 1.1.2.dev\n"
     ]
    }
   ],
   "source": [
    "import warnings\n",
    "warnings.simplefilter(action='ignore', category=FutureWarning)\n",
    "import numpy as np\n",
    "import sympy\n",
    "from sympy import *\n",
    "\n",
    "# Initialize the session\n",
    "init_session(quiet=True)\n",
    "\n",
    "# I am using the dev version of sympy\n",
    "print(\"Using sympy version\", sympy.__version__)\n",
    "\n",
    "# Define our symbols\n",
    "x, y, z, mu, nu, l, m = symbols('x y z mu nu l m')\n",
    "z = sqrt(1 - x ** 2 - y ** 2)\n",
    "from sympy.vector import CoordSys3D\n",
    "N = CoordSys3D('N')"
   ]
  },
  {
   "cell_type": "markdown",
   "metadata": {},
   "source": [
    "## The exterior derivative\n",
    "\n",
    "We're going to use `sympy` to take some derivatives. Note that I'm using the `dev` version of the package to get nice $\\LaTeX$ rendering in this notebook.\n",
    "\n",
    "Let's begin by defining the exterior derivative operation, \n",
    "$D\\, \\hat{}\\, G = \\frac{\\mathrm{d} G_y}{\\mathrm{d} x} - \\frac{\\mathrm{d} G_x}{\\mathrm{d} y}$:"
   ]
  },
  {
   "cell_type": "code",
   "execution_count": 2,
   "metadata": {
    "collapsed": false
   },
   "outputs": [],
   "source": [
    "def ExteriorDerivative(F):\n",
    "    \"\"\"Return the exterior derivative of the vector function F.\"\"\"\n",
    "    return simplify(diff(F.dot(N.j), x) - diff(F.dot(N.i), y))"
   ]
  },
  {
   "cell_type": "markdown",
   "metadata": {},
   "source": [
    "Now we will show that the exterior derivative of the vector function $\\mathbf{G}_n(x, y)$ is equal to the $n^\\mathrm{th}$ component of the Green's basis, $\\tilde{g}_n$. There are four cases, depending on the values of $\\mu$, $\\nu$, $l$ and $m$."
   ]
  },
  {
   "cell_type": "markdown",
   "metadata": {},
   "source": [
    "## Case 1: $\\nu$ even\n",
    "\n",
    "Our function is $\\mathbf{G} = x^\\frac{\\mu+2}{2} y^\\frac{\\nu}{2} \\hat{\\mathbf{y}}$:"
   ]
  },
  {
   "cell_type": "code",
   "execution_count": 3,
   "metadata": {
    "collapsed": false
   },
   "outputs": [],
   "source": [
    "G = x ** ((mu + 2) / 2) * y ** (nu / 2) * N.j"
   ]
  },
  {
   "cell_type": "code",
   "execution_count": 4,
   "metadata": {
    "collapsed": false
   },
   "outputs": [
    {
     "data": {
      "image/png": "[encoded data removed]",
      "text/latex": [
       "$$(x^{\\frac{\\mu}{2} + 1} y^{\\frac{\\nu}{2}})\\mathbf{\\hat{j}_{N}}$$"
      ],
      "text/plain": [
       "⎛ μ      ν⎞    \n",
       "⎜ ─ + 1  ─⎟ N_j\n",
       "⎜ 2      2⎟    \n",
       "⎝x     ⋅y ⎠    "
      ]
     },
     "execution_count": 4,
     "metadata": {},
     "output_type": "execute_result"
    }
   ],
   "source": [
    "G"
   ]
  },
  {
   "cell_type": "markdown",
   "metadata": {},
   "source": [
    "Its exterior derivative is "
   ]
  },
  {
   "cell_type": "code",
   "execution_count": 5,
   "metadata": {
    "collapsed": false
   },
   "outputs": [
    {
     "data": {
      "image/png": "[encoded data removed]",
      "text/latex": [
       "$$\\frac{x^{\\frac{\\mu}{2}} y^{\\frac{\\nu}{2}} \\left(\\mu + 2\\right)}{2}$$"
      ],
      "text/plain": [
       " μ  ν        \n",
       " ─  ─        \n",
       " 2  2        \n",
       "x ⋅y ⋅(μ + 2)\n",
       "─────────────\n",
       "      2      "
      ]
     },
     "execution_count": 5,
     "metadata": {},
     "output_type": "execute_result"
    }
   ],
   "source": [
    "ExteriorDerivative(G)"
   ]
  },
  {
   "cell_type": "markdown",
   "metadata": {},
   "source": [
    "which is case 1 in Equation (11)."
   ]
  },
  {
   "cell_type": "markdown",
   "metadata": {},
   "source": [
    "## Case 2: $\\nu = \\mu = 1$\n",
    "\n",
    "Our function is $\\mathbf{G} = \\frac{1-z^3}{3(1-z^2)}(-y\\, \\hat{\\mathbf{x}} + x\\, \\hat{\\mathbf{y}})$:"
   ]
  },
  {
   "cell_type": "code",
   "execution_count": 6,
   "metadata": {
    "collapsed": false
   },
   "outputs": [],
   "source": [
    "G = (1 - z ** 3) / (3 * (1 - z ** 2)) * (-y * N.i + x * N.j)"
   ]
  },
  {
   "cell_type": "code",
   "execution_count": 7,
   "metadata": {
    "collapsed": false
   },
   "outputs": [
    {
     "data": {
      "image/png": "[encoded data removed]",
      "text/latex": [
       "$$(- \\frac{y \\left(- \\left(- x^{2} - y^{2} + 1\\right)^{\\frac{3}{2}} + 1\\right)}{3 x^{2} + 3 y^{2}})\\mathbf{\\hat{i}_{N}} + (\\frac{x \\left(- \\left(- x^{2} - y^{2} + 1\\right)^{\\frac{3}{2}} + 1\\right)}{3 x^{2} + 3 y^{2}})\\mathbf{\\hat{j}_{N}}$$"
      ],
      "text/plain": [
       "⎛   ⎛                 3/2    ⎞ ⎞       ⎛  ⎛                 3/2    ⎞⎞    \n",
       "⎜   ⎜  ⎛   2    2    ⎞       ⎟ N_i ⎟ + ⎜  ⎜  ⎛   2    2    ⎞       ⎟ N_j⎟\n",
       "⎜-y⋅⎝- ⎝- x  - y  + 1⎠    + 1⎠ ⎟       ⎜x⋅⎝- ⎝- x  - y  + 1⎠    + 1⎠⎟    \n",
       "⎜──────────────────────────────⎟       ⎜────────────────────────────⎟    \n",
       "⎜            2      2          ⎟       ⎜           2      2         ⎟    \n",
       "⎝         3⋅x  + 3⋅y           ⎠       ⎝        3⋅x  + 3⋅y          ⎠    "
      ]
     },
     "execution_count": 7,
     "metadata": {},
     "output_type": "execute_result"
    }
   ],
   "source": [
    "G"
   ]
  },
  {
   "cell_type": "markdown",
   "metadata": {},
   "source": [
    "Its exterior derivative is "
   ]
  },
  {
   "cell_type": "code",
   "execution_count": 8,
   "metadata": {
    "collapsed": false
   },
   "outputs": [
    {
     "data": {
      "image/png": "[encoded data removed]",
      "text/latex": [
       "$$\\sqrt{- x^{2} - y^{2} + 1}$$"
      ],
      "text/plain": [
       "   _______________\n",
       "  ╱    2    2     \n",
       "╲╱  - x  - y  + 1 "
      ]
     },
     "execution_count": 8,
     "metadata": {},
     "output_type": "execute_result"
    }
   ],
   "source": [
    "ExteriorDerivative(G)"
   ]
  },
  {
   "cell_type": "markdown",
   "metadata": {},
   "source": [
    "which is just equal to $z$ (case 2 in Equation 11)."
   ]
  },
  {
   "cell_type": "markdown",
   "metadata": {},
   "source": [
    "## Case 3: $\\nu$ odd, $\\mu = 1$, $l$ even\n",
    "\n",
    "Our function is $\\mathbf{G} = x^{l-2}z^3\\, \\mathbf{\\hat{x}}$:"
   ]
  },
  {
   "cell_type": "code",
   "execution_count": 9,
   "metadata": {
    "collapsed": true
   },
   "outputs": [],
   "source": [
    "G = x ** (l - 2) * z ** 3 * N.i"
   ]
  },
  {
   "cell_type": "code",
   "execution_count": 10,
   "metadata": {
    "collapsed": false
   },
   "outputs": [
    {
     "data": {
      "image/png": "[encoded data removed]",
      "text/latex": [
       "$$(x^{l - 2} \\left(- x^{2} - y^{2} + 1\\right)^{\\frac{3}{2}})\\mathbf{\\hat{i}_{N}}$$"
      ],
      "text/plain": [
       "⎛                      3/2⎞    \n",
       "⎜ l - 2 ⎛   2    2    ⎞   ⎟ N_i\n",
       "⎝x     ⋅⎝- x  - y  + 1⎠   ⎠    "
      ]
     },
     "execution_count": 10,
     "metadata": {},
     "output_type": "execute_result"
    }
   ],
   "source": [
    "G"
   ]
  },
  {
   "cell_type": "markdown",
   "metadata": {},
   "source": [
    "Its exterior derivative is"
   ]
  },
  {
   "cell_type": "code",
   "execution_count": 11,
   "metadata": {
    "collapsed": false
   },
   "outputs": [
    {
     "data": {
      "image/png": "[encoded data removed]",
      "text/latex": [
       "$$3 x^{l - 2} y \\sqrt{- x^{2} - y^{2} + 1}$$"
      ],
      "text/plain": [
       "              _______________\n",
       "   l - 2     ╱    2    2     \n",
       "3⋅x     ⋅y⋅╲╱  - x  - y  + 1 "
      ]
     },
     "execution_count": 11,
     "metadata": {},
     "output_type": "execute_result"
    }
   ],
   "source": [
    "ExteriorDerivative(G)"
   ]
  },
  {
   "cell_type": "markdown",
   "metadata": {},
   "source": [
    "which is case 3 in Equation (11)."
   ]
  },
  {
   "cell_type": "markdown",
   "metadata": {},
   "source": [
    "## Case 4: $\\nu$ odd, $\\mu = 1$, $l$ odd\n",
    "\n",
    "Our function is $\\mathbf{G} = x^{l-3}yz^3\\, \\mathbf{\\hat{x}}$:"
   ]
  },
  {
   "cell_type": "code",
   "execution_count": 12,
   "metadata": {
    "collapsed": true
   },
   "outputs": [],
   "source": [
    "G = x ** (l - 3) * y * z ** 3 * N.i"
   ]
  },
  {
   "cell_type": "code",
   "execution_count": 13,
   "metadata": {
    "collapsed": false
   },
   "outputs": [
    {
     "data": {
      "image/png": "[encoded data removed]",
      "text/latex": [
       "$$(x^{l - 3} y \\left(- x^{2} - y^{2} + 1\\right)^{\\frac{3}{2}})\\mathbf{\\hat{i}_{N}}$$"
      ],
      "text/plain": [
       "⎛                        3/2⎞    \n",
       "⎜ l - 3   ⎛   2    2    ⎞   ⎟ N_i\n",
       "⎝x     ⋅y⋅⎝- x  - y  + 1⎠   ⎠    "
      ]
     },
     "execution_count": 13,
     "metadata": {},
     "output_type": "execute_result"
    }
   ],
   "source": [
    "G"
   ]
  },
  {
   "cell_type": "markdown",
   "metadata": {},
   "source": [
    "Its exterior derivative is"
   ]
  },
  {
   "cell_type": "code",
   "execution_count": 14,
   "metadata": {
    "collapsed": false
   },
   "outputs": [
    {
     "data": {
      "image/png": "[encoded data removed]",
      "text/latex": [
       "$$x^{l - 3} \\sqrt{- x^{2} - y^{2} + 1} \\left(x^{2} + 4 y^{2} - 1\\right)$$"
      ],
      "text/plain": [
       "          _______________                \n",
       " l - 3   ╱    2    2      ⎛ 2      2    ⎞\n",
       "x     ⋅╲╱  - x  - y  + 1 ⋅⎝x  + 4⋅y  - 1⎠"
      ]
     },
     "execution_count": 14,
     "metadata": {},
     "output_type": "execute_result"
    }
   ],
   "source": [
    "ExteriorDerivative(G)"
   ]
  },
  {
   "cell_type": "markdown",
   "metadata": {},
   "source": [
    "which (after some rearranging) is equal to case 4 in Equation (11)."
   ]
  },
  {
   "cell_type": "markdown",
   "metadata": {},
   "source": [
    "## All other cases\n",
    "\n",
    "Our function is $\\mathbf{G} = x^\\frac{\\mu-3}{2}y^\\frac{\\nu-1}{2}z^3\\, \\mathbf{\\hat{y}}$:"
   ]
  },
  {
   "cell_type": "code",
   "execution_count": 15,
   "metadata": {
    "collapsed": true
   },
   "outputs": [],
   "source": [
    "G = x ** ((mu - 3) / 2) * y ** ((nu - 1) / 2) * z ** 3 * N.j"
   ]
  },
  {
   "cell_type": "code",
   "execution_count": 16,
   "metadata": {
    "collapsed": false
   },
   "outputs": [
    {
     "data": {
      "image/png": "[encoded data removed]",
      "text/latex": [
       "$$(x^{\\frac{\\mu}{2} - \\frac{3}{2}} y^{\\frac{\\nu}{2} - \\frac{1}{2}} \\left(- x^{2} - y^{2} + 1\\right)^{\\frac{3}{2}})\\mathbf{\\hat{j}_{N}}$$"
      ],
      "text/plain": [
       "⎛ μ   3  ν   1                   ⎞    \n",
       "⎜ ─ - ─  ─ - ─                3/2⎟ N_j\n",
       "⎜ 2   2  2   2 ⎛   2    2    ⎞   ⎟    \n",
       "⎝x     ⋅y     ⋅⎝- x  - y  + 1⎠   ⎠    "
      ]
     },
     "execution_count": 16,
     "metadata": {},
     "output_type": "execute_result"
    }
   ],
   "source": [
    "G"
   ]
  },
  {
   "cell_type": "markdown",
   "metadata": {},
   "source": [
    "Its exterior derivative is"
   ]
  },
  {
   "cell_type": "code",
   "execution_count": 17,
   "metadata": {
    "collapsed": false
   },
   "outputs": [
    {
     "data": {
      "image/png": "[encoded data removed]",
      "text/latex": [
       "$$\\frac{y^{\\frac{\\nu}{2} - \\frac{1}{2}} \\left(x^{\\frac{\\mu}{2} - \\frac{3}{2}} \\left(\\mu - 3\\right) \\left(- x^{2} - y^{2} + 1\\right) - 6 x^{\\frac{\\mu}{2} + \\frac{1}{2}}\\right) \\sqrt{- x^{2} - y^{2} + 1}}{2 x}$$"
      ],
      "text/plain": [
       " ν   1 ⎛ μ   3                              μ   1⎞                   \n",
       " ─ - ─ ⎜ ─ - ─                              ─ + ─⎟    _______________\n",
       " 2   2 ⎜ 2   2         ⎛   2    2    ⎞      2   2⎟   ╱    2    2     \n",
       "y     ⋅⎝x     ⋅(μ - 3)⋅⎝- x  - y  + 1⎠ - 6⋅x     ⎠⋅╲╱  - x  - y  + 1 \n",
       "─────────────────────────────────────────────────────────────────────\n",
       "                                 2⋅x                                 "
      ]
     },
     "execution_count": 17,
     "metadata": {},
     "output_type": "execute_result"
    }
   ],
   "source": [
    "ExteriorDerivative(G)"
   ]
  },
  {
   "cell_type": "markdown",
   "metadata": {},
   "source": [
    "It may be difficult to tell, but this is equal to the last case in Equation (11). Here's the difference between what we get and the term in Equation (11):"
   ]
  },
  {
   "cell_type": "code",
   "execution_count": 18,
   "metadata": {
    "collapsed": false
   },
   "outputs": [
    {
     "data": {
      "image/png": "[encoded data removed]",
      "text/latex": [
       "$$0$$"
      ],
      "text/plain": [
       "0"
      ]
     },
     "execution_count": 18,
     "metadata": {},
     "output_type": "execute_result"
    }
   ],
   "source": [
    "simplify(ExteriorDerivative(G) - z * ((mu - 3) / 2 * x ** ((mu - 5) / 2) * y ** ((nu - 1) / 2) - (mu - 3) / 2 * x ** ((mu - 5) / 2) * y ** ((nu + 3) / 2) - (mu + 3) / 2 * x ** ((mu - 1) / 2) * y ** ((nu - 1) / 2)))"
   ]
  }
 ],
 "metadata": {
  "kernelspec": {
   "display_name": "Python 3",
   "language": "python",
   "name": "python3"
  },
  "language_info": {
   "codemirror_mode": {
    "name": "ipython",
    "version": 3
   },
   "file_extension": ".py",
   "mimetype": "text/x-python",
   "name": "python",
   "nbconvert_exporter": "python",
   "pygments_lexer": "ipython3",
   "version": "3.4.5"
  }
 },
 "nbformat": 4,
 "nbformat_minor": 2
}
