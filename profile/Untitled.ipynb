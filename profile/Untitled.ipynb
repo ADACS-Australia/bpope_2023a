{
 "cells": [
  {
   "cell_type": "code",
   "execution_count": 2,
   "id": "21fdda58-d6c8-48fe-831e-208426c3dda9",
   "metadata": {
    "tags": []
   },
   "outputs": [],
   "source": [
    "import graphviz\n",
    "import ast\n",
    "from graphviz import Digraph\n",
    "import inspect\n",
    "\n",
    "# Define the function you want to visualize\n",
    "def my_function(a, b):\n",
    "    if a > b:\n",
    "        c = a - b\n",
    "    else:\n",
    "        c = b - a\n",
    "    return c\n",
    "\n",
    "# Parse the function into an abstract syntax tree (AST)\n",
    "ast_tree = ast.parse(inspect.getsource(my_function))\n",
    "\n",
    "# Define a graph object\n",
    "graph = Digraph()\n"
   ]
  },
  {
   "cell_type": "code",
   "execution_count": 3,
   "id": "b8ce4c98-8f60-4f6c-806e-753d252b85e5",
   "metadata": {
    "tags": []
   },
   "outputs": [],
   "source": [
    "# Traverse the AST to create the graph\n",
    "def visit_node(node):\n",
    "    if isinstance(node, ast.If):\n",
    "        # Add a node for the if statement\n",
    "        graph.node(str(node.lineno), 'if')\n",
    "        # Recurse on the test condition\n",
    "        visit_node(node.test)\n",
    "        # Recurse on the body of the if statement\n",
    "        for stmt in node.body:\n",
    "            visit_node(stmt)\n",
    "        # Recurse on the body of the else statement (if it exists)\n",
    "        for stmt in node.orelse:\n",
    "            visit_node(stmt)\n",
    "    elif isinstance(node, ast.Compare):\n",
    "        # Add a node for the comparison operator\n",
    "        graph.node(str(node.lineno), ast.dump(node.ops[0]))\n",
    "        # Recurse on the left and right operands of the comparison\n",
    "        visit_node(node.left)\n",
    "        for op in node.comparators:\n",
    "            visit_node(op)\n",
    "    elif isinstance(node, ast.Name):\n",
    "        # Add a node for the variable name\n",
    "        graph.node(str(node.lineno), node.id)\n",
    "    elif isinstance(node, ast.Num):\n",
    "        # Add a node for the numeric constant\n",
    "        graph.node(str(node.lineno), str(node.n))\n",
    "    elif isinstance(node, ast.BinOp):\n",
    "        # Add a node for the binary operator\n",
    "        graph.node(str(node.lineno), ast.dump(node.op))\n",
    "        # Recurse on the left and right operands of the binary operator\n",
    "        visit_node(node.left)\n",
    "        visit_node(node.right)"
   ]
  },
  {
   "cell_type": "code",
   "execution_count": 4,
   "id": "245d66c4-7474-454e-bfef-594e8f8a0ed3",
   "metadata": {
    "tags": []
   },
   "outputs": [],
   "source": [
    "visit_node(ast_tree)"
   ]
  },
  {
   "cell_type": "code",
   "execution_count": 6,
   "id": "1a2c786e-fce7-43c5-b7e7-6d9efd29d589",
   "metadata": {
    "tags": []
   },
   "outputs": [
    {
     "data": {
      "text/plain": [
       "'tessss.png'"
      ]
     },
     "execution_count": 6,
     "metadata": {},
     "output_type": "execute_result"
    }
   ],
   "source": [
    "# Add edges between the nodes\n",
    "def add_edges(node):\n",
    "    if isinstance(node, ast.If):\n",
    "        # Add edges between the if statement and its components\n",
    "        graph.edge(str(node.lineno), str(node.test.lineno))\n",
    "        graph.edge(str(node.lineno), str(node.body[0].lineno))\n",
    "        if len(node.orelse) > 0:\n",
    "            graph.edge(str(node.lineno), str(node.orelse[0].lineno))\n",
    "        # Recurse on the components of the if statement\n",
    "        add_edges(node.test)\n",
    "        for stmt in node.body:\n",
    "            add_edges(stmt)\n",
    "        for stmt in node.orelse:\n",
    "            add_edges(stmt)\n",
    "    elif isinstance(node, ast.Compare):\n",
    "        # Add edges between the comparison operator and its operands\n",
    "        graph.edge(str(node.lineno), str(node.left.lineno))\n",
    "        for op in node.comparators:\n",
    "            graph.edge(str(node.lineno), str(op.lineno))\n",
    "        # Recurse on the operands of the comparison operator\n",
    "        add_edges(node.left)\n",
    "        for op in node.comparators:\n",
    "            add_edges(op)\n",
    "    elif isinstance(node, ast.Name):\n",
    "        pass\n",
    "    elif isinstance(node, ast.Num):\n",
    "        pass\n",
    "    elif isinstance(node, ast.BinOp):\n",
    "        # Add edges between the binary operator and its operands\n",
    "        graph.edge(str(node.lineno), str(node.left.lineno))\n",
    "        graph.edge(str(node.lineno), str(node.right.lineno))\n",
    "        # Recurse on the operands of the binary operator\n",
    "        add_edges(node.left)\n",
    "        add_edges(node.right)\n",
    "\n",
    "add_edges(ast_tree)\n",
    "\n",
    "# Render the graph\n",
    "graph.render(\"tessss\", format=\"png\")\n",
    "\n"
   ]
  },
  {
   "cell_type": "code",
   "execution_count": null,
   "id": "be9aa86b-8336-4bc2-bf3e-b5d1f3e018f5",
   "metadata": {},
   "outputs": [],
   "source": []
  }
 ],
 "metadata": {
  "kernelspec": {
   "display_name": "starry_dev",
   "language": "python",
   "name": "starry_dev"
  },
  "language_info": {
   "codemirror_mode": {
    "name": "ipython",
    "version": 3
   },
   "file_extension": ".py",
   "mimetype": "text/x-python",
   "name": "python",
   "nbconvert_exporter": "python",
   "pygments_lexer": "ipython3",
   "version": "3.10.4"
  }
 },
 "nbformat": 4,
 "nbformat_minor": 5
}
