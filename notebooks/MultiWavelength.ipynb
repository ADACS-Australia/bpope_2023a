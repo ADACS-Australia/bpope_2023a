{
 "cells": [
  {
   "cell_type": "markdown",
   "metadata": {},
   "source": [
    "# Multi-wavelength maps"
   ]
  },
  {
   "cell_type": "markdown",
   "metadata": {},
   "source": [
    "Nearly all of the computational overhead in `starry` comes from computing rotation matrices and integrals of the spherical harmonics, which makes it really fast to compute light curves at different wavelengths if we simply recycle the results of all of these operations.\n",
    "\n",
    "By \"multi-wavelength\" we mean a map whose spherical harmonic coefficients are a function of wavelength. Specifically, instead of setting the coefficient at $l, m$ to a scalar value, we can set it to a vector, where each element corresponds to the coefficient in a particular wavelength bin. Let's look at some examples."
   ]
  },
  {
   "cell_type": "code",
   "execution_count": null,
   "metadata": {
    "tags": [
     "hide_input"
    ]
   },
   "outputs": [],
   "source": [
    "%matplotlib inline"
   ]
  },
  {
   "cell_type": "code",
   "execution_count": null,
   "metadata": {
    "tags": [
     "hide_input"
    ]
   },
   "outputs": [],
   "source": [
    "%run notebook_setup.py"
   ]
  },
  {
   "cell_type": "code",
   "execution_count": null,
   "metadata": {},
   "outputs": [],
   "source": [
    "import numpy as np\n",
    "import matplotlib.pyplot as plt\n",
    "import starry\n",
    "\n",
    "starry.config.lazy = False\n",
    "starry.config.quiet = True"
   ]
  },
  {
   "cell_type": "markdown",
   "metadata": {},
   "source": [
    "## The basics"
   ]
  },
  {
   "cell_type": "markdown",
   "metadata": {},
   "source": [
    "Let's instantiate a simple map with `nw=3` wavelength bins:"
   ]
  },
  {
   "cell_type": "code",
   "execution_count": null,
   "metadata": {},
   "outputs": [],
   "source": [
    "map = starry.Map(ydeg=2, nw=3)"
   ]
  },
  {
   "cell_type": "markdown",
   "metadata": {},
   "source": [
    "Normally, the `y` attribute of a map is its spherical harmonic coefficient vector, but in this case it is a matrix with $N_y = (l + 1)^2 = 9$ rows and $n_w = 3$ columns:"
   ]
  },
  {
   "cell_type": "code",
   "execution_count": null,
   "metadata": {},
   "outputs": [],
   "source": [
    "map.y"
   ]
  },
  {
   "cell_type": "markdown",
   "metadata": {},
   "source": [
    "Each row corresponds to a given spherical harmonic, and each column to a given wavelength bin. Let’s set the $Y_{1,0}$ coefficient:"
   ]
  },
  {
   "cell_type": "code",
   "execution_count": null,
   "metadata": {},
   "outputs": [],
   "source": [
    "map[1, 0, :] = [0.3, 0.4, 0.5]"
   ]
  },
  {
   "cell_type": "markdown",
   "metadata": {},
   "source": [
    "Here's our new map vector:"
   ]
  },
  {
   "cell_type": "code",
   "execution_count": null,
   "metadata": {},
   "outputs": [],
   "source": [
    "map.y"
   ]
  },
  {
   "cell_type": "markdown",
   "metadata": {},
   "source": [
    "To visualize the map, we can call `map.show()` as usual, but now we actually get an animation showing us what the map looks like at each wavelength."
   ]
  },
  {
   "cell_type": "code",
   "execution_count": null,
   "metadata": {},
   "outputs": [],
   "source": [
    "map.show(interval=500)"
   ]
  },
  {
   "cell_type": "markdown",
   "metadata": {},
   "source": [
    "Let's set a few more coefficients:"
   ]
  },
  {
   "cell_type": "code",
   "execution_count": null,
   "metadata": {},
   "outputs": [],
   "source": [
    "map[1, -1, :] = [0, 0.1, -0.1]\n",
    "map[2, -1, :] = [-0.1, -0.2, -0.1]\n",
    "map[2, 2, :] = [0.3, 0.2, 0.1]"
   ]
  },
  {
   "cell_type": "code",
   "execution_count": null,
   "metadata": {},
   "outputs": [],
   "source": [
    "map.show(interval=500)"
   ]
  },
  {
   "cell_type": "markdown",
   "metadata": {},
   "source": [
    "## Phase curves"
   ]
  },
  {
   "cell_type": "markdown",
   "metadata": {},
   "source": [
    "OK, our map now has some interesting wavelength-dependent features. Let's compute some light curves! First, a simple phase curve:"
   ]
  },
  {
   "cell_type": "code",
   "execution_count": null,
   "metadata": {},
   "outputs": [],
   "source": [
    "theta = np.linspace(0, 360, 1000)\n",
    "phase_curves = map.flux(theta=theta)\n",
    "for i, phase_curve in enumerate(phase_curves.T):\n",
    "    plt.plot(theta, phase_curve, label=i)\n",
    "plt.xlabel(r\"$\\theta$ [deg]\")\n",
    "plt.legend(title=\"wav. bin\")\n",
    "plt.ylabel(\"flux\");"
   ]
  },
  {
   "cell_type": "markdown",
   "metadata": {},
   "source": [
    "## Occultations"
   ]
  },
  {
   "cell_type": "markdown",
   "metadata": {},
   "source": [
    "We can also compute an occultation light curve:"
   ]
  },
  {
   "cell_type": "code",
   "execution_count": null,
   "metadata": {},
   "outputs": [],
   "source": [
    "t = np.linspace(-0.5, 0.5, 1000)\n",
    "xo = np.linspace(-1.5, 1.5, 1000)\n",
    "light_curves = map.flux(xo=xo, yo=0.2, ro=0.1)\n",
    "for i, light_curve in enumerate(light_curves.T):\n",
    "    plt.plot(t, light_curve / light_curve[0], label=i)\n",
    "plt.xlabel(r\"time [days]\")\n",
    "plt.legend(title=\"wav. bin\")\n",
    "plt.ylabel(\"flux [normalized]\");"
   ]
  },
  {
   "cell_type": "markdown",
   "metadata": {},
   "source": [
    "Just for fun, create a fake spectrum consisting of a few absorption lines:"
   ]
  },
  {
   "cell_type": "markdown",
   "metadata": {},
   "source": [
    "## The overall map amplitude"
   ]
  },
  {
   "cell_type": "markdown",
   "metadata": {},
   "source": [
    "It's often useful to change the overal amplitude (or luminosity) of the map at different wavelength bins. Let's say, for instance, that we have a star with the following spectrum:"
   ]
  },
  {
   "cell_type": "code",
   "execution_count": null,
   "metadata": {},
   "outputs": [],
   "source": [
    "wav = np.linspace(0, 1, 100)\n",
    "amp = np.ones(100)\n",
    "\n",
    "np.random.seed(3)\n",
    "for k in range(10):\n",
    "    sigma = 0.05 * np.random.random()\n",
    "    A = 0.1 * np.random.random()\n",
    "    mu = np.random.random()\n",
    "    amp -= A * np.exp(-0.5 * (wav - mu) ** 2 / sigma ** 2)\n",
    "\n",
    "fig, ax = plt.subplots(1, figsize=(12, 4))\n",
    "ax.plot(wav, amp)\n",
    "ax.set_xlabel(\"wavelength\", fontsize=16)\n",
    "ax.set_ylabel(\"intensity\", fontsize=16);"
   ]
  },
  {
   "cell_type": "markdown",
   "metadata": {},
   "source": [
    "Let's generate a wavelength-dependent map with 100 wavelength bins. We can set the overall amplitude of the map to be equal to this spectrum as follows:"
   ]
  },
  {
   "cell_type": "code",
   "execution_count": null,
   "metadata": {},
   "outputs": [],
   "source": [
    "map = starry.Map(ydeg=2, nw=100)\n",
    "map.amp = amp"
   ]
  },
  {
   "cell_type": "markdown",
   "metadata": {},
   "source": [
    "We can visualize it by calling the `show()` method, which will return an animation of the map stepping through the wavelength dimension:"
   ]
  },
  {
   "cell_type": "code",
   "execution_count": null,
   "metadata": {},
   "outputs": [],
   "source": [
    "map.show()"
   ]
  },
  {
   "cell_type": "markdown",
   "metadata": {},
   "source": [
    "We can also plot the flux from the map in each wavelength bin. First, note the shape of the `flux`:"
   ]
  },
  {
   "cell_type": "code",
   "execution_count": null,
   "metadata": {},
   "outputs": [],
   "source": [
    "map.flux().shape"
   ]
  },
  {
   "cell_type": "markdown",
   "metadata": {},
   "source": [
    "That's number of light curve points versus number of wavelength bins. Let's plot the total flux as a function of the wavelength:"
   ]
  },
  {
   "cell_type": "code",
   "execution_count": null,
   "metadata": {},
   "outputs": [],
   "source": [
    "fig, ax = plt.subplots(1, figsize=(12, 4))\n",
    "ax.plot(wav, map.flux().reshape(-1))\n",
    "ax.set_xlabel(\"wavelength\", fontsize=16)\n",
    "ax.set_ylabel(\"flux\", fontsize=16);"
   ]
  },
  {
   "cell_type": "markdown",
   "metadata": {},
   "source": [
    "That's our spectrum, as expected."
   ]
  },
  {
   "cell_type": "markdown",
   "metadata": {},
   "source": [
    "## Scaling"
   ]
  },
  {
   "cell_type": "markdown",
   "metadata": {},
   "source": [
    "Wavelength-dependent maps scale really well with the number of wavelength bins. Here's the evaluation time for an occultation light curve as a function of the number of wavelength bins:"
   ]
  },
  {
   "cell_type": "code",
   "execution_count": null,
   "metadata": {
    "tags": [
     "hide_input"
    ]
   },
   "outputs": [],
   "source": [
    "import time\n",
    "\n",
    "np.random.seed(1234)\n",
    "\n",
    "\n",
    "def runtime(nw, N=50):\n",
    "    total_time = 0\n",
    "    xo = np.linspace(-1.5, 1.5, 1000)\n",
    "    map = starry.Map(ydeg=2, nw=nw)\n",
    "    map[1:, :, :] = np.random.randn(8, nw)\n",
    "    elapsed = np.zeros(N)\n",
    "    for n in range(N):\n",
    "        tstart = time.time()\n",
    "        map.flux(xo=xo, yo=0.2, ro=0.1)\n",
    "        elapsed[n] = time.time() - tstart\n",
    "    return np.median(elapsed)"
   ]
  },
  {
   "cell_type": "code",
   "execution_count": null,
   "metadata": {
    "tags": [
     "hide_input"
    ]
   },
   "outputs": [],
   "source": [
    "nw = np.arange(1, 1000, 100)\n",
    "t = [runtime(n) for n in nw]"
   ]
  },
  {
   "cell_type": "code",
   "execution_count": null,
   "metadata": {
    "tags": [
     "hide_input"
    ]
   },
   "outputs": [],
   "source": [
    "plt.plot(nw, t, \"o\")\n",
    "plt.plot(nw, t, \"-\", color=\"C0\", lw=2, alpha=0.3)\n",
    "plt.xlabel(\"number of wavelength bins\")\n",
    "plt.ylabel(\"time [sec]\")\n",
    "plt.ylim(0, list(plt.gca().get_ylim())[1]);"
   ]
  }
 ],
 "metadata": {
  "celltoolbar": "Tags",
  "kernelspec": {
   "display_name": "Python 3",
   "language": "python",
   "name": "python3"
  },
  "language_info": {
   "codemirror_mode": {
    "name": "ipython",
    "version": 3
   },
   "file_extension": ".py",
   "mimetype": "text/x-python",
   "name": "python",
   "nbconvert_exporter": "python",
   "pygments_lexer": "ipython3",
   "version": "3.7.4"
  }
 },
 "nbformat": 4,
 "nbformat_minor": 2
}
