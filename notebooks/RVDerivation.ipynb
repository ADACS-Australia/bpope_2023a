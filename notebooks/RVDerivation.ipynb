{
 "cells": [
  {
   "cell_type": "markdown",
   "metadata": {},
   "source": [
    "# Derivation of the radial velocity field expansion"
   ]
  },
  {
   "cell_type": "code",
   "execution_count": null,
   "metadata": {
    "tags": [
     "hide_input"
    ]
   },
   "outputs": [],
   "source": [
    "%run notebook_setup.py"
   ]
  },
  {
   "cell_type": "markdown",
   "metadata": {},
   "source": [
    "In this notebook, we'll derive how to express the radial velocity field of a star at an arbitrary orientation on the sky in terms of spherical harmonics. This allows us to use `starry` to model the Rossiter-McLaughlin waveform **analytically**!"
   ]
  },
  {
   "cell_type": "markdown",
   "metadata": {},
   "source": [
    "First, let's import some stuff. We'll use `sympy` for the derivations."
   ]
  },
  {
   "cell_type": "code",
   "execution_count": null,
   "metadata": {},
   "outputs": [],
   "source": [
    "import numpy as np\n",
    "from IPython.display import display, Math\n",
    "import sympy\n",
    "from sympy import *\n",
    "from sympy.functions.special.tensor_functions import KroneckerDelta\n",
    "\n",
    "print(\"Using sympy version\", sympy.__version__)\n",
    "\n",
    "# Initialize the session\n",
    "init_session(quiet=True)\n",
    "\n",
    "# Define our symbols\n",
    "x, y, z, mu, nu, l, m, j, k, p, q, n, A, B, C, alpha, omeq = symbols(\n",
    "    \"x y z mu nu l m j k p q n A B C alpha \\omega_{eq}\"\n",
    ")"
   ]
  },
  {
   "cell_type": "markdown",
   "metadata": {},
   "source": [
    "## The radial velocity field of a star"
   ]
  },
  {
   "cell_type": "markdown",
   "metadata": {},
   "source": [
    "The polynomial describing the radial component of the velocity field on the projected disk of a star is given by ([Short et al. 2018](https://arxiv.org/abs/1810.09565))\n",
    "\n",
    "$f(\\mathbf{x}, \\mathbf{y}, \\mathbf{z}) = \\omega_{eq}(A\\mathbf{x} + B\\mathbf{y})(1 - \\alpha(-B\\mathbf{x} + A\\mathbf{y} + C\\mathbf{z})^2)$\n",
    "\n",
    "where \n",
    "\n",
    "$A = \\sin(i)\\cos(\\lambda)$\n",
    "\n",
    "$B = \\sin(i)\\sin(\\lambda)$\n",
    "\n",
    "$C = \\cos(i)$\n",
    "\n",
    "and $i$ and $\\lambda$ are the stellar inclination and obliquity, respectively. The constant $\\alpha$ is the shear due to differential rotation. We are assuming a simple linear shear according to the following equation:\n",
    "\n",
    "$\\omega = \\omega_{eq}(1 - \\alpha \\sin^2\\theta)$,\n",
    "\n",
    "where $\\omega$ is the angular rotational velocity at a point on the surface, $\\omega_{eq}$ is the velocity at the equator, and $\\theta$ is the polar angle (latitude)."
   ]
  },
  {
   "cell_type": "markdown",
   "metadata": {},
   "source": [
    "## Let's expand this function"
   ]
  },
  {
   "cell_type": "markdown",
   "metadata": {},
   "source": [
    "If we expand all the products in $f$, we can write it as a dot product of a polynomial coefficient vector and the polynomial basis defined in Luger et al. (2018):"
   ]
  },
  {
   "cell_type": "code",
   "execution_count": null,
   "metadata": {},
   "outputs": [],
   "source": [
    "def poly_basis(n, x, y):\n",
    "    \"\"\"Return the n^th term in the polynomial basis.\"\"\"\n",
    "    l = Rational(floor(sqrt(n)))\n",
    "    m = Rational(n - l * l - l)\n",
    "    mu = Rational(l - m)\n",
    "    nu = Rational(l + m)\n",
    "    if nu % 2 == 0:\n",
    "        i = Rational(mu, 2)\n",
    "        j = Rational(nu, 2)\n",
    "        k = Rational(0)\n",
    "    else:\n",
    "        i = Rational(mu - 1, 2)\n",
    "        j = Rational(nu - 1, 2)\n",
    "        k = Rational(1)\n",
    "    return x ** i * y ** j * sqrt(1 - x ** 2 - y ** 2) ** k\n",
    "\n",
    "\n",
    "# Compute the polynomial basis\n",
    "basis = Matrix([poly_basis(n, x, y) for n in range(16)]).T"
   ]
  },
  {
   "cell_type": "markdown",
   "metadata": {},
   "source": [
    "Here's what the polynomial basis looks like (recall that $z = \\sqrt{1 - x^2 - y^2}$):"
   ]
  },
  {
   "cell_type": "code",
   "execution_count": null,
   "metadata": {},
   "outputs": [],
   "source": [
    "basis"
   ]
  },
  {
   "cell_type": "markdown",
   "metadata": {},
   "source": [
    "And here's the function we wish to express:"
   ]
  },
  {
   "cell_type": "code",
   "execution_count": null,
   "metadata": {},
   "outputs": [],
   "source": [
    "f = (\n",
    "    omeq\n",
    "    * (A * x + B * y)\n",
    "    * (1 - alpha * (-B * x + A * y + C * sqrt(1 - x ** 2 - y ** 2)) ** 2)\n",
    ")\n",
    "f"
   ]
  },
  {
   "cell_type": "markdown",
   "metadata": {},
   "source": [
    "We can use `sympy` to figure out the (exact) representation of `f` in the polynomial basis:"
   ]
  },
  {
   "cell_type": "code",
   "execution_count": null,
   "metadata": {},
   "outputs": [],
   "source": [
    "def Coefficient(expression, term):\n",
    "    \"\"\"Return the coefficient multiplying `term` in `expression`.\"\"\"\n",
    "    # Get the coefficient\n",
    "    coeff = expression.coeff(term)\n",
    "    # Set any non-constants in this coefficient to zero. If the coefficient\n",
    "    # is not a constant, this is not the term we are interested in!\n",
    "    coeff = coeff.subs(sqrt(1 - x ** 2 - y ** 2), 0).subs(x, 0).subs(y, 0)\n",
    "    return coeff\n",
    "\n",
    "\n",
    "vec = Matrix([Coefficient(expand(f), term) for term in basis])\n",
    "vec"
   ]
  },
  {
   "cell_type": "markdown",
   "metadata": {},
   "source": [
    "We can check that dotting this vector with the polynomial basis yields the original function $f$:"
   ]
  },
  {
   "cell_type": "code",
   "execution_count": null,
   "metadata": {},
   "outputs": [],
   "source": [
    "simplify(factor(basis.dot(vec)) - f) == 0"
   ]
  },
  {
   "cell_type": "markdown",
   "metadata": {},
   "source": [
    "## Now let's represent it in terms of spherical harmonics"
   ]
  },
  {
   "cell_type": "markdown",
   "metadata": {},
   "source": [
    "Now that we have the vector of polynomial coefficients `vec`, we want to apply a change-of-basis transformation to figure out their (exact) representation in terms of spherical harmonics.\n",
    "\n",
    "As in Luger et al. (2018), let's compute the change of basis matrix from polynomials to spherical harmonic coefficients. This is the inverse of the $A_1$ matrix introduced in Luger et al. (2018). Note that it includes the normalization of $\\frac{2}{\\sqrt{\\pi}}$ used internally by `starry`."
   ]
  },
  {
   "cell_type": "code",
   "execution_count": null,
   "metadata": {},
   "outputs": [],
   "source": [
    "def SA(l, m):\n",
    "    \"\"\"A spherical harmonic normalization constant.\"\"\"\n",
    "    return sqrt(\n",
    "        (2 - KroneckerDelta(m, 0))\n",
    "        * (2 * l + 1)\n",
    "        * factorial(l - m)\n",
    "        / (4 * pi * factorial(l + m))\n",
    "    )\n",
    "\n",
    "\n",
    "def SB(l, m, j, k):\n",
    "    \"\"\"Another spherical harmonic normalization constant.\"\"\"\n",
    "    try:\n",
    "        ratio = factorial(Rational(l + m + k - 1, 2)) / factorial(\n",
    "            Rational(-l + m + k - 1, 2)\n",
    "        )\n",
    "    except ValueError:\n",
    "        ratio = 0\n",
    "    res = (\n",
    "        2 ** l\n",
    "        * Rational(\n",
    "            factorial(m),\n",
    "            (factorial(j) * factorial(k) * factorial(m - j) * factorial(l - m - k)),\n",
    "        )\n",
    "        * ratio\n",
    "    )\n",
    "    return simplify(res)\n",
    "\n",
    "\n",
    "def SC(p, q, k):\n",
    "    \"\"\"Return the binomial theorem coefficient `C`.\"\"\"\n",
    "    res = factorial(Rational(k, 2)) / (\n",
    "        factorial(Rational(q, 2))\n",
    "        * factorial(Rational(k - p, 2))\n",
    "        * factorial(Rational(p - q, 2))\n",
    "    )\n",
    "    return simplify(res)\n",
    "\n",
    "\n",
    "def Y(l, m, x, y):\n",
    "    \"\"\"Return the spherical harmonic of degree `l` and order `m`.\"\"\"\n",
    "    res = 0\n",
    "    z = sqrt(1 - x ** 2 - y ** 2)\n",
    "    if m >= 0:\n",
    "        for j in range(0, m + 1, 2):\n",
    "            for k in range(0, l - m + 1, 2):\n",
    "                for p in range(0, k + 1, 2):\n",
    "                    for q in range(0, p + 1, 2):\n",
    "                        res += (\n",
    "                            (-1) ** ((j + p) // 2)\n",
    "                            * SA(l, m)\n",
    "                            * SB(l, m, j, k)\n",
    "                            * SC(p, q, k)\n",
    "                            * x ** (m - j + p - q)\n",
    "                            * y ** (j + q)\n",
    "                        )\n",
    "            for k in range(1, l - m + 1, 2):\n",
    "                for p in range(0, k, 2):\n",
    "                    for q in range(0, p + 1, 2):\n",
    "                        res += (\n",
    "                            (-1) ** ((j + p) // 2)\n",
    "                            * SA(l, m)\n",
    "                            * SB(l, m, j, k)\n",
    "                            * SC(p, q, k - 1)\n",
    "                            * x ** (m - j + p - q)\n",
    "                            * y ** (j + q)\n",
    "                            * z\n",
    "                        )\n",
    "    else:\n",
    "        for j in range(1, abs(m) + 1, 2):\n",
    "            for k in range(0, l - abs(m) + 1, 2):\n",
    "                for p in range(0, k + 1, 2):\n",
    "                    for q in range(0, p + 1, 2):\n",
    "                        res += (\n",
    "                            (-1) ** ((j + p - 1) // 2)\n",
    "                            * SA(l, abs(m))\n",
    "                            * SB(l, abs(m), j, k)\n",
    "                            * SC(p, q, k)\n",
    "                            * x ** (abs(m) - j + p - q)\n",
    "                            * y ** (j + q)\n",
    "                        )\n",
    "            for k in range(1, l - abs(m) + 1, 2):\n",
    "                for p in range(0, k, 2):\n",
    "                    for q in range(0, p + 1, 2):\n",
    "                        res += (\n",
    "                            (-1) ** ((j + p - 1) // 2)\n",
    "                            * SA(l, abs(m))\n",
    "                            * SB(l, abs(m), j, k)\n",
    "                            * SC(p, q, k - 1)\n",
    "                            * x ** (abs(m) - j + p - q)\n",
    "                            * y ** (j + q)\n",
    "                            * z\n",
    "                        )\n",
    "\n",
    "    return res\n",
    "\n",
    "\n",
    "def p_Y(l, m, lmax):\n",
    "    \"\"\"Return the polynomial basis representation of the spherical harmonic `Y_{lm}`.\"\"\"\n",
    "    ylm = Y(l, m, x, y)\n",
    "    res = [ylm.subs(sqrt(1 - x ** 2 - y ** 2), 0).subs(x, 0).subs(y, 0)]\n",
    "    for n in range(1, (lmax + 1) ** 2):\n",
    "        res.append(Coefficient(ylm, poly_basis(n, x, y)))\n",
    "    return res\n",
    "\n",
    "\n",
    "def A1(lmax, norm=2 / sqrt(pi)):\n",
    "    \"\"\"Return the change of basis matrix A1. The columns of this matrix are given by `p_Y`.\"\"\"\n",
    "    res = zeros((lmax + 1) ** 2, (lmax + 1) ** 2)\n",
    "    n = 0\n",
    "    for l in range(lmax + 1):\n",
    "        for m in range(-l, l + 1):\n",
    "            res[n] = p_Y(l, m, lmax)\n",
    "            n += 1\n",
    "    return res * norm"
   ]
  },
  {
   "cell_type": "markdown",
   "metadata": {},
   "source": [
    "We can now evaluate the change of basis matrix from spherical harmonic coefficients to polynomials, $A_1$ for $l_\\mathrm{max} = 3$. We then take the inverse to go from polynomial coeffiecients to $Y_{lm}$ coefficients:"
   ]
  },
  {
   "cell_type": "code",
   "execution_count": null,
   "metadata": {},
   "outputs": [],
   "source": [
    "M = Matrix(A1(3)).inv()\n",
    "M"
   ]
  },
  {
   "cell_type": "markdown",
   "metadata": {},
   "source": [
    "## The end result"
   ]
  },
  {
   "cell_type": "markdown",
   "metadata": {},
   "source": [
    "We can finally compute the spherical harmonic coefficients of the function $f$:"
   ]
  },
  {
   "cell_type": "code",
   "execution_count": null,
   "metadata": {},
   "outputs": [],
   "source": [
    "ycoeffs = simplify(M * vec)\n",
    "ycoeffs"
   ]
  },
  {
   "cell_type": "markdown",
   "metadata": {},
   "source": [
    "Note that this is the **exact** spherical harmonic representation of the function `f`."
   ]
  },
  {
   "cell_type": "markdown",
   "metadata": {},
   "source": [
    "## Interactive visualization"
   ]
  },
  {
   "cell_type": "markdown",
   "metadata": {},
   "source": [
    "Below you can interactively see how different velocity profiles affect the Rossiter-McLaughlin waveform. We coded up a simple Jupyter widget to visualize the RM effect with `starry`. Try to find the parameters that best fit the measured RV data for the hot jupiter host HD 189733!"
   ]
  },
  {
   "cell_type": "raw",
   "metadata": {
    "raw_mimetype": "text/restructuredtext"
   },
   "source": [
    ".. note::\n",
    "   Please load the notebook to enable interactivity."
   ]
  },
  {
   "cell_type": "code",
   "execution_count": null,
   "metadata": {
    "tags": [
     "hide_input",
     "hide_output"
    ]
   },
   "outputs": [],
   "source": [
    "from ipywidgets import interact, interactive, fixed, interact_manual\n",
    "import ipywidgets as widgets\n",
    "from ipywidgets import Layout\n",
    "import matplotlib.pyplot as plt\n",
    "import starry\n",
    "\n",
    "starry.config.lazy = False\n",
    "starry.config.quiet = True\n",
    "\n",
    "vslider = widgets.FloatSlider(\n",
    "    value=5.0,\n",
    "    min=0.1,\n",
    "    max=10.0,\n",
    "    step=0.01,\n",
    "    description=r\"$v_\\mathrm{eq}$ [km / s]:\",\n",
    "    disabled=False,\n",
    "    continuous_update=False,\n",
    "    orientation=\"horizontal\",\n",
    "    readout=True,\n",
    "    readout_format=\".2f\",\n",
    "    layout=Layout(width=\"40%\"),\n",
    ")\n",
    "\n",
    "oslider = widgets.FloatSlider(\n",
    "    value=-0.50,\n",
    "    min=-90,\n",
    "    max=90.0,\n",
    "    step=0.1,\n",
    "    description=r\"$\\lambda$ [deg]:\",\n",
    "    disabled=False,\n",
    "    continuous_update=False,\n",
    "    orientation=\"horizontal\",\n",
    "    readout=True,\n",
    "    readout_format=\".1f\",\n",
    "    layout=Layout(width=\"40%\"),\n",
    ")\n",
    "\n",
    "islider = widgets.FloatSlider(\n",
    "    value=80,\n",
    "    min=1,\n",
    "    max=179.0,\n",
    "    step=0.1,\n",
    "    description=r\"$i$ [deg]:\",\n",
    "    disabled=False,\n",
    "    continuous_update=False,\n",
    "    orientation=\"horizontal\",\n",
    "    readout=True,\n",
    "    readout_format=\".1f\",\n",
    "    layout=Layout(width=\"40%\"),\n",
    ")\n",
    "\n",
    "aslider = widgets.FloatSlider(\n",
    "    value=0.65,\n",
    "    min=0,\n",
    "    max=1.0,\n",
    "    step=0.01,\n",
    "    description=r\"$\\alpha$:\",\n",
    "    disabled=False,\n",
    "    continuous_update=False,\n",
    "    orientation=\"horizontal\",\n",
    "    readout=True,\n",
    "    readout_format=\".2f\",\n",
    "    layout=Layout(width=\"40%\"),\n",
    ")\n",
    "\n",
    "u1slider = widgets.FloatSlider(\n",
    "    value=1.50,\n",
    "    min=0.0,\n",
    "    max=2.0,\n",
    "    step=0.01,\n",
    "    description=r\"$u_1$:\",\n",
    "    disabled=False,\n",
    "    continuous_update=False,\n",
    "    orientation=\"horizontal\",\n",
    "    readout=True,\n",
    "    readout_format=\".2f\",\n",
    "    layout=Layout(width=\"40%\"),\n",
    ")\n",
    "\n",
    "u2slider = widgets.FloatSlider(\n",
    "    value=-0.54,\n",
    "    min=-1.0,\n",
    "    max=1.0,\n",
    "    step=0.01,\n",
    "    description=r\"$u_2$:\",\n",
    "    disabled=False,\n",
    "    continuous_update=False,\n",
    "    orientation=\"horizontal\",\n",
    "    readout=True,\n",
    "    readout_format=\".2f\",\n",
    "    layout=Layout(width=\"40%\"),\n",
    ")\n",
    "\n",
    "yslider = widgets.FloatSlider(\n",
    "    value=-0.66,\n",
    "    min=-1.0,\n",
    "    max=1.0,\n",
    "    step=0.01,\n",
    "    description=r\"$b$:\",\n",
    "    disabled=False,\n",
    "    continuous_update=False,\n",
    "    orientation=\"horizontal\",\n",
    "    readout=True,\n",
    "    readout_format=\".2f\",\n",
    "    layout=Layout(width=\"40%\"),\n",
    ")\n",
    "\n",
    "rslider = widgets.FloatSlider(\n",
    "    value=0.158,\n",
    "    min=0.01,\n",
    "    max=0.5,\n",
    "    step=0.001,\n",
    "    description=r\"$r / R_\\star$:\",\n",
    "    disabled=False,\n",
    "    continuous_update=False,\n",
    "    orientation=\"horizontal\",\n",
    "    readout=True,\n",
    "    readout_format=\".3f\",\n",
    "    layout=Layout(width=\"40%\"),\n",
    ")\n",
    "\n",
    "\n",
    "# RV data for HD 189733 from M. Bedell, corrected for the baseline\n",
    "xo_189, rv_189 = np.array(\n",
    "    [\n",
    "        (-1.610613874961608571e00, -9.981225587125663878e-01),\n",
    "        (-1.516819480458127867e00, -9.714511071633751271e-01),\n",
    "        (-1.424288949323776032e00, 6.320045379397924989e-01),\n",
    "        (-1.327854659861453346e00, 5.854148371854535071e-01),\n",
    "        (-1.232414426212717684e00, -1.336544425081228837e00),\n",
    "        (-1.135673041276108242e00, 8.028719313260808121e-01),\n",
    "        (-1.039663090115350963e00, -7.792463171881536255e-01),\n",
    "        (-9.455579835532572641e-01, 1.453737600349995773e00),\n",
    "        (-8.467048139722169742e-01, 4.792210501625959296e00),\n",
    "        (-7.477458584637551864e-01, 1.599068367822837899e01),\n",
    "        (-6.553772659628724906e-01, 2.568976397998631001e01),\n",
    "        (-5.591570578315693263e-01, 3.354680499304413388e01),\n",
    "        (-4.625798890680289377e-01, 3.502869252636628516e01),\n",
    "        (-3.650748292997558764e-01, 3.120010282560906489e01),\n",
    "        (-2.704380165973445105e-01, 2.425808674314976088e01),\n",
    "        (-1.722747673202078555e-01, 1.747718457640439738e01),\n",
    "        (-7.671271240261887114e-02, 7.868697041703853756e00),\n",
    "        (1.885820039767528364e-02, -1.486790492997897672e00),\n",
    "        (1.155924921815155992e-01, -1.257290268435099279e01),\n",
    "        (2.120216221213046814e-01, -2.145286194661639456e01),\n",
    "        (3.092993853335966881e-01, -2.891529266112229379e01),\n",
    "        (4.068310542953758047e-01, -3.485288236187807343e01),\n",
    "        (5.022774536703960013e-01, -3.813336989657727827e01),\n",
    "        (5.965030311267133234e-01, -3.469222671746319975e01),\n",
    "        (6.955993594669751534e-01, -2.537275959802173020e01),\n",
    "        (7.890948706217063569e-01, -1.200930395291834429e01),\n",
    "        (8.859815670714117353e-01, -4.065734667423384963e00),\n",
    "        (9.792870073717533375e-01, -1.655279022319518845e00),\n",
    "        (1.078846540640843621e00, -2.328277573282321100e00),\n",
    "        (1.172781349728483358e00, -1.592293655745379510e00),\n",
    "        (1.266294524861562687e00, -8.531562584666971816e-01),\n",
    "        (1.367439231357534979e00, -7.712511936460941797e-01),\n",
    "        (1.658284285150540383e00, -1.439270159869920462e00),\n",
    "        (1.761221193029112841e00, -1.678779727093569818e00),\n",
    "        (1.853084956802548033e00, -2.067330139152545598e00),\n",
    "        (1.948154374912242304e00, -1.369754796494817128e00),\n",
    "        (2.037885209964362065e00, 1.118637971248972462e00),\n",
    "        (2.137297896820141041e00, -5.354630210913455812e-01),\n",
    "        (2.226274259361801011e00, 1.665095065392961260e00),\n",
    "        (2.322326451882745779e00, 1.192561909507276141e00),\n",
    "    ]\n",
    ").T\n",
    "\n",
    "# Create the global starry maps\n",
    "map = starry.Map(ydeg=0, udeg=2, rv=True)\n",
    "\n",
    "# Force compile some functions\n",
    "map.rv()\n",
    "map.render()\n",
    "\n",
    "\n",
    "def visualize_func(veq=1, inc=90, obl=0, alpha=0, u1=0, u2=0, yo=0, ro=0.1):\n",
    "    \"\"\"Interactive visualization of the RM effect.\"\"\"\n",
    "    # Map resolution for plotting\n",
    "    res = 300\n",
    "\n",
    "    # Set the map coefficients\n",
    "    map[1] = u1\n",
    "    map[2] = u2\n",
    "    map.inc = inc\n",
    "    map.obl = obl\n",
    "    map.alpha = alpha\n",
    "    map.veq = veq * 1e3\n",
    "\n",
    "    # Check if LD is physical\n",
    "    if (u1 + u2) > 1 or (u1 + 2 * u2) < 0 or u1 < 0:\n",
    "        u1slider.style.handle_color = \"#FF0000\"\n",
    "        u2slider.style.handle_color = \"#FF0000\"\n",
    "    else:\n",
    "        u1slider.style.handle_color = \"#FFFFFF\"\n",
    "        u2slider.style.handle_color = \"#FFFFFF\"\n",
    "\n",
    "    # Plot the brightness-weighted velocity field\n",
    "    img = map.render(rv=True, res=res) * (np.pi / 1.0e3)\n",
    "    fig = plt.figure(figsize=(15, 8))\n",
    "    axim = plt.axes((0, 0.05, 0.3, 0.8))\n",
    "    axcb = plt.axes((0, 0.85, 0.3, 0.03))\n",
    "    axrm = plt.axes((0.4, 0.20, 0.6, 0.5))\n",
    "    im = axim.imshow(\n",
    "        img, cmap=\"RdBu_r\", origin=\"lower\", vmin=-veq, vmax=veq, extent=(-1, 1, -1, 1)\n",
    "    )\n",
    "    cb = plt.colorbar(im, orientation=\"horizontal\", cax=axcb)\n",
    "    cb.ax.set_xlabel(\"Radial velocity [km / s]\")\n",
    "    axim.contour(\n",
    "        img,\n",
    "        origin=\"lower\",\n",
    "        levels=np.linspace(-veq, veq, 20),\n",
    "        colors=[\"k\" for i in range(20)],\n",
    "        alpha=0.25,\n",
    "        extent=(-1, 1, -1, 1),\n",
    "    )\n",
    "    axim.axis(\"off\")\n",
    "    axim.set_aspect(1)\n",
    "    axim.axhline(yo, color=\"k\", alpha=0.5)\n",
    "    axim.axhline(yo + 0.5 * ro, color=\"k\", ls=\"--\", alpha=0.5)\n",
    "    axim.axhline(yo - 0.5 * ro, color=\"k\", ls=\"--\", alpha=0.5)\n",
    "\n",
    "    # Compute the RM effect amplitude\n",
    "    xo = np.linspace(-1 - 2 * ro, 1 + 2 * ro, 1000)\n",
    "    RM = map.rv(xo=xo, yo=yo, ro=ro)\n",
    "\n",
    "    # Plot it\n",
    "    axrm.plot(xo, RM)\n",
    "    axrm.set_xlabel(r\"Occultor x position [$R_\\star$]\", fontsize=16)\n",
    "    axrm.set_ylabel(\"Radial velocity [m /s]\", fontsize=16)\n",
    "    axrm.set_title(\"The Rossiter-McLaughlin effect\", fontsize=20)\n",
    "    axrm.plot(xo_189, rv_189, \".\")\n",
    "\n",
    "\n",
    "def visualize():\n",
    "    return interact(\n",
    "        visualize_func,\n",
    "        veq=vslider,\n",
    "        inc=islider,\n",
    "        obl=oslider,\n",
    "        alpha=aslider,\n",
    "        u1=u1slider,\n",
    "        u2=u2slider,\n",
    "        yo=yslider,\n",
    "        ro=rslider,\n",
    "    )\n",
    "\n",
    "\n",
    "visualize();"
   ]
  },
  {
   "cell_type": "markdown",
   "metadata": {},
   "source": [
    "## One possible solution"
   ]
  },
  {
   "cell_type": "markdown",
   "metadata": {},
   "source": [
    "The following values should get you a pretty good fit. They are close to the means of the posterior distributions when we do a full MCMC fit of the dataset, but they are probably not the \"true\" values."
   ]
  },
  {
   "cell_type": "markdown",
   "metadata": {},
   "source": [
    "| Parameter | Value |\n",
    "| --- | --- |\n",
    "| $v_{eq}$  | 5.00  |\n",
    "|$\\lambda$  | -0.50 |\n",
    "|$i$        | 80.0  |\n",
    "|$\\alpha$   | 0.65  |\n",
    "|$u_1$      | 1.50  |\n",
    "|$u_2$      | -0.54 |\n",
    "|$b$        | -0.66 |\n",
    "|$r/R_\\star$|  0.158|"
   ]
  }
 ],
 "metadata": {
  "celltoolbar": "Tags",
  "kernelspec": {
   "display_name": "Python 3",
   "language": "python",
   "name": "python3"
  },
  "language_info": {
   "codemirror_mode": {
    "name": "ipython",
    "version": 3
   },
   "file_extension": ".py",
   "mimetype": "text/x-python",
   "name": "python",
   "nbconvert_exporter": "python",
   "pygments_lexer": "ipython3",
   "version": "3.7.4"
  }
 },
 "nbformat": 4,
 "nbformat_minor": 2
}
