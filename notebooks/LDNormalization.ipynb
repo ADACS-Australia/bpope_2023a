{
 "cells": [
  {
   "cell_type": "code",
   "execution_count": null,
   "metadata": {
    "tags": [
     "hide_input"
    ]
   },
   "outputs": [],
   "source": [
    "%matplotlib inline\n",
    "%config InlineBackend.figure_format='retina'"
   ]
  },
  {
   "cell_type": "markdown",
   "metadata": {
    "tutorial": true
   },
   "source": [
    "# Notes on limb darkening normalization\n",
    "\n",
    "This notebook discusses a major change in how limb darkening is applied to spherical harmonic maps in `starry v1.0.0`. As we will see, we had a serious thinko in the beta version (`<= v0.3.0`) of the code. Note that these changes **do not** affect purely limb-darkened maps (i.e., transits across limb-darkened but otherwise uniform stars)."
   ]
  },
  {
   "cell_type": "code",
   "execution_count": null,
   "metadata": {
    "nbsphinx": "hidden",
    "tags": [
     "hide_input",
     "hide_output"
    ]
   },
   "outputs": [],
   "source": [
    "# Install the beta version if needed\n",
    "try:\n",
    "    import starry_beta as starry\n",
    "except:\n",
    "    !pip install starry_beta"
   ]
  },
  {
   "cell_type": "code",
   "execution_count": null,
   "metadata": {},
   "outputs": [],
   "source": [
    "import numpy as np\n",
    "import matplotlib.pyplot as plt\n",
    "import starry_beta as starry\n",
    "\n",
    "print(\"Using starry version %s\" % starry.__version__)"
   ]
  },
  {
   "cell_type": "code",
   "execution_count": null,
   "metadata": {
    "tags": [
     "hide_input"
    ]
   },
   "outputs": [],
   "source": [
    "from ipywidgets import Image\n",
    "from IPython import display\n",
    "import os\n",
    "\n",
    "\n",
    "def animate(map, **kwargs):\n",
    "    map.animate(gif=\"tmp.gif\")\n",
    "    with open(\"tmp.gif\", \"rb\") as f:\n",
    "        img = Image(value=f.read(), format=\"gif\", width=300, height=300)\n",
    "        display.display(img)\n",
    "    os.remove(\"tmp.gif\")"
   ]
  },
  {
   "cell_type": "markdown",
   "metadata": {},
   "source": [
    "Consider a dipole map with a small DC offset. Let's instantiate it with the original version of `starry` and take a look at the rendered map."
   ]
  },
  {
   "cell_type": "code",
   "execution_count": null,
   "metadata": {},
   "outputs": [],
   "source": [
    "map = starry.Map()\n",
    "map[0, 0] = 0.01\n",
    "map[1, 0] = 1"
   ]
  },
  {
   "cell_type": "code",
   "execution_count": null,
   "metadata": {
    "tags": [
     "hide_input"
    ]
   },
   "outputs": [],
   "source": [
    "animate(map)"
   ]
  },
  {
   "cell_type": "markdown",
   "metadata": {},
   "source": [
    "Cool. Now let's add strong linear limb darkening:"
   ]
  },
  {
   "cell_type": "code",
   "execution_count": null,
   "metadata": {},
   "outputs": [],
   "source": [
    "map[1] = 1"
   ]
  },
  {
   "cell_type": "code",
   "execution_count": null,
   "metadata": {
    "tags": [
     "hide_input"
    ]
   },
   "outputs": [],
   "source": [
    "animate(map)"
   ]
  },
  {
   "cell_type": "markdown",
   "metadata": {},
   "source": [
    "Looks reasonable. However, things get really weird if we increase the DC offset:"
   ]
  },
  {
   "cell_type": "code",
   "execution_count": null,
   "metadata": {},
   "outputs": [],
   "source": [
    "map[0, 0] = 1"
   ]
  },
  {
   "cell_type": "code",
   "execution_count": null,
   "metadata": {
    "tags": [
     "hide_input"
    ]
   },
   "outputs": [],
   "source": [
    "animate(map)"
   ]
  },
  {
   "cell_type": "markdown",
   "metadata": {},
   "source": [
    "What's going on? The image is actually fine most of the time, but at two distinct phases, the specific intensity across the map becomes very, very large. The reason for this is that in the first release of `starry` (`v0.2.2`), the limb darkening normalization was unphysical.\n",
    "\n",
    "Traditional limb darkening laws tell you how the specific intensity scales with the projected radius on the disk, but only up to an unknown normalization constant. In other words, the laws all tell you what $\\frac{I(x, y)}{I_0}$ is, but what we really want to know is $I(x, y)$.\n",
    "\n",
    "In `starry 0.2.2`, we made the (somewhat reasonable) assumption that limb darkening should not affect the total disk-integrated flux. In other words, limb darkening should only **re-arrange** the intensity on the surface of the visible disk, making the edges darker and the center brighter. But if you integrate over the entire disk you should get the same number -- the total flux coming from the object -- no matter what limb darkening coefficients you use.\n",
    "\n",
    "And that makes perfect sense for stars with uniform photospheric emission, since it follows from the idea that the star should appear the same from all vantage points. If I were to turn on limb darkening and the flux I measure (say) decreased, it would have to decrease for **all** observers throughout the universe. But that would mean the total luminosity of the star decreased, which is unphysical. (If limb darkening actually did decrease the total luminosity of a star, the star wouldn't be in thermodynamic equilibrium. And since it would be producing more energy than it was radiating, it would have to heat up, until its luminosity returned to the original value.) We therefore assumed that the normalization constant was such that the total flux seen by an observer had to remain unchanged.\n",
    "\n",
    "Again, that works well for stars, but it actually **fails for bodies whose surfaces are not uniform.** The animation above is the perfect example. But why?"
   ]
  },
  {
   "cell_type": "markdown",
   "metadata": {},
   "source": [
    "Let's dig in by actually computing fluxes the old-fashioned way: by pixelizing the surface of the body and summing pixels. Below we'll manually compute the rotational light curve of the dipole map above with and without limb darkening. But we won't apply the normalization just yet."
   ]
  },
  {
   "cell_type": "code",
   "execution_count": null,
   "metadata": {},
   "outputs": [],
   "source": [
    "# Generate a map with no limb darkening\n",
    "# (we will add it in manually)\n",
    "map = starry.Map()\n",
    "map[0, 0] = 1\n",
    "map[1, 0] = 1\n",
    "\n",
    "# Let's evaluate the specific intensity\n",
    "# on a grid with this resolution...\n",
    "res = 75\n",
    "\n",
    "# ... over this grid of theta values\n",
    "ntheta = 100\n",
    "theta = np.linspace(0, 360, ntheta)\n",
    "\n",
    "# We will compute the total flux...\n",
    "flux = np.zeros_like(theta)\n",
    "\n",
    "# ... as well as the total flux for\n",
    "# a linearly limb-darkened map, **without**\n",
    "# applying the traditional normalization\n",
    "flux_ld = np.zeros_like(theta)\n",
    "\n",
    "# Loop over theta and the xy position on the disk\n",
    "for i in range(ntheta):\n",
    "    for x in np.linspace(-1, 1, res):\n",
    "        for y in np.linspace(-1, 1, res):\n",
    "            I = map(x=x, y=y, theta=theta[i])\n",
    "            if not np.isnan(I):\n",
    "                # Flux\n",
    "                flux[i] += I\n",
    "\n",
    "                # Limb-darkened flux\n",
    "                z = np.sqrt(1 - x ** 2 - y ** 2)\n",
    "                flux_ld[i] += I * z\n",
    "\n",
    "flux *= 4 / res ** 2\n",
    "flux_ld *= 4 / res ** 2"
   ]
  },
  {
   "cell_type": "code",
   "execution_count": null,
   "metadata": {},
   "outputs": [],
   "source": [
    "fig = plt.figure(figsize=(15, 6))\n",
    "plt.plot(theta, flux, label=\"dipole\")\n",
    "plt.plot(theta, flux_ld, label=\"limb-darkened dipole\")\n",
    "plt.legend(fontsize=12);"
   ]
  },
  {
   "cell_type": "markdown",
   "metadata": {},
   "source": [
    "We can clearly see the effect of limb darkening: the disk-integrated flux has dropped everywhere, meaning the actual luminosity of the object decreased. That's not physical, so we **do** need a normalization. What we used to do in `starry` was to multiply the limb-darkened map by the ratio of the two curves in the plot above, as this would (by construction) preserve the disk-integrated flux everywhere.\n",
    "\n",
    "And this works well most of the time, but notice that the two curves cross `y=0` at *different* phases, so we're bound to get some wacky divisions by very small numbers. Here's the ratio of the two curves:"
   ]
  },
  {
   "cell_type": "code",
   "execution_count": null,
   "metadata": {},
   "outputs": [],
   "source": [
    "fig = plt.figure(figsize=(15, 6))\n",
    "ratio = flux_ld / flux\n",
    "plt.plot(theta, ratio, label=\"flux ratio\")\n",
    "plt.legend(fontsize=12);"
   ]
  },
  {
   "cell_type": "markdown",
   "metadata": {},
   "source": [
    "The normalization is roughly constant for most phases, but it diverges near phases of 150 and 210 degrees. Let's look at the maps we get in the vicinity of 150 degrees:"
   ]
  },
  {
   "cell_type": "code",
   "execution_count": null,
   "metadata": {},
   "outputs": [],
   "source": [
    "# Loop over theta and the xy position on the disk\n",
    "fig, ax = plt.subplots(1, 7, figsize=(16, 4))\n",
    "n = 0\n",
    "for i in range(38, 45):\n",
    "    I = np.empty((res, res))\n",
    "    for k, x in enumerate(np.linspace(-1, 1, res)):\n",
    "        for j, y in enumerate(np.linspace(-1, 1, res)):\n",
    "            I[j, k] = map(x=x, y=y, theta=theta[i])\n",
    "            if not np.isnan(I[j, k]):\n",
    "                I[j, k] *= np.sqrt(1 - x ** 2 - y ** 2)\n",
    "    ax[n].imshow(I * ratio[i], vmin=-0.5, vmax=0.5)\n",
    "    ax[n].axis(\"off\")\n",
    "    ax[n].set_title(\"%.2d\" % theta[i])\n",
    "    n += 1"
   ]
  },
  {
   "cell_type": "markdown",
   "metadata": {},
   "source": [
    "As expected, things go crazy near 150 degrees. The normalization in `starry < v1.0.0` is therefore **not** the way to go."
   ]
  },
  {
   "cell_type": "markdown",
   "metadata": {},
   "source": [
    "## A better normalization"
   ]
  },
  {
   "cell_type": "markdown",
   "metadata": {},
   "source": [
    "A better way to normalize is to go back to the very principle that motivated the need for normalization in the first place: conservation of energy (i.e., luminosity). **Limb darkening cannot change an object's luminosity, so that's what we should use to compute the normalization!** We shouldn't assume anything about the *disk-integrated flux* being conserved; that only works for stars whose surfaces are uniform.\n",
    "\n",
    "But it's tricky to think about computing the total luminosity of an arbitrary limb-darkened object. A brain-dead way to do this is to measure the disk-integrated flux coming from that object from every possible vantage point: that is proportional (or equal to, in the right units) the object's luminosity. If you put an observer everywhere on the surface of a large sphere centered on the object, and ask every observer to count all the photons they see, add those up and you now know how many photons the object emitted in total.\n",
    "\n",
    "In other words, if we can compute a disk-integrated flux measured from a certain vantage point in $(\\theta, \\phi)$, all we need to do is integrate that value over all $(\\theta, \\phi)$. **That** is the value that cannot change, regardless of the limb darkening.\n",
    "\n",
    "An alternative way to think about this is that the **average** disk-integrated flux cannot change. So if we rotate our map randomly and measure the flux a bunch of times, we want the average of those values to be independent of limb darkening."
   ]
  },
  {
   "cell_type": "markdown",
   "metadata": {},
   "source": [
    "OK, but how do we compute this integral, for an arbitrary map? I puzzled over this for a while, since the limb darkening procedure is not a linear operation (at least I haven't figured out how to make it linear yet). That makes it very hard to compute this integral analytically. But after thinking about this for a while, I convinced myself that the normalization **cannot depend on what the map looks like.** In other words, whether my map is the spherical harmonic expansion of the Earth or a simple uniform map, the normalization constant will be the same, and depend **only** on the limb-darkening coefficients.\n",
    "\n",
    "This is related to the fact that the only spherical harmonic that integrates to something nonzero over $4\\pi$ steradians is the $Y_{0,0}$ harmonic. All others contribute net zero luminosity. So, assuming my hypothesis is correct, all we need to do is compute the normalization for a uniform limb-darkened map, and that should apply for **all** maps."
   ]
  },
  {
   "cell_type": "markdown",
   "metadata": {},
   "source": [
    "### The total luminosity of a limb-darkened map"
   ]
  },
  {
   "cell_type": "markdown",
   "metadata": {},
   "source": [
    "From the `starry` paper, the total disk-integrated flux from a map described by the spherical harmonic coefficient vector $\\mathbf{y}$ is\n",
    "\n",
    "$f = \\mathbf{r}^T \\mathbf{A_1} \\mathbf{R} \\mathbf{y}$\n",
    "\n",
    "In the case of a uniform limb-darkened map, $\\mathbf{y} = \\mathbf{U} \\mathbf{u}$ (a linear transform of the limb darkening coefficients $\\mathbf{u}$) and $\\mathbf{R} = \\mathbf{I}$, so\n",
    "\n",
    "$f = \\mathbf{r}^T \\mathbf{A_1} \\mathbf{U} \\mathbf{u}$\n",
    "\n",
    "Let's define $\\mathbf{p_u} = \\mathbf{A_1} \\mathbf{U} \\mathbf{u}$; this is the polynomial corresponding to the limb darkening law. We have\n",
    "\n",
    "$f = \\mathbf{r}^T \\mathbf{p_u}$\n",
    "\n",
    "Since this is the flux measured by all observers, this is also the average flux, so **this is the quantity that is invariant under limb darkening.**"
   ]
  },
  {
   "cell_type": "markdown",
   "metadata": {},
   "source": [
    "Let's compute this quantity for the two maps above (the dipole and the limb-darkened dipole):"
   ]
  },
  {
   "cell_type": "code",
   "execution_count": null,
   "metadata": {},
   "outputs": [],
   "source": [
    "from scipy.special import gamma\n",
    "\n",
    "\n",
    "def rT(n):\n",
    "    \"\"\"Compute the n^th term in the rotation solution vector `r` analytically.\"\"\"\n",
    "    l = int(np.floor(np.sqrt(n)))\n",
    "    m = n - l * l - l\n",
    "    mu = l - m\n",
    "    nu = l + m\n",
    "    if (mu % 2 == 0) and ((mu / 2) % 2 == 0) and (nu % 2 == 0) and ((nu / 2) % 2 == 0):\n",
    "        return gamma(mu / 4 + 0.5) * gamma(nu / 4 + 0.5) / gamma((mu + nu) / 4 + 2)\n",
    "    elif (\n",
    "        ((mu - 1) % 2 == 0)\n",
    "        and (((mu - 1) / 2) % 2 == 0)\n",
    "        and ((nu - 1) % 2 == 0)\n",
    "        and (((nu - 1) / 2) % 2 == 0)\n",
    "    ):\n",
    "        return (\n",
    "            0.5\n",
    "            * np.sqrt(np.pi)\n",
    "            * gamma(mu / 4 + 0.25)\n",
    "            * gamma(nu / 4 + 0.25)\n",
    "            / gamma((mu + nu) / 4 + 2)\n",
    "        )\n",
    "    else:\n",
    "        return 0"
   ]
  },
  {
   "cell_type": "markdown",
   "metadata": {},
   "source": [
    "For no limb darkening, our polynomial is $\\mathbf{p_u} = 1$, which in the `starry` notation corresponds to the polynomial vector $(1\\ 0\\ 0\\ 0)$. We dot that into $\\mathbf{r}^T$ and get "
   ]
  },
  {
   "cell_type": "code",
   "execution_count": null,
   "metadata": {},
   "outputs": [],
   "source": [
    "norm1 = rT(0)\n",
    "norm1"
   ]
  },
  {
   "cell_type": "markdown",
   "metadata": {},
   "source": [
    "For linear limb darkening, our polynomial is simply $\\mathbf{p_u} = z$, which corresponds to the polynomial vector $(0\\ 0\\ 1\\ 0)$. We dot that into $\\mathbf{r}^T$ and get"
   ]
  },
  {
   "cell_type": "code",
   "execution_count": null,
   "metadata": {},
   "outputs": [],
   "source": [
    "norm2 = rT(2)\n",
    "norm2"
   ]
  },
  {
   "cell_type": "markdown",
   "metadata": {},
   "source": [
    "Dividing each curve by their respective normalization constants, we get"
   ]
  },
  {
   "cell_type": "code",
   "execution_count": null,
   "metadata": {},
   "outputs": [],
   "source": [
    "fig = plt.figure(figsize=(15, 6))\n",
    "plt.plot(theta, flux / norm1, label=\"dipole\")\n",
    "plt.plot(theta, flux_ld / norm2, label=\"limb-darkened dipole\")\n",
    "plt.legend(fontsize=12);"
   ]
  },
  {
   "cell_type": "markdown",
   "metadata": {},
   "source": [
    "**Looks great.** The baselines are now the same, and since the normalization is **constant**, there's no strange behavior at distinct angles."
   ]
  },
  {
   "cell_type": "markdown",
   "metadata": {},
   "source": [
    "Note that, in practice, we define the normalization constant to be $\\frac{\\pi}{\\mathbf{r}^T \\mathbf{p_u}}$, so that the total flux for a uniform map with no limb darkening is unchanged."
   ]
  }
 ],
 "metadata": {
  "celltoolbar": "Tags",
  "kernelspec": {
   "display_name": "Python 3",
   "language": "python",
   "name": "python3"
  },
  "language_info": {
   "codemirror_mode": {
    "name": "ipython",
    "version": 3
   },
   "file_extension": ".py",
   "mimetype": "text/x-python",
   "name": "python",
   "nbconvert_exporter": "python",
   "pygments_lexer": "ipython3",
   "version": "3.7.2"
  }
 },
 "nbformat": 4,
 "nbformat_minor": 2
}
