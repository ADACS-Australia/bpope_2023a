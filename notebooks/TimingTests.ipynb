{
 "cells": [
  {
   "cell_type": "markdown",
   "metadata": {
    "tutorial": true
   },
   "source": [
    "# Timing tests\n",
    "\n",
    "This notebook contains timing tests for `starry`, comparing it to the previous version of the code and other popular light curve modeling software."
   ]
  },
  {
   "cell_type": "code",
   "execution_count": null,
   "metadata": {
    "tags": [
     "hide_input"
    ]
   },
   "outputs": [],
   "source": [
    "%matplotlib inline"
   ]
  },
  {
   "cell_type": "code",
   "execution_count": null,
   "metadata": {
    "tags": [
     "hide_input"
    ]
   },
   "outputs": [],
   "source": [
    "%run notebook_setup.py"
   ]
  },
  {
   "cell_type": "code",
   "execution_count": null,
   "metadata": {
    "nbsphinx": "hidden",
    "tags": [
     "hide_input"
    ]
   },
   "outputs": [],
   "source": [
    "# Install the beta version if needed\n",
    "try:\n",
    "    import starry_beta\n",
    "except:\n",
    "    !pip install starry_beta"
   ]
  },
  {
   "cell_type": "code",
   "execution_count": null,
   "metadata": {
    "tags": [
     "hide_input"
    ]
   },
   "outputs": [],
   "source": [
    "import numpy as np\n",
    "import matplotlib.pyplot as plt\n",
    "import starry\n",
    "import starry_beta\n",
    "from tqdm import tqdm_notebook as tqdm\n",
    "import time\n",
    "from exoplanet import LimbDarkLightCurve\n",
    "from exoplanet.orbits import KeplerianOrbit\n",
    "import theano\n",
    "\n",
    "starry.config.lazy = False\n",
    "starry.config.quiet = True"
   ]
  },
  {
   "cell_type": "markdown",
   "metadata": {},
   "source": [
    "## Compare to `beta`: $Y_{lm}$ phase curves and occultations\n",
    "\n",
    "For light curves with fewer than a couple hundred points, the new version of ``starry`` is *slower* than the ``beta`` version. That's because the switch to ``theano`` adds a certain amount of overhead to every function call. This is mostly fine, since modern datasets tend to have far more data points; plus, you'll probably want to oversample the light curve anyways to account for the finite exposure time. That will get us firmly into the territory where the new version is comparable to or faster than the ``beta`` version."
   ]
  },
  {
   "cell_type": "code",
   "execution_count": null,
   "metadata": {
    "tags": [
     "hide_input"
    ]
   },
   "outputs": [],
   "source": [
    "def time_flux(ydeg, occultation=False, npts=np.logspace(0, 4, 10), ntimes=30):\n",
    "\n",
    "    # Define the new starry function\n",
    "    map = starry.Map(ydeg=ydeg)\n",
    "    map[1:, :] = 1\n",
    "    map.inc = 45\n",
    "    t_flux = lambda theta, xo, yo, ro: map.flux(theta=theta, xo=xo, yo=yo, ro=ro)\n",
    "\n",
    "    # Define the starry beta function\n",
    "    map_beta = starry_beta.Map(ydeg)\n",
    "    map_beta[1:, :] = 1\n",
    "    map_beta.axis = [0, 1, 1]\n",
    "    b_flux = lambda theta, xo, yo, ro: map_beta.flux(theta=theta, xo=xo, yo=yo, ro=ro)\n",
    "\n",
    "    if occultation:\n",
    "        ro = 0.1\n",
    "    else:\n",
    "        ro = 0.0\n",
    "\n",
    "    t_time = np.zeros_like(npts)\n",
    "    b_time = np.zeros_like(npts)\n",
    "    for i in range(len(npts)):\n",
    "\n",
    "        theta = np.linspace(-180, 180, int(npts[i]))\n",
    "        xo = np.linspace(-1.0, 1.0, int(npts[i]))\n",
    "        yo = np.zeros_like(xo) + 0.1\n",
    "\n",
    "        for t, flux in zip([t_time, b_time], [t_flux, b_flux]):\n",
    "            elapsed = np.zeros(ntimes)\n",
    "            for k in range(ntimes):\n",
    "                tstart = time.time()\n",
    "                flux(theta, xo, yo, ro)\n",
    "                elapsed[k] = time.time() - tstart\n",
    "            t[i] = np.median(elapsed[1:])\n",
    "\n",
    "    return b_time, t_time"
   ]
  },
  {
   "cell_type": "code",
   "execution_count": null,
   "metadata": {
    "tags": [
     "hide_input"
    ]
   },
   "outputs": [],
   "source": [
    "ydeg = [1, 3, 5, 10]\n",
    "npts = np.logspace(0, 4, 10)\n",
    "\n",
    "fig, ax = plt.subplots(2, 2, sharex=True, sharey=True, figsize=(10, 7))\n",
    "ax = ax.flatten()\n",
    "\n",
    "for i in range(len(ydeg)):\n",
    "    for occultation, fillstyle, ls in zip([False, True], [\"none\", \"full\"], [\"--\", \"-\"]):\n",
    "        b_time, t_time = time_flux(ydeg[i], npts=npts, occultation=occultation)\n",
    "        ax[i].plot(npts, t_time, \"C0o\", fillstyle=fillstyle, ls=\"none\", ms=3)\n",
    "        ax[i].plot(npts, t_time, \"C0\", ls=ls, lw=1, alpha=0.5)\n",
    "        ax[i].plot(npts, b_time, \"C1o\", fillstyle=fillstyle, ls=\"none\", ms=3)\n",
    "        ax[i].plot(npts, b_time, \"C1\", ls=ls, lw=1, alpha=0.5)\n",
    "        ax[i].set_xscale(\"log\")\n",
    "        ax[i].set_yscale(\"log\")\n",
    "        ax[i].annotate(\n",
    "            \"l = %s\" % ydeg[i],\n",
    "            xy=(0, 1),\n",
    "            xycoords=\"axes fraction\",\n",
    "            xytext=(5, -5),\n",
    "            textcoords=\"offset points\",\n",
    "            ha=\"left\",\n",
    "            va=\"top\",\n",
    "            fontsize=12,\n",
    "        )\n",
    "\n",
    "ax[0].plot([], [], \"C0-\", label=\"this version\")\n",
    "ax[0].plot([], [], \"C1-\", label=\"beta\")\n",
    "ax[0].plot([], [], \"k--\", lw=1, label=\"rotation\")\n",
    "ax[0].plot([], [], \"k-\", lw=1, label=\"occultation\")\n",
    "ax[0].legend(fontsize=8, loc=\"upper right\")\n",
    "for i in [2, 3]:\n",
    "    ax[i].set_xlabel(\"Number of points\", fontsize=14)\n",
    "for i in [0, 2]:\n",
    "    ax[i].set_ylabel(\"Time [seconds]\", fontsize=14)"
   ]
  },
  {
   "cell_type": "markdown",
   "metadata": {},
   "source": [
    "## Compare to `beta`: Limb-darkened occultations\n",
    "\n",
    "Since light curves of purely limb-darkened maps are so much faster to compute than those of spherical harmonic maps, the overhead is more apparent in the limb-darkened case. It's still a small price to pay for the integration with ``pymc3`` that the new version affords!"
   ]
  },
  {
   "cell_type": "code",
   "execution_count": null,
   "metadata": {
    "tags": [
     "hide_input"
    ]
   },
   "outputs": [],
   "source": [
    "def time_flux(udeg, npts=np.logspace(0, 4, 10), ntimes=30):\n",
    "\n",
    "    # Define the new starry function\n",
    "    map = starry.Map(udeg=udeg)\n",
    "    map[1:] = 1\n",
    "    t_flux = lambda xo, yo, ro: map.flux(xo=xo, yo=yo, ro=ro)\n",
    "\n",
    "    # Define the starry beta function\n",
    "    map_beta = starry_beta.Map(udeg)\n",
    "    map_beta[1:] = 1\n",
    "    b_flux = lambda xo, yo, ro: map_beta.flux(xo=xo, yo=yo, ro=ro)\n",
    "\n",
    "    ro = 0.1\n",
    "    t_time = np.zeros_like(npts)\n",
    "    b_time = np.zeros_like(npts)\n",
    "    for i in range(len(npts)):\n",
    "\n",
    "        xo = np.linspace(-1.0, 1.0, int(npts[i]))\n",
    "        yo = np.zeros_like(xo) + 0.1\n",
    "\n",
    "        for t, flux in zip([t_time, b_time], [t_flux, b_flux]):\n",
    "            elapsed = np.zeros(ntimes)\n",
    "            for k in range(ntimes):\n",
    "                tstart = time.time()\n",
    "                flux(xo, yo, ro)\n",
    "                elapsed[k] = time.time() - tstart\n",
    "            t[i] = np.median(elapsed[1:])\n",
    "\n",
    "    return b_time, t_time"
   ]
  },
  {
   "cell_type": "code",
   "execution_count": null,
   "metadata": {
    "tags": [
     "hide_input"
    ]
   },
   "outputs": [],
   "source": [
    "udeg = [1, 2, 3, 5]\n",
    "npts = np.logspace(0, 4, 10)\n",
    "\n",
    "fig, ax = plt.subplots(2, 2, sharex=True, sharey=True, figsize=(10, 7))\n",
    "ax = ax.flatten()\n",
    "\n",
    "for i in range(len(udeg)):\n",
    "    b_time, t_time = time_flux(udeg[i], npts=npts)\n",
    "    ax[i].plot(npts, t_time, \"C0o\", ls=\"none\", ms=3)\n",
    "    ax[i].plot(npts, t_time, \"C0\", lw=1, alpha=0.5)\n",
    "    ax[i].plot(npts, b_time, \"C1o\", ls=\"none\", ms=3)\n",
    "    ax[i].plot(npts, b_time, \"C1\", lw=1, alpha=0.5)\n",
    "    ax[i].set_xscale(\"log\")\n",
    "    ax[i].set_yscale(\"log\")\n",
    "    ax[i].annotate(\n",
    "        \"l = %s\" % udeg[i],\n",
    "        xy=(0, 1),\n",
    "        xycoords=\"axes fraction\",\n",
    "        xytext=(5, -5),\n",
    "        textcoords=\"offset points\",\n",
    "        ha=\"left\",\n",
    "        va=\"top\",\n",
    "        fontsize=12,\n",
    "    )\n",
    "\n",
    "ax[0].plot([], [], \"C0-\", label=\"this version\")\n",
    "ax[0].plot([], [], \"C1-\", label=\"beta\")\n",
    "ax[0].legend(fontsize=8, loc=\"upper right\")\n",
    "for i in [2, 3]:\n",
    "    ax[i].set_xlabel(\"Number of points\", fontsize=14)\n",
    "for i in [0, 2]:\n",
    "    ax[i].set_ylabel(\"Time [seconds]\", fontsize=14)"
   ]
  },
  {
   "cell_type": "markdown",
   "metadata": {},
   "source": [
    "## Compare to `exoplanet`: Limb-darkened occultations\n",
    "\n",
    "The algorithm used by ``exoplanet`` for computing occultations of limb-darkened stars is identical to the one used in ``starry``. But since ``starry`` is a lot more flexible than the light curve model in ``exoplanet``, it tends to be about a factor of 2 slower. This isn't a big deal in the grand scheme of things."
   ]
  },
  {
   "cell_type": "code",
   "execution_count": null,
   "metadata": {
    "tags": [
     "hide_input"
    ]
   },
   "outputs": [],
   "source": [
    "def time_flux(udeg, npts=np.logspace(0, 4, 10), ntimes=30):\n",
    "\n",
    "    # Define the starry function\n",
    "    map = starry.Map(udeg=udeg)\n",
    "\n",
    "    def t_flux(u, xo, yo, ro):\n",
    "        map[1:] = u\n",
    "        return map.flux(xo=xo, yo=yo, ro=ro)\n",
    "\n",
    "    # Define the exoplanet function\n",
    "    orbit = KeplerianOrbit(period=3.456)\n",
    "    u = theano.tensor.dvector()\n",
    "    t = theano.tensor.dvector()\n",
    "    ro = theano.tensor.dscalar()\n",
    "    b_flux = theano.function(\n",
    "        [u, t, ro], 1.0 + LimbDarkLightCurve(u).get_light_curve(orbit=orbit, r=ro, t=t)\n",
    "    )\n",
    "\n",
    "    # Compute\n",
    "    u = np.ones(udeg)\n",
    "    ro = 0.1\n",
    "    t_time = np.zeros_like(npts)\n",
    "    b_time = np.zeros_like(npts)\n",
    "    for i in range(len(npts)):\n",
    "\n",
    "        t = np.linspace(-0.1, 0.1, int(npts[i]))\n",
    "        xo, yo, _ = orbit.get_planet_position(t)\n",
    "        xo = xo.eval()\n",
    "        yo = yo.eval()\n",
    "\n",
    "        # starry\n",
    "        elapsed = np.zeros(ntimes)\n",
    "        for k in range(ntimes):\n",
    "            tstart = time.time()\n",
    "            t_flux(u, xo, yo, ro)\n",
    "            elapsed[k] = time.time() - tstart\n",
    "        t_time[i] = np.median(elapsed)\n",
    "\n",
    "        # exoplanet\n",
    "        elapsed = np.zeros(ntimes)\n",
    "        for k in range(ntimes):\n",
    "            tstart = time.time()\n",
    "            b_flux(u, t, ro)\n",
    "            elapsed[k] = time.time() - tstart\n",
    "        b_time[i] = np.median(elapsed[1:])\n",
    "\n",
    "    return b_time, t_time"
   ]
  },
  {
   "cell_type": "code",
   "execution_count": null,
   "metadata": {
    "tags": [
     "hide_input"
    ]
   },
   "outputs": [],
   "source": [
    "udeg = [1, 2, 3, 5]\n",
    "npts = np.logspace(0, 4, 10)\n",
    "\n",
    "fig, ax = plt.subplots(2, 2, sharex=True, sharey=True, figsize=(10, 7))\n",
    "ax = ax.flatten()\n",
    "\n",
    "for i in range(len(udeg)):\n",
    "    b_time, t_time = time_flux(udeg[i], npts=npts)\n",
    "    ax[i].plot(npts, t_time, \"C0o\", ls=\"none\", ms=3)\n",
    "    ax[i].plot(npts, t_time, \"C0\", lw=1, alpha=0.5)\n",
    "    ax[i].plot(npts, b_time, \"C1o\", ls=\"none\", ms=3)\n",
    "    ax[i].plot(npts, b_time, \"C1\", lw=1, alpha=0.5)\n",
    "    ax[i].set_xscale(\"log\")\n",
    "    ax[i].set_yscale(\"log\")\n",
    "    ax[i].annotate(\n",
    "        \"l = %s\" % udeg[i],\n",
    "        xy=(0, 1),\n",
    "        xycoords=\"axes fraction\",\n",
    "        xytext=(5, -5),\n",
    "        textcoords=\"offset points\",\n",
    "        ha=\"left\",\n",
    "        va=\"top\",\n",
    "        fontsize=12,\n",
    "    )\n",
    "\n",
    "ax[0].plot([], [], \"C0-\", label=\"starry\")\n",
    "ax[0].plot([], [], \"C1-\", label=\"exoplanet\")\n",
    "ax[0].legend(fontsize=8, loc=\"upper right\")\n",
    "for i in [2, 3]:\n",
    "    ax[i].set_xlabel(\"Number of points\", fontsize=14)\n",
    "for i in [0, 2]:\n",
    "    ax[i].set_ylabel(\"Time [seconds]\", fontsize=14)"
   ]
  }
 ],
 "metadata": {
  "celltoolbar": "Tags",
  "kernelspec": {
   "display_name": "Python 3",
   "language": "python",
   "name": "python3"
  },
  "language_info": {
   "codemirror_mode": {
    "name": "ipython",
    "version": 3
   },
   "file_extension": ".py",
   "mimetype": "text/x-python",
   "name": "python",
   "nbconvert_exporter": "python",
   "pygments_lexer": "ipython3",
   "version": "3.7.4"
  }
 },
 "nbformat": 4,
 "nbformat_minor": 2
}
