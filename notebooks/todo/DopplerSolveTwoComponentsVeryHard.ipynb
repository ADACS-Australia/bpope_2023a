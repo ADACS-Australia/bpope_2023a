{
 "cells": [
  {
   "cell_type": "markdown",
   "metadata": {},
   "source": [
    "# Doppler Solve: Two Components"
   ]
  },
  {
   "cell_type": "markdown",
   "metadata": {},
   "source": [
    "## Setup"
   ]
  },
  {
   "cell_type": "code",
   "execution_count": null,
   "metadata": {
    "tags": [
     "hide_input"
    ]
   },
   "outputs": [],
   "source": [
    "%matplotlib inline"
   ]
  },
  {
   "cell_type": "code",
   "execution_count": null,
   "metadata": {
    "tags": [
     "hide_input"
    ]
   },
   "outputs": [],
   "source": [
    "%run notebook_setup.py"
   ]
  },
  {
   "cell_type": "code",
   "execution_count": null,
   "metadata": {
    "tags": [
     "hide_input"
    ]
   },
   "outputs": [],
   "source": [
    "import starry\n",
    "from pathlib import Path\n",
    "\n",
    "starry_path = Path(starry.__file__).parents[0]\n",
    "starry.config.lazy = True\n",
    "starry.config.quiet = True"
   ]
  },
  {
   "cell_type": "code",
   "execution_count": null,
   "metadata": {},
   "outputs": [],
   "source": [
    "import numpy as np\n",
    "import matplotlib.pyplot as plt\n",
    "import starry\n",
    "import george\n",
    "import pymc3 as pm\n",
    "import pymc3_ext as pmx\n",
    "import theano.tensor as tt\n",
    "from tqdm.auto import tqdm"
   ]
  },
  {
   "cell_type": "markdown",
   "metadata": {},
   "source": [
    "## Generate"
   ]
  },
  {
   "cell_type": "code",
   "execution_count": null,
   "metadata": {},
   "outputs": [],
   "source": [
    "# Settings\n",
    "flux_err = 1e-4\n",
    "ydeg = 15\n",
    "nt = 16\n",
    "inc = 60\n",
    "veq = 40000\n",
    "wav = np.linspace(642.85, 643.15, 200)\n",
    "wav0 = np.linspace(642.75, 643.25, 200)"
   ]
  },
  {
   "cell_type": "code",
   "execution_count": null,
   "metadata": {},
   "outputs": [],
   "source": [
    "# True intensity ratio (spot / photosphere)\n",
    "ratio = 0.5\n",
    "\n",
    "# True spectra (photosphere and spot)\n",
    "spectrum1 = (\n",
    "    1.0\n",
    "    - 0.725 * np.exp(-0.5 * (wav0 - 643.0) ** 2 / 0.0085 ** 2)\n",
    "    - 0.02 * np.exp(-0.5 * (wav0 - 642.895) ** 2 / 0.0085 ** 2)\n",
    "    - 0.02 * np.exp(-0.5 * (wav0 - 642.97) ** 2 / 0.0085 ** 2)\n",
    "    - 0.02 * np.exp(-0.5 * (wav0 - 643.1) ** 2 / 0.0085 ** 2)\n",
    ")\n",
    "spectrum2 = (\n",
    "    1.0\n",
    "    - 0.53 * np.exp(-0.5 * (wav0 - 642.93) ** 2 / 0.0085 ** 2)\n",
    "    - 0.5 * np.exp(-0.5 * (wav0 - 643.05) ** 2 / 0.0085 ** 2)\n",
    "    - 0.02 * np.exp(-0.5 * (wav0 - 642.895) ** 2 / 0.0085 ** 2)\n",
    "    - 0.02 * np.exp(-0.5 * (wav0 - 642.97) ** 2 / 0.0085 ** 2)\n",
    "    - 0.02 * np.exp(-0.5 * (wav0 - 643.1) ** 2 / 0.0085 ** 2)\n",
    ")\n",
    "\n",
    "# Prior on the spectra\n",
    "spectral_mean1 = np.ones_like(wav0)\n",
    "spectral_mean2 = np.ones_like(wav0)\n",
    "spectral_cov1 = 1e-3 * np.ones_like(wav0)\n",
    "spectral_cov2 = 1e-3 * np.ones_like(wav0)\n",
    "\n",
    "# Plot them\n",
    "fig, ax = plt.subplots(2, figsize=(12, 6), sharex=True, sharey=True)\n",
    "ax[0].plot(wav0, spectrum1, \"k-\", label=\"true\")\n",
    "ax[0].plot(wav0, spectral_mean1, \"C0-\", label=\"prior\")\n",
    "ax[0].fill_between(\n",
    "    wav0,\n",
    "    spectral_mean1 - np.sqrt(spectral_cov1),\n",
    "    spectral_mean1 + np.sqrt(spectral_cov1),\n",
    "    color=\"C0\",\n",
    "    alpha=0.3,\n",
    ")\n",
    "ax[0].legend()\n",
    "ax[1].plot(wav0, spectrum2, \"k-\", label=\"true\")\n",
    "ax[1].plot(wav0, spectral_mean2, \"C1-\", label=\"prior\")\n",
    "ax[1].fill_between(\n",
    "    wav0,\n",
    "    spectral_mean2 - np.sqrt(spectral_cov2),\n",
    "    spectral_mean2 + np.sqrt(spectral_cov2),\n",
    "    color=\"C1\",\n",
    "    alpha=0.3,\n",
    ")\n",
    "ax[1].legend()\n",
    "ax[1].set_xlabel(\"rest wavelength [nm]\")\n",
    "ax[0].set_ylabel(\"spectrum 1\")\n",
    "ax[1].set_ylabel(\"spectrum 2\");"
   ]
  },
  {
   "cell_type": "code",
   "execution_count": null,
   "metadata": {},
   "outputs": [],
   "source": [
    "# Maps\n",
    "image1 = np.mean(\n",
    "    np.flipud(plt.imread(starry_path / \"img\" / \"spot.png\"))[:, :, :3], axis=2\n",
    ")\n",
    "image2 = 1 - image1\n",
    "\n",
    "# Plot them\n",
    "fig, ax = plt.subplots(1, 2)\n",
    "ax[0].imshow(image1, origin=\"lower\", cmap=\"plasma\", vmin=0, vmax=1)\n",
    "im = ax[1].imshow(image2, origin=\"lower\", cmap=\"plasma\", vmin=0, vmax=1)\n",
    "for axis in ax:\n",
    "    axis.set_xticks([])\n",
    "    axis.set_yticks([])\n",
    "ax[0].set_title(\"map 1\")\n",
    "ax[1].set_title(\"map 2\")\n",
    "plt.colorbar(im, ax=ax, shrink=0.55);"
   ]
  },
  {
   "cell_type": "code",
   "execution_count": null,
   "metadata": {},
   "outputs": [],
   "source": [
    "# Instantiate\n",
    "map = starry.DopplerMap(\n",
    "    ydeg=ydeg,\n",
    "    nc=2,\n",
    "    veq=veq,\n",
    "    inc=inc,\n",
    "    nt=nt,\n",
    "    wav=wav,\n",
    "    wav0=wav0,\n",
    "    lazy=False,\n",
    "    vsini_max=40000,\n",
    ")\n",
    "map.load(\n",
    "    maps=[image1, image2],\n",
    "    spectra=[spectrum1, ratio * spectrum2],\n",
    "    smoothing=0.075,\n",
    ")\n",
    "map.show()"
   ]
  },
  {
   "cell_type": "code",
   "execution_count": null,
   "metadata": {},
   "outputs": [],
   "source": [
    "# Generate the dataset\n",
    "flux = map.flux(normalize=True)\n",
    "flux += flux_err * np.random.randn(*flux.shape)\n",
    "\n",
    "# Plot it\n",
    "plt.figure(figsize=(3, 6))\n",
    "plt.plot(\n",
    "    wav, flux.T + np.linspace(0, 1, map.nt).reshape(1, -1), color=\"k\", lw=1\n",
    ")\n",
    "plt.xlabel(\"wavelength [nm]\")\n",
    "plt.ylabel(\"intensity\");"
   ]
  },
  {
   "cell_type": "markdown",
   "metadata": {},
   "source": [
    "## Solve: Uniform prior"
   ]
  },
  {
   "cell_type": "code",
   "execution_count": null,
   "metadata": {},
   "outputs": [],
   "source": [
    "with pm.Model() as model:\n",
    "\n",
    "    # Instantiate a uniform map\n",
    "    map = starry.DopplerMap(\n",
    "        ydeg=ydeg,\n",
    "        nc=2,\n",
    "        veq=veq,\n",
    "        inc=inc,\n",
    "        nt=nt,\n",
    "        wav=wav,\n",
    "        wav0=wav0,\n",
    "        lazy=True,\n",
    "        vsini_max=40000,\n",
    "    )\n",
    "\n",
    "    # SHT matrix: converts from pixels to Ylms\n",
    "    A = map.sht_matrix(smoothing=0.075)\n",
    "    npix = A.shape[1]\n",
    "\n",
    "    # Prior on the maps\n",
    "    p = pm.Uniform(\"p\", lower=0.0, upper=1.0, shape=(npix,))\n",
    "    amp = pm.Uniform(\"amp\", lower=0.0, upper=1.0)\n",
    "    y1 = amp * tt.dot(A, p)\n",
    "    y2 = amp * tt.dot(A, (1 - p))\n",
    "    map._y = tt.concatenate(\n",
    "        (tt.reshape(y1, (-1, 1)), tt.reshape(y2, (-1, 1))), axis=1\n",
    "    )\n",
    "\n",
    "    # Prior on the intensity ratio\n",
    "    r = pm.Uniform(\"r\", lower=0.0, upper=1.0)\n",
    "\n",
    "    # Prior on the spectra\n",
    "    np.random.seed(0)\n",
    "    spectrum1 = pm.Bound(pm.Normal, upper=1.0)(\n",
    "        \"spectrum1\",\n",
    "        mu=spectral_mean1,\n",
    "        sigma=np.sqrt(spectral_cov1),\n",
    "        shape=(map.nw0,),\n",
    "        testval=1 - np.sqrt(spectral_cov1) * np.abs(np.random.randn(map.nw0)),\n",
    "    )\n",
    "    spectrum2 = pm.Bound(pm.Normal, upper=1.0)(\n",
    "        \"spectrum2\",\n",
    "        mu=spectral_mean2,\n",
    "        sigma=np.sqrt(spectral_cov2),\n",
    "        shape=(map.nw0,),\n",
    "        testval=1 - np.sqrt(spectral_cov1) * np.abs(np.random.randn(map.nw0)),\n",
    "    )\n",
    "    map.spectrum = tt.concatenate(\n",
    "        (tt.reshape(spectrum1, (1, -1)), r * tt.reshape(spectrum2, (1, -1))),\n",
    "        axis=0,\n",
    "    )\n",
    "\n",
    "    # Compute the model\n",
    "    flux_model = map.flux()\n",
    "\n",
    "    # Likelihood term\n",
    "    pm.Normal(\n",
    "        \"obs\",\n",
    "        mu=tt.reshape(flux_model, (-1,)),\n",
    "        sd=flux_err,\n",
    "        observed=flux.reshape(\n",
    "            -1,\n",
    "        ),\n",
    "    )"
   ]
  },
  {
   "cell_type": "code",
   "execution_count": null,
   "metadata": {},
   "outputs": [],
   "source": [
    "niter = 2 * 50000\n",
    "lr = 1e-4\n",
    "\n",
    "loss = []\n",
    "best_loss = np.inf\n",
    "map_soln = model.test_point\n",
    "with model:\n",
    "    for obj, point in tqdm(\n",
    "        pmx.optim.optimize_iterator(\n",
    "            pmx.optim.Adam(lr=lr), niter, start=map_soln\n",
    "        ),\n",
    "        total=niter,\n",
    "    ):\n",
    "        loss.append(obj)\n",
    "        if obj < best_loss:\n",
    "            best_loss = obj\n",
    "            map_soln = point"
   ]
  },
  {
   "cell_type": "code",
   "execution_count": null,
   "metadata": {},
   "outputs": [],
   "source": [
    "loss = np.array(loss)\n",
    "logloss = np.log10(loss)\n",
    "logloss[loss < 0] = -np.log10(-loss[loss < 0])\n",
    "plt.plot(np.arange(len(loss)), logloss, lw=1);"
   ]
  },
  {
   "cell_type": "code",
   "execution_count": null,
   "metadata": {},
   "outputs": [],
   "source": [
    "with model:\n",
    "    map.show_components(point=map_soln);"
   ]
  },
  {
   "cell_type": "code",
   "execution_count": null,
   "metadata": {},
   "outputs": [],
   "source": [
    "with model:\n",
    "    map.show(point=map_soln)"
   ]
  },
  {
   "cell_type": "code",
   "execution_count": null,
   "metadata": {},
   "outputs": [],
   "source": []
  }
 ],
 "metadata": {
  "celltoolbar": "Tags",
  "kernelspec": {
   "display_name": "Python 3",
   "language": "python",
   "name": "python3"
  },
  "language_info": {
   "codemirror_mode": {
    "name": "ipython",
    "version": 3
   },
   "file_extension": ".py",
   "mimetype": "text/x-python",
   "name": "python",
   "nbconvert_exporter": "python",
   "pygments_lexer": "ipython3",
   "version": "3.8.8"
  }
 },
 "nbformat": 4,
 "nbformat_minor": 4
}
