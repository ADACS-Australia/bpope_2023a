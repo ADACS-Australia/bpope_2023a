{
 "cells": [
  {
   "cell_type": "markdown",
   "metadata": {
    "tags": [
     "hide_input"
    ]
   },
   "source": [
    "##### Config"
   ]
  },
  {
   "cell_type": "code",
   "execution_count": null,
   "metadata": {
    "tags": [
     "hide_input"
    ]
   },
   "outputs": [],
   "source": [
    "%matplotlib inline"
   ]
  },
  {
   "cell_type": "code",
   "execution_count": null,
   "metadata": {
    "tags": [
     "hide_input"
    ]
   },
   "outputs": [],
   "source": [
    "%config InlineBackend.figure_format = \"retina\""
   ]
  },
  {
   "cell_type": "code",
   "execution_count": null,
   "metadata": {
    "tags": [
     "hide_input"
    ]
   },
   "outputs": [],
   "source": [
    "import matplotlib\n",
    "import matplotlib.pyplot as plt\n",
    "import numpy as np\n",
    "\n",
    "# Disable annoying font warnings\n",
    "matplotlib.font_manager._log.setLevel(50)\n",
    "\n",
    "# Disable theano deprecation warnings\n",
    "import warnings\n",
    "\n",
    "warnings.filterwarnings(\"ignore\", category=DeprecationWarning)\n",
    "warnings.filterwarnings(\n",
    "    \"ignore\", category=matplotlib.MatplotlibDeprecationWarning\n",
    ")\n",
    "warnings.filterwarnings(\"ignore\", category=FutureWarning)\n",
    "warnings.filterwarnings(\"ignore\", category=UserWarning, module=\"theano\")\n",
    "\n",
    "# Style\n",
    "plt.style.use(\"default\")\n",
    "plt.rcParams[\"savefig.dpi\"] = 100\n",
    "plt.rcParams[\"figure.dpi\"] = 100\n",
    "plt.rcParams[\"figure.figsize\"] = (12, 4)\n",
    "plt.rcParams[\"font.size\"] = 14\n",
    "plt.rcParams[\"text.usetex\"] = False\n",
    "plt.rcParams[\"font.family\"] = \"sans-serif\"\n",
    "plt.rcParams[\"font.sans-serif\"] = [\"Liberation Sans\"]\n",
    "plt.rcParams[\"font.cursive\"] = [\"Liberation Sans\"]\n",
    "try:\n",
    "    plt.rcParams[\"mathtext.fallback\"] = \"cm\"\n",
    "except KeyError:\n",
    "    plt.rcParams[\"mathtext.fallback_to_cm\"] = True\n",
    "plt.rcParams[\"mathtext.fallback_to_cm\"] = True"
   ]
  },
  {
   "cell_type": "code",
   "execution_count": null,
   "metadata": {
    "tags": [
     "hide_input"
    ]
   },
   "outputs": [],
   "source": [
    "del matplotlib\n",
    "del plt\n",
    "del warnings"
   ]
  },
  {
   "cell_type": "markdown",
   "metadata": {
    "tags": [
     "hide_input"
    ]
   },
   "source": [
    "##### Main"
   ]
  },
  {
   "cell_type": "code",
   "execution_count": null,
   "metadata": {},
   "outputs": [],
   "source": [
    "import numpy as np\n",
    "import matplotlib.pyplot as plt\n",
    "from matplotlib.colors import Normalize\n",
    "import theano\n",
    "import theano.tensor as tt\n",
    "from tqdm.auto import tqdm\n",
    "import starry\n",
    "\n",
    "starry.config.quiet = True"
   ]
  },
  {
   "cell_type": "code",
   "execution_count": null,
   "metadata": {},
   "outputs": [],
   "source": [
    "def NAdam(cost, params, lr=0.002, b1=0.9, b2=0.999, e=1e-8, sd=0.004):\n",
    "    \"\"\"https://github.com/keras-team/keras/blob/master/keras/optimizers.py\"\"\"\n",
    "    updates = []\n",
    "    grads = tt.grad(cost, params)\n",
    "    i = theano.shared(np.array(0.0, dtype=theano.config.floatX))\n",
    "    i_t = i + 1.0\n",
    "\n",
    "    # Warm up\n",
    "    m_schedule = theano.shared(np.array(1.0, dtype=theano.config.floatX))\n",
    "    momentum_cache_t = b1 * (1.0 - 0.5 * (tt.pow(0.96, i_t * sd)))\n",
    "    momentum_cache_t_1 = b1 * (1.0 - 0.5 * (tt.pow(0.96, (i_t + 1) * sd)))\n",
    "    m_schedule_new = m_schedule * momentum_cache_t\n",
    "    m_schedule_next = m_schedule * momentum_cache_t * momentum_cache_t_1\n",
    "    updates.append((m_schedule, m_schedule_new))\n",
    "\n",
    "    for p, g in zip(params, grads):\n",
    "        m = theano.shared(p.get_value() * 0.0)\n",
    "        v = theano.shared(p.get_value() * 0.0)\n",
    "\n",
    "        g_prime = g / (1.0 - m_schedule_new)\n",
    "        m_t = b1 * m + (1.0 - b1) * g\n",
    "        m_t_prime = m_t / (1.0 - m_schedule_next)\n",
    "        v_t = b2 * v + (1.0 - b2) * tt.sqr(g)\n",
    "        v_t_prime = v_t / (1.0 - tt.pow(b2, i_t))\n",
    "        m_t_bar = (1.0 - momentum_cache_t) * g_prime + (\n",
    "            momentum_cache_t_1 * m_t_prime\n",
    "        )\n",
    "\n",
    "        updates.append((m, m_t))\n",
    "        updates.append((v, v_t))\n",
    "\n",
    "        p_t = p - lr * m_t_bar / (tt.sqrt(v_t_prime) + e)\n",
    "        new_p = p_t\n",
    "        updates.append((p, new_p))\n",
    "\n",
    "    updates.append((i, i_t))\n",
    "\n",
    "    return updates"
   ]
  },
  {
   "cell_type": "markdown",
   "metadata": {},
   "source": [
    "## One component"
   ]
  },
  {
   "cell_type": "markdown",
   "metadata": {},
   "source": [
    "Generate the spectra:"
   ]
  },
  {
   "cell_type": "code",
   "execution_count": null,
   "metadata": {},
   "outputs": [],
   "source": [
    "map = starry.DopplerMap(15, lazy=False, inc=60, veq=50000, nt=60)\n",
    "map.load(\"spot\")\n",
    "ytru = map.amp * np.array(map.y)\n",
    "D = map.design_matrix(fix_spectrum=True)\n",
    "B = map._map.design_matrix(theta=np.linspace(0, 360, map.nt, endpoint=False))\n",
    "B = np.repeat(B, map.nw, axis=0)\n",
    "f = (D @ ytru) / (B @ ytru)"
   ]
  },
  {
   "cell_type": "markdown",
   "metadata": {},
   "source": [
    "Solve the approximate linear problem:"
   ]
  },
  {
   "cell_type": "code",
   "execution_count": null,
   "metadata": {},
   "outputs": [],
   "source": [
    "eps = 5e-4\n",
    "D0, D1 = D[:, 0], D[:, 1:]\n",
    "B0, B1 = B[:, 0], B[:, 1:]\n",
    "b = D0\n",
    "A = D1 - D0.reshape(-1, 1) * B1\n",
    "y1 = np.linalg.solve(A.T @ A + eps * np.eye(A.shape[1]), A.T @ (f - b))\n",
    "y = np.append(1.0, y1)\n",
    "model = (D @ y) / (B @ y)"
   ]
  },
  {
   "cell_type": "markdown",
   "metadata": {},
   "source": [
    "Here's what we get:"
   ]
  },
  {
   "cell_type": "code",
   "execution_count": null,
   "metadata": {},
   "outputs": [],
   "source": [
    "fig = plt.figure(constrained_layout=True, figsize=(12, 8))\n",
    "ax = fig.subplot_mosaic(\n",
    "    \"\"\"\n",
    "    DDEE\n",
    "    AAAA\n",
    "    BBCC\n",
    "    \"\"\"\n",
    ")\n",
    "ax[\"A\"].plot(f)\n",
    "ax[\"A\"].plot(model)\n",
    "ax[\"A\"].set_xticks([])\n",
    "ax[\"A\"].set_ylabel(\"spectrum\")\n",
    "\n",
    "ax[\"B\"].plot(ytru[1:])\n",
    "ax[\"B\"].plot(y[1:])\n",
    "ax[\"B\"].set_xticks([])\n",
    "ax[\"B\"].set_ylabel(\"ylm coeffs\")\n",
    "\n",
    "ax[\"C\"].plot(B @ ytru)\n",
    "axt = ax[\"C\"].twinx()\n",
    "axt.plot(B @ y, \"C1\")\n",
    "ax[\"C\"].set_xticks([])\n",
    "ax[\"C\"].set_ylabel(\"baseline\")\n",
    "\n",
    "map._map[:, :] = ytru\n",
    "map._map.show(ax=ax[\"D\"], projection=\"moll\")\n",
    "ax[\"D\"].axis(\"on\")\n",
    "ax[\"D\"].set_title(\"true\")\n",
    "ax[\"D\"].set_yticks([])\n",
    "ax[\"D\"].set_xticks([])\n",
    "for s in [\"top\", \"right\", \"bottom\", \"left\"]:\n",
    "    ax[\"D\"].spines[s].set_visible(False)\n",
    "map._map[:, :] = y\n",
    "map._map.show(ax=ax[\"E\"], projection=\"moll\")\n",
    "ax[\"E\"].axis(\"on\")\n",
    "ax[\"E\"].set_title(\"inferred\")\n",
    "ax[\"E\"].set_yticks([])\n",
    "ax[\"E\"].set_xticks([])\n",
    "for s in [\"top\", \"right\", \"bottom\", \"left\"]:\n",
    "    ax[\"E\"].spines[s].set_visible(False)"
   ]
  },
  {
   "cell_type": "markdown",
   "metadata": {},
   "source": [
    "Run nonlinear optimizer a bit:"
   ]
  },
  {
   "cell_type": "code",
   "execution_count": null,
   "metadata": {},
   "outputs": [],
   "source": [
    "eps = 5e-4\n",
    "D0, D1 = D[:, 0], D[:, 1:]\n",
    "B0, B1 = B[:, 0], B[:, 1:]\n",
    "b = D0\n",
    "A = D1 - D0.reshape(-1, 1) * B1\n",
    "y1 = np.linalg.solve(A.T @ A + eps * np.eye(A.shape[1]), A.T @ (f - b))\n",
    "y = np.append(1.0, y1)\n",
    "model = (D @ y) / (B @ y)\n",
    "\n",
    "y1_ = theano.shared(y1)\n",
    "y_ = tt.concatenate([tt.as_tensor_variable([1.0]), y1_])\n",
    "model_ = tt.dot(D, y_) / tt.dot(B, y_)\n",
    "loss_ = tt.sum((f - model_) ** 2)\n",
    "loss_ += tt.sum(y1_ ** 2 / (5e1) ** 2)\n",
    "\n",
    "niter = 1000\n",
    "best_loss = np.inf\n",
    "best_y1 = y1\n",
    "loss = np.zeros(niter)\n",
    "upd = NAdam(loss_, [y1_], lr=0.0002)\n",
    "train = theano.function([], [y1_, loss_], updates=upd)\n",
    "for n in tqdm(range(niter)):\n",
    "    y1, loss[n] = train()\n",
    "    if loss[n] < best_loss:\n",
    "        best_loss = loss[n]\n",
    "        best_y1 = y1\n",
    "\n",
    "print(best_loss)\n",
    "plt.plot(np.log10(loss));"
   ]
  },
  {
   "cell_type": "code",
   "execution_count": null,
   "metadata": {},
   "outputs": [],
   "source": [
    "y1 = best_y1\n",
    "y = np.append(1.0, y1)\n",
    "model = (D @ y) / (B @ y)"
   ]
  },
  {
   "cell_type": "code",
   "execution_count": null,
   "metadata": {},
   "outputs": [],
   "source": [
    "fig = plt.figure(constrained_layout=True, figsize=(12, 8))\n",
    "ax = fig.subplot_mosaic(\n",
    "    \"\"\"\n",
    "    DDEE\n",
    "    AAAA\n",
    "    BBCC\n",
    "    \"\"\"\n",
    ")\n",
    "ax[\"A\"].plot(f)\n",
    "ax[\"A\"].plot(model)\n",
    "ax[\"A\"].set_xticks([])\n",
    "ax[\"A\"].set_ylabel(\"spectrum\")\n",
    "\n",
    "ax[\"B\"].plot(ytru[1:])\n",
    "ax[\"B\"].plot(y[1:])\n",
    "ax[\"B\"].set_xticks([])\n",
    "ax[\"B\"].set_ylabel(\"ylm coeffs\")\n",
    "\n",
    "ax[\"C\"].plot(B @ ytru)\n",
    "axt = ax[\"C\"].twinx()\n",
    "axt.plot(B @ y, \"C1\")\n",
    "ax[\"C\"].set_xticks([])\n",
    "ax[\"C\"].set_ylabel(\"baseline\")\n",
    "\n",
    "map._map[:, :] = ytru\n",
    "map._map.show(ax=ax[\"D\"], projection=\"moll\")\n",
    "ax[\"D\"].axis(\"on\")\n",
    "ax[\"D\"].set_title(\"true\")\n",
    "ax[\"D\"].set_yticks([])\n",
    "ax[\"D\"].set_xticks([])\n",
    "for s in [\"top\", \"right\", \"bottom\", \"left\"]:\n",
    "    ax[\"D\"].spines[s].set_visible(False)\n",
    "map._map[:, :] = y\n",
    "map._map.show(ax=ax[\"E\"], projection=\"moll\")\n",
    "ax[\"E\"].axis(\"on\")\n",
    "ax[\"E\"].set_title(\"inferred\")\n",
    "ax[\"E\"].set_yticks([])\n",
    "ax[\"E\"].set_xticks([])\n",
    "for s in [\"top\", \"right\", \"bottom\", \"left\"]:\n",
    "    ax[\"E\"].spines[s].set_visible(False)"
   ]
  },
  {
   "cell_type": "markdown",
   "metadata": {},
   "source": [
    "## Two components, one uniform"
   ]
  },
  {
   "cell_type": "code",
   "execution_count": null,
   "metadata": {},
   "outputs": [],
   "source": [
    "map = starry.DopplerMap(\n",
    "    15, lazy=False, inc=60, veq=50000, nt=20, nc=2, oversample=5\n",
    ")\n",
    "map.load([\"s\", \"o\"])\n",
    "map.amp = 0.5, 0.5\n",
    "np.random.seed(0)\n",
    "mu = np.random.uniform(low=map.wav[0], high=map.wav[-1], size=map.nc)\n",
    "sig = 0.025\n",
    "dw = map.wav0.reshape(1, -1) - mu.reshape(-1, 1)\n",
    "map.spectrum = 1.0 - np.exp(-0.5 * dw ** 2 / sig ** 2)\n",
    "ytru = (map.amp.reshape(-1, 1) * np.array(map.y.T)).reshape(-1)\n",
    "D = map.design_matrix(fix_spectrum=True)\n",
    "B = map._map.design_matrix(theta=np.linspace(0, 360, map.nt, endpoint=False))\n",
    "B = np.tile(B, [1, map.nc])\n",
    "B = np.repeat(B, map.nw, axis=0)\n",
    "f = (D @ ytru) / (B @ ytru)"
   ]
  },
  {
   "cell_type": "code",
   "execution_count": null,
   "metadata": {},
   "outputs": [],
   "source": [
    "map.show()"
   ]
  },
  {
   "cell_type": "code",
   "execution_count": null,
   "metadata": {},
   "outputs": [],
   "source": [
    "plt.plot(f);"
   ]
  },
  {
   "cell_type": "code",
   "execution_count": null,
   "metadata": {},
   "outputs": [],
   "source": [
    "eps1 = 1e-2\n",
    "\n",
    "idx = np.zeros(map.nc * map.Ny, dtype=bool)\n",
    "idx[0 :: map.Ny] = 1\n",
    "\n",
    "D0 = D[:, idx]\n",
    "D1 = D[:, ~idx]\n",
    "B0 = B[:, idx]\n",
    "B1 = B[:, ~idx]\n",
    "\n",
    "y0 = np.ones(map.nc) / map.nc\n",
    "b = 2 * D0 @ y0 - (D0 @ y0) * (B0 @ y0)\n",
    "A = 2 * D1 - (D0 @ y0).reshape(-1, 1) * B1 - (B0 @ y0).reshape(-1, 1) * D1\n",
    "y1 = np.linalg.solve(A.T @ A + eps1 * np.eye(A.shape[1]), A.T @ (f - b))\n",
    "\n",
    "y = np.zeros(map.nc * map.Ny)\n",
    "y[idx] = y0\n",
    "y[~idx] = y1\n",
    "\n",
    "plt.plot(ytru)\n",
    "plt.plot(y)"
   ]
  },
  {
   "cell_type": "code",
   "execution_count": null,
   "metadata": {},
   "outputs": [],
   "source": [
    "map._map[:, :] = y.reshape(2, -1)[0]\n",
    "map._map.show(projection=\"moll\")"
   ]
  },
  {
   "cell_type": "code",
   "execution_count": null,
   "metadata": {},
   "outputs": [],
   "source": [
    "map._map[:, :] = y.reshape(2, -1)[1]\n",
    "map._map.show(projection=\"moll\")"
   ]
  },
  {
   "cell_type": "code",
   "execution_count": null,
   "metadata": {},
   "outputs": [],
   "source": [
    "# Guesses and regularization\n",
    "y0 = np.ones(map.nc) / map.nc\n",
    "eps1 = 1e-2\n",
    "eps0 = 0\n",
    "niter = 100\n",
    "\n",
    "# Iterate\n",
    "err = np.zeros(niter)\n",
    "best_err = np.inf\n",
    "best_y = np.zeros(map.nc * map.Ny)\n",
    "best_model = np.zeros_like(f)\n",
    "\n",
    "idx = np.zeros(map.nc * map.Ny, dtype=bool)\n",
    "idx[0 :: map.Ny] = 1\n",
    "\n",
    "D0 = D[:, idx]\n",
    "D1 = D[:, ~idx]\n",
    "B0 = B[:, idx]\n",
    "B1 = B[:, ~idx]\n",
    "\n",
    "n = 0\n",
    "while n < niter:\n",
    "\n",
    "    # Solve for y1\n",
    "    # fp = A @ y1 + b\n",
    "    b = 2 * D0 @ y0 - (D0 @ y0) * (B0 @ y0)\n",
    "    A = 2 * D1 - (D0 @ y0).reshape(-1, 1) * B1 - (B0 @ y0).reshape(-1, 1) * D1\n",
    "    y1 = np.linalg.solve(A.T @ A + eps1 * np.eye(A.shape[1]), A.T @ (f - b))\n",
    "\n",
    "    y = np.zeros(map.nc * map.Ny)\n",
    "    y[idx] = y0\n",
    "    y[~idx] = y1\n",
    "\n",
    "    model = (D @ y) / (B @ y)\n",
    "    err[n] = np.sum((f - model) ** 2)\n",
    "    if err[n] < best_err:\n",
    "        best_err = err[n]\n",
    "        best_y = y\n",
    "        best_model = model\n",
    "    n += 1\n",
    "\n",
    "    # Solve for y0\n",
    "    # fp = A @ y0 + b\n",
    "    A = D0 - (B1 @ y1).reshape(-1, 1) * D0 - (D1 @ y1).reshape(-1, 1) * B0\n",
    "    b = 2 * D1 @ y1\n",
    "    y0 = np.linalg.solve(A.T @ A + eps0 * np.eye(A.shape[1]), A.T @ (f - b))\n",
    "\n",
    "    y = np.zeros(map.nc * map.Ny)\n",
    "    y[idx] = y0\n",
    "    y[~idx] = y1\n",
    "\n",
    "    model = (D @ y) / (B @ y)\n",
    "    err[n] = np.sum((f - model) ** 2)\n",
    "    if err[n] < best_err:\n",
    "        best_err = err[n]\n",
    "        best_y = y\n",
    "        best_model = model\n",
    "    n += 1"
   ]
  },
  {
   "cell_type": "code",
   "execution_count": null,
   "metadata": {},
   "outputs": [],
   "source": [
    "plt.plot(err)"
   ]
  },
  {
   "cell_type": "code",
   "execution_count": null,
   "metadata": {},
   "outputs": [],
   "source": [
    "plt.plot(f)\n",
    "plt.plot(best_model)"
   ]
  },
  {
   "cell_type": "code",
   "execution_count": null,
   "metadata": {},
   "outputs": [],
   "source": [
    "plt.plot(ytru)\n",
    "plt.plot(best_y);"
   ]
  },
  {
   "cell_type": "code",
   "execution_count": null,
   "metadata": {},
   "outputs": [],
   "source": [
    "map._map[:, :] = y.reshape(2, -1)[0]\n",
    "map._map.show(projection=\"moll\")"
   ]
  },
  {
   "cell_type": "code",
   "execution_count": null,
   "metadata": {},
   "outputs": [],
   "source": [
    "map._map[:, :] = y.reshape(2, -1)[1]\n",
    "map._map.show(projection=\"moll\")"
   ]
  },
  {
   "cell_type": "markdown",
   "metadata": {},
   "source": [
    "## one component"
   ]
  },
  {
   "cell_type": "code",
   "execution_count": null,
   "metadata": {},
   "outputs": [],
   "source": [
    "map = starry.DopplerMap(15, lazy=False, inc=60, veq=50000, nt=20)\n",
    "map.load(\"spot\")\n",
    "map.amp = 1\n",
    "ytru = map.amp * np.array(map.y)\n",
    "\n",
    "D = map.design_matrix(fix_spectrum=True)\n",
    "\n",
    "B = map._map.design_matrix(theta=np.linspace(0, 360, map.nt, endpoint=False))\n",
    "B = np.repeat(B, map.nw, axis=0)\n",
    "\n",
    "f = (D @ ytru) / (B @ ytru)\n",
    "\n",
    "# Linearization:\n",
    "# f ~ 2 * D0 * y0 - (D0 * y0) * (B0 * y0) - (D0 * y0) * (B1 @ y1) + 2 * D1 @ y1 - (D1 @ y1) * (B0 * y0)"
   ]
  },
  {
   "cell_type": "code",
   "execution_count": null,
   "metadata": {},
   "outputs": [],
   "source": [
    "plt.plot(f)"
   ]
  },
  {
   "cell_type": "code",
   "execution_count": null,
   "metadata": {},
   "outputs": [],
   "source": [
    "# Guesses and regularization\n",
    "y0 = 1.0\n",
    "eps = 1e-4\n",
    "niter = 100\n",
    "\n",
    "# Iterate\n",
    "err = np.zeros(niter)\n",
    "best_err = np.inf\n",
    "best_y = np.zeros(map.Ny)\n",
    "best_model = np.zeros_like(f)\n",
    "D0, D1 = D[:, 0], D[:, 1:]\n",
    "B0, B1 = B[:, 0], B[:, 1:]\n",
    "n = 0\n",
    "while n < niter:\n",
    "\n",
    "    # In terms of y1\n",
    "    # fp = A @ y1 + b\n",
    "    b = (2 * D0) * y0 - (D0 * B0) * (y0 ** 2)\n",
    "    A = (\n",
    "        2 * D1\n",
    "        - (D0 * y0).reshape(-1, 1) * B1\n",
    "        - ((B0 * y0).reshape(-1, 1) * D1)\n",
    "    )\n",
    "    y1 = np.linalg.solve(A.T @ A + eps * np.eye(A.shape[1]), A.T @ (f - b))\n",
    "    y = np.append(y0, y1)\n",
    "\n",
    "    model = (D @ y) / (B @ y)\n",
    "    err[n] = np.sum((f - model) ** 2)\n",
    "    if err[n] < best_err:\n",
    "        best_err = err[n]\n",
    "        best_y = y\n",
    "        best_model = model\n",
    "    n += 1\n",
    "\n",
    "    # In terms of y0\n",
    "    # fp = a * y0 ** 2 + b * y0 + c\n",
    "    a = -(D0 * B0)\n",
    "    b = 2 * D0 - B1 @ y1 * D0 - D1 @ y1 * B0\n",
    "    c = 2 * D1 @ y1\n",
    "    y0 = np.nanmean((-b + np.sqrt(b ** 2 - 4 * a * (c - f))) / (2 * a))\n",
    "    y = np.append(y0, y1)\n",
    "\n",
    "    model = (D @ y) / (B @ y)\n",
    "    err[n] = np.sum((f - model) ** 2)\n",
    "    if err[n] < best_err:\n",
    "        best_err = err[n]\n",
    "        best_y = y\n",
    "        best_model = model\n",
    "    n += 1"
   ]
  },
  {
   "cell_type": "code",
   "execution_count": null,
   "metadata": {},
   "outputs": [],
   "source": [
    "plt.plot(err)"
   ]
  },
  {
   "cell_type": "code",
   "execution_count": null,
   "metadata": {},
   "outputs": [],
   "source": [
    "plt.plot(f)\n",
    "plt.plot(best_model)"
   ]
  },
  {
   "cell_type": "code",
   "execution_count": null,
   "metadata": {},
   "outputs": [],
   "source": [
    "plt.plot(ytru)\n",
    "plt.plot(best_y)"
   ]
  }
 ],
 "metadata": {
  "kernelspec": {
   "display_name": "Python 3",
   "language": "python",
   "name": "python3"
  },
  "language_info": {
   "codemirror_mode": {
    "name": "ipython",
    "version": 3
   },
   "file_extension": ".py",
   "mimetype": "text/x-python",
   "name": "python",
   "nbconvert_exporter": "python",
   "pygments_lexer": "ipython3",
   "version": "3.8.3"
  }
 },
 "nbformat": 4,
 "nbformat_minor": 4
}
