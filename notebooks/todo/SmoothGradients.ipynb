{
 "cells": [
  {
   "cell_type": "code",
   "execution_count": null,
   "metadata": {},
   "outputs": [],
   "source": [
    "%matplotlib inline"
   ]
  },
  {
   "cell_type": "code",
   "execution_count": null,
   "metadata": {},
   "outputs": [],
   "source": [
    "import matplotlib.pyplot as plt\n",
    "import numpy as np\n",
    "import starry\n",
    "import theano\n",
    "import theano.tensor as tt"
   ]
  },
  {
   "cell_type": "code",
   "execution_count": null,
   "metadata": {},
   "outputs": [],
   "source": [
    "starry.config.quiet = True"
   ]
  },
  {
   "cell_type": "code",
   "execution_count": null,
   "metadata": {},
   "outputs": [],
   "source": [
    "map = starry.Map(oblate=True, lazy=True)"
   ]
  },
  {
   "cell_type": "code",
   "execution_count": null,
   "metadata": {},
   "outputs": [],
   "source": [
    "map.f = 0.3\n",
    "map.omega = 0.5\n",
    "map.inc = 60\n",
    "map.obl = 30\n",
    "xo = np.linspace(-1, 1, 300)\n",
    "yo = 0.5 * np.ones_like(xo)\n",
    "ro = 0.1"
   ]
  },
  {
   "cell_type": "code",
   "execution_count": null,
   "metadata": {},
   "outputs": [],
   "source": [
    "fig, ax = plt.subplots(1)\n",
    "ax.plot(xo, yo, \"k-\")\n",
    "ax.plot(xo, yo - ro, \"k--\")\n",
    "ax.plot(xo, yo + ro, \"k--\")\n",
    "map.show(ax=ax)"
   ]
  },
  {
   "cell_type": "code",
   "execution_count": null,
   "metadata": {},
   "outputs": [],
   "source": [
    "def plot_grad(wrt, res=1000):\n",
    "    var = tt.dscalar()\n",
    "    n = tt.iscalar()\n",
    "    map.f = 0.5\n",
    "    map.omega = 0.5\n",
    "    map.inc = 60\n",
    "    map.obl = 30\n",
    "    xo = np.linspace(-1, 1, res)\n",
    "    yo = 0.5 * np.ones_like(xo)\n",
    "    ro = 0.1\n",
    "    if wrt == \"f\":\n",
    "        map.f = var\n",
    "    elif wrt == \"omega\":\n",
    "        map.omega = var\n",
    "    elif wrt == \"inc\":\n",
    "        map.inc = var\n",
    "    elif wrt == \"obl\":\n",
    "        map.obl = var\n",
    "    elif wrt == \"b0\":\n",
    "        yo = var * np.ones_like(xo)\n",
    "    elif wrt == \"ro\":\n",
    "        ro = var\n",
    "    else:\n",
    "        raise ValueError(wrt)\n",
    "    grad = theano.function([var, n], tt.grad(map.flux(xo=xo, yo=yo, ro=ro)[n], var))\n",
    "    arr = np.zeros(res)\n",
    "    for n in range(res):\n",
    "        arr[n] = grad(0.2, n)\n",
    "    plt.plot(arr)"
   ]
  },
  {
   "cell_type": "code",
   "execution_count": null,
   "metadata": {},
   "outputs": [],
   "source": [
    "plot_grad(\"f\")"
   ]
  },
  {
   "cell_type": "code",
   "execution_count": null,
   "metadata": {},
   "outputs": [],
   "source": [
    "plot_grad(\"omega\")"
   ]
  },
  {
   "cell_type": "code",
   "execution_count": null,
   "metadata": {},
   "outputs": [],
   "source": [
    "plot_grad(\"inc\")"
   ]
  },
  {
   "cell_type": "code",
   "execution_count": null,
   "metadata": {},
   "outputs": [],
   "source": [
    "plot_grad(\"obl\")"
   ]
  },
  {
   "cell_type": "code",
   "execution_count": null,
   "metadata": {},
   "outputs": [],
   "source": [
    "plot_grad(\"b0\")"
   ]
  },
  {
   "cell_type": "code",
   "execution_count": null,
   "metadata": {},
   "outputs": [],
   "source": [
    "plot_grad(\"ro\")"
   ]
  }
 ],
 "metadata": {
  "kernelspec": {
   "display_name": "Python 3",
   "language": "python",
   "name": "python3"
  },
  "language_info": {
   "codemirror_mode": {
    "name": "ipython",
    "version": 3
   },
   "file_extension": ".py",
   "mimetype": "text/x-python",
   "name": "python",
   "nbconvert_exporter": "python",
   "pygments_lexer": "ipython3",
   "version": "3.8.3"
  }
 },
 "nbformat": 4,
 "nbformat_minor": 4
}
