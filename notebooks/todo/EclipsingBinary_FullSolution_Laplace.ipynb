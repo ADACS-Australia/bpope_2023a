{
 "cells": [
  {
   "cell_type": "markdown",
   "metadata": {},
   "source": [
    "# Eclipsing binary: Laplace approximation"
   ]
  },
  {
   "cell_type": "markdown",
   "metadata": {},
   "source": [
    "In this notebook, we're continuing our tutorial on how to do inference. In the [last notebook](EclipsingBinary_FullSolution.ipynb), we solved for *everything* at once using `pymc3`.\n",
    "\n",
    "**Note that since we're using pymc3, we need to enable lazy evaluation mode in starry.**"
   ]
  },
  {
   "cell_type": "code",
   "execution_count": null,
   "metadata": {
    "tags": [
     "hide_input"
    ]
   },
   "outputs": [],
   "source": [
    "%matplotlib inline"
   ]
  },
  {
   "cell_type": "code",
   "execution_count": null,
   "metadata": {
    "tags": [
     "hide_input"
    ]
   },
   "outputs": [],
   "source": [
    "%run notebook_setup.py"
   ]
  },
  {
   "cell_type": "code",
   "execution_count": null,
   "metadata": {},
   "outputs": [],
   "source": [
    "import matplotlib\n",
    "import matplotlib.pyplot as plt\n",
    "import numpy as np\n",
    "import pymc3 as pm\n",
    "import exoplanet as xo\n",
    "import os\n",
    "import starry\n",
    "from corner import corner\n",
    "import theano.tensor as tt\n",
    "from tqdm.notebook import tqdm\n",
    "\n",
    "np.random.seed(12)\n",
    "starry.config.lazy = True\n",
    "starry.config.quiet = True"
   ]
  },
  {
   "cell_type": "markdown",
   "metadata": {},
   "source": [
    "## Load the data\n",
    "\n",
    "Let's load the EB dataset:"
   ]
  },
  {
   "cell_type": "code",
   "execution_count": null,
   "metadata": {
    "tags": [
     "hide_input"
    ]
   },
   "outputs": [],
   "source": [
    "# Run the Generate notebook if needed\n",
    "if not os.path.exists(\"eb.npz\"):\n",
    "    import nbformat\n",
    "    from nbconvert.preprocessors import ExecutePreprocessor\n",
    "\n",
    "    with open(\"EclipsingBinary_Generate.ipynb\") as f:\n",
    "        nb = nbformat.read(f, as_version=4)\n",
    "    ep = ExecutePreprocessor(timeout=600, kernel_name=\"python3\")\n",
    "    ep.preprocess(nb);"
   ]
  },
  {
   "cell_type": "code",
   "execution_count": null,
   "metadata": {},
   "outputs": [],
   "source": [
    "data = np.load(\"eb.npz\", allow_pickle=True)\n",
    "A = data[\"A\"].item()\n",
    "B = data[\"B\"].item()\n",
    "t = data[\"t\"]\n",
    "flux = data[\"flux\"]\n",
    "sigma = data[\"sigma\"]"
   ]
  },
  {
   "cell_type": "code",
   "execution_count": null,
   "metadata": {},
   "outputs": [],
   "source": [
    "fig, ax = plt.subplots(1, figsize=(12, 5))\n",
    "ax.plot(t, flux, \"k.\", alpha=0.5, ms=4)\n",
    "ax.set_xlabel(\"time [days]\", fontsize=24)\n",
    "ax.set_ylabel(\"normalized flux\", fontsize=24);"
   ]
  },
  {
   "cell_type": "code",
   "execution_count": null,
   "metadata": {},
   "outputs": [],
   "source": [
    "with pm.Model() as model:\n",
    "\n",
    "    # Force > 0 for some paramss\n",
    "    PositiveNormal = pm.Bound(pm.Normal, lower=0.0)\n",
    "\n",
    "    # Primary\n",
    "    A_inc = pm.Normal(\"A_inc\", mu=80, sd=5, testval=80)\n",
    "    A_amp = 1.0\n",
    "    A_r = PositiveNormal(\"A_r\", mu=0.95, sd=0.1, testval=0.95)\n",
    "    A_m = PositiveNormal(\"A_m\", mu=1.05, sd=0.1, testval=1.05)\n",
    "    A_prot = PositiveNormal(\"A_prot\", mu=1.25, sd=0.01, testval=1.25)\n",
    "    pri = starry.Primary(\n",
    "        starry.Map(ydeg=A[\"ydeg\"], udeg=A[\"udeg\"], inc=A_inc),\n",
    "        r=A_r,\n",
    "        m=A_m,\n",
    "        prot=A_prot,\n",
    "    )\n",
    "    pri.map[1] = A[\"u\"][0]\n",
    "    pri.map[2] = A[\"u\"][1]\n",
    "\n",
    "    # Secondary\n",
    "    B_inc = pm.Normal(\"B_inc\", mu=80, sd=5, testval=80)\n",
    "    B_amp = 0.1\n",
    "    B_r = PositiveNormal(\"B_r\", mu=0.75, sd=0.1, testval=0.75)\n",
    "    B_m = PositiveNormal(\"B_m\", mu=0.70, sd=0.1, testval=0.70)\n",
    "    B_prot = PositiveNormal(\"B_prot\", mu=0.625, sd=0.01, testval=0.625)\n",
    "    B_porb = PositiveNormal(\"B_porb\", mu=1.01, sd=0.01, testval=1.01)\n",
    "    B_t0 = pm.Normal(\"B_t0\", mu=0.15, sd=0.001, testval=0.15)\n",
    "    sec = starry.Secondary(\n",
    "        starry.Map(ydeg=B[\"ydeg\"], udeg=B[\"udeg\"], inc=B_inc),\n",
    "        r=B_r,\n",
    "        m=B_m,\n",
    "        porb=B_porb,\n",
    "        prot=B_prot,\n",
    "        t0=B_t0,\n",
    "        inc=B_inc,\n",
    "    )\n",
    "    sec.map[1] = B[\"u\"][0]\n",
    "    sec.map[2] = B[\"u\"][1]\n",
    "\n",
    "    # System\n",
    "    sys = starry.System(pri, sec)"
   ]
  },
  {
   "cell_type": "markdown",
   "metadata": {},
   "source": [
    "Now let's define our likelihood function. Normally we would call something like `pm.Normal` to define our data likelihood, but since we're analytically marginalizing over the surface maps, we use the `lnlike` method in the `System` object instead. We pass this to `pymc3` via a `Potential`, which allows us to define a custom likelihood function. Note that in order for this to work we need to set gaussian priors on the spherical harmonic coefficients; see the [previous notebook](EclipsingBinary_Linear.ipynb) for more details.\n",
    "\n",
    "Note, also, that at no point have we set the map coefficients or the amplitude of either object. These are never used -- we're marginalizing over them analytically!"
   ]
  },
  {
   "cell_type": "code",
   "execution_count": null,
   "metadata": {},
   "outputs": [],
   "source": [
    "with model:\n",
    "    sys.set_data(flux, C=sigma ** 2)\n",
    "\n",
    "    # Prior on primary\n",
    "    pri_mu = np.zeros(pri.map.Ny)\n",
    "    pri_mu[0] = 1.0\n",
    "    pri_L = np.zeros(pri.map.Ny)\n",
    "    pri_L[0] = 1e-2\n",
    "    pri_L[1:] = 1e-2\n",
    "    pri.map.set_prior(mu=pri_mu, L=pri_L)\n",
    "\n",
    "    # Prior on secondary\n",
    "    sec_mu = np.zeros(pri.map.Ny)\n",
    "    sec_mu[0] = 0.1\n",
    "    sec_L = np.zeros(pri.map.Ny)\n",
    "    sec_L[0] = 1e-4\n",
    "    sec_L[1:] = 1e-4\n",
    "    sec.map.set_prior(mu=sec_mu, L=sec_L)\n",
    "\n",
    "    lnlike = pm.Potential(\"marginal\", sys.lnlike(t=t))"
   ]
  },
  {
   "cell_type": "markdown",
   "metadata": {},
   "source": [
    "Now that we've specified the model, it's a good idea to run a quick gradient descent to find the MAP (maximum a posteriori) solution. This will give us a decent starting point for the inference problem."
   ]
  },
  {
   "cell_type": "code",
   "execution_count": null,
   "metadata": {},
   "outputs": [],
   "source": [
    "with model:\n",
    "    map_soln = xo.optimize()"
   ]
  },
  {
   "cell_type": "markdown",
   "metadata": {},
   "source": [
    "To see how we did, let's plot the best fit solution. We don't have values for the coefficients (because we marginalized over them), so what we do to get a light curve is we *solve* for the coefficients (using `sys.solve()`), conditioned on the best fit values for the orbital parameters. We then set the map coefficients and compute the light curve model using `sys.flux()`. Note that we need to wrap some things in `xo.eval_in_model()` in order to get numerical values out of the `pymc3` model."
   ]
  },
  {
   "cell_type": "code",
   "execution_count": null,
   "metadata": {},
   "outputs": [],
   "source": [
    "with model:\n",
    "    x = xo.eval_in_model(sys.solve(t=t)[0], point=map_soln)\n",
    "    pri.map.amp = x[0]\n",
    "    pri.map[1:, :] = x[1 : pri.map.Ny] / pri.map.amp\n",
    "    sec.map.amp = x[pri.map.Ny]\n",
    "    sec.map[1:, :] = x[pri.map.Ny + 1 :] / sec.map.amp\n",
    "    flux_model = xo.eval_in_model(sys.flux(t=t), point=map_soln)"
   ]
  },
  {
   "cell_type": "code",
   "execution_count": null,
   "metadata": {},
   "outputs": [],
   "source": [
    "model.d2logp()"
   ]
  },
  {
   "cell_type": "code",
   "execution_count": null,
   "metadata": {},
   "outputs": [],
   "source": []
  }
 ],
 "metadata": {
  "celltoolbar": "Raw Cell Format",
  "kernelspec": {
   "display_name": "Python 3",
   "language": "python",
   "name": "python3"
  },
  "language_info": {
   "codemirror_mode": {
    "name": "ipython",
    "version": 3
   },
   "file_extension": ".py",
   "mimetype": "text/x-python",
   "name": "python",
   "nbconvert_exporter": "python",
   "pygments_lexer": "ipython3",
   "version": "3.7.4"
  },
  "nbsphinx_execute": false
 },
 "nbformat": 4,
 "nbformat_minor": 2
}
