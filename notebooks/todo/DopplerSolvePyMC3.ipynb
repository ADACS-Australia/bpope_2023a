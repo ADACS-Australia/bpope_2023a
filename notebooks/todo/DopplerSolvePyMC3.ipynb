{
 "cells": [
  {
   "cell_type": "markdown",
   "metadata": {},
   "source": [
    "# Doppler Solve: PyMC3"
   ]
  },
  {
   "cell_type": "markdown",
   "metadata": {},
   "source": [
    "## Setup"
   ]
  },
  {
   "cell_type": "code",
   "execution_count": null,
   "metadata": {
    "tags": [
     "hide_input"
    ]
   },
   "outputs": [],
   "source": [
    "%matplotlib inline"
   ]
  },
  {
   "cell_type": "code",
   "execution_count": null,
   "metadata": {
    "tags": [
     "hide_input"
    ]
   },
   "outputs": [],
   "source": [
    "%run notebook_setup.py"
   ]
  },
  {
   "cell_type": "code",
   "execution_count": null,
   "metadata": {
    "tags": [
     "hide_input"
    ]
   },
   "outputs": [],
   "source": [
    "import starry\n",
    "\n",
    "starry.config.lazy = True\n",
    "starry.config.quiet = True"
   ]
  },
  {
   "cell_type": "code",
   "execution_count": null,
   "metadata": {},
   "outputs": [],
   "source": [
    "import numpy as np\n",
    "import matplotlib.pyplot as plt\n",
    "import starry\n",
    "import george\n",
    "import pymc3 as pm\n",
    "import pymc3_ext as pmx\n",
    "import theano.tensor as tt\n",
    "from tqdm.auto import tqdm"
   ]
  },
  {
   "cell_type": "code",
   "execution_count": null,
   "metadata": {
    "tags": [
     "hide_input"
    ]
   },
   "outputs": [],
   "source": [
    "def generate(\n",
    "    nc=1,\n",
    "    show=True,\n",
    "    flux_err=1e-4,\n",
    "    ydeg=15,\n",
    "    u=[0.5, 0.25],\n",
    "    nt=16,\n",
    "    inc=40,\n",
    "    veq=60000,\n",
    "    smoothing=0.075,\n",
    "    **kwargs\n",
    "):\n",
    "\n",
    "    # Instantiate\n",
    "    wav = np.linspace(642.85, 643.15, 200)\n",
    "    map_kwargs = dict(\n",
    "        ydeg=ydeg, udeg=len(u), nc=nc, veq=veq, inc=inc, nt=nt, wav=wav\n",
    "    )\n",
    "    map = starry.DopplerMap(lazy=False, **map_kwargs)\n",
    "\n",
    "    # Limb darkening (TODO: fix __setitem__)\n",
    "    map._u = np.append([-1.0], u)\n",
    "\n",
    "    # Component surface images\n",
    "    if nc == 1:\n",
    "        images = [\"spot\"]\n",
    "    elif nc == 2:\n",
    "        images = [\"star\", \"spot\"]\n",
    "    else:\n",
    "        raise NotImplementedError(\"\")\n",
    "\n",
    "    # Component spectra\n",
    "    if nc == 1:\n",
    "        mu = np.array([643.0])\n",
    "    elif nc == 2:\n",
    "        mu = np.array([643.025, 642.975])\n",
    "    else:\n",
    "        raise NotImplementedError(\"\")\n",
    "    sig = 0.0085\n",
    "    dw = map.wav0.reshape(1, -1) - mu.reshape(-1, 1)\n",
    "    spectra = (1.0 - np.exp(-0.5 * dw ** 2 / sig ** 2))[:nc]\n",
    "\n",
    "    # Load the component maps\n",
    "    map.load(maps=images, spectra=spectra, smoothing=smoothing)\n",
    "\n",
    "    # Show\n",
    "    if show:\n",
    "        map.show_components(show_spectra=True)\n",
    "\n",
    "    # Generate unnormalized data\n",
    "    flux0 = map.flux(normalize=False)\n",
    "    flux0 += flux_err * np.random.randn(*flux0.shape)\n",
    "\n",
    "    # Generate normalized data\n",
    "    flux = map.flux(normalize=True)\n",
    "    flux += flux_err * np.random.randn(*flux.shape)\n",
    "\n",
    "    return flux0, flux, map_kwargs"
   ]
  },
  {
   "cell_type": "markdown",
   "metadata": {},
   "source": [
    "## Solve"
   ]
  },
  {
   "cell_type": "code",
   "execution_count": null,
   "metadata": {},
   "outputs": [],
   "source": [
    "settings = dict(\n",
    "    flux_err=1e-4, ydeg=15, nt=16, inc=40, veq=60000, smoothing=0.075\n",
    ")\n",
    "flux0, flux, map_kwargs = generate(nc=1, **settings)"
   ]
  },
  {
   "cell_type": "code",
   "execution_count": null,
   "metadata": {},
   "outputs": [],
   "source": [
    "# Regularization params\n",
    "pb = 1e-3\n",
    "sb = 1e-5\n",
    "\n",
    "with pm.Model() as model:\n",
    "\n",
    "    # Instantiate a uniform map\n",
    "    map = starry.DopplerMap(**map_kwargs)\n",
    "    map._u = np.array([-1.0, 0.5, 0.25])\n",
    "\n",
    "    # SHT matrix\n",
    "    _, _, _, SHT, _, _ = map._map.get_pixel_transforms()\n",
    "    npix = SHT.shape[1]\n",
    "\n",
    "    # Initial guesses\n",
    "    np.random.seed(0)\n",
    "    guess_p = 0.5 + 0.01 * np.random.randn(npix)\n",
    "    guess_spectrum_ = 1 + 0.01 * np.random.randn(map.nw0_)\n",
    "\n",
    "    # The data\n",
    "    flux = flux.reshape(-1)\n",
    "    flux_err = settings[\"flux_err\"]\n",
    "\n",
    "    # Prior on the map\n",
    "    p = pm.Laplace(\"p\", mu=1, b=pb, shape=(npix,), testval=guess_p)\n",
    "    map._y = tt.reshape(\n",
    "        tt.dot(SHT, p),\n",
    "        (map.Ny, 1),\n",
    "    )\n",
    "\n",
    "    # Prior on the spectrum\n",
    "    spectrum_ = pm.Laplace(\n",
    "        \"spectrum_\", mu=1, b=sb, shape=(map.nw0_,), testval=guess_spectrum_\n",
    "    )\n",
    "    map._spectrum = tt.reshape(\n",
    "        spectrum_,\n",
    "        (1, map.nw0_),\n",
    "    )\n",
    "\n",
    "    # Compute the model\n",
    "    flux_model = map.flux()\n",
    "    flux_model = tt.reshape(flux_model, (map.nt * map.nw,))\n",
    "\n",
    "    # Likelihood term\n",
    "    pm.Normal(\"obs\", mu=flux_model, sd=flux_err, observed=flux)"
   ]
  },
  {
   "cell_type": "code",
   "execution_count": null,
   "metadata": {},
   "outputs": [],
   "source": [
    "niter = 1000\n",
    "lr = 1e-1\n",
    "\n",
    "loss = []\n",
    "best_loss = np.inf\n",
    "map_soln = model.test_point\n",
    "with model:\n",
    "    for obj, point in tqdm(\n",
    "        pmx.optim.optimize_iterator(\n",
    "            pmx.optim.Adam(lr=lr), niter, vars=[p, spectrum_], start=map_soln\n",
    "        )\n",
    "    ):\n",
    "        loss.append(obj)\n",
    "        if obj < best_loss:\n",
    "            best_loss = obj\n",
    "            map_soln = point"
   ]
  },
  {
   "cell_type": "code",
   "execution_count": null,
   "metadata": {},
   "outputs": [],
   "source": [
    "with model:\n",
    "    map.show_components(point=map_soln);"
   ]
  }
 ],
 "metadata": {
  "celltoolbar": "Tags",
  "kernelspec": {
   "display_name": "Python 3",
   "language": "python",
   "name": "python3"
  },
  "language_info": {
   "codemirror_mode": {
    "name": "ipython",
    "version": 3
   },
   "file_extension": ".py",
   "mimetype": "text/x-python",
   "name": "python",
   "nbconvert_exporter": "python",
   "pygments_lexer": "ipython3",
   "version": "3.8.3"
  }
 },
 "nbformat": 4,
 "nbformat_minor": 4
}
