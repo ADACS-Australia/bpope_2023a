{
 "cells": [
  {
   "cell_type": "raw",
   "metadata": {
    "raw_mimetype": "text/restructuredtext"
   },
   "source": [
    ".. warning::\n",
    "    This page is still under development."
   ]
  },
  {
   "cell_type": "markdown",
   "metadata": {},
   "source": [
    "# Marginal likelihood timing tests"
   ]
  },
  {
   "cell_type": "code",
   "execution_count": null,
   "metadata": {
    "tags": [
     "hide_input"
    ]
   },
   "outputs": [],
   "source": [
    "%matplotlib inline"
   ]
  },
  {
   "cell_type": "code",
   "execution_count": null,
   "metadata": {
    "tags": [
     "hide_input"
    ]
   },
   "outputs": [],
   "source": [
    "%run notebook_setup.py"
   ]
  },
  {
   "cell_type": "code",
   "execution_count": null,
   "metadata": {
    "tags": [
     "hide_input"
    ]
   },
   "outputs": [],
   "source": [
    "import numpy as np\n",
    "import matplotlib.pyplot as plt\n",
    "import starry\n",
    "import theano\n",
    "import theano.tensor as tt\n",
    "import itertools\n",
    "import time\n",
    "\n",
    "starry.config.lazy = True\n",
    "starry.config.quiet = True"
   ]
  },
  {
   "cell_type": "code",
   "execution_count": null,
   "metadata": {
    "tags": [
     "hide_input"
    ]
   },
   "outputs": [],
   "source": [
    "map5 = starry.Map(ydeg=5)\n",
    "map10 = starry.Map(ydeg=10)"
   ]
  },
  {
   "cell_type": "code",
   "execution_count": null,
   "metadata": {
    "tags": [
     "hide_input"
    ]
   },
   "outputs": [],
   "source": [
    "def get_func_and_grad(ydeg, npts, C, L, woodbury):\n",
    "\n",
    "    if ydeg == 5:\n",
    "        map = map5\n",
    "    else:\n",
    "        map = map10\n",
    "\n",
    "    flux = np.ones(npts)\n",
    "    theta = np.linspace(0, 360, npts)\n",
    "\n",
    "    if C == \"scalar\":\n",
    "        C = np.array(1)\n",
    "    elif C == \"vector\":\n",
    "        C = np.ones(npts)\n",
    "    else:\n",
    "        C = np.eye(npts)\n",
    "\n",
    "    if L == \"scalar\":\n",
    "        L = np.array(1.0)\n",
    "    elif L == \"vector\":\n",
    "        L = np.ones(map.Ny)\n",
    "    else:\n",
    "        L = np.eye(map.Ny)\n",
    "\n",
    "    map.set_data(flux, C=C)\n",
    "    map.set_prior(L=L)\n",
    "\n",
    "    def _lnlike(inc):\n",
    "        map.inc = inc\n",
    "        return map.lnlike(theta=theta, woodbury=woodbury)\n",
    "\n",
    "    # Compile the theano functions\n",
    "    inc = tt.dscalar()\n",
    "    func = theano.function([inc], _lnlike(inc), profile=True)\n",
    "    grad = theano.function([inc], theano.grad(_lnlike(inc), inc), profile=True)\n",
    "    return func, grad"
   ]
  },
  {
   "cell_type": "code",
   "execution_count": null,
   "metadata": {
    "tags": [
     "hide_input"
    ]
   },
   "outputs": [],
   "source": [
    "params = list(\n",
    "    itertools.product(\n",
    "        [5, 10],\n",
    "        [1, 3, 10, 30, 100, 300, 1000],\n",
    "        [\"scalar\", \"vector\", \"matrix\"],\n",
    "        [\"scalar\", \"vector\", \"matrix\"],\n",
    "        [False, True],\n",
    "    )\n",
    ")"
   ]
  },
  {
   "cell_type": "code",
   "execution_count": null,
   "metadata": {
    "tags": [
     "hide_input"
    ]
   },
   "outputs": [],
   "source": [
    "ydeg = np.array([p[0] for p in params])\n",
    "npts = np.array([p[1] for p in params])\n",
    "C = np.array([p[2] for p in params])\n",
    "L = np.array([p[3] for p in params])\n",
    "woodbury = np.array([p[4] for p in params])"
   ]
  },
  {
   "cell_type": "code",
   "execution_count": null,
   "metadata": {
    "tags": [
     "hide_input"
    ]
   },
   "outputs": [],
   "source": [
    "def time_func_and_grad(*args, nruns=10):\n",
    "    func, grad = get_func_and_grad(*args)\n",
    "    tfunc = np.zeros(nruns)\n",
    "    tgrad = np.zeros(nruns)\n",
    "    for k in range(nruns):\n",
    "        tstart = time.time()\n",
    "        func(30.0)\n",
    "        tfunc[k] = time.time() - tstart\n",
    "        tstart = time.time()\n",
    "        grad(30.0)\n",
    "        tgrad[k] = time.time() - tstart\n",
    "    tfunc = np.median(tfunc)\n",
    "    tgrad = np.median(tgrad)\n",
    "    return tfunc, tgrad\n",
    "\n",
    "\n",
    "tfunc = np.zeros(len(params))\n",
    "tgrad = np.zeros(len(params))\n",
    "for i, args in enumerate(params):\n",
    "    tfunc[i], tgrad[i] = time_func_and_grad(*args)"
   ]
  },
  {
   "cell_type": "code",
   "execution_count": null,
   "metadata": {},
   "outputs": [],
   "source": [
    "for l in [5, 10]:\n",
    "\n",
    "    plt.figure(figsize=(12, 7))\n",
    "\n",
    "    i = woodbury & (ydeg == l)\n",
    "    plt.plot(npts[i], tfunc[i], \"C0o\")\n",
    "    plt.plot(npts[i], tfunc[i], \"C0-\", lw=2, alpha=0.5)\n",
    "    plt.plot(npts[i], tgrad[i], \"C0^\")\n",
    "    plt.plot(npts[i], tgrad[i], \"C0-\", lw=2, alpha=0.5)\n",
    "\n",
    "    i = np.invert(woodbury) & (ydeg == l)\n",
    "    plt.plot(npts[i], tfunc[i], \"C1o\")\n",
    "    plt.plot(npts[i], tfunc[i], \"C1-\", lw=2, alpha=0.5)\n",
    "    plt.plot(npts[i], tgrad[i], \"C1^\")\n",
    "    plt.plot(npts[i], tgrad[i], \"C1-\", lw=2, alpha=0.5)\n",
    "\n",
    "    plt.xscale(\"log\")\n",
    "    plt.yscale(\"log\")\n",
    "    plt.ylim(1e-4, 1e-1)\n",
    "\n",
    "    plt.plot([0], [0], \"ko\", label=\"func\")\n",
    "    plt.plot([0], [0], \"k^\", label=\"grad\")\n",
    "    plt.plot([0], [0], \"C0-\", label=\"woodbury\")\n",
    "    plt.plot([0], [0], \"C1-\", label=\"standard\")\n",
    "    plt.legend(fontsize=10)\n",
    "\n",
    "    plt.xlabel(\"number of light curve points\")\n",
    "    plt.ylabel(\"time per function call [s]\")\n",
    "\n",
    "    plt.title(\"Degree {}\".format(l), fontsize=24)"
   ]
  }
 ],
 "metadata": {
  "celltoolbar": "Raw Cell Format",
  "kernelspec": {
   "display_name": "Python 3",
   "language": "python",
   "name": "python3"
  },
  "language_info": {
   "codemirror_mode": {
    "name": "ipython",
    "version": 3
   },
   "file_extension": ".py",
   "mimetype": "text/x-python",
   "name": "python",
   "nbconvert_exporter": "python",
   "pygments_lexer": "ipython3",
   "version": "3.7.4"
  }
 },
 "nbformat": 4,
 "nbformat_minor": 2
}
