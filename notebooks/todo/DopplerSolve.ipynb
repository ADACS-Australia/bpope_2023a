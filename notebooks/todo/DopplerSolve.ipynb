{
 "cells": [
  {
   "cell_type": "markdown",
   "metadata": {},
   "source": [
    "# Doppler Solve"
   ]
  },
  {
   "cell_type": "code",
   "execution_count": null,
   "metadata": {
    "tags": [
     "hide_input"
    ]
   },
   "outputs": [],
   "source": [
    "%matplotlib inline"
   ]
  },
  {
   "cell_type": "code",
   "execution_count": null,
   "metadata": {
    "tags": [
     "hide_input"
    ]
   },
   "outputs": [],
   "source": [
    "%run notebook_setup.py"
   ]
  },
  {
   "cell_type": "code",
   "execution_count": null,
   "metadata": {
    "tags": [
     "hide_input"
    ]
   },
   "outputs": [],
   "source": [
    "import starry\n",
    "\n",
    "starry.config.lazy = False\n",
    "starry.config.quiet = True"
   ]
  },
  {
   "cell_type": "code",
   "execution_count": null,
   "metadata": {},
   "outputs": [],
   "source": [
    "import numpy as np\n",
    "import matplotlib.pyplot as plt\n",
    "import starry\n",
    "from tqdm.auto import tqdm"
   ]
  },
  {
   "cell_type": "code",
   "execution_count": null,
   "metadata": {},
   "outputs": [],
   "source": [
    "def generate(\n",
    "    nc=1,\n",
    "    show=True,\n",
    "    flux_err=1e-6,\n",
    "    ydeg=15,\n",
    "    nt=32,\n",
    "    inc=75,\n",
    "    veq=50000,\n",
    "    smoothing=0.075,\n",
    "    **kwargs\n",
    "):\n",
    "\n",
    "    # Instantiate\n",
    "    map = starry.DopplerMap(ydeg=ydeg, nc=nc, veq=veq, inc=inc, nt=nt)\n",
    "\n",
    "    # Component surface images\n",
    "    if nc == 1:\n",
    "        images = [\"spot\"]\n",
    "    elif nc == 2:\n",
    "        images = [\"star\", \"spot\"]\n",
    "    else:\n",
    "        raise NotImplementedError(\"\")\n",
    "\n",
    "    # Component spectra\n",
    "    mu = np.array([643.1, 642.9])\n",
    "    sig = 0.025\n",
    "    dw = map.wav0.reshape(1, -1) - mu.reshape(-1, 1)\n",
    "    spectra = (1.0 - np.exp(-0.5 * dw ** 2 / sig ** 2))[:nc]\n",
    "\n",
    "    # Load the component maps\n",
    "    map.load(images=images, spectra=spectra, smoothing=smoothing)\n",
    "\n",
    "    # Show\n",
    "    if show:\n",
    "        map.show_components(show_spectra=True)\n",
    "\n",
    "    # Generate unnormalized data\n",
    "    flux0 = map.flux(normalize=False)\n",
    "    flux0 += flux_err * np.random.randn(*flux0.shape)\n",
    "\n",
    "    # Generate normalized data\n",
    "    flux = map.flux(normalize=True)\n",
    "    flux += flux_err * np.random.randn(*flux.shape)\n",
    "\n",
    "    return map, flux0, flux"
   ]
  },
  {
   "cell_type": "markdown",
   "metadata": {},
   "source": [
    "## Solve for the map"
   ]
  },
  {
   "cell_type": "markdown",
   "metadata": {},
   "source": [
    "### One component"
   ]
  },
  {
   "cell_type": "code",
   "execution_count": null,
   "metadata": {},
   "outputs": [],
   "source": [
    "settings = dict(flux_err=1e-6, ydeg=15, nt=16, inc=60, veq=50000, smoothing=0.075)\n",
    "map, flux0, flux = generate(nc=1, **settings)"
   ]
  },
  {
   "cell_type": "code",
   "execution_count": null,
   "metadata": {},
   "outputs": [],
   "source": [
    "# Unnormalized data\n",
    "map[:, :] = 0\n",
    "spatial_cov = np.ones(map.Ny)\n",
    "spatial_cov[1:] = 1e-3\n",
    "map.solve(\n",
    "    flux0,\n",
    "    normalized=False,\n",
    "    fix_spectrum=True,\n",
    "    flux_err=settings[\"flux_err\"],\n",
    "    spatial_cov=spatial_cov,\n",
    ")\n",
    "map.show_components(show_spectra=False)"
   ]
  },
  {
   "cell_type": "code",
   "execution_count": null,
   "metadata": {},
   "outputs": [],
   "source": [
    "# Normalized data; tempered solve\n",
    "map[:, :] = 0\n",
    "spatial_cov = np.ones(map.Ny)\n",
    "spatial_cov[1:] = 1e-7\n",
    "map.solve(\n",
    "    flux,\n",
    "    normalized=True,\n",
    "    fix_spectrum=True,\n",
    "    flux_err=settings[\"flux_err\"],\n",
    "    spatial_cov=spatial_cov,\n",
    ")\n",
    "map.show_components(show_spectra=False)"
   ]
  },
  {
   "cell_type": "markdown",
   "metadata": {},
   "source": [
    "### Two components"
   ]
  },
  {
   "cell_type": "code",
   "execution_count": null,
   "metadata": {},
   "outputs": [],
   "source": [
    "# Normalized data; tempered solve + gradient descent\n",
    "map[:, :] = 0\n",
    "info = map.solve(\n",
    "    flux,\n",
    "    normalized=True,\n",
    "    fix_spectrum=True,\n",
    "    flux_err=settings[\"flux_err\"],\n",
    "    niter=100000,\n",
    ")\n",
    "map.show_components(show_spectra=False)"
   ]
  },
  {
   "cell_type": "code",
   "execution_count": null,
   "metadata": {},
   "outputs": [],
   "source": []
  }
 ],
 "metadata": {
  "kernelspec": {
   "display_name": "Python 3",
   "language": "python",
   "name": "python3"
  },
  "language_info": {
   "codemirror_mode": {
    "name": "ipython",
    "version": 3
   },
   "file_extension": ".py",
   "mimetype": "text/x-python",
   "name": "python",
   "nbconvert_exporter": "python",
   "pygments_lexer": "ipython3",
   "version": "3.8.3"
  }
 },
 "nbformat": 4,
 "nbformat_minor": 4
}
