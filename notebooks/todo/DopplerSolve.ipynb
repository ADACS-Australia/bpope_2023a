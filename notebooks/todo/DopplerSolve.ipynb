{
 "cells": [
  {
   "cell_type": "markdown",
   "metadata": {},
   "source": [
    "# Doppler Solve: Bilinear"
   ]
  },
  {
   "cell_type": "markdown",
   "metadata": {},
   "source": [
    "## Setup"
   ]
  },
  {
   "cell_type": "code",
   "execution_count": null,
   "metadata": {
    "tags": [
     "hide_input"
    ]
   },
   "outputs": [],
   "source": [
    "%matplotlib inline"
   ]
  },
  {
   "cell_type": "code",
   "execution_count": null,
   "metadata": {
    "tags": [
     "hide_input"
    ]
   },
   "outputs": [],
   "source": [
    "%run notebook_setup.py"
   ]
  },
  {
   "cell_type": "code",
   "execution_count": null,
   "metadata": {
    "tags": [
     "hide_input"
    ]
   },
   "outputs": [],
   "source": [
    "import starry\n",
    "\n",
    "starry.config.lazy = False\n",
    "starry.config.quiet = True"
   ]
  },
  {
   "cell_type": "code",
   "execution_count": null,
   "metadata": {},
   "outputs": [],
   "source": [
    "import numpy as np\n",
    "import matplotlib.pyplot as plt\n",
    "import starry\n",
    "import george"
   ]
  },
  {
   "cell_type": "code",
   "execution_count": null,
   "metadata": {
    "tags": [
     "hide_input"
    ]
   },
   "outputs": [],
   "source": [
    "def generate(\n",
    "    nc=1,\n",
    "    show=True,\n",
    "    flux_err=1e-4,\n",
    "    ydeg=15,\n",
    "    u=[0.5, 0.25],\n",
    "    nt=16,\n",
    "    inc=40,\n",
    "    veq=60000,\n",
    "    smoothing=0.075,\n",
    "    **kwargs\n",
    "):\n",
    "\n",
    "    # Instantiate\n",
    "    wav = np.linspace(642.85, 643.15, 200)\n",
    "    map = starry.DopplerMap(\n",
    "        lazy=False,\n",
    "        ydeg=ydeg,\n",
    "        udeg=len(u),\n",
    "        nc=nc,\n",
    "        veq=veq,\n",
    "        inc=inc,\n",
    "        nt=nt,\n",
    "        wav=wav,\n",
    "    )\n",
    "\n",
    "    # Limb darkening (TODO: fix __setitem__)\n",
    "    map._u = np.append([-1.0], u)\n",
    "\n",
    "    # Component surface images\n",
    "    if nc == 1:\n",
    "        images = [\"spot\"]\n",
    "    elif nc == 2:\n",
    "        images = [\"star\", \"spot\"]\n",
    "    else:\n",
    "        raise NotImplementedError(\"\")\n",
    "\n",
    "    # Component spectra\n",
    "    if nc == 1:\n",
    "        mu = np.array([643.0])\n",
    "    elif nc == 2:\n",
    "        mu = np.array([643.025, 642.975])\n",
    "    else:\n",
    "        raise NotImplementedError(\"\")\n",
    "    sig = 0.0085\n",
    "    dw = map.wav0.reshape(1, -1) - mu.reshape(-1, 1)\n",
    "    spectra = (1.0 - np.exp(-0.5 * dw ** 2 / sig ** 2))[:nc]\n",
    "\n",
    "    # Load the component maps\n",
    "    map.load(maps=images, spectra=spectra, smoothing=smoothing)\n",
    "\n",
    "    # Show\n",
    "    if show:\n",
    "        map.show_components(show_spectra=True)\n",
    "\n",
    "    # Generate unnormalized data\n",
    "    flux0 = map.flux(normalize=False)\n",
    "    flux0 += flux_err * np.random.randn(*flux0.shape)\n",
    "\n",
    "    # Generate normalized data\n",
    "    flux = map.flux(normalize=True)\n",
    "    flux += flux_err * np.random.randn(*flux.shape)\n",
    "\n",
    "    # Reset the map\n",
    "    def reset_spectrum():\n",
    "        map._spectrum = np.ones((map.nc, map.nw0_))\n",
    "\n",
    "    def reset_map():\n",
    "        map._y = np.zeros((map.Ny, map.nc))\n",
    "        map._y[0] = 1.0\n",
    "\n",
    "    map.reset_spectrum = reset_spectrum\n",
    "    map.reset_map = reset_map\n",
    "\n",
    "    return map, flux0, flux"
   ]
  },
  {
   "cell_type": "markdown",
   "metadata": {},
   "source": [
    "## Solve for the spectrum"
   ]
  },
  {
   "cell_type": "markdown",
   "metadata": {},
   "source": [
    "### One component"
   ]
  },
  {
   "cell_type": "markdown",
   "metadata": {},
   "source": [
    "#### Generate the data"
   ]
  },
  {
   "cell_type": "code",
   "execution_count": null,
   "metadata": {},
   "outputs": [],
   "source": [
    "settings = dict(\n",
    "    flux_err=1e-4, ydeg=15, nt=16, inc=40, veq=60000, smoothing=0.075\n",
    ")\n",
    "map, flux0, flux = generate(nc=1, **settings)"
   ]
  },
  {
   "cell_type": "markdown",
   "metadata": {},
   "source": [
    "#### Unnormalized solve"
   ]
  },
  {
   "cell_type": "code",
   "execution_count": null,
   "metadata": {},
   "outputs": [],
   "source": [
    "map.reset_spectrum()\n",
    "map.solve(flux0, normalized=False, fix_map=True, flux_err=settings[\"flux_err\"])\n",
    "map.show_components(show_maps=False)"
   ]
  },
  {
   "cell_type": "markdown",
   "metadata": {},
   "source": [
    "#### Normalized solve"
   ]
  },
  {
   "cell_type": "code",
   "execution_count": null,
   "metadata": {},
   "outputs": [],
   "source": [
    "map.reset_spectrum()\n",
    "map.solve(flux, normalized=True, fix_map=True, flux_err=settings[\"flux_err\"])\n",
    "map.show_components(show_maps=False)"
   ]
  },
  {
   "cell_type": "markdown",
   "metadata": {},
   "source": [
    "### Two components"
   ]
  },
  {
   "cell_type": "markdown",
   "metadata": {},
   "source": [
    "#### Generate the data"
   ]
  },
  {
   "cell_type": "code",
   "execution_count": null,
   "metadata": {},
   "outputs": [],
   "source": [
    "settings = dict(\n",
    "    flux_err=1e-4, ydeg=15, nt=16, inc=40, veq=60000, smoothing=0.075\n",
    ")\n",
    "map, flux0, flux = generate(nc=2, **settings)"
   ]
  },
  {
   "cell_type": "markdown",
   "metadata": {},
   "source": [
    "#### Unnormalized solve"
   ]
  },
  {
   "cell_type": "code",
   "execution_count": null,
   "metadata": {},
   "outputs": [],
   "source": [
    "map.reset_spectrum()\n",
    "map.solve(flux0, normalized=False, fix_map=True, flux_err=settings[\"flux_err\"])\n",
    "map.show_components(show_maps=False)"
   ]
  },
  {
   "cell_type": "markdown",
   "metadata": {},
   "source": [
    "#### Normalized solve"
   ]
  },
  {
   "cell_type": "code",
   "execution_count": null,
   "metadata": {},
   "outputs": [],
   "source": [
    "map.reset_spectrum()\n",
    "map.solve(flux, normalized=True, fix_map=True, flux_err=settings[\"flux_err\"])\n",
    "map.show_components(show_maps=False)"
   ]
  },
  {
   "cell_type": "markdown",
   "metadata": {},
   "source": [
    "## Solve for the map"
   ]
  },
  {
   "cell_type": "markdown",
   "metadata": {},
   "source": [
    "### One component"
   ]
  },
  {
   "cell_type": "markdown",
   "metadata": {},
   "source": [
    "#### Generate the data"
   ]
  },
  {
   "cell_type": "code",
   "execution_count": null,
   "metadata": {},
   "outputs": [],
   "source": [
    "settings = dict(\n",
    "    flux_err=1e-4, ydeg=15, nt=16, inc=40, veq=60000, smoothing=0.075\n",
    ")\n",
    "map, flux0, flux = generate(nc=1, **settings)"
   ]
  },
  {
   "cell_type": "markdown",
   "metadata": {},
   "source": [
    "#### Unnormalized solve"
   ]
  },
  {
   "cell_type": "code",
   "execution_count": null,
   "metadata": {},
   "outputs": [],
   "source": [
    "map.reset_map()\n",
    "map.solve(\n",
    "    flux0, normalized=False, fix_spectrum=True, flux_err=settings[\"flux_err\"]\n",
    ")\n",
    "map.show_components(show_spectra=False)"
   ]
  },
  {
   "cell_type": "markdown",
   "metadata": {},
   "source": [
    "#### Normalized solve w/ tempering"
   ]
  },
  {
   "cell_type": "code",
   "execution_count": null,
   "metadata": {},
   "outputs": [],
   "source": [
    "map.reset_map()\n",
    "map.solve(\n",
    "    flux,\n",
    "    normalized=True,\n",
    "    fix_spectrum=True,\n",
    "    flux_err=settings[\"flux_err\"],\n",
    "    logT0=12,\n",
    ")\n",
    "map.show_components(show_spectra=False)"
   ]
  },
  {
   "cell_type": "markdown",
   "metadata": {},
   "source": [
    "### Two components"
   ]
  },
  {
   "cell_type": "markdown",
   "metadata": {},
   "source": [
    "#### Generate the data"
   ]
  },
  {
   "cell_type": "code",
   "execution_count": null,
   "metadata": {},
   "outputs": [],
   "source": [
    "settings = dict(\n",
    "    flux_err=1e-4, ydeg=15, nt=16, inc=40, veq=60000, smoothing=0.075\n",
    ")\n",
    "map, flux0, flux = generate(nc=2, **settings)"
   ]
  },
  {
   "cell_type": "markdown",
   "metadata": {},
   "source": [
    "#### Unnormalized solve"
   ]
  },
  {
   "cell_type": "code",
   "execution_count": null,
   "metadata": {},
   "outputs": [],
   "source": [
    "map.reset_map()\n",
    "map.solve(\n",
    "    flux0, normalized=False, fix_spectrum=True, flux_err=settings[\"flux_err\"]\n",
    ")\n",
    "map.show_components(show_spectra=False)"
   ]
  },
  {
   "cell_type": "markdown",
   "metadata": {},
   "source": [
    "#### Normalized solve w/ tempering"
   ]
  },
  {
   "cell_type": "code",
   "execution_count": null,
   "metadata": {},
   "outputs": [],
   "source": [
    "map.reset_map()\n",
    "map.solve(\n",
    "    flux,\n",
    "    normalized=True,\n",
    "    fix_spectrum=True,\n",
    "    flux_err=settings[\"flux_err\"],\n",
    "    logT0=12,\n",
    ")\n",
    "map.show_components(show_spectra=False)"
   ]
  },
  {
   "cell_type": "markdown",
   "metadata": {},
   "source": [
    "## Solve for everything"
   ]
  },
  {
   "cell_type": "markdown",
   "metadata": {},
   "source": [
    "### One component"
   ]
  },
  {
   "cell_type": "markdown",
   "metadata": {},
   "source": [
    "#### Generate the data"
   ]
  },
  {
   "cell_type": "code",
   "execution_count": null,
   "metadata": {},
   "outputs": [],
   "source": [
    "settings = dict(\n",
    "    flux_err=1e-4, ydeg=15, nt=16, inc=40, veq=60000, smoothing=0.075\n",
    ")\n",
    "map, flux0, flux = generate(nc=1, **settings)"
   ]
  },
  {
   "cell_type": "markdown",
   "metadata": {},
   "source": [
    "#### Unnormalized solve"
   ]
  },
  {
   "cell_type": "code",
   "execution_count": null,
   "metadata": {},
   "outputs": [],
   "source": [
    "spectral_cov = george.GP(\n",
    "    1e-2 * george.kernels.Matern32Kernel(1e-3)\n",
    ").get_matrix(map.wav0)\n",
    "info = map.solve(\n",
    "    flux0,\n",
    "    normalized=False,\n",
    "    flux_err=settings[\"flux_err\"],\n",
    "    logT0=2,\n",
    "    spectral_cov=spectral_cov,\n",
    ")\n",
    "map.show_components()"
   ]
  },
  {
   "cell_type": "markdown",
   "metadata": {},
   "source": [
    "#### Normalized solve"
   ]
  },
  {
   "cell_type": "code",
   "execution_count": null,
   "metadata": {},
   "outputs": [],
   "source": [
    "spectral_cov = george.GP(\n",
    "    1e-2 * george.kernels.Matern32Kernel(1e-3)\n",
    ").get_matrix(map.wav0)\n",
    "map.solve(\n",
    "    flux,\n",
    "    normalized=True,\n",
    "    flux_err=settings[\"flux_err\"],\n",
    "    logT0=2,\n",
    "    spectral_cov=spectral_cov,\n",
    ")\n",
    "map.show_components()"
   ]
  },
  {
   "cell_type": "markdown",
   "metadata": {},
   "source": [
    "### Two components"
   ]
  },
  {
   "cell_type": "markdown",
   "metadata": {},
   "source": [
    "This is in general very hard to do without good prior information! See the separate notebook on the general two-component problem."
   ]
  }
 ],
 "metadata": {
  "celltoolbar": "Tags",
  "kernelspec": {
   "display_name": "Python 3",
   "language": "python",
   "name": "python3"
  },
  "language_info": {
   "codemirror_mode": {
    "name": "ipython",
    "version": 3
   },
   "file_extension": ".py",
   "mimetype": "text/x-python",
   "name": "python",
   "nbconvert_exporter": "python",
   "pygments_lexer": "ipython3",
   "version": "3.8.3"
  }
 },
 "nbformat": 4,
 "nbformat_minor": 4
}
