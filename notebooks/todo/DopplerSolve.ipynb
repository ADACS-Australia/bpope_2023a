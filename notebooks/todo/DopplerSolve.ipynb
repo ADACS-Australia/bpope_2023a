{
 "cells": [
  {
   "cell_type": "markdown",
   "metadata": {},
   "source": [
    "# Doppler Solve"
   ]
  },
  {
   "cell_type": "code",
   "execution_count": null,
   "metadata": {
    "tags": [
     "hide_input"
    ]
   },
   "outputs": [],
   "source": [
    "%matplotlib inline"
   ]
  },
  {
   "cell_type": "code",
   "execution_count": null,
   "metadata": {
    "tags": [
     "hide_input"
    ]
   },
   "outputs": [],
   "source": [
    "%run notebook_setup.py"
   ]
  },
  {
   "cell_type": "code",
   "execution_count": null,
   "metadata": {
    "tags": [
     "hide_input"
    ]
   },
   "outputs": [],
   "source": [
    "import starry\n",
    "\n",
    "starry.config.lazy = False\n",
    "starry.config.quiet = True"
   ]
  },
  {
   "cell_type": "code",
   "execution_count": null,
   "metadata": {},
   "outputs": [],
   "source": [
    "import numpy as np\n",
    "import matplotlib.pyplot as plt\n",
    "import starry\n",
    "from tqdm.auto import tqdm"
   ]
  },
  {
   "cell_type": "code",
   "execution_count": null,
   "metadata": {},
   "outputs": [],
   "source": [
    "nc = 2\n",
    "map = starry.DopplerMap(15, nc=nc, veq=50000, inc=75, nt=32)"
   ]
  },
  {
   "cell_type": "code",
   "execution_count": null,
   "metadata": {},
   "outputs": [],
   "source": [
    "# Component surface images\n",
    "images = [\"star\", \"spot\"][:nc]\n",
    "\n",
    "# Component spectra\n",
    "mu = np.array([643.1, 642.9])\n",
    "sig = 0.025\n",
    "dw = map.wav0.reshape(1, -1) - mu.reshape(-1, 1)\n",
    "spectra = (1.0 - np.exp(-0.5 * dw ** 2 / sig ** 2))[:nc]\n",
    "\n",
    "# Load the component maps\n",
    "map.load(images=images, spectra=spectra, smoothing=0.075)\n",
    "y_true = np.array(map.y)\n",
    "\n",
    "# Show\n",
    "map.show_components(show_spectra=False)"
   ]
  },
  {
   "cell_type": "code",
   "execution_count": null,
   "metadata": {},
   "outputs": [],
   "source": [
    "# Generate\n",
    "flux_err = 1e-6\n",
    "map.reset(veq=50000, inc=75)\n",
    "map.load(images=images, spectra=spectra, smoothing=0.075)\n",
    "flux = map.flux(normalize=False)\n",
    "flux += flux_err * np.random.randn(*flux.shape)\n",
    "\n",
    "# Solve\n",
    "map.solve(flux, normalized=False, fix_spectrum=True, flux_err=flux_err)\n",
    "map.show_components(show_spectra=False)"
   ]
  },
  {
   "cell_type": "code",
   "execution_count": null,
   "metadata": {},
   "outputs": [],
   "source": [
    "# Generate\n",
    "flux_err = 1e-6\n",
    "map.reset(veq=50000, inc=75)\n",
    "map.load(images=images, spectra=spectra, smoothing=0.075)\n",
    "flux = map.flux(normalize=True)\n",
    "flux += flux_err * np.random.randn(*flux.shape)\n",
    "\n",
    "# Solve\n",
    "map.solve(flux, normalized=True, fix_spectrum=True, flux_err=flux_err)\n",
    "map.show_components(show_spectra=False)"
   ]
  },
  {
   "cell_type": "code",
   "execution_count": null,
   "metadata": {},
   "outputs": [],
   "source": [
    "# Generate\n",
    "flux_err = 1e-6\n",
    "map.reset(veq=50000, inc=75)\n",
    "map.load(images=images, spectra=spectra, smoothing=0.075)\n",
    "flux = map.flux(normalize=True)\n",
    "flux += flux_err * np.random.randn(*flux.shape)\n",
    "\n",
    "# Solve\n",
    "map.solve(flux, normalized=True, fix_spectrum=True, flux_err=flux_err, niter=100000)\n",
    "map.show_components(show_spectra=False)"
   ]
  }
 ],
 "metadata": {
  "kernelspec": {
   "display_name": "Python 3",
   "language": "python",
   "name": "python3"
  },
  "language_info": {
   "codemirror_mode": {
    "name": "ipython",
    "version": 3
   },
   "file_extension": ".py",
   "mimetype": "text/x-python",
   "name": "python",
   "nbconvert_exporter": "python",
   "pygments_lexer": "ipython3",
   "version": "3.8.3"
  }
 },
 "nbformat": 4,
 "nbformat_minor": 4
}
