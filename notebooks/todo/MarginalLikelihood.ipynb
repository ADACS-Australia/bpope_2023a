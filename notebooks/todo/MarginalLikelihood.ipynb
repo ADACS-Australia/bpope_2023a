{
 "cells": [
  {
   "cell_type": "markdown",
   "metadata": {},
   "source": [
    "# Marginal likelihood timing tests"
   ]
  },
  {
   "cell_type": "code",
   "execution_count": null,
   "metadata": {
    "tags": [
     "hide_input"
    ]
   },
   "outputs": [],
   "source": [
    "%matplotlib inline"
   ]
  },
  {
   "cell_type": "code",
   "execution_count": null,
   "metadata": {
    "tags": [
     "hide_input"
    ]
   },
   "outputs": [],
   "source": [
    "%run notebook_setup.py"
   ]
  },
  {
   "cell_type": "code",
   "execution_count": null,
   "metadata": {},
   "outputs": [],
   "source": [
    "import numpy as np\n",
    "import matplotlib.pyplot as plt\n",
    "import starry\n",
    "import theano\n",
    "import theano.tensor as tt\n",
    "\n",
    "starry.config.lazy = True"
   ]
  },
  {
   "cell_type": "code",
   "execution_count": null,
   "metadata": {},
   "outputs": [],
   "source": [
    "np.random.seed(0)\n",
    "map = starry.Map(ydeg=10)\n",
    "inc_true = 60.0\n",
    "map.inc = inc_true\n",
    "map[1:, :] = np.random.randn(map.Ny - 1)\n",
    "npts = 1000\n",
    "sigma = 0.05\n",
    "theta = np.linspace(0, 360, npts)\n",
    "flux = map.flux(theta=theta).eval()\n",
    "flux += np.random.randn(npts) * sigma"
   ]
  },
  {
   "cell_type": "code",
   "execution_count": null,
   "metadata": {},
   "outputs": [],
   "source": [
    "plt.plot(theta, flux)\n",
    "plt.xlabel(r\"$\\theta$ [deg]\")\n",
    "plt.ylabel(r\"flux [arbitrary units]\");"
   ]
  },
  {
   "cell_type": "markdown",
   "metadata": {},
   "source": [
    "## Compute the posterior over inclination"
   ]
  },
  {
   "cell_type": "code",
   "execution_count": null,
   "metadata": {},
   "outputs": [],
   "source": [
    "map.set_data(flux, C=sigma ** 2)\n",
    "map.set_prior(L=1)\n",
    "\n",
    "\n",
    "def _lnlike(inc):\n",
    "    map.inc = inc\n",
    "    return map.lnlike(theta=theta)\n",
    "\n",
    "\n",
    "inc = tt.dscalar()\n",
    "lnlike = theano.function([inc], _lnlike(inc), profile=True)"
   ]
  },
  {
   "cell_type": "code",
   "execution_count": null,
   "metadata": {},
   "outputs": [],
   "source": [
    "incs = np.linspace(0, 90, 50)\n",
    "ll_val = np.array([lnlike(inc) for inc in incs])\n",
    "\n",
    "like = np.exp(ll_val - ll_val.max())\n",
    "plt.plot(incs, like)\n",
    "plt.xlabel(r\"$\\theta$ [deg]\")\n",
    "plt.ylabel(r\"posterior probability\")\n",
    "plt.axvline(inc_true, color=\"C1\", label=\"true\")\n",
    "plt.legend();"
   ]
  },
  {
   "cell_type": "markdown",
   "metadata": {},
   "source": [
    "## Timing tests"
   ]
  },
  {
   "cell_type": "code",
   "execution_count": null,
   "metadata": {},
   "outputs": [],
   "source": [
    "def get_func_and_grad(C, L, woodbury):\n",
    "\n",
    "    map.set_data(flux, C=C)\n",
    "    map.set_prior(L=L)\n",
    "\n",
    "    def _lnlike(inc):\n",
    "        map.inc = inc\n",
    "        return map.lnlike(theta=theta, woodbury=woodbury)\n",
    "\n",
    "    # Compile the theano functions\n",
    "    inc = tt.dscalar()\n",
    "    func = theano.function([inc], _lnlike(inc), profile=True)\n",
    "    grad = theano.function([inc], theano.grad(_lnlike(inc), inc), profile=True)\n",
    "    return func, grad"
   ]
  },
  {
   "cell_type": "code",
   "execution_count": null,
   "metadata": {},
   "outputs": [],
   "source": [
    "import itertools"
   ]
  },
  {
   "cell_type": "code",
   "execution_count": null,
   "metadata": {},
   "outputs": [],
   "source": [
    "C = [np.array(sigma ** 2), sigma ** 2 * np.ones(npts), sigma ** 2 * np.eye(npts)]\n",
    "L = [np.array(1.0), np.ones(map.Ny - 1), np.eye(map.Ny - 1)]\n",
    "woodbury = [False, True]\n",
    "params = list(itertools.product(C, L, woodbury))"
   ]
  },
  {
   "cell_type": "code",
   "execution_count": null,
   "metadata": {},
   "outputs": [],
   "source": [
    "ms = list(itertools.product(C, L, woodbury))"
   ]
  },
  {
   "cell_type": "code",
   "execution_count": null,
   "metadata": {},
   "outputs": [],
   "source": [
    "def color(param):\n",
    "    if type(param) is bool:\n",
    "        if param is True:\n",
    "            return \"w\"\n",
    "        else:\n",
    "            return \"k\"\n",
    "    elif param.ndim == 0:\n",
    "        return \"C0\"\n",
    "    elif param.ndim == 1:\n",
    "        return \"C1\"\n",
    "    else:\n",
    "        return \"C2\"\n",
    "\n",
    "\n",
    "c1 = []\n",
    "c2 = []\n",
    "c3 = []\n",
    "for param in params:\n",
    "    c1.append(color(param[0]))\n",
    "    c2.append(color(param[1]))\n",
    "    c3.append(color(param[2]))"
   ]
  },
  {
   "cell_type": "code",
   "execution_count": null,
   "metadata": {},
   "outputs": [],
   "source": [
    "from tqdm.notebook import tqdm\n",
    "import time"
   ]
  },
  {
   "cell_type": "code",
   "execution_count": null,
   "metadata": {},
   "outputs": [],
   "source": [
    "def time_func_and_grad(*args, nruns=10):\n",
    "    func, grad = get_func_and_grad(*args)\n",
    "    tfunc = np.zeros(nruns)\n",
    "    tgrad = np.zeros(nruns)\n",
    "    for k in range(nruns):\n",
    "        tstart = time.time()\n",
    "        func(inc_true)\n",
    "        tfunc[k] = time.time() - tstart\n",
    "        tstart = time.time()\n",
    "        grad(inc_true)\n",
    "        tgrad[k] = time.time() - tstart\n",
    "    tfunc = np.median(tfunc)\n",
    "    tgrad = np.median(tgrad)\n",
    "    return tfunc, tgrad\n",
    "\n",
    "\n",
    "tfunc = np.zeros(len(params))\n",
    "tgrad = np.zeros(len(params))\n",
    "for i, args in tqdm(enumerate(params), total=len(params)):\n",
    "    tfunc[i], tgrad[i] = time_func_and_grad(*args)"
   ]
  },
  {
   "cell_type": "code",
   "execution_count": null,
   "metadata": {},
   "outputs": [],
   "source": [
    "plt.scatter(tfunc, tgrad, c=c1, ec=\"k\", s=300)\n",
    "plt.scatter(tfunc, tgrad, c=c2, ec=\"k\", s=150)\n",
    "plt.scatter(tfunc, tgrad, c=c3, ec=\"k\", s=50)\n",
    "plt.xscale(\"log\")\n",
    "plt.yscale(\"log\");"
   ]
  },
  {
   "cell_type": "code",
   "execution_count": null,
   "metadata": {},
   "outputs": [],
   "source": []
  }
 ],
 "metadata": {
  "celltoolbar": "Tags",
  "kernelspec": {
   "display_name": "Python 3",
   "language": "python",
   "name": "python3"
  },
  "language_info": {
   "codemirror_mode": {
    "name": "ipython",
    "version": 3
   },
   "file_extension": ".py",
   "mimetype": "text/x-python",
   "name": "python",
   "nbconvert_exporter": "python",
   "pygments_lexer": "ipython3",
   "version": "3.7.4"
  }
 },
 "nbformat": 4,
 "nbformat_minor": 2
}
