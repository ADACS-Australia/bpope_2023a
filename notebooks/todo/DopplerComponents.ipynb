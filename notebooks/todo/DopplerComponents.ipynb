{
 "cells": [
  {
   "cell_type": "markdown",
   "metadata": {},
   "source": [
    "# Doppler components"
   ]
  },
  {
   "cell_type": "markdown",
   "metadata": {},
   "source": [
    "Many ways to specify the component of a spectral map."
   ]
  },
  {
   "cell_type": "code",
   "execution_count": null,
   "metadata": {
    "tags": [
     "hide_input"
    ]
   },
   "outputs": [],
   "source": [
    "%matplotlib inline"
   ]
  },
  {
   "cell_type": "code",
   "execution_count": null,
   "metadata": {
    "tags": [
     "hide_input"
    ]
   },
   "outputs": [],
   "source": [
    "%run notebook_setup.py"
   ]
  },
  {
   "cell_type": "code",
   "execution_count": null,
   "metadata": {
    "tags": [
     "hide_input"
    ]
   },
   "outputs": [],
   "source": [
    "import starry\n",
    "\n",
    "starry.config.lazy = False\n",
    "starry.config.quiet = True"
   ]
  },
  {
   "cell_type": "code",
   "execution_count": null,
   "metadata": {},
   "outputs": [],
   "source": [
    "import numpy as np\n",
    "import matplotlib.pyplot as plt\n",
    "import starry\n",
    "from tqdm.auto import tqdm"
   ]
  },
  {
   "cell_type": "markdown",
   "metadata": {},
   "source": [
    "## Define our data cube"
   ]
  },
  {
   "cell_type": "code",
   "execution_count": null,
   "metadata": {},
   "outputs": [],
   "source": [
    "cube = np.ones((10, 10, 100))\n",
    "wav0 = np.linspace(0, 1, 100)\n",
    "cube[:, :] = 1 - np.exp(-0.5 * (wav0 - 0.25) ** 2 / 0.05 ** 2)\n",
    "cube[4:6, 4:6] = 0.5 * (1 - np.exp(-0.5 * (wav0 - 0.75) ** 2 / 0.05 ** 2))"
   ]
  },
  {
   "cell_type": "code",
   "execution_count": null,
   "metadata": {},
   "outputs": [],
   "source": [
    "cmap = plt.get_cmap(\"plasma\")\n",
    "fig, ax = plt.subplots(10, 10, sharex=True, sharey=True, figsize=(12, 6))\n",
    "fig.subplots_adjust(hspace=0, wspace=0)\n",
    "for i in range(10):\n",
    "    for j in range(10):\n",
    "        ax[i, j].set_facecolor(cmap(cube[i, j, 0]))\n",
    "        ax[i, j].plot(cube[i, j], lw=1, color=\"k\")\n",
    "        ax[i, j].set_xticks([])\n",
    "        ax[i, j].set_yticks([])\n",
    "        for s in [\"top\", \"right\", \"bottom\", \"left\"]:\n",
    "            ax[i, j].spines[s].set_alpha(0.1)\n",
    "        ax[i, j].margins(0.1, 0.1)\n",
    "for i in range(10):\n",
    "    ax[i, 0].spines[\"left\"].set_alpha(1)\n",
    "    ax[i, -1].spines[\"right\"].set_alpha(1)\n",
    "for j in range(10):\n",
    "    ax[0, j].spines[\"top\"].set_alpha(1)\n",
    "    ax[-1, j].spines[\"bottom\"].set_alpha(1)"
   ]
  },
  {
   "cell_type": "markdown",
   "metadata": {},
   "source": [
    "## SVD"
   ]
  },
  {
   "cell_type": "code",
   "execution_count": null,
   "metadata": {},
   "outputs": [],
   "source": [
    "M = cube.reshape(100, 100)\n",
    "U, s, VT = np.linalg.svd(M, full_matrices=False)\n",
    "U = U[:, :2]\n",
    "VT = VT[:2, :]\n",
    "s = s[:2]\n",
    "U = (U * s).reshape(10, 10, 2)"
   ]
  },
  {
   "cell_type": "code",
   "execution_count": null,
   "metadata": {},
   "outputs": [],
   "source": [
    "print(np.max(np.abs(cube - U @ VT)))\n",
    "fig, ax = plt.subplots(2, 2, figsize=(9, 6))\n",
    "im = ax[0, 0].imshow(U[:, :, 0], vmin=U.min(), vmax=U.max(), aspect=\"auto\")\n",
    "plt.colorbar(im, ax=ax[0])\n",
    "im = ax[0, 1].imshow(U[:, :, 1], vmin=U.min(), vmax=U.max(), aspect=\"auto\")\n",
    "plt.colorbar(im, ax=ax[1])\n",
    "ax[1, 0].plot(VT[0])\n",
    "ax[1, 0].plot(VT[1], alpha=0)\n",
    "ax[1, 1].plot(VT[1])\n",
    "ax[1, 1].plot(VT[0], alpha=0);"
   ]
  },
  {
   "cell_type": "markdown",
   "metadata": {},
   "source": [
    "## Pin the images"
   ]
  },
  {
   "cell_type": "code",
   "execution_count": null,
   "metadata": {},
   "outputs": [],
   "source": [
    "U = np.zeros((10, 10, 2))\n",
    "U[:, :, 0] = 1\n",
    "U[4:6, 4:6, 1] = 0.5\n",
    "VT = np.zeros((2, 100))\n",
    "VT[0] = 1 - np.exp(-0.5 * (wav0 - 0.25) ** 2 / 0.05 ** 2)\n",
    "VT[1] = -2 * VT[0] + 1 - np.exp(-0.5 * (wav0 - 0.75) ** 2 / 0.05 ** 2)"
   ]
  },
  {
   "cell_type": "code",
   "execution_count": null,
   "metadata": {},
   "outputs": [],
   "source": [
    "print(np.max(np.abs(cube - U @ VT)))\n",
    "fig, ax = plt.subplots(2, 2, figsize=(9, 6))\n",
    "im = ax[0, 0].imshow(U[:, :, 0], vmin=U.min(), vmax=U.max(), aspect=\"auto\")\n",
    "plt.colorbar(im, ax=ax[0])\n",
    "im = ax[0, 1].imshow(U[:, :, 1], vmin=U.min(), vmax=U.max(), aspect=\"auto\")\n",
    "plt.colorbar(im, ax=ax[1])\n",
    "ax[1, 0].plot(VT[0])\n",
    "ax[1, 0].plot(VT[1], alpha=0)\n",
    "ax[1, 1].plot(VT[1])\n",
    "ax[1, 1].plot(VT[0], alpha=0);"
   ]
  },
  {
   "cell_type": "markdown",
   "metadata": {},
   "source": [
    "## Pin the spectra"
   ]
  },
  {
   "cell_type": "code",
   "execution_count": null,
   "metadata": {},
   "outputs": [],
   "source": [
    "VT = np.zeros((2, 100))\n",
    "VT[0] = 1 - np.exp(-0.5 * (wav0 - 0.25) ** 2 / 0.05 ** 2)\n",
    "VT[1] = 1 - np.exp(-0.5 * (wav0 - 0.75) ** 2 / 0.05 ** 2)\n",
    "U = np.linalg.solve(VT @ VT.T, VT @ cube.reshape(100, 100).T).T.reshape(10, 10, 2)"
   ]
  },
  {
   "cell_type": "code",
   "execution_count": null,
   "metadata": {},
   "outputs": [],
   "source": [
    "print(np.max(np.abs(cube - U @ VT)))\n",
    "fig, ax = plt.subplots(2, 2, figsize=(9, 6))\n",
    "im = ax[0, 0].imshow(U[:, :, 0], vmin=U.min(), vmax=U.max(), aspect=\"auto\")\n",
    "plt.colorbar(im, ax=ax[0])\n",
    "im = ax[0, 1].imshow(U[:, :, 1], vmin=U.min(), vmax=U.max(), aspect=\"auto\")\n",
    "plt.colorbar(im, ax=ax[1])\n",
    "ax[1, 0].plot(VT[0])\n",
    "ax[1, 0].plot(VT[1], alpha=0)\n",
    "ax[1, 1].plot(VT[1])\n",
    "ax[1, 1].plot(VT[0], alpha=0);"
   ]
  }
 ],
 "metadata": {
  "kernelspec": {
   "display_name": "Python 3",
   "language": "python",
   "name": "python3"
  },
  "language_info": {
   "codemirror_mode": {
    "name": "ipython",
    "version": 3
   },
   "file_extension": ".py",
   "mimetype": "text/x-python",
   "name": "python",
   "nbconvert_exporter": "python",
   "pygments_lexer": "ipython3",
   "version": "3.8.3"
  }
 },
 "nbformat": 4,
 "nbformat_minor": 4
}
