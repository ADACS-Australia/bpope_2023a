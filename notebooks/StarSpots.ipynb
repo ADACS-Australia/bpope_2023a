{
 "cells": [
  {
   "cell_type": "markdown",
   "metadata": {},
   "source": [
    "# Star spots"
   ]
  },
  {
   "cell_type": "markdown",
   "metadata": {},
   "source": [
    "A major part of the philosophy of `starry` is a certain amount of agnosticism about what the surface of a star or planet actually looks like. Many codes fit stellar light curves by solving for the number, location, size, and contrast of star spots. This is usually fine if you *know* the stellar surface consists of a certain number of discrete star spots of a given shape. In general, however, that's a very strong prior to assume. And even in cases where it holds, the problem is still extremely degenerate and lies in a space that is quite difficult to sample.\n",
    "\n",
    "Instead, in `starry` we assume the surface is described by a vector of spherical harmonic coefficients. The advantage of this is that (1) it automatically bakes in a Gaussian-process smoothness prior over the surface map, in which the scale of features is dictated by the degree of the expansion; and (2) under gaussian priors and gaussian errors, the posterior over surface maps is *analytic*. If and only if the data and prior support the existence of discrete star spots on the surface, the posterior will reflect that.\n",
    "\n",
    "However, sometimes it's convenient to restrict ourselves to the case of discrete star spots. In `starry`, we therefore implement the `add_spot` method, which adds a spot-like feature to the surface by expanding a two-dimensional gaussian in terms of spherical harmonics."
   ]
  },
  {
   "cell_type": "raw",
   "metadata": {
    "raw_mimetype": "text/restructuredtext"
   },
   "source": [
    ".. note::\n",
    "   This method replaced the `add_gaussian` method in previous versions of the code."
   ]
  },
  {
   "cell_type": "markdown",
   "metadata": {},
   "source": [
    "In this notebook, we'll take a look at how this new method works. For reference, here is the docstring of ``starry.Map.add_spot``:"
   ]
  },
  {
   "cell_type": "raw",
   "metadata": {
    "raw_mimetype": "text/html"
   },
   "source": [
    "<dl class=\"method\">\n",
    "<dt id=\"starry._Map.add_spot\">\n",
    "<code class=\"sig-name descname\">add_spot</code><span class=\"sig-paren\">(</span><em class=\"sig-param\">amp=None</em>, <em class=\"sig-param\">intensity=None</em>, <em class=\"sig-param\">sigma=0.1</em>, <em class=\"sig-param\">lat=0.0</em>, <em class=\"sig-param\">lon=0.0</em><span class=\"sig-paren\">)</span><a class=\"headerlink\" href=\"#starry._Map.add_spot\" title=\"Permalink to this definition\">¶</a></dt>\n",
    "<dd><p>Add the expansion of a gaussian spot to the map.</p>\n",
    "<p>This function adds a spot whose functional form is the spherical\n",
    "harmonic expansion of a gaussian in the quantity\n",
    "<span class=\"math notranslate nohighlight\">\\(\\cos\\Delta\\theta\\)</span>, where <span class=\"math notranslate nohighlight\">\\(\\Delta\\theta\\)</span>\n",
    "is the angular separation between the center of the spot and another\n",
    "point on the surface. The spot brightness is controlled by either the\n",
    "parameter <code class=\"docutils literal notranslate\"><span class=\"pre\">amp</span></code>, defined as the fractional change in the\n",
    "total luminosity of the object due to the spot, or the parameter\n",
    "<code class=\"docutils literal notranslate\"><span class=\"pre\">intensity</span></code>, defined as the fractional change in the\n",
    "intensity at the center of the spot.</p>\n",
    "<dl class=\"field-list simple\">\n",
    "<dt class=\"field-odd\">Parameters</dt>\n",
    "<dd class=\"field-odd\"><ul class=\"simple\">\n",
    "<li><p><strong>amp</strong> (<em>scalar</em><em> or </em><em>vector</em><em>, </em><em>optional</em>) – The amplitude of the spot. This\n",
    "is equal to the fractional change in the luminosity of the map\n",
    "due to the spot. If the map has more than one wavelength bin,\n",
    "this must be a vector of length equal to the number of\n",
    "wavelength bins. Default is None.\n",
    "Either <code class=\"docutils literal notranslate\"><span class=\"pre\">amp</span></code> or <code class=\"docutils literal notranslate\"><span class=\"pre\">intensity</span></code> must be given.</p></li>\n",
    "<li><p><strong>intensity</strong> (<em>scalar</em><em> or </em><em>vector</em><em>, </em><em>optional</em>) – The intensity of the spot.\n",
    "This is equal to the fractional change in the intensity of the\n",
    "map at the <em>center</em> of the spot. If the map has more than one\n",
    "wavelength bin, this must be a vector of length equal to the\n",
    "number of wavelength bins. Default is None.\n",
    "Either <code class=\"docutils literal notranslate\"><span class=\"pre\">amp</span></code> or <code class=\"docutils literal notranslate\"><span class=\"pre\">intensity</span></code> must be given.</p></li>\n",
    "<li><p><strong>sigma</strong> (<em>scalar</em><em>, </em><em>optional</em>) – The standard deviation of the gaussian.\n",
    "Defaults to 0.1.</p></li>\n",
    "<li><p><strong>lat</strong> (<em>scalar</em><em>, </em><em>optional</em>) – The latitude of the spot in units of\n",
    "<a class=\"reference internal\" href=\"#starry._Map.angle_unit\" title=\"starry._Map.angle_unit\"><code class=\"xref py py-attr docutils literal notranslate\"><span class=\"pre\">angle_unit</span></code></a>. Defaults to 0.0.</p></li>\n",
    "<li><p><strong>lon</strong> (<em>scalar</em><em>, </em><em>optional</em>) – The longitude of the spot in units of\n",
    "<a class=\"reference internal\" href=\"#starry._Map.angle_unit\" title=\"starry._Map.angle_unit\"><code class=\"xref py py-attr docutils literal notranslate\"><span class=\"pre\">angle_unit</span></code></a>. Defaults to 0.0.</p></li>\n",
    "</ul>\n",
    "</dd>\n",
    "</dl>\n",
    "</dd></dl>"
   ]
  },
  {
   "cell_type": "markdown",
   "metadata": {},
   "source": [
    "## Adding a simple spot"
   ]
  },
  {
   "cell_type": "markdown",
   "metadata": {},
   "source": [
    "Let's begin by importing stuff as usual:"
   ]
  },
  {
   "cell_type": "code",
   "execution_count": null,
   "metadata": {
    "tags": [
     "hide_input"
    ]
   },
   "outputs": [],
   "source": [
    "%matplotlib inline"
   ]
  },
  {
   "cell_type": "code",
   "execution_count": null,
   "metadata": {
    "tags": [
     "hide_input"
    ]
   },
   "outputs": [],
   "source": [
    "%run notebook_setup.py"
   ]
  },
  {
   "cell_type": "code",
   "execution_count": null,
   "metadata": {},
   "outputs": [],
   "source": [
    "import numpy as np\n",
    "from scipy.integrate import dblquad\n",
    "import starry\n",
    "\n",
    "starry.config.lazy = False\n",
    "starry.config.quiet = True"
   ]
  },
  {
   "cell_type": "markdown",
   "metadata": {},
   "source": [
    "The first thing we'll do is create a dummy featureless map, which we'll use for comparisons below."
   ]
  },
  {
   "cell_type": "code",
   "execution_count": null,
   "metadata": {},
   "outputs": [],
   "source": [
    "map0 = starry.Map(ydeg=1)\n",
    "map0.show()"
   ]
  },
  {
   "cell_type": "markdown",
   "metadata": {},
   "source": [
    "Now let's instantiate a very high degree map and add a spot with an amplitude of $1\\%$ and a standard deviation of $0.025$ at latitude/longitude $(0, 0)$:"
   ]
  },
  {
   "cell_type": "code",
   "execution_count": null,
   "metadata": {},
   "outputs": [],
   "source": [
    "amp = -0.01\n",
    "sigma = 0.025\n",
    "map = starry.Map(ydeg=30)\n",
    "map.add_spot(amp=amp, sigma=sigma)"
   ]
  },
  {
   "cell_type": "markdown",
   "metadata": {},
   "source": [
    "Here's what we get:"
   ]
  },
  {
   "cell_type": "code",
   "execution_count": null,
   "metadata": {},
   "outputs": [],
   "source": [
    "map.show(theta=np.linspace(0, 360, 50))"
   ]
  },
  {
   "cell_type": "markdown",
   "metadata": {},
   "source": [
    "## The spot amplitude"
   ]
  },
  {
   "cell_type": "markdown",
   "metadata": {},
   "source": [
    "Let's take a look at what adding a spot does to the luminosity of a map. Recall that the integral of a quantity $f$ over the surface of a sphere is given by $\\int_{0}^{2\\pi}\\int_{0}^{\\pi}f\\sin\\theta\\mathrm{d}\\theta\\mathrm{d}\\phi$, where $\\theta$ is the polar angle (latitude plus $\\pi/2$) and $\\phi$ is the longitude.\n",
    "\n",
    "Let's write a quick function to get the total luminosity of a `starry` map:"
   ]
  },
  {
   "cell_type": "code",
   "execution_count": null,
   "metadata": {},
   "outputs": [],
   "source": [
    "def integrand(theta, phi, map):\n",
    "    lat = theta * 180 / np.pi - 90\n",
    "    lon = phi * 180 / np.pi\n",
    "    return map.intensity(lat=lat, lon=lon) * np.sin(theta)\n",
    "\n",
    "\n",
    "def get_luminosity(map):\n",
    "    res, _ = dblquad(\n",
    "        integrand,\n",
    "        0,\n",
    "        2 * np.pi,\n",
    "        lambda x: 0,\n",
    "        lambda x: np.pi,\n",
    "        epsabs=1e-4,\n",
    "        epsrel=1e-4,\n",
    "        args=(map,),\n",
    "    )\n",
    "    return res"
   ]
  },
  {
   "cell_type": "markdown",
   "metadata": {},
   "source": [
    "As a baseline, let's compute the total luminosity of the featureless map:"
   ]
  },
  {
   "cell_type": "code",
   "execution_count": null,
   "metadata": {},
   "outputs": [],
   "source": [
    "lum0 = get_luminosity(map0)\n",
    "lum0"
   ]
  },
  {
   "cell_type": "markdown",
   "metadata": {},
   "source": [
    "That may look weird, but this is actually how the normalization of spherical harmonic maps in `starry` is *defined*: they integrate to 4. The reason for this is rooted in the fact that the ratio between the projected area of a sphere ($\\pi r^2$) and its total surface area ($4\\pi r^2$) is equal to 4. If the total luminosity of a featureless map is 4, then *the total flux seen from the object by any observer is unity:*"
   ]
  },
  {
   "cell_type": "code",
   "execution_count": null,
   "metadata": {},
   "outputs": [],
   "source": [
    "map0.flux()"
   ]
  },
  {
   "cell_type": "markdown",
   "metadata": {},
   "source": [
    "Since we usually normalize fluxes to unity, this made the most sense when defining the convention in `starry`. Note that in the general case, for a map with arbitrary surface features, the *flux averaged over all observers is unity*."
   ]
  },
  {
   "cell_type": "markdown",
   "metadata": {},
   "source": [
    "Anyways, let's compute the luminosity of the map with the spot on it. So we don't need to worry about the normalization, let's compute it as a fraction of the luminosity of the featureless map:"
   ]
  },
  {
   "cell_type": "code",
   "execution_count": null,
   "metadata": {},
   "outputs": [],
   "source": [
    "lum = get_luminosity(map)\n",
    "lum / lum0"
   ]
  },
  {
   "cell_type": "markdown",
   "metadata": {},
   "source": [
    "As promised, the spot decreased the total luminosity of the map by one percent!"
   ]
  },
  {
   "cell_type": "markdown",
   "metadata": {},
   "source": [
    "## The spot intensity"
   ]
  },
  {
   "cell_type": "markdown",
   "metadata": {},
   "source": [
    "Instead of specifying the spot amplitude, we can specify the spot *intensity*. This is the fractional change in the intensity of the map at the center of the spot. Let's give the spot an intensity of 10 percent:"
   ]
  },
  {
   "cell_type": "code",
   "execution_count": null,
   "metadata": {},
   "outputs": [],
   "source": [
    "intensity = -0.1\n",
    "sigma = 0.025\n",
    "map = starry.Map(ydeg=30)\n",
    "map.add_spot(intensity=intensity, sigma=sigma)"
   ]
  },
  {
   "cell_type": "code",
   "execution_count": null,
   "metadata": {},
   "outputs": [],
   "source": [
    "map.show(theta=np.linspace(0, 360, 50))"
   ]
  },
  {
   "cell_type": "markdown",
   "metadata": {},
   "source": [
    "We can plot the intensity along the equator:"
   ]
  },
  {
   "cell_type": "code",
   "execution_count": null,
   "metadata": {},
   "outputs": [],
   "source": [
    "lon = np.linspace(-90, 90, 100)\n",
    "plt.plot(lon, map.intensity(lon=lon) / map0.intensity())\n",
    "plt.xlabel(\"longitude [deg]\")\n",
    "plt.ylabel(\"intensity\");"
   ]
  },
  {
   "cell_type": "markdown",
   "metadata": {},
   "source": [
    "It's clear that the intensity at the center of the spot is $90\\%$ that of the unspotted map."
   ]
  },
  {
   "cell_type": "markdown",
   "metadata": {},
   "source": [
    "Just for fun, let's compute the total luminosity:"
   ]
  },
  {
   "cell_type": "code",
   "execution_count": null,
   "metadata": {},
   "outputs": [],
   "source": [
    "lum = get_luminosity(map)\n",
    "lum / lum0"
   ]
  },
  {
   "cell_type": "markdown",
   "metadata": {},
   "source": [
    "The luminosity has decreased, but only by about one tenth of a percent."
   ]
  },
  {
   "cell_type": "raw",
   "metadata": {
    "raw_mimetype": "text/restructuredtext"
   },
   "source": [
    ".. note::\n",
    "   As we will see below, the spot generated by `starry` is a Taylor expansion of a gaussian. \n",
    "   The relationship between the spot amplitude and its intensity is computed for the actual\n",
    "   gaussian, so for low degree maps there may be some disagreement between (say) the intensity\n",
    "   the user specifies and the actual intensity at the center of the spot."
   ]
  },
  {
   "cell_type": "markdown",
   "metadata": {},
   "source": [
    "## The spot expansion"
   ]
  },
  {
   "cell_type": "markdown",
   "metadata": {},
   "source": [
    "As mentioned in the docstring, the spot is modeled as a gaussian in $\\cos(\\Delta\\theta)$, where $\\Delta\\theta$ is the angular distance on the surface of the body. Let's verify this by plotting the intensity of our star as a function of longitude along the equator and comparing it to that of a gaussian:"
   ]
  },
  {
   "cell_type": "code",
   "execution_count": null,
   "metadata": {},
   "outputs": [],
   "source": [
    "# Compute the intensity along the equator\n",
    "# Remove the baseline intensity and normalize it\n",
    "lon = np.linspace(-90, 90, 100)\n",
    "baseline = 1.0 / np.pi\n",
    "I = -(map.intensity(lon=lon) - baseline) / (map.intensity(lon=0) - baseline)\n",
    "\n",
    "# Compute the intensity of a normalized gaussian\n",
    "# in cos(longitude) with the same standard deviation\n",
    "coslon = np.cos(lon * np.pi / 180)\n",
    "I_gaussian = -np.exp(-((coslon - 1) ** 2) / (2 * sigma ** 2))\n",
    "\n",
    "# Compare the two\n",
    "plt.plot(lon, I, label=\"starry ($l = 30$)\")\n",
    "plt.plot(lon, I_gaussian, label=\"gaussian\")\n",
    "plt.legend()\n",
    "plt.xlabel(\"longitude [deg]\")\n",
    "plt.ylabel(\"normalized intensity\");"
   ]
  },
  {
   "cell_type": "markdown",
   "metadata": {},
   "source": [
    "The expressions agree quite well. However, keep in mind that the spot is still only an *approximation* to a gaussian; it is, in fact, the two-dimensional Taylor expansion of a gaussian on the sphere. You can see that there are small wiggles in the blue curve, which will become more pronounced the smaller the spot size $\\sigma$ or the smaller the spherical harmonic degree of the expansion. Consider this same plot, but for a map of degree 15 instead of 30:"
   ]
  },
  {
   "cell_type": "code",
   "execution_count": null,
   "metadata": {},
   "outputs": [],
   "source": [
    "map15 = starry.Map(ydeg=15)\n",
    "map15.add_spot(amp, sigma=sigma)\n",
    "I15 = -(map15.intensity(lon=lon) - baseline) / (map15.intensity(lon=0) - baseline)\n",
    "\n",
    "plt.plot(lon, I15, label=r\"starry ($l = 15$)\")\n",
    "plt.plot(lon, I_gaussian, label=\"gaussian\")\n",
    "plt.legend()\n",
    "plt.xlabel(\"longitude [deg]\")\n",
    "plt.ylabel(\"normalized intensity\");"
   ]
  },
  {
   "cell_type": "markdown",
   "metadata": {},
   "source": [
    "Here, the oscillations are far more evident. In general, users should be careful when trying to model small spots with low-$l$ expansions. It's always useful to plot the intensity, or even just visualize the map, to ensure that the degree of the map is high enough to resolve the size of the spots."
   ]
  }
 ],
 "metadata": {
  "celltoolbar": "Raw Cell Format",
  "kernelspec": {
   "display_name": "Python 3",
   "language": "python",
   "name": "python3"
  },
  "language_info": {
   "codemirror_mode": {
    "name": "ipython",
    "version": 3
   },
   "file_extension": ".py",
   "mimetype": "text/x-python",
   "name": "python",
   "nbconvert_exporter": "python",
   "pygments_lexer": "ipython3",
   "version": "3.7.4"
  }
 },
 "nbformat": 4,
 "nbformat_minor": 2
}
