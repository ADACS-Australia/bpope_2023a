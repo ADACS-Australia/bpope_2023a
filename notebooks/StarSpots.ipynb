{
 "cells": [
  {
   "cell_type": "markdown",
   "metadata": {},
   "source": [
    "# Star spots"
   ]
  },
  {
   "cell_type": "markdown",
   "metadata": {},
   "source": [
    "A major part of the philosophy of `starry` is a certain amount of agnosticism about what the surface of a star or planet actually looks like. Many codes fit stellar light curves by solving for the number, location, size, and contrast of star spots. This is usually fine if you *know* the stellar surface consists of a certain number of discrete star spots of a given shape. In general, however, that's a very strong prior to assume. And even in cases where it holds, the problem is still extremely degenerate and lies in a space that is quite difficult to sample.\n",
    "\n",
    "Instead, in `starry` we assume the surface is described by a vector of spherical harmonic coefficients. The advantage of this is that (1) it automatically bakes in a Gaussian-process smoothness prior over the surface map, in which the scale of features is dictated by the degree of the expansion; and (2) under gaussian priors and gaussian errors, the posterior over surface maps is *analytic*. If and only if the data and prior support the existence of discrete star spots on the surface, the posterior will reflect that.\n",
    "\n",
    "However, sometimes it's convenient to restrict ourselves to the case of discrete star spots. In `starry`, we therefore implement the `spot` method, which adds a spot-like feature to the surface by expanding a circular top-hat in terms of spherical harmonics."
   ]
  },
  {
   "cell_type": "raw",
   "metadata": {
    "raw_mimetype": "text/restructuredtext"
   },
   "source": [
    ".. note::\n",
    "   This method replaced the ``add_spot`` method introduced in version ``1.0.0``."
   ]
  },
  {
   "cell_type": "markdown",
   "metadata": {},
   "source": [
    "In this notebook, we'll take a look at how this new method works. For reference, here is the docstring of ``starry.Map.spot``:"
   ]
  },
  {
   "cell_type": "raw",
   "metadata": {
    "raw_mimetype": "text/html"
   },
   "source": [
    "<dl class=\"method\">\n",
    "    <dt id=\"starry._Map.spot\">\n",
    "        <code class=\"sig-name descname\">spot</code>\n",
    "        <span class=\"sig-paren\">(</span>\n",
    "        <em class=\"sig-param\">contrast=1.0</em>, \n",
    "        <em class=\"sig-param\">radius=None</em>, \n",
    "        <em class=\"sig-param\">lat=0.0</em>, \n",
    "        <em class=\"sig-param\">lon=0.0</em>\n",
    "        <span class=\"sig-paren\">)</span>\n",
    "        <a class=\"headerlink\" href=\"#starry._Map.spot\" title=\"Permalink to this definition\">¶</a>\n",
    "    </dt>\n",
    "    <dd>\n",
    "        <p>\n",
    "            Add the expansion of a circular spot to the map.\n",
    "        </p>\n",
    "        <p>\n",
    "            This function adds a spot whose functional form is a top hat in \n",
    "            <span class=\"math notranslate nohighlight\">\\(\\Delta\\theta\\)</span>, \n",
    "            the angular separation between the center of the spot and another point on the surface. \n",
    "            The spot intensity is controlled by the parameter \n",
    "            <code class=\"docutils literal notranslate\"><span class=\"pre\">contrast</span></code>,\n",
    "            defined as the fractional change in the intensity at the center of the spot.\n",
    "        </p>\n",
    "        <dl class=\"field-list simple\">\n",
    "            <dt class=\"field-odd\">Parameters</dt>\n",
    "            <dd class=\"field-odd\">\n",
    "                <ul class=\"simple\">\n",
    "                    <li>\n",
    "                        <p>\n",
    "                            <strong>contrast</strong> \n",
    "                            (<em>scalar</em><em> or </em><em>vector</em><em>, </em><em>optional</em>) –\n",
    "                            The contrast of the spot. This is equal to the fractional change in the \n",
    "                            intensity of the map at the <em>center</em> of the spot relative to the baseline intensity \n",
    "                            of an unspotted map. If the map has more than one wavelength bin, this must be a \n",
    "                            vector of length equal to the number of wavelength bins. Positive values of the \n",
    "                            contrast result in dark spots; negative values result in bright spots. Default is\n",
    "                            <code class=\"docutils literal notranslate\"><span class=\"pre\">1.0</span></code>, \n",
    "                            corresponding to a spot with central intensity close to zero.\n",
    "                        </p>\n",
    "                    </li>\n",
    "\n",
    "                    <li>\n",
    "                        <p>\n",
    "                            <strong>radius</strong> \n",
    "                            (<em>scalar</em><em>, </em><em>optional</em>) –\n",
    "                            The angular radius of the spot in units of\n",
    "                            <code class=\"docutils literal notranslate\"><span class=\"pre\">angle_unit</span></code>\n",
    "                            Defaults to \n",
    "                            <code class=\"docutils literal notranslate\"><span class=\"pre\">20.0</span></code>\n",
    "                            degrees.\n",
    "                        </p>\n",
    "                    </li>\n",
    "\n",
    "                    <li>\n",
    "                        <p>\n",
    "                            <strong>lat</strong> \n",
    "                            (<em>scalar</em><em>, </em><em>optional</em>) –\n",
    "                            The latitude of the spot in units of\n",
    "                            <code class=\"docutils literal notranslate\"><span class=\"pre\">angle_unit</span></code>\n",
    "                            Defaults to \n",
    "                            <code class=\"docutils literal notranslate\"><span class=\"pre\">20.0</span></code>\n",
    "                            degrees.\n",
    "                        </p>\n",
    "                    </li>\n",
    "\n",
    "                    <li>\n",
    "                        <p>\n",
    "                            <strong>lon</strong> \n",
    "                            (<em>scalar</em><em>, </em><em>optional</em>) –\n",
    "                            The longitude of the spot in units of\n",
    "                            <code class=\"docutils literal notranslate\"><span class=\"pre\">angle_unit</span></code>\n",
    "                            Defaults to \n",
    "                            <code class=\"docutils literal notranslate\"><span class=\"pre\">20.0</span></code>\n",
    "                            degrees.\n",
    "                        </p>\n",
    "                    </li>\n",
    "\n",
    "                </ul>\n",
    "            </dd>\n",
    "        </dl>\n",
    "    </dd>\n",
    "</dl>"
   ]
  },
  {
   "cell_type": "raw",
   "metadata": {
    "raw_mimetype": "text/restructuredtext"
   },
   "source": [
    ".. note::\n",
    "\n",
    "    Keep in mind that things are normalized in ``starry`` such that\n",
    "    the disk-integrated *flux* (not the *intensity*!)\n",
    "    of an unspotted body is unity. The default intensity of an\n",
    "    unspotted map is ``1.0 / np.pi`` everywhere (this ensures the\n",
    "    integral over the unit disk is unity).\n",
    "    So when you instantiate a map and add a spot of contrast ``c``,\n",
    "    you'll see that the intensity at the center is actually\n",
    "    ``(1 - c) / np.pi``. This is expected behavior, since that's\n",
    "    a factor of ``1 - c`` smaller than the baseline intensity.\n",
    "\n",
    ".. note::\n",
    "\n",
    "    This function computes the spherical harmonic expansion of a\n",
    "    circular spot with uniform contrast. At finite spherical\n",
    "    harmonic degree, this will return an *approximation* that\n",
    "    may be subject to ringing. Users can control the amount of\n",
    "    ringing and the smoothness of the spot profile (see below).\n",
    "    In general, however, at a given spherical harmonic degree\n",
    "    ``ydeg``, there is always minimum spot radius that can be\n",
    "    modeled well. For ``ydeg = 15``, for instance, that radius\n",
    "    is about ``10`` degrees. Attempting to add a spot smaller\n",
    "    than this will in general result in a large amount of ringing and\n",
    "    a smaller contrast than desired."
   ]
  },
  {
   "cell_type": "raw",
   "metadata": {
    "raw_mimetype": "text/html"
   },
   "source": [
    "<dl class=\"method\">\n",
    "    <dd>\n",
    "        <p>\n",
    "            There are a few additional under-the-hood keywords\n",
    "            that control the behavior of the spot expansion. \n",
    "            These are\n",
    "        </p>\n",
    "        <dl class=\"field-list simple\">\n",
    "            <dt class=\"field-odd\">Parameters</dt>\n",
    "            <dd class=\"field-odd\">\n",
    "                <ul class=\"simple\">\n",
    "                    <li>\n",
    "                        <p>\n",
    "                            <strong>spot_pts</strong> \n",
    "                            (<em>int</em><em>, </em><em>optional</em>) –\n",
    "                            The number of points in the expansion of the (1-dimensional) spot profile. \n",
    "                            Default is \n",
    "                            <code class=\"docutils literal notranslate\"><span class=\"pre\">1000</span></code>.\n",
    "                        </p>\n",
    "                    </li>\n",
    "\n",
    "                    <li>\n",
    "                        <p>\n",
    "                            <strong>spot_eps</strong> \n",
    "                            (<em>float</em><em>, </em><em>optional</em>) –\n",
    "                            Regularization parameter in the expansion. Default is \n",
    "                            <code class=\"docutils literal notranslate\"><span class=\"pre\">1e-9</span></code>.\n",
    "                        </p>\n",
    "                    </li>\n",
    "\n",
    "                    <li>\n",
    "                        <p>\n",
    "                            <strong>spot_smoothing</strong> \n",
    "                            (<em>float</em><em>, </em><em>optional</em>) –\n",
    "                            Standard deviation of the Gaussian smoothing applied to the spot to \n",
    "                            suppress ringing (unitless). Default is\n",
    "                            <code class=\"docutils literal notranslate\"><span class=\"pre\">2.0 / self.ydeg</span></code>.\n",
    "                        </p>\n",
    "                    </li>\n",
    "                    \n",
    "                    <li>\n",
    "                        <p>\n",
    "                            <strong>spot_fac</strong> \n",
    "                            (<em>float</em><em>, </em><em>optional</em>) –\n",
    "                            Parameter controlling the smoothness of the spot profile. Increasing this parameter\n",
    "                            increases the steepness of the profile (which approaches a top hat as \n",
    "                            <code class=\"docutils literal notranslate\"><span class=\"pre\">spot_fac -> inf</span></code>\n",
    "                            ). \n",
    "                            Decreasing it results in a smoother sigmoidal function. Default is \n",
    "                            <code class=\"docutils literal notranslate\"><span class=\"pre\">300</span></code>.\n",
    "                            Changing this parameter is not recommended; change spot_smoothing instead.\n",
    "                        </p>\n",
    "                    </li>\n",
    "\n",
    "                </ul>\n",
    "            </dd>\n",
    "        </dl>\n",
    "    </dd>\n",
    "</dl>"
   ]
  },
  {
   "cell_type": "raw",
   "metadata": {
    "raw_mimetype": "text/restructuredtext"
   },
   "source": [
    ".. note::\n",
    "\n",
    "    These last four parameters are cached. That means that\n",
    "    changing their value in a call to ``spot`` will result in\n",
    "    all future calls to ``spot`` \"remembering\" those settings,\n",
    "    unless you change them back!"
   ]
  },
  {
   "cell_type": "markdown",
   "metadata": {},
   "source": [
    "## Adding a simple spot"
   ]
  },
  {
   "cell_type": "markdown",
   "metadata": {},
   "source": [
    "Let's begin by importing stuff as usual:"
   ]
  },
  {
   "cell_type": "code",
   "execution_count": null,
   "metadata": {
    "tags": [
     "hide_input"
    ]
   },
   "outputs": [],
   "source": [
    "%matplotlib inline"
   ]
  },
  {
   "cell_type": "code",
   "execution_count": null,
   "metadata": {
    "tags": [
     "hide_input"
    ]
   },
   "outputs": [],
   "source": [
    "%run notebook_setup.py"
   ]
  },
  {
   "cell_type": "code",
   "execution_count": null,
   "metadata": {},
   "outputs": [],
   "source": [
    "import numpy as np\n",
    "import starry\n",
    "\n",
    "starry.config.lazy = False\n",
    "starry.config.quiet = True"
   ]
  },
  {
   "cell_type": "markdown",
   "metadata": {},
   "source": [
    "The first thing we'll do is create a dummy featureless map, which we'll use for comparisons below."
   ]
  },
  {
   "cell_type": "code",
   "execution_count": null,
   "metadata": {},
   "outputs": [],
   "source": [
    "map0 = starry.Map(ydeg=1)\n",
    "map0.show()"
   ]
  },
  {
   "cell_type": "markdown",
   "metadata": {},
   "source": [
    "Now let's instantiate a very high degree map and add a spot with a contrast of $25\\%$ and a radius of $15^\\circ$ at latitude/longitude $(0, 0)$:"
   ]
  },
  {
   "cell_type": "code",
   "execution_count": null,
   "metadata": {},
   "outputs": [],
   "source": [
    "contrast = 0.25\n",
    "radius = 15\n",
    "map = starry.Map(ydeg=30)\n",
    "map.spot(contrast=contrast, radius=radius)"
   ]
  },
  {
   "cell_type": "markdown",
   "metadata": {},
   "source": [
    "Here's what we get:"
   ]
  },
  {
   "cell_type": "code",
   "execution_count": null,
   "metadata": {},
   "outputs": [],
   "source": [
    "map.show(theta=np.linspace(0, 360, 50))"
   ]
  },
  {
   "cell_type": "markdown",
   "metadata": {},
   "source": [
    "## The spot contrast"
   ]
  },
  {
   "cell_type": "markdown",
   "metadata": {},
   "source": [
    "Let's look at what a contrast of $25\\%$ implies for the actual intensity of points on the surface of our map. Fore definiteness, let's look at the intensity along the equator:"
   ]
  },
  {
   "cell_type": "code",
   "execution_count": null,
   "metadata": {},
   "outputs": [],
   "source": [
    "lon = np.linspace(-90, 90, 100)\n",
    "plt.plot(lon, map.intensity(lon=lon))\n",
    "plt.xlabel(\"longitude [deg]\")\n",
    "plt.ylabel(\"intensity\");"
   ]
  },
  {
   "cell_type": "markdown",
   "metadata": {},
   "source": [
    "It's worth recalling how intensities are normalized in `starry` (see the note in the docstring above). The baseline intensity of an unspotted map is `1.0 / np.pi`, so the spot intensity is a $25\\%$ reduction relative to that value. Let's normalize the function above to the continuum level to see that:"
   ]
  },
  {
   "cell_type": "code",
   "execution_count": null,
   "metadata": {},
   "outputs": [],
   "source": [
    "plt.plot(lon, np.pi * map.intensity(lon=lon))\n",
    "plt.xlabel(\"longitude [deg]\")\n",
    "plt.ylabel(\"normalized intensity\");"
   ]
  },
  {
   "cell_type": "markdown",
   "metadata": {},
   "source": [
    "As expected, the intensity of the spot is $25\\%$ lower than the baseline."
   ]
  },
  {
   "cell_type": "markdown",
   "metadata": {},
   "source": [
    "## The spot expansion"
   ]
  },
  {
   "cell_type": "markdown",
   "metadata": {},
   "source": [
    "As mentioned in the docstring, the spot is modeled as a top hat in $\\Delta\\theta$, the angular distance along the surface of the body. The profile in the figure above doesn't really look like a top hat$-$that's because we're actually *expanding* the functional form of a top hat in the spherical harmonic basis. Since we're at finite spherical harmonic degree, the expansion is not exact. In particular, the spherical harmonic basis enforces smoothing at small scales. You get the same behavior as if you tried to fit a 1d top hat with a low-order polynomial.\n",
    "\n",
    "Because of this, there are a few things we must keep in mind.\n",
    "\n",
    "First, the function we're actually expanding is a sigmoid\n",
    "\n",
    "$$\n",
    "f(\\Delta\\theta) = \\frac{1}{1 + \\exp \\left( -c \\Delta \\theta \\right)}\n",
    "$$\n",
    "\n",
    "with smoothing parameter $c$. In the limit that $c \\rightarrow \\infty$, $f(\\Delta\\theta)$ approaches an actual top hat. In practice, this can be problematic because of the discontinuity at $\\Delta\\theta = r$, where the function is not differentiable. Setting $c$ to a large but finite value makes the function continuous and differentiable everywhere.\n",
    "\n",
    "Here's the function we're expanding for different values of $c$:"
   ]
  },
  {
   "cell_type": "code",
   "execution_count": null,
   "metadata": {},
   "outputs": [],
   "source": [
    "radius = 15\n",
    "dtheta = np.abs(lon) - radius\n",
    "for c in [0.25, 0.5, 1, 10, 300]:\n",
    "    plt.plot(lon, 1 / (1 + np.exp(-c * dtheta)), label=c)\n",
    "plt.legend(title=\"c\", fontsize=10)\n",
    "plt.xlabel(\"angular distance [deg]\")\n",
    "plt.ylabel(\"intensity\");"
   ]
  },
  {
   "cell_type": "markdown",
   "metadata": {},
   "source": [
    "In `starry`, the smoothing parameter $c$ is specified as the keyword `spot_fac` (see docs above). By default it's set to `300` (purple line), so it's actually almost indistinguishable from a true top hat."
   ]
  },
  {
   "cell_type": "markdown",
   "metadata": {},
   "source": [
    "OK, but even though the function we're expanding is almost exactly a top hat, the actual intensity on the surface of the sphere is much smoother. That's because of the finite spherical harmonic expansion, as mentioned above. Let's compare the input function and the actual intensity profile after the expansion:"
   ]
  },
  {
   "cell_type": "code",
   "execution_count": null,
   "metadata": {},
   "outputs": [],
   "source": [
    "# Plot the starry intensity along the equator\n",
    "map.reset()\n",
    "map.spot(contrast=1, radius=radius)\n",
    "plt.plot(lon, np.pi * map.intensity(lon=lon), label=\"measured\")\n",
    "\n",
    "# Plot the actual function we're expanding\n",
    "c = 300\n",
    "dtheta = np.abs(lon) - radius\n",
    "plt.plot(lon, 1 / (1 + np.exp(-c * dtheta)), label=\"exact\")\n",
    "\n",
    "plt.legend()\n",
    "plt.xlabel(\"longitude [deg]\")\n",
    "plt.ylabel(\"intensity\");"
   ]
  },
  {
   "cell_type": "markdown",
   "metadata": {},
   "source": [
    "There's actually another level of smoothing happening in `starry` that is controlled by the `spot_smoothing` parameter. Let's look at what the measured intensity profile would be if we got rid of smoothing altogether:"
   ]
  },
  {
   "cell_type": "code",
   "execution_count": null,
   "metadata": {},
   "outputs": [],
   "source": [
    "# Plot the starry intensity along the equator\n",
    "map.reset()\n",
    "map.spot(contrast=1, radius=radius, spot_smoothing=0)\n",
    "plt.plot(lon, np.pi * map.intensity(lon=lon), label=\"measured (no smoothing)\")\n",
    "\n",
    "# Plot the actual function we're expanding\n",
    "c = 300\n",
    "dtheta = np.abs(lon) - radius\n",
    "plt.plot(lon, 1 / (1 + np.exp(-c * dtheta)), label=\"exact\")\n",
    "\n",
    "plt.legend()\n",
    "plt.xlabel(\"longitude [deg]\")\n",
    "plt.ylabel(\"intensity\");"
   ]
  },
  {
   "cell_type": "markdown",
   "metadata": {},
   "source": [
    "The measured intensity is steeper and closer to the exact profile at $\\Delta\\theta = r$, but we're paying a high price for this with all the ringing! This is the classical [Gibbs phenomenon](https://en.wikipedia.org/wiki/Gibbs_phenomenon), which you've seen if you've ever tried to compute the Fourier expansion (or transform) of a square wave. At finite degree, the spherical harmonic basis simply can't capture sharp discontinuities. The `spot_smoothing` parameter convolves the surface map with a function of the form\n",
    "\n",
    "$$\n",
    "s(\\sigma) = \\exp\\left(-l \\left(l + 1\\right) \\sigma^2 \\right)\n",
    "$$\n",
    "\n",
    "where $\\sigma =$ `spot_smoothing`. By default, this is equal to `2 / self.ydeg`, which results in the smooth (but gentler) spot profile in the previous figure. Increase this to suppress ringing, at the expense of a smoother profile; decrease it for the opposite effect."
   ]
  },
  {
   "cell_type": "markdown",
   "metadata": {},
   "source": [
    "The final point we should address concerns the minimum `radius` we can model at a given spherical harmonic degree. Let's visualize the measured spot profile for different radii ranging from $3^\\circ$ to $25^\\circ$ (using the original, smoothed `map`):"
   ]
  },
  {
   "cell_type": "code",
   "execution_count": null,
   "metadata": {},
   "outputs": [],
   "source": [
    "lon = np.linspace(-45, 45, 300)\n",
    "radii = np.arange(3, 26)\n",
    "cmap = plt.get_cmap(\"plasma_r\")\n",
    "for k, radius in enumerate(radii):\n",
    "    map.reset()\n",
    "    map.spot(contrast=1, radius=radius, spot_smoothing=2 / map.ydeg)\n",
    "    plt.plot(\n",
    "        lon, np.pi * map.intensity(lon=lon), color=cmap(0.25 + 0.5 * k / len(radii))\n",
    "    )\n",
    "    if radius <= 10:\n",
    "        plt.text(\n",
    "            0, 0.01 + np.pi * map.intensity(lon=0), radius, ha=\"center\", fontsize=6\n",
    "        )\n",
    "    if radius == 25:\n",
    "        plt.text(\n",
    "            0, -0.05 + np.pi * map.intensity(lon=0), radius, ha=\"center\", fontsize=6\n",
    "        )\n",
    "plt.xlabel(\"longitude [deg]\")\n",
    "plt.ylabel(\"intensity\");"
   ]
  },
  {
   "cell_type": "markdown",
   "metadata": {},
   "source": [
    "For $r \\ge 10^\\circ$, the spherical harmonic expansion has no trouble in capturing the spot profile. But for smaller radii, the profile doesn't actually get any smaller$-$instead, its amplitude starts to decrease! That's because a spherical harmonic expansion of degree `ydeg` has a minimum angular scale it can model$-$below that scale, things get smoothed away (and their amplitude gets washed out). The angular scale is proportional to `1/ydeg`. As a very rough rule of thumb, it scales as `180 / ydeg`. That would mean our minimum diameter is $6^\\circ$ (or a radius of $3^\\circ$, but that doesn't account for the fact that we are adding additional smoothing to suppress ringing. That smoothing makes the minimum radius closer to $10^\\circ$ for `ydeg=30`.\n",
    "\n",
    "If we weren't adding any smoothing, then we can see that the limiting radius is in fact very close to $3^\\circ$:"
   ]
  },
  {
   "cell_type": "code",
   "execution_count": null,
   "metadata": {},
   "outputs": [],
   "source": [
    "lon = np.linspace(-45, 45, 300)\n",
    "radii = np.arange(3, 26)\n",
    "cmap = plt.get_cmap(\"plasma_r\")\n",
    "for k, radius in enumerate(radii):\n",
    "    map.reset()\n",
    "    map.spot(contrast=1, radius=radius, spot_smoothing=0)\n",
    "    plt.plot(\n",
    "        lon, np.pi * map.intensity(lon=lon), color=cmap(0.25 + 0.5 * k / len(radii))\n",
    "    )\n",
    "    if radius == 3:\n",
    "        plt.text(\n",
    "            0, 0.01 + np.pi * map.intensity(lon=0), radius, ha=\"center\", fontsize=6\n",
    "        )\n",
    "plt.xlabel(\"longitude [deg]\")\n",
    "plt.ylabel(\"intensity\");"
   ]
  },
  {
   "cell_type": "markdown",
   "metadata": {},
   "source": [
    "But in many cases, that may be an unacceptable level of ringing.\n",
    "\n",
    "Long story short: there's always going to be a trade-off between the amount of ringing and the maximum resolution of features you can model at a given spherical harmonic degree."
   ]
  },
  {
   "cell_type": "markdown",
   "metadata": {},
   "source": [
    "The last thing we'll do in this tutorial is compute the minimum spot radius we can model at a given spherical harmonic degree and with a given smoothing strength. We'll define this minimum value as the radius below which we get more than $10\\%$ error in the mean contrast of the spot. You can change this tolerance by tweaking the `tol` parameter below:"
   ]
  },
  {
   "cell_type": "code",
   "execution_count": null,
   "metadata": {},
   "outputs": [],
   "source": [
    "smstrs = [0.0, 1.0, 2.0]\n",
    "ydegs = [10, 15, 20, 25, 30]\n",
    "radii = np.arange(1, 90)\n",
    "tol = 0.1\n",
    "rmin = np.zeros((len(smstrs), len(ydegs)))\n",
    "for i, smstr in enumerate(smstrs):\n",
    "    for j, ydeg in enumerate(ydegs):\n",
    "        map = starry.Map(ydeg)\n",
    "        error = np.zeros(len(radii))\n",
    "        for radius in radii:\n",
    "            map.reset()\n",
    "            map.spot(contrast=1, radius=radius, spot_smoothing=smstr / ydeg)\n",
    "            if (\n",
    "                np.abs(np.mean(map.intensity(lon=np.linspace(0, 0.75 * radius, 50))))\n",
    "                < tol\n",
    "            ):\n",
    "                rmin[i, j] = radius\n",
    "                break\n",
    "plt.figure(figsize=(8, 8))\n",
    "plt.plot(ydegs, rmin[0], \"-o\", label=r\"$0$\")\n",
    "plt.plot(ydegs, rmin[1], \"-o\", label=r\"$1 / l_\\mathrm{max}$\")\n",
    "plt.plot(ydegs, rmin[2], \"-o\", label=r\"$2 / l_\\mathrm{max}$ (default)\")\n",
    "plt.legend(title=\"smoothing\", fontsize=10)\n",
    "plt.xticks([10, 15, 20, 25, 30])\n",
    "plt.xlabel(r\"spherical harmonic degree $l_\\mathrm{max}$\")\n",
    "plt.ylabel(r\"minimum spot radius [degrees]\");"
   ]
  },
  {
   "cell_type": "markdown",
   "metadata": {},
   "source": [
    "The green line shows the default smoothing strength (the `spot_smoothing` parameter); the orange line shows half that amount of smoothing, and the blue line shows no smoothing. In all cases, the minimum radius we can safely model decreases roughly as $1/l_\\mathrm{max}$.\n",
    "\n",
    "Use this figure as a rule of thumb when modeling discrete spots with `starry`."
   ]
  }
 ],
 "metadata": {
  "celltoolbar": "Tags",
  "kernelspec": {
   "display_name": "Python 3",
   "language": "python",
   "name": "python3"
  },
  "language_info": {
   "codemirror_mode": {
    "name": "ipython",
    "version": 3
   },
   "file_extension": ".py",
   "mimetype": "text/x-python",
   "name": "python",
   "nbconvert_exporter": "python",
   "pygments_lexer": "ipython3",
   "version": "3.8.3"
  }
 },
 "nbformat": 4,
 "nbformat_minor": 2
}
