{
 "cells": [
  {
   "cell_type": "markdown",
   "metadata": {},
   "source": [
    "# Map orientation"
   ]
  },
  {
   "cell_type": "markdown",
   "metadata": {},
   "source": [
    "Below we discuss various things relating to the orientation of the surface maps in `starry`."
   ]
  },
  {
   "cell_type": "code",
   "execution_count": null,
   "metadata": {
    "tags": [
     "hide_input"
    ]
   },
   "outputs": [],
   "source": [
    "%matplotlib inline"
   ]
  },
  {
   "cell_type": "code",
   "execution_count": null,
   "metadata": {},
   "outputs": [],
   "source": [
    "import matplotlib.pyplot as plt\n",
    "import numpy as np\n",
    "import starry\n",
    "\n",
    "starry.config.lazy = False\n",
    "starry.config.quiet = True"
   ]
  },
  {
   "cell_type": "markdown",
   "metadata": {},
   "source": [
    "## Inclination and obliquity of `Map` instances"
   ]
  },
  {
   "cell_type": "markdown",
   "metadata": {},
   "source": [
    "Let's construct a 20th-degree map and load the continental map of the Earth."
   ]
  },
  {
   "cell_type": "code",
   "execution_count": null,
   "metadata": {},
   "outputs": [],
   "source": [
    "ydeg = 20\n",
    "earth_map = starry.Map(ydeg=ydeg, quiet=True)\n",
    "earth_map.load(\"earth\")\n",
    "earth_map.show()"
   ]
  },
  {
   "cell_type": "markdown",
   "metadata": {},
   "source": [
    "Now, just as an example, let's give the Earth an obliquity of 23.5 degrees and an inclination of 60 degrees. \n",
    "In the previous version of `starry`, we did this by setting the `axis` property, but now we can directly set the inclination `inc` and obliquity `obl`."
   ]
  },
  {
   "cell_type": "code",
   "execution_count": null,
   "metadata": {},
   "outputs": [],
   "source": [
    "earth_map.obl = 23.5\n",
    "earth_map.inc = 60.0\n",
    "earth_map.show()"
   ]
  },
  {
   "cell_type": "markdown",
   "metadata": {},
   "source": [
    "Several comments about what we just did:"
   ]
  },
  {
   "cell_type": "markdown",
   "metadata": {},
   "source": [
    "#### 1. We specified the angles in degrees\n",
    "\n",
    "That's because the default angular unit for maps is"
   ]
  },
  {
   "cell_type": "code",
   "execution_count": null,
   "metadata": {},
   "outputs": [],
   "source": [
    "earth_map.angle_unit"
   ]
  },
  {
   "cell_type": "markdown",
   "metadata": {},
   "source": [
    "(i.e., degrees). We could change that to radians by specifying\n",
    "```python\n",
    "from astropy import units as u\n",
    "earth_map.angle_unit = u.radian\n",
    "```"
   ]
  },
  {
   "cell_type": "markdown",
   "metadata": {},
   "source": [
    "#### 2. Definition of the angles\n",
    "In ``starry`` we define the obliquity to be the angle of rotation on the sky, measured counter-clockwise from north. The inclination is the angle between the axis of rotation and the line of sight (the usual definition for exoplanets)."
   ]
  },
  {
   "cell_type": "markdown",
   "metadata": {},
   "source": [
    "#### 3. The inclination and obliquity specify the vantage point of the observer\n",
    "\n",
    "In the previous version of `starry`, changing the axis of rotation of the map changed the actual location of the rotational poles on the surface. In other wor., the axis of rotation was an intrinsic property of the map, specifying the location of the poles in the observer's reference frame. *That has changed in version 1.0.0*. The axis of rotation (determined by `inc` and `obl`) is now a property of the *observer*; changing these values change the angle at which the map is seen by the observer. The location of the poles on the surface of the body therefore remain fixed.\n",
    "\n",
    "This change is due to the fact that as of `starry` 1.0.0, the spherical harmonic coefficients are defined relative to the rotational axis of the map in a static, observer-independent frame. Changing the map inclination or obliquity merely changes the vantage point of the observer, not the spherical harmonic coefficients."
   ]
  },
  {
   "cell_type": "markdown",
   "metadata": {},
   "source": [
    "#### 4. The `show` method\n",
    "\n",
    "Finally, note that the `show()` method can also animate the map as it rotates:"
   ]
  },
  {
   "cell_type": "code",
   "execution_count": null,
   "metadata": {},
   "outputs": [],
   "source": [
    "theta = np.linspace(0, 360, 50)\n",
    "earth_map.show(theta=theta)"
   ]
  },
  {
   "cell_type": "markdown",
   "metadata": {},
   "source": [
    "It can also plot an equi-rectangular (latitude-longitude) view of the map:"
   ]
  },
  {
   "cell_type": "code",
   "execution_count": null,
   "metadata": {},
   "outputs": [],
   "source": [
    "earth_map.show(projection=\"rect\")"
   ]
  },
  {
   "cell_type": "markdown",
   "metadata": {},
   "source": [
    "## Inclination and obliquity of `Secondary` instances"
   ]
  },
  {
   "cell_type": "markdown",
   "metadata": {},
   "source": [
    "Understanding the inclination and obliquity of a standalone `Map` instance is straightforward. But things can get a little tricky when we're modeling the surface map of a body in a Keplerian orbit, since we have the orbital inclination ($i$) and obliquity ($\\Omega$, usually called the longitude of ascending node) to worry about as well.\n",
    "\n",
    "The thing to remember is this: the `inc` and `obl` attributes of the *map* tell you everything you need to know about the orientation of the surface map on the sky. Changing the inclination and longitude of ascending node of the *body* only affects the orientation orbit, not the orientation of the map.\n",
    "\n",
    "Below, we instantiate a Keplerian system using the Earth map (inclination $60^\\circ$ and obliquity $23.5^\\circ$) defined above. We give the *planet* an inclination of $45^\\circ$ and a longitude of ascending node of $10^\\circ$. However, as we will see, when we compute the system flux, we get the same light curve as before: the light curve of the Earth rotating at inclination $60^\\circ$ and obliquity $23.5^\\circ$."
   ]
  },
  {
   "cell_type": "code",
   "execution_count": null,
   "metadata": {},
   "outputs": [],
   "source": [
    "# Define the Earth-Sun system\n",
    "sun = starry.Primary(starry.Map(L=0.0))\n",
    "earth = starry.Secondary(earth_map, porb=1.0, r=0.01, inc=45.0, Omega=10.0)\n",
    "sys = starry.System(sun, earth)\n",
    "t = np.linspace(0, 1, 1000)\n",
    "\n",
    "# Plot the system light curve\n",
    "fig = plt.figure(figsize=(8, 3))\n",
    "plt.plot(t, sys.flux(t), label=\"system flux\")\n",
    "\n",
    "# Plot just the Earth's light curve\n",
    "plt.plot(t, earth_map.flux(theta=360.0 * t), \"--\", label=\"earth flux\")\n",
    "\n",
    "# Labels\n",
    "plt.xlabel(\"time\")\n",
    "plt.ylabel(\"flux\")\n",
    "plt.legend();"
   ]
  },
  {
   "cell_type": "markdown",
   "metadata": {},
   "source": [
    "To recap, let's say we define the following `Secondary` instance:\n",
    "\n",
    "```python\n",
    "planet = starry.Secondary(\n",
    "    starry.Map(\n",
    "        inc=inc_map, \n",
    "        obl=obl_map\n",
    "    ), \n",
    "    inc=inc_orb, \n",
    "    Omega=Omega_orb\n",
    ")\n",
    "```\n",
    "\n",
    "There are four angles to be aware of: two associated with the `Map` instance (`inc_map` and `obl_map`), and two associated with the `Secondary` instance (`inc_orb` and `Omega_orb`). The first two define the orientation of the surface map on the sky, and the last two define the orientation of the orbit on the sky. Unfortunately, both the map and orbital inclinations have the same name, but one is a keyword argument to ``Map`` and one is a keyword argument to ``Secondary``. Another, perhaps less confusing, way to define this system is as follows:\n",
    "\n",
    "```python\n",
    "planet = starry.Secondary(starry.Map())\n",
    "planet.map.inc = inc_map\n",
    "planet.map.obl = obl_map\n",
    "planet.inc = inc_orb\n",
    "planet.Omega = Omega_orb\n",
    "```\n",
    "\n",
    "While this convention is nice because it decouples the orbit from the rotation of the planet, it is often the case that the orbital plane and the equatorial plane are the same (such as for a tidally locked planet), in which case the two inclinations and the two obliquities are the same. In this case, we can explicitly set them equal to each other:\n",
    "\n",
    "```python\n",
    "planet = starry.Secondary(starry.Map())\n",
    "planet.inc = planet.map.inc\n",
    "planet.Omega = planet.map.obl\n",
    "```"
   ]
  },
  {
   "cell_type": "markdown",
   "metadata": {},
   "source": [
    "## The rotational phase of `Secondary` instances"
   ]
  },
  {
   "cell_type": "markdown",
   "metadata": {},
   "source": [
    "Finally, we must also be careful about the rotational phase `theta` of the map when using `Secondary` instances. All `Secondary` instances have a `theta0` parameter, which specifies the rotational phase of the map at time `t0` (also a property of all `Secondary` instances). By default, `theta0 = 0`, so when `t = t0` (whose default value is also zero), the line of sight vector intersects the prime meridian (longitude zero) of the map.\n",
    "\n",
    "The parameter `t0` also specifies the time of transit (or inferior conjunction, if the body does not transit), so if `theta0` is kept at its default value of zero, the map coefficients describe what the body looks like  if it were viewed by an observer seeing the system edge on while the secondary body is transiting. **Note that this is different from the convention adopted in the beta (0.3.0) version.**\n",
    "\n",
    "Let's look at an example. Below we instantiate a simple tidally-locked star-planet system."
   ]
  },
  {
   "cell_type": "code",
   "execution_count": null,
   "metadata": {},
   "outputs": [],
   "source": [
    "star = starry.Primary(starry.Map())\n",
    "planet = starry.Secondary(starry.Map(ydeg=1, L=0.01), porb=1.0, prot=1.0, r=0.1)\n",
    "sys = starry.System(star, planet)\n",
    "t = np.linspace(0, 1, 10000)"
   ]
  },
  {
   "cell_type": "markdown",
   "metadata": {},
   "source": [
    "We will give the planet a simple dipole map:"
   ]
  },
  {
   "cell_type": "code",
   "execution_count": null,
   "metadata": {},
   "outputs": [],
   "source": [
    "planet.map[1, 0] = 0.5"
   ]
  },
  {
   "cell_type": "markdown",
   "metadata": {},
   "source": [
    "In the static frame, this corresponds to the following surface map:"
   ]
  },
  {
   "cell_type": "code",
   "execution_count": null,
   "metadata": {},
   "outputs": [],
   "source": [
    "planet.map.show()"
   ]
  },
  {
   "cell_type": "markdown",
   "metadata": {},
   "source": [
    "By default, the inclination of the orbit (and of the map) is $90^\\circ$, and `t0`, `theta0`, and the eccentricity are all zero. Here's what the system light curve looks like, along with the orientation of the map at several points in time:"
   ]
  },
  {
   "cell_type": "code",
   "execution_count": null,
   "metadata": {
    "tags": [
     "hide_input"
    ]
   },
   "outputs": [],
   "source": [
    "def visualize(sys):\n",
    "    fig = plt.figure(figsize=(8, 3))\n",
    "    nrow, ncol = 4, 9\n",
    "    aximg = [plt.subplot2grid((nrow, ncol), (0, i)) for i in range(ncol)]\n",
    "    ax = plt.subplot2grid((nrow, ncol), (1, 0), colspan=ncol, rowspan=nrow - 1)\n",
    "    ax.plot(t, sys.flux(t))\n",
    "    theta = np.linspace(0, 360, ncol) + sys.secondaries[0].theta0\n",
    "    for i in range(ncol):\n",
    "        aximg[i].imshow(sys.secondaries[0].map.render(res=100, theta=theta[i]), origin=\"lower\", cmap=\"plasma\")\n",
    "        aximg[i].axis(\"off\")"
   ]
  },
  {
   "cell_type": "code",
   "execution_count": null,
   "metadata": {
    "tags": [
     "hide_input"
    ]
   },
   "outputs": [],
   "source": [
    "visualize(sys)"
   ]
  },
  {
   "cell_type": "markdown",
   "metadata": {},
   "source": [
    "The transit occurs at $t = 0$ (and $t = 1$) and the secondary eclipse occurs at $t = 0.5$. As we mentioned above, at $t = t_0$ the map is at its initial phase. Since `t0` corresponds to a transiting configuration, the bright side of the planet is facing *away* from the star and toward the observer at this time. This is *probably* undesirable, since normally we'd expect the bright side of the planet to face the star.\n",
    "\n",
    "The easiest way around this is to add a $180^\\circ$ phase offset via the `theta0` parameter:"
   ]
  },
  {
   "cell_type": "code",
   "execution_count": null,
   "metadata": {},
   "outputs": [],
   "source": [
    "planet.map[1, 0] = 0.5\n",
    "planet.theta0 = 180"
   ]
  },
  {
   "cell_type": "code",
   "execution_count": null,
   "metadata": {
    "tags": [
     "hide_input"
    ]
   },
   "outputs": [],
   "source": [
    "visualize(sys)"
   ]
  }
 ],
 "metadata": {
  "celltoolbar": "Tags",
  "kernelspec": {
   "display_name": "Python 3",
   "language": "python",
   "name": "python3"
  },
  "language_info": {
   "codemirror_mode": {
    "name": "ipython",
    "version": 3
   },
   "file_extension": ".py",
   "mimetype": "text/x-python",
   "name": "python",
   "nbconvert_exporter": "python",
   "pygments_lexer": "ipython3",
   "version": "3.7.2"
  }
 },
 "nbformat": 4,
 "nbformat_minor": 2
}
