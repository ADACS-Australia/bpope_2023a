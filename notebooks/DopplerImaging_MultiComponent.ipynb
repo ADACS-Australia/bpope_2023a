{
 "cells": [
  {
   "cell_type": "markdown",
   "metadata": {},
   "source": [
    "# Doppler imaging: Multi-component maps"
   ]
  },
  {
   "cell_type": "code",
   "execution_count": null,
   "metadata": {
    "tags": [
     "hide_input"
    ]
   },
   "outputs": [],
   "source": [
    "%matplotlib inline"
   ]
  },
  {
   "cell_type": "code",
   "execution_count": null,
   "metadata": {
    "tags": [
     "hide_input"
    ]
   },
   "outputs": [],
   "source": [
    "%run notebook_setup.py"
   ]
  },
  {
   "cell_type": "code",
   "execution_count": null,
   "metadata": {
    "tags": [
     "hide_input"
    ]
   },
   "outputs": [],
   "source": [
    "import starry\n",
    "\n",
    "starry.config.lazy = False\n",
    "starry.config.quiet = True"
   ]
  },
  {
   "cell_type": "markdown",
   "metadata": {},
   "source": [
    "In this tutorial, we'll discuss how to model complex spatial-spectral stellar surfaces by instantiating a multi-component map. This allows us to model a star whose spectrum (not just intensity!) varies with position over the surface in (arbitrarily) complex ways."
   ]
  },
  {
   "cell_type": "markdown",
   "metadata": {},
   "source": [
    "## Creating a spectral-spatial map"
   ]
  },
  {
   "cell_type": "code",
   "execution_count": null,
   "metadata": {},
   "outputs": [],
   "source": [
    "import numpy as np\n",
    "import matplotlib.pyplot as plt\n",
    "import starry"
   ]
  },
  {
   "cell_type": "markdown",
   "metadata": {},
   "source": [
    "We'll start with a simple example: a star with a single dark spot, whose spectrum is different than the rest of the photosphere. Let's generate a map of the spot on a 2-dimensional latitude-longitude grid."
   ]
  },
  {
   "cell_type": "code",
   "execution_count": null,
   "metadata": {},
   "outputs": [],
   "source": [
    "lat = np.linspace(-90, 90, 300)\n",
    "lon = np.linspace(-180, 180, 600)\n",
    "image = np.ones((len(lat), len(lon)))\n",
    "y = lat.reshape(-1, 1)\n",
    "x = lon.reshape(1, -1)\n",
    "image[x ** 2 + y ** 2 < 30 ** 2] = 0.5"
   ]
  },
  {
   "cell_type": "code",
   "execution_count": null,
   "metadata": {},
   "outputs": [],
   "source": [
    "plt.figure(figsize=(10, 4))\n",
    "plt.imshow(\n",
    "    image,\n",
    "    origin=\"lower\",\n",
    "    cmap=\"plasma\",\n",
    "    extent=(-180, 180, -90, 90),\n",
    "    aspect=\"auto\",\n",
    ")\n",
    "plt.xticks(np.arange(-180, 180.1, 30))\n",
    "plt.xlabel(\"longitude [deg]\")\n",
    "plt.yticks(np.arange(-90, 90.1, 30))\n",
    "plt.ylabel(\"longitude [deg]\")\n",
    "plt.grid()\n",
    "plt.colorbar();"
   ]
  },
  {
   "cell_type": "markdown",
   "metadata": {},
   "source": [
    "Note that we scaled things so the photosphere has unit intensity and the spot has an intensity of `0.5`. Next, let's define our two spectra: one for the photosphere and one for the spot. For simplicity, we'll give each spectrum a single Gaussian absorption line, although the location will be different for each component."
   ]
  },
  {
   "cell_type": "code",
   "execution_count": null,
   "metadata": {},
   "outputs": [],
   "source": [
    "wav0 = np.linspace(642.0, 644.0, 400)\n",
    "wav = np.linspace(642.5, 643.5, 200)\n",
    "spec1 = 1 - np.exp(-0.5 * (wav0 - 642.8) ** 2 / 0.05 ** 2)\n",
    "spec2 = 1 - np.exp(-0.5 * (wav0 - 643.2) ** 2 / 0.05 ** 2)"
   ]
  },
  {
   "cell_type": "code",
   "execution_count": null,
   "metadata": {},
   "outputs": [],
   "source": [
    "plt.axvspan(wav[0], wav[-1], alpha=0.1, color=\"k\")\n",
    "plt.plot(wav0, spec1, label=\"photosphere\")\n",
    "plt.plot(wav0, spec2, label=\"spot\")\n",
    "plt.xlabel(\"rest frame wavelength [nm]\")\n",
    "plt.ylabel(\"normalized intensity\")\n",
    "plt.legend();"
   ]
  },
  {
   "cell_type": "raw",
   "metadata": {
    "raw_mimetype": "text/restructuredtext"
   },
   "source": [
    ".. note::\n",
    "    \n",
    "    Recall the distinction between the rest frame wavelength grid `wav0` and the observed wavelength grid `wav`. The \n",
    "    former is the one on which the local, rest frame spectra are defined. The latter is the grid on which we observe \n",
    "    the spectrum (after Doppler shifting and integrating over the stellar disk). We don't actually need `wav` right \n",
    "    now (we'll use it below). The shaded region indicates the extent of `wav`; recall that `wav0` should typically be \n",
    "    padded to avoid edge effects in the convolution step that computes the observed spectra."
   ]
  },
  {
   "cell_type": "markdown",
   "metadata": {},
   "source": [
    "We're now ready to define the full spectral-spatial stellar surface. Let's create a data `cube`: a latitude-longitude grid with a third dimension that contains the spectrum at each point on the surface. We'll assign each pixel with unit intensity the photospheric spectrum (`spec1`) and the remaining pixels the spot spectrum (`spec2`):"
   ]
  },
  {
   "cell_type": "code",
   "execution_count": null,
   "metadata": {},
   "outputs": [],
   "source": [
    "cube = np.zeros((len(lat), len(lon), len(wav0)))\n",
    "bkg = image == 1\n",
    "cube[bkg, :] = image[bkg].reshape(-1, 1) * spec1.reshape(1, -1)\n",
    "cube[~bkg, :] = image[~bkg].reshape(-1, 1) * spec2.reshape(1, -1)"
   ]
  },
  {
   "cell_type": "markdown",
   "metadata": {},
   "source": [
    "Here's what the (zoomed-in, low-res) `cube` looks like:"
   ]
  },
  {
   "cell_type": "code",
   "execution_count": null,
   "metadata": {
    "tags": [
     "hide_input"
    ]
   },
   "outputs": [],
   "source": [
    "# Downsample for plotting\n",
    "from scipy.ndimage import zoom\n",
    "\n",
    "mini_cube = zoom(cube[75:225, 200:400, :], [0.075, 0.075, 1])\n",
    "nlat = mini_cube.shape[0]\n",
    "nlon = mini_cube.shape[1]\n",
    "\n",
    "cmap = plt.get_cmap(\"plasma\")\n",
    "fig, ax = plt.subplots(nlat, nlon, sharex=True, sharey=True, figsize=(12, 6))\n",
    "fig.subplots_adjust(hspace=0, wspace=0)\n",
    "for i in range(nlat):\n",
    "    for j in range(nlon):\n",
    "        ax[i, j].set_facecolor(cmap(mini_cube[i, j, 0]))\n",
    "        ax[i, j].plot(mini_cube[i, j], lw=1, color=\"k\")\n",
    "        ax[i, j].set_xticks([])\n",
    "        ax[i, j].set_yticks([])\n",
    "        for s in [\"top\", \"right\", \"bottom\", \"left\"]:\n",
    "            ax[i, j].spines[s].set_alpha(0.1)\n",
    "        ax[i, j].margins(0.1, 0.1)\n",
    "for i in range(nlat):\n",
    "    ax[i, 0].spines[\"left\"].set_alpha(1)\n",
    "    ax[i, -1].spines[\"right\"].set_alpha(1)\n",
    "for j in range(nlon):\n",
    "    ax[0, j].spines[\"top\"].set_alpha(1)\n",
    "    ax[-1, j].spines[\"bottom\"].set_alpha(1)"
   ]
  },
  {
   "cell_type": "markdown",
   "metadata": {},
   "source": [
    "## Instantiating the `starry` model"
   ]
  },
  {
   "cell_type": "markdown",
   "metadata": {},
   "source": [
    "Now we're going to `load` this data cube into a `DopplerMap`. Let's instantiate our map as usual, specifying our rest frame and observed wavelength grids, `wav` and `wav0`. This time we'll provide a number of components for the map, `nc`. In this case, we only need two: one for the photosphere and one for the spot."
   ]
  },
  {
   "cell_type": "code",
   "execution_count": null,
   "metadata": {},
   "outputs": [],
   "source": [
    "map = starry.DopplerMap(15, nc=2, wav=wav, wav0=wav0)"
   ]
  },
  {
   "cell_type": "markdown",
   "metadata": {},
   "source": [
    "For a little extra flavor, let's give the star a bit of inclination and a significant equatorial velocity of `30 km/s`."
   ]
  },
  {
   "cell_type": "code",
   "execution_count": null,
   "metadata": {},
   "outputs": [],
   "source": [
    "map.inc = 60\n",
    "map.veq = 30000"
   ]
  },
  {
   "cell_type": "markdown",
   "metadata": {},
   "source": [
    "Loading our data `cube` is extremely simple:"
   ]
  },
  {
   "cell_type": "code",
   "execution_count": null,
   "metadata": {},
   "outputs": [],
   "source": [
    "map.load(cube=cube)"
   ]
  },
  {
   "cell_type": "markdown",
   "metadata": {},
   "source": [
    "Internally, `starry` computes the singular value decomposition (SVD) of the cube to figure out the eigenmaps and eigenspectra defining the stellar surface. Let's take a look at what we have now:"
   ]
  },
  {
   "cell_type": "code",
   "execution_count": null,
   "metadata": {},
   "outputs": [],
   "source": [
    "map.visualize()"
   ]
  },
  {
   "cell_type": "raw",
   "metadata": {
    "raw_mimetype": "text/restructuredtext"
   },
   "source": [
    ".. warning::\n",
    "\n",
    "    Notebook still under construction. Stay tuned for more!"
   ]
  }
 ],
 "metadata": {
  "celltoolbar": "Raw Cell Format",
  "kernelspec": {
   "display_name": "Python 3",
   "language": "python",
   "name": "python3"
  },
  "language_info": {
   "codemirror_mode": {
    "name": "ipython",
    "version": 3
   },
   "file_extension": ".py",
   "mimetype": "text/x-python",
   "name": "python",
   "nbconvert_exporter": "python",
   "pygments_lexer": "ipython3",
   "version": "3.8.8"
  }
 },
 "nbformat": 4,
 "nbformat_minor": 4
}
