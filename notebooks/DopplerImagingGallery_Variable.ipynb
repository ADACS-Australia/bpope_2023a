{
 "cells": [
  {
   "cell_type": "markdown",
   "metadata": {},
   "source": [
    "# Spectrally variable `SPOT`"
   ]
  },
  {
   "cell_type": "raw",
   "metadata": {
    "raw_mimetype": "text/html"
   },
   "source": [
    "<script>\n",
    "    // Force \"pop out\" links to open in the browser (rather than download)\n",
    "    document.addEventListener(\"DOMContentLoaded\", function(event) { \n",
    "        var links = document.getElementsByClassName(\"reference download internal\")\n",
    "            for (var i = 0; i < links.length; i++) { \n",
    "                links[i].outerHTML = links[i].outerHTML.replace(\"download=\\\"\\\"\", \"\");\n",
    "            }\n",
    "    });\n",
    "</script>"
   ]
  },
  {
   "cell_type": "code",
   "execution_count": null,
   "metadata": {
    "tags": [
     "hide_input"
    ]
   },
   "outputs": [],
   "source": [
    "%matplotlib inline"
   ]
  },
  {
   "cell_type": "code",
   "execution_count": null,
   "metadata": {
    "tags": [
     "hide_input"
    ]
   },
   "outputs": [],
   "source": [
    "%run notebook_setup.py"
   ]
  },
  {
   "cell_type": "code",
   "execution_count": null,
   "metadata": {
    "tags": [
     "hide_input"
    ]
   },
   "outputs": [],
   "source": [
    "import starry\n",
    "from pathlib import Path\n",
    "\n",
    "starry_path = Path(starry.__file__).parents[0]\n",
    "starry.config.lazy = False\n",
    "starry.config.quiet = True"
   ]
  },
  {
   "cell_type": "markdown",
   "metadata": {},
   "source": [
    "In this notebook we'll instantiate a Doppler map with spectrally variable features and visualize it with the interactive ``show()`` method. The plots below are fully interactive: move the mouse and scroll over the maps to control the spectra that are displayed below them."
   ]
  },
  {
   "cell_type": "code",
   "execution_count": null,
   "metadata": {},
   "outputs": [],
   "source": [
    "import starry\n",
    "import numpy as np"
   ]
  },
  {
   "cell_type": "raw",
   "metadata": {
    "raw_mimetype": "text/restructuredtext"
   },
   "source": [
    ":download:`pop out <doppler_variable.html>`"
   ]
  },
  {
   "cell_type": "code",
   "execution_count": null,
   "metadata": {},
   "outputs": [],
   "source": [
    "# Instantiate\n",
    "map = starry.DopplerMap(15, nt=20, nc=4, inc=60, veq=30000)\n",
    "\n",
    "# Four images containing each of the letters in \"SPOT\"\n",
    "# We'll flip them so that they are bright\n",
    "image = np.flipud(plt.imread(starry_path / \"img\" / \"spot.png\"))\n",
    "image = np.mean(image[:, :, :3], axis=2)\n",
    "nlat, nlon = image.shape\n",
    "images = np.zeros((4, nlat, nlon))\n",
    "for n in range(4):\n",
    "    images[n] = np.zeros_like(image)\n",
    "    idx = slice(n * nlon // 4, (n + 1) * nlon // 4)\n",
    "    images[n][:, idx] = 1 - image[:, idx]\n",
    "images += 0.1\n",
    "\n",
    "# Four corresponding absorption lines\n",
    "mu = np.array([642.69, 642.90, 643.10, 643.31])\n",
    "sig = 0.025\n",
    "dw = map.wav0.reshape(1, -1) - mu.reshape(-1, 1)\n",
    "spectra = 1.0 - np.exp(-0.5 * dw ** 2 / sig ** 2)\n",
    "\n",
    "# Load it all into the map\n",
    "map.load(images=images, spectra=spectra, smoothing=0.075)\n",
    "\n",
    "# Visualize\n",
    "map.show()"
   ]
  },
  {
   "cell_type": "code",
   "execution_count": null,
   "metadata": {
    "tags": [
     "hide_input"
    ]
   },
   "outputs": [],
   "source": [
    "map.show(file=\"doppler_variable.html\")"
   ]
  }
 ],
 "metadata": {
  "celltoolbar": "Raw Cell Format",
  "kernelspec": {
   "display_name": "Python 3",
   "language": "python",
   "name": "python3"
  },
  "language_info": {
   "codemirror_mode": {
    "name": "ipython",
    "version": 3
   },
   "file_extension": ".py",
   "mimetype": "text/x-python",
   "name": "python",
   "nbconvert_exporter": "python",
   "pygments_lexer": "ipython3",
   "version": "3.8.3"
  }
 },
 "nbformat": 4,
 "nbformat_minor": 4
}
