{
 "cells": [
  {
   "cell_type": "markdown",
   "metadata": {},
   "source": [
    "# Doppler imaging"
   ]
  },
  {
   "cell_type": "code",
   "execution_count": null,
   "metadata": {
    "tags": [
     "hide_input"
    ]
   },
   "outputs": [],
   "source": [
    "%matplotlib inline"
   ]
  },
  {
   "cell_type": "code",
   "execution_count": null,
   "metadata": {
    "tags": [
     "hide_input"
    ]
   },
   "outputs": [],
   "source": [
    "%run notebook_setup.py"
   ]
  },
  {
   "cell_type": "code",
   "execution_count": null,
   "metadata": {
    "tags": [
     "hide_input"
    ]
   },
   "outputs": [],
   "source": [
    "import starry\n",
    "\n",
    "starry.config.lazy = False\n",
    "starry.config.quiet = True"
   ]
  },
  {
   "cell_type": "markdown",
   "metadata": {},
   "source": [
    "In this notebook we will show how to use ``starry`` to model Doppler imaging datasets."
   ]
  },
  {
   "cell_type": "code",
   "execution_count": null,
   "metadata": {},
   "outputs": [],
   "source": [
    "import starry\n",
    "import numpy as np\n",
    "import matplotlib.pyplot as plt"
   ]
  },
  {
   "cell_type": "markdown",
   "metadata": {},
   "source": [
    "## Star with a grey spot"
   ]
  },
  {
   "cell_type": "markdown",
   "metadata": {},
   "source": [
    "Let's instantiate a ``DopplerMap``. In addition to the spherical harmonic degree, we need to provide the number of epochs we're planning on modeling (``nt``)."
   ]
  },
  {
   "cell_type": "code",
   "execution_count": null,
   "metadata": {},
   "outputs": [],
   "source": [
    "map = starry.DopplerMap(ydeg=15, nt=20)"
   ]
  },
  {
   "cell_type": "markdown",
   "metadata": {},
   "source": [
    "Specifically, we're modeling a degree `15` spherical harmonic map with `20` epochs (i.e., the number of spectra we've observed and would like to model).\n",
    "\n",
    "Let's specify two more properties relevant to Doppler imaging: the stellar inclination and the equatorial velocity."
   ]
  },
  {
   "cell_type": "code",
   "execution_count": null,
   "metadata": {},
   "outputs": [],
   "source": [
    "map.inc = 60\n",
    "map.veq = 30000"
   ]
  },
  {
   "cell_type": "markdown",
   "metadata": {},
   "source": [
    "By default, these are in degrees and meters per second, respectively."
   ]
  },
  {
   "cell_type": "markdown",
   "metadata": {},
   "source": [
    "The final thing we must do is specify what the surface of the star looks like, both spatially *and* spectrally. The spatial map can be specified by loading a latitude-longitude map, either as an image file name or an `ndarray`:"
   ]
  },
  {
   "cell_type": "code",
   "execution_count": null,
   "metadata": {},
   "outputs": [],
   "source": [
    "map.load(images=\"spot\")"
   ]
  },
  {
   "cell_type": "markdown",
   "metadata": {},
   "source": [
    "The map we loaded above is the image located at ``starry/img/spot.png``, which looks like this on a rectangular latitude-longitude grid:"
   ]
  },
  {
   "cell_type": "code",
   "execution_count": null,
   "metadata": {
    "tags": [
     "hide_input"
    ]
   },
   "outputs": [],
   "source": [
    "import pathlib\n",
    "\n",
    "file = pathlib.Path().absolute().parents[0] / \"starry\" / \"img\" / \"spot.png\"\n",
    "fig, ax = plt.subplots(1)\n",
    "ax.imshow(plt.imread(file))\n",
    "ax.set_xticks([])\n",
    "ax.set_yticks([]);"
   ]
  },
  {
   "cell_type": "markdown",
   "metadata": {},
   "source": [
    "Now that we told `starry` about what the star looks like *spatially*, we need to tell it about the spectrum. There are two wavelength grids associated with a ``DopplerMap``: `wav` and `wav0`. Both of these are defined in **nanometers**.\n",
    "\n",
    "The former, `wav`, is the wavelength grid on which the model for the observed spectral timeseries (given by the `map.flux` method) is defined. This can be accessed as `map.wav`, and can be passed in as the keyword argument `wav` when instantiating the map. We didn't explicitly provide this above, so it defaults to an array of `200` points centered at `643.0 nm`, the wavelength of an `FeI` line commonly used in Doppler imaging.\n",
    "\n",
    "The latter, `wav0`, is the wavelength grid on which the *local, rest frame spectrum* (given by the `map.spectrum` property) is defined. This can be accessed as `map.wav0`, and can be passed in as the keyword argument `wav0` when instantiating the map. Again, we didn't explicitly provide this above, so it defaults to a similar array, but with extra padding on either side:"
   ]
  },
  {
   "cell_type": "code",
   "execution_count": null,
   "metadata": {
    "tags": [
     "hide_input"
    ]
   },
   "outputs": [],
   "source": [
    "for tick in map.wav0:\n",
    "    plt.plot([tick, tick], [0.4, 0.45], \"C1-\", lw=0.5)\n",
    "plt.annotate(\"wav0\", xy=(0.5, 0.3), xycoords=\"axes fraction\", ha=\"center\", color=\"C1\")\n",
    "for tick in map.wav:\n",
    "    plt.plot([tick, tick], [0.55, 0.6], \"C0-\", lw=0.5)\n",
    "plt.annotate(\"wav\", xy=(0.5, 0.65), xycoords=\"axes fraction\", ha=\"center\", color=\"C0\")\n",
    "plt.annotate(\n",
    "    s=\"\",\n",
    "    xy=(map.wav[-1], 0.575),\n",
    "    xycoords=\"data\",\n",
    "    xytext=(map.wav0[-1], 0.575),\n",
    "    textcoords=\"data\",\n",
    "    arrowprops=dict(arrowstyle=\"<|-|>\", lw=1, color=\"C1\"),\n",
    ")\n",
    "plt.annotate(\n",
    "    s=\"\",\n",
    "    xy=(map.wav0[0], 0.575),\n",
    "    xycoords=\"data\",\n",
    "    xytext=(map.wav[0], 0.575),\n",
    "    textcoords=\"data\",\n",
    "    arrowprops=dict(arrowstyle=\"<|-|>\", lw=1, color=\"C1\"),\n",
    ")\n",
    "plt.annotate(\n",
    "    \"padding\",\n",
    "    xy=(0.89, 0.65),\n",
    "    xycoords=\"axes fraction\",\n",
    "    ha=\"center\",\n",
    "    color=\"C1\",\n",
    "    fontsize=10,\n",
    ")\n",
    "plt.annotate(\n",
    "    \"padding\",\n",
    "    xy=(0.11, 0.65),\n",
    "    xycoords=\"axes fraction\",\n",
    "    ha=\"center\",\n",
    "    color=\"C1\",\n",
    "    fontsize=10,\n",
    ")\n",
    "plt.xlabel(\"wavelength (nm)\")\n",
    "plt.yticks([])\n",
    "plt.ylim(0, 1);"
   ]
  },
  {
   "cell_type": "markdown",
   "metadata": {},
   "source": [
    "Why the padding? And why make a distinction between these two wavelength arrays in the first place? That's because the values near the edge of the observed spectrum typically depend on a little bit of the rest frame spectrum that lies *beyond* the edge, thanks to the Doppler shift. The amount of padding is proportional to $v \\sin i$: if the star is rotating very quickly, we need a lot of padding to ensure there are no edge effects in computing the model for the observed spectrum."
   ]
  },
  {
   "cell_type": "markdown",
   "metadata": {},
   "source": [
    "The user is free to provide whatever arrays they want for `wav` and `wav0`, but if `wav0` is insufficiently padded, ``starry`` will throw a warning:"
   ]
  },
  {
   "cell_type": "code",
   "execution_count": null,
   "metadata": {},
   "outputs": [],
   "source": [
    "starry.DopplerMap(wav=np.linspace(500, 501, 100), wav0=np.linspace(500, 501, 100));"
   ]
  },
  {
   "cell_type": "raw",
   "metadata": {
    "raw_mimetype": "text/restructuredtext"
   },
   "source": [
    ".. note::\n",
    "\n",
    "    It's important to note that ``wav`` and ``wav0`` are strictly user-facing arrays.\n",
    "    Under the hood, ``starry`` computes the model on a different wavelength grid that's \n",
    "    evenly spaced in the log of the wavelength. This grid has a number of bins equal to\n",
    "    the length of the ``wav`` array times ``map.oversample``, which by default is set to \n",
    "    ``1`` but can be passed in via the ``oversample`` keyword when instantiting the map. \n",
    "    Note also that the amount of padding is *fixed* when the map is instantiated, and is\n",
    "    computed based on ``map.vsini_max``, which defaults to ``100 km/s`` and can be changed\n",
    "    via the ``vsini_max`` keyword (note that this is in units of ``map.velocity_unit``)."
   ]
  },
  {
   "cell_type": "markdown",
   "metadata": {},
   "source": [
    "We'll discuss these wavelength grids (and how ``starry`` interpolates between them) in more detail below. For now, let's stick to the default grid for the rest frame spectrum, ``wav0``, and add a single narrow Gaussian absorption line at the central wavelength."
   ]
  },
  {
   "cell_type": "code",
   "execution_count": null,
   "metadata": {},
   "outputs": [],
   "source": [
    "map.load(spectra=1.0 - 0.75 * np.exp(-0.5 * (map.wav0 - 643.0) ** 2 / 0.025 ** 2))"
   ]
  },
  {
   "cell_type": "markdown",
   "metadata": {},
   "source": [
    "Here's what that looks like:"
   ]
  },
  {
   "cell_type": "code",
   "execution_count": null,
   "metadata": {},
   "outputs": [],
   "source": [
    "plt.plot(map.wav0, map.spectrum[0], \"C1\")\n",
    "plt.xlabel(\"rest frame wavelength (nm)\")\n",
    "plt.ylabel(\"intensity\");"
   ]
  },
  {
   "cell_type": "markdown",
   "metadata": {},
   "source": [
    "We are now ready to compute the model for the observed spectrum. This is done by calling ``flux()``:"
   ]
  },
  {
   "cell_type": "code",
   "execution_count": null,
   "metadata": {},
   "outputs": [],
   "source": [
    "theta = np.linspace(0, 360, 20)\n",
    "flux = map.flux(theta=theta)"
   ]
  },
  {
   "cell_type": "markdown",
   "metadata": {},
   "source": [
    "In the expression above, ``theta`` is the angular phase of the star. Note that ``theta`` must be an array of length equal to ``map.nt``, the number of epochs we told ``starry`` about earlier. The ``flux`` method returns a two-dimensional array of fluxes at each wavelength (or, alternatively, spectra at each point in time):"
   ]
  },
  {
   "cell_type": "code",
   "execution_count": null,
   "metadata": {},
   "outputs": [],
   "source": [
    "flux.shape"
   ]
  },
  {
   "cell_type": "markdown",
   "metadata": {},
   "source": [
    "In this case, that's ``20`` spectra, one at each phase ``theta``, each containing ``300`` wavelength bins. As we discussed above, the wavelength grid for the flux is given by ``map.wav``. Let's visualize our model:"
   ]
  },
  {
   "cell_type": "code",
   "execution_count": null,
   "metadata": {},
   "outputs": [],
   "source": [
    "plt.plot(map.wav, flux.T, color=\"C0\", lw=1, alpha=0.5)\n",
    "plt.xlabel(\"wavelength (nm)\")\n",
    "plt.ylabel(\"flux\");"
   ]
  },
  {
   "cell_type": "markdown",
   "metadata": {},
   "source": [
    "Finally, we can look at just how Doppler shifted our spectrum is relative to the rest frame spectrum:"
   ]
  },
  {
   "cell_type": "code",
   "execution_count": null,
   "metadata": {},
   "outputs": [],
   "source": [
    "plt.plot(map.wav0, map.spectrum[0], color=\"C1\", lw=1, label=\"rest frame spectrum\")\n",
    "plt.plot(\n",
    "    map.wav,\n",
    "    flux[0],\n",
    "    color=\"C0\",\n",
    "    lw=1,\n",
    "    alpha=0.5,\n",
    "    label=\"observed spectrum\",\n",
    ")\n",
    "plt.plot(map.wav, flux[1:].T, color=\"C0\", lw=1, alpha=0.5)\n",
    "plt.legend()\n",
    "plt.xlabel(\"wavelength (nm)\")\n",
    "plt.ylabel(\"normalized flux\");"
   ]
  },
  {
   "cell_type": "raw",
   "metadata": {
    "raw_mimetype": "text/restructuredtext"
   },
   "source": [
    ".. warning::\n",
    "\n",
    "    Notebook still under construction. Stay tuned for more!"
   ]
  }
 ],
 "metadata": {
  "celltoolbar": "Tags",
  "kernelspec": {
   "display_name": "Python 3",
   "language": "python",
   "name": "python3"
  },
  "language_info": {
   "codemirror_mode": {
    "name": "ipython",
    "version": 3
   },
   "file_extension": ".py",
   "mimetype": "text/x-python",
   "name": "python",
   "nbconvert_exporter": "python",
   "pygments_lexer": "ipython3",
   "version": "3.8.3"
  }
 },
 "nbformat": 4,
 "nbformat_minor": 4
}
