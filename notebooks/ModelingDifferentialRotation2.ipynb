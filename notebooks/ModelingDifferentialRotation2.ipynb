{
 "cells": [
  {
   "cell_type": "markdown",
   "metadata": {},
   "source": [
    "# Modeling differential rotation"
   ]
  },
  {
   "cell_type": "code",
   "execution_count": null,
   "metadata": {
    "tags": [
     "hide_input"
    ]
   },
   "outputs": [],
   "source": [
    "%matplotlib inline"
   ]
  },
  {
   "cell_type": "code",
   "execution_count": null,
   "metadata": {
    "tags": [
     "hide_input"
    ]
   },
   "outputs": [],
   "source": [
    "%run notebook_setup.py"
   ]
  },
  {
   "cell_type": "code",
   "execution_count": null,
   "metadata": {},
   "outputs": [],
   "source": [
    "import matplotlib.pyplot as plt\n",
    "from matplotlib import colors\n",
    "from mpl_toolkits.axes_grid1 import make_axes_locatable\n",
    "import numpy as np\n",
    "from tqdm.notebook import tqdm\n",
    "from scipy.special import factorial\n",
    "from scipy.interpolate import interp1d\n",
    "import starry\n",
    "\n",
    "starry.config.lazy = False\n",
    "starry.config.quiet = True"
   ]
  },
  {
   "cell_type": "markdown",
   "metadata": {},
   "source": [
    "## Differential rotation operator"
   ]
  },
  {
   "cell_type": "code",
   "execution_count": null,
   "metadata": {},
   "outputs": [],
   "source": [
    "map = starry.Map(15)\n",
    "map.load(\"earth\")\n",
    "map.amp = 1\n",
    "y0 = np.array(map.y)"
   ]
  },
  {
   "cell_type": "code",
   "execution_count": null,
   "metadata": {},
   "outputs": [],
   "source": [
    "class DifferentialOperator(object):\n",
    "    def __init__(self, ydeg, oversample=3, eps=1e-6):\n",
    "\n",
    "        # Get pixel transforms\n",
    "        self.ydeg = ydeg\n",
    "        map = starry.Map(ydeg)\n",
    "        self.lat, self.lon, self.P, self.Q, _, _ = map.get_pixel_transforms(\n",
    "            oversample=oversample\n",
    "        )\n",
    "\n",
    "        self.ops = map.ops\n",
    "\n",
    "        # Get indices of unique latitudes\n",
    "        self.unique_lat = np.sort(list(set(self.lat)))\n",
    "        self.idx = np.array([self.lat == l for l in self.unique_lat])\n",
    "\n",
    "        self.mag = np.sin(self.unique_lat * np.pi / 180.0) ** 2\n",
    "\n",
    "        self.npix = self.P.shape[0]\n",
    "        self.nlat = len(self.mag)\n",
    "        self.Ny = (self.ydeg + 1) ** 2\n",
    "\n",
    "        # Polar transform\n",
    "        RP = self.ops.dotR(\n",
    "            np.eye(self.Ny),\n",
    "            np.array(1.0),\n",
    "            np.array(0.0),\n",
    "            np.array(0.0),\n",
    "            np.array(-0.5 * np.pi),\n",
    "        )\n",
    "        RP = np.tile(np.expand_dims(RP, 1), (1, self.nlat, 1))\n",
    "        self.RP = np.reshape(RP, (-1, self.Ny))\n",
    "\n",
    "    def get_D(self, theta):\n",
    "\n",
    "        # Convert to radians\n",
    "        theta *= np.pi / 180\n",
    "\n",
    "        # Apply the differential rotation\n",
    "        t = np.tile(-theta * self.mag, self.Ny)\n",
    "        Yzr = np.reshape(self.ops.tensordotRz(self.RP, t), (-1, self.Ny))\n",
    "\n",
    "        # Transform back out of the polar frame\n",
    "        Yr = np.reshape(\n",
    "            self.ops.dotR(\n",
    "                Yzr, np.array(1.0), np.array(0.0), np.array(0.0), np.array(0.5 * np.pi),\n",
    "            ),\n",
    "            (self.Ny, -1, self.Ny),\n",
    "        )\n",
    "        Yr = np.swapaxes(Yr, 1, 2)\n",
    "\n",
    "        # Convert to pixels\n",
    "        Pr = np.swapaxes(np.tensordot(self.P, Yr, (1, 0)), 0, 1)\n",
    "\n",
    "        # Select the pixels at each latitude\n",
    "        Lr = np.zeros((self.npix, self.Ny))\n",
    "        for j in range((self.ydeg + 1) ** 2):\n",
    "            for i, row in enumerate(self.idx):\n",
    "                Lr[row, j] = Pr[j, row, i]\n",
    "\n",
    "        # Convert back to Ylms\n",
    "        D = np.dot(self.Q, Lr)\n",
    "\n",
    "        return D"
   ]
  },
  {
   "cell_type": "code",
   "execution_count": null,
   "metadata": {},
   "outputs": [],
   "source": [
    "DiffOp = DifferentialOperator(15)\n",
    "map[:, :] = DiffOp.get_D(60).dot(y0)\n",
    "map.show(projection=\"rect\")"
   ]
  },
  {
   "cell_type": "code",
   "execution_count": null,
   "metadata": {},
   "outputs": [],
   "source": [
    "tt.tile(np.array([0.0, 1.0]), 2).eval()"
   ]
  },
  {
   "cell_type": "code",
   "execution_count": null,
   "metadata": {},
   "outputs": [],
   "source": [
    "np.tile(np.array([0.0, 1.0]), 2)"
   ]
  },
  {
   "cell_type": "code",
   "execution_count": null,
   "metadata": {},
   "outputs": [],
   "source": [
    "tt.swapaxes"
   ]
  },
  {
   "cell_type": "code",
   "execution_count": null,
   "metadata": {},
   "outputs": [],
   "source": [
    "np.tensordot?"
   ]
  },
  {
   "cell_type": "code",
   "execution_count": null,
   "metadata": {},
   "outputs": [],
   "source": [
    "ncoeff = 4\n",
    "theta = np.array([30.0, 35.0])\n",
    "mag = np.array([1.0, 2.0, 3.0])\n",
    "tt.tile(-tt.shape_padright(theta) * tt.shape_padleft(mag), ncoeff).eval()"
   ]
  },
  {
   "cell_type": "code",
   "execution_count": null,
   "metadata": {},
   "outputs": [],
   "source": []
  }
 ],
 "metadata": {
  "celltoolbar": "Raw Cell Format",
  "kernelspec": {
   "display_name": "Python 3",
   "language": "python",
   "name": "python3"
  },
  "language_info": {
   "codemirror_mode": {
    "name": "ipython",
    "version": 3
   },
   "file_extension": ".py",
   "mimetype": "text/x-python",
   "name": "python",
   "nbconvert_exporter": "python",
   "pygments_lexer": "ipython3",
   "version": "3.7.4"
  }
 },
 "nbformat": 4,
 "nbformat_minor": 2
}
