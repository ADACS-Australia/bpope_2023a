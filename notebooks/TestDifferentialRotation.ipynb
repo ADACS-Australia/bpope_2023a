{
 "cells": [
  {
   "cell_type": "code",
   "execution_count": null,
   "metadata": {},
   "outputs": [],
   "source": [
    "%matplotlib inline"
   ]
  },
  {
   "cell_type": "code",
   "execution_count": null,
   "metadata": {},
   "outputs": [],
   "source": [
    "%run notebook_setup.py"
   ]
  },
  {
   "cell_type": "code",
   "execution_count": null,
   "metadata": {},
   "outputs": [],
   "source": [
    "import starry\n",
    "import matplotlib.pyplot as plt\n",
    "import numpy as np\n",
    "import theano\n",
    "import theano.tensor as tt"
   ]
  },
  {
   "cell_type": "code",
   "execution_count": null,
   "metadata": {},
   "outputs": [],
   "source": [
    "starry.config.lazy = False\n",
    "starry.config.quiet = True"
   ]
  },
  {
   "cell_type": "code",
   "execution_count": null,
   "metadata": {},
   "outputs": [],
   "source": [
    "def get_error(ydeg=15, theta=30, **kwargs):\n",
    "\n",
    "    # Instantiate\n",
    "    map = starry.Map(ydeg, **kwargs)\n",
    "\n",
    "    # Application of D followed by its inverse should get us the identity\n",
    "    D = map.ops.get_D(np.array([theta * np.pi / 180])).reshape(map.Ny, map.Ny)\n",
    "    DInv = map.ops.get_D(np.array([-theta * np.pi / 180])).reshape(map.Ny, map.Ny)\n",
    "    I = D.dot(DInv)\n",
    "\n",
    "    # Compute the mean value of the diagonal of I for each `l`\n",
    "    Il = np.array(\n",
    "        [np.mean(np.diag(I)[l ** 2 : (l + 1) ** 2]) for l in range(map.ydeg + 1)]\n",
    "    )\n",
    "\n",
    "    # The \"error\" is the difference from unity\n",
    "    return np.abs(1.0 - Il)"
   ]
  },
  {
   "cell_type": "code",
   "execution_count": null,
   "metadata": {},
   "outputs": [],
   "source": [
    "error = get_error(ydeg=15, theta=30, dr_fourier_fac=1.0, dr_oversample=2)\n",
    "plt.plot(error)\n",
    "\n",
    "error = get_error(ydeg=20, theta=30, dr_fourier_fac=1.0, dr_oversample=2)\n",
    "plt.plot(error)\n",
    "\n",
    "error = get_error(ydeg=30, theta=30, dr_fourier_fac=1.0, dr_oversample=2)\n",
    "plt.plot(error)\n",
    "\n",
    "plt.xlabel(\"l\")\n",
    "plt.ylabel(\"error\")\n",
    "plt.yscale(\"log\")\n",
    "plt.show();"
   ]
  },
  {
   "cell_type": "code",
   "execution_count": null,
   "metadata": {},
   "outputs": [],
   "source": [
    "error = get_error(ydeg=15, theta=30, dr_wigner=True)\n",
    "plt.plot(error)\n",
    "\n",
    "error = get_error(ydeg=20, theta=30, dr_wigner=True)\n",
    "plt.plot(error)\n",
    "\n",
    "error = get_error(ydeg=30, theta=30, dr_wigner=True)\n",
    "plt.plot(error)\n",
    "\n",
    "plt.xlabel(\"l\")\n",
    "plt.ylabel(\"error\")\n",
    "plt.yscale(\"log\")\n",
    "plt.show();"
   ]
  },
  {
   "cell_type": "code",
   "execution_count": null,
   "metadata": {},
   "outputs": [],
   "source": [
    "# Instantiate\n",
    "for l in [15, 20]:\n",
    "    map = starry.Map(l, dr_fourier_fac=1.0)\n",
    "\n",
    "    theta = 30.0\n",
    "    D = map.ops.get_D(np.array([-theta * np.pi / 180])).reshape(map.Ny, map.Ny)\n",
    "    DInv = map.ops.get_D(np.array([theta * np.pi / 180])).reshape(map.Ny, map.Ny)\n",
    "    I = D.dot(DInv)\n",
    "\n",
    "    # Compute the mean value of the diagonal of I for each `l`\n",
    "    plt.plot(np.abs(1.0 - np.diag(I)))\n",
    "    plt.xlim(0, 100)\n",
    "    plt.yscale(\"log\")"
   ]
  },
  {
   "cell_type": "code",
   "execution_count": null,
   "metadata": {},
   "outputs": [],
   "source": []
  }
 ],
 "metadata": {
  "kernelspec": {
   "display_name": "Python 3",
   "language": "python",
   "name": "python3"
  },
  "language_info": {
   "codemirror_mode": {
    "name": "ipython",
    "version": 3
   },
   "file_extension": ".py",
   "mimetype": "text/x-python",
   "name": "python",
   "nbconvert_exporter": "python",
   "pygments_lexer": "ipython3",
   "version": "3.7.4"
  }
 },
 "nbformat": 4,
 "nbformat_minor": 2
}
