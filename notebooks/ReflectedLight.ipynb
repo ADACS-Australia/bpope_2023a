{
 "cells": [
  {
   "cell_type": "markdown",
   "metadata": {},
   "source": [
    "# Maps in reflected light"
   ]
  },
  {
   "cell_type": "markdown",
   "metadata": {},
   "source": [
    "This notebook discusses how to model phase curves and occultation light curves in reflected light."
   ]
  },
  {
   "cell_type": "markdown",
   "metadata": {},
   "source": [
    "## Instantiating a reflected light map"
   ]
  },
  {
   "cell_type": "markdown",
   "metadata": {},
   "source": [
    "Let's begin by instantiating a map in reflected light. We do this by specifying `reflected=True` when calling `starry.Map()`."
   ]
  },
  {
   "cell_type": "code",
   "execution_count": null,
   "metadata": {
    "tags": [
     "hide_input"
    ]
   },
   "outputs": [],
   "source": [
    "%matplotlib inline"
   ]
  },
  {
   "cell_type": "code",
   "execution_count": null,
   "metadata": {
    "tags": [
     "hide_input"
    ]
   },
   "outputs": [],
   "source": [
    "%run notebook_setup.py"
   ]
  },
  {
   "cell_type": "code",
   "execution_count": null,
   "metadata": {},
   "outputs": [],
   "source": [
    "import matplotlib.pyplot as plt\n",
    "from matplotlib import colors\n",
    "import numpy as np\n",
    "import starry\n",
    "\n",
    "starry.config.lazy = False\n",
    "starry.config.quiet = True"
   ]
  },
  {
   "cell_type": "code",
   "execution_count": null,
   "metadata": {},
   "outputs": [],
   "source": [
    "map = starry.Map(ydeg=15, reflected=True)"
   ]
  },
  {
   "cell_type": "markdown",
   "metadata": {},
   "source": [
    "Before we set any spherical harmonic coefficients, let's take a look at our map. We can call the ``show()`` method as usual:"
   ]
  },
  {
   "cell_type": "code",
   "execution_count": null,
   "metadata": {},
   "outputs": [],
   "source": [
    "map.show()"
   ]
  },
  {
   "cell_type": "markdown",
   "metadata": {},
   "source": [
    "By default, the illumination source is along the $+\\hat{z}$ direction at $z = 1$, so directly in front of the object, one unit away. In this case, the `starry` normalization results in a sub-illumination intensity of $1/\\pi$, a value that falls off as the cosine of the viewing angle to zero at the limb. (As we'll see below, this results in the integral of the illumination over the disk to be equal to $2/3$, the geometric albedo of a Lambert sphere.)\n",
    "\n",
    "Looking at the figure above, you can easily tell that points in the center of the map (where it is noon) are brighter than points along the edges (where it is dawn or dusk). To change the location of the illumination source, we edit the `xs`, `ys`, and `zs` keywords, just as we do when calling the `flux()` method. These are the Cartesian coordinates of the illumination source."
   ]
  },
  {
   "cell_type": "code",
   "execution_count": null,
   "metadata": {},
   "outputs": [],
   "source": [
    "map.show(xs=1, ys=0, zs=0)"
   ]
  },
  {
   "cell_type": "markdown",
   "metadata": {},
   "source": [
    "We are now viewing a uniform map illuminated from the side. The intensity on the left half is zero, since it is completely unilluminated."
   ]
  },
  {
   "cell_type": "markdown",
   "metadata": {},
   "source": [
    "By the way, we can see the *albedo* map of the body by specifying `illuminate=False` in the call to `show`:"
   ]
  },
  {
   "cell_type": "code",
   "execution_count": null,
   "metadata": {},
   "outputs": [],
   "source": [
    "norm = colors.Normalize(vmin=0, vmax=1.25)\n",
    "map.show(illuminate=False, colorbar=True, norm=norm)"
   ]
  },
  {
   "cell_type": "markdown",
   "metadata": {},
   "source": [
    "By default, the albedo is unity everywhere."
   ]
  },
  {
   "cell_type": "markdown",
   "metadata": {},
   "source": [
    "## Normalization and units"
   ]
  },
  {
   "cell_type": "markdown",
   "metadata": {},
   "source": [
    "The distance between the body and the source in units of the body's radius, $r_s = \\sqrt{x_s^2 + y_s^2 + z_s^2}$, controls the overall amplitude of the intensity on the surface and the total flux from the body. We can check that it follows the expected one-over-r-squared law:"
   ]
  },
  {
   "cell_type": "code",
   "execution_count": null,
   "metadata": {},
   "outputs": [],
   "source": [
    "r = np.logspace(0, 2)\n",
    "plt.figure(figsize=(12, 5))\n",
    "plt.plot(r, map.intensity(lat=0, lon=0, xs=0, ys=0, zs=r).reshape(-1), label=\"measured\")\n",
    "plt.plot(r, 1 / (np.pi * r ** 2), label=r\"$I(r) = \\frac{1}{\\pi r_s^2}$\", ls=\"--\")\n",
    "plt.plot(1, 1 / np.pi, \"ko\")\n",
    "plt.axvline(1, color=\"k\", ls=\"--\", lw=1, alpha=0.5)\n",
    "plt.axhline(1 / np.pi, color=\"k\", ls=\"--\", lw=1, alpha=0.5)\n",
    "plt.yscale(\"log\")\n",
    "plt.xscale(\"log\")\n",
    "plt.legend(fontsize=18)\n",
    "plt.xlabel(\"star-planet distance\", fontsize=24)\n",
    "plt.ylabel(\"substellar intensity\", fontsize=24);"
   ]
  },
  {
   "cell_type": "markdown",
   "metadata": {},
   "source": [
    "In particular, the reflected **intensity** (`map.intensity`) of a uniform body at a point on the surface an angle $\\phi$ away from the sub-stellar point is given by\n",
    "\n",
    "$$\n",
    "I(\\phi) = \\frac{A}{\\pi r_s^2} \\, \\mathrm{max}(0, \\cos\\phi)\n",
    "$$\n",
    "\n",
    "where $A$ is the body's (spherical) albedo, which we expand in terms of spherical harmonics. This quantity is *unitless*, and that factor of $\\pi$ ensures the proper normalization for a Lambert sphere (see below).\n",
    "\n",
    "Now, the **flux** (`map.flux`) measured from the source is the surface integral of the intensity over the visible portion of the sky-projected disk, so it also scales in the same way. For reference, let's compute the phase curve of a uniform, unit-albedo body at unit distance from the illumination source, seen edge-on over a full year. Here's a movie of what we're computing:"
   ]
  },
  {
   "cell_type": "code",
   "execution_count": null,
   "metadata": {},
   "outputs": [],
   "source": [
    "theta = np.linspace(0, 2 * np.pi, 50)\n",
    "map.show(xs=np.sin(theta), ys=0, zs=np.cos(theta))"
   ]
  },
  {
   "cell_type": "markdown",
   "metadata": {},
   "source": [
    "And here's the corresponding light curve:"
   ]
  },
  {
   "cell_type": "code",
   "execution_count": null,
   "metadata": {},
   "outputs": [],
   "source": [
    "plt.figure(figsize=(12, 5))\n",
    "phase = np.linspace(0, 1, 1000)\n",
    "theta = np.linspace(0, 2 * np.pi, 1000)\n",
    "plt.plot(phase, map.flux(xs=np.sin(theta), ys=0, zs=np.cos(theta)))\n",
    "plt.axhline(0, color=\"C3\", ls=\"--\")\n",
    "plt.axhline(2 / 3, color=\"C3\", ls=\"--\")\n",
    "plt.xlabel(\"orbital phase\")\n",
    "plt.ylabel(\"reflected planet flux\");"
   ]
  },
  {
   "cell_type": "markdown",
   "metadata": {},
   "source": [
    "Note, in particular, the minimum and maximum values (dashed red lines). When the planet is in a transiting configuration (phase = 0.5), the total flux is zero, since only the nightside is visible. When the planet is at secondary eclipse, the intensity convention described above means that the total flux returned by `starry` is $2/3$.\n",
    "This value is precisely the geometric albedo of a Lambertian reflector whose spherical albedo is unity (see, e.g., Section 4.5 of [Schwartz & Cowan 2015](https://ui.adsabs.harvard.edu/abs/2015MNRAS.449.4192S/abstract))."
   ]
  },
  {
   "cell_type": "markdown",
   "metadata": {},
   "source": [
    "## Setting the albedo"
   ]
  },
  {
   "cell_type": "markdown",
   "metadata": {},
   "source": [
    "Moving on, reflected light maps behave in a similar way as regular spherical harmonic maps, except the spherical harmonic coefficients `y` represent the expansion of the surface *albedo* rather than *emissivity*. Let's load the continental map of the Earth and look at the albedo distribution:"
   ]
  },
  {
   "cell_type": "code",
   "execution_count": null,
   "metadata": {},
   "outputs": [],
   "source": [
    "map.load(\"earth\", sigma=0.075)"
   ]
  },
  {
   "cell_type": "code",
   "execution_count": null,
   "metadata": {},
   "outputs": [],
   "source": [
    "map.show(projection=\"moll\", illuminate=False, res=500, colorbar=True)"
   ]
  },
  {
   "cell_type": "markdown",
   "metadata": {},
   "source": [
    "The image we loaded is a grayscale image with unit dynamic range: the oceans have zero albedo and land has unit albedo. This isn't true of the real Earth, whose continents have an albedo closer to 0.4 on average (although the exact value depends on wavelength). \n",
    "\n",
    "To fix this, we can scale the map amplitude:"
   ]
  },
  {
   "cell_type": "code",
   "execution_count": null,
   "metadata": {},
   "outputs": [],
   "source": [
    "map.amp *= 0.4"
   ]
  },
  {
   "cell_type": "raw",
   "metadata": {
    "raw_mimetype": "text/restructuredtext"
   },
   "source": [
    ".. note::\n",
    "\n",
    "    By default, when you instantiate a map, the map amplitude (``amp``) is set to unity.\n",
    "    But when you `load` a map from an image, ``starry`` needs to adjust ``amp`` to get the\n",
    "    dynamic range of the spherical harmonic expansion to match that of the input\n",
    "    image, so ``amp`` will in general be different from unity. For that reason, we do\n",
    "    ``map.amp *= 0.4`` instead of setting it to ``0.4`` directly, since (as you can check)\n",
    "    the map amplitude is not equal to one when you load the image of the Earth."
   ]
  },
  {
   "cell_type": "markdown",
   "metadata": {},
   "source": [
    "Here's the new albedo distribution, which is more realistic (although we're still assuming a cloudless planet):"
   ]
  },
  {
   "cell_type": "code",
   "execution_count": null,
   "metadata": {},
   "outputs": [],
   "source": [
    "map.show(projection=\"moll\", illuminate=False, res=500, colorbar=True)"
   ]
  },
  {
   "cell_type": "markdown",
   "metadata": {},
   "source": [
    "Now let's give the map the same obliquity as the Earth..."
   ]
  },
  {
   "cell_type": "code",
   "execution_count": null,
   "metadata": {},
   "outputs": [],
   "source": [
    "map.obl = 23.5"
   ]
  },
  {
   "cell_type": "markdown",
   "metadata": {},
   "source": [
    "... and view the half-Earth rotating over one cycle:"
   ]
  },
  {
   "cell_type": "code",
   "execution_count": null,
   "metadata": {},
   "outputs": [],
   "source": [
    "map.show(theta=np.linspace(0, 360, 50), xs=1, ys=0, zs=0)"
   ]
  },
  {
   "cell_type": "markdown",
   "metadata": {},
   "source": [
    "The above animation corresponds to the (northern) winter solstice. Here's the phase curve of the Earth over one rotation at 8 different illumination phases:"
   ]
  },
  {
   "cell_type": "code",
   "execution_count": null,
   "metadata": {},
   "outputs": [],
   "source": [
    "fig = plt.figure(figsize=(12, 8))\n",
    "theta = np.linspace(0, 360, 1000)\n",
    "phis = np.linspace(0, 360, 9)[:-1]\n",
    "xs = np.cos((phis - 90) * np.pi / 180)\n",
    "zs = -np.sin((phis - 90) * np.pi / 180)\n",
    "for n, phi in enumerate(phis):\n",
    "    plt.plot(theta, map.flux(theta=theta, xs=xs[n], ys=0, zs=zs[n]), label=phi)\n",
    "plt.xlim(0, 360)\n",
    "plt.ylim(-0.01, 0.15)\n",
    "plt.xlabel(r\"$\\theta$ [degrees]\", fontsize=24)\n",
    "plt.ylabel(\"Flux\", fontsize=24)\n",
    "legend = plt.legend(\n",
    "    loc=\"center left\", bbox_to_anchor=(1, 0.5), fontsize=36, frameon=False\n",
    ")\n",
    "for text in legend.get_texts():\n",
    "    text.set_color(\"w\")\n",
    "cmap = plt.get_cmap(\"plasma\")\n",
    "cmap.set_under(\"#000000\")\n",
    "for n in range(8):\n",
    "    ax = fig.add_axes((1.05, 0.775 - 0.087 * n, 0.05, 0.075))\n",
    "    img = map.render(res=100, xs=xs[n], ys=0, zs=zs[n])\n",
    "    ax.imshow(img, cmap=cmap, origin=\"lower\", vmin=1e-5, vmax=0.4 / np.pi)\n",
    "    ax.axis(\"off\")\n",
    "plt.suptitle(\"Light curves at different illumination phases\", fontsize=24);"
   ]
  },
  {
   "cell_type": "markdown",
   "metadata": {},
   "source": [
    "## Modeling exoplanet systems"
   ]
  },
  {
   "cell_type": "raw",
   "metadata": {
    "raw_mimetype": "text/restructuredtext"
   },
   "source": [
    ".. note:: This section is still under development!"
   ]
  },
  {
   "cell_type": "markdown",
   "metadata": {},
   "source": [
    "Here's the phase curve of the Earth over one year in orbit around the Sun:"
   ]
  },
  {
   "cell_type": "code",
   "execution_count": null,
   "metadata": {},
   "outputs": [],
   "source": [
    "sun = starry.Primary(starry.Map())\n",
    "earth = starry.Secondary(map, porb=365.0, prot=1.0, m=0.0, inc=60)\n",
    "earth.map.inc = earth.inc = 60\n",
    "sys = starry.System(sun, earth)\n",
    "\n",
    "t = np.linspace(0, 365.0, 1000)\n",
    "plt.figure(figsize=(12, 5))\n",
    "plt.plot(t, sys.flux(t))\n",
    "plt.xlabel(\"time [days]\")\n",
    "plt.ylabel(\"reflected planet flux\");"
   ]
  },
  {
   "cell_type": "code",
   "execution_count": null,
   "metadata": {},
   "outputs": [],
   "source": []
  }
 ],
 "metadata": {
  "celltoolbar": "Raw Cell Format",
  "kernelspec": {
   "display_name": "Python 3",
   "language": "python",
   "name": "python3"
  },
  "language_info": {
   "codemirror_mode": {
    "name": "ipython",
    "version": 3
   },
   "file_extension": ".py",
   "mimetype": "text/x-python",
   "name": "python",
   "nbconvert_exporter": "python",
   "pygments_lexer": "ipython3",
   "version": "3.7.4"
  }
 },
 "nbformat": 4,
 "nbformat_minor": 2
}
