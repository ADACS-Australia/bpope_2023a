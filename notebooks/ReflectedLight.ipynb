{
 "cells": [
  {
   "cell_type": "markdown",
   "metadata": {},
   "source": [
    "# Maps in reflected light"
   ]
  },
  {
   "cell_type": "markdown",
   "metadata": {},
   "source": [
    "This notebook discusses how to model phase curves and occultation light curves in reflected light. The paper describing the theory, the algorithm, and the implementation lives here: https://github.com/rodluger/starrynight."
   ]
  },
  {
   "cell_type": "markdown",
   "metadata": {},
   "source": [
    "## Instantiating a reflected light map"
   ]
  },
  {
   "cell_type": "markdown",
   "metadata": {},
   "source": [
    "Let's begin by instantiating a map in reflected light. We do this by specifying `reflected=True` when calling `starry.Map()`."
   ]
  },
  {
   "cell_type": "code",
   "execution_count": null,
   "metadata": {
    "tags": [
     "hide_input"
    ]
   },
   "outputs": [],
   "source": [
    "%matplotlib inline"
   ]
  },
  {
   "cell_type": "code",
   "execution_count": null,
   "metadata": {
    "tags": [
     "hide_input"
    ]
   },
   "outputs": [],
   "source": [
    "%run notebook_setup.py"
   ]
  },
  {
   "cell_type": "code",
   "execution_count": null,
   "metadata": {},
   "outputs": [],
   "source": [
    "import matplotlib.pyplot as plt\n",
    "from matplotlib import colors\n",
    "import numpy as np\n",
    "import astropy.units as u\n",
    "import starry\n",
    "\n",
    "starry.config.lazy = False\n",
    "starry.config.quiet = True"
   ]
  },
  {
   "cell_type": "code",
   "execution_count": null,
   "metadata": {},
   "outputs": [],
   "source": [
    "map = starry.Map(ydeg=15, reflected=True)"
   ]
  },
  {
   "cell_type": "markdown",
   "metadata": {},
   "source": [
    "Before we set any spherical harmonic coefficients, let's take a look at our map. We can call the ``show()`` method as usual:"
   ]
  },
  {
   "cell_type": "code",
   "execution_count": null,
   "metadata": {},
   "outputs": [],
   "source": [
    "map.show()"
   ]
  },
  {
   "cell_type": "markdown",
   "metadata": {},
   "source": [
    "By default, the illumination source is along the $+\\hat{z}$ direction at $z = 1$, so directly in front of the object, one unit away. In this case, the `starry` normalization results in a sub-illumination intensity of $1/\\pi$, a value that falls off as the cosine of the viewing angle to zero at the limb. (As we'll see below, this results in the integral of the illumination over the disk to be equal to $2/3$, the geometric albedo of a Lambert sphere.)\n",
    "\n",
    "Looking at the figure above, you can easily tell that points in the center of the map (where it is noon) are brighter than points along the edges (where it is dawn or dusk). To change the location of the illumination source, we edit the `xs`, `ys`, and `zs` keywords, just as we do when calling the `flux()` method. These are the Cartesian coordinates of the illumination source."
   ]
  },
  {
   "cell_type": "code",
   "execution_count": null,
   "metadata": {},
   "outputs": [],
   "source": [
    "map.show(xs=1, ys=0, zs=0)"
   ]
  },
  {
   "cell_type": "markdown",
   "metadata": {},
   "source": [
    "We are now viewing a uniform map illuminated from the side. The intensity on the left half is zero, since it is completely unilluminated."
   ]
  },
  {
   "cell_type": "markdown",
   "metadata": {},
   "source": [
    "By the way, we can see the *albedo* map of the body by specifying `illuminate=False` in the call to `show`:"
   ]
  },
  {
   "cell_type": "code",
   "execution_count": null,
   "metadata": {},
   "outputs": [],
   "source": [
    "norm = colors.Normalize(vmin=0, vmax=1.25)\n",
    "map.show(illuminate=False, colorbar=True, norm=norm)"
   ]
  },
  {
   "cell_type": "markdown",
   "metadata": {},
   "source": [
    "By default, the albedo is unity everywhere. If all we wish to change is the average albedo of the planet, we do this via the amplitude `map.amp` parameter:"
   ]
  },
  {
   "cell_type": "code",
   "execution_count": null,
   "metadata": {},
   "outputs": [],
   "source": [
    "map.amp = 0.75"
   ]
  },
  {
   "cell_type": "code",
   "execution_count": null,
   "metadata": {},
   "outputs": [],
   "source": [
    "map.show(illuminate=False, colorbar=True, norm=norm)"
   ]
  },
  {
   "cell_type": "markdown",
   "metadata": {},
   "source": [
    "The amplitude parameter corresponds to the average *spherical albedo* of the body (a quantity closely related to the Bond albedo, but at a single wavelength)."
   ]
  },
  {
   "cell_type": "markdown",
   "metadata": {},
   "source": [
    "## Normalization and units"
   ]
  },
  {
   "cell_type": "markdown",
   "metadata": {},
   "source": [
    "The distance between the body and the source in units of the body's radius, $r_s = \\sqrt{x_s^2 + y_s^2 + z_s^2}$, controls the overall amplitude of the intensity on the surface and the total flux from the body. We can check that it follows the expected one-over-r-squared law:"
   ]
  },
  {
   "cell_type": "code",
   "execution_count": null,
   "metadata": {},
   "outputs": [],
   "source": [
    "map.amp = 1.0\n",
    "r = np.logspace(0, 2)\n",
    "plt.figure(figsize=(12, 5))\n",
    "plt.plot(r, map.intensity(lat=0, lon=0, xs=0, ys=0, zs=r).reshape(-1), label=\"measured\")\n",
    "plt.plot(r, 1 / (np.pi * r ** 2), label=r\"$I(r) = \\frac{1}{\\pi r_s^2}$\", ls=\"--\")\n",
    "plt.plot(1, 1 / np.pi, \"ko\")\n",
    "plt.axvline(1, color=\"k\", ls=\"--\", lw=1, alpha=0.5)\n",
    "plt.axhline(1 / np.pi, color=\"k\", ls=\"--\", lw=1, alpha=0.5)\n",
    "plt.yscale(\"log\")\n",
    "plt.xscale(\"log\")\n",
    "plt.legend(fontsize=18)\n",
    "plt.xlabel(\"star-planet distance\", fontsize=24)\n",
    "plt.ylabel(\"substellar intensity\", fontsize=24);"
   ]
  },
  {
   "cell_type": "markdown",
   "metadata": {},
   "source": [
    "In particular, the reflected **intensity** (`map.intensity`) of a uniform body at a point on the surface an angle $\\phi$ away from the sub-stellar point is given by\n",
    "\n",
    "$$\n",
    "I(\\phi) = \\frac{A}{\\pi r_s^2} \\, \\mathrm{max}(0, \\cos\\phi)\n",
    "$$\n",
    "\n",
    "where $A$ is the body's (spherical) albedo, which we expand in terms of spherical harmonics. This quantity is *unitless*, and that factor of $\\pi$ ensures the proper normalization for a Lambert sphere (see below).\n",
    "\n",
    "Now, the **flux** (`map.flux`) measured from the source is the surface integral of the intensity over the visible portion of the sky-projected disk, so it also scales in the same way. For reference, let's compute the phase curve of a uniform, unit-albedo body at unit distance from the illumination source, seen edge-on over a full year. Here's a movie of what we're computing:"
   ]
  },
  {
   "cell_type": "code",
   "execution_count": null,
   "metadata": {},
   "outputs": [],
   "source": [
    "theta = np.linspace(0, 2 * np.pi, 50)\n",
    "map.show(xs=np.sin(theta), ys=0, zs=np.cos(theta))"
   ]
  },
  {
   "cell_type": "markdown",
   "metadata": {},
   "source": [
    "And here's the corresponding light curve:"
   ]
  },
  {
   "cell_type": "code",
   "execution_count": null,
   "metadata": {},
   "outputs": [],
   "source": [
    "plt.figure(figsize=(12, 5))\n",
    "phase = np.linspace(0, 1, 1000)\n",
    "theta = np.linspace(0, 2 * np.pi, 1000)\n",
    "plt.plot(phase, map.flux(xs=np.sin(theta), ys=0, zs=np.cos(theta)))\n",
    "plt.axhline(0, color=\"C3\", ls=\"--\")\n",
    "plt.axhline(2 / 3, color=\"C3\", ls=\"--\")\n",
    "plt.xlabel(\"orbital phase\")\n",
    "plt.ylabel(\"reflected planet flux\");"
   ]
  },
  {
   "cell_type": "markdown",
   "metadata": {},
   "source": [
    "Note, in particular, the minimum and maximum values (dashed red lines). When the planet is in a transiting configuration (phase = 0.5), the total flux is zero, since only the nightside is visible. When the planet is at secondary eclipse, the intensity convention described above means that the total flux returned by `starry` is $2/3$.\n",
    "This value is precisely the geometric albedo of a Lambertian reflector whose spherical albedo is unity (see, e.g., Section 4.5 of [Schwartz & Cowan 2015](https://ui.adsabs.harvard.edu/abs/2015MNRAS.449.4192S/abstract))."
   ]
  },
  {
   "cell_type": "markdown",
   "metadata": {},
   "source": [
    "## Setting the albedo distribution"
   ]
  },
  {
   "cell_type": "markdown",
   "metadata": {},
   "source": [
    "Moving on, reflected light maps behave in a similar way as regular spherical harmonic maps, except the spherical harmonic coefficients `y` represent the expansion of the surface *albedo* distribution rather than the *emissivity* distribution. Let's load the continental map of the Earth and look at the albedo distribution:"
   ]
  },
  {
   "cell_type": "code",
   "execution_count": null,
   "metadata": {},
   "outputs": [],
   "source": [
    "map.load(\"earth\", sigma=0.075)"
   ]
  },
  {
   "cell_type": "code",
   "execution_count": null,
   "metadata": {},
   "outputs": [],
   "source": [
    "map.show(projection=\"moll\", illuminate=False, res=500, colorbar=True)"
   ]
  },
  {
   "cell_type": "markdown",
   "metadata": {},
   "source": [
    "The image we loaded is a grayscale image with unit dynamic range: the oceans have zero albedo and land has unit albedo. This isn't true of the real Earth, whose continents have an albedo closer to 0.4 on average (although the exact value depends on wavelength). \n",
    "\n",
    "To fix this, we can scale the map amplitude:"
   ]
  },
  {
   "cell_type": "code",
   "execution_count": null,
   "metadata": {},
   "outputs": [],
   "source": [
    "map.amp *= 0.4"
   ]
  },
  {
   "cell_type": "raw",
   "metadata": {
    "raw_mimetype": "text/restructuredtext"
   },
   "source": [
    ".. note::\n",
    "\n",
    "    By default, when you instantiate a map, the map amplitude (``amp``) is set to unity.\n",
    "    But when you `load` a map from an image, ``starry`` needs to adjust ``amp`` to get the\n",
    "    dynamic range of the spherical harmonic expansion to match that of the input\n",
    "    image, so ``amp`` will in general be different from unity. For that reason, we do\n",
    "    ``map.amp *= 0.4`` instead of setting it to ``0.4`` directly, since (as you can check)\n",
    "    the map amplitude is not equal to one when you load the image of the Earth."
   ]
  },
  {
   "cell_type": "markdown",
   "metadata": {},
   "source": [
    "Here's the new albedo distribution, which is more realistic (although we're still assuming a cloudless planet):"
   ]
  },
  {
   "cell_type": "code",
   "execution_count": null,
   "metadata": {},
   "outputs": [],
   "source": [
    "map.show(projection=\"moll\", illuminate=False, res=500, colorbar=True)"
   ]
  },
  {
   "cell_type": "markdown",
   "metadata": {},
   "source": [
    "Now let's give the map the same obliquity as the Earth..."
   ]
  },
  {
   "cell_type": "code",
   "execution_count": null,
   "metadata": {},
   "outputs": [],
   "source": [
    "map.obl = 23.5"
   ]
  },
  {
   "cell_type": "markdown",
   "metadata": {},
   "source": [
    "... and view the half-Earth rotating over one cycle:"
   ]
  },
  {
   "cell_type": "code",
   "execution_count": null,
   "metadata": {},
   "outputs": [],
   "source": [
    "map.show(theta=np.linspace(0, 360, 50), xs=1, ys=0, zs=0)"
   ]
  },
  {
   "cell_type": "markdown",
   "metadata": {},
   "source": [
    "The above animation corresponds to the (northern) winter solstice. Here's the phase curve of the Earth over one rotation at 8 different illumination phases:"
   ]
  },
  {
   "cell_type": "code",
   "execution_count": null,
   "metadata": {},
   "outputs": [],
   "source": [
    "fig = plt.figure(figsize=(12, 8))\n",
    "theta = np.linspace(0, 360, 1000)\n",
    "phis = np.linspace(0, 360, 9)[:-1]\n",
    "xs = np.cos((phis - 90) * np.pi / 180)\n",
    "zs = -np.sin((phis - 90) * np.pi / 180)\n",
    "for n, phi in enumerate(phis):\n",
    "    plt.plot(theta, map.flux(theta=theta, xs=xs[n], ys=0, zs=zs[n]), label=phi)\n",
    "plt.xlim(0, 360)\n",
    "plt.ylim(-0.01, 0.13)\n",
    "plt.xlabel(r\"$\\theta$ [degrees]\", fontsize=24)\n",
    "plt.ylabel(\"Flux\", fontsize=24)\n",
    "legend = plt.legend(\n",
    "    loc=\"center left\", bbox_to_anchor=(1, 0.5), fontsize=36, frameon=False\n",
    ")\n",
    "for text in legend.get_texts():\n",
    "    text.set_color(\"w\")\n",
    "cmap = plt.get_cmap(\"plasma\")\n",
    "cmap.set_under(\"#000000\")\n",
    "for n in range(8):\n",
    "    ax = fig.add_axes((1.05, 0.78 - 0.092 * n, 0.05, 0.075))\n",
    "    map.show(res=300, xs=xs[n], ys=0, zs=zs[n], grid=False, ax=ax)\n",
    "plt.suptitle(\"Light curves at different illumination phases\", fontsize=24);"
   ]
  },
  {
   "cell_type": "markdown",
   "metadata": {},
   "source": [
    "## Extended illumination source"
   ]
  },
  {
   "cell_type": "markdown",
   "metadata": {},
   "source": [
    "By default, the illumination source is assumed to be a point source. This is in general fine for most exoplanets, but isn't a great assumption for close-in planets. In `starry`, we can account for the finite size of the illumination source by passing the `source_npts` keyword when instantiating a `starry.Map` object:"
   ]
  },
  {
   "cell_type": "code",
   "execution_count": null,
   "metadata": {},
   "outputs": [],
   "source": [
    "map_point_source = starry.Map(reflected=True, source_npts=1)"
   ]
  },
  {
   "cell_type": "markdown",
   "metadata": {},
   "source": [
    "This quantity corresponds to the number of points used to model the illumination source (i.e., the star). The default is one (a point source). If we increase this number, `starry` will compute the illumination profile for `source_npts` uniformly distributed over the projected disk of the star as seen from the planet, and sum over them to obtain an approximate illumination profile. For long period planets, this doesn't make much of a difference, since the angular size of the star as seen from the planet is quite small. But for short period planets, the star is so large that parts of the planet beyond the usual location of the terminator ($\\pi/2$ away from the sub-stellar point) are illuminated by the limb of the star. Usually something like 30-50 points are sufficient, but let's use 300 points to get a very good approximation to the true illumination profile:"
   ]
  },
  {
   "cell_type": "code",
   "execution_count": null,
   "metadata": {},
   "outputs": [],
   "source": [
    "map_extended_source = starry.Map(reflected=True, source_npts=300)"
   ]
  },
  {
   "cell_type": "markdown",
   "metadata": {},
   "source": [
    "Now let's explore this effect below for Kelt-9b, a super short-period hot Jupiter, using parameters from [Wong et al. (2019)](https://ui.adsabs.harvard.edu/abs/2019arXiv191001607W/abstract):"
   ]
  },
  {
   "cell_type": "code",
   "execution_count": null,
   "metadata": {},
   "outputs": [],
   "source": [
    "fig, ax = plt.subplots(2, 2, figsize=(9, 5))\n",
    "\n",
    "# Keywords for `show`. We'll visualize the planet\n",
    "# at full phase in a Mollweide projection.\n",
    "# We're using values from Wong et al. (2019) here.\n",
    "aRs = 3.16\n",
    "RpRs = 0.08229\n",
    "norm = colors.Normalize(vmin=0, vmax=3.5e-4)\n",
    "kwargs = dict(\n",
    "    projection=\"moll\", xs=0, ys=0, zs=aRs / RpRs, res=500, screen=False, norm=norm\n",
    ")\n",
    "\n",
    "# Show the two maps. Note that for the extended\n",
    "# source map, we need to pass in the radius of\n",
    "# the star (in units of the planet's radius).\n",
    "map_point_source.show(ax=ax[0, 0], **kwargs)\n",
    "map_extended_source.show(ax=ax[1, 0], rs=1 / RpRs, **kwargs)\n",
    "\n",
    "# Let's visualize the same two images, but using\n",
    "# a binary colormap: dark blue for the night side\n",
    "# and yellow for the dayside.\n",
    "norm = colors.Normalize(vmin=1e-8, vmax=1.1e-8)\n",
    "cmap = plt.get_cmap(\"plasma\")\n",
    "cmap.set_under(cmap(0.0))\n",
    "cmap.set_over(cmap(1.0))\n",
    "kwargs.update(cmap=cmap, norm=norm)\n",
    "map_point_source.show(ax=ax[0, 1], **kwargs)\n",
    "map_extended_source.show(ax=ax[1, 1], rs=1 / RpRs, **kwargs)\n",
    "\n",
    "# Annotate\n",
    "ax[0, 0].annotate(\n",
    "    \"point source\",\n",
    "    xy=(0, 0.5),\n",
    "    xycoords=\"axes fraction\",\n",
    "    xytext=(-10, 0),\n",
    "    textcoords=\"offset points\",\n",
    "    ha=\"right\",\n",
    "    va=\"center\",\n",
    "    fontsize=12,\n",
    ")\n",
    "ax[1, 0].annotate(\n",
    "    \"extended source\",\n",
    "    xy=(0, 0.5),\n",
    "    xycoords=\"axes fraction\",\n",
    "    xytext=(-10, 0),\n",
    "    textcoords=\"offset points\",\n",
    "    ha=\"right\",\n",
    "    va=\"center\",\n",
    "    fontsize=12,\n",
    ");"
   ]
  },
  {
   "cell_type": "markdown",
   "metadata": {},
   "source": [
    "The main difference is that the extended source results in an overall larger illumination on the surface. \n",
    "This is due to the simple fact that in the point\n",
    "source case the illumination source is placed at the center of the star,\n",
    "which is one stellar radius farther from the planet than the point closest\n",
    "to the planet (the sub-planetary point) in the extended source case.\n",
    "Once accounting for this difference, the fractional change in the intensity\n",
    "on the planet away from the sub-stellar point is similar in both cases.\n",
    "However, there's a significant difference near the terminator,\n",
    "which extends about 17$^\\circ$ degrees farther when we model the extended illumination source (this is much easier to see in the high contrast version at the right)."
   ]
  },
  {
   "cell_type": "markdown",
   "metadata": {},
   "source": [
    "We can also see how the extended source affects phase curves, assuming a uniform albedo of 0.2 for the planet:"
   ]
  },
  {
   "cell_type": "code",
   "execution_count": null,
   "metadata": {},
   "outputs": [],
   "source": [
    "map_point_source.amp = 0.2\n",
    "map_extended_source.amp = 0.2"
   ]
  },
  {
   "cell_type": "code",
   "execution_count": null,
   "metadata": {},
   "outputs": [],
   "source": [
    "t = np.linspace(0, 1, 1000)\n",
    "xs = aRs / RpRs * np.sin(2 * np.pi * t)\n",
    "zs = -aRs / RpRs * np.cos(2 * np.pi * t)\n",
    "flux_point_source = map_point_source.flux(xs=xs, ys=0, zs=zs)\n",
    "flux_extended_source = map_extended_source.flux(xs=xs, ys=0, zs=zs, rs=1 / RpRs)\n",
    "plt.plot(t, 1e6 * flux_point_source, label=\"point source\")\n",
    "plt.plot(t, 1e6 * flux_extended_source, label=\"extended source\")\n",
    "plt.legend()\n",
    "plt.xlabel(\"phase\")\n",
    "plt.ylabel(\"flux [ppm]\");"
   ]
  },
  {
   "cell_type": "markdown",
   "metadata": {},
   "source": [
    "The increased illumination at the sub-stellar point results in a ${\\sim}30$ ppm increase\n",
    "in the value of the phase curve close to full phase ($\\pm\\frac{1}{2}$).\n",
    "Close to a phase of zero, the extended source results in decreased\n",
    "flux, since the portion of the star illuminating the planet (the region\n",
    "close to the limb) is slightly\n",
    "*farther* away, by a factor of\n",
    "$\\sqrt{1 + (\\frac{a}{R_\\star})^{-2}}$. This results in a steeper\n",
    "phase curve. Note that we're not including the transit or the secondary eclipse here (but see below)."
   ]
  },
  {
   "cell_type": "markdown",
   "metadata": {},
   "source": [
    "## Non-Lambertian scattering"
   ]
  },
  {
   "cell_type": "markdown",
   "metadata": {
    "raw_mimetype": "text/restructuredtext"
   },
   "source": [
    "The default behavior for reflected light maps in `starry` is Lambertian scattering, meaning the body reflects light isotropically. This is an idealized case, and real planetary and lunar surfaces don't usually behave this way. Instead, there is typically a phase dependence to the scattered light. Planets with atmospheres, for instance, preferentially scatter light along the forward and backward direction due to Rayleigh scattering, while rocky bodies with rough surfaces may exhibit a more complex phase dependence.\n",
    "\n",
    "We're still working on implementing different scattering laws, but a fairly straightforward model for rough surfaces is that of [Oren and Nayar (1994)](https://dl.acm.org/doi/abs/10.1145/192161.192213). We implement a simple version of this model in `starry`, in which the surface roughness is described by a single parameter, $\\sigma$. The Oren and Nayar model assumes the surface is composed of many tiny facets oriented at random angles, and $\\sigma$ is equal to the standard deviation of the distribution of their orientations.\n",
    "\n",
    "In `starry`, the $\\sigma$ parameter can be changed by setting the `roughness` attribute of a map in units of `map.angle_unit` (degrees, by default). Let's look at a map with zero surface roughness, i.e., the Lambertian case, over the full range of illumination phases:"
   ]
  },
  {
   "cell_type": "code",
   "execution_count": null,
   "metadata": {},
   "outputs": [],
   "source": [
    "# Instantiate a map\n",
    "map = starry.Map(reflected=True)\n",
    "map.roughness = 0\n",
    "\n",
    "# View it at all phases\n",
    "fig, ax = plt.subplots(1, 9)\n",
    "t = np.linspace(0, 1, 11)[1:-1]\n",
    "xs = np.sin(2 * np.pi * t)\n",
    "zs = -np.cos(2 * np.pi * t)\n",
    "for i in range(9):\n",
    "    map.show(ax=ax[i], xs=xs[i], zs=zs[i], grid=False)"
   ]
  },
  {
   "cell_type": "markdown",
   "metadata": {},
   "source": [
    "Now here's a map with a very rough surface ($\\sigma = 30^\\circ$):"
   ]
  },
  {
   "cell_type": "code",
   "execution_count": null,
   "metadata": {},
   "outputs": [],
   "source": [
    "map.roughness = 30\n",
    "fig, ax = plt.subplots(1, 9)\n",
    "phase = np.linspace(0, 1, 11)[1:-1]\n",
    "xs = np.sin(2 * np.pi * phase)\n",
    "zs = -np.cos(2 * np.pi * phase)\n",
    "for i in range(9):\n",
    "    map.show(ax=ax[i], xs=xs[i], zs=zs[i], grid=False)"
   ]
  },
  {
   "cell_type": "markdown",
   "metadata": {},
   "source": [
    "The most obvious difference is at full phase, where the body appears to be super-Lambertian: more light is scattered back to the observer than you'd get in the isotropic case. This is mainly due to the behavior at the limb. For a Lambertian surface, the surface normal for points along the limb is nearly parallel to the light rays, so those regions jut don't get illuminated much. But if the surface is very rough, there will be lots of facets near the limb that are oriented more perpendicular to the incident light, therefore reflecting much more light back to the observer at full phase. There are differences at other phases, too, which we can see more clearly by looking at the phase curve of the two bodies:"
   ]
  },
  {
   "cell_type": "code",
   "execution_count": null,
   "metadata": {},
   "outputs": [],
   "source": [
    "phase = np.linspace(0, 1, 1000)\n",
    "xs = np.sin(2 * np.pi * phase)\n",
    "zs = -np.cos(2 * np.pi * phase)\n",
    "\n",
    "for roughness in [0, 30]:\n",
    "    map.roughness = roughness\n",
    "    plt.plot(\n",
    "        phase,\n",
    "        map.flux(xs=xs, zs=zs),\n",
    "        label=r\"$\\sigma = {:.0f}^\\circ$\".format(roughness),\n",
    "    )\n",
    "plt.legend()\n",
    "plt.xlabel(\"phase\")\n",
    "plt.ylabel(\"flux\");"
   ]
  },
  {
   "cell_type": "markdown",
   "metadata": {},
   "source": [
    "The super-Lambertian nature of the body is clear right at full phase (0.5 in this figure). But at all other phases, the surface roughness causes less light to be reflected back to the observer."
   ]
  },
  {
   "cell_type": "markdown",
   "metadata": {},
   "source": [
    "The implementation of the Oren and Nayar model in `starry` is described in detail in [this paper](https://github.com/rodluger/starrynight). It is a polynomial approximation to the actual Oren and Nayar model, but it's computed analytically and works for maps with non-uniform albedo distributions and even during occultations."
   ]
  },
  {
   "cell_type": "raw",
   "metadata": {
    "raw_mimetype": "text/restructuredtext"
   },
   "source": [
    ".. note::\n",
    "\n",
    "    Another form of non-Lambertian scattering that is relevant to exoplanets -- particularly terrestrial ones -- is\n",
    "    specular reflection. For planets with oceans like the Earth, this is known as *glint*. It's tricky to model this\n",
    "    in ``starry``, since the glint spot is usually very small and hard to capture with spherical harmonics. But we're\n",
    "    currently working on ways to incorporate it, so stay tuned!"
   ]
  },
  {
   "cell_type": "markdown",
   "metadata": {},
   "source": [
    "## Occultations"
   ]
  },
  {
   "cell_type": "markdown",
   "metadata": {},
   "source": [
    "So far we've only discussed phase curves, but `starry` can compute occultation light curves in reflected light, too. These work just like in the emitted light case: the user provides the occultor Cartesian positions, `xo`, `yo`, and (optionally) `zo`, as well as its radius `ro`, all in unitss of the body's radius.\n",
    "\n",
    "Let's compute a mock light curve of the Moon occulting the Earth:"
   ]
  },
  {
   "cell_type": "code",
   "execution_count": null,
   "metadata": {},
   "outputs": [],
   "source": [
    "# The Earth at l = 15\n",
    "map = starry.Map(15, reflected=True)\n",
    "map.load(\"earth\", sigma=0.06)\n",
    "\n",
    "# Set up the plot\n",
    "nim = 8\n",
    "npts = 100\n",
    "nptsnum = 10\n",
    "res = 300\n",
    "fig = plt.figure(figsize=(12, 5))\n",
    "ax_im = [plt.subplot2grid((4, nim), (0, n)) for n in range(nim)]\n",
    "ax_lc = plt.subplot2grid((4, nim), (1, 0), colspan=nim, rowspan=3)\n",
    "\n",
    "# Moon occultation params\n",
    "ro = 0.273\n",
    "yo = np.linspace(-0.5, 0.5, npts)\n",
    "yonum = np.linspace(-0.5, 0.5, nptsnum)\n",
    "xo = np.linspace(-1.5, 1.5, npts)\n",
    "xonum = np.linspace(-1.5, 1.5, nptsnum)\n",
    "\n",
    "# Say the occultation occurs over ~1 radian of the Earth's rotation\n",
    "# That's equal to 24 / (2 * pi) hours\n",
    "time = np.linspace(0, 24 / (2 * np.pi), npts)\n",
    "timenum = np.linspace(0, 24 / (2 * np.pi), nptsnum)\n",
    "theta0 = 0\n",
    "theta = np.linspace(theta0, theta0 + 180.0 / np.pi, npts, endpoint=True)\n",
    "thetanum = np.linspace(theta0, theta0 + 180.0 / np.pi, nptsnum, endpoint=True)\n",
    "\n",
    "# Position of the illumination source (the sun).\n",
    "# We'll assume it's constant for simplicity\n",
    "xs = -1.0 * np.ones_like(time)\n",
    "ys = 0.3 * np.ones_like(time)\n",
    "zs = 1.0 * np.ones_like(time)\n",
    "\n",
    "# Compute the flux\n",
    "F = map.flux(theta=theta, xo=xo, yo=yo, ro=ro, xs=xs, ys=ys, zs=zs)\n",
    "ax_lc.plot(time, F / np.max(F), \"C0-\", label=\"analytic\")\n",
    "\n",
    "# Plot the earth images\n",
    "for n in range(nim):\n",
    "\n",
    "    # Show the image\n",
    "    i = int(np.linspace(0, npts - 1, nim)[n])\n",
    "    map.show(\n",
    "        ax=ax_im[n],\n",
    "        cmap=cmap,\n",
    "        xs=xs[i],\n",
    "        ys=ys[i],\n",
    "        zs=zs[i],\n",
    "        theta=theta[i],\n",
    "        res=res,\n",
    "        grid=False,\n",
    "    )\n",
    "\n",
    "    # Outline\n",
    "    x = np.linspace(-1, 1, 1000)\n",
    "    y = np.sqrt(1 - x ** 2)\n",
    "    f = 0.98\n",
    "    ax_im[n].plot(f * x, f * y, \"k-\", lw=0.5, zorder=0)\n",
    "    ax_im[n].plot(f * x, -f * y, \"k-\", lw=0.5, zorder=0)\n",
    "\n",
    "    # Occultor\n",
    "    x = np.linspace(xo[i] - ro + 1e-5, xo[i] + ro - 1e-5, res)\n",
    "    y = np.sqrt(ro ** 2 - (x - xo[i]) ** 2)\n",
    "    ax_im[n].fill_between(\n",
    "        x, yo[i] - y, yo[i] + y, fc=\"#aaaaaa\", zorder=1, clip_on=False, ec=\"k\", lw=0.5,\n",
    "    )\n",
    "    ax_im[n].axis(\"off\")\n",
    "    ax_im[n].set_xlim(-1.05, 1.05)\n",
    "    ax_im[n].set_ylim(-1.05, 1.05)\n",
    "\n",
    "# Appearance\n",
    "ax_lc.set_xlabel(\"time [hours]\", fontsize=16)\n",
    "ax_lc.set_ylabel(\"normalized flux\", fontsize=16)\n",
    "for tick in ax_lc.get_xticklabels() + ax_lc.get_yticklabels():\n",
    "    tick.set_fontsize(14)"
   ]
  },
  {
   "cell_type": "markdown",
   "metadata": {},
   "source": [
    "## Modeling exoplanet systems"
   ]
  },
  {
   "cell_type": "markdown",
   "metadata": {},
   "source": [
    "Finally, we can also model exoplanet systems using the `starry.System` class, just like in emitted light."
   ]
  },
  {
   "cell_type": "markdown",
   "metadata": {},
   "source": [
    "Here's the phase curve of the Earth over one year in orbit around the Sun, seen from an orientation where the Earth's orbital inclination is $60^\\circ$:"
   ]
  },
  {
   "cell_type": "code",
   "execution_count": null,
   "metadata": {},
   "outputs": [],
   "source": [
    "sun = starry.Primary(starry.Map(), r=1, length_unit=u.Rsun)\n",
    "earth = starry.Secondary(\n",
    "    map, porb=365.0, prot=1.0, m=0.0, inc=60, r=1, length_unit=u.earthRad\n",
    ")\n",
    "earth.map.inc = earth.inc = 60\n",
    "earth.map.amp = 0.4\n",
    "sys = starry.System(sun, earth)\n",
    "\n",
    "t = np.linspace(0, 365.0, 1000)\n",
    "plt.figure(figsize=(12, 5))\n",
    "plt.plot(t, 1e9 * (sys.flux(t) - 1))\n",
    "plt.xlabel(\"time [days]\")\n",
    "plt.ylabel(\"reflected planet flux [ppb]\");"
   ]
  },
  {
   "cell_type": "markdown",
   "metadata": {},
   "source": [
    "The signal for the Earth is **super** tiny -- it's less than one part per billion ($10^{-9}$), but future coronagraph-equipped high-contrast space telescopes like LUVOIR may be able to detect this!"
   ]
  },
  {
   "cell_type": "markdown",
   "metadata": {},
   "source": [
    "If we were to view the system edge-on, we'll see the transit and the secondary eclipse. Let's zoom in on the region near full phase to look at the secondary eclipse:"
   ]
  },
  {
   "cell_type": "code",
   "execution_count": null,
   "metadata": {},
   "outputs": [],
   "source": [
    "earth.map.inc = earth.inc = 90\n",
    "\n",
    "t = np.linspace(365.0 / 2 - 1, 365.0 / 2 + 1, 1000)\n",
    "plt.figure(figsize=(12, 5))\n",
    "plt.plot(t, 1e9 * (sys.flux(t) - 1))\n",
    "\n",
    "plt.xlabel(\"time [days]\")\n",
    "plt.ylabel(\"reflected planet flux [ppb]\");"
   ]
  },
  {
   "cell_type": "markdown",
   "metadata": {},
   "source": [
    "We can also zoom in right at ingress and egress:"
   ]
  },
  {
   "cell_type": "code",
   "execution_count": null,
   "metadata": {},
   "outputs": [],
   "source": [
    "fig, ax = plt.subplots(1, 2, figsize=(12, 5), sharey=True)\n",
    "fig.subplots_adjust(wspace=0.02)\n",
    "\n",
    "# Ingress\n",
    "t = np.linspace(182.225, 182.235, 1000)\n",
    "ax[0].plot(t - t[500], 1e9 * (sys.flux(t) - 1))\n",
    "\n",
    "# Egress\n",
    "t = np.linspace(182.765, 182.775, 1000)\n",
    "ax[1].plot(t - t[500], 1e9 * (sys.flux(t) - 1))\n",
    "\n",
    "ax[0].set_xlabel(\"time [days]\")\n",
    "ax[1].set_xlabel(\"time [days]\")\n",
    "ax[0].set_title(\"ingress\")\n",
    "ax[1].set_title(\"egress\")\n",
    "ax[0].set_ylabel(\"reflected planet flux [ppb]\");"
   ]
  }
 ],
 "metadata": {
  "celltoolbar": "Raw Cell Format",
  "kernelspec": {
   "display_name": "Python 3",
   "language": "python",
   "name": "python3"
  },
  "language_info": {
   "codemirror_mode": {
    "name": "ipython",
    "version": 3
   },
   "file_extension": ".py",
   "mimetype": "text/x-python",
   "name": "python",
   "nbconvert_exporter": "python",
   "pygments_lexer": "ipython3",
   "version": "3.7.4"
  }
 },
 "nbformat": 4,
 "nbformat_minor": 2
}
