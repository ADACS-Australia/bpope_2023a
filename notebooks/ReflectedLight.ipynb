{
 "cells": [
  {
   "cell_type": "markdown",
   "metadata": {},
   "source": [
    "# ⚠️ Maps in reflected light"
   ]
  },
  {
   "cell_type": "code",
   "execution_count": null,
   "metadata": {
    "tags": [
     "hide_input"
    ]
   },
   "outputs": [],
   "source": [
    "%matplotlib inline\n",
    "%config InlineBackend.figure_format='retina'"
   ]
  },
  {
   "cell_type": "code",
   "execution_count": null,
   "metadata": {},
   "outputs": [],
   "source": [
    "import matplotlib.pyplot as plt\n",
    "import numpy as np\n",
    "import starry\n",
    "\n",
    "starry.config.lazy = False\n",
    "starry.config.quiet = True"
   ]
  },
  {
   "cell_type": "code",
   "execution_count": null,
   "metadata": {},
   "outputs": [],
   "source": [
    "map = starry.Map(ydeg=15, inc=90, obl=23.5, reflected=True, quiet=True)\n",
    "map.load(\"earth\")"
   ]
  },
  {
   "cell_type": "code",
   "execution_count": null,
   "metadata": {},
   "outputs": [],
   "source": [
    "map.show(theta=np.linspace(0, 360, 50))"
   ]
  },
  {
   "cell_type": "markdown",
   "metadata": {},
   "source": [
    "Here's the phase curve of the Earth over one rotation at 8 different illumination phases:"
   ]
  },
  {
   "cell_type": "code",
   "execution_count": null,
   "metadata": {
    "scrolled": false
   },
   "outputs": [],
   "source": [
    "fig = plt.figure(figsize=(6, 4))\n",
    "theta = np.linspace(0, 360, 1000)\n",
    "phis = np.linspace(0, 360, 9)[:-1]\n",
    "source = [[np.cos((phi - 90) * np.pi / 180), 0, -np.sin((phi - 90) * np.pi / 180)] for phi in phis]\n",
    "for n, phi in enumerate(phis):\n",
    "    plt.plot(theta, map.flux(theta=theta, source=source[n]), label=phi)\n",
    "plt.xlim(0, 360)\n",
    "plt.ylim(-0.1, 1.0)\n",
    "plt.xlabel(r\"$\\theta$ [degrees]\", fontsize=14)\n",
    "plt.ylabel(\"Flux\", fontsize=14)\n",
    "legend = plt.legend(loc='center left', bbox_to_anchor=(1, 0.5), fontsize=18, frameon=False)\n",
    "for text in legend.get_texts():\n",
    "    text.set_color(\"w\")\n",
    "cmap = plt.get_cmap(\"plasma\")\n",
    "cmap.set_under(\"#000000\")\n",
    "for n in range(8):\n",
    "    ax = fig.add_axes((1.05, 0.775 - 0.087 * n, 0.05, 0.075))\n",
    "    img = map.render(res=100, source=source[n])\n",
    "    ax.imshow(img, cmap=cmap, origin=\"lower\", vmin=1e-5, vmax=0.75)\n",
    "    ax.axis('off');\n",
    "plt.suptitle(\"Light curves at different illumination phases\", fontsize=16);"
   ]
  },
  {
   "cell_type": "markdown",
   "metadata": {},
   "source": [
    "Here's the phase curve of the Earth over one year in orbit around the Sun:"
   ]
  },
  {
   "cell_type": "code",
   "execution_count": null,
   "metadata": {},
   "outputs": [],
   "source": [
    "sun = starry.Primary(starry.Map(L=0))\n",
    "earth = starry.Secondary(map, porb=365.0, prot=1.0, m=0.0, inc=60)\n",
    "earth.map.inc = earth.inc = 60\n",
    "sys = starry.System(sun, earth)\n",
    "\n",
    "t = np.linspace(0, 365.0, 1000)\n",
    "plt.plot(t, sys.flux(t));"
   ]
  },
  {
   "cell_type": "raw",
   "metadata": {
    "raw_mimetype": "text/restructuredtext"
   },
   "source": [
    ".. note::\n",
    "   More soon!"
   ]
  }
 ],
 "metadata": {
  "celltoolbar": "Tags",
  "kernelspec": {
   "display_name": "Python 3",
   "language": "python",
   "name": "python3"
  },
  "language_info": {
   "codemirror_mode": {
    "name": "ipython",
    "version": 3
   },
   "file_extension": ".py",
   "mimetype": "text/x-python",
   "name": "python",
   "nbconvert_exporter": "python",
   "pygments_lexer": "ipython3",
   "version": "3.7.2"
  }
 },
 "nbformat": 4,
 "nbformat_minor": 2
}
