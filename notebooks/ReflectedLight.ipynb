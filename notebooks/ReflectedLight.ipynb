{
 "cells": [
  {
   "cell_type": "markdown",
   "metadata": {},
   "source": [
    "# Maps in reflected light"
   ]
  },
  {
   "cell_type": "markdown",
   "metadata": {},
   "source": [
    "This notebook discusses how to model light curves in reflected light. Currently, `starry` can only model *phase curves* in reflected light, since the math behind occultation light curves is a bit trickier (we're working on it, though, so stay tuned!) Additionally, `starry` computes illumination profiles assuming the distance between the illumination source and the body is large; i.e., the illumination source is effectively a point source. This will also likely be relaxed in a future release. \n",
    "\n",
    "Let's begin by instantiating a map in reflected light. We do this by specifying `reflected=True` when calling `starry.Map()`."
   ]
  },
  {
   "cell_type": "code",
   "execution_count": null,
   "metadata": {
    "tags": [
     "hide_input"
    ]
   },
   "outputs": [],
   "source": [
    "%matplotlib inline"
   ]
  },
  {
   "cell_type": "code",
   "execution_count": null,
   "metadata": {
    "tags": [
     "hide_input"
    ]
   },
   "outputs": [],
   "source": [
    "%run notebook_setup.py"
   ]
  },
  {
   "cell_type": "code",
   "execution_count": null,
   "metadata": {},
   "outputs": [],
   "source": [
    "import matplotlib.pyplot as plt\n",
    "import numpy as np\n",
    "import starry\n",
    "\n",
    "starry.config.lazy = False\n",
    "starry.config.quiet = True"
   ]
  },
  {
   "cell_type": "code",
   "execution_count": null,
   "metadata": {},
   "outputs": [],
   "source": [
    "map = starry.Map(ydeg=15, reflected=True)"
   ]
  },
  {
   "cell_type": "markdown",
   "metadata": {},
   "source": [
    "Before we set any spherical harmonic coefficients, let's take a look at our map. We can call the ``show()`` method as usual:"
   ]
  },
  {
   "cell_type": "code",
   "execution_count": null,
   "metadata": {},
   "outputs": [],
   "source": [
    "map.show()"
   ]
  },
  {
   "cell_type": "markdown",
   "metadata": {},
   "source": [
    "By default, the illumination source is along the $+\\hat{z}$ direction, so directly in front of the object. You can tell that points in the center of the map (where it is noon) are brighter than points along the edges (where it is dawn or dusk). To change the location of the illumination source, we edit the `xo`, `yo`, and `zo` keywords, just as we do when calling the `flux()` method. These are the Cartesian coordinates of the illumination source."
   ]
  },
  {
   "cell_type": "code",
   "execution_count": null,
   "metadata": {},
   "outputs": [],
   "source": [
    "map.show(xo=1, yo=0, zo=0)"
   ]
  },
  {
   "cell_type": "markdown",
   "metadata": {},
   "source": [
    "We are now viewing a uniform map illuminated from the side. The intensity on the left half is zero, since it is completely unilluminated."
   ]
  },
  {
   "cell_type": "markdown",
   "metadata": {},
   "source": [
    "The distance between the body and the source, $r = \\sqrt{x_o^2 + y_o^2 + z_o^2}$, controls the overall amplitude of the flux. We can check that it follows the expected one-over-r-squared law:"
   ]
  },
  {
   "cell_type": "code",
   "execution_count": null,
   "metadata": {},
   "outputs": [],
   "source": [
    "r = np.logspace(-1, 2)\n",
    "plt.figure(figsize=(12, 5))\n",
    "plt.plot(r, map.flux(xo=0, yo=0, zo=r), label=\"flux\")\n",
    "plt.plot(r, 1 / r ** 2, label=\"1/r^2\", ls=\"--\")\n",
    "plt.plot(1, 1, \"ko\")\n",
    "plt.yscale(\"log\")\n",
    "plt.xscale(\"log\")\n",
    "plt.legend(fontsize=18)\n",
    "plt.xlabel(\"distance\", fontsize=24)\n",
    "plt.ylabel(\"flux\", fontsize=24);"
   ]
  },
  {
   "cell_type": "markdown",
   "metadata": {},
   "source": [
    "In particular, note that the flux in ``starry`` is normalized such that **when the distance between the occultor and the illumination source is unity, a uniform unit-amplitude map will emit a flux of unity when viewed at noon.**"
   ]
  },
  {
   "cell_type": "markdown",
   "metadata": {},
   "source": [
    "Moving on, reflected light maps behave exactly like regular spherical harmonic maps, except the spherical harmonic coefficients `y` represent the expansion of the surface *albedo* rather than *emissivity*. Let's load the continental map of the Earth and give the map the same obliquity as the Earth:"
   ]
  },
  {
   "cell_type": "code",
   "execution_count": null,
   "metadata": {},
   "outputs": [],
   "source": [
    "map.load(\"earth\", sigma=0.075)\n",
    "map.obl = 23.5"
   ]
  },
  {
   "cell_type": "markdown",
   "metadata": {},
   "source": [
    "Let's view the half-Earth rotating over one cycle:"
   ]
  },
  {
   "cell_type": "code",
   "execution_count": null,
   "metadata": {},
   "outputs": [],
   "source": [
    "map.show(theta=np.linspace(0, 360, 50), xo=1, yo=0, zo=0)"
   ]
  },
  {
   "cell_type": "markdown",
   "metadata": {},
   "source": [
    "The above animation corresponds to the (northern) winter solstice. Here's the phase curve of the Earth over one rotation at 8 different illumination phases:"
   ]
  },
  {
   "cell_type": "code",
   "execution_count": null,
   "metadata": {},
   "outputs": [],
   "source": [
    "fig = plt.figure(figsize=(12, 8))\n",
    "theta = np.linspace(0, 360, 1000)\n",
    "phis = np.linspace(0, 360, 9)[:-1]\n",
    "xo = np.cos((phis - 90) * np.pi / 180)\n",
    "zo = -np.sin((phis - 90) * np.pi / 180)\n",
    "for n, phi in enumerate(phis):\n",
    "    plt.plot(theta, map.flux(theta=theta, xo=xo[n], yo=0, zo=zo[n]), label=phi)\n",
    "plt.xlim(0, 360)\n",
    "plt.ylim(-0.1, 1.3)\n",
    "plt.xlabel(r\"$\\theta$ [degrees]\", fontsize=24)\n",
    "plt.ylabel(\"Flux\", fontsize=24)\n",
    "legend = plt.legend(\n",
    "    loc=\"center left\", bbox_to_anchor=(1, 0.5), fontsize=36, frameon=False\n",
    ")\n",
    "for text in legend.get_texts():\n",
    "    text.set_color(\"w\")\n",
    "cmap = plt.get_cmap(\"plasma\")\n",
    "cmap.set_under(\"#000000\")\n",
    "for n in range(8):\n",
    "    ax = fig.add_axes((1.05, 0.775 - 0.087 * n, 0.05, 0.075))\n",
    "    img = map.render(res=100, xo=xo[n], yo=0, zo=zo[n])\n",
    "    ax.imshow(img, cmap=cmap, origin=\"lower\", vmin=1e-5, vmax=1.0)\n",
    "    ax.axis(\"off\")\n",
    "plt.suptitle(\"Light curves at different illumination phases\", fontsize=30);"
   ]
  },
  {
   "cell_type": "markdown",
   "metadata": {},
   "source": [
    "And here's the phase curve of the Earth over one year in orbit around the Sun:"
   ]
  },
  {
   "cell_type": "code",
   "execution_count": null,
   "metadata": {},
   "outputs": [],
   "source": [
    "sun = starry.Primary(starry.Map(amp=0))\n",
    "earth = starry.Secondary(map, porb=365.0, prot=1.0, m=0.0, inc=60)\n",
    "earth.map.inc = earth.inc = 60\n",
    "sys = starry.System(sun, earth)\n",
    "\n",
    "t = np.linspace(0, 365.0, 1000)\n",
    "plt.figure(figsize=(12, 5))\n",
    "plt.plot(t, sys.flux(t));"
   ]
  },
  {
   "cell_type": "raw",
   "metadata": {
    "raw_mimetype": "text/restructuredtext"
   },
   "source": [
    ".. note::\n",
    "   More on this coming soon!"
   ]
  }
 ],
 "metadata": {
  "celltoolbar": "Tags",
  "kernelspec": {
   "display_name": "Python 3",
   "language": "python",
   "name": "python3"
  },
  "language_info": {
   "codemirror_mode": {
    "name": "ipython",
    "version": 3
   },
   "file_extension": ".py",
   "mimetype": "text/x-python",
   "name": "python",
   "nbconvert_exporter": "python",
   "pygments_lexer": "ipython3",
   "version": "3.7.4"
  }
 },
 "nbformat": 4,
 "nbformat_minor": 2
}
