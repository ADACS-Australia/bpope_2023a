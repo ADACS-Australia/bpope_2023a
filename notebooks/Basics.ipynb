{
 "cells": [
  {
   "cell_type": "markdown",
   "metadata": {},
   "source": [
    "# ⚠️ The basics\n",
    "\n",
    "Here we'll discuss how to instantiate spherical harmonic maps, manipulate them, plot them, and compute simple phase curves and occultation light curves."
   ]
  },
  {
   "cell_type": "code",
   "execution_count": null,
   "metadata": {
    "tags": [
     "hide_input"
    ]
   },
   "outputs": [],
   "source": [
    "%matplotlib inline\n",
    "%config InlineBackend.figure_format='retina'"
   ]
  },
  {
   "cell_type": "code",
   "execution_count": null,
   "metadata": {
    "tags": [
     "hide_input"
    ]
   },
   "outputs": [],
   "source": [
    "import starry\n",
    "import matplotlib.pyplot as plt\n",
    "import numpy as np\n",
    "\n",
    "starry.config.lazy = False\n",
    "starry.config.quiet = True"
   ]
  },
  {
   "cell_type": "markdown",
   "metadata": {},
   "source": [
    "## Introduction\n",
    "\n",
    "Surface maps in ``starry`` are described by a vector of spherical harmonic coefficients. Just like polynomials on the real number line, spherical harmonics form a complete basis on the surface of the sphere. **Any** surface map can be expressed as a linear combination of spherical harmonics, provided one goes to sufficiently high degree in the expansion.\n",
    "\n",
    "In ``starry``, the surface map is described by the vector **y**, which is indexed by increasing degree $l$ and order $m$:\n",
    "\n",
    "$y = \\{Y_{0,0}, \\, Y_{1,-1}, \\, Y_{1,0}, \\, Y_{1,1} \\, Y_{2,-2}, \\, Y_{2,-1}, \\, Y_{2,0} \\, Y_{2,1}, \\, Y_{2,2}, \\, ...\\}$.\n",
    "\n",
    "For reference, here's what the first several spherical harmonic degrees look like:"
   ]
  },
  {
   "cell_type": "code",
   "execution_count": null,
   "metadata": {
    "tags": [
     "hide_input"
    ]
   },
   "outputs": [],
   "source": [
    "ydeg = 5\n",
    "fig, ax = plt.subplots(ydeg + 1, 2 * ydeg + 1, figsize=(7.5, 4.5))\n",
    "fig.subplots_adjust(hspace=0)\n",
    "fig.patch.set_facecolor(\"w\")\n",
    "for axis in ax.flatten():\n",
    "    axis.set_xticks([])\n",
    "    axis.set_yticks([])\n",
    "    axis.spines['top'].set_visible(False)\n",
    "    axis.spines['right'].set_visible(False)\n",
    "    axis.spines['bottom'].set_visible(False)\n",
    "    axis.spines['left'].set_visible(False)\n",
    "for l in range(ydeg + 1):\n",
    "    ax[l, 0].set_ylabel(r\"$l = %d$\" % l,\n",
    "                        rotation='horizontal',\n",
    "                        labelpad=20, y=0.38,\n",
    "                        fontsize=10, alpha=0.5)\n",
    "for j, m in enumerate(range(-ydeg, ydeg + 1)):\n",
    "    if m < 0:\n",
    "        ax[-1, j].set_xlabel(r\"$m {=} \\mathrm{-}%d$\" % -m,\n",
    "                             labelpad=10, fontsize=10, alpha=0.5)\n",
    "    else:\n",
    "        ax[-1, j].set_xlabel(r\"$m = %d$\" % m, labelpad=10, fontsize=10, alpha=0.5)\n",
    "\n",
    "# Loop over the orders and degrees\n",
    "map = starry.Map(ydeg=ydeg, quiet=True)\n",
    "for i, l in enumerate(range(ydeg + 1)):\n",
    "    for j, m in enumerate(range(-l, l + 1)):\n",
    "\n",
    "        # Offset the index for centered plotting\n",
    "        j += ydeg - l\n",
    "\n",
    "        # Compute the spherical harmonic\n",
    "        # with no rotation\n",
    "        map.reset()\n",
    "        if l > 0:\n",
    "            map[l, m] = 1\n",
    "\n",
    "        # Plot the spherical harmonic\n",
    "        ax[i, j].imshow(map.render(), cmap='plasma',\n",
    "                        interpolation=\"none\", origin=\"lower\",\n",
    "                        extent=(-1, 1, -1, 1))\n",
    "        ax[i, j].set_xlim(-1.1, 1.1)\n",
    "        ax[i, j].set_ylim(-1.1, 1.1)"
   ]
  },
  {
   "cell_type": "markdown",
   "metadata": {},
   "source": [
    "Each row corresponds to a different degree $l$, starting at $l = 0$. Within each row, the harmonics extend from order $m = -l$ to order $m = l$.\n",
    "\n",
    "As an example, suppose we have the following map vector:\n",
    "\n",
    "```\n",
    "y = [1.00,  0.22,  0.19,  0.11,  0.11,  0.07,  -0.11, 0.00,  -0.05,\n",
    "     0.12,  0.16,  -0.05, 0.06,  0.12,  0.05,  -0.10, 0.04,  -0.02,\n",
    "     0.01,  0.10,  0.08,  0.15,  0.13,  -0.11, -0.07, -0.14, 0.06,\n",
    "     -0.19, -0.02, 0.07,  -0.02, 0.07,  -0.01, -0.07, 0.04,  0.00]\n",
    "```\n",
    "\n",
    "This is how much each spherical harmonic is contributing to the sum:"
   ]
  },
  {
   "cell_type": "code",
   "execution_count": null,
   "metadata": {
    "tags": [
     "hide_input"
    ]
   },
   "outputs": [],
   "source": [
    "ydeg = 5\n",
    "fig, ax = plt.subplots(ydeg + 1, 2 * ydeg + 1, figsize=(7.5, 4.5))\n",
    "fig.subplots_adjust(hspace=0)\n",
    "fig.patch.set_facecolor(\"w\")\n",
    "for axis in ax.flatten():\n",
    "    axis.set_xticks([])\n",
    "    axis.set_yticks([])\n",
    "    axis.spines['top'].set_visible(False)\n",
    "    axis.spines['right'].set_visible(False)\n",
    "    axis.spines['bottom'].set_visible(False)\n",
    "    axis.spines['left'].set_visible(False)\n",
    "for l in range(ydeg + 1):\n",
    "    ax[l, 0].set_ylabel(r\"$l = %d$\" % l,\n",
    "                        rotation='horizontal',\n",
    "                        labelpad=20, y=0.38,\n",
    "                        fontsize=10, alpha=0.5)\n",
    "for j, m in enumerate(range(-ydeg, ydeg + 1)):\n",
    "    if m < 0:\n",
    "        ax[-1, j].set_xlabel(r\"$m {=} \\mathrm{-}%d$\" % -m,\n",
    "                             labelpad=10, fontsize=10, alpha=0.5)\n",
    "    else:\n",
    "        ax[-1, j].set_xlabel(r\"$m = %d$\" % m, labelpad=10, fontsize=10, alpha=0.5)\n",
    "\n",
    "# Loop over the orders and degrees\n",
    "map = starry.Map(ydeg=ydeg, quiet=True)\n",
    "map.load('earth')\n",
    "y = np.abs(np.array(map.y))\n",
    "y[1:] /= np.max(y[1:])\n",
    "n = 0\n",
    "for i, l in enumerate(range(ydeg + 1)):\n",
    "    for j, m in enumerate(range(-l, l + 1)):\n",
    "\n",
    "        # Offset the index for centered plotting\n",
    "        j += ydeg - l\n",
    "\n",
    "        # Compute the spherical harmonic\n",
    "        # with no rotation\n",
    "        map.reset()\n",
    "        if l > 0:\n",
    "            map[l, m] = 1\n",
    "\n",
    "        # Plot the spherical harmonic\n",
    "        ax[i, j].imshow(map.render(), cmap='plasma',\n",
    "                        interpolation=\"none\", origin=\"lower\",\n",
    "                        extent=(-1, 1, -1, 1), alpha=y[n])\n",
    "        ax[i, j].set_xlim(-1.1, 1.1)\n",
    "        ax[i, j].set_ylim(-1.1, 1.1)\n",
    "        n += 1"
   ]
  },
  {
   "cell_type": "markdown",
   "metadata": {},
   "source": [
    "If we add up all of the terms, we get the following image:"
   ]
  },
  {
   "cell_type": "code",
   "execution_count": null,
   "metadata": {
    "tags": [
     "hide_input"
    ]
   },
   "outputs": [],
   "source": [
    "map = starry.Map(ydeg=ydeg, quiet=True)\n",
    "map.load('earth')\n",
    "fig, ax = plt.subplots(1)\n",
    "ax.imshow(map.render(), origin=\"lower\", cmap=\"plasma\")\n",
    "ax.axis(\"off\");"
   ]
  },
  {
   "cell_type": "markdown",
   "metadata": {},
   "source": [
    "which is the $l = 5$ spherical harmonic expansion of a map of the Earth! South America is to the left and Africa is toward the top right. It might still be hard to see, so here's what we would get if we carried the expansion up to degree $l = 20$:"
   ]
  },
  {
   "cell_type": "code",
   "execution_count": null,
   "metadata": {
    "tags": [
     "hide_input"
    ]
   },
   "outputs": [],
   "source": [
    "map = starry.Map(ydeg=20, quiet=True)\n",
    "map.load('earth')\n",
    "fig, ax = plt.subplots(1)\n",
    "ax.imshow(map.render(), origin=\"lower\", cmap=\"plasma\")\n",
    "ax.axis(\"off\");"
   ]
  },
  {
   "cell_type": "markdown",
   "metadata": {},
   "source": [
    "## Using `starry`\n",
    "OK, now that we've introduced the spherical harmonics, let's look at how we can use `starry` to model some celestial bodies.\n",
    "\n",
    "The first thing we should do is import `starry` and instantiate a `Map` object. This is the simplest way of creating a spherical harmonic map. The `Map` object takes a few arguments, the most important of which is `ydeg`, the highest degree of the spherical harmonics used to describe the map. Let's create a fifth-degree map:"
   ]
  },
  {
   "cell_type": "code",
   "execution_count": null,
   "metadata": {},
   "outputs": [],
   "source": [
    "import starry\n",
    "starry.config.lazy = False\n",
    "\n",
    "map = starry.Map(ydeg=5, quiet=True)"
   ]
  },
  {
   "cell_type": "markdown",
   "metadata": {},
   "source": [
    "(We will discuss the ``lazy`` setting in just a moment; let's ignore that for now.) The ``y`` attribute of the map stores the spherical harmonic coefficients. We can see that our map is initialized to a constant map:"
   ]
  },
  {
   "cell_type": "code",
   "execution_count": null,
   "metadata": {},
   "outputs": [],
   "source": [
    "map.y"
   ]
  },
  {
   "cell_type": "markdown",
   "metadata": {},
   "source": [
    "The $Y_{0,0}$ coefficient is always fixed at unity, and by default all other coefficients are set to zero. Our map is therefore just the first spherical harmonic, which if you scroll up you'll see is that constant dark blue disk at the top of the first figure. We can also quickly visualize the map by calling the `show` method:"
   ]
  },
  {
   "cell_type": "code",
   "execution_count": null,
   "metadata": {},
   "outputs": [],
   "source": [
    "map.show()"
   ]
  },
  {
   "cell_type": "markdown",
   "metadata": {},
   "source": [
    "Not that interesting! But before we give this map some features, let's briefly discuss how we would *evaluate* our map. This means computing the intensity at a latitude/longitude point on the surface. Let's investigate the intensity at the center (``lat = lon = 0``) of the map:"
   ]
  },
  {
   "cell_type": "code",
   "execution_count": null,
   "metadata": {},
   "outputs": [],
   "source": [
    "map.intensity(lat=0, lon=0)"
   ]
  },
  {
   "cell_type": "markdown",
   "metadata": {},
   "source": [
    "Since our map is constant, this is the intensity everywhere on the surface. It may seem like a strange number, but perhaps it will make sense if compute what the total *flux* (intensity integrated over area) of the map is. Since the map is constant, and since the body we're modeling has unit radius by default, the total flux visible to the observer is just..."
   ]
  },
  {
   "cell_type": "code",
   "execution_count": null,
   "metadata": {},
   "outputs": [],
   "source": [
    "import numpy as np\n",
    "np.pi * 1.0 ** 2 * map.intensity(lat=0, lon=0)"
   ]
  },
  {
   "cell_type": "markdown",
   "metadata": {},
   "source": [
    "So the total flux visible from the map is [unity](https://en.wikipedia.org/wiki/0.999...). **This is how maps in** `starry` **are normalized:** the average disk-integrated intensity is equal to the coefficient of the constant $Y_{0,0}$ harmonic, which is fixed at unity. We're going to discuss in detail how to compute fluxes below, but here's a sneak peek:"
   ]
  },
  {
   "cell_type": "code",
   "execution_count": null,
   "metadata": {},
   "outputs": [],
   "source": [
    "map.flux()"
   ]
  },
  {
   "cell_type": "markdown",
   "metadata": {},
   "source": [
    "Given zero arguments, the `flux` method of the map returns the total visible flux from the map, which as we showed above, is just unity."
   ]
  },
  {
   "cell_type": "markdown",
   "metadata": {},
   "source": [
    "## Setting map coefficients"
   ]
  },
  {
   "cell_type": "markdown",
   "metadata": {},
   "source": [
    "Okay, onto more interesting things. Setting spherical harmonic coefficients is extremely easy: we can assign values directly to the map instance itself. Say we wish to set the coefficient of the spherical harmonic $Y_{5, -3}$ to $-2$. We simply run"
   ]
  },
  {
   "cell_type": "code",
   "execution_count": null,
   "metadata": {},
   "outputs": [],
   "source": [
    "map[5, -3] = -2"
   ]
  },
  {
   "cell_type": "markdown",
   "metadata": {},
   "source": [
    "We can check that the spherical harmonic vector (which is a flattened version of the image we showed above) has been updated accordingly:"
   ]
  },
  {
   "cell_type": "code",
   "execution_count": null,
   "metadata": {},
   "outputs": [],
   "source": [
    "map.y"
   ]
  },
  {
   "cell_type": "markdown",
   "metadata": {},
   "source": [
    "And here's what our map now looks like:"
   ]
  },
  {
   "cell_type": "code",
   "execution_count": null,
   "metadata": {},
   "outputs": [],
   "source": [
    "map.show()"
   ]
  },
  {
   "cell_type": "markdown",
   "metadata": {},
   "source": [
    "Just for fun, let's set two additional coefficients:"
   ]
  },
  {
   "cell_type": "code",
   "execution_count": null,
   "metadata": {},
   "outputs": [],
   "source": [
    "map[5, 0] = 2\n",
    "map[5, 4] = 1"
   ]
  },
  {
   "cell_type": "code",
   "execution_count": null,
   "metadata": {},
   "outputs": [],
   "source": [
    "map.show()"
   ]
  },
  {
   "cell_type": "markdown",
   "metadata": {},
   "source": [
    "Kind of looks like a smiley face!\n",
    "\n",
    "**Pro tip:** *To turn your smiley face into a Teenage Mutant Ninja Turtle, simply edit the* $Y_{5,2}$ *coefficient:*"
   ]
  },
  {
   "cell_type": "code",
   "execution_count": null,
   "metadata": {},
   "outputs": [],
   "source": [
    "map[5, 2] = 1.5\n",
    "map.show()"
   ]
  },
  {
   "cell_type": "markdown",
   "metadata": {},
   "source": [
    "It's probably useful to play around with setting coefficients and plotting the resulting map to get a feel for how the spherical harmonics work. "
   ]
  },
  {
   "cell_type": "markdown",
   "metadata": {},
   "source": [
    "Two quick notes on visualizing maps: first, you can animate them by passing a vector ``theta`` argument to ``show()``; this is just the rotational phase at which the map is viewed. By default, angles in ``starry`` are in degrees (this can be changed by setting ``map.angle_unit``)."
   ]
  },
  {
   "cell_type": "code",
   "execution_count": null,
   "metadata": {},
   "outputs": [],
   "source": [
    "theta = np.linspace(0, 360, 50)\n",
    "map.show(theta=theta)"
   ]
  },
  {
   "cell_type": "markdown",
   "metadata": {},
   "source": [
    "Second, we can easily get an equirectangular (latitude-longitude) global view of the map as follows:"
   ]
  },
  {
   "cell_type": "code",
   "execution_count": null,
   "metadata": {},
   "outputs": [],
   "source": [
    "map.show(projection=\"rect\")"
   ]
  },
  {
   "cell_type": "markdown",
   "metadata": {},
   "source": [
    "## Loading map images"
   ]
  },
  {
   "cell_type": "markdown",
   "metadata": {},
   "source": [
    "In addition to directly specifying the spherical harmonic coefficients of a map, users can \"load\" images into ``starry`` via the ``load()`` method, which computes the spherical harmonic expansion of whatever image/array is provided to it. Users can pass paths to image files, numpy arrays on a rectangular latitude/longitude grid, or Healpix maps. ``starry`` comes with a few built-in maps to play around with:"
   ]
  },
  {
   "cell_type": "code",
   "execution_count": null,
   "metadata": {
    "tags": [
     "hide_input"
    ]
   },
   "outputs": [],
   "source": [
    "import os\n",
    "import glob\n",
    "for file in glob.glob(os.path.join(os.path.dirname(starry.__file__), \"img\", \"*.jpg\")):\n",
    "    print(os.path.basename(file)[:-4])"
   ]
  },
  {
   "cell_type": "markdown",
   "metadata": {},
   "source": [
    "Let's load the ``earth`` map and see what we get:"
   ]
  },
  {
   "cell_type": "code",
   "execution_count": null,
   "metadata": {},
   "outputs": [],
   "source": [
    "map = starry.Map(ydeg=20, quiet=True)\n",
    "map.load(\"earth\")\n",
    "map.show()"
   ]
  },
  {
   "cell_type": "code",
   "execution_count": null,
   "metadata": {},
   "outputs": [],
   "source": [
    "map.show(projection='rect')"
   ]
  },
  {
   "cell_type": "markdown",
   "metadata": {},
   "source": [
    "## Changing the orientation"
   ]
  },
  {
   "cell_type": "markdown",
   "metadata": {},
   "source": [
    "We can change the orientation of the map by specifying its inclination `inc` and obliquity `obl`. Note that these are properties of the *observer*. Changing these values changes the vantage point from which we see the map; it does not change the internal spherical harmonic representation of the map. Rather, map coefficients are defined in a static, invariant frame and the map can be observed from different vantage points by changing these angles. (This is different from the convention in version `0.3.0` of the code; see the tutorial on **Map Orientation** for more information).\n",
    "\n",
    "The obliquity is measured as the rotation angle of the objecet on the sky plane, measured counter-clockwise from north. The inclination is measured as the rotation of the object away from the line of sight. Let's set the inclination and obliquity of the Earth as an example:"
   ]
  },
  {
   "cell_type": "code",
   "execution_count": null,
   "metadata": {},
   "outputs": [],
   "source": [
    "map.obl = 23.5\n",
    "map.inc = 60.0\n",
    "map.show()"
   ]
  },
  {
   "cell_type": "markdown",
   "metadata": {},
   "source": [
    "## Computing the intensity"
   ]
  },
  {
   "cell_type": "markdown",
   "metadata": {},
   "source": [
    "We already hinted at how to compute the intensity at a point on the surface of the map: just use the ``intensity()`` method. This method takes the latitude and longitude of a point or a set of points on the surface and returns the specific intensity at each one.\n",
    "\n",
    "As an example, let's plot the intensity of the Earth along the equator:"
   ]
  },
  {
   "cell_type": "code",
   "execution_count": null,
   "metadata": {},
   "outputs": [],
   "source": [
    "lon = np.linspace(-180, 180, 1000)\n",
    "I = map.intensity(lat=0, lon=lon)\n",
    "fig = plt.figure(figsize=(8, 3))\n",
    "plt.plot(lon, I)\n",
    "plt.xlabel(\"Longitude [degrees]\")\n",
    "plt.ylabel(\"Intensity\");"
   ]
  },
  {
   "cell_type": "markdown",
   "metadata": {},
   "source": [
    "We can easily identify the Pacific (dark), South American (bright), the Atlantic (dark), Africa (bright), the Indian Ocean (dark), and Australia (bright)."
   ]
  },
  {
   "cell_type": "markdown",
   "metadata": {},
   "source": [
    "## Computing the flux"
   ]
  },
  {
   "cell_type": "markdown",
   "metadata": {},
   "source": [
    "### Phase curves"
   ]
  },
  {
   "cell_type": "markdown",
   "metadata": {},
   "source": [
    "The ``starry`` code is all about modeling light curves, so let's generate some. We'll talk about phase curves first, in which the observed flux is simply the integral over the entire disk when the object is viewed at a particular phase. Flux computations are done via the ``flux()`` method, and the phase is specified via the ``theta`` keyword:"
   ]
  },
  {
   "cell_type": "code",
   "execution_count": null,
   "metadata": {},
   "outputs": [],
   "source": [
    "theta = np.linspace(0, 360, 1000)\n",
    "plt.figure(figsize=(8, 3))\n",
    "plt.plot(theta, map.flux(theta=theta));\n",
    "plt.xlabel(\"Rotational phase [degrees]\")\n",
    "plt.ylabel(\"Flux [normalized]\");"
   ]
  },
  {
   "cell_type": "markdown",
   "metadata": {},
   "source": [
    "Note that this phase curve corresponds to rotation about the axis of the map, which is inclined and rotated as we specified above. We are therefore computing the disk-integrated intensity at each frame of the following animation:"
   ]
  },
  {
   "cell_type": "code",
   "execution_count": null,
   "metadata": {},
   "outputs": [],
   "source": [
    "map.show(theta=np.linspace(0, 360, 50))"
   ]
  },
  {
   "cell_type": "markdown",
   "metadata": {},
   "source": [
    "Changing the orientation of the map will change the phase curve we compute. Here's the phase curve of the Earth at different values of the inclination:"
   ]
  },
  {
   "cell_type": "code",
   "execution_count": null,
   "metadata": {},
   "outputs": [],
   "source": [
    "plt.figure(figsize=(8, 4))\n",
    "for inc in [30, 45, 60, 75, 90]:\n",
    "    map.inc = inc\n",
    "    plt.plot(theta, map.flux(theta=theta), label=r\"$%2d^\\circ$\" % inc);\n",
    "plt.legend(fontsize=10)\n",
    "plt.xlabel(\"Rotational phase [degrees]\")\n",
    "plt.ylabel(\"Flux [normalized]\");"
   ]
  },
  {
   "cell_type": "markdown",
   "metadata": {},
   "source": [
    "Trivially, changing the obliquity does not affect the phase curve:"
   ]
  },
  {
   "cell_type": "code",
   "execution_count": null,
   "metadata": {},
   "outputs": [],
   "source": [
    "plt.figure(figsize=(8, 4))\n",
    "for obl in [30, 45, 60, 75, 90]:\n",
    "    map.obl = obl\n",
    "    plt.plot(theta, map.flux(theta=theta), label=r\"$%2d^\\circ$\" % obl);\n",
    "plt.legend(fontsize=10)\n",
    "plt.xlabel(\"Rotational phase [degrees]\")\n",
    "plt.ylabel(\"Flux [normalized]\");"
   ]
  },
  {
   "cell_type": "markdown",
   "metadata": {},
   "source": [
    "## Occultations"
   ]
  },
  {
   "cell_type": "raw",
   "metadata": {
    "raw_mimetype": "text/restructuredtext"
   },
   "source": [
    ".. note::\n",
    "   Coming soon!"
   ]
  }
 ],
 "metadata": {
  "celltoolbar": "Raw Cell Format",
  "kernelspec": {
   "display_name": "Python 3",
   "language": "python",
   "name": "python3"
  },
  "language_info": {
   "codemirror_mode": {
    "name": "ipython",
    "version": 3
   },
   "file_extension": ".py",
   "mimetype": "text/x-python",
   "name": "python",
   "nbconvert_exporter": "python",
   "pygments_lexer": "ipython3",
   "version": "3.7.2"
  }
 },
 "nbformat": 4,
 "nbformat_minor": 2
}
