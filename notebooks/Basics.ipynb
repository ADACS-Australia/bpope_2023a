{
 "cells": [
  {
   "cell_type": "markdown",
   "metadata": {},
   "source": [
    "# The basics\n",
    "\n",
    "Here we'll discuss how to instantiate spherical harmonic maps, manipulate them, plot them, and compute simple phase curves and occultation light curves."
   ]
  },
  {
   "cell_type": "code",
   "execution_count": null,
   "metadata": {
    "tags": [
     "hide_input"
    ]
   },
   "outputs": [],
   "source": [
    "%matplotlib inline"
   ]
  },
  {
   "cell_type": "code",
   "execution_count": null,
   "metadata": {
    "tags": [
     "hide_input"
    ]
   },
   "outputs": [],
   "source": [
    "%run notebook_setup.py"
   ]
  },
  {
   "cell_type": "code",
   "execution_count": null,
   "metadata": {
    "tags": [
     "hide_input"
    ]
   },
   "outputs": [],
   "source": [
    "import starry\n",
    "import matplotlib.pyplot as plt\n",
    "import numpy as np\n",
    "\n",
    "starry.config.lazy = False\n",
    "starry.config.quiet = True"
   ]
  },
  {
   "cell_type": "markdown",
   "metadata": {},
   "source": [
    "## Introduction\n",
    "\n",
    "Surface maps in ``starry`` are described by a vector of spherical harmonic coefficients. Just like polynomials on the real number line, spherical harmonics form a complete basis on the surface of the sphere. **Any** surface map can be expressed as a linear combination of spherical harmonics, provided one goes to sufficiently high degree in the expansion.\n",
    "\n",
    "In ``starry``, the surface map is described by the vector **y**, which is indexed by increasing degree $l$ and order $m$:\n",
    "\n",
    "$y = \\{Y_{0,0}, \\, Y_{1,-1}, \\, Y_{1,0}, \\, Y_{1,1} \\, Y_{2,-2}, \\, Y_{2,-1}, \\, Y_{2,0} \\, Y_{2,1}, \\, Y_{2,2}, \\, ...\\}$.\n",
    "\n",
    "For reference, here's what the first several spherical harmonic degrees look like:"
   ]
  },
  {
   "cell_type": "code",
   "execution_count": null,
   "metadata": {
    "tags": [
     "hide_input"
    ]
   },
   "outputs": [],
   "source": [
    "ydeg = 5\n",
    "fig, ax = plt.subplots(ydeg + 1, 2 * ydeg + 1, figsize=(12, 6))\n",
    "fig.subplots_adjust(hspace=0)\n",
    "for axis in ax.flatten():\n",
    "    axis.set_xticks([])\n",
    "    axis.set_yticks([])\n",
    "    axis.spines[\"top\"].set_visible(False)\n",
    "    axis.spines[\"right\"].set_visible(False)\n",
    "    axis.spines[\"bottom\"].set_visible(False)\n",
    "    axis.spines[\"left\"].set_visible(False)\n",
    "for l in range(ydeg + 1):\n",
    "    ax[l, 0].set_ylabel(\n",
    "        \"l = %d\" % l,\n",
    "        rotation=\"horizontal\",\n",
    "        labelpad=20,\n",
    "        y=0.38,\n",
    "        fontsize=10,\n",
    "        alpha=0.5,\n",
    "    )\n",
    "for j, m in enumerate(range(-ydeg, ydeg + 1)):\n",
    "    ax[-1, j].set_xlabel(\"m = %d\" % m, labelpad=10, fontsize=10, alpha=0.5)\n",
    "\n",
    "# Loop over the orders and degrees\n",
    "map = starry.Map(ydeg=ydeg)\n",
    "for i, l in enumerate(range(ydeg + 1)):\n",
    "    for j, m in enumerate(range(-l, l + 1)):\n",
    "\n",
    "        # Offset the index for centered plotting\n",
    "        j += ydeg - l\n",
    "\n",
    "        # Compute the spherical harmonic\n",
    "        # with no rotation\n",
    "        map.reset()\n",
    "        if l > 0:\n",
    "            map[l, m] = 1\n",
    "\n",
    "        # Plot the spherical harmonic\n",
    "        ax[i, j].imshow(\n",
    "            map.render(),\n",
    "            cmap=\"plasma\",\n",
    "            interpolation=\"none\",\n",
    "            origin=\"lower\",\n",
    "            extent=(-1, 1, -1, 1),\n",
    "        )\n",
    "        ax[i, j].set_xlim(-1.1, 1.1)\n",
    "        ax[i, j].set_ylim(-1.1, 1.1)"
   ]
  },
  {
   "cell_type": "markdown",
   "metadata": {},
   "source": [
    "Each row corresponds to a different degree $l$, starting at $l = 0$. Within each row, the harmonics extend from order $m = -l$ to order $m = l$.\n",
    "\n",
    "As an example, suppose we have the following map vector:\n",
    "\n",
    "```\n",
    "y = [1.00,  0.22,  0.19,  0.11,  0.11,  0.07,  -0.11, 0.00,  -0.05,\n",
    "     0.12,  0.16,  -0.05, 0.06,  0.12,  0.05,  -0.10, 0.04,  -0.02,\n",
    "     0.01,  0.10,  0.08,  0.15,  0.13,  -0.11, -0.07, -0.14, 0.06,\n",
    "     -0.19, -0.02, 0.07,  -0.02, 0.07,  -0.01, -0.07, 0.04,  0.00]\n",
    "```\n",
    "\n",
    "This is how much each spherical harmonic is contributing to the sum:"
   ]
  },
  {
   "cell_type": "code",
   "execution_count": null,
   "metadata": {
    "tags": [
     "hide_input"
    ]
   },
   "outputs": [],
   "source": [
    "ydeg = 5\n",
    "fig, ax = plt.subplots(ydeg + 1, 2 * ydeg + 1, figsize=(12, 6))\n",
    "fig.subplots_adjust(hspace=0)\n",
    "for axis in ax.flatten():\n",
    "    axis.set_xticks([])\n",
    "    axis.set_yticks([])\n",
    "    axis.spines[\"top\"].set_visible(False)\n",
    "    axis.spines[\"right\"].set_visible(False)\n",
    "    axis.spines[\"bottom\"].set_visible(False)\n",
    "    axis.spines[\"left\"].set_visible(False)\n",
    "for l in range(ydeg + 1):\n",
    "    ax[l, 0].set_ylabel(\n",
    "        \"l = %d\" % l,\n",
    "        rotation=\"horizontal\",\n",
    "        labelpad=20,\n",
    "        y=0.38,\n",
    "        fontsize=10,\n",
    "        alpha=0.5,\n",
    "    )\n",
    "for j, m in enumerate(range(-ydeg, ydeg + 1)):\n",
    "    ax[-1, j].set_xlabel(\"m = %d\" % m, labelpad=10, fontsize=10, alpha=0.5)\n",
    "\n",
    "# Loop over the orders and degrees\n",
    "map = starry.Map(ydeg=ydeg)\n",
    "map.load(\"earth\")\n",
    "y = np.abs(np.array(map.y))\n",
    "y[1:] /= np.max(y[1:])\n",
    "n = 0\n",
    "for i, l in enumerate(range(ydeg + 1)):\n",
    "    for j, m in enumerate(range(-l, l + 1)):\n",
    "\n",
    "        # Offset the index for centered plotting\n",
    "        j += ydeg - l\n",
    "\n",
    "        # Compute the spherical harmonic\n",
    "        # with no rotation\n",
    "        map.reset()\n",
    "        if l > 0:\n",
    "            map[l, m] = 1\n",
    "\n",
    "        # Plot the spherical harmonic\n",
    "        ax[i, j].imshow(\n",
    "            map.render(),\n",
    "            cmap=\"plasma\",\n",
    "            interpolation=\"none\",\n",
    "            origin=\"lower\",\n",
    "            extent=(-1, 1, -1, 1),\n",
    "            alpha=y[n],\n",
    "        )\n",
    "        ax[i, j].set_xlim(-1.1, 1.1)\n",
    "        ax[i, j].set_ylim(-1.1, 1.1)\n",
    "        n += 1"
   ]
  },
  {
   "cell_type": "markdown",
   "metadata": {},
   "source": [
    "If we add up all of the terms, we get the following image:"
   ]
  },
  {
   "cell_type": "code",
   "execution_count": null,
   "metadata": {
    "tags": [
     "hide_input"
    ]
   },
   "outputs": [],
   "source": [
    "map = starry.Map(ydeg=ydeg, quiet=True)\n",
    "map.load(\"earth\")\n",
    "fig, ax = plt.subplots(1, figsize=(3, 3))\n",
    "ax.imshow(map.render(), origin=\"lower\", cmap=\"plasma\")\n",
    "ax.axis(\"off\");"
   ]
  },
  {
   "cell_type": "markdown",
   "metadata": {},
   "source": [
    "which is the $l = 5$ spherical harmonic expansion of a map of the Earth! South America is to the left and Africa is toward the top right. It might still be hard to see, so here's what we would get if we carried the expansion up to degree $l = 20$:"
   ]
  },
  {
   "cell_type": "code",
   "execution_count": null,
   "metadata": {
    "tags": [
     "hide_input"
    ]
   },
   "outputs": [],
   "source": [
    "map = starry.Map(ydeg=20)\n",
    "map.load(\"earth\", sigma=0.08)\n",
    "fig, ax = plt.subplots(1, figsize=(3, 3))\n",
    "ax.imshow(map.render(), origin=\"lower\", cmap=\"plasma\")\n",
    "ax.axis(\"off\");"
   ]
  },
  {
   "cell_type": "markdown",
   "metadata": {},
   "source": [
    "## Using `starry`\n",
    "OK, now that we've introduced the spherical harmonics, let's look at how we can use `starry` to model some celestial bodies.\n",
    "\n",
    "The first thing we should do is import `starry` and instantiate a `Map` object. This is the simplest way of creating a spherical harmonic map. The `Map` object takes a few arguments, the most important of which is `ydeg`, the highest degree of the spherical harmonics used to describe the map. Let's create a fifth-degree map:"
   ]
  },
  {
   "cell_type": "code",
   "execution_count": null,
   "metadata": {},
   "outputs": [],
   "source": [
    "import starry\n",
    "\n",
    "starry.config.lazy = False\n",
    "\n",
    "map = starry.Map(ydeg=5)"
   ]
  },
  {
   "cell_type": "markdown",
   "metadata": {},
   "source": [
    "(We're disabling ``lazy`` evaluation in this notebook; see [here](LazyGreedy.ipynb) for more details.) The ``y`` attribute of the map stores the spherical harmonic coefficients. We can see that our map is initialized to a constant map:"
   ]
  },
  {
   "cell_type": "code",
   "execution_count": null,
   "metadata": {},
   "outputs": [],
   "source": [
    "map.y"
   ]
  },
  {
   "cell_type": "markdown",
   "metadata": {},
   "source": [
    "The $Y_{0,0}$ coefficient is always fixed at unity, and by default all other coefficients are set to zero. Our map is therefore just the first spherical harmonic, which if you scroll up you'll see is that constant dark blue disk at the top of the first figure. We can also quickly visualize the map by calling the `show` method:"
   ]
  },
  {
   "cell_type": "code",
   "execution_count": null,
   "metadata": {},
   "outputs": [],
   "source": [
    "map.show()"
   ]
  },
  {
   "cell_type": "markdown",
   "metadata": {},
   "source": [
    "Not that interesting! But before we give this map some features, let's briefly discuss how we would *evaluate* our map. This means computing the intensity at a latitude/longitude point on the surface. Let's investigate the intensity at the center (``lat = lon = 0``) of the map:"
   ]
  },
  {
   "cell_type": "code",
   "execution_count": null,
   "metadata": {},
   "outputs": [],
   "source": [
    "map.intensity(lat=0, lon=0)"
   ]
  },
  {
   "cell_type": "markdown",
   "metadata": {},
   "source": [
    "Since our map is constant, this is the intensity everywhere on the surface. It may seem like a strange number, but perhaps it will make sense if compute what the total *flux* (intensity integrated over area) of the map is. Since the map is constant, and since the body we're modeling has unit radius by default, the total flux visible to the observer is just..."
   ]
  },
  {
   "cell_type": "code",
   "execution_count": null,
   "metadata": {},
   "outputs": [],
   "source": [
    "import numpy as np\n",
    "\n",
    "np.pi * 1.0 ** 2 * map.intensity(lat=0, lon=0)"
   ]
  },
  {
   "cell_type": "markdown",
   "metadata": {},
   "source": [
    "So the total flux visible from the map is unity. **This is how maps in** `starry` **are normalized:** the average disk-integrated intensity is equal to the coefficient of the constant $Y_{0,0}$ harmonic, which is fixed at unity. We're going to discuss in detail how to compute fluxes below, but here's a sneak peek:"
   ]
  },
  {
   "cell_type": "code",
   "execution_count": null,
   "metadata": {},
   "outputs": [],
   "source": [
    "map.flux()"
   ]
  },
  {
   "cell_type": "markdown",
   "metadata": {},
   "source": [
    "Given zero arguments, the `flux` method of the map returns the total visible flux from the map, which as we showed above, is just unity."
   ]
  },
  {
   "cell_type": "markdown",
   "metadata": {},
   "source": [
    "## Setting map coefficients"
   ]
  },
  {
   "cell_type": "markdown",
   "metadata": {},
   "source": [
    "Okay, onto more interesting things. Setting spherical harmonic coefficients is extremely easy: we can assign values directly to the map instance itself. Say we wish to set the coefficient of the spherical harmonic $Y_{5, -3}$ to $-2$. We simply run"
   ]
  },
  {
   "cell_type": "code",
   "execution_count": null,
   "metadata": {},
   "outputs": [],
   "source": [
    "map[5, -3] = -2"
   ]
  },
  {
   "cell_type": "markdown",
   "metadata": {},
   "source": [
    "We can check that the spherical harmonic vector (which is a flattened version of the image we showed above) has been updated accordingly:"
   ]
  },
  {
   "cell_type": "code",
   "execution_count": null,
   "metadata": {},
   "outputs": [],
   "source": [
    "map.y"
   ]
  },
  {
   "cell_type": "markdown",
   "metadata": {},
   "source": [
    "And here's what our map now looks like:"
   ]
  },
  {
   "cell_type": "code",
   "execution_count": null,
   "metadata": {},
   "outputs": [],
   "source": [
    "map.show()"
   ]
  },
  {
   "cell_type": "markdown",
   "metadata": {},
   "source": [
    "Just for fun, let's set two additional coefficients:"
   ]
  },
  {
   "cell_type": "code",
   "execution_count": null,
   "metadata": {},
   "outputs": [],
   "source": [
    "map[5, 0] = 2\n",
    "map[5, 4] = 1"
   ]
  },
  {
   "cell_type": "code",
   "execution_count": null,
   "metadata": {},
   "outputs": [],
   "source": [
    "map.show()"
   ]
  },
  {
   "cell_type": "markdown",
   "metadata": {},
   "source": [
    "Kind of looks like a smiley face!\n",
    "\n",
    "**Pro tip:** *To turn your smiley face into a Teenage Mutant Ninja Turtle, simply edit the* $Y_{5,2}$ *coefficient:*"
   ]
  },
  {
   "cell_type": "code",
   "execution_count": null,
   "metadata": {},
   "outputs": [],
   "source": [
    "map[5, 2] = 1.5\n",
    "map.show()"
   ]
  },
  {
   "cell_type": "markdown",
   "metadata": {},
   "source": [
    "It's probably useful to play around with setting coefficients and plotting the resulting map to get a feel for how the spherical harmonics work. "
   ]
  },
  {
   "cell_type": "markdown",
   "metadata": {},
   "source": [
    "Two quick notes on visualizing maps: first, you can animate them by passing a vector ``theta`` argument to ``show()``; this is just the rotational phase at which the map is viewed. By default, angles in ``starry`` are in degrees (this can be changed by setting ``map.angle_unit``)."
   ]
  },
  {
   "cell_type": "code",
   "execution_count": null,
   "metadata": {},
   "outputs": [],
   "source": [
    "theta = np.linspace(0, 360, 50)\n",
    "map.show(theta=theta)"
   ]
  },
  {
   "cell_type": "markdown",
   "metadata": {},
   "source": [
    "Second, we can easily get an equirectangular (latitude-longitude) global view of the map as follows:"
   ]
  },
  {
   "cell_type": "code",
   "execution_count": null,
   "metadata": {},
   "outputs": [],
   "source": [
    "map.show(projection=\"rect\")"
   ]
  },
  {
   "cell_type": "markdown",
   "metadata": {},
   "source": [
    "## Loading map images"
   ]
  },
  {
   "cell_type": "markdown",
   "metadata": {},
   "source": [
    "In addition to directly specifying the spherical harmonic coefficients of a map, users can \"load\" images into ``starry`` via the ``load()`` method, which computes the spherical harmonic expansion of whatever image/array is provided to it. Users can pass paths to image files, numpy arrays on a rectangular latitude/longitude grid, or Healpix maps. ``starry`` comes with a few built-in maps to play around with:"
   ]
  },
  {
   "cell_type": "code",
   "execution_count": null,
   "metadata": {
    "tags": [
     "hide_input"
    ]
   },
   "outputs": [],
   "source": [
    "import os\n",
    "import glob\n",
    "\n",
    "for file in glob.glob(os.path.join(os.path.dirname(starry.__file__), \"img\", \"*.jpg\")):\n",
    "    print(os.path.basename(file)[:-4])"
   ]
  },
  {
   "cell_type": "markdown",
   "metadata": {},
   "source": [
    "Let's load the ``earth`` map and see what we get:"
   ]
  },
  {
   "cell_type": "code",
   "execution_count": null,
   "metadata": {},
   "outputs": [],
   "source": [
    "map = starry.Map(ydeg=20)\n",
    "map.load(\"earth\", sigma=0.08)\n",
    "map.show()"
   ]
  },
  {
   "cell_type": "code",
   "execution_count": null,
   "metadata": {},
   "outputs": [],
   "source": [
    "map.show(projection=\"rect\")"
   ]
  },
  {
   "cell_type": "markdown",
   "metadata": {},
   "source": [
    "## Changing the orientation"
   ]
  },
  {
   "cell_type": "markdown",
   "metadata": {},
   "source": [
    "We can change the orientation of the map by specifying its inclination `inc` and obliquity `obl`. Note that these are properties of the *observer*. Changing these values changes the vantage point from which we see the map; it does not change the internal spherical harmonic representation of the map. Rather, map coefficients are defined in a static, invariant frame and the map can be observed from different vantage points by changing these angles. (This is different from the convention in version `0.3.0` of the code; see the tutorial on **Map Orientation** for more information).\n",
    "\n",
    "The obliquity is measured as the rotation angle of the objecet on the sky plane, measured counter-clockwise from north. The inclination is measured as the rotation of the object away from the line of sight. Let's set the inclination and obliquity of the Earth as an example:"
   ]
  },
  {
   "cell_type": "code",
   "execution_count": null,
   "metadata": {},
   "outputs": [],
   "source": [
    "map.obl = 23.5\n",
    "map.inc = 60.0\n",
    "map.show()"
   ]
  },
  {
   "cell_type": "markdown",
   "metadata": {},
   "source": [
    "## Computing the intensity"
   ]
  },
  {
   "cell_type": "markdown",
   "metadata": {},
   "source": [
    "We already hinted at how to compute the intensity at a point on the surface of the map: just use the ``intensity()`` method. This method takes the latitude and longitude of a point or a set of points on the surface and returns the specific intensity at each one.\n",
    "\n",
    "As an example, let's plot the intensity of the Earth along the equator:"
   ]
  },
  {
   "cell_type": "code",
   "execution_count": null,
   "metadata": {},
   "outputs": [],
   "source": [
    "lon = np.linspace(-180, 180, 1000)\n",
    "I = map.intensity(lat=0, lon=lon)\n",
    "fig = plt.figure(figsize=(12, 5))\n",
    "plt.plot(lon, I)\n",
    "plt.xlabel(\"Longitude [degrees]\")\n",
    "plt.ylabel(\"Intensity\");"
   ]
  },
  {
   "cell_type": "markdown",
   "metadata": {},
   "source": [
    "We can easily identify the Pacific (dark), South American (bright), the Atlantic (dark), Africa (bright), the Indian Ocean (dark), and Australia (bright)."
   ]
  },
  {
   "cell_type": "markdown",
   "metadata": {},
   "source": [
    "## Computing the flux: phase curves"
   ]
  },
  {
   "cell_type": "markdown",
   "metadata": {},
   "source": [
    "The ``starry`` code is all about modeling light curves, so let's generate some. We'll talk about phase curves first, in which the observed flux is simply the integral over the entire disk when the object is viewed at a particular phase. Flux computations are done via the ``flux()`` method, and the phase is specified via the ``theta`` keyword:"
   ]
  },
  {
   "cell_type": "code",
   "execution_count": null,
   "metadata": {},
   "outputs": [],
   "source": [
    "theta = np.linspace(0, 360, 1000)\n",
    "plt.figure(figsize=(12, 5))\n",
    "plt.plot(theta, map.flux(theta=theta))\n",
    "plt.xlabel(\"Rotational phase [degrees]\", fontsize=20)\n",
    "plt.ylabel(\"Flux [normalized]\", fontsize=20);"
   ]
  },
  {
   "cell_type": "markdown",
   "metadata": {},
   "source": [
    "Note that this phase curve corresponds to rotation about the axis of the map, which is inclined and rotated as we specified above. We are therefore computing the disk-integrated intensity at each frame of the following animation:"
   ]
  },
  {
   "cell_type": "code",
   "execution_count": null,
   "metadata": {},
   "outputs": [],
   "source": [
    "map.show(theta=np.linspace(0, 360, 50))"
   ]
  },
  {
   "cell_type": "markdown",
   "metadata": {},
   "source": [
    "Changing the orientation of the map will change the phase curve we compute. Here's the phase curve of the Earth at different values of the inclination:"
   ]
  },
  {
   "cell_type": "code",
   "execution_count": null,
   "metadata": {},
   "outputs": [],
   "source": [
    "plt.figure(figsize=(12, 5))\n",
    "for inc in [30, 45, 60, 75, 90]:\n",
    "    map.inc = inc\n",
    "    plt.plot(theta, map.flux(theta=theta), label=\"%2d deg\" % inc)\n",
    "plt.legend(fontsize=10)\n",
    "plt.xlabel(\"Rotational phase [degrees]\", fontsize=20)\n",
    "plt.ylabel(\"Flux [normalized]\", fontsize=20);"
   ]
  },
  {
   "cell_type": "markdown",
   "metadata": {},
   "source": [
    "Trivially, changing the obliquity does not affect the phase curve:"
   ]
  },
  {
   "cell_type": "code",
   "execution_count": null,
   "metadata": {},
   "outputs": [],
   "source": [
    "plt.figure(figsize=(12, 5))\n",
    "for obl in [30, 45, 60, 75, 90]:\n",
    "    map.obl = obl\n",
    "    plt.plot(theta, map.flux(theta=theta), label=\"%2d deg\" % obl)\n",
    "plt.legend(fontsize=10)\n",
    "plt.xlabel(\"Rotational phase [degrees]\", fontsize=20)\n",
    "plt.ylabel(\"Flux [normalized]\", fontsize=20);"
   ]
  },
  {
   "cell_type": "markdown",
   "metadata": {},
   "source": [
    "## Computing the flux: transits and occultations"
   ]
  },
  {
   "cell_type": "markdown",
   "metadata": {
    "raw_mimetype": "text/restructuredtext"
   },
   "source": [
    "The spherical harmonic formalism in `starry` makes it easy to compute occultation light curves, since all the integrals are analytic! If we peek at the docstring for the `flux` method, we'll see that it takes four parameters in addition to the rotational phase `theta`:"
   ]
  },
  {
   "cell_type": "code",
   "execution_count": null,
   "metadata": {},
   "outputs": [],
   "source": [
    "print(map.flux.__doc__)"
   ]
  },
  {
   "cell_type": "markdown",
   "metadata": {},
   "source": [
    "We can pass in the Cartesian position of an occultor (`xo`, `yo`, `zo`) and its radius, all in units of the occulted body's radius. Let's use this to construct a light curve of the moon occulting the Earth:"
   ]
  },
  {
   "cell_type": "code",
   "execution_count": null,
   "metadata": {},
   "outputs": [],
   "source": [
    "# Set the occultor trajectory\n",
    "npts = 1000\n",
    "time = np.linspace(0, 1, npts)\n",
    "xo = np.linspace(-2.0, 2.0, npts)\n",
    "yo = np.linspace(-0.3, 0.3, npts)\n",
    "zo = 1.0\n",
    "ro = 0.272\n",
    "\n",
    "# Load the map of the Earth\n",
    "map = starry.Map(ydeg=20)\n",
    "map.load(\"earth\", sigma=0.08)\n",
    "\n",
    "# Compute and plot the light curve\n",
    "plt.figure(figsize=(12, 5))\n",
    "flux_moon = map.flux(xo=xo, yo=yo, ro=ro, zo=zo)\n",
    "plt.plot(time, flux_moon)\n",
    "plt.xlabel(\"Time [arbitrary]\", fontsize=20)\n",
    "plt.ylabel(\"Flux [normalized]\", fontsize=20);"
   ]
  },
  {
   "cell_type": "markdown",
   "metadata": {},
   "source": [
    "For reference, here is the trajectory of the occultor:"
   ]
  },
  {
   "cell_type": "code",
   "execution_count": null,
   "metadata": {},
   "outputs": [],
   "source": [
    "fig, ax = plt.subplots(1, figsize=(5, 5))\n",
    "ax.set_xlim(-2, 2)\n",
    "ax.set_ylim(-2, 2)\n",
    "ax.axis(\"off\")\n",
    "ax.imshow(map.render(), origin=\"lower\", cmap=\"plasma\", extent=(-1, 1, -1, 1))\n",
    "for n in list(range(0, npts, npts // 10)) + [npts - 1]:\n",
    "    circ = plt.Circle(\n",
    "        (xo[n], yo[n]), radius=ro, color=\"k\", fill=True, clip_on=False, alpha=0.5\n",
    "    )\n",
    "    ax.add_patch(circ)"
   ]
  },
  {
   "cell_type": "markdown",
   "metadata": {},
   "source": [
    "The two dips are due to occultations of South America and Africa; the bump in the middle of the transit is the moon crossing over the dark waters of the Atlantic!"
   ]
  },
  {
   "cell_type": "markdown",
   "metadata": {},
   "source": [
    "## Computing the flux: limb-darkening"
   ]
  },
  {
   "cell_type": "markdown",
   "metadata": {},
   "source": [
    "There's a separate tutorial on limb darkening, so we'll just mention it briefly here. It's super easy to add limb darkening to maps in `starry`. The most common reason for doing this is for modeling transits of planets across stars. To enable limb darkening, set the `udeg` parameter to the degree of the limb darkening model when instantiating a map. For quadratic limb darkening, we would do the following:"
   ]
  },
  {
   "cell_type": "code",
   "execution_count": null,
   "metadata": {},
   "outputs": [],
   "source": [
    "map = starry.Map(udeg=2)"
   ]
  },
  {
   "cell_type": "markdown",
   "metadata": {},
   "source": [
    "Setting the limb darkening coefficients is similar to setting the spherical harmonic coefficients, except only a single index is used. For instance:"
   ]
  },
  {
   "cell_type": "code",
   "execution_count": null,
   "metadata": {},
   "outputs": [],
   "source": [
    "map[1] = 0.5\n",
    "map[2] = 0.25"
   ]
  },
  {
   "cell_type": "markdown",
   "metadata": {},
   "source": [
    "This sets the linear limb darkening coefficient to be $u_1 = 0.5$ and the quadratic limb darkening coefficient to be $u_2 = 0.25$ (the zeroth order coefficient, `map[0]`, is determined by the normalization and cannot be set). Let's look at the map:"
   ]
  },
  {
   "cell_type": "code",
   "execution_count": null,
   "metadata": {},
   "outputs": [],
   "source": [
    "map.show()"
   ]
  },
  {
   "cell_type": "markdown",
   "metadata": {},
   "source": [
    "The effect of limb darkening is clear! Let's plot a transit across this object:"
   ]
  },
  {
   "cell_type": "code",
   "execution_count": null,
   "metadata": {},
   "outputs": [],
   "source": [
    "# Set the occultor trajectory\n",
    "npts = 1000\n",
    "time = np.linspace(0, 1, npts)\n",
    "xo = np.linspace(-2.0, 2.0, npts)\n",
    "yo = np.linspace(-0.3, 0.3, npts)\n",
    "zo = 1.0\n",
    "ro = 0.272\n",
    "\n",
    "# Compute and plot the light curve\n",
    "plt.figure(figsize=(12, 5))\n",
    "plt.plot(time, map.flux(xo=xo, yo=yo, ro=ro, zo=zo))\n",
    "plt.xlabel(\"Time [arbitrary]\", fontsize=20)\n",
    "plt.ylabel(\"Flux [normalized]\", fontsize=20);"
   ]
  },
  {
   "cell_type": "markdown",
   "metadata": {},
   "source": [
    "That's it! Note that `starry` also allows the user to mix spherical harmonics and limb darkening, so you may set both the `ydeg` and `udeg` parameters simultaneously. Let's look at a limb-darkened version of the Earth map, just for fun:"
   ]
  },
  {
   "cell_type": "code",
   "execution_count": null,
   "metadata": {},
   "outputs": [],
   "source": [
    "map = starry.Map(ydeg=20, udeg=2)\n",
    "map.load(\"earth\", sigma=0.08)\n",
    "map[1] = 0.5\n",
    "map[2] = 0.25\n",
    "map.show()"
   ]
  },
  {
   "cell_type": "markdown",
   "metadata": {},
   "source": [
    "Notice how the limb is now darker! Let's compute the transit light curve of the moon as before and compare it to the non-limb-darkened version:"
   ]
  },
  {
   "cell_type": "code",
   "execution_count": null,
   "metadata": {},
   "outputs": [],
   "source": [
    "# Set the occultor trajectory\n",
    "npts = 1000\n",
    "time = np.linspace(0, 1, npts)\n",
    "xo = np.linspace(-2.0, 2.0, npts)\n",
    "yo = np.linspace(-0.3, 0.3, npts)\n",
    "zo = 1.0\n",
    "ro = 0.272\n",
    "\n",
    "# Set the map inclination and obliquity\n",
    "map.inc = 90\n",
    "map.obl = 0\n",
    "\n",
    "# Compute and plot the light curve\n",
    "plt.figure(figsize=(12, 5))\n",
    "plt.plot(time, flux_moon, label=\"Limb darkening off\")\n",
    "plt.plot(time, map.flux(xo=xo, yo=yo, ro=ro, zo=zo), label=\"Limb darkening on\")\n",
    "plt.xlabel(\"Time [arbitrary]\", fontsize=20)\n",
    "plt.ylabel(\"Flux [normalized]\", fontsize=20)\n",
    "plt.legend();"
   ]
  },
  {
   "cell_type": "markdown",
   "metadata": {},
   "source": [
    "A few things are different:\n",
    "\n",
    "1. The normalization changed! The limb-darkened map is slightly brighter when viewed from this orientation. In `starry`, limb darkening conserves the total luminosity, so there will be other orientations at which the Earth will look *dimmer*;\n",
    "2. The relative depths of the two dips change, since South America and Africa receive different weightings;\n",
    "3. The limb-darkened light curve is slightly *smoother*."
   ]
  },
  {
   "cell_type": "markdown",
   "metadata": {},
   "source": [
    "That's it for this introductory tutorial. There's a LOT more you can do with `starry`, including incorporating it into `exoplanet` to model full planetary systems, computing multi-wavelength light curves, modeling the Rossiter-McLaughlin effect, doing fast probabibilistic inference, etc.\n",
    "\n",
    "Make sure to check out the other examples in this directory."
   ]
  }
 ],
 "metadata": {
  "celltoolbar": "Tags",
  "kernelspec": {
   "display_name": "Python 3",
   "language": "python",
   "name": "python3"
  },
  "language_info": {
   "codemirror_mode": {
    "name": "ipython",
    "version": 3
   },
   "file_extension": ".py",
   "mimetype": "text/x-python",
   "name": "python",
   "nbconvert_exporter": "python",
   "pygments_lexer": "ipython3",
   "version": "3.8.3"
  }
 },
 "nbformat": 4,
 "nbformat_minor": 2
}
