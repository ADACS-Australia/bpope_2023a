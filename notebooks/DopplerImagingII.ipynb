{
 "cells": [
  {
   "cell_type": "markdown",
   "metadata": {},
   "source": [
    "# Doppler imaging: Gallery"
   ]
  },
  {
   "cell_type": "raw",
   "metadata": {
    "raw_mimetype": "text/html"
   },
   "source": [
    "<script>\n",
    "    // Force \"pop out\" links to open in the browser (rather than download)\n",
    "    document.addEventListener(\"DOMContentLoaded\", function(event) { \n",
    "        var links = document.getElementsByClassName(\"reference download internal\")\n",
    "            for (var i = 0; i < links.length; i++) { \n",
    "                links[i].outerHTML = links[i].outerHTML.replace(\"download=\\\"\\\"\", \"\");\n",
    "            }\n",
    "    });\n",
    "</script>"
   ]
  },
  {
   "cell_type": "code",
   "execution_count": null,
   "metadata": {
    "tags": [
     "hide_input"
    ]
   },
   "outputs": [],
   "source": [
    "%matplotlib inline"
   ]
  },
  {
   "cell_type": "code",
   "execution_count": null,
   "metadata": {
    "tags": [
     "hide_input"
    ]
   },
   "outputs": [],
   "source": [
    "%run notebook_setup.py"
   ]
  },
  {
   "cell_type": "code",
   "execution_count": null,
   "metadata": {
    "tags": [
     "hide_input"
    ]
   },
   "outputs": [],
   "source": [
    "import starry\n",
    "\n",
    "starry.config.lazy = False\n",
    "starry.config.quiet = True"
   ]
  },
  {
   "cell_type": "markdown",
   "metadata": {},
   "source": [
    "In this notebook we'll instantiate a few different Doppler maps and visualize them with the interactive ``show()`` method. The plots below are fully interactive: move the mouse and scroll over the maps to control the spectra that are displayed below them."
   ]
  },
  {
   "cell_type": "code",
   "execution_count": null,
   "metadata": {},
   "outputs": [],
   "source": [
    "import starry\n",
    "import numpy as np"
   ]
  },
  {
   "cell_type": "markdown",
   "metadata": {},
   "source": [
    "## Featureless star"
   ]
  },
  {
   "cell_type": "raw",
   "metadata": {
    "raw_mimetype": "text/restructuredtext"
   },
   "source": [
    ":download:`pop out <doppler_featureless.html>`"
   ]
  },
  {
   "cell_type": "code",
   "execution_count": null,
   "metadata": {},
   "outputs": [],
   "source": [
    "# Instantiate\n",
    "map = starry.DopplerMap(ydeg=1, nt=20, inc=60, veq=30000)\n",
    "\n",
    "# A single absporption line\n",
    "map.spectrum = 1.0 - 0.75 * np.exp(-0.5 * (map.wavs - 643.0) ** 2 / 0.025 ** 2)\n",
    "\n",
    "# Visualize\n",
    "map.show()"
   ]
  },
  {
   "cell_type": "code",
   "execution_count": null,
   "metadata": {
    "tags": [
     "hide_input"
    ]
   },
   "outputs": [],
   "source": [
    "map.show(file=\"doppler_featureless.html\")"
   ]
  },
  {
   "cell_type": "markdown",
   "metadata": {},
   "source": [
    "## Star with a simple spot"
   ]
  },
  {
   "cell_type": "raw",
   "metadata": {
    "raw_mimetype": "text/restructuredtext"
   },
   "source": [
    ":download:`pop out <doppler_simple.html>`"
   ]
  },
  {
   "cell_type": "code",
   "execution_count": null,
   "metadata": {},
   "outputs": [],
   "source": [
    "# Instantiate\n",
    "map = starry.DopplerMap(ydeg=15, nt=20, inc=60, veq=30000)\n",
    "\n",
    "# Add a spot\n",
    "map.spot(lat=30)\n",
    "\n",
    "# A single absporption line\n",
    "map.spectrum = 1.0 - 0.75 * np.exp(-0.5 * (map.wavs - 643.0) ** 2 / 0.025 ** 2)\n",
    "\n",
    "# Visualize\n",
    "map.show()"
   ]
  },
  {
   "cell_type": "code",
   "execution_count": null,
   "metadata": {
    "tags": [
     "hide_input"
    ]
   },
   "outputs": [],
   "source": [
    "map.show(file=\"doppler_simple.html\")"
   ]
  },
  {
   "cell_type": "markdown",
   "metadata": {},
   "source": [
    "## Star with a limb-darkened spot"
   ]
  },
  {
   "cell_type": "raw",
   "metadata": {
    "raw_mimetype": "text/restructuredtext"
   },
   "source": [
    ":download:`pop out <doppler_ld.html>`"
   ]
  },
  {
   "cell_type": "code",
   "execution_count": null,
   "metadata": {},
   "outputs": [],
   "source": [
    "# Instantiate\n",
    "map = starry.DopplerMap(ydeg=15, udeg=2, nt=20, inc=60, veq=30000)\n",
    "\n",
    "# Set the limb darkening\n",
    "map[1] = 0.5\n",
    "map[2] = 0.25\n",
    "\n",
    "# Add a spot\n",
    "map.spot(lat=30)\n",
    "\n",
    "# A single absporption line\n",
    "map.spectrum = 1.0 - 0.75 * np.exp(-0.5 * (map.wavs - 643.0) ** 2 / 0.025 ** 2)\n",
    "\n",
    "# Visualize\n",
    "map.show()"
   ]
  },
  {
   "cell_type": "code",
   "execution_count": null,
   "metadata": {
    "tags": [
     "hide_input"
    ]
   },
   "outputs": [],
   "source": [
    "map.show(file=\"doppler_ld.html\")"
   ]
  },
  {
   "cell_type": "markdown",
   "metadata": {},
   "source": [
    "## Star with a grey `SPOT`"
   ]
  },
  {
   "cell_type": "raw",
   "metadata": {
    "raw_mimetype": "text/restructuredtext"
   },
   "source": [
    ":download:`pop out <doppler_grey.html>`"
   ]
  },
  {
   "cell_type": "code",
   "execution_count": null,
   "metadata": {},
   "outputs": [],
   "source": [
    "# Instantiate\n",
    "map = starry.DopplerMap(ydeg=15, nt=20, inc=60, veq=50000)\n",
    "\n",
    "# Load the SPOT map\n",
    "map.load(\"spot\", force_psd=True)\n",
    "\n",
    "# A single absporption line\n",
    "map.spectrum = 1.0 - 0.75 * np.exp(-0.5 * (map.wavs - 643.0) ** 2 / 0.025 ** 2)\n",
    "\n",
    "# Visualize\n",
    "map.show()"
   ]
  },
  {
   "cell_type": "code",
   "execution_count": null,
   "metadata": {
    "tags": [
     "hide_input"
    ]
   },
   "outputs": [],
   "source": [
    "map.show(file=\"doppler_grey.html\")"
   ]
  },
  {
   "cell_type": "markdown",
   "metadata": {},
   "source": [
    "## Star with a spectrally variable `SPOT`"
   ]
  },
  {
   "cell_type": "raw",
   "metadata": {
    "raw_mimetype": "text/restructuredtext"
   },
   "source": [
    ":download:`pop out <doppler_variable.html>`"
   ]
  },
  {
   "cell_type": "code",
   "execution_count": null,
   "metadata": {},
   "outputs": [],
   "source": [
    "# Instantiate\n",
    "map = starry.DopplerMap(15, nt=20, nc=4, inc=60, veq=30000)\n",
    "\n",
    "# Load four component maps\n",
    "map.load([\"s\", \"p\", \"o\", \"t\"], force_psd=True)\n",
    "\n",
    "# Four absorption lines\n",
    "mu = np.array([642.69, 642.90, 643.10, 643.31])\n",
    "sig = 0.025\n",
    "dw = map.wavs.reshape(-1, 1) - mu.reshape(1, -1)\n",
    "map.spectrum = 1.0 - np.exp(-0.5 * dw ** 2 / sig ** 2)\n",
    "\n",
    "# Visualize\n",
    "map.show()"
   ]
  },
  {
   "cell_type": "code",
   "execution_count": null,
   "metadata": {
    "tags": [
     "hide_input"
    ]
   },
   "outputs": [],
   "source": [
    "map.show(file=\"doppler_variable.html\")"
   ]
  }
 ],
 "metadata": {
  "celltoolbar": "Raw Cell Format",
  "kernelspec": {
   "display_name": "Python 3",
   "language": "python",
   "name": "python3"
  },
  "language_info": {
   "codemirror_mode": {
    "name": "ipython",
    "version": 3
   },
   "file_extension": ".py",
   "mimetype": "text/x-python",
   "name": "python",
   "nbconvert_exporter": "python",
   "pygments_lexer": "ipython3",
   "version": "3.8.3"
  }
 },
 "nbformat": 4,
 "nbformat_minor": 4
}
