{
 "cells": [
  {
   "cell_type": "markdown",
   "metadata": {},
   "source": [
    "# Hot jupiter phase curve example"
   ]
  },
  {
   "cell_type": "code",
   "execution_count": null,
   "metadata": {
    "tags": [
     "hide_input"
    ]
   },
   "outputs": [],
   "source": [
    "%matplotlib inline\n",
    "%config InlineBackend.figure_format='retina'"
   ]
  },
  {
   "cell_type": "code",
   "execution_count": null,
   "metadata": {
    "tags": [
     "hide_input"
    ]
   },
   "outputs": [],
   "source": [
    "import warnings\n",
    "\n",
    "warnings.simplefilter(\"ignore\")"
   ]
  },
  {
   "cell_type": "markdown",
   "metadata": {},
   "source": [
    "In this notebook, we'll run through a brief example of how to model a full hot jupiter light curve -- including the transit, secondary eclipse, and phase curve -- using the machinery of the `exoplanet` package.\n",
    "\n",
    "Let's begin with our custom imports. Note that we want to run `starry` in `lazy` mode (the default), since we need to be able to compute analytic derivatives of the model for use in `pymc3`."
   ]
  },
  {
   "cell_type": "code",
   "execution_count": null,
   "metadata": {},
   "outputs": [],
   "source": [
    "import starry\n",
    "import matplotlib.pyplot as plt\n",
    "import numpy as np\n",
    "import pymc3 as pm\n",
    "import exoplanet\n",
    "\n",
    "starry.config.quiet = True\n",
    "np.random.seed(1)"
   ]
  },
  {
   "cell_type": "markdown",
   "metadata": {},
   "source": [
    "## Generating a dataset"
   ]
  },
  {
   "cell_type": "markdown",
   "metadata": {},
   "source": [
    "Let's generate some synthetic data. First we create a star..."
   ]
  },
  {
   "cell_type": "code",
   "execution_count": null,
   "metadata": {},
   "outputs": [],
   "source": [
    "A = starry.Primary(\n",
    "    starry.Map(ydeg=0, udeg=2, L=1.0, inc=90.0, obl=0.0), m=1.0, r=1.0, prot=1.0\n",
    ")\n",
    "A.map[1] = 0.4\n",
    "A.map[2] = 0.2"
   ]
  },
  {
   "cell_type": "markdown",
   "metadata": {},
   "source": [
    "... and now we instantiate the planet..."
   ]
  },
  {
   "cell_type": "code",
   "execution_count": null,
   "metadata": {},
   "outputs": [],
   "source": [
    "# These are the parameters we're going to try to infer\n",
    "log_L_true = -3.0\n",
    "offset_true = 30.0\n",
    "\n",
    "b = starry.Secondary(\n",
    "    starry.Map(ydeg=1, udeg=0, L=10 ** log_L_true, inc=90.0, obl=0.0),\n",
    "    m=0.0,\n",
    "    r=0.1,\n",
    "    prot=1.0,\n",
    "    porb=1.0,\n",
    ")\n",
    "b.map[1, 0] = 0.5\n",
    "b.theta0 = 180.0 + offset_true"
   ]
  },
  {
   "cell_type": "markdown",
   "metadata": {},
   "source": [
    "Most of the parameters should be self-explanatory (check the docs for details). For the planet, we give it a simple dipole map by setting only the $Y_{1,0}$ coefficient. We then set the `theta0` parameter to be $180^\\circ$ plus an offset, which we set to be $30^\\circ$. The parameter `theta0` is the rotational phase of the map at the reference time `t0`, which in this case is the time of transit. For a tidally-locked close-in planet, we usually want the bright side of the map to be facing the star at that point, which we accomplish by setting `theta0=180`. The offset captures the misalignment between the hot spot of the planet and the sub-stellar point, as is seen in the hot jupiter [HD 189733b](https://ui.adsabs.harvard.edu/abs/2012ApJ...747L..20M/abstract). In this notebook, we'll attempt to solve for this value.\n",
    "\n",
    "Next, we instantiate the system:"
   ]
  },
  {
   "cell_type": "code",
   "execution_count": null,
   "metadata": {},
   "outputs": [],
   "source": [
    "sys = starry.System(A, b)"
   ]
  },
  {
   "cell_type": "markdown",
   "metadata": {},
   "source": [
    "We can now generate a synthetic light curve, and add some noise:"
   ]
  },
  {
   "cell_type": "code",
   "execution_count": null,
   "metadata": {},
   "outputs": [],
   "source": [
    "t = np.linspace(-0.3, 1.3, 1000)\n",
    "flux_true = sys.flux(t).eval()\n",
    "ferr = 1e-4\n",
    "flux = flux_true + ferr * np.random.randn(len(t))\n",
    "plt.figure(figsize=(12, 5))\n",
    "plt.plot(t, flux, \"k.\", alpha=0.3, ms=3)\n",
    "plt.plot(t, flux_true)\n",
    "plt.xlabel(\"Time [days]\", fontsize=24)\n",
    "plt.ylabel(\"Flux [normalized]\", fontsize=24);"
   ]
  },
  {
   "cell_type": "markdown",
   "metadata": {},
   "source": [
    "By eye we can tell there's an offset, since the peak in the phase curve does not coincide with the secondary eclipse."
   ]
  },
  {
   "cell_type": "markdown",
   "metadata": {},
   "source": [
    "## Fitting the data"
   ]
  },
  {
   "cell_type": "markdown",
   "metadata": {},
   "source": [
    "We're going to fit this light curve using `exoplanet` and `pymc3`. Let's begin fresh and define a new star, planet, and system, this time *within a pymc3 model context*:"
   ]
  },
  {
   "cell_type": "code",
   "execution_count": null,
   "metadata": {},
   "outputs": [],
   "source": [
    "with pm.Model() as model:\n",
    "\n",
    "    # These are the variables we're solving for;\n",
    "    # here we're placing wide Gaussian priors on them.\n",
    "    offset = pm.Normal(\"offset\", 0.0, 50.0, testval=0.11)\n",
    "    log_L = pm.Normal(\"log_L\", -4.0, 2.0, testval=-3.91)\n",
    "\n",
    "    # Instantiate the star; all its parameters are assumed\n",
    "    # to be known exactly\n",
    "    A = starry.Primary(\n",
    "        starry.Map(ydeg=0, udeg=2, L=1.0, inc=90.0, obl=0.0), m=1.0, r=1.0, prot=1.0\n",
    "    )\n",
    "    A.map[1] = 0.4\n",
    "    A.map[2] = 0.2\n",
    "\n",
    "    # Instantiate the planet. Everything is fixed except for\n",
    "    # its luminosity and the hot spot offset.\n",
    "    b = starry.Secondary(\n",
    "        starry.Map(ydeg=1, udeg=0, L=10 ** log_L, inc=90.0, obl=0.0),\n",
    "        m=0.0,\n",
    "        r=0.1,\n",
    "        prot=1.0,\n",
    "        porb=1.0,\n",
    "    )\n",
    "    b.map[1, 0] = 0.5\n",
    "    b.theta0 = 180.0 + offset\n",
    "\n",
    "    # Instantiate the system as before\n",
    "    sys = starry.System(A, b)\n",
    "\n",
    "    # Our model for the flux\n",
    "    flux_model = pm.Deterministic(\"flux_model\", sys.flux(t))\n",
    "\n",
    "    # This is how we tell `pymc3` about our observations;\n",
    "    # we are assuming they are normally distributed about\n",
    "    # the true model. This line effectively defines our\n",
    "    # likelihood function.\n",
    "    pm.Normal(\"obs\", flux_model, sd=ferr, observed=flux)"
   ]
  },
  {
   "cell_type": "markdown",
   "metadata": {},
   "source": [
    "Great! The first thing we usually do is run this model through an optimizer (which is usually fast, since `starry` computes derivatives):"
   ]
  },
  {
   "cell_type": "code",
   "execution_count": null,
   "metadata": {},
   "outputs": [],
   "source": [
    "%%time\n",
    "with model:\n",
    "    map_soln = exoplanet.optimize()"
   ]
  },
  {
   "cell_type": "markdown",
   "metadata": {},
   "source": [
    "Here's what our best model looks like:"
   ]
  },
  {
   "cell_type": "code",
   "execution_count": null,
   "metadata": {},
   "outputs": [],
   "source": [
    "plt.figure(figsize=(12, 5))\n",
    "plt.plot(t, flux, \"k.\", alpha=0.3, ms=3)\n",
    "plt.plot(t, map_soln[\"flux_model\"])\n",
    "plt.xlabel(\"Time [days]\", fontsize=24)\n",
    "plt.ylabel(\"Flux [normalized]\", fontsize=24);"
   ]
  },
  {
   "cell_type": "markdown",
   "metadata": {},
   "source": [
    "And here are the best-fit values of the two parameters:"
   ]
  },
  {
   "cell_type": "code",
   "execution_count": null,
   "metadata": {},
   "outputs": [],
   "source": [
    "print(\"offset:\", map_soln[\"offset\"])\n",
    "print(\"log_L:\", map_soln[\"log_L\"])"
   ]
  },
  {
   "cell_type": "markdown",
   "metadata": {},
   "source": [
    "Not bad! If we just cared about finding the best solution, we'd be done, but we actually want posteriors over the model parameters. For this, we're going to do sampling with `pymc3`:"
   ]
  },
  {
   "cell_type": "code",
   "execution_count": null,
   "metadata": {},
   "outputs": [],
   "source": [
    "%%time\n",
    "with model:\n",
    "    trace = pm.sample(\n",
    "        tune=250,\n",
    "        draws=500,\n",
    "        start=map_soln,\n",
    "        chains=4,\n",
    "        cores=1,\n",
    "        step=exoplanet.get_dense_nuts_step(target_accept=0.9),\n",
    "    )"
   ]
  },
  {
   "cell_type": "markdown",
   "metadata": {},
   "source": [
    "And we're done! It's usually a good idea to look at a summary of the sampling procedure:"
   ]
  },
  {
   "cell_type": "code",
   "execution_count": null,
   "metadata": {},
   "outputs": [],
   "source": [
    "pm.summary(trace, varnames=[\"log_L\", \"offset\"])"
   ]
  },
  {
   "cell_type": "markdown",
   "metadata": {},
   "source": [
    "The `mc_errors` are relatively small, the `Rhat` convergence criterion is close to 1, and the number of effective samples `n_eff` is over 1000, all of which are good. We should probably run the sampler a bit longer, but this should be good enough for demonstration purposes. Let's plot our posterior distributions:"
   ]
  },
  {
   "cell_type": "code",
   "execution_count": null,
   "metadata": {},
   "outputs": [],
   "source": [
    "import corner\n",
    "\n",
    "samples = pm.trace_to_dataframe(trace, varnames=[\"log_L\", \"offset\"])\n",
    "corner.corner(\n",
    "    np.array(samples),\n",
    "    truths=[log_L_true, offset_true],\n",
    "    labels=[r\"$\\log L$\", r\"$\\mathrm{offset}$\"],\n",
    ");"
   ]
  },
  {
   "cell_type": "markdown",
   "metadata": {},
   "source": [
    "Looks great! The blue lines indicate the true values."
   ]
  }
 ],
 "metadata": {
  "celltoolbar": "Tags",
  "kernelspec": {
   "display_name": "Python 3",
   "language": "python",
   "name": "python3"
  },
  "language_info": {
   "codemirror_mode": {
    "name": "ipython",
    "version": 3
   },
   "file_extension": ".py",
   "mimetype": "text/x-python",
   "name": "python",
   "nbconvert_exporter": "python",
   "pygments_lexer": "ipython3",
   "version": "3.7.2"
  }
 },
 "nbformat": 4,
 "nbformat_minor": 2
}
