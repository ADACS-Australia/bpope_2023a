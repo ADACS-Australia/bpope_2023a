{
 "cells": [
  {
   "cell_type": "markdown",
   "metadata": {},
   "source": [
    "# ⚠️ Hot Jupiter Phase Curve Example"
   ]
  },
  {
   "cell_type": "code",
   "execution_count": null,
   "metadata": {},
   "outputs": [],
   "source": [
    "%matplotlib inline\n",
    "import warnings\n",
    "warnings.simplefilter(\"ignore\")"
   ]
  },
  {
   "cell_type": "code",
   "execution_count": null,
   "metadata": {},
   "outputs": [],
   "source": [
    "import starry\n",
    "import matplotlib.pyplot as plt\n",
    "import numpy as np\n",
    "import exoplanet as xo\n",
    "import pymc3 as pm\n",
    "import theano.tensor as tt\n",
    "import theano\n",
    "\n",
    "starry.config.quiet = True"
   ]
  },
  {
   "cell_type": "code",
   "execution_count": null,
   "metadata": {},
   "outputs": [],
   "source": [
    "A = starry.Primary(\n",
    "    starry.Map(ydeg=0, udeg=2, L=1.0, inc=90.0, obl=0.0),\n",
    "    m=1.0,\n",
    "    r=1.0,\n",
    "    prot=1.0\n",
    ")\n",
    "A.map[1] = 0.4\n",
    "A.map[2] = 0.2\n",
    "A.map.show()"
   ]
  },
  {
   "cell_type": "code",
   "execution_count": null,
   "metadata": {},
   "outputs": [],
   "source": [
    "b = starry.Secondary(\n",
    "    starry.Map(ydeg=1, udeg=0, L=0.001, inc=90.0, obl=0.0),\n",
    "    m=0.0,\n",
    "    r=0.1,\n",
    "    prot=1.0,\n",
    "    porb=1.0\n",
    ")\n",
    "b.map[1, 0] = 0.5\n",
    "offset = 10.0\n",
    "b.theta0 = 180.0 + offset"
   ]
  },
  {
   "cell_type": "code",
   "execution_count": null,
   "metadata": {},
   "outputs": [],
   "source": [
    "b.map.show()"
   ]
  },
  {
   "cell_type": "code",
   "execution_count": null,
   "metadata": {},
   "outputs": [],
   "source": [
    "sys = starry.System(A, b)"
   ]
  },
  {
   "cell_type": "code",
   "execution_count": null,
   "metadata": {},
   "outputs": [],
   "source": [
    "t = np.linspace(-0.3, 1.3, 1000)\n",
    "flux_true = sys.flux(t).eval()\n",
    "ferr = 1e-4\n",
    "flux = flux_true + ferr * np.random.randn(len(t))\n",
    "plt.plot(t, flux, \"k.\", alpha=0.3, ms=3)\n",
    "plt.plot(t, flux_true);"
   ]
  },
  {
   "cell_type": "code",
   "execution_count": null,
   "metadata": {},
   "outputs": [],
   "source": [
    "with pm.Model() as model:\n",
    "    \n",
    "    offset = pm.Normal(\"offset\", 0.0, 30.0, testval=0.11)\n",
    "    log_L = pm.Normal(\"log_L\", -4.0, 2.0, testval=-3.91)\n",
    "    \n",
    "    A = starry.Primary(\n",
    "        starry.Map(ydeg=0, udeg=2, L=1.0, inc=90.0, obl=0.0),\n",
    "        m=1.0,\n",
    "        r=1.0,\n",
    "        prot=1.0\n",
    "    )\n",
    "    A.map[1] = 0.4\n",
    "    A.map[2] = 0.2\n",
    "\n",
    "    b = starry.Secondary(\n",
    "        starry.Map(ydeg=1, udeg=0, L=10 ** log_L, inc=90.0, obl=0.0),\n",
    "        m=tt.as_tensor_variable(0.0).astype(\"float64\"),\n",
    "        r=0.1,\n",
    "        prot=1.0,\n",
    "        porb=1.0\n",
    "    )\n",
    "    b.map[1, 0] = 0.5\n",
    "    b.theta0 = 180.0 + offset\n",
    "    \n",
    "    sys = starry.System(A, b)\n",
    "    \n",
    "    flux_model = pm.Deterministic(\"flux_model\", sys.flux(t))\n",
    "    \n",
    "    pm.Normal(\"obs\", flux_model, sd=ferr, observed=flux)"
   ]
  },
  {
   "cell_type": "code",
   "execution_count": null,
   "metadata": {
    "scrolled": false
   },
   "outputs": [],
   "source": [
    "%%time\n",
    "with model:\n",
    "    map_soln = xo.optimize()"
   ]
  },
  {
   "cell_type": "code",
   "execution_count": null,
   "metadata": {},
   "outputs": [],
   "source": [
    "plt.plot(t, flux, \"k.\", alpha=0.3, ms=3)\n",
    "plt.plot(t, map_soln[\"flux_model\"]);"
   ]
  },
  {
   "cell_type": "code",
   "execution_count": null,
   "metadata": {},
   "outputs": [],
   "source": [
    "%%time\n",
    "with model:\n",
    "    trace = pm.sample(\n",
    "        tune=250,\n",
    "        draws=500,\n",
    "        start=map_soln,\n",
    "        chains=4,\n",
    "        cores=1,\n",
    "        step=xo.get_dense_nuts_step(target_accept=0.9),\n",
    "    )"
   ]
  },
  {
   "cell_type": "code",
   "execution_count": null,
   "metadata": {},
   "outputs": [],
   "source": [
    "pm.summary(trace, varnames=[\"log_L\", \"offset\"])"
   ]
  },
  {
   "cell_type": "code",
   "execution_count": null,
   "metadata": {},
   "outputs": [],
   "source": [
    "import corner\n",
    "samples = pm.trace_to_dataframe(trace, varnames=[\"log_L\", \"offset\"])\n",
    "corner.corner(np.array(samples), truths=[-3, 10]);"
   ]
  }
 ],
 "metadata": {
  "kernelspec": {
   "display_name": "Python 3",
   "language": "python",
   "name": "python3"
  },
  "language_info": {
   "codemirror_mode": {
    "name": "ipython",
    "version": 3
   },
   "file_extension": ".py",
   "mimetype": "text/x-python",
   "name": "python",
   "nbconvert_exporter": "python",
   "pygments_lexer": "ipython3",
   "version": "3.7.2"
  }
 },
 "nbformat": 4,
 "nbformat_minor": 2
}
