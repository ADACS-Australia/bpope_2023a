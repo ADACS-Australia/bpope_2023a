{
 "cells": [
  {
   "cell_type": "markdown",
   "metadata": {},
   "source": [
    "# Doppler imaging"
   ]
  },
  {
   "cell_type": "code",
   "execution_count": null,
   "metadata": {
    "tags": [
     "hide_input"
    ]
   },
   "outputs": [],
   "source": [
    "%matplotlib inline"
   ]
  },
  {
   "cell_type": "code",
   "execution_count": null,
   "metadata": {
    "tags": [
     "hide_input"
    ]
   },
   "outputs": [],
   "source": [
    "%run notebook_setup.py"
   ]
  },
  {
   "cell_type": "code",
   "execution_count": null,
   "metadata": {},
   "outputs": [],
   "source": [
    "import starry\n",
    "\n",
    "starry.config.lazy = False\n",
    "starry.config.quiet = True"
   ]
  },
  {
   "cell_type": "code",
   "execution_count": null,
   "metadata": {},
   "outputs": [],
   "source": [
    "import numpy as np\n",
    "from starry.doppler import DopplerMap"
   ]
  },
  {
   "cell_type": "markdown",
   "metadata": {},
   "source": [
    "## Star with a grey SPOT"
   ]
  },
  {
   "cell_type": "code",
   "execution_count": null,
   "metadata": {},
   "outputs": [],
   "source": [
    "map = DopplerMap(15, nt=20, nc=1, wav1=642.75, wav2=643.25, lazy=False)\n",
    "map.inc = 60\n",
    "map.veq = 30000"
   ]
  },
  {
   "cell_type": "code",
   "execution_count": null,
   "metadata": {},
   "outputs": [],
   "source": [
    "map.load([\"spot\"], force_psd=True)\n",
    "map.spectrum = 1.0 - 0.75 * np.exp(-0.5 * (map.wavs - 643.0) ** 2 / 0.025 ** 2)"
   ]
  },
  {
   "cell_type": "code",
   "execution_count": null,
   "metadata": {},
   "outputs": [],
   "source": [
    "%%HTML\n",
    "<script>\n",
    "    var disable_wheel = function (e) {\n",
    "        e.preventDefault();\n",
    "    };\n",
    "</script>"
   ]
  },
  {
   "cell_type": "code",
   "execution_count": null,
   "metadata": {},
   "outputs": [],
   "source": [
    "map.show()"
   ]
  },
  {
   "cell_type": "markdown",
   "metadata": {},
   "source": [
    "## Star with a spatially-variable spectrum"
   ]
  },
  {
   "cell_type": "code",
   "execution_count": null,
   "metadata": {},
   "outputs": [],
   "source": [
    "map = DopplerMap(15, nt=20, nc=4)\n",
    "map.inc = 60\n",
    "map.veq = 30000"
   ]
  },
  {
   "cell_type": "code",
   "execution_count": null,
   "metadata": {},
   "outputs": [],
   "source": [
    "map.load([\"s\", \"p\", \"o\", \"t\"], force_psd=True)\n",
    "map.spectrum = (\n",
    "    1.0\n",
    "    - np.exp(\n",
    "        [\n",
    "            -0.5 * (map.wavs - map.wavs[(2 * len(map.wavs)) // 7]) ** 2 / 0.025 ** 2,\n",
    "            -0.5 * (map.wavs - map.wavs[(3 * len(map.wavs)) // 7]) ** 2 / 0.025 ** 2,\n",
    "            -0.5 * (map.wavs - map.wavs[(4 * len(map.wavs)) // 7]) ** 2 / 0.025 ** 2,\n",
    "            -0.5 * (map.wavs - map.wavs[(5 * len(map.wavs)) // 7]) ** 2 / 0.025 ** 2,\n",
    "        ]\n",
    "    ).T\n",
    ")"
   ]
  },
  {
   "cell_type": "code",
   "execution_count": null,
   "metadata": {},
   "outputs": [],
   "source": [
    "map.show()"
   ]
  }
 ],
 "metadata": {
  "celltoolbar": "Tags",
  "kernelspec": {
   "display_name": "Python 3",
   "language": "python",
   "name": "python3"
  },
  "language_info": {
   "codemirror_mode": {
    "name": "ipython",
    "version": 3
   },
   "file_extension": ".py",
   "mimetype": "text/x-python",
   "name": "python",
   "nbconvert_exporter": "python",
   "pygments_lexer": "ipython3",
   "version": "3.8.3"
  }
 },
 "nbformat": 4,
 "nbformat_minor": 4
}
