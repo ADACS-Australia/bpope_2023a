{
 "cells": [
  {
   "cell_type": "code",
   "execution_count": null,
   "metadata": {},
   "outputs": [],
   "source": [
    "%matplotlib inline"
   ]
  },
  {
   "cell_type": "code",
   "execution_count": null,
   "metadata": {},
   "outputs": [],
   "source": [
    "%run notebook_setup.py"
   ]
  },
  {
   "cell_type": "code",
   "execution_count": null,
   "metadata": {},
   "outputs": [],
   "source": [
    "import starry\n",
    "import matplotlib.pyplot as plt\n",
    "import numpy as np\n",
    "from tqdm.notebook import tqdm\n",
    "from mpl_toolkits.axes_grid1 import make_axes_locatable\n",
    "import time"
   ]
  },
  {
   "cell_type": "code",
   "execution_count": null,
   "metadata": {},
   "outputs": [],
   "source": [
    "starry.config.lazy = False\n",
    "starry.config.quiet = True"
   ]
  },
  {
   "cell_type": "markdown",
   "metadata": {},
   "source": [
    "## Error analysis"
   ]
  },
  {
   "cell_type": "code",
   "execution_count": null,
   "metadata": {},
   "outputs": [],
   "source": [
    "def get_error(ydeg=15, wta=30, **kwargs):\n",
    "\n",
    "    # Instantiate\n",
    "    map = starry.Map(ydeg, **kwargs)\n",
    "\n",
    "    # Apply the differential rotation then undo it.\n",
    "    # If the transform is one-to-one, this should yield\n",
    "    # the identity matrix.\n",
    "    wta = np.ones(map.Ny) * (wta * np.pi / 180)\n",
    "    I = map.ops.tensordotD(\n",
    "        map.ops.tensordotD(np.eye(map.Ny), wta, np.array(1.0)), -wta, np.array(1.0)\n",
    "    )\n",
    "\n",
    "    # Compute the mean difference between the diagonal and unity for each l\n",
    "    x = np.abs(1 - np.diag(I))\n",
    "    mu = np.array([np.mean(x[l ** 2 : (l + 1) ** 2]) for l in range(map.ydeg + 1)])\n",
    "\n",
    "    return mu"
   ]
  },
  {
   "cell_type": "markdown",
   "metadata": {},
   "source": [
    "### Error as a function of spherical harmonic degree"
   ]
  },
  {
   "cell_type": "code",
   "execution_count": null,
   "metadata": {},
   "outputs": [],
   "source": [
    "wta = 30\n",
    "error10 = get_error(ydeg=10, wta=wta)\n",
    "error20 = get_error(ydeg=20, wta=wta)\n",
    "error30 = get_error(ydeg=30, wta=wta)"
   ]
  },
  {
   "cell_type": "code",
   "execution_count": null,
   "metadata": {},
   "outputs": [],
   "source": [
    "plt.figure(figsize=(12, 6))\n",
    "plt.plot(error10, color=\"C0\", label=r\"$l = 10$\")\n",
    "plt.plot(error20, color=\"C1\", label=r\"$l = 20$\")\n",
    "plt.plot(error30, color=\"C2\", label=r\"$l = 30$\")\n",
    "plt.grid()\n",
    "plt.yscale(\"log\")\n",
    "plt.gca().set_yticks([1e-12, 1e-9, 1e-6, 1e-3, 1e0])\n",
    "plt.legend(loc=\"lower right\")\n",
    "plt.title(r\"$\\omega t \\alpha = 30^\\circ$\")\n",
    "plt.xlabel(\"spherical harmonic degree\")\n",
    "plt.ylabel(r\"relative error\");"
   ]
  },
  {
   "cell_type": "markdown",
   "metadata": {},
   "source": [
    "### Error as a function of $\\omega t \\alpha$"
   ]
  },
  {
   "cell_type": "code",
   "execution_count": null,
   "metadata": {},
   "outputs": [],
   "source": [
    "ydeg = 20\n",
    "wta = np.linspace(0, 180, 25)\n",
    "error = np.zeros((len(wta), ydeg + 1))\n",
    "for i, wta_i in tqdm(enumerate(wta), total=len(wta)):\n",
    "    error[i] = get_error(ydeg=ydeg, wta=wta_i)"
   ]
  },
  {
   "cell_type": "code",
   "execution_count": null,
   "metadata": {},
   "outputs": [],
   "source": [
    "plt.figure(figsize=(12, 6))\n",
    "logerror = np.log10(error)\n",
    "plt.imshow(\n",
    "    logerror, extent=(0, ydeg, 0, 180), origin=\"lower\", aspect=\"auto\", vmin=-12, vmax=0\n",
    ")\n",
    "cbar = plt.colorbar()\n",
    "cbar.set_ticks([-12, -9, -6, -3, 0])\n",
    "cbar.set_ticklabels(\n",
    "    [r\"$10^{-12}$\", r\"$10^{-9}$\", r\"$10^{-6}$\", r\"$10^{-3}$\", r\"$10^{0}$\"]\n",
    ")\n",
    "cbar.set_label(\"relative error\")\n",
    "cont = plt.contour(\n",
    "    np.arange(ydeg + 1),\n",
    "    wta,\n",
    "    logerror,\n",
    "    [-9, -6, -3, -2, -1],\n",
    "    colors=\"w\",\n",
    "    linestyles=\"solid\",\n",
    ")\n",
    "fmt = {}\n",
    "strs = [\"1 ppb\", \"1 ppm\", \"1 ppt\", \"1%\", \"10%\"]\n",
    "for l, s in zip(cont.levels, strs):\n",
    "    fmt[l] = s\n",
    "plt.clabel(cont, cont.levels, inline=True, fmt=fmt, fontsize=10)\n",
    "plt.xlabel(\"spherical harmonic degree\")\n",
    "plt.ylabel(r\"$\\omega t \\alpha$ [degrees]\")\n",
    "plt.gca().set_yticks([0, 30, 60, 90, 120, 150, 180])\n",
    "plt.gca().set_xticks([0, 5, 10, 15, 20])\n",
    "plt.gca().set_xticklabels([\"0\", \"5\", \"10\", \"15\", \"20\"]);"
   ]
  },
  {
   "cell_type": "markdown",
   "metadata": {},
   "source": [
    "### Example"
   ]
  },
  {
   "cell_type": "code",
   "execution_count": null,
   "metadata": {},
   "outputs": [],
   "source": [
    "theta = 90\n",
    "ydeg = 20\n",
    "\n",
    "map = starry.Map(ydeg)\n",
    "map.load(\"earth\", sigma=0.08)\n",
    "map.amp = 1.0\n",
    "map[ydeg - 5 :, :] = 0\n",
    "\n",
    "# Original image\n",
    "img0 = map.render(projection=\"rect\")\n",
    "\n",
    "# Differentially rotate it\n",
    "map[:, :] = map.ops.tensordotD(\n",
    "    map.y.reshape(1, -1), np.array(theta * np.pi / 180), np.array(1.0)\n",
    ")\n",
    "img1 = map.render(projection=\"rect\")\n",
    "\n",
    "# Undo the operation\n",
    "map[:, :] = map.ops.tensordotD(\n",
    "    map.y.reshape(1, -1), np.array(-theta * np.pi / 180), np.array(1.0)\n",
    ")\n",
    "img2 = map.render(projection=\"rect\")\n",
    "\n",
    "\n",
    "fig, ax = plt.subplots(2, 2, figsize=(12, 7))\n",
    "fig.subplots_adjust(hspace=0.1, wspace=0.1)\n",
    "ax = ax.flatten()\n",
    "for axis in ax:\n",
    "    axis.set_xticks([])\n",
    "    axis.set_yticks([])\n",
    "\n",
    "im = ax[0].imshow(\n",
    "    img0, origin=\"lower\", extent=(-180, 180, -90, 90), cmap=\"plasma\", vmin=0, vmax=1\n",
    ")\n",
    "cax = make_axes_locatable(ax[0]).append_axes(\"right\", size=\"5%\", pad=0.05)\n",
    "cax.axis(\"off\")\n",
    "ax[0].set_title(\"original\")\n",
    "\n",
    "im = ax[1].imshow(\n",
    "    img1, origin=\"lower\", extent=(-180, 180, -90, 90), cmap=\"plasma\", vmin=0, vmax=1\n",
    ")\n",
    "cax = make_axes_locatable(ax[1]).append_axes(\"right\", size=\"5%\", pad=0.05)\n",
    "cbar = plt.colorbar(im, ax=ax[1], cax=cax, shrink=1)\n",
    "ax[1].set_title(\"transformed\")\n",
    "\n",
    "im = ax[2].imshow(\n",
    "    img2, origin=\"lower\", extent=(-180, 180, -90, 90), cmap=\"plasma\", vmin=0, vmax=1\n",
    ")\n",
    "cax = make_axes_locatable(ax[2]).append_axes(\"right\", size=\"5%\", pad=0.05)\n",
    "cax.axis(\"off\")\n",
    "ax[2].set_title(\"reconstructed\")\n",
    "\n",
    "im = ax[3].imshow(\n",
    "    img2 - img0,\n",
    "    origin=\"lower\",\n",
    "    extent=(-180, 180, -90, 90),\n",
    "    cmap=\"RdBu\",\n",
    "    vmin=-0.05,\n",
    "    vmax=0.05,\n",
    ")\n",
    "cax = make_axes_locatable(ax[3]).append_axes(\"right\", size=\"5%\", pad=0.05)\n",
    "cbar = plt.colorbar(im, ax=ax[3], cax=cax, shrink=1)\n",
    "cbar.set_ticks([-0.05, -0.025, 0, 0.025, 0.05])\n",
    "ax[3].set_title(\"relative error\");"
   ]
  },
  {
   "cell_type": "markdown",
   "metadata": {},
   "source": [
    "## Timing tests"
   ]
  },
  {
   "cell_type": "code",
   "execution_count": null,
   "metadata": {},
   "outputs": [],
   "source": [
    "ydeg = 20\n",
    "npts = 1000\n",
    "ncalls = 10\n",
    "\n",
    "theta = np.linspace(0, 360.0, npts)\n",
    "\n",
    "t0 = np.zeros(ydeg + 1)\n",
    "tD = np.zeros(ydeg + 1)\n",
    "for d in tqdm(range(ydeg + 1)):\n",
    "    map = starry.Map(ydeg=d)\n",
    "    map.flux()  # force compile\n",
    "\n",
    "    # Standard\n",
    "    map.alpha = 0.0\n",
    "    tstart = time.time()\n",
    "    for k in range(ncalls):\n",
    "        map.flux(theta=theta)\n",
    "    t0[d] = (time.time() - tstart) / ncalls / npts\n",
    "\n",
    "    # Differentially rotated\n",
    "    map.alpha = 1.0\n",
    "    tstart = time.time()\n",
    "    for k in range(ncalls):\n",
    "        map.flux(theta=theta)\n",
    "    tD[d] = (time.time() - tstart) / ncalls / npts"
   ]
  },
  {
   "cell_type": "code",
   "execution_count": null,
   "metadata": {},
   "outputs": [],
   "source": [
    "plt.plot(t0, label=\"solid\")\n",
    "plt.plot(tD, label=\"differential\")\n",
    "\n",
    "l = np.arange(5, ydeg + 1)\n",
    "plt.plot(l, 1e-6 + 1e-9 * l ** 4, \"k-\", lw=3, ls=\"--\", alpha=0.25, label=r\"$l^4$\")\n",
    "\n",
    "plt.legend()\n",
    "plt.yscale(\"log\")\n",
    "plt.gca().set_xticks([0, 5, 10, 15, 20])\n",
    "plt.gca().set_xticklabels([\"0\", \"5\", \"10\", \"15\", \"20\"])\n",
    "plt.ylabel(\"time [s]\")\n",
    "plt.xlabel(\"spherical harmonic degree\");"
   ]
  },
  {
   "cell_type": "code",
   "execution_count": null,
   "metadata": {},
   "outputs": [],
   "source": []
  }
 ],
 "metadata": {
  "kernelspec": {
   "display_name": "Python 3",
   "language": "python",
   "name": "python3"
  },
  "language_info": {
   "codemirror_mode": {
    "name": "ipython",
    "version": 3
   },
   "file_extension": ".py",
   "mimetype": "text/x-python",
   "name": "python",
   "nbconvert_exporter": "python",
   "pygments_lexer": "ipython3",
   "version": "3.7.4"
  }
 },
 "nbformat": 4,
 "nbformat_minor": 2
}
