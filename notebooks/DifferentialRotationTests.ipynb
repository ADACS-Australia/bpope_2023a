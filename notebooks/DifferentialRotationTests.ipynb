{
 "cells": [
  {
   "cell_type": "code",
   "execution_count": null,
   "metadata": {},
   "outputs": [],
   "source": [
    "%matplotlib inline"
   ]
  },
  {
   "cell_type": "code",
   "execution_count": null,
   "metadata": {},
   "outputs": [],
   "source": [
    "%run notebook_setup.py"
   ]
  },
  {
   "cell_type": "code",
   "execution_count": null,
   "metadata": {},
   "outputs": [],
   "source": [
    "import starry\n",
    "import matplotlib.pyplot as plt\n",
    "import numpy as np\n",
    "from tqdm.notebook import tqdm\n",
    "from mpl_toolkits.axes_grid1 import make_axes_locatable\n",
    "import time\n",
    "from scipy.interpolate import interp1d"
   ]
  },
  {
   "cell_type": "code",
   "execution_count": null,
   "metadata": {},
   "outputs": [],
   "source": [
    "starry.config.lazy = False\n",
    "starry.config.quiet = True"
   ]
  },
  {
   "cell_type": "markdown",
   "metadata": {},
   "source": [
    "## Validation"
   ]
  },
  {
   "cell_type": "code",
   "execution_count": null,
   "metadata": {},
   "outputs": [],
   "source": [
    "map = starry.Map(20)\n",
    "map.load(\"earth\", sigma=0.1)\n",
    "map.amp = 1.0\n",
    "map[15:, :] = 0.0"
   ]
  },
  {
   "cell_type": "markdown",
   "metadata": {},
   "source": [
    "### Numerical"
   ]
  },
  {
   "cell_type": "code",
   "execution_count": null,
   "metadata": {},
   "outputs": [],
   "source": [
    "def diff_rotate(img, lat, lon, prot, alpha, t):\n",
    "    img_rot = np.zeros_like(img)\n",
    "    omega_eq = 360.0 / prot\n",
    "    for i, lat_i in enumerate(lat):\n",
    "        new_lon = lon[i] + omega_eq * alpha * t * np.sin(lat_i * np.pi / 180.0) ** 2\n",
    "        new_lon = ((new_lon + 180) % 360) - 180\n",
    "        func = interp1d(lon[i], img[i], fill_value=\"extrapolate\")\n",
    "        img_rot[i] = func(new_lon)\n",
    "    return img_rot"
   ]
  },
  {
   "cell_type": "code",
   "execution_count": null,
   "metadata": {},
   "outputs": [],
   "source": [
    "# Rotation params\n",
    "prot = 1.0\n",
    "alpha = 0.02\n",
    "\n",
    "# Get the image at t=0\n",
    "res = 300\n",
    "img = map.render(projection=\"rect\", res=res)\n",
    "lat, lon = map.get_latlon_grid(projection=\"rect\", res=res)\n",
    "\n",
    "# Get and plot the image at various times\n",
    "img_rot = np.zeros((9, res, res))\n",
    "fig, ax = plt.subplots(3, 3, figsize=(12, 6))\n",
    "ax = ax.flatten()\n",
    "for i, t in enumerate(np.linspace(-10, 10, len(ax))):\n",
    "    img_rot[i] = diff_rotate(img, lat, lon, prot, alpha, t)\n",
    "    ax[i].imshow(img_rot[i], origin=\"lower\", extent=(-180, 180, -90, 90), cmap=\"plasma\")\n",
    "    ax[i].set(xticks=[], yticks=[])\n",
    "    ax[i].set_ylabel(r\"${:.2f}$\".format(t), fontsize=10)"
   ]
  },
  {
   "cell_type": "markdown",
   "metadata": {},
   "source": [
    "### Analytic"
   ]
  },
  {
   "cell_type": "code",
   "execution_count": null,
   "metadata": {},
   "outputs": [],
   "source": [
    "map.alpha = alpha\n",
    "\n",
    "img_starry = np.zeros((9, res, res))\n",
    "fig, ax = plt.subplots(3, 3, figsize=(12, 6))\n",
    "ax = ax.flatten()\n",
    "for i, t in enumerate(np.linspace(-10, 10, len(ax))):\n",
    "    img_starry[i] = map.render(projection=\"rect\", res=res, theta=360.0 / prot * t)\n",
    "    ax[i].imshow(\n",
    "        img_starry[i], origin=\"lower\", extent=(-180, 180, -90, 90), cmap=\"plasma\"\n",
    "    )\n",
    "    ax[i].set(xticks=[], yticks=[])\n",
    "    ax[i].set_ylabel(r\"${:.2f}$\".format(t), fontsize=10)"
   ]
  },
  {
   "cell_type": "markdown",
   "metadata": {},
   "source": [
    "### Difference"
   ]
  },
  {
   "cell_type": "code",
   "execution_count": null,
   "metadata": {},
   "outputs": [],
   "source": [
    "diff = img_rot - img_starry\n",
    "vmin = min(np.min(diff), -np.max(diff))\n",
    "vmax = -vmin\n",
    "\n",
    "fig, ax = plt.subplots(3, 3, figsize=(12, 6))\n",
    "ax = ax.flatten()\n",
    "for i, t in enumerate(np.linspace(-10, 10, len(ax))):\n",
    "    im = ax[i].imshow(\n",
    "        diff[i],\n",
    "        origin=\"lower\",\n",
    "        extent=(-180, 180, -90, 90),\n",
    "        cmap=\"plasma\",\n",
    "        vmin=vmin,\n",
    "        vmax=vmax,\n",
    "    )\n",
    "    ax[i].set(xticks=[], yticks=[])\n",
    "    ax[i].set_ylabel(r\"${:.2f}$\".format(t), fontsize=10)\n",
    "fig.colorbar(im, cax=fig.add_axes([0.92, 0.11, 0.025, 0.77]));"
   ]
  },
  {
   "cell_type": "markdown",
   "metadata": {},
   "source": [
    "## Error analysis"
   ]
  },
  {
   "cell_type": "code",
   "execution_count": null,
   "metadata": {},
   "outputs": [],
   "source": [
    "def get_error(ydeg=15, wta=30, **kwargs):\n",
    "\n",
    "    # Instantiate\n",
    "    map = starry.Map(ydeg, **kwargs)\n",
    "\n",
    "    # Apply the differential rotation then undo it.\n",
    "    # If the transform is one-to-one, this should yield\n",
    "    # the identity matrix.\n",
    "    wta = np.ones(map.Ny) * (wta * np.pi / 180)\n",
    "    I = map.ops.tensordotD(\n",
    "        map.ops.tensordotD(np.eye(map.Ny), wta, np.array(1.0)), -wta, np.array(1.0)\n",
    "    )\n",
    "\n",
    "    # Compute the mean difference between the diagonal and unity for each l\n",
    "    x = np.abs(1 - np.diag(I))\n",
    "    mu = np.array([np.mean(x[l ** 2 : (l + 1) ** 2]) for l in range(map.ydeg + 1)])\n",
    "\n",
    "    return mu"
   ]
  },
  {
   "cell_type": "markdown",
   "metadata": {},
   "source": [
    "### Error as a function of spherical harmonic degree"
   ]
  },
  {
   "cell_type": "code",
   "execution_count": null,
   "metadata": {},
   "outputs": [],
   "source": [
    "wta = 30\n",
    "error10 = get_error(ydeg=10, wta=wta)\n",
    "error20 = get_error(ydeg=20, wta=wta)\n",
    "error30 = get_error(ydeg=30, wta=wta)"
   ]
  },
  {
   "cell_type": "code",
   "execution_count": null,
   "metadata": {},
   "outputs": [],
   "source": [
    "plt.figure(figsize=(12, 6))\n",
    "plt.plot(error10, color=\"C0\", label=r\"$l = 10$\")\n",
    "plt.plot(error20, color=\"C1\", label=r\"$l = 20$\")\n",
    "plt.plot(error30, color=\"C2\", label=r\"$l = 30$\")\n",
    "plt.grid()\n",
    "plt.yscale(\"log\")\n",
    "plt.gca().set_yticks([1e-12, 1e-9, 1e-6, 1e-3, 1e0])\n",
    "plt.legend(loc=\"lower right\")\n",
    "plt.title(r\"$\\omega t \\alpha = 30^\\circ$\")\n",
    "plt.xlabel(\"spherical harmonic degree\")\n",
    "plt.ylabel(r\"relative error\");"
   ]
  },
  {
   "cell_type": "markdown",
   "metadata": {},
   "source": [
    "### Error as a function of $\\omega t \\alpha$"
   ]
  },
  {
   "cell_type": "code",
   "execution_count": null,
   "metadata": {},
   "outputs": [],
   "source": [
    "ydeg = 20\n",
    "wta = np.linspace(0, 180, 25)\n",
    "error = np.zeros((len(wta), ydeg + 1))\n",
    "for i, wta_i in tqdm(enumerate(wta), total=len(wta)):\n",
    "    error[i] = get_error(ydeg=ydeg, wta=wta_i)"
   ]
  },
  {
   "cell_type": "code",
   "execution_count": null,
   "metadata": {},
   "outputs": [],
   "source": [
    "plt.figure(figsize=(12, 6))\n",
    "logerror = np.log10(error)\n",
    "plt.imshow(\n",
    "    logerror, extent=(0, ydeg, 0, 180), origin=\"lower\", aspect=\"auto\", vmin=-12, vmax=0\n",
    ")\n",
    "cbar = plt.colorbar()\n",
    "cbar.set_ticks([-12, -9, -6, -3, 0])\n",
    "cbar.set_ticklabels(\n",
    "    [r\"$10^{-12}$\", r\"$10^{-9}$\", r\"$10^{-6}$\", r\"$10^{-3}$\", r\"$10^{0}$\"]\n",
    ")\n",
    "cbar.set_label(\"relative error\")\n",
    "cont = plt.contour(\n",
    "    np.arange(ydeg + 1),\n",
    "    wta,\n",
    "    logerror,\n",
    "    [-9, -6, -3, -2, -1],\n",
    "    colors=\"w\",\n",
    "    linestyles=\"solid\",\n",
    ")\n",
    "fmt = {}\n",
    "strs = [\"1 ppb\", \"1 ppm\", \"1 ppt\", \"1%\", \"10%\"]\n",
    "for l, s in zip(cont.levels, strs):\n",
    "    fmt[l] = s\n",
    "plt.clabel(cont, cont.levels, inline=True, fmt=fmt, fontsize=10)\n",
    "plt.xlabel(\"spherical harmonic degree\")\n",
    "plt.ylabel(r\"$\\omega t \\alpha$ [degrees]\")\n",
    "plt.gca().set_yticks([0, 30, 60, 90, 120, 150, 180])\n",
    "plt.gca().set_xticks([0, 5, 10, 15, 20])\n",
    "plt.gca().set_xticklabels([\"0\", \"5\", \"10\", \"15\", \"20\"]);"
   ]
  },
  {
   "cell_type": "markdown",
   "metadata": {},
   "source": [
    "### Example"
   ]
  },
  {
   "cell_type": "code",
   "execution_count": null,
   "metadata": {},
   "outputs": [],
   "source": [
    "theta = 90\n",
    "ydeg = 20\n",
    "\n",
    "map = starry.Map(ydeg)\n",
    "map.load(\"earth\", sigma=0.08)\n",
    "map.amp = 1.0\n",
    "map[ydeg - 5 :, :] = 0\n",
    "\n",
    "# Original image\n",
    "img0 = map.render(projection=\"rect\")\n",
    "\n",
    "# Differentially rotate it\n",
    "map[:, :] = map.ops.tensordotD(\n",
    "    map.y.reshape(1, -1), np.array(theta * np.pi / 180), np.array(1.0)\n",
    ")\n",
    "img1 = map.render(projection=\"rect\")\n",
    "\n",
    "# Undo the operation\n",
    "map[:, :] = map.ops.tensordotD(\n",
    "    map.y.reshape(1, -1), np.array(-theta * np.pi / 180), np.array(1.0)\n",
    ")\n",
    "img2 = map.render(projection=\"rect\")\n",
    "\n",
    "\n",
    "fig, ax = plt.subplots(2, 2, figsize=(12, 7))\n",
    "fig.subplots_adjust(hspace=0.1, wspace=0.1)\n",
    "ax = ax.flatten()\n",
    "for axis in ax:\n",
    "    axis.set_xticks([])\n",
    "    axis.set_yticks([])\n",
    "\n",
    "im = ax[0].imshow(\n",
    "    img0, origin=\"lower\", extent=(-180, 180, -90, 90), cmap=\"plasma\", vmin=0, vmax=1\n",
    ")\n",
    "cax = make_axes_locatable(ax[0]).append_axes(\"right\", size=\"5%\", pad=0.05)\n",
    "cax.axis(\"off\")\n",
    "ax[0].set_title(\"original\")\n",
    "\n",
    "im = ax[1].imshow(\n",
    "    img1, origin=\"lower\", extent=(-180, 180, -90, 90), cmap=\"plasma\", vmin=0, vmax=1\n",
    ")\n",
    "cax = make_axes_locatable(ax[1]).append_axes(\"right\", size=\"5%\", pad=0.05)\n",
    "cbar = plt.colorbar(im, ax=ax[1], cax=cax, shrink=1)\n",
    "ax[1].set_title(\"transformed\")\n",
    "\n",
    "im = ax[2].imshow(\n",
    "    img2, origin=\"lower\", extent=(-180, 180, -90, 90), cmap=\"plasma\", vmin=0, vmax=1\n",
    ")\n",
    "cax = make_axes_locatable(ax[2]).append_axes(\"right\", size=\"5%\", pad=0.05)\n",
    "cax.axis(\"off\")\n",
    "ax[2].set_title(\"reconstructed\")\n",
    "\n",
    "im = ax[3].imshow(\n",
    "    img2 - img0,\n",
    "    origin=\"lower\",\n",
    "    extent=(-180, 180, -90, 90),\n",
    "    cmap=\"RdBu\",\n",
    "    vmin=-0.05,\n",
    "    vmax=0.05,\n",
    ")\n",
    "cax = make_axes_locatable(ax[3]).append_axes(\"right\", size=\"5%\", pad=0.05)\n",
    "cbar = plt.colorbar(im, ax=ax[3], cax=cax, shrink=1)\n",
    "cbar.set_ticks([-0.05, -0.025, 0, 0.025, 0.05])\n",
    "ax[3].set_title(\"relative error\");"
   ]
  },
  {
   "cell_type": "markdown",
   "metadata": {},
   "source": [
    "## Timing tests"
   ]
  },
  {
   "cell_type": "code",
   "execution_count": null,
   "metadata": {},
   "outputs": [],
   "source": [
    "ydeg = 20\n",
    "npts = 1000\n",
    "ncalls = 10\n",
    "\n",
    "theta = np.linspace(0, 360.0, npts)\n",
    "\n",
    "t0 = np.zeros(ydeg + 1)\n",
    "tD = np.zeros(ydeg + 1)\n",
    "for d in tqdm(range(ydeg + 1)):\n",
    "    map = starry.Map(ydeg=d)\n",
    "    map.flux()  # force compile\n",
    "\n",
    "    # Standard\n",
    "    map.alpha = 0.0\n",
    "    tstart = time.time()\n",
    "    for k in range(ncalls):\n",
    "        map.flux(theta=theta)\n",
    "    t0[d] = (time.time() - tstart) / ncalls / npts\n",
    "\n",
    "    # Differentially rotated\n",
    "    map.alpha = 1.0\n",
    "    tstart = time.time()\n",
    "    for k in range(ncalls):\n",
    "        map.flux(theta=theta)\n",
    "    tD[d] = (time.time() - tstart) / ncalls / npts"
   ]
  },
  {
   "cell_type": "code",
   "execution_count": null,
   "metadata": {},
   "outputs": [],
   "source": [
    "plt.plot(t0, label=\"solid\")\n",
    "plt.plot(tD, label=\"differential\")\n",
    "\n",
    "l = np.arange(5, ydeg + 1)\n",
    "plt.plot(l, 1e-6 + 1e-9 * l ** 4, \"k-\", lw=3, ls=\"--\", alpha=0.25, label=r\"$l^4$\")\n",
    "\n",
    "plt.legend()\n",
    "plt.yscale(\"log\")\n",
    "plt.gca().set_xticks([0, 5, 10, 15, 20])\n",
    "plt.gca().set_xticklabels([\"0\", \"5\", \"10\", \"15\", \"20\"])\n",
    "plt.ylabel(\"time [s]\")\n",
    "plt.xlabel(\"spherical harmonic degree\");"
   ]
  },
  {
   "cell_type": "markdown",
   "metadata": {},
   "source": [
    "## Light curves"
   ]
  },
  {
   "cell_type": "markdown",
   "metadata": {},
   "source": [
    "### With `starry`"
   ]
  },
  {
   "cell_type": "code",
   "execution_count": null,
   "metadata": {},
   "outputs": [],
   "source": [
    "# Generate a random isotropic l=20 map up to l=15\n",
    "ydeg_max = 20\n",
    "ydeg_tru = 15\n",
    "\n",
    "map = starry.Map(ydeg_max)\n",
    "power = 5e-3\n",
    "np.random.seed(3)\n",
    "for l in range(1, ydeg_tru + 1):\n",
    "    map[l, :] = np.random.randn(2 * l + 1) * np.sqrt(power / (2 * l + 1))\n",
    "map.show(projection=\"moll\", colorbar=True)"
   ]
  },
  {
   "cell_type": "code",
   "execution_count": null,
   "metadata": {},
   "outputs": [],
   "source": [
    "ls = range(ydeg_tru + 1)\n",
    "plt.plot(ls, [np.var(map[l, :]) for l in ls], label=\"empirical\")\n",
    "plt.plot(ls[1:], [power / (2 * l + 1) for l in ls[1:]], label=\"specified\")\n",
    "plt.legend()\n",
    "plt.xlabel(\"spherical harmonic degree\")\n",
    "plt.ylabel(\"power\");"
   ]
  },
  {
   "cell_type": "code",
   "execution_count": null,
   "metadata": {},
   "outputs": [],
   "source": [
    "prot = 1.0\n",
    "alpha = 0.02\n",
    "inc = 75\n",
    "\n",
    "map.alpha = alpha\n",
    "map.inc = inc"
   ]
  },
  {
   "cell_type": "code",
   "execution_count": null,
   "metadata": {},
   "outputs": [],
   "source": [
    "fig, ax = plt.subplots(3, 3, figsize=(12, 6))\n",
    "ax = ax.flatten()\n",
    "for i, t in enumerate(np.linspace(-10, 10, len(ax))):\n",
    "    map.show(ax=ax[i], projection=\"moll\", res=res, theta=360.0 / prot * t)"
   ]
  },
  {
   "cell_type": "code",
   "execution_count": null,
   "metadata": {},
   "outputs": [],
   "source": [
    "t = np.linspace(-10.0, 10.0, 1000)\n",
    "theta = 360.0 / prot * t\n",
    "flux_starry = map.flux(theta=theta)"
   ]
  },
  {
   "cell_type": "code",
   "execution_count": null,
   "metadata": {},
   "outputs": [],
   "source": [
    "plt.plot(t, flux_starry)\n",
    "plt.xlabel(\"time [rotations]\")\n",
    "plt.ylabel(\"flux [arbitrary units]\");"
   ]
  },
  {
   "cell_type": "markdown",
   "metadata": {},
   "source": [
    "### Numerically"
   ]
  },
  {
   "cell_type": "code",
   "execution_count": null,
   "metadata": {},
   "outputs": [],
   "source": [
    "def get_flux_num(map, theta, res=999):\n",
    "\n",
    "    # Render the image at theta=0\n",
    "    img = map.render(projection=\"moll\", res=res)\n",
    "    lat, lon = map.get_latlon_grid(projection=\"moll\", res=res)\n",
    "\n",
    "    # Convert everything to radians\n",
    "    theta = np.array(theta) * np.pi / 180\n",
    "    lat *= np.pi / 180\n",
    "    lon *= np.pi / 180\n",
    "\n",
    "    # y-z rotation matrix to observer frame\n",
    "    ang = (90 - map.inc) * np.pi / 180\n",
    "    R = np.array([[np.cos(ang), -np.sin(ang)], [np.sin(ang), np.cos(ang)]])\n",
    "\n",
    "    # Loop through the timeseries\n",
    "    flux_num = np.zeros_like(theta)\n",
    "    for k in tqdm(range(len(theta))):\n",
    "\n",
    "        # Compute the longitude, relative to the sub-observer point\n",
    "        new_lon = np.empty_like(lon)\n",
    "        for i, lat_i in enumerate(lat):\n",
    "            new_lon[i] = lon[i] + theta[k] * (1 - map.alpha * np.sin(lat_i) ** 2)\n",
    "            new_lon[i] = ((new_lon[i] + np.pi) % (2 * np.pi)) - np.pi\n",
    "\n",
    "        # Convert to Cartesian in the equatorial frame\n",
    "        y = np.sin(lat.flat)\n",
    "        x = np.cos(lat.flat) * np.sin(new_lon.flat)\n",
    "        z = np.cos(lat.flat) * np.cos(new_lon.flat)\n",
    "\n",
    "        # Rotate to the observer frame\n",
    "        y, z = R.dot(np.vstack((y, z)))\n",
    "\n",
    "        # Sum up observer-facing pixels, weighted by\n",
    "        # the cosine of the viewing angle (= z)\n",
    "        flux_num[k] = np.sum(z[z > 0] * img.flat[z > 0]) * (2 * np.pi / len(z[z > 0]))\n",
    "\n",
    "    return flux_num"
   ]
  },
  {
   "cell_type": "code",
   "execution_count": null,
   "metadata": {},
   "outputs": [],
   "source": [
    "map.alpha = 0.0\n",
    "theta_0 = np.linspace(0, 360.0, 100)\n",
    "flux_starry_0 = map.flux(theta=theta_0)\n",
    "flux_num_0 = get_flux_num(map, theta_0)"
   ]
  },
  {
   "cell_type": "code",
   "execution_count": null,
   "metadata": {},
   "outputs": [],
   "source": [
    "fig, ax = plt.subplots(2, figsize=(12, 6))\n",
    "ax[0].plot(theta_0, flux_starry_0, lw=3, label=\"starry\")\n",
    "ax[0].plot(theta_0, flux_num_0, lw=2, label=\"numerical\")\n",
    "ax[0].legend()\n",
    "ax[0].set_ylabel(\"flux [arbitrary units]\")\n",
    "\n",
    "diff = (flux_starry_0 - flux_num_0) * 1e6\n",
    "ax[1].plot(theta_0, diff, \"k.\", ms=3)\n",
    "ax[1].axhline(np.mean(diff), ls=\"-\", lw=1, alpha=0.5)\n",
    "ax[1].axhline(np.mean(diff) + np.std(diff), ls=\"--\", lw=1, alpha=0.5)\n",
    "ax[1].axhline(np.mean(diff) - np.std(diff), ls=\"--\", lw=1, alpha=0.5)\n",
    "ax[1].set_xlabel(\"angle of rotation\")\n",
    "ax[1].set_ylabel(\"residuals (ppm)\");"
   ]
  },
  {
   "cell_type": "code",
   "execution_count": null,
   "metadata": {},
   "outputs": [],
   "source": [
    "map.alpha = alpha\n",
    "t = np.linspace(-10.0, 10.0, 1000)\n",
    "theta = 360.0 / prot * t\n",
    "flux_starry = map.flux(theta=theta)\n",
    "flux_num = get_flux_num(map, theta)"
   ]
  },
  {
   "cell_type": "code",
   "execution_count": null,
   "metadata": {},
   "outputs": [],
   "source": [
    "fig, ax = plt.subplots(2, figsize=(12, 6))\n",
    "ax[0].plot(t, flux_starry, lw=3, label=\"starry\")\n",
    "ax[0].plot(t, flux_num, lw=2, label=\"numerical\")\n",
    "ax[0].legend()\n",
    "ax[0].set_ylabel(\"flux [arbitrary units]\")\n",
    "\n",
    "diff = (flux_starry - flux_num) * 1e6\n",
    "ax[1].plot(t, diff, \"k.\", ms=3)\n",
    "ax[1].axhline(np.mean(diff), ls=\"-\", lw=1, alpha=0.5)\n",
    "ax[1].axhline(np.mean(diff) + np.std(diff), ls=\"--\", lw=1, alpha=0.5)\n",
    "ax[1].axhline(np.mean(diff) - np.std(diff), ls=\"--\", lw=1, alpha=0.5)\n",
    "ax[1].set_xlabel(\"time [rotations]\")\n",
    "ax[1].set_ylabel(\"residuals (ppm)\");"
   ]
  },
  {
   "cell_type": "code",
   "execution_count": null,
   "metadata": {},
   "outputs": [],
   "source": [
    "dt = 50\n",
    "std = np.array([np.std(diff[i : i + dt]) for i in range(len(t) - dt)])\n",
    "plt.plot(t[:-dt], std, label=\"estimated\")\n",
    "plt.plot(t[:-dt], std - np.min(std), \"k\", lw=1, label=\"corrected\")\n",
    "plt.fill_between(t[:-dt], std - np.min(std), std, alpha=0.05)\n",
    "plt.legend()\n",
    "plt.xlabel(\"time [rotations]\")\n",
    "plt.ylabel(\"error [ppm]\");"
   ]
  },
  {
   "cell_type": "markdown",
   "metadata": {},
   "source": [
    "### Inference"
   ]
  },
  {
   "cell_type": "code",
   "execution_count": null,
   "metadata": {},
   "outputs": [],
   "source": [
    "ferr = 1e-4\n",
    "flux0 = map.flux(theta=theta)\n",
    "flux = flux0 + ferr * np.random.randn(len(flux0))"
   ]
  },
  {
   "cell_type": "code",
   "execution_count": null,
   "metadata": {},
   "outputs": [],
   "source": [
    "plt.plot(t, flux, \"k.\", ms=5, alpha=0.5)\n",
    "plt.plot(t, flux0, \"C0\", lw=1)\n",
    "plt.xlabel(\"time [rotations]\")\n",
    "plt.ylabel(\"flux [arbitrary units]\");"
   ]
  },
  {
   "cell_type": "code",
   "execution_count": null,
   "metadata": {},
   "outputs": [],
   "source": [
    "map = starry.Map(ydeg_tru)\n",
    "map.inc = 75"
   ]
  },
  {
   "cell_type": "code",
   "execution_count": null,
   "metadata": {},
   "outputs": [],
   "source": [
    "L = np.concatenate(\n",
    "    [np.ones(2 * l + 1) * power / (2 * l + 1) for l in range(ydeg_tru + 1)]\n",
    ")"
   ]
  },
  {
   "cell_type": "code",
   "execution_count": null,
   "metadata": {},
   "outputs": [],
   "source": [
    "map.set_data(flux, C=ferr ** 2)"
   ]
  },
  {
   "cell_type": "code",
   "execution_count": null,
   "metadata": {},
   "outputs": [],
   "source": [
    "map.set_prior(L=L)"
   ]
  },
  {
   "cell_type": "code",
   "execution_count": null,
   "metadata": {},
   "outputs": [],
   "source": [
    "alpha_arr = np.linspace(0.01, 0.03, 300)\n",
    "lnlike = np.zeros_like(alpha_arr)\n",
    "for i, alpha in tqdm(enumerate(alpha_arr), total=len(alpha_arr)):\n",
    "    map.alpha = alpha\n",
    "    lnlike[i] = map.lnlike(theta=theta)"
   ]
  },
  {
   "cell_type": "code",
   "execution_count": null,
   "metadata": {},
   "outputs": [],
   "source": [
    "like = np.exp(lnlike - np.max(lnlike))"
   ]
  },
  {
   "cell_type": "code",
   "execution_count": null,
   "metadata": {},
   "outputs": [],
   "source": [
    "plt.plot(alpha_arr, like)\n",
    "plt.axvline(0.02, color=\"C1\")\n",
    "plt.xlabel(\"differential shear\")\n",
    "plt.ylabel(\"likelihood\");"
   ]
  }
 ],
 "metadata": {
  "kernelspec": {
   "display_name": "Python 3",
   "language": "python",
   "name": "python3"
  },
  "language_info": {
   "codemirror_mode": {
    "name": "ipython",
    "version": 3
   },
   "file_extension": ".py",
   "mimetype": "text/x-python",
   "name": "python",
   "nbconvert_exporter": "python",
   "pygments_lexer": "ipython3",
   "version": "3.7.4"
  }
 },
 "nbformat": 4,
 "nbformat_minor": 2
}
