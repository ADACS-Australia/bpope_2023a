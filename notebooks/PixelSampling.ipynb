{
 "cells": [
  {
   "cell_type": "markdown",
   "metadata": {},
   "source": [
    "# Pixel sampling"
   ]
  },
  {
   "cell_type": "raw",
   "metadata": {
    "raw_mimetype": "text/restructuredtext"
   },
   "source": [
    ".. warning::\n",
    "\n",
    "    Everything in this notebook is experimental and subject to change!"
   ]
  },
  {
   "cell_type": "code",
   "execution_count": null,
   "metadata": {
    "tags": [
     "hide_input"
    ]
   },
   "outputs": [],
   "source": [
    "%matplotlib inline"
   ]
  },
  {
   "cell_type": "code",
   "execution_count": null,
   "metadata": {
    "tags": [
     "hide_input"
    ]
   },
   "outputs": [],
   "source": [
    "%run notebook_setup.py"
   ]
  },
  {
   "cell_type": "code",
   "execution_count": null,
   "metadata": {},
   "outputs": [],
   "source": [
    "import starry\n",
    "import numpy as np\n",
    "import matplotlib.pyplot as plt\n",
    "from matplotlib import colors\n",
    "import pymc3 as pm\n",
    "import exoplanet\n",
    "import theano\n",
    "import theano.tensor as tt\n",
    "\n",
    "starry.config.lazy = True\n",
    "starry.config.quiet = True\n",
    "cmap = plt.get_cmap(\"plasma\")\n",
    "cmap.set_under(\"#333333\")\n",
    "cmap.set_over(\"w\")\n",
    "cnorm = lambda: colors.Normalize(vmin=0.0)"
   ]
  },
  {
   "cell_type": "markdown",
   "metadata": {},
   "source": [
    "## Mock data"
   ]
  },
  {
   "cell_type": "markdown",
   "metadata": {},
   "source": [
    "### Mock surface map"
   ]
  },
  {
   "cell_type": "code",
   "execution_count": null,
   "metadata": {},
   "outputs": [],
   "source": [
    "# Params\n",
    "ydeg_tru = 20\n",
    "ydeg_inf = 10\n",
    "inc = 85"
   ]
  },
  {
   "cell_type": "code",
   "execution_count": null,
   "metadata": {},
   "outputs": [],
   "source": [
    "map_tru = starry.Map(ydeg_tru, inc=inc)\n",
    "map_tru.add_spot(amp=-0.03, relative=False, sigma=0.05, lat=30, lon=0)\n",
    "map_tru.add_spot(amp=-0.06, relative=False, sigma=0.1, lat=-20, lon=60)\n",
    "map_tru.add_spot(amp=-0.03, relative=False, sigma=0.05, lat=10, lon=150)\n",
    "map_tru.add_spot(amp=-0.03, relative=False, sigma=0.05, lat=60, lon=-90)\n",
    "map_tru.add_spot(amp=-0.025, relative=False, sigma=0.04, lat=-30, lon=-90)\n",
    "map_tru.add_spot(amp=-0.025, relative=False, sigma=0.04, lat=0, lon=-150)\n",
    "map_tru.amp = 1.0\n",
    "y0 = np.array(map_tru.y.eval())\n",
    "map_tru.show(projection=\"moll\", colorbar=True, norm=cnorm(), cmap=cmap)"
   ]
  },
  {
   "cell_type": "markdown",
   "metadata": {},
   "source": [
    "### Mock light curve"
   ]
  },
  {
   "cell_type": "code",
   "execution_count": null,
   "metadata": {},
   "outputs": [],
   "source": [
    "# Params\n",
    "prot = 1.0 / 7.0\n",
    "bo = [-0.5, 0.25, 0.75, 0.5]\n",
    "ro = [0.5, 0.75, 0.3, 0.2]\n",
    "time = np.linspace(0, 1, 1000)\n",
    "theta = (360.0 * time / prot).reshape(len(ro), -1)\n",
    "X_tru = np.vstack(\n",
    "    [\n",
    "        map_tru.design_matrix(\n",
    "            theta=theta[i],\n",
    "            xo=np.linspace(-1 - ro[i], 1 + ro[i], len(theta[i])),\n",
    "            yo=bo[i],\n",
    "            ro=ro[i],\n",
    "        ).eval()\n",
    "        for i in range(4)\n",
    "    ]\n",
    ")"
   ]
  },
  {
   "cell_type": "code",
   "execution_count": null,
   "metadata": {},
   "outputs": [],
   "source": [
    "# Generate the light curve\n",
    "flux_tru = X_tru.dot(y0)\n",
    "\n",
    "# Add noise\n",
    "np.random.seed(0)\n",
    "ferr_tru = 1e-3\n",
    "flux = flux_tru + ferr_tru * np.random.randn(len(flux_tru))\n",
    "\n",
    "# Normalize\n",
    "norm = np.nanmedian(flux)\n",
    "flux = flux / norm\n",
    "ferr = ferr_tru / norm\n",
    "\n",
    "# Plot\n",
    "plt.plot(time, flux, \"k.\", alpha=0.3, label=\"observed\")\n",
    "plt.plot(time, flux_tru / norm, \"C0\", label=\"true\")\n",
    "plt.legend()\n",
    "plt.xlabel(\"time\")\n",
    "plt.ylabel(\"flux\");"
   ]
  },
  {
   "cell_type": "markdown",
   "metadata": {},
   "source": [
    "## Inference"
   ]
  },
  {
   "cell_type": "markdown",
   "metadata": {},
   "source": [
    "Pre-compute some linear operators:"
   ]
  },
  {
   "cell_type": "code",
   "execution_count": null,
   "metadata": {},
   "outputs": [],
   "source": [
    "map_inf = starry.Map(ydeg_inf, inc=inc)\n",
    "X_inf = X_tru[:, : (ydeg_inf + 1) ** 2]\n",
    "lat, lon, Y2P, P2Y, Dx, Dy = map_inf.get_pixel_transforms(oversample=4)\n",
    "npix = lat.shape[0]"
   ]
  },
  {
   "cell_type": "markdown",
   "metadata": {},
   "source": [
    "Define a function to compare the result to the true map:"
   ]
  },
  {
   "cell_type": "code",
   "execution_count": null,
   "metadata": {},
   "outputs": [],
   "source": [
    "def plot(y, amp, flux_model):\n",
    "\n",
    "    fig = plt.figure(figsize=(8, 8))\n",
    "    fig.subplots_adjust(wspace=0.15)\n",
    "    ax = [\n",
    "        plt.subplot2grid((3, 2), (0, 0), colspan=1, rowspan=1),\n",
    "        plt.subplot2grid((3, 2), (0, 1), colspan=1, rowspan=1),\n",
    "        plt.subplot2grid((3, 2), (1, 0), colspan=2, rowspan=1),\n",
    "        plt.subplot2grid((3, 2), (2, 0), colspan=2, rowspan=1),\n",
    "    ]\n",
    "\n",
    "    # Show the true map\n",
    "    map_tru.show(\n",
    "        ax=ax[0], projection=\"moll\", colorbar=True, norm=cnorm(), cmap=cmap,\n",
    "    )\n",
    "\n",
    "    # Show the inferred map\n",
    "    map_inf.amp = amp\n",
    "    map_inf[1:, :] = y[1:]\n",
    "    map_inf.show(\n",
    "        ax=ax[1], projection=\"moll\", colorbar=True, norm=cnorm(), cmap=cmap,\n",
    "    )\n",
    "\n",
    "    # Show the flux model\n",
    "    ax[2].plot(time, flux, \"k.\", alpha=0.3, label=\"observed\")\n",
    "    ax[2].plot(time, flux_model, \"C1\", label=\"model\")\n",
    "    ax[2].legend(fontsize=10, loc=\"lower right\")\n",
    "    ax[2].set_xlabel(\"time\")\n",
    "    ax[2].set_ylabel(\"flux\")\n",
    "\n",
    "    # Show the pixel distributions\n",
    "    pix_tru = map_tru.render(projection=\"moll\").eval().flatten()\n",
    "    pix_tru /= np.nanmax(pix_tru)\n",
    "    pix_tmp = map_inf.render(projection=\"moll\").eval().flatten()\n",
    "    pix_tmp /= np.nanmax(pix_tmp)\n",
    "    ax[3].hist(pix_tru, bins=50, alpha=0.5, label=\"true\")\n",
    "    ax[3].hist(pix_tmp, bins=50, alpha=0.5, label=\"inferred\")\n",
    "    ax[3].legend()\n",
    "    ax[3].set_yticks([])\n",
    "    ax[3].set_ylabel(\"pixels\")\n",
    "    ax[3].set_xlabel(\"intensity\");"
   ]
  },
  {
   "cell_type": "markdown",
   "metadata": {},
   "source": [
    "### L2 inference"
   ]
  },
  {
   "cell_type": "code",
   "execution_count": null,
   "metadata": {},
   "outputs": [],
   "source": [
    "map_inf.set_data(flux, C=ferr ** 2)\n",
    "map_inf.set_prior(L=1e-2)\n",
    "map_inf.solve(design_matrix=X_inf)\n",
    "y_L2 = np.array(map_inf.y.eval())\n",
    "amp_L2 = map_inf.amp.eval()\n",
    "flux_L2 = amp_L2 * X_inf.dot(y_L2)"
   ]
  },
  {
   "cell_type": "code",
   "execution_count": null,
   "metadata": {},
   "outputs": [],
   "source": [
    "plot(y_L2, amp_L2, flux_L2)"
   ]
  },
  {
   "cell_type": "markdown",
   "metadata": {},
   "source": [
    "### Pixel inference w/ uniform prior"
   ]
  },
  {
   "cell_type": "code",
   "execution_count": null,
   "metadata": {},
   "outputs": [],
   "source": [
    "with pm.Model(theano_config=dict(compute_test_value=\"ignore\")) as model:\n",
    "\n",
    "    # Uniform prior on the *pixels*\n",
    "    p = pm.Uniform(\"p\", lower=0.0, upper=1.0, shape=(npix,))\n",
    "    x = tt.dot(P2Y, p)\n",
    "\n",
    "    # Compute the flux\n",
    "    flux_model = tt.dot(X_inf, x)\n",
    "    pm.Deterministic(\"flux_model\", flux_model)\n",
    "    flux_model_guess = exoplanet.eval_in_model(flux_model)\n",
    "\n",
    "    # Store the Ylm coeffs\n",
    "    pm.Deterministic(\"amp\", x[0])\n",
    "    pm.Deterministic(\"y\", x / x[0])\n",
    "\n",
    "    # The likelihood function assuming known Gaussian uncertainty\n",
    "    pm.Normal(\"obs\", mu=flux_model, sd=ferr, observed=flux)"
   ]
  },
  {
   "cell_type": "code",
   "execution_count": null,
   "metadata": {},
   "outputs": [],
   "source": [
    "with model:\n",
    "    soln = exoplanet.optimize(options=dict(maxiter=9999))\n",
    "    y_pix = np.array(soln[\"y\"])\n",
    "    amp_pix = soln[\"amp\"]\n",
    "    flux_pix = soln[\"flux_model\"]"
   ]
  },
  {
   "cell_type": "code",
   "execution_count": null,
   "metadata": {},
   "outputs": [],
   "source": [
    "plot(y_pix, amp_pix, flux_pix)"
   ]
  },
  {
   "cell_type": "markdown",
   "metadata": {},
   "source": [
    "## Pixel inference w/ Beta prior"
   ]
  },
  {
   "cell_type": "code",
   "execution_count": null,
   "metadata": {},
   "outputs": [],
   "source": [
    "with pm.Model(theano_config=dict(compute_test_value=\"ignore\")) as model:\n",
    "\n",
    "    # Beta prior on the *pixels*\n",
    "    p = pm.Beta(\"p\", alpha=0.5, beta=0.5, shape=(npix,))\n",
    "    norm = pm.Normal(\"norm\", mu=0.5, sd=0.25)\n",
    "    x = norm * tt.dot(P2Y, p)\n",
    "\n",
    "    # Compute the flux\n",
    "    flux_model = tt.dot(X_inf, x)\n",
    "    pm.Deterministic(\"flux_model\", flux_model)\n",
    "    flux_model_guess = exoplanet.eval_in_model(flux_model)\n",
    "\n",
    "    # Store the Ylm coeffs\n",
    "    pm.Deterministic(\"amp\", x[0])\n",
    "    pm.Deterministic(\"y\", x / x[0])\n",
    "\n",
    "    # The likelihood function assuming known Gaussian uncertainty\n",
    "    pm.Normal(\"obs\", mu=flux_model, sd=ferr, observed=flux)"
   ]
  },
  {
   "cell_type": "code",
   "execution_count": null,
   "metadata": {},
   "outputs": [],
   "source": [
    "with model:\n",
    "    soln = exoplanet.optimize(options=dict(maxiter=9999))\n",
    "    y_beta = np.array(soln[\"y\"])\n",
    "    amp_beta = soln[\"amp\"]\n",
    "    flux_beta = soln[\"flux_model\"]"
   ]
  },
  {
   "cell_type": "code",
   "execution_count": null,
   "metadata": {},
   "outputs": [],
   "source": [
    "plot(y_beta, amp_beta, flux_beta)"
   ]
  },
  {
   "cell_type": "markdown",
   "metadata": {},
   "source": [
    "## Pixel inference w/ TV prior"
   ]
  },
  {
   "cell_type": "code",
   "execution_count": null,
   "metadata": {},
   "outputs": [],
   "source": [
    "with pm.Model(theano_config=dict(compute_test_value=\"ignore\")) as model:\n",
    "\n",
    "    # Uniform prior on the *pixels*\n",
    "    p = pm.Uniform(\"p\", lower=0.0, upper=1.0, shape=(npix,))\n",
    "    x = tt.dot(P2Y, p)\n",
    "\n",
    "    # Apply the TV penalty\n",
    "    # TODO: marginalize over theta w/ a suitable prior?\n",
    "    theta = 0.05\n",
    "    TV = tt.sum(tt.abs_(tt.dot(Dx, p)) + tt.abs_(tt.dot(Dy, p)))\n",
    "    pm.Potential(\"TV\", -TV / theta)\n",
    "\n",
    "    # Compute the flux\n",
    "    flux_model = tt.dot(X_inf, x)\n",
    "    pm.Deterministic(\"flux_model\", flux_model)\n",
    "    flux_model_guess = exoplanet.eval_in_model(flux_model)\n",
    "\n",
    "    # Store the Ylm coeffs\n",
    "    pm.Deterministic(\"amp\", x[0])\n",
    "    pm.Deterministic(\"y\", x / x[0])\n",
    "\n",
    "    # The likelihood function assuming known Gaussian uncertainty\n",
    "    pm.Normal(\"obs\", mu=flux_model, sd=ferr, observed=flux)"
   ]
  },
  {
   "cell_type": "code",
   "execution_count": null,
   "metadata": {},
   "outputs": [],
   "source": [
    "with model:\n",
    "    soln = exoplanet.optimize(options=dict(maxiter=9999))\n",
    "    y_tv = np.array(soln[\"y\"])\n",
    "    amp_tv = soln[\"amp\"]\n",
    "    flux_tv = soln[\"flux_model\"]"
   ]
  },
  {
   "cell_type": "code",
   "execution_count": null,
   "metadata": {},
   "outputs": [],
   "source": [
    "plot(y_tv, amp_tv, flux_tv)"
   ]
  },
  {
   "cell_type": "markdown",
   "metadata": {},
   "source": [
    "## Compare all the methods"
   ]
  },
  {
   "cell_type": "code",
   "execution_count": null,
   "metadata": {},
   "outputs": [],
   "source": [
    "fig, ax = plt.subplots(5, figsize=(5, 10))\n",
    "map_tru.show(\n",
    "    ax=ax[0], projection=\"moll\", colorbar=True, norm=cnorm(), cmap=cmap,\n",
    ")\n",
    "ax[0].annotate(\n",
    "    \"true\",\n",
    "    xy=(-2 * np.sqrt(2), np.sqrt(2)),\n",
    "    xycoords=\"data\",\n",
    "    ha=\"left\",\n",
    "    va=\"top\",\n",
    "    fontsize=10,\n",
    "    fontweight=\"bold\",\n",
    ")\n",
    "for i, amp, y, label in zip(\n",
    "    [1, 2, 3, 4],\n",
    "    [amp_L2, amp_pix, amp_beta, amp_tv],\n",
    "    [y_L2, y_pix, y_beta, y_tv],\n",
    "    [\"L2\", \"U\", \"Beta\", \"TV\"],\n",
    "):\n",
    "    map_inf.amp = amp\n",
    "    map_inf[1:, :] = y[1:]\n",
    "    map_inf.show(\n",
    "        ax=ax[i], projection=\"moll\", colorbar=True, norm=cnorm(), cmap=cmap,\n",
    "    )\n",
    "    ax[i].annotate(\n",
    "        label,\n",
    "        xy=(-2 * np.sqrt(2), np.sqrt(2)),\n",
    "        xycoords=\"data\",\n",
    "        ha=\"left\",\n",
    "        va=\"top\",\n",
    "        fontsize=10,\n",
    "        fontweight=\"bold\",\n",
    "    )"
   ]
  }
 ],
 "metadata": {
  "celltoolbar": "Raw Cell Format",
  "kernelspec": {
   "display_name": "Python 3",
   "language": "python",
   "name": "python3"
  },
  "language_info": {
   "codemirror_mode": {
    "name": "ipython",
    "version": 3
   },
   "file_extension": ".py",
   "mimetype": "text/x-python",
   "name": "python",
   "nbconvert_exporter": "python",
   "pygments_lexer": "ipython3",
   "version": "3.7.4"
  }
 },
 "nbformat": 4,
 "nbformat_minor": 2
}
