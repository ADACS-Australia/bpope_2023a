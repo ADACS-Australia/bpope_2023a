{
 "cells": [
  {
   "cell_type": "markdown",
   "metadata": {},
   "source": [
    "# Eclipsing binary with `pymc3`\n",
    "\n",
    "Let's fit an eclipsing binary light curve with `starry`, using `pymc3` to get posterior constraints on the map."
   ]
  },
  {
   "cell_type": "code",
   "execution_count": null,
   "metadata": {
    "tags": [
     "hide_input"
    ]
   },
   "outputs": [],
   "source": [
    "%matplotlib inline\n",
    "%config InlineBackend.figure_format='retina'"
   ]
  },
  {
   "cell_type": "code",
   "execution_count": null,
   "metadata": {
    "tags": [
     "hide_input"
    ]
   },
   "outputs": [],
   "source": [
    "import warnings\n",
    "warnings.simplefilter(\"ignore\")"
   ]
  },
  {
   "cell_type": "code",
   "execution_count": null,
   "metadata": {},
   "outputs": [],
   "source": [
    "import matplotlib.pyplot as plt\n",
    "import numpy as np\n",
    "import pymc3 as pm\n",
    "import exoplanet as xo\n",
    "import starry\n",
    "np.random.seed(12)\n",
    "\n",
    "starry.config.quiet = True"
   ]
  },
  {
   "cell_type": "markdown",
   "metadata": {},
   "source": [
    "## Instantiate two bodies\n",
    "\n",
    "The primary is an unspotted solar-like star with quadratic limb darkening. Note that since we're going to use these maps below in the `pymc3` run, we declare it within the context of a `pymc3.Model()` instance."
   ]
  },
  {
   "cell_type": "code",
   "execution_count": null,
   "metadata": {},
   "outputs": [],
   "source": [
    "with pm.Model() as model:\n",
    "    A = starry.Primary(starry.Map(udeg=2, L=1.0), r=1.0, m=1.0)\n",
    "    A.map[1] = 0.40\n",
    "    A.map[2] = 0.25\n",
    "\n",
    "A.map.show(theta=np.linspace(0, 360, 50))"
   ]
  },
  {
   "cell_type": "markdown",
   "metadata": {},
   "source": [
    "The secondary is a smaller star (say, a K dwarf) on a very short period orbit with a large mid-latitude spot. To make things interesting, its rotation period is resonant with its orbital period at 5:8. Its equator is coplanar with the orbit, but the entire system is viewed at an inclination of $75^\\circ$. Since the orbital period is so short, there are both grazing primary and secondary eclipses.\n",
    "\n",
    "In this notebook, we will attempt to infer the map of this star. Note again that we define it within the context of `model`:"
   ]
  },
  {
   "cell_type": "code",
   "execution_count": null,
   "metadata": {},
   "outputs": [],
   "source": [
    "with model:\n",
    "    B = starry.Secondary(\n",
    "            starry.Map(\n",
    "                ydeg=5,\n",
    "                inc=75.0,\n",
    "                L=0.1\n",
    "            ),\n",
    "            r=0.7,\n",
    "            m=0.7,\n",
    "            porb=1.00,\n",
    "            prot=0.625,\n",
    "            t0=0.15,\n",
    "            inc=75.0\n",
    "        )\n",
    "    B.map.add_spot(amp=-0.075, lat=-30, lon=60)\n",
    "\n",
    "B_true_map = B.map[1:, :].eval()\n",
    "B.map.show(theta=np.linspace(0, 360, 50))"
   ]
  },
  {
   "cell_type": "markdown",
   "metadata": {},
   "source": [
    "Even with occultations, there are significant degeneracies in the mapping problem, so we need a good prior. Let's assume we have some information about the power spectrum of the star, which is the sum of the squares of the spherical harmonic coefficients at each degree."
   ]
  },
  {
   "cell_type": "code",
   "execution_count": null,
   "metadata": {},
   "outputs": [],
   "source": [
    "plt.plot([np.sum(B.map[l, :].eval() ** 2) for l in range(B.map.ydeg + 1)])\n",
    "plt.yscale(\"log\")\n",
    "plt.xlabel(\"Spherical harmonic degree\")\n",
    "plt.ylabel(\"Power\");"
   ]
  },
  {
   "cell_type": "markdown",
   "metadata": {},
   "source": [
    "The power is (very) roughly flat at $10^{-2}$ for $l>0$, so that will be the **variance** on the Gaussian prior on the spherical harmonic coefficients."
   ]
  },
  {
   "cell_type": "markdown",
   "metadata": {},
   "source": [
    "## Generate a light curve\n",
    "\n",
    "Let's generate a synthetic light curve for the system over several days."
   ]
  },
  {
   "cell_type": "code",
   "execution_count": null,
   "metadata": {},
   "outputs": [],
   "source": [
    "with model:\n",
    "    sys = starry.System(A, B)\n",
    "    \n",
    "# Compute the light curve    \n",
    "t = np.linspace(-2.5, 2.5, 10000)\n",
    "flux_true = sys.flux(t).eval()\n",
    "\n",
    "# Add noise\n",
    "sigma = 0.00025\n",
    "flux = flux_true + sigma * np.random.randn(len(t))"
   ]
  },
  {
   "cell_type": "code",
   "execution_count": null,
   "metadata": {},
   "outputs": [],
   "source": [
    "fig, ax = plt.subplots(1, figsize=(12, 5))\n",
    "ax.plot(t, flux, 'k.', alpha=0.3, ms=2)\n",
    "ax.plot(t, flux_true)\n",
    "ax.set_xlabel(\"time [days]\")\n",
    "ax.set_ylabel(\"relative flux\");"
   ]
  },
  {
   "cell_type": "markdown",
   "metadata": {},
   "source": [
    "We can visualize the orbit over this time period. Note that we get a few occultations of the front side and a few occultations of the back side of the secondary, which means we'll be able to constrain most of its surface!"
   ]
  },
  {
   "cell_type": "code",
   "execution_count": null,
   "metadata": {},
   "outputs": [],
   "source": [
    "sys.show(t=np.linspace(-2.5, 2.5, 300), window_pad=4.75, figsize=(5, 5))"
   ]
  },
  {
   "cell_type": "markdown",
   "metadata": {},
   "source": [
    "## Let's define the `pymc3` model"
   ]
  },
  {
   "cell_type": "markdown",
   "metadata": {},
   "source": [
    "Here we define the model and our priors; recall that we are placing a zero-mean Gaussian prior on the spherical harmonic coefficients with variance equal to $10^{-2}$. Also note that we don't fit for the zeroth spherical harmonic coefficient ($Y_{0,0}$), as that is always fixed at unity. For simplicity, we assume we know everything else about the system."
   ]
  },
  {
   "cell_type": "code",
   "execution_count": null,
   "metadata": {
    "scrolled": false
   },
   "outputs": [],
   "source": [
    "with model:\n",
    "\n",
    "    # The Ylm coefficients with a simple gaussian prior\n",
    "    ncoeff = B.map.Ny - 1\n",
    "    mu = np.zeros(ncoeff)\n",
    "    cov = 1e-2 * np.eye(ncoeff)\n",
    "    Ylm = pm.MvNormal(\"Ylm\", mu, cov, shape=(ncoeff,))\n",
    "    B.map[1:, :] = Ylm\n",
    "    \n",
    "    # Compute the flux\n",
    "    flux_model = sys.flux(t=t)\n",
    "    \n",
    "    # Track some values for plotting later\n",
    "    pm.Deterministic(\"flux_model\", flux_model)\n",
    "\n",
    "    # Save our initial guess\n",
    "    flux_model_guess = xo.eval_in_model(flux_model)\n",
    "\n",
    "    # The likelihood function assuming known Gaussian uncertainty\n",
    "    pm.Normal(\"obs\", mu=flux_model, sd=sigma, observed=flux)"
   ]
  },
  {
   "cell_type": "markdown",
   "metadata": {},
   "source": [
    "Now we run a quick gradient descent to find the MAP (maximum a posteriori) solution. This will give us a decent starting point for the inference problem."
   ]
  },
  {
   "cell_type": "code",
   "execution_count": null,
   "metadata": {},
   "outputs": [],
   "source": [
    "%%time\n",
    "with model:\n",
    "    map_soln = xo.optimize()"
   ]
  },
  {
   "cell_type": "markdown",
   "metadata": {},
   "source": [
    "Plot the MAP model alongside the initial guess and the true model. Note that we're doing quite well."
   ]
  },
  {
   "cell_type": "code",
   "execution_count": null,
   "metadata": {},
   "outputs": [],
   "source": [
    "plt.plot(t, flux, 'k.', alpha=0.3, ms=2, label=\"data\")\n",
    "plt.plot(t, flux_true, \"C0-\", label=\"True\")\n",
    "plt.plot(t, flux_model_guess, \"C1--\", lw=1, alpha=0.5, label=\"Initial\")\n",
    "plt.plot(t, xo.eval_in_model(flux_model, map_soln, model=model), \"C1-\", label=\"MAP\")\n",
    "plt.legend(fontsize=10, numpoints=5)\n",
    "plt.xlabel(\"time [days]\")\n",
    "plt.ylabel(\"relative flux\");"
   ]
  },
  {
   "cell_type": "markdown",
   "metadata": {},
   "source": [
    "Plot the corresponding map for `B`: note that we recover the spot!"
   ]
  },
  {
   "cell_type": "code",
   "execution_count": null,
   "metadata": {},
   "outputs": [],
   "source": [
    "map = starry.Map(ydeg=5)\n",
    "map.inc = 75\n",
    "map[1:, :] = map_soln['Ylm']\n",
    "map.show(theta=np.linspace(0, 360, 50))"
   ]
  },
  {
   "cell_type": "markdown",
   "metadata": {},
   "source": [
    "## NUTS sampling\n",
    "\n",
    "Now let's run the NUTS sampler to get posteriors on the map of `B`."
   ]
  },
  {
   "cell_type": "code",
   "execution_count": null,
   "metadata": {},
   "outputs": [],
   "source": [
    "%%time\n",
    "with model:\n",
    "    trace = pm.sample(\n",
    "        tune=250,\n",
    "        draws=500,\n",
    "        start=map_soln,\n",
    "        chains=4,\n",
    "        cores=1,\n",
    "        step=xo.get_dense_nuts_step(target_accept=0.9),\n",
    "    )"
   ]
  },
  {
   "cell_type": "markdown",
   "metadata": {},
   "source": [
    "Things appear to have converged well:"
   ]
  },
  {
   "cell_type": "code",
   "execution_count": null,
   "metadata": {
    "scrolled": false
   },
   "outputs": [],
   "source": [
    "varnames = [\"Ylm\"]\n",
    "pm.summary(trace, varnames=varnames)"
   ]
  },
  {
   "cell_type": "markdown",
   "metadata": {},
   "source": [
    "Display the corner plot for a few of the dimensions. Note the strong degeneracies that are still present."
   ]
  },
  {
   "cell_type": "code",
   "execution_count": null,
   "metadata": {},
   "outputs": [],
   "source": [
    "import corner\n",
    "samples = pm.trace_to_dataframe(trace, varnames=varnames)\n",
    "corner.corner(np.array(samples)[:, :5]);"
   ]
  },
  {
   "cell_type": "markdown",
   "metadata": {},
   "source": [
    "Plot the model for 24 random samples:"
   ]
  },
  {
   "cell_type": "code",
   "execution_count": null,
   "metadata": {},
   "outputs": [],
   "source": [
    "plt.plot(t, flux, 'k.', alpha=0.3, ms=2, label=\"data\")\n",
    "label = \"samples\"\n",
    "for i in np.random.choice(range(len(trace[\"flux_model\"])), 24):\n",
    "    plt.plot(t, trace[\"flux_model\"][i], \"C0-\", alpha=0.3, label=label)\n",
    "    label = None\n",
    "plt.legend(fontsize=10, numpoints=5)\n",
    "plt.xlabel(\"time [days]\")\n",
    "plt.ylabel(\"relative flux\");"
   ]
  },
  {
   "cell_type": "markdown",
   "metadata": {},
   "source": [
    "Finally, display the true map next to several random samples:"
   ]
  },
  {
   "cell_type": "code",
   "execution_count": null,
   "metadata": {
    "nbsphinx": "hidden",
    "tags": [
     "hide_input"
    ]
   },
   "outputs": [],
   "source": [
    "# Render the true map and 17 samples\n",
    "nframes = 100\n",
    "nsamp = len(trace[\"Ylm\"])\n",
    "coeffs = [B_true_map] + [trace[\"Ylm\"][np.random.randint(nsamp)] for i in range(17)]\n",
    "img = [None for i in range(18)]\n",
    "for i, coeff in enumerate(coeffs):\n",
    "    map[1:, :] = coeff\n",
    "    img[i] = map.render(theta=np.linspace(0, 360, nframes)).eval()"
   ]
  },
  {
   "cell_type": "code",
   "execution_count": null,
   "metadata": {
    "nbsphinx": "hidden",
    "tags": [
     "hide_input"
    ]
   },
   "outputs": [],
   "source": [
    "from matplotlib.animation import FuncAnimation\n",
    "from IPython.display import HTML\n",
    "\n",
    "fig, ax = plt.subplots(6, 3, figsize=(4, 8))\n",
    "ax = ax.flatten()\n",
    "ims = [None for i in range(18)]\n",
    "for i in range(18):\n",
    "    ims[i] = ax[i].imshow(img[i][0], origin=\"lower\", vmin=0, vmax=0.45, cmap=\"plasma\")\n",
    "    ax[i].axis('off')\n",
    "\n",
    "def updatefig(k):\n",
    "    for i in range(18):\n",
    "        ims[i].set_data(img[i][k])\n",
    "    return ax\n",
    "\n",
    "ani = FuncAnimation(fig, updatefig, interval=30, blit=False, frames=nframes)\n",
    "plt.close()"
   ]
  },
  {
   "cell_type": "code",
   "execution_count": null,
   "metadata": {
    "tags": [
     "hide_input"
    ]
   },
   "outputs": [],
   "source": [
    "display(HTML(ani.to_html5_video()))"
   ]
  }
 ],
 "metadata": {
  "celltoolbar": "Tags",
  "kernelspec": {
   "display_name": "Python 3",
   "language": "python",
   "name": "python3"
  },
  "language_info": {
   "codemirror_mode": {
    "name": "ipython",
    "version": 3
   },
   "file_extension": ".py",
   "mimetype": "text/x-python",
   "name": "python",
   "nbconvert_exporter": "python",
   "pygments_lexer": "ipython3",
   "version": "3.7.2"
  }
 },
 "nbformat": 4,
 "nbformat_minor": 2
}
