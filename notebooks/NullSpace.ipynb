{
 "cells": [
  {
   "cell_type": "markdown",
   "metadata": {},
   "source": [
    "# The null space"
   ]
  },
  {
   "cell_type": "code",
   "execution_count": null,
   "metadata": {
    "tags": [
     "hide_input"
    ]
   },
   "outputs": [],
   "source": [
    "%matplotlib inline"
   ]
  },
  {
   "cell_type": "code",
   "execution_count": null,
   "metadata": {
    "tags": [
     "hide_input"
    ]
   },
   "outputs": [],
   "source": [
    "%run notebook_setup.py"
   ]
  },
  {
   "cell_type": "code",
   "execution_count": null,
   "metadata": {
    "tags": [
     "hide_input"
    ]
   },
   "outputs": [],
   "source": [
    "import matplotlib\n",
    "\n",
    "matplotlib.rcParams[\"figure.figsize\"] = (12, 4)"
   ]
  },
  {
   "cell_type": "markdown",
   "metadata": {},
   "source": [
    "A key principle in the problem of mapping the surfaces of stars and planets is the idea of a *null space*. The null space of a (linear) transformation is the set of input vectors that result in a zero vector as output. In the context of mapping, the null space comprises the spherical harmonics (or combinations of spherical harmonics) that do not affect the observed flux whatsoever.\n",
    "\n",
    "A trivial example is the $Y_{1,-1}$ spherical harmonic, which does not project into the light curve for rotations about the vertical ($\\hat{y}$) axis:"
   ]
  },
  {
   "cell_type": "code",
   "execution_count": null,
   "metadata": {
    "tags": [
     "hide_input"
    ]
   },
   "outputs": [],
   "source": [
    "import starry\n",
    "import numpy as np\n",
    "\n",
    "starry.config.lazy = False\n",
    "starry.config.quiet = True\n",
    "\n",
    "map = starry.Map(1)\n",
    "map[1, -1] = 1\n",
    "map.show(theta=np.linspace(0, 360, 50))"
   ]
  },
  {
   "cell_type": "markdown",
   "metadata": {},
   "source": [
    "It is clear that as this object rotates, the total flux does not change (and in fact is exactly zero). That's because the $Y_{1,-1}$ harmonic is perfectly symmetric under such rotations.\n",
    "\n",
    "It might be hard to think of other harmonics that behave this way, but in fact the **vast majority** of spherical harmonics are usually in the null space of the light curve problem. Let's take a deeper look at this. First, we'll load `starry` and generate a high resolution map of the Earth."
   ]
  },
  {
   "cell_type": "code",
   "execution_count": null,
   "metadata": {},
   "outputs": [],
   "source": [
    "import matplotlib.pyplot as plt\n",
    "import numpy as np\n",
    "import starry\n",
    "\n",
    "starry.config.lazy = False\n",
    "starry.config.quiet = True"
   ]
  },
  {
   "cell_type": "code",
   "execution_count": null,
   "metadata": {},
   "outputs": [],
   "source": [
    "map1 = starry.Map(30)\n",
    "map1.load(\"earth\", sigma=0.05)\n",
    "map1.show(projection=\"rect\")"
   ]
  },
  {
   "cell_type": "markdown",
   "metadata": {},
   "source": [
    "Let's now compute the light curve of this map as we rotate it one full cycle about the $\\hat{y}$ direction:"
   ]
  },
  {
   "cell_type": "code",
   "execution_count": null,
   "metadata": {},
   "outputs": [],
   "source": [
    "theta = np.linspace(0, 360, 1000)\n",
    "flux1 = map1.flux(theta=theta)\n",
    "plt.figure(figsize=(12, 5))\n",
    "plt.plot(theta, flux1)\n",
    "plt.xlabel(r\"$\\theta$ [degrees]\", fontsize=24)\n",
    "plt.ylabel(\"Flux [arbitrary units]\", fontsize=24);"
   ]
  },
  {
   "cell_type": "markdown",
   "metadata": {},
   "source": [
    "At phase 0, the prime meridian is facing the observer, and the flux drops as the Atlantic and then Pacific oceans come into view. The flux then peaks when Asia is in view, and that's the light curve of the Earth.\n",
    "\n",
    "Now, let's create a new, identical map of the Earth:"
   ]
  },
  {
   "cell_type": "code",
   "execution_count": null,
   "metadata": {},
   "outputs": [],
   "source": [
    "map2 = starry.Map(30)\n",
    "map2.load(\"earth\", sigma=0.05)"
   ]
  },
  {
   "cell_type": "markdown",
   "metadata": {},
   "source": [
    "But this time, we'll change all coefficients corresponding to odd degrees above 2..."
   ]
  },
  {
   "cell_type": "code",
   "execution_count": null,
   "metadata": {},
   "outputs": [],
   "source": [
    "for l in range(3, map2.ydeg + 1, 2):\n",
    "    map2[l, :] = 1e-3 * np.random.randn(len(map2[l, :]))"
   ]
  },
  {
   "cell_type": "markdown",
   "metadata": {},
   "source": [
    "... as well as all coefficients corresponding to negative values of `m`:"
   ]
  },
  {
   "cell_type": "code",
   "execution_count": null,
   "metadata": {},
   "outputs": [],
   "source": [
    "for l in range(1, map2.ydeg + 1):\n",
    "    map2[l, -l:0] = 1e-3 * np.random.randn(len(map2[l, -l:0]))"
   ]
  },
  {
   "cell_type": "markdown",
   "metadata": {},
   "source": [
    "Here's what this silly map looks like:"
   ]
  },
  {
   "cell_type": "code",
   "execution_count": null,
   "metadata": {},
   "outputs": [],
   "source": [
    "map2.show(projection=\"rect\")"
   ]
  },
  {
   "cell_type": "markdown",
   "metadata": {},
   "source": [
    "It doesn't really look anything like the Earth (though a sharp eye might spot the outline of Africa and some other familiar features -- barely). If you're wondering why we did this, let's plot the light curve of this new map next to the light curve of the original map of the Earth:"
   ]
  },
  {
   "cell_type": "code",
   "execution_count": null,
   "metadata": {},
   "outputs": [],
   "source": [
    "flux2 = map2.flux(theta=theta)\n",
    "plt.figure(figsize=(12, 5))\n",
    "plt.plot(theta, flux1, label=\"map1\")\n",
    "plt.plot(theta, flux2, \"--\", label=\"map2\")\n",
    "plt.legend()\n",
    "plt.xlabel(r\"$\\theta$ [degrees]\", fontsize=24)\n",
    "plt.ylabel(\"Flux [arbitrary units]\", fontsize=24);"
   ]
  },
  {
   "cell_type": "markdown",
   "metadata": {},
   "source": [
    "Their light curves are **identical**. Even though the maps *look* completely different, the actual differences between the two maps lie entirely in the null space (by construction). This means we have no way of distinguishing between these two maps if all we have access to is the light curve."
   ]
  },
  {
   "cell_type": "markdown",
   "metadata": {},
   "source": [
    "To drive this point home, here's what the two maps look like side-by-side:"
   ]
  },
  {
   "cell_type": "code",
   "execution_count": null,
   "metadata": {
    "replace_input_with": "map1.show(theta=np.linspace(0, 360, 50))\nmap2.show(theta=np.linspace(0, 360, 50))"
   },
   "outputs": [],
   "source": [
    "# HACK: Manually render both maps so that they are in sync\n",
    "\n",
    "image1 = map1.render(theta=np.linspace(0, 360, 50, endpoint=False))\n",
    "image2 = map2.render(theta=np.linspace(0, 360, 50, endpoint=False))\n",
    "\n",
    "from matplotlib.animation import FuncAnimation\n",
    "from IPython.display import HTML\n",
    "\n",
    "fig, ax = plt.subplots(1, 2, figsize=(7, 3))\n",
    "\n",
    "img1 = ax[0].imshow(image1[0], origin=\"lower\", cmap=\"plasma\", extent=(-1, 1, -1, 1))\n",
    "img2 = ax[1].imshow(image2[0], origin=\"lower\", cmap=\"plasma\", extent=(-1, 1, -1, 1))\n",
    "\n",
    "for i, axis in enumerate(ax):\n",
    "    axis.axis(\"off\")\n",
    "\n",
    "\n",
    "def updatefig(i):\n",
    "    img1.set_array(image1[i])\n",
    "    img2.set_array(image2[i])\n",
    "    return (img1, img2)\n",
    "\n",
    "\n",
    "ani = FuncAnimation(fig, updatefig, interval=75, blit=True, frames=image1.shape[0],)\n",
    "\n",
    "plt.close()\n",
    "display(HTML(ani.to_html5_video()))"
   ]
  },
  {
   "cell_type": "markdown",
   "metadata": {},
   "source": [
    "The total amount of flux at any given time -- equal to the brightness integrated over the entire disk -- is the same in both cases, even though the surfaces look nothing alike."
   ]
  },
  {
   "cell_type": "markdown",
   "metadata": {},
   "source": [
    "For objects rotating along an axis perpendicular to the line of sight (as in the example above), the null space consists of all of the $m < 0$ harmonics, as well as all of the harmonics of degree $l = 3, 5, 7 ...$:"
   ]
  },
  {
   "cell_type": "code",
   "execution_count": null,
   "metadata": {
    "tags": [
     "hide_input"
    ]
   },
   "outputs": [],
   "source": [
    "ydeg = 5\n",
    "fig, ax = plt.subplots(ydeg + 1, 2 * ydeg + 1, figsize=(12, 6))\n",
    "fig.subplots_adjust(hspace=0)\n",
    "for axis in ax.flatten():\n",
    "    axis.set_xticks([])\n",
    "    axis.set_yticks([])\n",
    "    axis.spines[\"top\"].set_visible(False)\n",
    "    axis.spines[\"right\"].set_visible(False)\n",
    "    axis.spines[\"bottom\"].set_visible(False)\n",
    "    axis.spines[\"left\"].set_visible(False)\n",
    "for l in range(ydeg + 1):\n",
    "    ax[l, 0].set_ylabel(\n",
    "        r\"$l = %d$\" % l,\n",
    "        rotation=\"horizontal\",\n",
    "        labelpad=20,\n",
    "        y=0.38,\n",
    "        fontsize=10,\n",
    "        alpha=0.5,\n",
    "    )\n",
    "for j, m in enumerate(range(-ydeg, ydeg + 1)):\n",
    "    if m < 0:\n",
    "        ax[-1, j].set_xlabel(\n",
    "            r\"$m {=} \\mathrm{-}%d$\" % -m, labelpad=10, fontsize=10, alpha=0.5\n",
    "        )\n",
    "    else:\n",
    "        ax[-1, j].set_xlabel(r\"$m = %d$\" % m, labelpad=10, fontsize=10, alpha=0.5)\n",
    "\n",
    "# Loop over the orders and degrees\n",
    "map = starry.Map(ydeg=ydeg, quiet=True)\n",
    "for i, l in enumerate(range(ydeg + 1)):\n",
    "    for j, m in enumerate(range(-l, l + 1)):\n",
    "\n",
    "        # Null space or not?\n",
    "        if (m < 0) or (l == 3) or (l == 5):\n",
    "            alpha = 0.25\n",
    "        else:\n",
    "            alpha = 1\n",
    "\n",
    "        # Offset the index for centered plotting\n",
    "        j += ydeg - l\n",
    "\n",
    "        # Compute the spherical harmonic\n",
    "        # with no rotation\n",
    "        map.reset()\n",
    "        if l > 0:\n",
    "            map[l, m] = 1\n",
    "\n",
    "        # Plot the spherical harmonic\n",
    "        ax[i, j].imshow(\n",
    "            map.render(),\n",
    "            cmap=\"plasma\",\n",
    "            interpolation=\"none\",\n",
    "            origin=\"lower\",\n",
    "            extent=(-1, 1, -1, 1),\n",
    "            alpha=alpha,\n",
    "        )\n",
    "        ax[i, j].set_xlim(-1.1, 1.1)\n",
    "        ax[i, j].set_ylim(-1.1, 1.1)"
   ]
  },
  {
   "cell_type": "markdown",
   "metadata": {},
   "source": [
    "The null space for this problem is indicated by the translucent harmonics above. (Note that in general certain linear combinations of the remaining harmonics are *also* in the null space, so the problem is actually *worse* than in the example above)."
   ]
  },
  {
   "cell_type": "markdown",
   "metadata": {},
   "source": [
    "## The size of the null space"
   ]
  },
  {
   "cell_type": "markdown",
   "metadata": {},
   "source": [
    "Because the light curve model in ``starry`` is linear, it's actually easy to compute the size of the null space for a given problem. Consider how the flux $\\mathbf{f}$ is computed in ``starry``:\n",
    "\n",
    "$$\n",
    "\\mathbf{f} = \\mathbf{A} \\mathbf{x}\n",
    "$$\n",
    "\n",
    "where $\\mathbf{A}$ is the design matrix (which you can obtain from ``map.design_matrix()``) and $\\mathbf{x}$ is just the (amplitude-weighted) spherical harmonic coefficient vector. When solving this system for $\\mathbf{x}$, the matrix we end up needing to invert looks like\n",
    "\n",
    "$$\n",
    "\\mathbf{I} = \\mathbf{A}^\\top \\Sigma^{-1} \\mathbf{A}\n",
    "$$\n",
    "\n",
    "where $\\Sigma$ is the data covariance matrix. The object $\\mathbf{I}$ is the *Fisher information matrix* and quantifies the maximum amount of information we can learn given our observations $\\mathbf{f}$. While there's a lot we can do with $\\mathbf{I}$, the most important thing in our case is the size of the null space, which is *equal to the number of rows (or columns) minus the rank of this matrix.*\n",
    "\n",
    "There's lots of ways to think about why this is the case. Note that $\\mathbf{I}$ is invertible if (and only if) it is full rank, meaning the null space is zero. That's the condition for a well-posed problem, in which we can learn everything there is to know about $\\mathbf{x}$ from our observations $\\mathbf{f}$. In nearly all cases in the mapping problem, $\\mathbf{I}$ is *not* full rank, meaning it has linearly dependent rows or columns. For each such column, that's one fewer term (or combination of terms) we are able to constrain in $\\mathbf{x}$. In other words, the size of the null space is equal to the number of linearly dependent rows/columns in $\\mathbf{I}$.\n",
    "\n",
    "Note, importantly, that in the limit that our measurements are uncorrelated, the rank of $\\mathbf{I}$ is equal to the rank of $\\mathbf{A}^\\top \\mathbf{A}$ (i.e., independent of the uncertainties). Note also that this quantity does not depend on either $\\mathbf{f}$ *or* $\\mathbf{x}$ -- just the design matrix!\n",
    "\n",
    "Let's take a look at the size of the null space in the problem above. We'll use ``numpy.linalg.matrix_rank`` to compute the matrix rank."
   ]
  },
  {
   "cell_type": "code",
   "execution_count": null,
   "metadata": {},
   "outputs": [],
   "source": [
    "def compute_info(A):\n",
    "    \"\"\"Compute some information about the null space of the design matrix A.\"\"\"\n",
    "    # Get the Fisher information & compute its rank\n",
    "    I = A.T.dot(A)\n",
    "    R = np.linalg.matrix_rank(I)\n",
    "\n",
    "    # Number of coefficientss\n",
    "    C = I.shape[0]\n",
    "\n",
    "    # Size of null space\n",
    "    N = C - R\n",
    "\n",
    "    # Fractional size of null space\n",
    "    F = N / C\n",
    "\n",
    "    # Show it graphically\n",
    "    fig, ax = plt.subplots(figsize=(6, 0.3))\n",
    "    ax.set_xlim(0, 1)\n",
    "    ax.axis(\"off\")\n",
    "    ax.axvspan(0, 1 - F, color=\"C0\")\n",
    "    ax.axvspan(1 - F, 1, color=\"red\")\n",
    "    ax.annotate(\n",
    "        \"{}/{}\".format(R, C),\n",
    "        color=\"C0\",\n",
    "        fontsize=10,\n",
    "        xy=(-0.025, 0.5),\n",
    "        xycoords=\"axes fraction\",\n",
    "        va=\"center\",\n",
    "        ha=\"right\",\n",
    "    )\n",
    "    ax.annotate(\n",
    "        \"{:.0f}%\".format(100 * F),\n",
    "        color=\"w\",\n",
    "        fontsize=10,\n",
    "        xy=(1 - 0.5 * F, 0.5),\n",
    "        xycoords=\"axes fraction\",\n",
    "        va=\"center\",\n",
    "        ha=\"right\",\n",
    "    )"
   ]
  },
  {
   "cell_type": "code",
   "execution_count": null,
   "metadata": {},
   "outputs": [],
   "source": [
    "A = map1.design_matrix(theta=theta)\n",
    "compute_info(A)"
   ]
  },
  {
   "cell_type": "markdown",
   "metadata": {},
   "source": [
    "The red bit represents the null space, while the blue bit represents the terms we can constrain from the data (the \"image\" of the linear transformation).\n",
    "Our problem has 961 free coefficients, but the rank of the Fisher matrix is *only* 33. That means that 928 of the coefficients (or, more precisely, 928 linear combinations of coefficients) lie in the null space. In other words, **97 percent of the information about the map cannot be probed from the light curve in this case.**\n",
    "\n",
    "Yep. 97 percent."
   ]
  },
  {
   "cell_type": "markdown",
   "metadata": {},
   "source": [
    "## So, how can we possibly map other stars and planets?"
   ]
  },
  {
   "cell_type": "markdown",
   "metadata": {},
   "source": [
    "There are several ways to get around the information issue, and they all involve finding ways to break degeneracies. Below is a non-exhaustive list of ideas."
   ]
  },
  {
   "cell_type": "markdown",
   "metadata": {},
   "source": [
    "### Lower degree maps"
   ]
  },
  {
   "cell_type": "markdown",
   "metadata": {},
   "source": [
    "The size of the null space increases pretty steeply with the degree of the map. That's because we can typically only constrain up to two terms per spherical harmonic degree from a light curve (a cosine term and a sine term); but the number of terms increases quadratically with the degree of the map. Let's look at the size of the null space for a 5th degree map (instead of 30th):"
   ]
  },
  {
   "cell_type": "code",
   "execution_count": null,
   "metadata": {},
   "outputs": [],
   "source": [
    "map = starry.Map(5)\n",
    "A = map.design_matrix(theta=theta)\n",
    "compute_info(A)"
   ]
  },
  {
   "cell_type": "markdown",
   "metadata": {},
   "source": [
    "It's better -- now the size of the null space is only 81%. The high order terms are usually the hardest ones to constrain!"
   ]
  },
  {
   "cell_type": "markdown",
   "metadata": {},
   "source": [
    "### Inclined maps"
   ]
  },
  {
   "cell_type": "markdown",
   "metadata": {},
   "source": [
    "There's a perfect degeneracy for maps seen at an inclination of 90 degrees, since there's no way to differentiate between the northern and southern hemispheres of the map -- they contribute equally to the light curve. As long as there's a little inclination, that degeneracy is broken. Consider a map seen at 60 degrees inclination:"
   ]
  },
  {
   "cell_type": "code",
   "execution_count": null,
   "metadata": {},
   "outputs": [],
   "source": [
    "map = starry.Map(5)\n",
    "map.inc = 60\n",
    "A = map.design_matrix(theta=theta)\n",
    "compute_info(A)"
   ]
  },
  {
   "cell_type": "markdown",
   "metadata": {},
   "source": [
    "Again, we've chipped away at the null space some! But note: this applies when we know the inclination exactly. If we need to solve for it (or marginalize over it), we'll obviously be dealing with extra uncertainty."
   ]
  },
  {
   "cell_type": "markdown",
   "metadata": {},
   "source": [
    "### Limb darkening"
   ]
  },
  {
   "cell_type": "markdown",
   "metadata": {},
   "source": [
    "The presence of limb darkening causes different parts of the map to be weighted differently at different phases. This breaks further symmetries in the problem:"
   ]
  },
  {
   "cell_type": "code",
   "execution_count": null,
   "metadata": {},
   "outputs": [],
   "source": [
    "map = starry.Map(5, 1)\n",
    "map.inc = 60\n",
    "map[1] = 0.5\n",
    "A = map.design_matrix(theta=theta)\n",
    "compute_info(A)"
   ]
  },
  {
   "cell_type": "markdown",
   "metadata": {},
   "source": [
    "Note, again, that above we assume we know the limb darkening law exactly, which is never the case in practice!"
   ]
  },
  {
   "cell_type": "markdown",
   "metadata": {},
   "source": [
    "### Transits and occultations"
   ]
  },
  {
   "cell_type": "markdown",
   "metadata": {},
   "source": [
    "Transits or occultations break **many** symmetries. Let's transit a small body across our map as it rotates, and look at the null space of the problem. We'll have the body transit twice, occulting a different portion of the map each time (since it's rotating)."
   ]
  },
  {
   "cell_type": "code",
   "execution_count": null,
   "metadata": {},
   "outputs": [],
   "source": [
    "map = starry.Map(5, 1)\n",
    "map.inc = 60\n",
    "map[1] = 0.5\n",
    "xo = 1.5 * np.sin(2 * np.pi * np.linspace(0, 2, len(theta)) + 0.5 * np.pi)\n",
    "yo = 0.3\n",
    "zo = 1.5 * np.cos(2 * np.pi * np.linspace(0, 2, len(theta)) + 0.5 * np.pi)\n",
    "ro = 0.1\n",
    "A = map.design_matrix(theta=theta, xo=xo, yo=yo, zo=zo, ro=ro)\n",
    "compute_info(A)"
   ]
  },
  {
   "cell_type": "markdown",
   "metadata": {},
   "source": [
    "The presence of an occultor has made a **huge** difference: the size of the null space is now nearly zero! Here's what a light curve might look like for this situation:"
   ]
  },
  {
   "cell_type": "code",
   "execution_count": null,
   "metadata": {},
   "outputs": [],
   "source": [
    "map.load(\"earth\")\n",
    "flux0 = A.dot(map.y)\n",
    "sigma = 1e-3\n",
    "flux = flux0 + sigma * np.random.randn(len(flux0))\n",
    "plt.plot(theta, flux)\n",
    "plt.xlabel(\"angular phase [deg]\")\n",
    "plt.ylabel(\"flux [normalized]\");"
   ]
  },
  {
   "cell_type": "markdown",
   "metadata": {},
   "source": [
    "You can see the small transits at angular phases of 150 and 300 degrees. Given this light curve, let's add a Gaussian prior on the coefficients and linearly solve for the map:"
   ]
  },
  {
   "cell_type": "code",
   "execution_count": null,
   "metadata": {},
   "outputs": [],
   "source": [
    "map.set_data(flux, C=sigma ** 2)\n",
    "map.set_prior(L=1e-4)\n",
    "map.solve(design_matrix=A)\n",
    "map.show(projection=\"rect\")"
   ]
  },
  {
   "cell_type": "markdown",
   "metadata": {},
   "source": [
    "Here's the true map for reference:"
   ]
  },
  {
   "cell_type": "code",
   "execution_count": null,
   "metadata": {},
   "outputs": [],
   "source": [
    "map.load(\"earth\")\n",
    "map.show(projection=\"rect\")"
   ]
  },
  {
   "cell_type": "markdown",
   "metadata": {},
   "source": [
    "As expected, we did quite well! Although it's blurry, we can pick out the major continents and oceans. The punchline: transits and occultations are **great** ways to break degeneracies. Stars transited by (multiple) planets or stars in eclipsing binary systems are therefore excellent targets for mapping."
   ]
  },
  {
   "cell_type": "raw",
   "metadata": {
    "raw_mimetype": "text/restructuredtext"
   },
   "source": [
    ".. note::\n",
    "\n",
    "    The example above is **super** idealized. The flux error was extremely small, we knew the inclination, \n",
    "    limb darkening coefficients, and occultor parameters exactly, and we had transits across different\n",
    "    portions of the surface. In most cases, things will not be this ideal, and the null space will be\n",
    "    larger and/or the recovered maps will have much larger uncertainty."
   ]
  },
  {
   "cell_type": "markdown",
   "metadata": {},
   "source": [
    "### Reflected light"
   ]
  },
  {
   "cell_type": "markdown",
   "metadata": {},
   "source": [
    "The last thing we'll touch on is phase curves in reflected light. Consider the idealized case of an inclined planet illluminated by a star with a rotational period that's different from its orbital period:"
   ]
  },
  {
   "cell_type": "code",
   "execution_count": null,
   "metadata": {},
   "outputs": [],
   "source": [
    "map = starry.Map(5, reflected=True)\n",
    "map.inc = 60\n",
    "xs = np.sin(2 * np.pi * np.linspace(0, 1.33, len(theta)))\n",
    "ys = np.sin(2 * np.pi * np.linspace(0, 1.33, len(theta)))\n",
    "zs = np.cos(2 * np.pi * np.linspace(0, 1.33, len(theta)))\n",
    "A = map.design_matrix(theta=theta, xs=xs, ys=ys, zs=zs)\n",
    "compute_info(A)"
   ]
  },
  {
   "cell_type": "markdown",
   "metadata": {},
   "source": [
    "There is no null space! This example is highly contrived (the null space pops back up as soon as you increase the degree of the map, for instance) but it shows how powerful reflected light can be. The reason is that the day/night terminator breaks most of the symmetries in the problem, especially if it precesses relative to the rotational axis (as it does for an inclined planet)."
   ]
  }
 ],
 "metadata": {
  "celltoolbar": "Raw Cell Format",
  "kernelspec": {
   "display_name": "Python 3",
   "language": "python",
   "name": "python3"
  },
  "language_info": {
   "codemirror_mode": {
    "name": "ipython",
    "version": 3
   },
   "file_extension": ".py",
   "mimetype": "text/x-python",
   "name": "python",
   "nbconvert_exporter": "python",
   "pygments_lexer": "ipython3",
   "version": "3.7.4"
  }
 },
 "nbformat": 4,
 "nbformat_minor": 2
}
