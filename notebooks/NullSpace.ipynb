{
 "cells": [
  {
   "cell_type": "markdown",
   "metadata": {},
   "source": [
    "# The null space"
   ]
  },
  {
   "cell_type": "code",
   "execution_count": null,
   "metadata": {
    "tags": [
     "hide_input"
    ]
   },
   "outputs": [],
   "source": [
    "%matplotlib inline\n",
    "%config InlineBackend.figure_format='retina'\n",
    "import matplotlib\n",
    "matplotlib.rcParams['figure.figsize'] = (12, 4)\n",
    "import warnings\n",
    "warnings.simplefilter(\"ignore\")"
   ]
  },
  {
   "cell_type": "markdown",
   "metadata": {},
   "source": [
    "A key principle in the problem of mapping the surfaces of stars and planets is the idea of a *null space*. The null space of a (linear) transformation is the set of input vectors that result in a zero vector as output. In the context of mapping, the null space comprises the spherical harmonics (or combinations of spherical harmonics) that do not affect the observed flux whatsoever.\n",
    "\n",
    "A trivial example is the $Y_{1,-1}$ spherical harmonic, which does not project into the light curve for rotations about the vertical ($\\hat{y}$) axis:"
   ]
  },
  {
   "cell_type": "code",
   "execution_count": null,
   "metadata": {
    "tags": [
     "hide_input"
    ]
   },
   "outputs": [],
   "source": [
    "import starry\n",
    "import numpy as np\n",
    "\n",
    "starry.config.lazy = False\n",
    "starry.config.quiet = True\n",
    "\n",
    "map = starry.Map(1)\n",
    "map[1, -1] = 1\n",
    "map.show(theta=np.linspace(0, 360, 50))"
   ]
  },
  {
   "cell_type": "markdown",
   "metadata": {},
   "source": [
    "It is clear that as this object rotates, the total flux does not change (and in fact is exactly zero). That's because the $Y_{1,-1}$ harmonic is perfectly symmetric under such rotations.\n",
    "\n",
    "It might be hard to think of other harmonics that behave this way, but in fact the **vast majority** of spherical harmonics are usually in the null space of the light curve problem. Let's take a deeper look at this. First, we'll load `starry` and generate a high resolution map of the Earth."
   ]
  },
  {
   "cell_type": "code",
   "execution_count": null,
   "metadata": {},
   "outputs": [],
   "source": [
    "import matplotlib.pyplot as plt\n",
    "import numpy as np\n",
    "import starry\n",
    "\n",
    "starry.config.lazy = False\n",
    "starry.config.quiet = True"
   ]
  },
  {
   "cell_type": "code",
   "execution_count": null,
   "metadata": {},
   "outputs": [],
   "source": [
    "map1 = starry.Map(30)\n",
    "map1.load(\"earth\", sigma=0.05)\n",
    "map1.show(projection=\"rect\")"
   ]
  },
  {
   "cell_type": "markdown",
   "metadata": {},
   "source": [
    "Let's now compute the light curve of this map as we rotate it one full cycle about the $\\hat{y}$ direction:"
   ]
  },
  {
   "cell_type": "code",
   "execution_count": null,
   "metadata": {},
   "outputs": [],
   "source": [
    "theta = np.linspace(0, 360, 1000)\n",
    "flux1 = map1.flux(theta=theta)\n",
    "plt.plot(theta, flux1)\n",
    "plt.xlabel(r\"$\\theta$ [degrees]\")\n",
    "plt.ylabel(\"Flux [arbitrary units]\");"
   ]
  },
  {
   "cell_type": "markdown",
   "metadata": {},
   "source": [
    "At phase 0, the prime meridian is facing the observer, and the flux drops as the Atlantic and then Pacific oceans come into view. The flux then peaks when Asia is in view, and that's the light curve of the Earth.\n",
    "\n",
    "Now, let's create a new, identical map of the Earth:"
   ]
  },
  {
   "cell_type": "code",
   "execution_count": null,
   "metadata": {},
   "outputs": [],
   "source": [
    "map2 = starry.Map(30)\n",
    "map2.load(\"earth\", sigma=0.05)"
   ]
  },
  {
   "cell_type": "markdown",
   "metadata": {},
   "source": [
    "But this time, we'll zero out all coefficients corresponding to odd degrees above 2..."
   ]
  },
  {
   "cell_type": "code",
   "execution_count": null,
   "metadata": {},
   "outputs": [],
   "source": [
    "for l in range(3, map2.ydeg + 1, 2):\n",
    "    map2[l, :] = 0"
   ]
  },
  {
   "cell_type": "markdown",
   "metadata": {},
   "source": [
    "... as well as all coefficients corresponding to negative values of `m`:"
   ]
  },
  {
   "cell_type": "code",
   "execution_count": null,
   "metadata": {},
   "outputs": [],
   "source": [
    "for l in range(1, map2.ydeg + 1):\n",
    "    map2[l, -l:0] = 0"
   ]
  },
  {
   "cell_type": "markdown",
   "metadata": {},
   "source": [
    "Most of the coefficients are now zero:"
   ]
  },
  {
   "cell_type": "code",
   "execution_count": null,
   "metadata": {},
   "outputs": [],
   "source": [
    "print(\n",
    "    \"Fractional size of the null space: %.3f\"\n",
    "    % (1 - np.count_nonzero(map2.y) / len(map2.y))\n",
    ")"
   ]
  },
  {
   "cell_type": "markdown",
   "metadata": {},
   "source": [
    "And here's what this silly map looks like:"
   ]
  },
  {
   "cell_type": "code",
   "execution_count": null,
   "metadata": {},
   "outputs": [],
   "source": [
    "map2.show(projection=\"rect\")"
   ]
  },
  {
   "cell_type": "markdown",
   "metadata": {},
   "source": [
    "It doesn't really look anything like the Earth (though a sharp eye might spot the outline of Africa and some other familiar features -- barely). If you're wondering why we did this, let's plot the light curve of this new map next to the light curve of the original map of the Earth:"
   ]
  },
  {
   "cell_type": "code",
   "execution_count": null,
   "metadata": {},
   "outputs": [],
   "source": [
    "flux2 = map2.flux(theta=theta)\n",
    "plt.plot(theta, flux1, label=\"map1\")\n",
    "plt.plot(theta, flux2, \"--\", label=\"map2\")\n",
    "plt.legend()\n",
    "plt.xlabel(r\"$\\theta$ [degrees]\")\n",
    "plt.ylabel(\"Flux [arbitrary units]\");"
   ]
  },
  {
   "cell_type": "markdown",
   "metadata": {},
   "source": [
    "Their light curves are **identical**. Even though the maps *look* completely different, the actual differences between the two maps lie entirely in the null space (by construction). This means we have no way of distinguishing between these two maps if all we have access to is the light curve."
   ]
  },
  {
   "cell_type": "markdown",
   "metadata": {},
   "source": [
    "To drive this point home, here's what the two maps look like side-by-side:"
   ]
  },
  {
   "cell_type": "code",
   "execution_count": null,
   "metadata": {
    "tags": [
     "hide_input"
    ]
   },
   "outputs": [],
   "source": [
    "from ipywidgets import widgets\n",
    "\n",
    "out1 = widgets.Output(layout={})\n",
    "out2 = widgets.Output(layout={})\n",
    "\n",
    "with out1:\n",
    "    map1.show(theta=np.linspace(0, 360, 50, endpoint=False))\n",
    "\n",
    "with out2:\n",
    "    map2.show(theta=np.linspace(0, 360, 50, endpoint=False))\n",
    "\n",
    "widgets.HBox([out1, out2])"
   ]
  },
  {
   "cell_type": "markdown",
   "metadata": {},
   "source": [
    "The total amount of flux at any given time -- equal to the brightness integrated over the entire disk -- is the same in both cases, even though the surfaces look nothing alike."
   ]
  },
  {
   "cell_type": "markdown",
   "metadata": {},
   "source": [
    "For objects rotating along an axis perpendicular to the line of sight (as in the example above), the null space consists of all of the $m < 0$ harmonics, as well as all of the harmonics of degree $l = 3, 5, 7 ...$:"
   ]
  },
  {
   "cell_type": "code",
   "execution_count": null,
   "metadata": {
    "tags": [
     "hide_input"
    ]
   },
   "outputs": [],
   "source": [
    "ydeg = 5\n",
    "fig, ax = plt.subplots(ydeg + 1, 2 * ydeg + 1, figsize=(12, 6))\n",
    "fig.subplots_adjust(hspace=0)\n",
    "for axis in ax.flatten():\n",
    "    axis.set_xticks([])\n",
    "    axis.set_yticks([])\n",
    "    axis.spines[\"top\"].set_visible(False)\n",
    "    axis.spines[\"right\"].set_visible(False)\n",
    "    axis.spines[\"bottom\"].set_visible(False)\n",
    "    axis.spines[\"left\"].set_visible(False)\n",
    "for l in range(ydeg + 1):\n",
    "    ax[l, 0].set_ylabel(\n",
    "        r\"$l = %d$\" % l,\n",
    "        rotation=\"horizontal\",\n",
    "        labelpad=20,\n",
    "        y=0.38,\n",
    "        fontsize=10,\n",
    "        alpha=0.5,\n",
    "    )\n",
    "for j, m in enumerate(range(-ydeg, ydeg + 1)):\n",
    "    if m < 0:\n",
    "        ax[-1, j].set_xlabel(\n",
    "            r\"$m {=} \\mathrm{-}%d$\" % -m, labelpad=10, fontsize=10, alpha=0.5\n",
    "        )\n",
    "    else:\n",
    "        ax[-1, j].set_xlabel(r\"$m = %d$\" % m, labelpad=10, fontsize=10, alpha=0.5)\n",
    "\n",
    "# Loop over the orders and degrees\n",
    "map = starry.Map(ydeg=ydeg, quiet=True)\n",
    "for i, l in enumerate(range(ydeg + 1)):\n",
    "    for j, m in enumerate(range(-l, l + 1)):\n",
    "\n",
    "        # Null space or not?\n",
    "        if (m < 0) or (l == 3) or (l == 5):\n",
    "            alpha = 0.25\n",
    "        else:\n",
    "            alpha = 1\n",
    "\n",
    "        # Offset the index for centered plotting\n",
    "        j += ydeg - l\n",
    "\n",
    "        # Compute the spherical harmonic\n",
    "        # with no rotation\n",
    "        map.reset()\n",
    "        if l > 0:\n",
    "            map[l, m] = 1\n",
    "\n",
    "        # Plot the spherical harmonic\n",
    "        ax[i, j].imshow(\n",
    "            map.render(),\n",
    "            cmap=\"plasma\",\n",
    "            interpolation=\"none\",\n",
    "            origin=\"lower\",\n",
    "            extent=(-1, 1, -1, 1),\n",
    "            alpha=alpha,\n",
    "        )\n",
    "        ax[i, j].set_xlim(-1.1, 1.1)\n",
    "        ax[i, j].set_ylim(-1.1, 1.1)"
   ]
  },
  {
   "cell_type": "markdown",
   "metadata": {},
   "source": [
    "The null space for this problem is indicated by the translucent harmonics above. (Note that in general certain linear combinations of the remaining harmonics are *also* in the null space, so the problem is actually *worse* than in the example above)."
   ]
  },
  {
   "cell_type": "raw",
   "metadata": {
    "raw_mimetype": "text/restructuredtext"
   },
   "source": [
    ".. note::\n",
    "   More on this soon!"
   ]
  }
 ],
 "metadata": {
  "celltoolbar": "Raw Cell Format",
  "kernelspec": {
   "display_name": "Python 3",
   "language": "python",
   "name": "python3"
  },
  "language_info": {
   "codemirror_mode": {
    "name": "ipython",
    "version": 3
   },
   "file_extension": ".py",
   "mimetype": "text/x-python",
   "name": "python",
   "nbconvert_exporter": "python",
   "pygments_lexer": "ipython3",
   "version": "3.7.2"
  }
 },
 "nbformat": 4,
 "nbformat_minor": 2
}
