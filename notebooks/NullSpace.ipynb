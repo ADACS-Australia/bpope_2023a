{
 "cells": [
  {
   "cell_type": "markdown",
   "metadata": {},
   "source": [
    "# ⚠️ The null space"
   ]
  },
  {
   "cell_type": "code",
   "execution_count": null,
   "metadata": {
    "tags": [
     "hide_input"
    ]
   },
   "outputs": [],
   "source": [
    "%matplotlib inline"
   ]
  },
  {
   "cell_type": "code",
   "execution_count": null,
   "metadata": {},
   "outputs": [],
   "source": [
    "import matplotlib.pyplot as plt\n",
    "import numpy as np\n",
    "import starry\n",
    "\n",
    "starry.config.lazy = False\n",
    "starry.config.quiet = True"
   ]
  },
  {
   "cell_type": "code",
   "execution_count": null,
   "metadata": {},
   "outputs": [],
   "source": [
    "map1 = starry.Map(30)\n",
    "map1.load(\"earth\", sigma=0.05)\n",
    "map1.show(projection=\"rect\")"
   ]
  },
  {
   "cell_type": "code",
   "execution_count": null,
   "metadata": {},
   "outputs": [],
   "source": [
    "theta = np.linspace(0, 360, 1000)\n",
    "flux1 = map.flux(theta=theta)\n",
    "plt.plot(theta, flux1)\n",
    "plt.xlabel(r\"$\\theta$ [degrees]\")\n",
    "plt.ylabel(\"Flux [arbitrary units]\");"
   ]
  },
  {
   "cell_type": "markdown",
   "metadata": {},
   "source": [
    "Let's create a new map of the Earth:"
   ]
  },
  {
   "cell_type": "code",
   "execution_count": null,
   "metadata": {},
   "outputs": [],
   "source": [
    "map2 = starry.Map(30)\n",
    "map2.load(\"earth\", sigma=0.05)"
   ]
  },
  {
   "cell_type": "markdown",
   "metadata": {},
   "source": [
    "This time, let's zero out all coefficients corresponding to odd degrees above 2..."
   ]
  },
  {
   "cell_type": "code",
   "execution_count": null,
   "metadata": {},
   "outputs": [],
   "source": [
    "for l in range(3, map2.ydeg + 1, 2):\n",
    "    map2[l, :] = 0"
   ]
  },
  {
   "cell_type": "markdown",
   "metadata": {},
   "source": [
    "... as well as all coefficients corresponding to negative values of `m`:"
   ]
  },
  {
   "cell_type": "code",
   "execution_count": null,
   "metadata": {},
   "outputs": [],
   "source": [
    "for l in range(1, map2.ydeg + 1):\n",
    "    map2[l, -l:0] = 0"
   ]
  },
  {
   "cell_type": "code",
   "execution_count": null,
   "metadata": {},
   "outputs": [],
   "source": [
    "map2.show(projection=\"rect\")"
   ]
  },
  {
   "cell_type": "code",
   "execution_count": null,
   "metadata": {},
   "outputs": [],
   "source": [
    "flux2 = map2.flux(theta=theta)\n",
    "plt.plot(theta, flux1, label=\"map1\")\n",
    "plt.plot(theta, flux2, \"--\", label=\"map2\")\n",
    "plt.legend()\n",
    "plt.xlabel(r\"$\\theta$ [degrees]\")\n",
    "plt.ylabel(\"Flux [arbitrary units]\");"
   ]
  },
  {
   "cell_type": "markdown",
   "metadata": {},
   "source": [
    "Here's what the two maps look like side-by-side:"
   ]
  },
  {
   "cell_type": "code",
   "execution_count": null,
   "metadata": {
    "tags": [
     "hide_input"
    ]
   },
   "outputs": [],
   "source": [
    "from ipywidgets import widgets\n",
    "out1 = widgets.Output(layout={})\n",
    "out2 = widgets.Output(layout={})\n",
    "\n",
    "with out1:\n",
    "    map1.show(theta=np.linspace(0, 360, 50, endpoint=False))\n",
    "\n",
    "with out2:\n",
    "    map2.show(theta=np.linspace(0, 360, 50, endpoint=False))\n",
    "    \n",
    "HBox([out1, out2])"
   ]
  }
 ],
 "metadata": {
  "celltoolbar": "Tags",
  "kernelspec": {
   "display_name": "Python 3",
   "language": "python",
   "name": "python3"
  },
  "language_info": {
   "codemirror_mode": {
    "name": "ipython",
    "version": 3
   },
   "file_extension": ".py",
   "mimetype": "text/x-python",
   "name": "python",
   "nbconvert_exporter": "python",
   "pygments_lexer": "ipython3",
   "version": "3.7.2"
  }
 },
 "nbformat": 4,
 "nbformat_minor": 2
}
