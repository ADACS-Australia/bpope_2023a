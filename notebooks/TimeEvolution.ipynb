{
 "cells": [
  {
   "cell_type": "markdown",
   "metadata": {},
   "source": [
    "# Time evolution of `starry` maps"
   ]
  },
  {
   "cell_type": "raw",
   "metadata": {
    "raw_mimetype": "text/restructuredtext"
   },
   "source": [
    ".. warning::\n",
    "\n",
    "    This tutorial showcases some experimental features. Modeling time evolution in ``starry`` is\n",
    "    still quite clunky and inefficient. Stay tuned for better ways of doing this."
   ]
  },
  {
   "cell_type": "markdown",
   "metadata": {},
   "source": [
    "In this notebook, we're going to take a look at how to model a star whose light curve evolves in time. The assumption here is that the evolution is due to either spot migration / evolution or differential rotation, so we need a way to model a time-variable surface map. There's a few different ways we can do that. Please note that these are all **experimental features** -- we're still working on the most efficient way of modeling temporal variability, so stay tuned!"
   ]
  },
  {
   "cell_type": "code",
   "execution_count": null,
   "metadata": {
    "tags": [
     "hide_input"
    ]
   },
   "outputs": [],
   "source": [
    "%matplotlib inline"
   ]
  },
  {
   "cell_type": "code",
   "execution_count": null,
   "metadata": {
    "tags": [
     "hide_input"
    ]
   },
   "outputs": [],
   "source": [
    "%run notebook_setup.py"
   ]
  },
  {
   "cell_type": "markdown",
   "metadata": {},
   "source": [
    "Let's begin with our usual imports."
   ]
  },
  {
   "cell_type": "code",
   "execution_count": null,
   "metadata": {},
   "outputs": [],
   "source": [
    "import matplotlib.pyplot as plt\n",
    "import numpy as np\n",
    "from tqdm.notebook import tqdm\n",
    "from scipy.special import factorial\n",
    "import starry\n",
    "\n",
    "starry.config.lazy = False\n",
    "starry.config.quiet = True"
   ]
  },
  {
   "cell_type": "markdown",
   "metadata": {},
   "source": [
    "## Generate the data"
   ]
  },
  {
   "cell_type": "markdown",
   "metadata": {},
   "source": [
    "Let's generate a map with three discrete Gaussian spots at different latitudes, rotating at slightly different rates due to a differential rotation with small shear $\\alpha = 0.02$. To create this dataset, we are linearly combining the flux generated from three separate maps and median-normalizing the light curve at the end.\n",
    "\n",
    "We're giving the map an inclination of 60 degrees and some limb darkening. These choices reduce the size of the null space slightly, making it easier to do inference. (Note that we are cheating since we assume below that we know the inclination and limb darkening exactly!)"
   ]
  },
  {
   "cell_type": "code",
   "execution_count": null,
   "metadata": {},
   "outputs": [],
   "source": [
    "inc = 60  # inclination\n",
    "u1 = 0.5  # linear limb darkening coeff\n",
    "alpha = 0.02  # differential rotation shear\n",
    "P = 1.0  # equatorial period\n",
    "intensity = -0.5  # spot intensity\n",
    "sigma = 0.05  # spot size"
   ]
  },
  {
   "cell_type": "code",
   "execution_count": null,
   "metadata": {},
   "outputs": [],
   "source": [
    "# Generate a 10th degree map with linear limb darkening\n",
    "np.random.seed(0)\n",
    "map = starry.Map(10, 1)\n",
    "map[1] = u1\n",
    "omega_eq = 360.0 / P\n",
    "time = np.linspace(0, 30, 1000)\n",
    "time_ani = time[::10]\n",
    "true_flux = np.zeros_like(time)\n",
    "res = 300\n",
    "true_image_rect = np.zeros((len(time_ani), res, res))\n",
    "true_image_ortho = np.zeros((len(time), res, res))\n",
    "\n",
    "# Generate light curves for three spots\n",
    "for lat, lon in zip([-30, 30, -20], [-90, 60, 135]):\n",
    "\n",
    "    # The angular velocity at the current latitude, computed\n",
    "    # from the equation for linear differential rotation\n",
    "    omega = omega_eq * (1 - alpha * np.sin(lat * np.pi / 180.0) ** 2)\n",
    "\n",
    "    # Reset the map coefficients & add a new spot\n",
    "    map.reset()\n",
    "    map.inc = inc\n",
    "    map[1] = u1\n",
    "    map.add_spot(intensity=intensity, sigma=sigma, lat=lat, lon=lon)\n",
    "\n",
    "    # Add to the flux\n",
    "    true_flux += map.flux(theta=omega * time)\n",
    "\n",
    "    # Add to our sky-prjected image\n",
    "    true_image_ortho += map.render(theta=omega * time)\n",
    "\n",
    "    # Hack: to get our lat-lon image, we need to manually\n",
    "    # shift the image of each spot according to how far it\n",
    "    # has lagged due to differential rotation. Sorry --\n",
    "    # there's no easy way to do this in starry currently!\n",
    "    tmp = map.render(projection=\"rect\")\n",
    "    shift = np.array((omega - omega_eq) * time_ani * res / 360, dtype=int)\n",
    "    for n in range(len(time_ani)):\n",
    "        true_image_rect[n] += np.roll(tmp, shift[n], axis=1)\n",
    "\n",
    "# Normalize and add a little bit of noise\n",
    "sigma = 1e-3\n",
    "flux = true_flux / np.nanmedian(true_flux)\n",
    "flux += sigma * np.random.random(len(time))"
   ]
  },
  {
   "cell_type": "markdown",
   "metadata": {},
   "source": [
    "We can visualize the map by passing in the image arrays. Let's look at it in sky projection:"
   ]
  },
  {
   "cell_type": "code",
   "execution_count": null,
   "metadata": {},
   "outputs": [],
   "source": [
    "map.show(image=true_image_ortho, projection=\"ortho\")"
   ]
  },
  {
   "cell_type": "markdown",
   "metadata": {},
   "source": [
    "and in lat-lon coordinates that co-rotate with the equator (note that limb darkening is disabled in this projection by default):"
   ]
  },
  {
   "cell_type": "code",
   "execution_count": null,
   "metadata": {},
   "outputs": [],
   "source": [
    "map.show(image=true_image_rect, projection=\"rect\")"
   ]
  },
  {
   "cell_type": "markdown",
   "metadata": {},
   "source": [
    "Here's the light curve we're going to do inference on. You can tell there's some differential rotation because of the change in the morphology over time:"
   ]
  },
  {
   "cell_type": "code",
   "execution_count": null,
   "metadata": {},
   "outputs": [],
   "source": [
    "plt.plot(time, flux)\n",
    "plt.xlabel(\"time [days]\")\n",
    "plt.ylabel(\"flux [normalized]\");"
   ]
  },
  {
   "cell_type": "markdown",
   "metadata": {},
   "source": [
    "There are several ways to model this with `starry`, so let's go over each one."
   ]
  },
  {
   "cell_type": "markdown",
   "metadata": {},
   "source": [
    "## 1. Using a Taylor expansion"
   ]
  },
  {
   "cell_type": "markdown",
   "metadata": {},
   "source": [
    "Recall that in `starry`, the flux is a linear function of the spherical harmonic coefficient vector:\n",
    "\n",
    "$$\n",
    "\\mathbf{f} = \\mathbf{A} \\mathbf{x}\n",
    "$$\n",
    "\n",
    "where $\\mathbf{f}$ is the flux vector, $\\mathbf{A} = \\mathbf{A}(\\Theta)$ is the design matrix (a function of a bunch of parameters $\\Theta$) that transforms the map to a light curve, and\n",
    "\n",
    "$$\n",
    "\\mathbf{x} \\equiv a \\mathbf{y}\n",
    "$$\n",
    "\n",
    "is the vector of spherical harmonic coefficients $\\mathbf{y}$ weighted by the map amplitude $a$ (a value proportional to the luminosity of the map).\n",
    "If the map is time variable, we can express this by allowing $\\mathbf{x}$ to be a function of time: $\\mathbf{x} = \\mathbf{x}(t) = a(t) \\mathbf{y}(t)$. To make this tractable, we can Taylor expand this vector about $t=0$:\n",
    "\n",
    "$$\n",
    "\\mathbf{x}(t) = \\mathbf{x}\\,\\Big|_{t=0} \\,\\,\\,+\\,\\,\\, \\mathbf{\\dot{x}}\\,\\Big|_{t=0}t \\,\\,\\,+\\,\\,\\, \\frac{1}{2}\\mathbf{\\ddot{x}}\\,\\Big|_{t=0}t^2 \\,\\,\\,+\\,\\,\\, ...\n",
    "$$\n",
    "\n",
    "The corresponding flux vector (i.e., the light curve) is then\n",
    "\n",
    "$$\n",
    "\\mathbf{f} = \\mathbf{A} \\mathbf{x}\\,\\Big|_{t=0} \\,\\,\\,+\\,\\,\\, \\mathbf{A} \\mathbf{\\dot{x}}\\,\\Big|_{t=0}t\n",
    "             \\,\\,\\,+\\,\\,\\, \\mathbf{A} \\frac{1}{2}\\mathbf{\\ddot{x}}\\,\\Big|_{t=0}t^2 \\,\\,\\,+\\,\\,\\, ...\n",
    "$$\n",
    "\n",
    "which we can write in matrix form as \n",
    "\n",
    "$$\n",
    "\\mathbf{f} = \\mathbf{A'} \\mathbf{x'}\n",
    "$$\n",
    "\n",
    "where\n",
    "\n",
    "$$\n",
    "\\mathbf{A'} \\equiv \\Big( \\mathbf{A} \\quad \\mathbf{A} t \\quad \\frac{1}{2} \\mathbf{A} t^2 \\quad ... \\Big)\n",
    "$$\n",
    "\n",
    "is an augmented design matrix and\n",
    "\n",
    "$$\n",
    "\\mathbf{x'} = \\begin{pmatrix}\\mathbf{x} \\\\ \\mathbf{\\dot{x}} \\\\ \\mathbf{\\ddot{x}} \\\\ ...\\end{pmatrix}\n",
    "$$\n",
    "\n",
    "is the vector of spherical harmonic coefficients and their derivatives.\n",
    "\n",
    "We can therefore *linearly solve* for the coefficients and their derivatives if we just augment the design matrix in this fashion (and provide suitable priors). Let's do that below."
   ]
  },
  {
   "cell_type": "markdown",
   "metadata": {},
   "source": [
    "Let's instantiate a map. We'll solve for the map up to $l = 5$ only and go up to 4th derivatives in the Taylor expansion. Note that we are solving for $4 \\times (5 + 1)^2 = 144$ coefficients in total, so we'll need some good regularization to prevent overfitting."
   ]
  },
  {
   "cell_type": "code",
   "execution_count": null,
   "metadata": {},
   "outputs": [],
   "source": [
    "map = starry.Map(5, 1)\n",
    "map.inc = inc\n",
    "map[1] = u1\n",
    "order = 4"
   ]
  },
  {
   "cell_type": "markdown",
   "metadata": {},
   "source": [
    "Here's how to build the augmented design matrix:"
   ]
  },
  {
   "cell_type": "code",
   "execution_count": null,
   "metadata": {},
   "outputs": [],
   "source": [
    "# Compute the usual design matrix\n",
    "theta = 360.0 / P * time\n",
    "A0 = map.design_matrix(theta=theta)\n",
    "\n",
    "# Normalize and center the time array\n",
    "# (to help with numerical stability)\n",
    "t = 2.0 * (time / time[-1] - 0.5)\n",
    "\n",
    "# Horizontally stack the quantity 1/n! A0 t^n\n",
    "coeff = 1.0 / factorial(np.arange(order + 1))\n",
    "T = np.vander(t, order + 1, increasing=True) * coeff\n",
    "A = np.hstack([(A0 * T[:, n].reshape(-1, 1)) for n in range(order + 1)])"
   ]
  },
  {
   "cell_type": "markdown",
   "metadata": {},
   "source": [
    "Here's what that looks like (the derivative orders are indicated):"
   ]
  },
  {
   "cell_type": "code",
   "execution_count": null,
   "metadata": {},
   "outputs": [],
   "source": [
    "plt.imshow(A, aspect=\"auto\")\n",
    "[plt.axvline(n * map.Ny - 1, color=\"k\") for n in range(1, order + 1)]\n",
    "[\n",
    "    plt.text(n * map.Ny - 1 + map.Ny / 2, len(t) / 2, n, color=\"k\")\n",
    "    for n in range(order + 1)\n",
    "]\n",
    "plt.gca().axis(\"off\")\n",
    "plt.colorbar();"
   ]
  },
  {
   "cell_type": "markdown",
   "metadata": {},
   "source": [
    "Now we'll tackle the linear problem."
   ]
  },
  {
   "cell_type": "raw",
   "metadata": {
    "raw_mimetype": "text/restructuredtext"
   },
   "source": [
    ".. warning::\n",
    "\n",
    "    Since this is still an experimental feature, the user interface is a little clunky.\n",
    "    Solving the linear problem for temporal maps will become easier in the next release of the code!"
   ]
  },
  {
   "cell_type": "markdown",
   "metadata": {},
   "source": [
    "We're going to use the ``solve`` method in the [linalg](linalg.html#starry.linalg) module to solve a custom linear system. We'll set the prior mean of the coefficients to zero, except for the first one, which we set to unity (since this is the prior on the map amplitude). We'll give all the coefficients a prior variance of $10^{-2}$, except for the first one, whose variance we'll set to unity."
   ]
  },
  {
   "cell_type": "code",
   "execution_count": null,
   "metadata": {},
   "outputs": [],
   "source": [
    "mu = np.zeros(A.shape[1])\n",
    "mu[0] = 1.0\n",
    "L = np.ones(map.Ny * (order + 1)) * 1e-2\n",
    "L[0] = 1.0\n",
    "x, cho_cov = starry.linalg.solve(A, flux, C=sigma ** 2, mu=mu, L=L)"
   ]
  },
  {
   "cell_type": "markdown",
   "metadata": {},
   "source": [
    "The ``solve`` method returns the amplitude-weighted coefficients ``x`` and the Cholesky factorization of the posterior covariance. Let's plot the best fit model against the data:"
   ]
  },
  {
   "cell_type": "code",
   "execution_count": null,
   "metadata": {},
   "outputs": [],
   "source": [
    "model = A.dot(x)\n",
    "plt.plot(time, flux, \".\", ms=3, label=\"data\")\n",
    "plt.plot(time, model, label=\"model\")\n",
    "plt.ylabel(\"flux [normalized]\")\n",
    "plt.xlabel(\"time [days]\")\n",
    "plt.legend();"
   ]
  },
  {
   "cell_type": "markdown",
   "metadata": {},
   "source": [
    "That looks really good! The residuals are fairly white:"
   ]
  },
  {
   "cell_type": "code",
   "execution_count": null,
   "metadata": {},
   "outputs": [],
   "source": [
    "plt.plot(time, flux - model, \".\", ms=3, label=\"data\")\n",
    "plt.ylabel(\"residuals\")\n",
    "plt.xlabel(\"time [days]\");"
   ]
  },
  {
   "cell_type": "markdown",
   "metadata": {},
   "source": [
    "Let's now visualize the solution. Recall that the coefficients of the map at time $t$ are given by\n",
    "\n",
    "$$\n",
    "\\mathbf{x}(t) = \\mathbf{x}\\,\\Big|_{t=0} \\,\\,\\,+\\,\\,\\, \\mathbf{\\dot{x}}\\,\\Big|_{t=0}t \\,\\,\\,+\\,\\,\\, \\frac{1}{2}\\mathbf{\\ddot{x}}\\,\\Big|_{t=0}t^2 \\,\\,\\,+\\,\\,\\, ...\n",
    "$$\n"
   ]
  },
  {
   "cell_type": "code",
   "execution_count": null,
   "metadata": {},
   "outputs": [],
   "source": [
    "# Allocate the image\n",
    "image = np.empty((len(time_ani), res, res))\n",
    "\n",
    "# Compute the weights of each coefficient in the Taylor expansion\n",
    "t_ani = 2.0 * (time_ani / time_ani[-1] - 0.5)\n",
    "T_ani = np.vander(t_ani, order + 1, increasing=True) * coeff\n",
    "\n",
    "# At each point in time, compute the map coefficients\n",
    "# and render the image\n",
    "for n in range(len(time_ani)):\n",
    "    xn = x.reshape(order + 1, -1).T.dot(T_ani[n])\n",
    "    map.amp = xn[0]\n",
    "    map[1:, :] = xn[1:] / map.amp\n",
    "    image[n] = map.render(res=res, projection=\"rect\")"
   ]
  },
  {
   "cell_type": "code",
   "execution_count": null,
   "metadata": {
    "replace_input_with": "map.show(image=image, projection=\"rect\")\nmap.show(image=true_image_rect, projection=\"rect\")"
   },
   "outputs": [],
   "source": [
    "from matplotlib.animation import FuncAnimation\n",
    "from IPython.display import HTML\n",
    "\n",
    "fig, ax = plt.subplots(2, figsize=(7, 6))\n",
    "\n",
    "img1 = ax[0].imshow(\n",
    "    image[0], origin=\"lower\", cmap=\"plasma\", extent=(-180, 180, -90, 90)\n",
    ")\n",
    "img2 = ax[1].imshow(\n",
    "    true_image_rect[0], origin=\"lower\", cmap=\"plasma\", extent=(-180, 180, -90, 90)\n",
    ")\n",
    "\n",
    "for i, axis in enumerate(ax):\n",
    "    lats = np.linspace(-90, 90, 7)[1:-1]\n",
    "    lons = np.linspace(-180, 180, 13)\n",
    "    latlines = [None for n in lats]\n",
    "    for n, lat in enumerate(lats):\n",
    "        latlines[n] = axis.axhline(lat, color=\"k\", lw=0.5, alpha=0.5, zorder=100)\n",
    "    lonlines = [None for n in lons]\n",
    "    for n, lon in enumerate(lons):\n",
    "        lonlines[n] = axis.axvline(lon, color=\"k\", lw=0.5, alpha=0.5, zorder=100)\n",
    "    axis.set_yticks(lats)\n",
    "    axis.set_ylabel(\"Latitude [deg]\")\n",
    "    axis.set_xticks(lons)\n",
    "    if i == 1:\n",
    "        axis.set_xlabel(\"Longitude [deg]\")\n",
    "    else:\n",
    "        axis.set_xticklabels([])\n",
    "\n",
    "\n",
    "def updatefig(i):\n",
    "    img1.set_array(image[i])\n",
    "    img2.set_array(true_image_rect[i])\n",
    "    return (img1, img2)\n",
    "\n",
    "\n",
    "ani = FuncAnimation(fig, updatefig, interval=75, blit=True, frames=image.shape[0],)\n",
    "\n",
    "plt.close()\n",
    "display(HTML(ani.to_html5_video()))"
   ]
  },
  {
   "cell_type": "markdown",
   "metadata": {},
   "source": [
    "The posterior mean map is shown at the top and the original map is shown at the bottom. We're able to recover the three spots and the general westward motion due to differential rotation, even though we never explicitly assumed anything about the number / shape / size of the spots or the strength of the differential rotation. There are, however, lots of artifacts in the solution, and one of the spots seems to disappear toward the end. They are also elongated latitudinally.\n",
    "\n",
    "Note, however, that this is a fundamental limitation of the mapping problem, since the [null space](NullSpace.ipynb) is huge! Unless we have **good prior information**, in many cases our maps will **look nothing like the true image of the star.**"
   ]
  }
 ],
 "metadata": {
  "celltoolbar": "Edit Metadata",
  "kernelspec": {
   "display_name": "Python 3",
   "language": "python",
   "name": "python3"
  },
  "language_info": {
   "codemirror_mode": {
    "name": "ipython",
    "version": 3
   },
   "file_extension": ".py",
   "mimetype": "text/x-python",
   "name": "python",
   "nbconvert_exporter": "python",
   "pygments_lexer": "ipython3",
   "version": "3.7.4"
  }
 },
 "nbformat": 4,
 "nbformat_minor": 2
}
