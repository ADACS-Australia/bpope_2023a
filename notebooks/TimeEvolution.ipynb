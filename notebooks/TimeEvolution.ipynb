{
 "cells": [
  {
   "cell_type": "markdown",
   "metadata": {},
   "source": [
    "# Time evolution of `starry` maps"
   ]
  },
  {
   "cell_type": "raw",
   "metadata": {
    "raw_mimetype": "text/restructuredtext"
   },
   "source": [
    ".. warning::\n",
    "\n",
    "    This tutorial showcases some experimental features. Modeling time evolution in ``starry`` is\n",
    "    still quite clunky and inefficient. Stay tuned for better ways of doing this."
   ]
  },
  {
   "cell_type": "markdown",
   "metadata": {},
   "source": [
    "In this notebook, we're going to take a look at how to model a star whose light curve evolves in time. The assumption here is that the evolution is due to either spot migration / evolution or differential rotation, so we need a way to model a time-variable surface map. There's a few different ways we can do that. Please note that these are all **experimental features** -- we're still working on the most efficient way of modeling temporal variability, so stay tuned!"
   ]
  },
  {
   "cell_type": "code",
   "execution_count": null,
   "metadata": {
    "tags": [
     "hide_input"
    ]
   },
   "outputs": [],
   "source": [
    "%matplotlib inline"
   ]
  },
  {
   "cell_type": "code",
   "execution_count": null,
   "metadata": {
    "tags": [
     "hide_input"
    ]
   },
   "outputs": [],
   "source": [
    "%run notebook_setup.py"
   ]
  },
  {
   "cell_type": "markdown",
   "metadata": {},
   "source": [
    "Let's begin with our usual imports."
   ]
  },
  {
   "cell_type": "code",
   "execution_count": null,
   "metadata": {},
   "outputs": [],
   "source": [
    "import matplotlib.pyplot as plt\n",
    "import numpy as np\n",
    "from tqdm.notebook import tqdm\n",
    "from scipy.special import factorial\n",
    "import starry\n",
    "\n",
    "starry.config.lazy = False\n",
    "starry.config.quiet = True"
   ]
  },
  {
   "cell_type": "markdown",
   "metadata": {},
   "source": [
    "## Generate the data"
   ]
  },
  {
   "cell_type": "code",
   "execution_count": null,
   "metadata": {},
   "outputs": [],
   "source": [
    "np.random.seed(0)\n",
    "map = starry.Map(10, 1)\n",
    "map[1] = 0.5\n",
    "\n",
    "inc = 60\n",
    "alpha = 0.02\n",
    "P = 1.0\n",
    "omega_eq = 360.0 / P\n",
    "time = np.linspace(0, 30, 1000)\n",
    "time_ani = time[::10]\n",
    "true_flux = np.zeros_like(time)\n",
    "\n",
    "res = 300\n",
    "true_image_rect = np.zeros((len(time_ani), res, res))\n",
    "true_image_ortho = np.zeros((len(time), res, res))\n",
    "\n",
    "for lat, lon in zip([-30, 30, -20], [-90, 60, 135]):\n",
    "    intensity = -0.5\n",
    "    sigma = 0.05\n",
    "    omega = omega_eq * (1 - alpha * np.sin(lat * np.pi / 180.0) ** 2)\n",
    "    map.reset(inc=inc)\n",
    "    map[1] = 0.5\n",
    "    map.add_spot(intensity=intensity, sigma=sigma, lat=lat, lon=lon)\n",
    "    true_flux += map.flux(theta=omega * time)\n",
    "    true_image_ortho += map.render(theta=omega * time)\n",
    "\n",
    "    # HACK\n",
    "    tmp = map.render(projection=\"rect\")\n",
    "    shift = np.array((omega - omega_eq) * time_ani * res / 360, dtype=int)\n",
    "    for n in range(len(time_ani)):\n",
    "        true_image_rect[n] += np.roll(tmp, shift[n], axis=1)\n",
    "\n",
    "sigma = 1e-3\n",
    "flux = true_flux / np.nanmedian(true_flux)\n",
    "flux += sigma * np.random.random(len(time))"
   ]
  },
  {
   "cell_type": "code",
   "execution_count": null,
   "metadata": {},
   "outputs": [],
   "source": [
    "map.show(image=true_image_rect, projection=\"rect\")"
   ]
  },
  {
   "cell_type": "code",
   "execution_count": null,
   "metadata": {},
   "outputs": [],
   "source": [
    "plt.plot(time, flux);"
   ]
  },
  {
   "cell_type": "markdown",
   "metadata": {},
   "source": [
    "## Taylor expansion"
   ]
  },
  {
   "cell_type": "code",
   "execution_count": null,
   "metadata": {},
   "outputs": [],
   "source": [
    "map = starry.Map(5, 1)\n",
    "map.inc = inc\n",
    "map[1] = 0.5\n",
    "order = 4\n",
    "P = 1.00\n",
    "theta = 360.0 / P * time\n",
    "A0 = map.design_matrix(theta=theta)"
   ]
  },
  {
   "cell_type": "code",
   "execution_count": null,
   "metadata": {},
   "outputs": [],
   "source": [
    "t = 2.0 * (time / time[-1] - 0.5)\n",
    "coeff = 1.0 / factorial(np.arange(order + 1))\n",
    "T = np.vander(t, order + 1, increasing=True) * coeff\n",
    "A = np.hstack([(A0 * T[:, n].reshape(-1, 1)) for n in range(order + 1)])"
   ]
  },
  {
   "cell_type": "code",
   "execution_count": null,
   "metadata": {},
   "outputs": [],
   "source": [
    "plt.imshow(T, aspect=\"auto\")\n",
    "plt.colorbar();"
   ]
  },
  {
   "cell_type": "code",
   "execution_count": null,
   "metadata": {},
   "outputs": [],
   "source": [
    "plt.imshow(A, aspect=\"auto\")\n",
    "plt.colorbar();"
   ]
  },
  {
   "cell_type": "code",
   "execution_count": null,
   "metadata": {},
   "outputs": [],
   "source": [
    "cho_C = np.diag(np.ones_like(flux) * sigma)\n",
    "mu = np.zeros(A.shape[1])\n",
    "mu[0] = 1.0\n",
    "\n",
    "LInv = np.diag(np.ones(map.Ny * (order + 1)) * 1e2)\n",
    "LInv[0, 0] = 1.0\n",
    "\n",
    "x, cho_cov = starry.linalg.solve(A, flux, cho_C, mu, LInv)"
   ]
  },
  {
   "cell_type": "code",
   "execution_count": null,
   "metadata": {},
   "outputs": [],
   "source": [
    "model = A.dot(x)\n",
    "plt.plot(time, flux, \".\", ms=3, label=\"data\")\n",
    "plt.plot(time, model, label=\"model\")\n",
    "plt.ylabel(\"flux [normalized]\")\n",
    "plt.xlabel(\"time [days]\")\n",
    "plt.legend();"
   ]
  },
  {
   "cell_type": "code",
   "execution_count": null,
   "metadata": {},
   "outputs": [],
   "source": [
    "image = np.empty((len(time_ani), res, res))\n",
    "\n",
    "T_ani = (\n",
    "    np.vander(2.0 * (time_ani / time_ani[-1] - 0.5), order + 1, increasing=True) * coeff\n",
    ")\n",
    "\n",
    "for n in tqdm(range(len(time_ani))):\n",
    "    xn = x.reshape(order + 1, -1).T.dot(T_ani[n])\n",
    "    map.amp = xn[0]\n",
    "    map[1:, :] = xn[1:] / map.amp\n",
    "    image[n] = map.render(res=res, projection=\"rect\")"
   ]
  },
  {
   "cell_type": "code",
   "execution_count": null,
   "metadata": {
    "replace_input_with": "map.show(image=image, projection=\"rect\")\nmap.show(image=true_image_rect, projection=\"rect\")"
   },
   "outputs": [],
   "source": [
    "from matplotlib.animation import FuncAnimation\n",
    "from IPython.display import HTML\n",
    "\n",
    "fig, ax = plt.subplots(2, figsize=(7, 6))\n",
    "\n",
    "img1 = ax[0].imshow(\n",
    "    image[0], origin=\"lower\", cmap=\"plasma\", extent=(-180, 180, -90, 90)\n",
    ")\n",
    "img2 = ax[1].imshow(\n",
    "    true_image_rect[0], origin=\"lower\", cmap=\"plasma\", extent=(-180, 180, -90, 90)\n",
    ")\n",
    "\n",
    "for i, axis in enumerate(ax):\n",
    "    lats = np.linspace(-90, 90, 7)[1:-1]\n",
    "    lons = np.linspace(-180, 180, 13)\n",
    "    latlines = [None for n in lats]\n",
    "    for n, lat in enumerate(lats):\n",
    "        latlines[n] = axis.axhline(lat, color=\"k\", lw=0.5, alpha=0.5, zorder=100)\n",
    "    lonlines = [None for n in lons]\n",
    "    for n, lon in enumerate(lons):\n",
    "        lonlines[n] = axis.axvline(lon, color=\"k\", lw=0.5, alpha=0.5, zorder=100)\n",
    "    axis.set_yticks(lats)\n",
    "    axis.set_ylabel(\"Latitude [deg]\")\n",
    "    axis.set_xticks(lons)\n",
    "    if i == 1:\n",
    "        axis.set_xlabel(\"Longitude [deg]\")\n",
    "    else:\n",
    "        axis.set_xticklabels([])\n",
    "\n",
    "\n",
    "def updatefig(i):\n",
    "    img1.set_array(image[i])\n",
    "    img2.set_array(true_image_rect[i])\n",
    "    return (img1, img2)\n",
    "\n",
    "\n",
    "ani = FuncAnimation(fig, updatefig, interval=75, blit=True, frames=image.shape[0],)\n",
    "\n",
    "plt.close()\n",
    "display(HTML(ani.to_html5_video()))"
   ]
  },
  {
   "cell_type": "code",
   "execution_count": null,
   "metadata": {},
   "outputs": [],
   "source": []
  }
 ],
 "metadata": {
  "celltoolbar": "Edit Metadata",
  "kernelspec": {
   "display_name": "Python 3",
   "language": "python",
   "name": "python3"
  },
  "language_info": {
   "codemirror_mode": {
    "name": "ipython",
    "version": 3
   },
   "file_extension": ".py",
   "mimetype": "text/x-python",
   "name": "python",
   "nbconvert_exporter": "python",
   "pygments_lexer": "ipython3",
   "version": "3.7.4"
  }
 },
 "nbformat": 4,
 "nbformat_minor": 2
}
