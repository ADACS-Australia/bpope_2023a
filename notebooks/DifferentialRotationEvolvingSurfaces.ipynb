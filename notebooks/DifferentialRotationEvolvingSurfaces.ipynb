{
 "cells": [
  {
   "cell_type": "markdown",
   "metadata": {},
   "source": [
    "# Evolving surfaces"
   ]
  },
  {
   "cell_type": "code",
   "execution_count": null,
   "metadata": {},
   "outputs": [],
   "source": [
    "%matplotlib inline"
   ]
  },
  {
   "cell_type": "code",
   "execution_count": null,
   "metadata": {},
   "outputs": [],
   "source": [
    "%run notebook_setup.py"
   ]
  },
  {
   "cell_type": "code",
   "execution_count": null,
   "metadata": {},
   "outputs": [],
   "source": [
    "import starry\n",
    "import matplotlib.pyplot as plt\n",
    "import numpy as np\n",
    "from tqdm.notebook import tqdm\n",
    "from mpl_toolkits.axes_grid1 import make_axes_locatable\n",
    "import time\n",
    "from scipy.interpolate import interp1d"
   ]
  },
  {
   "cell_type": "code",
   "execution_count": null,
   "metadata": {},
   "outputs": [],
   "source": [
    "starry.config.lazy = False\n",
    "starry.config.quiet = True"
   ]
  },
  {
   "cell_type": "markdown",
   "metadata": {},
   "source": [
    "## Isotropic map"
   ]
  },
  {
   "cell_type": "code",
   "execution_count": null,
   "metadata": {},
   "outputs": [],
   "source": [
    "np.random.seed(3)\n",
    "ydeg_max = 15\n",
    "ydeg_tru = 10\n",
    "\n",
    "inc_tru = 75.0\n",
    "prot_tru = 3.0\n",
    "alpha_tru = 0.025\n",
    "\n",
    "tmax = 100.0\n",
    "npts = 1000\n",
    "\n",
    "tau_tru = 28.0\n",
    "t0_tru = np.arange(-tau_tru, tmax, tau_tru)\n",
    "ncmp_tru = len(t0_tru)"
   ]
  },
  {
   "cell_type": "markdown",
   "metadata": {},
   "source": [
    "### Component amplitude as a function of time"
   ]
  },
  {
   "cell_type": "code",
   "execution_count": null,
   "metadata": {},
   "outputs": [],
   "source": [
    "time = np.linspace(0, tmax, npts)\n",
    "amp = np.zeros((ncmp_tru, npts))\n",
    "for k, t0 in enumerate(t0_tru):\n",
    "    amp[k] = 1 - np.abs(t0 - time + tau_tru) / tau_tru\n",
    "    amp[k][amp[k] < 0] = 0\n",
    "plt.plot(time, amp.T);"
   ]
  },
  {
   "cell_type": "markdown",
   "metadata": {},
   "source": [
    "### Components drawn from same isotropic process"
   ]
  },
  {
   "cell_type": "code",
   "execution_count": null,
   "metadata": {},
   "outputs": [],
   "source": [
    "power = lambda l: 5e-3 * np.exp(-((l / 5.0) ** 2)) / (2 * l + 1)\n",
    "y = [[1.0] for k in range(ncmp_tru)]\n",
    "for l in range(1, ydeg_max + 1):\n",
    "    for k in range(ncmp_tru):\n",
    "        if l > ydeg_tru:\n",
    "            y[k] += list(np.zeros(2 * l + 1))\n",
    "        else:\n",
    "            y[k] += list(np.random.randn(2 * l + 1) * np.sqrt(power(l)))\n",
    "y = np.array(y)"
   ]
  },
  {
   "cell_type": "markdown",
   "metadata": {},
   "source": [
    "### Compute the flux (no differential rotation)"
   ]
  },
  {
   "cell_type": "code",
   "execution_count": null,
   "metadata": {},
   "outputs": [],
   "source": [
    "map = starry.Map(ydeg_max)\n",
    "map.inc = inc_tru\n",
    "map.alpha = 0.0\n",
    "flux0 = np.zeros_like(time)\n",
    "for k in range(ncmp_tru):\n",
    "    theta = 360.0 / prot_tru * (time - t0_tru[k])\n",
    "    map[:, :] = y[k]\n",
    "    flux0 += amp[k] * map.flux(theta=theta)\n",
    "\n",
    "plt.plot(time, flux0);"
   ]
  },
  {
   "cell_type": "code",
   "execution_count": null,
   "metadata": {},
   "outputs": [],
   "source": [
    "res = 300\n",
    "downsamp = 10\n",
    "nim = len(time[::downsamp])\n",
    "img = np.zeros((nim, res, res))\n",
    "for k in tqdm(range(ncmp_tru)):\n",
    "    theta = 360.0 / prot_tru * (time - t0_tru[k])\n",
    "    map[:, :] = y[k]\n",
    "    img += amp[k, ::downsamp].reshape(-1, 1, 1) * map.render(\n",
    "        projection=\"moll\", res=res, theta=theta[::downsamp]\n",
    "    )\n",
    "map.show(image=img, projection=\"moll\")"
   ]
  },
  {
   "cell_type": "markdown",
   "metadata": {},
   "source": [
    "### Add differential rotation"
   ]
  },
  {
   "cell_type": "code",
   "execution_count": null,
   "metadata": {},
   "outputs": [],
   "source": [
    "map = starry.Map(ydeg_max)\n",
    "map.inc = inc_tru\n",
    "map.alpha = alpha_tru\n",
    "flux = np.zeros_like(time)\n",
    "for k in range(ncmp_tru):\n",
    "    theta = 360.0 / prot_tru * (time - t0_tru[k])\n",
    "    map[:, :] = y[k]\n",
    "    flux += amp[k] * map.flux(theta=theta)"
   ]
  },
  {
   "cell_type": "code",
   "execution_count": null,
   "metadata": {},
   "outputs": [],
   "source": [
    "plt.plot(time, flux0, lw=1, alpha=0.5)\n",
    "plt.plot(time, flux);"
   ]
  },
  {
   "cell_type": "code",
   "execution_count": null,
   "metadata": {},
   "outputs": [],
   "source": [
    "res = 300\n",
    "downsamp = 10\n",
    "nim = len(time[::downsamp])\n",
    "img = np.zeros((nim, res, res))\n",
    "for k in tqdm(range(ncmp_tru)):\n",
    "    theta = 360.0 / prot_tru * (time - t0_tru[k])\n",
    "    map[:, :] = y[k]\n",
    "    img += amp[k, ::downsamp].reshape(-1, 1, 1) * map.render(\n",
    "        projection=\"moll\", res=res, theta=theta[::downsamp]\n",
    "    )\n",
    "map.show(image=img, projection=\"moll\")"
   ]
  },
  {
   "cell_type": "markdown",
   "metadata": {},
   "source": [
    "## Discrete spots"
   ]
  },
  {
   "cell_type": "code",
   "execution_count": null,
   "metadata": {},
   "outputs": [],
   "source": [
    "np.random.seed(0)\n",
    "ydeg_max = 20\n",
    "ydeg_tru = 15\n",
    "\n",
    "inc_tru = 75.0\n",
    "prot_tru = 3.0\n",
    "alpha_tru = 0.025\n",
    "\n",
    "tmax = 100.0\n",
    "npts = 1000\n",
    "\n",
    "tau_tru = 28.0\n",
    "t0_tru = np.arange(-tau_tru, tmax, tau_tru)\n",
    "ncmp_tru = len(t0_tru)"
   ]
  },
  {
   "cell_type": "markdown",
   "metadata": {},
   "source": [
    "### Component amplitude as a function of time"
   ]
  },
  {
   "cell_type": "code",
   "execution_count": null,
   "metadata": {},
   "outputs": [],
   "source": [
    "time = np.linspace(0, tmax, npts)\n",
    "amp = np.zeros((ncmp_tru, npts))\n",
    "for k, t0 in enumerate(t0_tru):\n",
    "    amp[k] = 1 - np.abs(t0 - time + tau_tru) / tau_tru\n",
    "    amp[k][amp[k] < 0] = 0\n",
    "plt.plot(time, amp.T);"
   ]
  },
  {
   "cell_type": "markdown",
   "metadata": {},
   "source": [
    "### Spot components"
   ]
  },
  {
   "cell_type": "code",
   "execution_count": null,
   "metadata": {},
   "outputs": [],
   "source": [
    "map = starry.Map(ydeg_max)\n",
    "y = np.zeros((ncmp_tru, (ydeg_max + 1) ** 2))\n",
    "for k in range(ncmp_tru):\n",
    "    map.reset()\n",
    "    for j in range(4):\n",
    "        lat = (np.arccos(2 * np.random.random() - 1) - 0.5 * np.pi) * 180 / np.pi\n",
    "        lon = 360.0 * np.random.random()\n",
    "        sigma = 0.01 + 0.1 * np.random.random()\n",
    "        map.add_spot(lat=lat, lon=lon, sigma=sigma, intensity=-0.1, relative=False)\n",
    "    map[ydeg_tru + 1 :, :] = 0.0\n",
    "    y[k] = map.y"
   ]
  },
  {
   "cell_type": "markdown",
   "metadata": {},
   "source": [
    "### Compute the flux (no differential rotation)"
   ]
  },
  {
   "cell_type": "code",
   "execution_count": null,
   "metadata": {},
   "outputs": [],
   "source": [
    "map = starry.Map(ydeg_max)\n",
    "map.inc = inc_tru\n",
    "map.alpha = 0.0\n",
    "flux0 = np.zeros_like(time)\n",
    "for k in range(ncmp_tru):\n",
    "    theta = 360.0 / prot_tru * (time - t0_tru[k])\n",
    "    map[:, :] = y[k]\n",
    "    flux0 += amp[k] * map.flux(theta=theta)\n",
    "\n",
    "plt.plot(time, flux0);"
   ]
  },
  {
   "cell_type": "code",
   "execution_count": null,
   "metadata": {},
   "outputs": [],
   "source": [
    "res = 300\n",
    "downsamp = 10\n",
    "nim = len(time[::downsamp])\n",
    "img = np.zeros((nim, res, res))\n",
    "for k in tqdm(range(ncmp_tru)):\n",
    "    theta = 360.0 / prot_tru * (time - t0_tru[k])\n",
    "    map[:, :] = y[k]\n",
    "    img += amp[k, ::downsamp].reshape(-1, 1, 1) * map.render(\n",
    "        projection=\"moll\", res=res, theta=theta[::downsamp]\n",
    "    )\n",
    "map.show(image=img * np.pi, projection=\"moll\", colorbar=True)"
   ]
  },
  {
   "cell_type": "markdown",
   "metadata": {},
   "source": [
    "### Add differential rotation"
   ]
  },
  {
   "cell_type": "code",
   "execution_count": null,
   "metadata": {},
   "outputs": [],
   "source": [
    "map = starry.Map(ydeg_max)\n",
    "map.inc = inc_tru\n",
    "map.alpha = alpha_tru\n",
    "flux = np.zeros_like(time)\n",
    "for k in range(ncmp_tru):\n",
    "    theta = 360.0 / prot_tru * (time - t0_tru[k])\n",
    "    map[:, :] = y[k]\n",
    "    flux += amp[k] * map.flux(theta=theta)"
   ]
  },
  {
   "cell_type": "code",
   "execution_count": null,
   "metadata": {},
   "outputs": [],
   "source": [
    "plt.plot(time, flux0, lw=1, alpha=0.5)\n",
    "plt.plot(time, flux);"
   ]
  },
  {
   "cell_type": "code",
   "execution_count": null,
   "metadata": {},
   "outputs": [],
   "source": [
    "res = 300\n",
    "downsamp = 10\n",
    "nim = len(time[::downsamp])\n",
    "img = np.zeros((nim, res, res))\n",
    "for k in tqdm(range(ncmp_tru)):\n",
    "    theta = 360.0 / prot_tru * (time - t0_tru[k])\n",
    "    map[:, :] = y[k]\n",
    "    img += amp[k, ::downsamp].reshape(-1, 1, 1) * map.render(\n",
    "        projection=\"moll\", res=res, theta=theta[::downsamp]\n",
    "    )\n",
    "map.show(image=img * np.pi, projection=\"moll\", colorbar=True)"
   ]
  }
 ],
 "metadata": {
  "kernelspec": {
   "display_name": "Python 3",
   "language": "python",
   "name": "python3"
  },
  "language_info": {
   "codemirror_mode": {
    "name": "ipython",
    "version": 3
   },
   "file_extension": ".py",
   "mimetype": "text/x-python",
   "name": "python",
   "nbconvert_exporter": "python",
   "pygments_lexer": "ipython3",
   "version": "3.7.4"
  }
 },
 "nbformat": 4,
 "nbformat_minor": 2
}
