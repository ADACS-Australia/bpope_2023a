{
 "cells": [
  {
   "cell_type": "markdown",
   "metadata": {},
   "source": [
    "# Linear solve"
   ]
  },
  {
   "cell_type": "markdown",
   "metadata": {},
   "source": [
    "In this notebook we discuss how to linearly solve for the posterior over spherical harmonic coefficients of a map given a light curve. This is similar to what we did in the [Eclipsing Binary](EclipsingBinary_Linear.ipynb) notebook. The idea is to take advantage of the linearity of the `starry` solution to analytically compute the posterior over maps consistent with the data."
   ]
  },
  {
   "cell_type": "code",
   "execution_count": null,
   "metadata": {
    "tags": [
     "hide_input"
    ]
   },
   "outputs": [],
   "source": [
    "%matplotlib inline"
   ]
  },
  {
   "cell_type": "code",
   "execution_count": null,
   "metadata": {
    "tags": [
     "hide_input"
    ]
   },
   "outputs": [],
   "source": [
    "%run notebook_setup.py"
   ]
  },
  {
   "cell_type": "code",
   "execution_count": null,
   "metadata": {},
   "outputs": [],
   "source": [
    "import matplotlib.pyplot as plt\n",
    "import numpy as np\n",
    "import starry\n",
    "\n",
    "np.random.seed(12)\n",
    "starry.config.lazy = False\n",
    "starry.config.quiet = True"
   ]
  },
  {
   "cell_type": "markdown",
   "metadata": {},
   "source": [
    "We're going to demonstrate the linear solve feature using a map in reflected light, since the presence of a day/night terminator breaks many degeneracies and makes the mapping problem [much less ill-posed](NullSpace.ipynb). Let's begin by instantiating a reflected light map of the Earth. We'll give it the same obliquity as the Earth and observeit at an inclination of 60 degrees:"
   ]
  },
  {
   "cell_type": "code",
   "execution_count": null,
   "metadata": {},
   "outputs": [],
   "source": [
    "map = starry.Map(ydeg=10, reflected=True)\n",
    "map.obl = 23.5\n",
    "map.inc = 60\n",
    "map.load(\"earth\")\n",
    "map.show(projection=\"rect\", illuminate=False)"
   ]
  },
  {
   "cell_type": "markdown",
   "metadata": {},
   "source": [
    "Now we generate a dataset. We'll assume we have 10,000 observations over the course of a full orbit of the planet. We further take the planet's rotation period to be one-tenth of its orbital period. This will give us good coverage during all seasons, maximizing the amount of data we have for all the different regions of the planet:"
   ]
  },
  {
   "cell_type": "code",
   "execution_count": null,
   "metadata": {},
   "outputs": [],
   "source": [
    "# Make the planet rotate 10 times over one full orbit\n",
    "npts = 10000\n",
    "nrot = 10\n",
    "time = np.linspace(0, 1, npts)\n",
    "theta = np.linspace(0, 360 * nrot, npts)\n",
    "\n",
    "# Position of the star relative to the planet in the orbital plane\n",
    "t = np.reshape(time, (1, -1))\n",
    "p = np.vstack((np.cos(2 * np.pi * t), np.sin(2 * np.pi * t), 0 * t))\n",
    "\n",
    "# Rotate to an observer inclination of 60 degrees\n",
    "ci = np.cos(map.inc * np.pi / 180)\n",
    "si = np.sin(map.inc * np.pi / 180)\n",
    "R = np.array([[1, 0, 0], [0, ci, -si], [0, si, ci]])\n",
    "xs, ys, zs = R.dot(p)\n",
    "\n",
    "# Keywords to the `flux` method\n",
    "kwargs = dict(theta=theta, xs=xs, ys=ys, zs=zs)"
   ]
  },
  {
   "cell_type": "code",
   "execution_count": null,
   "metadata": {},
   "outputs": [],
   "source": [
    "# Compute the flux\n",
    "flux0 = map.flux(**kwargs)\n",
    "sigma = 0.005\n",
    "flux = flux0 + sigma * np.random.randn(npts)"
   ]
  },
  {
   "cell_type": "code",
   "execution_count": null,
   "metadata": {},
   "outputs": [],
   "source": [
    "fig, ax = plt.subplots(1, figsize=(12, 4))\n",
    "ax.plot(time, flux)\n",
    "ax.set_xlabel(\"Orbital phase\", fontsize=18)\n",
    "ax.set_ylabel(\"Normalized flux\", fontsize=18);"
   ]
  },
  {
   "cell_type": "markdown",
   "metadata": {},
   "source": [
    "Now the fun part. Let's instantiate a new map so we can do inference on this dataset:"
   ]
  },
  {
   "cell_type": "code",
   "execution_count": null,
   "metadata": {},
   "outputs": [],
   "source": [
    "map = starry.Map(ydeg=10, reflected=True)\n",
    "map.obl = 23.5\n",
    "map.inc = 60"
   ]
  },
  {
   "cell_type": "markdown",
   "metadata": {},
   "source": [
    "We now set the data vector (the flux and the covariance matrix) and the prior (`L` is the prior variance of the spherical harmonic coefficients, which we set to something small):"
   ]
  },
  {
   "cell_type": "code",
   "execution_count": null,
   "metadata": {},
   "outputs": [],
   "source": [
    "map.set_data(flux, C=sigma ** 2)\n",
    "map.set_prior(L=5e-4)"
   ]
  },
  {
   "cell_type": "markdown",
   "metadata": {},
   "source": [
    "Finally, we call `solve`, passing in the `kwargs` from before. In this case, we're assuming we know the orbital information exactly. (When this is not the case, we need to do sampling for the orbital parameters; we cover this in more detail in the **Eclipsing Binary** tutorial)."
   ]
  },
  {
   "cell_type": "code",
   "execution_count": null,
   "metadata": {},
   "outputs": [],
   "source": [
    "%%time\n",
    "yhat, cho_ycov = map.solve(**kwargs)"
   ]
  },
  {
   "cell_type": "markdown",
   "metadata": {},
   "source": [
    "The values returned are the posterior mean `yhat` of the spherical harmonic coefficients and the Cholesky factorization of the posterior covariance matrix `cho_ycov`. To view our map, we can set the map's coefficients equal to `yhat` (note that `yhat` does *not* include the zeroth coefficient, which is always fixed in `starry`):"
   ]
  },
  {
   "cell_type": "code",
   "execution_count": null,
   "metadata": {},
   "outputs": [],
   "source": [
    "map[1:, :] = yhat"
   ]
  },
  {
   "cell_type": "code",
   "execution_count": null,
   "metadata": {},
   "outputs": [],
   "source": [
    "map.show(projection=\"rect\", illuminate=False)"
   ]
  },
  {
   "cell_type": "markdown",
   "metadata": {},
   "source": [
    "We can also draw a random sample from the posterior (and automatically set the map coefficients) by calling"
   ]
  },
  {
   "cell_type": "code",
   "execution_count": null,
   "metadata": {},
   "outputs": [],
   "source": [
    "map.draw()"
   ]
  },
  {
   "cell_type": "code",
   "execution_count": null,
   "metadata": {},
   "outputs": [],
   "source": [
    "map.show(projection=\"rect\", illuminate=False)"
   ]
  },
  {
   "cell_type": "markdown",
   "metadata": {},
   "source": [
    "We can verify that we got a good fit to the data:"
   ]
  },
  {
   "cell_type": "code",
   "execution_count": null,
   "metadata": {},
   "outputs": [],
   "source": [
    "fig, ax = plt.subplots(1, figsize=(12, 4))\n",
    "ax.plot(time, flux)\n",
    "plt.plot(time, map.flux(**kwargs))\n",
    "ax.set_xlabel(\"Orbital phase\", fontsize=18)\n",
    "ax.set_ylabel(\"Normalized flux\", fontsize=18);"
   ]
  }
 ],
 "metadata": {
  "celltoolbar": "Raw Cell Format",
  "kernelspec": {
   "display_name": "Python 3",
   "language": "python",
   "name": "python3"
  },
  "language_info": {
   "codemirror_mode": {
    "name": "ipython",
    "version": 3
   },
   "file_extension": ".py",
   "mimetype": "text/x-python",
   "name": "python",
   "nbconvert_exporter": "python",
   "pygments_lexer": "ipython3",
   "version": "3.7.4"
  }
 },
 "nbformat": 4,
 "nbformat_minor": 2
}
