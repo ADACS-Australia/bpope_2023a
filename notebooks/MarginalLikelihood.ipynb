{
 "cells": [
  {
   "cell_type": "code",
   "execution_count": null,
   "metadata": {},
   "outputs": [],
   "source": [
    "%matplotlib inline"
   ]
  },
  {
   "cell_type": "code",
   "execution_count": null,
   "metadata": {},
   "outputs": [],
   "source": [
    "import starry\n",
    "import matplotlib.pyplot as plt\n",
    "import numpy as np\n",
    "from tqdm import tqdm_notebook as tqdm\n",
    "\n",
    "starry.config.lazy = False\n",
    "starry.config.quiet = True"
   ]
  },
  {
   "cell_type": "markdown",
   "metadata": {},
   "source": [
    "Load the Earth:"
   ]
  },
  {
   "cell_type": "code",
   "execution_count": null,
   "metadata": {},
   "outputs": [],
   "source": [
    "inc_true = 70.0\n",
    "map = starry.Map(ydeg=10, inc=inc_true)\n",
    "map.load(\"earth\")\n",
    "map.show()"
   ]
  },
  {
   "cell_type": "markdown",
   "metadata": {},
   "source": [
    "Generate a rotational light curve:"
   ]
  },
  {
   "cell_type": "code",
   "execution_count": null,
   "metadata": {},
   "outputs": [],
   "source": [
    "y_true = np.array(map[1:, :])\n",
    "theta = np.linspace(0, 360, 1000)\n",
    "flux0 = map.flux(theta=theta)\n",
    "sigma = 0.0025\n",
    "flux = flux0 + np.random.randn(len(theta)) * sigma\n",
    "plt.plot(theta, flux);"
   ]
  },
  {
   "cell_type": "code",
   "execution_count": null,
   "metadata": {},
   "outputs": [],
   "source": [
    "map.set_data(flux, C=sigma ** 2)\n",
    "incs = np.linspace(0, 90, 300)"
   ]
  },
  {
   "cell_type": "markdown",
   "metadata": {},
   "source": [
    "Assume we know the coefficients (almost) exactly:"
   ]
  },
  {
   "cell_type": "code",
   "execution_count": null,
   "metadata": {},
   "outputs": [],
   "source": [
    "y_err = 1e-2\n",
    "np.random.seed(1)\n",
    "map.set_prior(mu=y_true + y_err * np.random.randn(len(y_true)), L=y_err ** 2)\n",
    "\n",
    "ll = np.zeros_like(incs)\n",
    "for i, inc in tqdm(enumerate(incs), total=len(incs)):\n",
    "    map.inc = inc\n",
    "    ll[i] = map.lnlike(theta=theta)\n",
    "\n",
    "plt.plot(incs, np.exp(ll - ll.max()))\n",
    "plt.axvline(inc_true, color=\"C1\");"
   ]
  },
  {
   "cell_type": "markdown",
   "metadata": {},
   "source": [
    "Assume we know only the total variance:"
   ]
  },
  {
   "cell_type": "code",
   "execution_count": null,
   "metadata": {},
   "outputs": [],
   "source": [
    "map.set_prior(L=np.var(y_true))\n",
    "\n",
    "ll = np.zeros_like(incs)\n",
    "for i, inc in tqdm(enumerate(incs), total=len(incs)):\n",
    "    map.inc = inc\n",
    "    ll[i] = map.lnlike(theta=theta)\n",
    "\n",
    "plt.plot(incs, np.exp(ll - ll.max()))\n",
    "plt.axvline(inc_true, color=\"C1\");"
   ]
  }
 ],
 "metadata": {
  "kernelspec": {
   "display_name": "Python 3",
   "language": "python",
   "name": "python3"
  },
  "language_info": {
   "codemirror_mode": {
    "name": "ipython",
    "version": 3
   },
   "file_extension": ".py",
   "mimetype": "text/x-python",
   "name": "python",
   "nbconvert_exporter": "python",
   "pygments_lexer": "ipython3",
   "version": "3.7.2"
  }
 },
 "nbformat": 4,
 "nbformat_minor": 2
}
