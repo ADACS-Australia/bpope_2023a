{
 "cells": [
  {
   "cell_type": "markdown",
   "metadata": {},
   "source": [
    "# Marginal Likelihood"
   ]
  },
  {
   "cell_type": "code",
   "execution_count": null,
   "metadata": {},
   "outputs": [],
   "source": [
    "%matplotlib inline"
   ]
  },
  {
   "cell_type": "code",
   "execution_count": null,
   "metadata": {},
   "outputs": [],
   "source": [
    "import starry\n",
    "import matplotlib.pyplot as plt\n",
    "import numpy as np\n",
    "import exoplanet as xo\n",
    "import pymc3 as pm\n",
    "import theano\n",
    "import theano.tensor as tt\n",
    "from tqdm import tqdm_notebook as tqdm\n",
    "from corner import corner\n",
    "\n",
    "starry.config.lazy = True\n",
    "starry.config.quiet = True"
   ]
  },
  {
   "cell_type": "markdown",
   "metadata": {},
   "source": [
    "Load the Earth:"
   ]
  },
  {
   "cell_type": "code",
   "execution_count": null,
   "metadata": {},
   "outputs": [],
   "source": [
    "inc_true = 70.0\n",
    "map = starry.Map(ydeg=10, inc=inc_true)\n",
    "map.load(\"earth\")\n",
    "map.show()"
   ]
  },
  {
   "cell_type": "markdown",
   "metadata": {},
   "source": [
    "Generate a rotational light curve:"
   ]
  },
  {
   "cell_type": "code",
   "execution_count": null,
   "metadata": {},
   "outputs": [],
   "source": [
    "theta = np.linspace(0, 360, 1000)\n",
    "flux0 = map.flux(theta=theta).eval()\n",
    "sigma = 0.0025\n",
    "flux = flux0 + np.random.randn(len(theta)) * sigma\n",
    "plt.plot(theta, flux);"
   ]
  },
  {
   "cell_type": "markdown",
   "metadata": {},
   "source": [
    "Let's solve for the inclination of the body, marginalizing over the map coefficients. We'll assume we know the true variance of the coefficients."
   ]
  },
  {
   "cell_type": "code",
   "execution_count": null,
   "metadata": {},
   "outputs": [],
   "source": [
    "y_true = map[1:, :].eval()\n",
    "y_var_true = np.var(y_true)"
   ]
  },
  {
   "cell_type": "code",
   "execution_count": null,
   "metadata": {},
   "outputs": [],
   "source": [
    "# Set the data & prior covariance\n",
    "map.set_data(flux, C=sigma ** 2)\n",
    "map.set_prior(L=y_var_true)\n",
    "\n",
    "# Compile the marginal log likelihood function\n",
    "inc = tt.dscalar()\n",
    "\n",
    "\n",
    "def _lnlike(inc):\n",
    "    map.inc = inc\n",
    "    return map.lnlike(theta=theta)\n",
    "\n",
    "\n",
    "lnlike = theano.function([inc], _lnlike(inc))\n",
    "\n",
    "# Evaluate the likelihood on a grid of inclinations\n",
    "N = 300\n",
    "incs = np.linspace(0, 90, N)\n",
    "ll = np.zeros(N)\n",
    "for i, inc in tqdm(enumerate(incs), total=N):\n",
    "    ll[i] = lnlike(inc)\n",
    "\n",
    "# Plot the result\n",
    "plt.plot(incs, np.exp(ll - ll.max()))\n",
    "plt.axvline(inc_true, color=\"C1\")\n",
    "plt.xlabel(\"inclination [degrees]\", fontsize=14)\n",
    "plt.ylabel(\"relative probability\", fontsize=14);"
   ]
  },
  {
   "cell_type": "markdown",
   "metadata": {},
   "source": [
    "The entire thing took 5 seconds, so we were sampling at **60 iterations per second.**\n",
    "\n",
    "Now let's sample the inclination with `pymc3`."
   ]
  },
  {
   "cell_type": "code",
   "execution_count": null,
   "metadata": {},
   "outputs": [],
   "source": [
    "with pm.Model() as model:\n",
    "\n",
    "    map = starry.Map(ydeg=10)\n",
    "    map.inc = pm.Uniform(\"inc\", lower=0, upper=90)\n",
    "\n",
    "    map.set_data(flux, C=sigma ** 2)\n",
    "    map.set_prior(L=y_var_true)\n",
    "\n",
    "    pm.Potential(\"marginal\", map.lnlike(theta=theta))"
   ]
  },
  {
   "cell_type": "code",
   "execution_count": null,
   "metadata": {},
   "outputs": [],
   "source": [
    "import theano\n",
    "\n",
    "with model:\n",
    "    func = xo.utils.get_theano_function_for_var(model.logpt, profile=True)\n",
    "    grad = xo.utils.get_theano_function_for_var(\n",
    "        theano.grad(model.logpt, model.vars), profile=True\n",
    "    )\n",
    "    args = xo.utils.get_args_for_theano_function()"
   ]
  },
  {
   "cell_type": "code",
   "execution_count": null,
   "metadata": {},
   "outputs": [],
   "source": [
    "grad.profile.summary()"
   ]
  },
  {
   "cell_type": "code",
   "execution_count": null,
   "metadata": {},
   "outputs": [],
   "source": [
    "func.profile.summary()"
   ]
  },
  {
   "cell_type": "markdown",
   "metadata": {},
   "source": [
    "Optimize to find a starting point:"
   ]
  },
  {
   "cell_type": "code",
   "execution_count": null,
   "metadata": {},
   "outputs": [],
   "source": [
    "%%time\n",
    "with model:\n",
    "    map_soln = xo.optimize()"
   ]
  },
  {
   "cell_type": "code",
   "execution_count": null,
   "metadata": {},
   "outputs": [],
   "source": []
  },
  {
   "cell_type": "code",
   "execution_count": null,
   "metadata": {},
   "outputs": [],
   "source": [
    "map_soln[\"inc\"]"
   ]
  },
  {
   "cell_type": "markdown",
   "metadata": {},
   "source": [
    "Looks about right. Let's sample. We'll do a *very* short run: 250 tuning steps and 500 draws."
   ]
  },
  {
   "cell_type": "code",
   "execution_count": null,
   "metadata": {},
   "outputs": [],
   "source": [
    "%%time\n",
    "\n",
    "with model:\n",
    "    trace = pm.sample(\n",
    "        tune=250,\n",
    "        draws=500,\n",
    "        start=map_soln,\n",
    "        chains=4,\n",
    "        cores=1,\n",
    "        step=xo.get_dense_nuts_step(target_accept=0.9),\n",
    "    )"
   ]
  },
  {
   "cell_type": "markdown",
   "metadata": {},
   "source": [
    "That took 30 minutes (!!!) with an average of less than 2 iterations per second. Plus, the posterior disagrees with the grid search."
   ]
  },
  {
   "cell_type": "code",
   "execution_count": null,
   "metadata": {},
   "outputs": [],
   "source": [
    "display(pm.summary(trace, varnames=[\"inc\"]))"
   ]
  },
  {
   "cell_type": "code",
   "execution_count": null,
   "metadata": {},
   "outputs": [],
   "source": [
    "plt.plot(incs, np.exp(ll - ll.max()), label=\"grid\")\n",
    "plt.hist(\n",
    "    trace[\"inc\"],\n",
    "    histtype=\"step\",\n",
    "    bins=10,\n",
    "    weights=(1 / 300) * np.ones(len(trace[\"inc\"])),\n",
    "    label=\"pymc3\",\n",
    ")\n",
    "plt.axvline(inc_true, color=\"k\", ls=\"--\", label=\"truth\")\n",
    "plt.xlabel(\"inclination [degrees]\", fontsize=14)\n",
    "plt.ylabel(\"relative probability\", fontsize=14)\n",
    "plt.legend();"
   ]
  }
 ],
 "metadata": {
  "kernelspec": {
   "display_name": "Python 3",
   "language": "python",
   "name": "python3"
  },
  "language_info": {
   "codemirror_mode": {
    "name": "ipython",
    "version": 3
   },
   "file_extension": ".py",
   "mimetype": "text/x-python",
   "name": "python",
   "nbconvert_exporter": "python",
   "pygments_lexer": "ipython3",
   "version": "3.7.2"
  },
  "nbsphinx_execute": false
 },
 "nbformat": 4,
 "nbformat_minor": 2
}
