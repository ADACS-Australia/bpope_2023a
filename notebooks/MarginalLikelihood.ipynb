{
 "cells": [
  {
   "cell_type": "markdown",
   "metadata": {},
   "source": [
    "# Marginal likelihood"
   ]
  },
  {
   "cell_type": "markdown",
   "metadata": {},
   "source": [
    "In [the previous notebook](LinearSolve.ipynb) we showed how to compute the posterior over maps if we know all other parameters (such as the inclination of the map, the orbital parameters, etc.) exactly. Quite often, however, we do not know these parameters well enough to fix them. In this case, it is often useful to marginalize over all possible maps consistent with the data (and the prior) to compute the *marginal likelihood* of a given set of parameters. Let's go over how to do that here."
   ]
  },
  {
   "cell_type": "code",
   "execution_count": null,
   "metadata": {
    "tags": [
     "hide_input"
    ]
   },
   "outputs": [],
   "source": [
    "%matplotlib inline"
   ]
  },
  {
   "cell_type": "code",
   "execution_count": null,
   "metadata": {
    "tags": [
     "hide_input"
    ]
   },
   "outputs": [],
   "source": [
    "%run notebook_setup.py"
   ]
  },
  {
   "cell_type": "markdown",
   "metadata": {},
   "source": [
    "## Generate the data"
   ]
  },
  {
   "cell_type": "code",
   "execution_count": null,
   "metadata": {},
   "outputs": [],
   "source": [
    "import matplotlib.pyplot as plt\n",
    "import numpy as np\n",
    "import starry\n",
    "\n",
    "np.random.seed(0)\n",
    "starry.config.lazy = False\n",
    "starry.config.quiet = True"
   ]
  },
  {
   "cell_type": "markdown",
   "metadata": {},
   "source": [
    "First, we instantiate a map with a random vector of spherical harmonic coefficients. For simplicity, we'll draw all coefficients from the standard normal. We'll also give the map an inclination of 60 degrees and a rotation period of one day. In this notebook, we'll derive a posterior over the inclination and the period by marginalizing over all possible surface maps."
   ]
  },
  {
   "cell_type": "code",
   "execution_count": null,
   "metadata": {},
   "outputs": [],
   "source": [
    "map = starry.Map(ydeg=10)\n",
    "inc_true = 60.0\n",
    "period_true = 1.0\n",
    "map.inc = inc_true\n",
    "map[1:, :] = np.random.randn(map.Ny - 1)\n",
    "map.show()"
   ]
  },
  {
   "cell_type": "markdown",
   "metadata": {},
   "source": [
    "We now generate a synthetic light curve over a couple rotation periods with noise."
   ]
  },
  {
   "cell_type": "code",
   "execution_count": null,
   "metadata": {},
   "outputs": [],
   "source": [
    "npts = 1000\n",
    "sigma = 0.05\n",
    "time = np.linspace(0, 2, npts)\n",
    "theta = 360 / period_true * time\n",
    "flux = map.flux(theta=theta)\n",
    "flux += np.random.randn(npts) * sigma"
   ]
  },
  {
   "cell_type": "code",
   "execution_count": null,
   "metadata": {},
   "outputs": [],
   "source": [
    "plt.plot(time, flux)\n",
    "plt.xlabel(r\"time [days]\")\n",
    "plt.ylabel(r\"flux [arbitrary units]\");"
   ]
  },
  {
   "cell_type": "markdown",
   "metadata": {},
   "source": [
    "## Posterior over inclination"
   ]
  },
  {
   "cell_type": "markdown",
   "metadata": {},
   "source": [
    "Let's assume we know the period of the object, and that we know that its spherical harmonic coefficients were all drawn from the unit normal (i.e., we know the power spectrum of the map). But say we don't know the inclination. What we wish to do is therefore to compute the *marginal likelihood* of the data for different values of the inclination. Typically the marginal likelihood requires computing a high dimensional integral over all parameters we're marginalizing over (the 120 spherical harmonic coefficients in this case), but because the model in `starry` is linear, this likelihood is analytic!"
   ]
  },
  {
   "cell_type": "markdown",
   "metadata": {},
   "source": [
    "Let's specify our data (flux and covariance) and our prior:"
   ]
  },
  {
   "cell_type": "code",
   "execution_count": null,
   "metadata": {},
   "outputs": [],
   "source": [
    "map.set_data(flux, C=sigma ** 2)\n",
    "map.set_prior(mu=0, L=1)"
   ]
  },
  {
   "cell_type": "markdown",
   "metadata": {},
   "source": [
    "Note that `L` is the prior covariance matrix, typically denoted $\\Lambda$. In our case it's just the identity, but if simply we pass a scalar, `starry` knows to automatically promote it to a diagonal matrix. Same with `C`, the data covariance: it's the identity times `sigma ** 2`.\n",
    "\n",
    "Next, let's define a simple function that sets the inclination of the map to a value and returns the corresponding marginal likelihood:"
   ]
  },
  {
   "cell_type": "code",
   "execution_count": null,
   "metadata": {},
   "outputs": [],
   "source": [
    "def get_lnlike(inc):\n",
    "    map.inc = inc\n",
    "    theta = 360 / period_true * time\n",
    "    return map.lnlike(theta=theta)"
   ]
  },
  {
   "cell_type": "markdown",
   "metadata": {},
   "source": [
    "Finally, we compute the marginal likelihood over an array of inclinations:"
   ]
  },
  {
   "cell_type": "code",
   "execution_count": null,
   "metadata": {},
   "outputs": [],
   "source": [
    "%%time\n",
    "incs = np.linspace(0, 90, 50)\n",
    "lnlike = np.array([get_lnlike(inc) for inc in incs])"
   ]
  },
  {
   "cell_type": "markdown",
   "metadata": {},
   "source": [
    "Here's the likelihood over all possible inclinations. The true value is marked by the vertical line."
   ]
  },
  {
   "cell_type": "code",
   "execution_count": null,
   "metadata": {},
   "outputs": [],
   "source": [
    "like = np.exp(lnlike - lnlike.max())\n",
    "plt.plot(incs, like)\n",
    "plt.xlabel(r\"inclination [deg]\")\n",
    "plt.ylabel(r\"relative marginal likelihood\")\n",
    "plt.axvline(inc_true, color=\"C1\", label=\"true\")\n",
    "plt.legend();"
   ]
  },
  {
   "cell_type": "markdown",
   "metadata": {},
   "source": [
    "Not bad! Our likelihood function is approximately gaussian and peaks near the true value. To turn this into an actual posterior, we should multiply the likelihood by a prior. A resonable prior to use for inclinations is $P(i) \\propto \\sin i$, which is the distribution you'd expect if the rotational angular momentum vector of the object is drawn at random:"
   ]
  },
  {
   "cell_type": "code",
   "execution_count": null,
   "metadata": {},
   "outputs": [],
   "source": [
    "posterior = like * np.sin(incs * np.pi / 180)\n",
    "plt.plot(incs, posterior)\n",
    "plt.xlabel(r\"inclination [deg]\")\n",
    "plt.ylabel(r\"relative posterior probability\")\n",
    "plt.axvline(inc_true, color=\"C1\", label=\"true\")\n",
    "plt.legend();"
   ]
  },
  {
   "cell_type": "markdown",
   "metadata": {},
   "source": [
    "Note that our posterior isn't correctly normalized (it should integrate to one), but that doesn't really matter here."
   ]
  },
  {
   "cell_type": "markdown",
   "metadata": {},
   "source": [
    "## Joint posterior: inclination and period"
   ]
  },
  {
   "cell_type": "markdown",
   "metadata": {},
   "source": [
    "What if we don't know either the inclination or the period? We can do the same thing as above, but this time in two dimensions. Let's redefine our likelihood function to take in the period of the object as well:"
   ]
  },
  {
   "cell_type": "code",
   "execution_count": null,
   "metadata": {},
   "outputs": [],
   "source": [
    "def get_lnlike(inc, period):\n",
    "    map.inc = inc\n",
    "    theta = 360 / period * time\n",
    "    return map.lnlike(theta=theta)"
   ]
  },
  {
   "cell_type": "markdown",
   "metadata": {},
   "source": [
    "As we'll see, the data is very constraining of the period, so let's do our grid search for period in the range $(0.999, 1.001)$."
   ]
  },
  {
   "cell_type": "code",
   "execution_count": null,
   "metadata": {},
   "outputs": [],
   "source": [
    "%%time\n",
    "incs = np.linspace(0, 90, 50)\n",
    "periods = np.linspace(0.999, 1.001, 50)\n",
    "\n",
    "lnlike = np.zeros((50, 50))\n",
    "for i, inc in enumerate(incs):\n",
    "    for j, period in enumerate(periods):\n",
    "        lnlike[i, j] = get_lnlike(inc, period)"
   ]
  },
  {
   "cell_type": "markdown",
   "metadata": {},
   "source": [
    "Let's again multiply by the inclination sine prior. We'll assume a flat prior for the period for simplicity."
   ]
  },
  {
   "cell_type": "code",
   "execution_count": null,
   "metadata": {},
   "outputs": [],
   "source": [
    "like = np.exp(lnlike - lnlike.max())\n",
    "posterior = like * np.sin(incs * np.pi / 180).reshape(-1, 1)"
   ]
  },
  {
   "cell_type": "markdown",
   "metadata": {},
   "source": [
    "Here's the full joint posterior, marginalized over all possible maps:"
   ]
  },
  {
   "cell_type": "code",
   "execution_count": null,
   "metadata": {},
   "outputs": [],
   "source": [
    "plt.figure(figsize=(12, 8))\n",
    "plt.imshow(\n",
    "    posterior,\n",
    "    extent=(periods[0], periods[-1], incs[0], incs[-1]),\n",
    "    origin=\"lower\",\n",
    "    aspect=\"auto\",\n",
    ")\n",
    "plt.axvline(period_true, color=\"C1\")\n",
    "plt.axhline(inc_true, color=\"C1\")\n",
    "plt.xlabel(\"period [days]\")\n",
    "plt.ylabel(\"inclination [deg]\");"
   ]
  },
  {
   "cell_type": "markdown",
   "metadata": {},
   "source": [
    "That's it for this tutorial. If you're thinking of doing this for more than two dimensions, you probably want to turn to sampling with `pymc3`, as it will probably be more efficient!"
   ]
  }
 ],
 "metadata": {
  "celltoolbar": "Raw Cell Format",
  "kernelspec": {
   "display_name": "Python 3",
   "language": "python",
   "name": "python3"
  },
  "language_info": {
   "codemirror_mode": {
    "name": "ipython",
    "version": 3
   },
   "file_extension": ".py",
   "mimetype": "text/x-python",
   "name": "python",
   "nbconvert_exporter": "python",
   "pygments_lexer": "ipython3",
   "version": "3.7.4"
  }
 },
 "nbformat": 4,
 "nbformat_minor": 2
}
