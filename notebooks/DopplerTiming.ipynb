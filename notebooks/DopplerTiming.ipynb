{
 "cells": [
  {
   "cell_type": "markdown",
   "metadata": {},
   "source": [
    "# Doppler timing tests"
   ]
  },
  {
   "cell_type": "markdown",
   "metadata": {},
   "source": [
    "Benchmark tests for various methods in the ``DopplerMap`` class."
   ]
  },
  {
   "cell_type": "code",
   "execution_count": null,
   "metadata": {
    "tags": [
     "hide_input"
    ]
   },
   "outputs": [],
   "source": [
    "# Enable progress bars?\n",
    "TQDM = False"
   ]
  },
  {
   "cell_type": "code",
   "execution_count": null,
   "metadata": {
    "tags": [
     "hide_input"
    ]
   },
   "outputs": [],
   "source": [
    "%matplotlib inline"
   ]
  },
  {
   "cell_type": "code",
   "execution_count": null,
   "metadata": {
    "tags": [
     "hide_input"
    ]
   },
   "outputs": [],
   "source": [
    "%run notebook_setup.py"
   ]
  },
  {
   "cell_type": "code",
   "execution_count": null,
   "metadata": {
    "tags": [
     "hide_input"
    ]
   },
   "outputs": [],
   "source": [
    "import starry\n",
    "\n",
    "starry.config.lazy = False\n",
    "starry.config.quiet = True"
   ]
  },
  {
   "cell_type": "code",
   "execution_count": null,
   "metadata": {
    "tags": [
     "hide_input"
    ]
   },
   "outputs": [],
   "source": [
    "import starry\n",
    "import numpy as np\n",
    "import matplotlib.pyplot as plt\n",
    "import timeit\n",
    "from tqdm.notebook import tqdm as _tqdm\n",
    "\n",
    "tqdm = lambda *args, **kwargs: _tqdm(*args, disable=not TQDM, **kwargs)"
   ]
  },
  {
   "cell_type": "code",
   "execution_count": null,
   "metadata": {
    "tags": [
     "hide_input"
    ]
   },
   "outputs": [],
   "source": [
    "def get_time(statement=\"map.flux()\", number=100, **kwargs):\n",
    "    setup = f\"map = starry.DopplerMap(**kwargs); {statement}\"\n",
    "    t0 = timeit.timeit(\n",
    "        statement, setup=setup, number=1, globals={**locals(), **globals()}\n",
    "    )\n",
    "    if t0 > 0.1:\n",
    "        return t0\n",
    "    else:\n",
    "        return (\n",
    "            timeit.timeit(\n",
    "                statement, setup=setup, number=number, globals={**locals(), **globals()}\n",
    "            )\n",
    "            / number\n",
    "        )"
   ]
  },
  {
   "cell_type": "markdown",
   "metadata": {},
   "source": [
    "## `DopplerMap.flux()`\n",
    "\n",
    "Benchmarks for different evaluation ``method``s."
   ]
  },
  {
   "cell_type": "markdown",
   "metadata": {},
   "source": [
    "### As a function of `ydeg`\n",
    "\n",
    "With `nt = 1`, `nc = 1`, `nw = 200`."
   ]
  },
  {
   "cell_type": "code",
   "execution_count": null,
   "metadata": {
    "tags": [
     "hide_input"
    ]
   },
   "outputs": [],
   "source": [
    "methods = [\"dotconv\", \"convdot\", \"conv\", \"design\"]\n",
    "ydegs = [1, 2, 3, 5, 8, 10, 13, 15]\n",
    "nt = 1\n",
    "nc = 1\n",
    "wav = np.linspace(500, 501, 200)\n",
    "time = np.zeros((len(methods), len(ydegs)))\n",
    "for i, method in tqdm(enumerate(methods), total=len(methods)):\n",
    "    for j, ydeg in tqdm(enumerate(ydegs), total=len(ydegs), leave=False):\n",
    "        time[i, j] = get_time(\n",
    "            f\"map.flux(method='{method}')\", ydeg=ydeg, nt=nt, nc=nc, wav=wav\n",
    "        )\n",
    "plt.figure(figsize=(8, 5))\n",
    "plt.plot(ydegs, time.T, \"o-\", label=methods)\n",
    "plt.legend(fontsize=10)\n",
    "plt.yscale(\"log\")\n",
    "plt.xscale(\"log\")\n",
    "plt.xlabel(\"spherical harmonic degree\")\n",
    "plt.ylabel(\"time [s]\");"
   ]
  },
  {
   "cell_type": "markdown",
   "metadata": {},
   "source": [
    "### As a function of `nt`\n",
    "\n",
    "With `ydeg = 3`, `nc = 1`, `nw = 200`."
   ]
  },
  {
   "cell_type": "code",
   "execution_count": null,
   "metadata": {
    "tags": [
     "hide_input"
    ]
   },
   "outputs": [],
   "source": [
    "methods = [\"dotconv\", \"convdot\", \"conv\", \"design\"]\n",
    "ydeg = 3\n",
    "nts = [1, 2, 3, 5, 10, 20]\n",
    "nc = 1\n",
    "wav = np.linspace(500, 501, 200)\n",
    "time = np.zeros((len(methods), len(nts)))\n",
    "for i, method in tqdm(enumerate(methods), total=len(methods)):\n",
    "    for j, nt in tqdm(enumerate(nts), total=len(nts), leave=False):\n",
    "        time[i, j] = get_time(\n",
    "            f\"map.flux(method='{method}')\", ydeg=ydeg, nt=nt, nc=nc, wav=wav\n",
    "        )\n",
    "plt.figure(figsize=(8, 5))\n",
    "plt.plot(nts, time.T, \"o-\", label=methods)\n",
    "plt.legend(fontsize=10)\n",
    "plt.yscale(\"log\")\n",
    "plt.xscale(\"log\")\n",
    "plt.xlabel(\"number of epochs\")\n",
    "plt.ylabel(\"time [s]\");"
   ]
  },
  {
   "cell_type": "markdown",
   "metadata": {},
   "source": [
    "### As a function of `nw`\n",
    "\n",
    "With `ydeg = 3`, `nt = 1`, `nc = 1`."
   ]
  },
  {
   "cell_type": "code",
   "execution_count": null,
   "metadata": {
    "tags": [
     "hide_input"
    ]
   },
   "outputs": [],
   "source": [
    "methods = [\"dotconv\", \"convdot\", \"conv\", \"design\"]\n",
    "ydeg = 3\n",
    "nt = 1\n",
    "nc = 1\n",
    "nws = [100, 200, 300, 400, 500, 800, 1000]\n",
    "wavs = [np.linspace(500, 501, nw) for nw in nws]\n",
    "time = np.zeros((len(methods), len(wavs)))\n",
    "for i, method in tqdm(enumerate(methods), total=len(methods)):\n",
    "    for j, wav in tqdm(enumerate(wavs), total=len(wavs), leave=False):\n",
    "        time[i, j] = get_time(\n",
    "            f\"map.flux(method='{method}')\", ydeg=ydeg, nt=nt, nc=nc, wav=wav\n",
    "        )\n",
    "plt.figure(figsize=(8, 5))\n",
    "plt.plot(nws, time.T, \"o-\", label=methods)\n",
    "plt.legend(fontsize=10)\n",
    "plt.yscale(\"log\")\n",
    "plt.xscale(\"log\")\n",
    "plt.xlabel(\"number of wavelength bins\")\n",
    "plt.ylabel(\"time [s]\");"
   ]
  },
  {
   "cell_type": "code",
   "execution_count": null,
   "metadata": {},
   "outputs": [],
   "source": []
  }
 ],
 "metadata": {
  "celltoolbar": "Tags",
  "kernelspec": {
   "display_name": "Python 3",
   "language": "python",
   "name": "python3"
  },
  "language_info": {
   "codemirror_mode": {
    "name": "ipython",
    "version": 3
   },
   "file_extension": ".py",
   "mimetype": "text/x-python",
   "name": "python",
   "nbconvert_exporter": "python",
   "pygments_lexer": "ipython3",
   "version": "3.8.3"
  }
 },
 "nbformat": 4,
 "nbformat_minor": 4
}
