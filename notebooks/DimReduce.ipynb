{
 "cells": [
  {
   "cell_type": "markdown",
   "metadata": {},
   "source": [
    "# Dimensionality Reduction\n",
    "\n",
    "Tricks to speed up inference by projecting out of the null space."
   ]
  },
  {
   "cell_type": "code",
   "execution_count": null,
   "metadata": {
    "tags": [
     "hide_input"
    ]
   },
   "outputs": [],
   "source": [
    "%matplotlib inline"
   ]
  },
  {
   "cell_type": "code",
   "execution_count": null,
   "metadata": {
    "tags": [
     "hide_input"
    ]
   },
   "outputs": [],
   "source": [
    "%run notebook_setup.py"
   ]
  },
  {
   "cell_type": "code",
   "execution_count": null,
   "metadata": {},
   "outputs": [],
   "source": [
    "import numpy as np\n",
    "import matplotlib.pyplot as plt\n",
    "import starry\n",
    "from scipy.linalg import svd\n",
    "from scipy.linalg import cho_factor, cho_solve\n",
    "import time\n",
    "from tqdm.notebook import tqdm"
   ]
  },
  {
   "cell_type": "code",
   "execution_count": null,
   "metadata": {},
   "outputs": [],
   "source": [
    "starry.config.lazy = False\n",
    "starry.config.quiet = True"
   ]
  },
  {
   "cell_type": "markdown",
   "metadata": {},
   "source": [
    "## Generate a light curve"
   ]
  },
  {
   "cell_type": "markdown",
   "metadata": {},
   "source": [
    "Let's generate a rotational light curve to simulate a quarter of *Kepler* data. We'll use a degree `10` map and give it an inclination of `60` degrees and a period of just over `30` days."
   ]
  },
  {
   "cell_type": "code",
   "execution_count": null,
   "metadata": {},
   "outputs": [],
   "source": [
    "# Instantiate a map\n",
    "map = starry.Map(10, inc=60)\n",
    "\n",
    "# The time array\n",
    "t = np.arange(0, 90, 1.0 / 48.0)\n",
    "\n",
    "# Compute the design matrix\n",
    "prot = 32.234234\n",
    "theta = 360.0 / prot * t\n",
    "X = map.design_matrix(theta=theta)"
   ]
  },
  {
   "cell_type": "markdown",
   "metadata": {},
   "source": [
    "We'll draw random coefficients from a multidimensional Gaussian with a rather arbitrary mean and covariance given by:"
   ]
  },
  {
   "cell_type": "code",
   "execution_count": null,
   "metadata": {},
   "outputs": [],
   "source": [
    "# Generate random map coefficients with mean `mu` and covariance `cov`\n",
    "l = np.concatenate([np.repeat(l, 2 * l + 1) for l in range(map.ydeg + 1)])\n",
    "mu = 1e-3 * np.sin(2 * np.pi / 5 * l)\n",
    "mu[0] = 1.0\n",
    "cov = np.diag(1e-4 * np.exp(-(((l - 3) / 4) ** 2)))\n",
    "cov[0, 0] = 1e-15"
   ]
  },
  {
   "cell_type": "code",
   "execution_count": null,
   "metadata": {},
   "outputs": [],
   "source": [
    "plt.plot(np.arange(1, map.Ny), mu[1:])\n",
    "plt.fill_between(\n",
    "    np.arange(1, map.Ny),\n",
    "    mu[1:] - np.sqrt(np.diag(cov)[1:]),\n",
    "    mu[1:] + np.sqrt(np.diag(cov)[1:]),\n",
    "    alpha=0.3,\n",
    ")\n",
    "plt.xlabel(\"coefficient number\")\n",
    "plt.ylabel(\"prior\");"
   ]
  },
  {
   "cell_type": "markdown",
   "metadata": {},
   "source": [
    "Let's draw one sample and use that as our true map:"
   ]
  },
  {
   "cell_type": "code",
   "execution_count": null,
   "metadata": {},
   "outputs": [],
   "source": [
    "np.random.seed(0)\n",
    "y = np.random.multivariate_normal(mu, cov)\n",
    "map[:, :] = y\n",
    "map.show(projection=\"moll\")"
   ]
  },
  {
   "cell_type": "markdown",
   "metadata": {},
   "source": [
    "We computed the design matrix above, so getting the light curve is easy:"
   ]
  },
  {
   "cell_type": "code",
   "execution_count": null,
   "metadata": {},
   "outputs": [],
   "source": [
    "# Generate the light curve with photometric error `ferr`\n",
    "ferr = 1e-3\n",
    "flux = X.dot(y) + ferr * np.random.randn(len(t))"
   ]
  },
  {
   "cell_type": "code",
   "execution_count": null,
   "metadata": {},
   "outputs": [],
   "source": [
    "plt.plot(t, flux, \"k.\", alpha=0.3, ms=3)\n",
    "plt.xlabel(\"time [days]\")\n",
    "plt.ylabel(\"flux\");"
   ]
  },
  {
   "cell_type": "markdown",
   "metadata": {},
   "source": [
    "## Linear solve"
   ]
  },
  {
   "cell_type": "markdown",
   "metadata": {},
   "source": [
    "If we know the design matrix (i.e., we know the rotational period and the inclination), inferring the surface map is simple, since the problem is linear. For simplicity, let's assume we actually know the true mean `mu` and variance `cov` of the process."
   ]
  },
  {
   "cell_type": "code",
   "execution_count": null,
   "metadata": {},
   "outputs": [],
   "source": [
    "# Solve the linear problem\n",
    "# `yhat` is the posterior mean, and\n",
    "# `cho_ycov` is the Cholesky decomposition of the posterior covariance\n",
    "yhat, cho_ycov = starry.linalg.solve(X, flux, C=ferr ** 2, mu=mu, L=cov)"
   ]
  },
  {
   "cell_type": "markdown",
   "metadata": {},
   "source": [
    "We can look at the map corresponding to the posterior mean:"
   ]
  },
  {
   "cell_type": "code",
   "execution_count": null,
   "metadata": {},
   "outputs": [],
   "source": [
    "map[:, :] = yhat\n",
    "map.show(projection=\"moll\")"
   ]
  },
  {
   "cell_type": "markdown",
   "metadata": {},
   "source": [
    "It doesn't really look like the true map, but you can convince yourself that some of the spots are actually in the correct place. This is particularly true right near the equator. The problem with the southern latitudes is that they are never in view (since the star is inclined toward us); conversely, the northern latitudes are *always* in view, so their features don't really affect the flux as the star rotates.\n",
    "\n",
    "Another way to think about this is that the problem of inferring a map from a rotational light curve is extremely ill-conditioned: it has a very large **null space**, meaning most of the modes on the surface do not affect the flux whatsoever.\n",
    "\n",
    "To verify this, check out the rank of the design matrix:"
   ]
  },
  {
   "cell_type": "code",
   "execution_count": null,
   "metadata": {},
   "outputs": [],
   "source": [
    "rank = np.linalg.matrix_rank(X)\n",
    "rank"
   ]
  },
  {
   "cell_type": "markdown",
   "metadata": {},
   "source": [
    "It's only `21`, even though the dimensions of the matrix are"
   ]
  },
  {
   "cell_type": "code",
   "execution_count": null,
   "metadata": {},
   "outputs": [],
   "source": [
    "X.shape"
   ]
  },
  {
   "cell_type": "markdown",
   "metadata": {},
   "source": [
    "The number to compare to here is the number of columns: `121`. That's the number of spherical harmonic coefficients we're trying to infer. However, the matrix rank tells us that the flux operator `X` only uses information from (effectively) `21` of those coefficients when producing a light curve. This isn't an issue with `starry`: this is a **fundamental limitation** of rotational light curves, since they simply don't encode that much information about the surface."
   ]
  },
  {
   "cell_type": "markdown",
   "metadata": {},
   "source": [
    "Anyways, even though the inferred map looks quite different from the true map, we can verify that the light curve we get from the inferred map is **indistinguishable** from the data:"
   ]
  },
  {
   "cell_type": "code",
   "execution_count": null,
   "metadata": {},
   "outputs": [],
   "source": [
    "plt.plot(t, flux, \"k.\", alpha=0.3, ms=3)\n",
    "plt.plot(t, map.flux(theta=theta), lw=3)\n",
    "plt.xlabel(\"time [days]\")\n",
    "plt.ylabel(\"flux\")\n",
    "plt.title(\n",
    "    r\"$\\chi^2_\\mathrm{red} = %.3f$\"\n",
    "    % (np.sum((flux - map.flux(theta=theta)) ** 2 / ferr ** 2) / (len(t) - rank))\n",
    ");"
   ]
  },
  {
   "cell_type": "markdown",
   "metadata": {},
   "source": [
    "This is evidence, again, of the crazy degeneracies at play."
   ]
  },
  {
   "cell_type": "markdown",
   "metadata": {},
   "source": [
    "## Taking advantage of the null space"
   ]
  },
  {
   "cell_type": "markdown",
   "metadata": {},
   "source": [
    "The null space is a huge hassle, since it limits how much we can learn about a surface from a light curve. But it can also be advantageous, in one sense at least: we can exploit it to greatly speed up our computations. In our linear solve step above, we're solving for `121` coefficients (which amounts to inverting a `121x121` matrix), even though we can only hope to constrain `21` of them. We certainly do *obtain* values for all of them, but most of the information in our posterior is coming from our prior.\n",
    "\n",
    "**Here's the trick.** With a bit of linear algebra, we can transform our problem into a smaller space of dimension `21` that *has no null space*. We can solve the problem in that space (i.e., invert a `21x21` matrix), then project out of it and fill in the remaining coefficients with our prior.\n",
    "\n",
    "I'll explain more below, but all of this is really similar to what Emily Rauscher et al. did in their [2018 paper](https://ui.adsabs.harvard.edu/abs/2018AJ....156..235R/abstract) on eclipse mapping, so check that out if you're interested."
   ]
  },
  {
   "cell_type": "markdown",
   "metadata": {},
   "source": [
    "### SVD to the rescue"
   ]
  },
  {
   "cell_type": "markdown",
   "metadata": {},
   "source": [
    "The basic idea behind our trick is to use singular value decomposition (SVD; read about it [here](https://en.wikipedia.org/wiki/Singular_value_decomposition)). This is closely related to principal component analysis (PCA). We're going to use SVD to identify the `21` coefficients (or linear combinations of coefficients) that can be constrained from the data and trim the remaining ones (i.e., the ones in the null space).\n",
    "\n",
    "It's probably easiest if we just dive straight in. We'll use the `svd` function from `scipy.linalg`:"
   ]
  },
  {
   "cell_type": "code",
   "execution_count": null,
   "metadata": {},
   "outputs": [],
   "source": [
    "U, s, VT = svd(X)\n",
    "S = np.pad(np.diag(s), ((0, U.shape[1] - s.shape[0]), (0, 0)))"
   ]
  },
  {
   "cell_type": "markdown",
   "metadata": {},
   "source": [
    "We now have three matrices `U`, `S`, and `V^T`. Note that `S` is a diagonal matrix (`svd` returns it as an array, so we need to massage it a bit to get the dimensions correct).\n",
    "The thing to note here is that the dot product of these three matrices is equal to (within numerical precision) to the design matrix `X`:"
   ]
  },
  {
   "cell_type": "code",
   "execution_count": null,
   "metadata": {},
   "outputs": [],
   "source": [
    "np.allclose(U @ S @ VT, X)"
   ]
  },
  {
   "cell_type": "markdown",
   "metadata": {},
   "source": [
    "Now let's look at the diagonal entries in the matrix `S`:"
   ]
  },
  {
   "cell_type": "code",
   "execution_count": null,
   "metadata": {},
   "outputs": [],
   "source": [
    "plt.plot(np.diag(S))\n",
    "plt.axvline(rank, color=\"C1\")\n",
    "plt.yscale(\"log\");"
   ]
  },
  {
   "cell_type": "markdown",
   "metadata": {},
   "source": [
    "These are called the *singular values* of `X`; they are the contribution from each basis vector in `U`. Note the extremely steep drop after the 21st singular value: that's the null space! All columns in `U` beyond `21` contribute *effectively nothing* to `X`. The same is true for all rows in `VT` beyond `21`. We can verify this by removing them:"
   ]
  },
  {
   "cell_type": "code",
   "execution_count": null,
   "metadata": {},
   "outputs": [],
   "source": [
    "U = U[:, :rank]\n",
    "S = S[:rank, :rank]\n",
    "VT = VT[:rank, :]"
   ]
  },
  {
   "cell_type": "code",
   "execution_count": null,
   "metadata": {},
   "outputs": [],
   "source": [
    "np.allclose(U @ S @ VT, X)"
   ]
  },
  {
   "cell_type": "markdown",
   "metadata": {},
   "source": [
    "As promised, we can just get rid of them and still reconstruct `X` exactly.\n",
    "Let's now inspect the `U` matrix:"
   ]
  },
  {
   "cell_type": "code",
   "execution_count": null,
   "metadata": {},
   "outputs": [],
   "source": [
    "plt.imshow(U, aspect=\"auto\");"
   ]
  },
  {
   "cell_type": "markdown",
   "metadata": {},
   "source": [
    "Its columns are the principal components of `X`. Note, importantly, the perfect periodicity among them; in fact, these are *exactly* sines and cosines!\n",
    "\n",
    "Here's the punchline, which is perhaps obvious in hindsight: the only signals that a rotating, spherical body can contribute to the disk-integrated flux are a sine and a cosine corresponding to each spatial frequency. Therefore, a map of spherical harmonic degree `lmax` will contribute `lmax` sines and `lmax` cosines (plus one DC offset term), for a total of `2 * lmax + 1` terms. Our map has degree `10`, so it now makes sense why we can only constrain `21` terms!"
   ]
  },
  {
   "cell_type": "markdown",
   "metadata": {},
   "source": [
    "Now let's look at the `VT` matrix:"
   ]
  },
  {
   "cell_type": "code",
   "execution_count": null,
   "metadata": {},
   "outputs": [],
   "source": [
    "plt.imshow(VT, aspect=\"auto\");"
   ]
  },
  {
   "cell_type": "markdown",
   "metadata": {},
   "source": [
    "The rows of this matrix tell us which linear combinations of the spherical harmonic vector give us the sine and cosine terms in `U`. There are lots of things to note here, but perhaps the most obvious one is that there are columns that are zero everywhere: they correspond to coefficients that are in the null space. Most of the other terms in the null space correspond to linear combinations of coefficients (which are harder to visualize)."
   ]
  },
  {
   "cell_type": "markdown",
   "metadata": {},
   "source": [
    "### Linear solve with no null space"
   ]
  },
  {
   "cell_type": "markdown",
   "metadata": {},
   "source": [
    "Now that we've done SVD, our job is basically done. The magic is all in the `VT` matrix and its transpose:"
   ]
  },
  {
   "cell_type": "code",
   "execution_count": null,
   "metadata": {},
   "outputs": [],
   "source": [
    "V = VT.T"
   ]
  },
  {
   "cell_type": "markdown",
   "metadata": {},
   "source": [
    "The `VT` matrix is actually the projection operator that takes us from spherical harmonic space to the magical space in which we'll do our inference. Its transpose will then take us back to spherical harmonic space."
   ]
  },
  {
   "cell_type": "markdown",
   "metadata": {},
   "source": [
    "The first thing we'll do is project everything (our design matrix and our priors) into the compact space we'll do inference in."
   ]
  },
  {
   "cell_type": "code",
   "execution_count": null,
   "metadata": {},
   "outputs": [],
   "source": [
    "X_V = X.dot(V)\n",
    "mu_V = VT.dot(mu)\n",
    "L_V = VT.dot(cov).dot(V)"
   ]
  },
  {
   "cell_type": "markdown",
   "metadata": {},
   "source": [
    "Note that our design matrix now has shape"
   ]
  },
  {
   "cell_type": "code",
   "execution_count": null,
   "metadata": {},
   "outputs": [],
   "source": [
    "X_V.shape"
   ]
  },
  {
   "cell_type": "markdown",
   "metadata": {},
   "source": [
    "i.e., `21` columns, meaning we'll only need to invert a `21x21` matrix during the solve step. The solve is the same as before:"
   ]
  },
  {
   "cell_type": "code",
   "execution_count": null,
   "metadata": {},
   "outputs": [],
   "source": [
    "# Solve the linear problem\n",
    "yhat_V, cho_ycov_V = starry.linalg.solve(X_V, flux, C=ferr ** 2, mu=mu_V, L=L_V)"
   ]
  },
  {
   "cell_type": "markdown",
   "metadata": {},
   "source": [
    "Our posterior mean and covariance are in the compact space. We need to project them back to  spherical harmonic space and fill in the missing data from our prior. Here's the linear algebra to do just that:"
   ]
  },
  {
   "cell_type": "code",
   "execution_count": null,
   "metadata": {},
   "outputs": [],
   "source": [
    "# Transform the mean back to Ylm space\n",
    "yhat2 = V.dot(yhat_V - mu_V) + mu\n",
    "\n",
    "# Transform the covariance back to Ylm space\n",
    "W = V.dot(cho_solve((cho_ycov_V, True), VT))\n",
    "W += np.linalg.inv(cov)\n",
    "cho_W = cho_factor(W, lower=True)\n",
    "ycov = cho_solve(cho_W, np.eye(cov.shape[0]))\n",
    "cho_ycov2, _ = cho_factor(ycov, lower=True)"
   ]
  },
  {
   "cell_type": "markdown",
   "metadata": {},
   "source": [
    "We can verify our posterior map is very similar to the one we obtained above:"
   ]
  },
  {
   "cell_type": "code",
   "execution_count": null,
   "metadata": {},
   "outputs": [],
   "source": [
    "map[:, :] = yhat2\n",
    "map.show(projection=\"moll\")"
   ]
  },
  {
   "cell_type": "markdown",
   "metadata": {},
   "source": [
    "And check that we get the correct flux model (with the exact same likelihood):"
   ]
  },
  {
   "cell_type": "code",
   "execution_count": null,
   "metadata": {},
   "outputs": [],
   "source": [
    "plt.plot(t, flux, \"k.\", alpha=0.3, ms=3)\n",
    "plt.plot(t, map.flux(theta=theta), lw=3)\n",
    "plt.xlabel(\"time [days]\")\n",
    "plt.ylabel(\"flux\")\n",
    "plt.title(\n",
    "    r\"$\\chi^2_\\mathrm{red} = %.3f$\"\n",
    "    % (np.sum((flux - map.flux(theta=theta)) ** 2 / ferr ** 2) / (len(t) - rank))\n",
    ");"
   ]
  },
  {
   "cell_type": "markdown",
   "metadata": {},
   "source": [
    "We can further compare our posterior mean coefficients:"
   ]
  },
  {
   "cell_type": "code",
   "execution_count": null,
   "metadata": {},
   "outputs": [],
   "source": [
    "plt.plot(y, \"k--\", label=\"true\")\n",
    "plt.plot(yhat, lw=3, label=\"full\")\n",
    "plt.plot(yhat2, lw=1, label=\"svd\")\n",
    "std = np.sqrt(np.diag(cho_ycov.dot(cho_ycov.T)))\n",
    "plt.fill_between(np.arange(len(yhat)), yhat - std, yhat + std, color=\"C0\", alpha=0.3)\n",
    "plt.legend(fontsize=10)\n",
    "plt.xlabel(\"coefficient index\")\n",
    "plt.ylabel(\"value\")\n",
    "plt.ylim(-0.035, 0.035);"
   ]
  },
  {
   "cell_type": "markdown",
   "metadata": {},
   "source": [
    "As well as the posterior covariance:"
   ]
  },
  {
   "cell_type": "code",
   "execution_count": null,
   "metadata": {},
   "outputs": [],
   "source": [
    "# Get the posterior covariance\n",
    "ycov = np.tril(cho_ycov).dot(np.tril(cho_ycov).T) + 1e-15\n",
    "ycov2 = np.tril(cho_ycov2).dot(np.tril(cho_ycov2).T) + 1e-15\n",
    "\n",
    "fig, ax = plt.subplots(1, 2, figsize=(8, 4))\n",
    "ax[0].imshow(np.log10(np.abs(ycov)), vmin=-15, vmax=0)\n",
    "ax[1].imshow(np.log10(np.abs(ycov2)), vmin=-15, vmax=0)\n",
    "\n",
    "plt.figure()\n",
    "plt.plot(np.sqrt(np.diag(cov)), \"k--\", lw=1, label=\"prior\")\n",
    "plt.plot(np.sqrt(np.diag(ycov)), lw=3, label=\"full\")\n",
    "plt.plot(np.sqrt(np.diag(ycov2)), lw=1, label=\"svd\")\n",
    "plt.legend(fontsize=10)\n",
    "plt.xlabel(\"coefficient number\")\n",
    "plt.ylabel(\"uncertainty\");"
   ]
  },
  {
   "cell_type": "markdown",
   "metadata": {},
   "source": [
    "If you were paying close attention, there are small differences in the results we get using SVD. Even though our fit to the data is just as good, the maps don't look *quite* the same. There are some subtle numerical issues at play here, but keep in mind that the disagreement is small and restricted entirely to the null space, so it's not really an issue."
   ]
  },
  {
   "cell_type": "raw",
   "metadata": {
    "raw_mimetype": "text/restructuredtext"
   },
   "source": [
    ".. warning::\n",
    "\n",
    "    There may be a thinko in my linear algebra when projecting the posterior mean back\n",
    "    to spherical harmonic space. I'm pretty concerned about how big the difference between\n",
    "    the \"full\" and \"svd\" solutions are for a few of the coefficients. Numerical instabilities\n",
    "    like these shouldn't kick in until much higher spherical harmonic degree. I'm still\n",
    "    investigating this, so stay tuned!"
   ]
  },
  {
   "cell_type": "markdown",
   "metadata": {},
   "source": [
    "## An even better way of doing this"
   ]
  },
  {
   "cell_type": "markdown",
   "metadata": {},
   "source": [
    "We showed how to solve the light curve problem in a more compact space -- saving us precious flops. However, we introduced several extra matrix multiplications, as well as the (quite costly) SVD step. Fortunately, we can actually skip SVD entirely. That's because we *know* that the representation of the compact basis in flux space is just sines and cosines. So, instead of doing SVD (which is nonlinear and slow), we can cast the problem as a (small) matrix inversion instead."
   ]
  },
  {
   "cell_type": "markdown",
   "metadata": {},
   "source": [
    "First, construct a tiny design matrix that spans one rotation. We're going to do the equivalent of SVD on this small matrix to get our change-of-basis matrix `V` as before."
   ]
  },
  {
   "cell_type": "code",
   "execution_count": null,
   "metadata": {},
   "outputs": [],
   "source": [
    "K = rank + 1\n",
    "theta = np.linspace(0, 2 * np.pi, K, endpoint=False)\n",
    "A = map.design_matrix(theta=theta * 180 / np.pi)"
   ]
  },
  {
   "cell_type": "markdown",
   "metadata": {},
   "source": [
    "Note that the number of rows in this matrix is one more than its rank (so that it's well-conditioned).\n",
    "\n",
    "As we mentioned above, we know that the `U` matrix in the SVD problem is just sines and cosines, so we can explicitly construct it:"
   ]
  },
  {
   "cell_type": "code",
   "execution_count": null,
   "metadata": {},
   "outputs": [],
   "source": [
    "theta = theta.reshape(-1, 1)\n",
    "U = np.hstack(\n",
    "    [np.ones_like(theta)]\n",
    "    + [\n",
    "        np.hstack([np.cos(n * theta), np.sin(n * theta)])\n",
    "        for n in range(1, map.ydeg + 1)\n",
    "    ]\n",
    ")"
   ]
  },
  {
   "cell_type": "markdown",
   "metadata": {},
   "source": [
    "We can now solve the equation `U @ VT = A` for `VT`:"
   ]
  },
  {
   "cell_type": "code",
   "execution_count": null,
   "metadata": {},
   "outputs": [],
   "source": [
    "cho_U = cho_factor(U.T.dot(U))\n",
    "Z = cho_solve(cho_U, U.T)\n",
    "VT = Z @ A"
   ]
  },
  {
   "cell_type": "markdown",
   "metadata": {},
   "source": [
    "Finally, since we didn't account for the `S` matrix above, we need to normalize `VT` so that its dot product with its transpose is the identity (which ensures the basis is orthonormal):"
   ]
  },
  {
   "cell_type": "code",
   "execution_count": null,
   "metadata": {},
   "outputs": [],
   "source": [
    "VT /= np.sqrt(np.diag(VT.dot(VT.T))).reshape(-1, 1)\n",
    "V = VT.T"
   ]
  },
  {
   "cell_type": "markdown",
   "metadata": {},
   "source": [
    "That's it! We can do inference as before."
   ]
  },
  {
   "cell_type": "code",
   "execution_count": null,
   "metadata": {},
   "outputs": [],
   "source": [
    "# Cast the matrices to the compact space\n",
    "X_V = X.dot(V)\n",
    "mu_V = VT.dot(mu)\n",
    "L_V = VT.dot(cov).dot(V)"
   ]
  },
  {
   "cell_type": "code",
   "execution_count": null,
   "metadata": {},
   "outputs": [],
   "source": [
    "# Solve the linear problem\n",
    "yhat_V, cho_ycov_V = starry.linalg.solve(X_V, flux, C=ferr ** 2, mu=mu_V, L=L_V)"
   ]
  },
  {
   "cell_type": "code",
   "execution_count": null,
   "metadata": {},
   "outputs": [],
   "source": [
    "# Transform the mean back to Ylm space\n",
    "yhat3 = V.dot(yhat_V - mu_V) + mu\n",
    "\n",
    "# Transform the covariance back to Ylm space\n",
    "W = V.dot(cho_solve((cho_ycov_V, True), VT))\n",
    "W += np.linalg.inv(cov)\n",
    "cho_W = cho_factor(W, lower=True)\n",
    "ycov = cho_solve(cho_W, np.eye(cov.shape[0]))\n",
    "cho_ycov3, _ = cho_factor(ycov, lower=True)"
   ]
  },
  {
   "cell_type": "markdown",
   "metadata": {},
   "source": [
    "We can verify that we get the exact same result as doing SVD:"
   ]
  },
  {
   "cell_type": "code",
   "execution_count": null,
   "metadata": {},
   "outputs": [],
   "source": [
    "plt.plot(y, \"k--\", label=\"true\")\n",
    "plt.plot(yhat2, lw=3, label=\"svd\")\n",
    "plt.plot(yhat3, lw=1, label=\"svd-fast\")\n",
    "std = np.sqrt(np.diag(cho_ycov.dot(cho_ycov.T)))\n",
    "plt.fill_between(np.arange(len(yhat)), yhat - std, yhat + std, color=\"C0\", alpha=0.3)\n",
    "plt.legend(fontsize=10)\n",
    "plt.xlabel(\"coefficient index\")\n",
    "plt.ylabel(\"value\")\n",
    "plt.ylim(-0.035, 0.035);"
   ]
  },
  {
   "cell_type": "code",
   "execution_count": null,
   "metadata": {},
   "outputs": [],
   "source": [
    "# Get the posterior covariance\n",
    "ycov = np.tril(cho_ycov2).dot(np.tril(cho_ycov2).T) + 1e-15\n",
    "ycov3 = np.tril(cho_ycov3).dot(np.tril(cho_ycov3).T) + 1e-15\n",
    "\n",
    "fig, ax = plt.subplots(1, 2, figsize=(8, 4))\n",
    "ax[0].imshow(np.log10(np.abs(ycov2)), vmin=-15, vmax=0)\n",
    "ax[1].imshow(np.log10(np.abs(ycov3)), vmin=-15, vmax=0)\n",
    "\n",
    "plt.figure()\n",
    "plt.plot(np.sqrt(np.diag(cov)), \"k--\", lw=1, label=\"prior\")\n",
    "plt.plot(np.sqrt(np.diag(ycov2)), lw=3, label=\"svd-fast\")\n",
    "plt.plot(np.sqrt(np.diag(ycov3)), lw=1, label=\"svd\")\n",
    "plt.legend(fontsize=10)\n",
    "plt.xlabel(\"coefficient number\")\n",
    "plt.ylabel(\"uncertainty\");"
   ]
  },
  {
   "cell_type": "markdown",
   "metadata": {},
   "source": [
    "## Speed comparison"
   ]
  },
  {
   "cell_type": "markdown",
   "metadata": {},
   "source": [
    "Let's now compare the speed of these two methods. First, let's define a class that will help us do the timing."
   ]
  },
  {
   "cell_type": "code",
   "execution_count": null,
   "metadata": {},
   "outputs": [],
   "source": [
    "class TimingTests(object):\n",
    "    def __init__(self, ydeg, npts, nest=10):\n",
    "        self.ydeg = ydeg\n",
    "        self.npts = npts\n",
    "        self.nest = nest\n",
    "        self.map = starry.Map(ydeg, inc=60)\n",
    "        self.t = np.linspace(0, 1, npts)\n",
    "\n",
    "        # random data & random prior\n",
    "        self.flux = np.random.randn(npts)\n",
    "        self.ferr = 1.0\n",
    "        self.cov = np.diag(np.random.randn(self.map.Ny) ** 2)\n",
    "        self.invcov = np.linalg.inv(self.cov)\n",
    "        self.mu = np.random.randn(self.map.Ny)\n",
    "\n",
    "        # Design matrix\n",
    "        self.X = self.map.design_matrix(theta=360.0 * self.t)\n",
    "\n",
    "        # Pre-compute the Cholesky decomp of the U matrix\n",
    "        K = 2 * self.ydeg + 1\n",
    "        self.theta = np.linspace(0, 360.0, K, endpoint=False)\n",
    "        theta_rad = self.theta.reshape(-1, 1) * np.pi / 180\n",
    "        U = np.hstack(\n",
    "            [np.ones_like(theta_rad)]\n",
    "            + [\n",
    "                np.hstack([np.cos(n * theta_rad), np.sin(n * theta_rad)])\n",
    "                for n in range(1, self.ydeg + 1)\n",
    "            ]\n",
    "        )\n",
    "        cho_U = cho_factor(U.T.dot(U))\n",
    "        self.Z = cho_solve(cho_U, U.T)\n",
    "\n",
    "    def time_full(self):\n",
    "\n",
    "        start = time.time()\n",
    "        for k in range(self.nest):\n",
    "\n",
    "            self.yhat, self.cho_ycov = starry.linalg.solve(\n",
    "                self.X, self.flux, C=self.ferr ** 2, mu=self.mu, L=self.cov\n",
    "            )\n",
    "\n",
    "        return (time.time() - start) / self.nest\n",
    "\n",
    "    def time_fast(self):\n",
    "\n",
    "        start = time.time()\n",
    "        for k in range(self.nest):\n",
    "\n",
    "            # Get the change-of-basis matrix\n",
    "            A = self.map.design_matrix(theta=self.theta)\n",
    "            VT = self.Z @ A\n",
    "            VT /= np.sqrt(np.diag(VT.dot(VT.T))).reshape(-1, 1)\n",
    "            V = VT.T\n",
    "\n",
    "            # Cast the matrices to the compact space\n",
    "            X_V = self.X.dot(V)\n",
    "            mu_V = VT.dot(self.mu)\n",
    "            L_V = VT.dot(self.cov).dot(V)\n",
    "\n",
    "            # Solve the linear problem\n",
    "            yhat_V, cho_ycov_V = starry.linalg.solve(\n",
    "                X_V, self.flux, C=self.ferr ** 2, mu=mu_V, L=L_V\n",
    "            )\n",
    "\n",
    "            # Transform the mean back to Ylm space\n",
    "            self.yhat = V.dot(yhat_V - mu_V) + self.mu\n",
    "\n",
    "            # Transform the covariance back to Ylm space\n",
    "            W = V.dot(cho_solve((cho_ycov_V, True), VT))\n",
    "            W += self.invcov\n",
    "            cho_W = cho_factor(W, lower=True)\n",
    "            ycov = cho_solve(cho_W, np.eye(self.cov.shape[0]))\n",
    "            self.cho_ycov, _ = cho_factor(ycov, lower=True)\n",
    "\n",
    "        return (time.time() - start) / self.nest\n",
    "\n",
    "    def time_fast_precomp(self):\n",
    "\n",
    "        # Get the change-of-basis matrix\n",
    "        A = self.map.design_matrix(theta=self.theta)\n",
    "        VT = self.Z @ A\n",
    "        VT /= np.sqrt(np.diag(VT.dot(VT.T))).reshape(-1, 1)\n",
    "        V = VT.T\n",
    "\n",
    "        # Cast the matrices to the compact space\n",
    "        X_V = self.X.dot(V)\n",
    "        mu_V = VT.dot(self.mu)\n",
    "        L_V = VT.dot(self.cov).dot(V)\n",
    "\n",
    "        start = time.time()\n",
    "        for k in range(self.nest):\n",
    "\n",
    "            # Solve the linear problem\n",
    "            yhat_V, cho_ycov_V = starry.linalg.solve(\n",
    "                X_V, self.flux, C=self.ferr ** 2, mu=mu_V, L=L_V\n",
    "            )\n",
    "\n",
    "            # Transform the mean back to Ylm space\n",
    "            self.yhat = V.dot(yhat_V - mu_V) + self.mu\n",
    "\n",
    "            # Transform the covariance back to Ylm space\n",
    "            W = V.dot(cho_solve((cho_ycov_V, True), VT))\n",
    "            W += self.invcov\n",
    "            cho_W = cho_factor(W, lower=True)\n",
    "            ycov = cho_solve(cho_W, np.eye(self.cov.shape[0]))\n",
    "            self.cho_ycov, _ = cho_factor(ycov, lower=True)\n",
    "\n",
    "        return (time.time() - start) / self.nest"
   ]
  },
  {
   "cell_type": "markdown",
   "metadata": {},
   "source": [
    "Compare the two methods on a grid of spherical harmonic degree and number of points:"
   ]
  },
  {
   "cell_type": "code",
   "execution_count": null,
   "metadata": {},
   "outputs": [],
   "source": [
    "ydeg = np.array(np.arange(1, 21), dtype=int)\n",
    "npts = np.array(np.logspace(2, 4, 10), dtype=int)\n",
    "ratio = np.ones((len(ydeg), len(npts)))\n",
    "for i in tqdm(range(len(ydeg))):\n",
    "    for j in range(len(npts)):\n",
    "        T = TimingTests(ydeg[i], npts[j])\n",
    "        ratio[i, j] = T.time_fast() / T.time_full()"
   ]
  },
  {
   "cell_type": "code",
   "execution_count": null,
   "metadata": {},
   "outputs": [],
   "source": [
    "fig, ax = plt.subplots(1, figsize=(8, 6))\n",
    "im = ax.imshow(\n",
    "    np.log10(ratio),\n",
    "    origin=\"lower\",\n",
    "    extent=(np.log10(npts[0]), np.log10(npts[-1]), ydeg[0], ydeg[-1]),\n",
    "    vmin=-1,\n",
    "    vmax=1,\n",
    "    cmap=\"RdBu\",\n",
    "    aspect=\"auto\",\n",
    ")\n",
    "cb = plt.colorbar(im)\n",
    "cb.set_ticks([-1, -np.log10(3), 0, np.log10(3), 1])\n",
    "cb.set_ticklabels(\n",
    "    [\n",
    "        r\"$10\\times\\ \\mathrm{faster}$\",\n",
    "        r\"$3\\times\\ \\mathrm{faster}$\",\n",
    "        r\"$\\mathrm{equal}$\",\n",
    "        r\"$3\\times\\ \\mathrm{slower}$\",\n",
    "        r\"$10\\times\\ \\mathrm{slower}$\",\n",
    "    ]\n",
    ")\n",
    "ax.set_xticks([2, 3, 4])\n",
    "ax.set_xticklabels([r\"$10^2$\", r\"$10^3$\", r\"$10^4$\"])\n",
    "ax.set_yticks([1, 5, 10, 15, 20])\n",
    "ax.set_yticklabels([r\"$1$\", r\"$5$\", r\"$10$\", r\"$15$\", r\"$20$\"])\n",
    "ax.set_xlabel(\"length of timeseries\")\n",
    "ax.set_ylabel(\"spherical harmonic degree\")\n",
    "ax.set_title(\"SVD trick speed test\");"
   ]
  },
  {
   "cell_type": "markdown",
   "metadata": {},
   "source": [
    "The SVD trick is slower for low spherical harmonic degree and small timeseries, but it can be much faster if `ydeg` is high and/or the timeseries has lots of points."
   ]
  },
  {
   "cell_type": "markdown",
   "metadata": {},
   "source": [
    "One last point: if we can pre-compute the change of basis matrix (in cases where the inclination is known or fixed), things get *much* better:"
   ]
  },
  {
   "cell_type": "code",
   "execution_count": null,
   "metadata": {},
   "outputs": [],
   "source": [
    "ydeg = np.array(np.arange(1, 21), dtype=int)\n",
    "npts = np.array(np.logspace(2, 4, 10), dtype=int)\n",
    "ratio = np.ones((len(ydeg), len(npts)))\n",
    "for i in tqdm(range(len(ydeg))):\n",
    "    for j in range(len(npts)):\n",
    "        T = TimingTests(ydeg[i], npts[j])\n",
    "        ratio[i, j] = T.time_fast_precomp() / T.time_full()"
   ]
  },
  {
   "cell_type": "code",
   "execution_count": null,
   "metadata": {},
   "outputs": [],
   "source": [
    "fig, ax = plt.subplots(1, figsize=(8, 6))\n",
    "im = ax.imshow(\n",
    "    np.log10(ratio),\n",
    "    origin=\"lower\",\n",
    "    extent=(np.log10(npts[0]), np.log10(npts[-1]), ydeg[0], ydeg[-1]),\n",
    "    vmin=-np.log10(30),\n",
    "    vmax=np.log10(30),\n",
    "    cmap=\"RdBu\",\n",
    "    aspect=\"auto\",\n",
    ")\n",
    "cb = plt.colorbar(im)\n",
    "cb.set_ticks([-np.log10(30), -1, -np.log10(3), 0, np.log10(3), 1, np.log10(30)])\n",
    "cb.set_ticklabels(\n",
    "    [\n",
    "        r\"$30\\times\\ \\mathrm{faster}$\",\n",
    "        r\"$10\\times\\ \\mathrm{faster}$\",\n",
    "        r\"$3\\times\\ \\mathrm{faster}$\",\n",
    "        r\"$\\mathrm{equal}$\",\n",
    "        r\"$3\\times\\ \\mathrm{slower}$\",\n",
    "        r\"$10\\times\\ \\mathrm{slower}$\",\n",
    "        r\"$30\\times\\ \\mathrm{slower}$\",\n",
    "    ]\n",
    ")\n",
    "ax.set_xticks([2, 3, 4])\n",
    "ax.set_xticklabels([r\"$10^2$\", r\"$10^3$\", r\"$10^4$\"])\n",
    "ax.set_yticks([1, 5, 10, 15, 20])\n",
    "ax.set_yticklabels([r\"$1$\", r\"$5$\", r\"$10$\", r\"$15$\", r\"$20$\"])\n",
    "ax.set_xlabel(\"length of timeseries\")\n",
    "ax.set_ylabel(\"spherical harmonic degree\")\n",
    "ax.set_title(\"SVD trick speed test (pre-computed)\");"
   ]
  },
  {
   "cell_type": "markdown",
   "metadata": {},
   "source": [
    "That's it for this tutorial. Keep in mind that our trick of sidestepping the SVD computation with a fast linear solve works *only* in the case of rotational light curves with no limb darkening. As soon as we add limb darkening, transits, or occultations, the compact basis is no longer strictly composed of sines and cosines. We can still do dimensionality reduction, but in these cases we *have* to perform full SVD, which is slow. But, as we showed above, if we can pre-compute this change of basis matrix, the speed gains may still be huge."
   ]
  }
 ],
 "metadata": {
  "celltoolbar": "Raw Cell Format",
  "kernelspec": {
   "display_name": "Python 3",
   "language": "python",
   "name": "python3"
  },
  "language_info": {
   "codemirror_mode": {
    "name": "ipython",
    "version": 3
   },
   "file_extension": ".py",
   "mimetype": "text/x-python",
   "name": "python",
   "nbconvert_exporter": "python",
   "pygments_lexer": "ipython3",
   "version": "3.7.4"
  }
 },
 "nbformat": 4,
 "nbformat_minor": 2
}
