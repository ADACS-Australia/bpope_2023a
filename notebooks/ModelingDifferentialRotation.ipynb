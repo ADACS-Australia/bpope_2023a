{
 "cells": [
  {
   "cell_type": "markdown",
   "metadata": {},
   "source": [
    "# Modeling differential rotation"
   ]
  },
  {
   "cell_type": "code",
   "execution_count": null,
   "metadata": {
    "tags": [
     "hide_input"
    ]
   },
   "outputs": [],
   "source": [
    "%matplotlib inline"
   ]
  },
  {
   "cell_type": "code",
   "execution_count": null,
   "metadata": {
    "tags": [
     "hide_input"
    ]
   },
   "outputs": [],
   "source": [
    "%run notebook_setup.py"
   ]
  },
  {
   "cell_type": "code",
   "execution_count": null,
   "metadata": {},
   "outputs": [],
   "source": [
    "import matplotlib.pyplot as plt\n",
    "from matplotlib import colors\n",
    "from mpl_toolkits.axes_grid1 import make_axes_locatable\n",
    "import numpy as np\n",
    "from tqdm.notebook import tqdm\n",
    "from scipy.special import factorial\n",
    "from scipy.interpolate import interp1d\n",
    "import starry\n",
    "\n",
    "starry.config.lazy = False\n",
    "starry.config.quiet = True"
   ]
  },
  {
   "cell_type": "markdown",
   "metadata": {},
   "source": [
    "## Differential rotation operator"
   ]
  },
  {
   "cell_type": "code",
   "execution_count": null,
   "metadata": {},
   "outputs": [],
   "source": [
    "class DifferentialOperator(object):\n",
    "    def __init__(self, ydeg, oversample=3, eps=1e-6):\n",
    "\n",
    "        # Get pixel transforms\n",
    "        self.ydeg = ydeg\n",
    "        map = starry.Map(ydeg)\n",
    "        self.lat, self.lon, self.P, self.Q, _, _ = map.get_pixel_transforms(\n",
    "            oversample=oversample\n",
    "        )\n",
    "\n",
    "        # Get indices of unique latitudes\n",
    "        self.unique_lat = np.sort(list(set(self.lat)))\n",
    "        self.idx = np.array([self.lat == l for l in self.unique_lat])\n",
    "\n",
    "        # Dimensions\n",
    "        self.npix = len(self.lat)\n",
    "        self.nlat = len(self.unique_lat)\n",
    "        self.ncoeff = (self.ydeg + 1) ** 2\n",
    "\n",
    "        # Transform tensor\n",
    "        self.T = [None for lat in self.unique_lat]\n",
    "        for i, row in enumerate(self.idx):\n",
    "            X = self._get_X(self.lon[row])\n",
    "            A = np.linalg.solve(X.T.dot(X) + eps * np.eye(X.shape[1]), X.T)\n",
    "            # The poles don't rotate\n",
    "            if (i == 0) or (i == self.nlat - 1):\n",
    "                A[:, :] = 0\n",
    "                A[0, 0] = 1\n",
    "            self.T[i] = A.dot(self.P[row])\n",
    "\n",
    "        # Misc\n",
    "        self.Dp = np.empty((self.npix, self.ncoeff))\n",
    "        self.mag = np.sin(self.unique_lat * np.pi / 180.0) ** 2\n",
    "\n",
    "    def _get_X(self, theta):\n",
    "        # TODO: Figure out the best regression order\n",
    "        order = len(theta) // 2 - 1\n",
    "        return np.hstack(\n",
    "            (\n",
    "                np.ones((len(theta), 1)),\n",
    "                np.transpose(\n",
    "                    np.reshape(\n",
    "                        [np.sin(n * theta * np.pi / 180) for n in range(1, order)],\n",
    "                        (-1, len(theta)),\n",
    "                    )\n",
    "                ),\n",
    "                np.transpose(\n",
    "                    np.reshape(\n",
    "                        [np.cos(n * theta * np.pi / 180) for n in range(1, order)],\n",
    "                        (-1, len(theta)),\n",
    "                    )\n",
    "                ),\n",
    "            )\n",
    "        )\n",
    "\n",
    "    def get_D(self, theta):\n",
    "        for i, row in enumerate(self.idx):\n",
    "            new_lon = self.lon[row] + theta * self.mag[i]\n",
    "            new_lon = ((new_lon + 180) % 360) - 180\n",
    "            X = self._get_X(new_lon)\n",
    "            self.Dp[row] = X.dot(self.T[i])\n",
    "        D = self.Q.dot(self.Dp)\n",
    "        # Preserve luminosity\n",
    "        D[0, :] = 0\n",
    "        D[0, 0] = 1\n",
    "        return D"
   ]
  },
  {
   "cell_type": "markdown",
   "metadata": {},
   "source": [
    "## Global parameters"
   ]
  },
  {
   "cell_type": "code",
   "execution_count": null,
   "metadata": {},
   "outputs": [],
   "source": [
    "# Spherical harmonic degrees\n",
    "ydeg_true = 30\n",
    "ydeg_inf = 20\n",
    "\n",
    "# Stellar parameters\n",
    "prot = 1.0\n",
    "alpha = 0.02\n",
    "inc = 75\n",
    "\n",
    "# Light curve noise\n",
    "ferr = 1e-3\n",
    "\n",
    "# Time & rotational phase array\n",
    "time = np.linspace(-10, 10, 1000)\n",
    "theta = 360.0 / prot * time"
   ]
  },
  {
   "cell_type": "code",
   "execution_count": null,
   "metadata": {},
   "outputs": [],
   "source": [
    "cmap = plt.get_cmap(\"plasma\")\n",
    "cmap.set_under(\"k\")\n",
    "cmap.set_over(\"w\")"
   ]
  },
  {
   "cell_type": "markdown",
   "metadata": {},
   "source": [
    "## Generate a surface map"
   ]
  },
  {
   "cell_type": "markdown",
   "metadata": {},
   "source": [
    "Let's create an image of a stellar surface with several funny-looking spots:"
   ]
  },
  {
   "cell_type": "code",
   "execution_count": null,
   "metadata": {},
   "outputs": [],
   "source": [
    "map = starry.Map(ydeg_true, inc=inc)\n",
    "\n",
    "# Add several spots\n",
    "y = [10, 42.5, 10, 10, -50, -30, -10, 20, -40, 50]\n",
    "x = [0, 0, -32.5, 32.5, -90, -130, 130, 130, 130, -120]\n",
    "s = [0.1, 0.1, 0.1, 0.1, 0.15, 0.1, 0.1, 0.075, 0.075, 0.125]\n",
    "for i in range(len(y)):\n",
    "    map.add_spot(amp=-0.2 * s[i], lat=y[i], lon=x[i], sigma=0.35 * s[i], relative=False)\n",
    "\n",
    "# Store the spherical harmonic coefficients\n",
    "y0 = np.array(map.y)\n",
    "\n",
    "# Set the amplitude so the background intensity is ~1.0\n",
    "amp0 = 2.4\n",
    "map.amp = amp0\n",
    "\n",
    "# Visualize on a rectangular projection\n",
    "map.show(\n",
    "    projection=\"rect\", cmap=cmap, norm=colors.Normalize(vmin=0, vmax=1), colorbar=True\n",
    ")"
   ]
  },
  {
   "cell_type": "markdown",
   "metadata": {},
   "source": [
    "In order for us to experiment with differential rotation, let's get the map as a matrix of pixel intensities on a rectagular latitude/longitude grid:"
   ]
  },
  {
   "cell_type": "code",
   "execution_count": null,
   "metadata": {},
   "outputs": [],
   "source": [
    "I0 = map.render(projection=\"rect\", res=200)"
   ]
  },
  {
   "cell_type": "markdown",
   "metadata": {},
   "source": [
    "The columns of the matrix `I0` are the longitudes `lon_grid` and the rows are the latitudes `lat_grid`, which we can obtain as follows:"
   ]
  },
  {
   "cell_type": "code",
   "execution_count": null,
   "metadata": {},
   "outputs": [],
   "source": [
    "lat_grid, lon_grid = map.get_latlon_grid(projection=\"rect\", res=200)"
   ]
  },
  {
   "cell_type": "markdown",
   "metadata": {},
   "source": [
    "These are just (flattened) meshgrids of a latitude array,"
   ]
  },
  {
   "cell_type": "code",
   "execution_count": null,
   "metadata": {},
   "outputs": [],
   "source": [
    "lat_arr = np.sort(list(set(lat_grid)))"
   ]
  },
  {
   "cell_type": "markdown",
   "metadata": {},
   "source": [
    "and a longitude array,"
   ]
  },
  {
   "cell_type": "code",
   "execution_count": null,
   "metadata": {},
   "outputs": [],
   "source": [
    "lon_arr = np.sort(list(set(lon_grid)))"
   ]
  },
  {
   "cell_type": "markdown",
   "metadata": {},
   "source": [
    "each of length 200:"
   ]
  },
  {
   "cell_type": "code",
   "execution_count": null,
   "metadata": {},
   "outputs": [],
   "source": [
    "assert len(lon_arr) == len(lat_arr) == 200"
   ]
  },
  {
   "cell_type": "markdown",
   "metadata": {},
   "source": [
    "If we visualized this image with `imshow` (as you can check), we'd get the same figure as above."
   ]
  },
  {
   "cell_type": "markdown",
   "metadata": {},
   "source": [
    "## Add differential rotation"
   ]
  },
  {
   "cell_type": "markdown",
   "metadata": {},
   "source": [
    "It's straightforward to apply differential rotation to this map given an equatorial rotational period ``prot``, a differential rotation shear ``alpha``, and a time ``t`` since the time at which the original map is defined. Let's code up a function that returns a new version of the map after differential rotation:"
   ]
  },
  {
   "cell_type": "code",
   "execution_count": null,
   "metadata": {},
   "outputs": [],
   "source": [
    "def diff_rotate(I, lat_arr, lon_arr, prot, alpha, t):\n",
    "    Irot = np.zeros_like(I)\n",
    "    omega_eq = 360.0 / prot\n",
    "    for i, lat in enumerate(lat_arr):\n",
    "        new_lon_arr = lon_arr + omega_eq * alpha * t * np.sin(lat * np.pi / 180.0) ** 2\n",
    "        new_lon_arr = ((new_lon_arr + 180) % 360) - 180\n",
    "        func = interp1d(lon_arr, I[i], fill_value=\"extrapolate\")\n",
    "        Irot[i] = func(new_lon_arr)\n",
    "    return Irot"
   ]
  },
  {
   "cell_type": "code",
   "execution_count": null,
   "metadata": {},
   "outputs": [],
   "source": [
    "fig, ax = plt.subplots(3, 3, figsize=(12, 6))\n",
    "ax = ax.flatten()\n",
    "Irot_exact = np.zeros((len(ax), *I0.shape))\n",
    "for i, t in enumerate(np.linspace(-10, 10, len(ax))):\n",
    "    Irot_exact[i] = diff_rotate(I0, lat_arr, lon_arr, prot, alpha, t)\n",
    "    ax[i].imshow(\n",
    "        Irot_exact[i],\n",
    "        extent=(-180, 180, -90, 90),\n",
    "        origin=\"lower\",\n",
    "        cmap=cmap,\n",
    "        vmin=0,\n",
    "        vmax=1,\n",
    "    )\n",
    "    ax[i].set(xticks=[], yticks=[])\n",
    "    ax[i].set_ylabel(r\"${:.2f}$\".format(t), fontsize=10)"
   ]
  },
  {
   "cell_type": "markdown",
   "metadata": {},
   "source": [
    "## Expand in spherical harmonics"
   ]
  },
  {
   "cell_type": "code",
   "execution_count": null,
   "metadata": {},
   "outputs": [],
   "source": [
    "DiffOp = DifferentialOperator(ydeg_true)"
   ]
  },
  {
   "cell_type": "code",
   "execution_count": null,
   "metadata": {},
   "outputs": [],
   "source": [
    "DiffOp.mag"
   ]
  },
  {
   "cell_type": "code",
   "execution_count": null,
   "metadata": {},
   "outputs": [],
   "source": [
    "plt.imshow(DiffOp.T[10], aspect=\"auto\")"
   ]
  },
  {
   "cell_type": "code",
   "execution_count": null,
   "metadata": {},
   "outputs": [],
   "source": [
    "plt.imshow(DiffOp.get_D(90))"
   ]
  },
  {
   "cell_type": "code",
   "execution_count": null,
   "metadata": {},
   "outputs": [],
   "source": [
    "fig, ax = plt.subplots(3, 3, figsize=(12, 6))\n",
    "ax = ax.flatten()\n",
    "Irot_ylm = np.zeros_like(Irot_exact)\n",
    "for i, t in enumerate(np.linspace(-10, 10, len(ax))):\n",
    "    D = DiffOp.get_D(360 / prot * alpha * t)\n",
    "    map[1:, :] = D.dot(y0)[1:]\n",
    "    Irot_ylm[i] = map.render(projection=\"rect\", res=200)\n",
    "    ax[i].imshow(\n",
    "        Irot_ylm[i],\n",
    "        extent=(-180, 180, -90, 90),\n",
    "        origin=\"lower\",\n",
    "        cmap=cmap,\n",
    "        vmin=0,\n",
    "        vmax=1,\n",
    "    )\n",
    "    ax[i].set(xticks=[], yticks=[])\n",
    "    ax[i].set_ylabel(r\"${:.2f}$\".format(t), fontsize=10)"
   ]
  },
  {
   "cell_type": "markdown",
   "metadata": {},
   "source": [
    "## Compare"
   ]
  },
  {
   "cell_type": "code",
   "execution_count": null,
   "metadata": {},
   "outputs": [],
   "source": [
    "fig, ax = plt.subplots(3, 3, figsize=(12, 6))\n",
    "ax = ax.flatten()\n",
    "for i, t in enumerate(np.linspace(-10, 10, len(ax))):\n",
    "    ax[i].imshow(\n",
    "        (Irot_exact[i] - Irot_ylm[i]),\n",
    "        extent=(-180, 180, -90, 90),\n",
    "        origin=\"lower\",\n",
    "        cmap=cmap,\n",
    "        vmin=-0.01,\n",
    "        vmax=0.01,\n",
    "    )\n",
    "    ax[i].set(xticks=[], yticks=[])\n",
    "    ax[i].set_ylabel(r\"${:.2f}$\".format(t), fontsize=10)"
   ]
  },
  {
   "cell_type": "markdown",
   "metadata": {},
   "source": [
    "## Generate a light curve"
   ]
  },
  {
   "cell_type": "code",
   "execution_count": null,
   "metadata": {},
   "outputs": [],
   "source": [
    "A = map.design_matrix(theta=theta)"
   ]
  },
  {
   "cell_type": "code",
   "execution_count": null,
   "metadata": {},
   "outputs": [],
   "source": [
    "flux0 = np.einsum(\"ij,ji->i\", A, y.T)\n",
    "flux0 /= np.nanmedian(flux0)"
   ]
  },
  {
   "cell_type": "code",
   "execution_count": null,
   "metadata": {},
   "outputs": [],
   "source": [
    "flux = flux0 + ferr * np.random.randn(len(flux0))"
   ]
  },
  {
   "cell_type": "code",
   "execution_count": null,
   "metadata": {},
   "outputs": [],
   "source": [
    "plt.plot(time, flux, \"k.\", alpha=0.5, ms=3)\n",
    "plt.plot(time, flux0, \"C0-\", lw=1, alpha=0.5)\n",
    "plt.xlabel(\"time [periods]\")\n",
    "plt.ylabel(\"flux [normalized]\");"
   ]
  },
  {
   "cell_type": "markdown",
   "metadata": {},
   "source": [
    "## Inference"
   ]
  },
  {
   "cell_type": "code",
   "execution_count": null,
   "metadata": {},
   "outputs": [],
   "source": []
  }
 ],
 "metadata": {
  "celltoolbar": "Raw Cell Format",
  "kernelspec": {
   "display_name": "Python 3",
   "language": "python",
   "name": "python3"
  },
  "language_info": {
   "codemirror_mode": {
    "name": "ipython",
    "version": 3
   },
   "file_extension": ".py",
   "mimetype": "text/x-python",
   "name": "python",
   "nbconvert_exporter": "python",
   "pygments_lexer": "ipython3",
   "version": "3.7.4"
  }
 },
 "nbformat": 4,
 "nbformat_minor": 2
}
