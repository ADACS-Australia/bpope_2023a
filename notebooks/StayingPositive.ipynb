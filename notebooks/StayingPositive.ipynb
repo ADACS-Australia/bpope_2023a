{
 "cells": [
  {
   "cell_type": "markdown",
   "metadata": {},
   "source": [
    "# Staying Positive"
   ]
  },
  {
   "cell_type": "code",
   "execution_count": null,
   "metadata": {
    "tags": [
     "hide_input"
    ]
   },
   "outputs": [],
   "source": [
    "%matplotlib inline"
   ]
  },
  {
   "cell_type": "code",
   "execution_count": null,
   "metadata": {
    "tags": [
     "hide_input"
    ]
   },
   "outputs": [],
   "source": [
    "%run notebook_setup.py"
   ]
  },
  {
   "cell_type": "markdown",
   "metadata": {},
   "source": [
    "Unfortunately, there's no trivial way of setting the spherical harmonic coefficients to ensure the map intensity is non-negative everywhere. One helpful thing to keep in mind is that the average intensity across the surface does not change when you modify the spherical harmonic coefficients. That's because all spherical harmonics other than $Y_{0,0}$ are perfectly anti-symmetric: for every bright region on the surface, there's an equally dark region on the other side that cancels its contribution to the surface-integrated intensity. What this means is that the magnitude of the spherical harmonic coefficients controls the departure of the intensity from this mean value (which is equal to the intensity of the $Y_{0,0}$ harmonic, $\\frac{1}{\\pi}$). One way to ensure the map is non-negative everywhere is therefore simply to limit the amplitude of all spherical harmonic coefficients to a small value."
   ]
  },
  {
   "cell_type": "markdown",
   "metadata": {},
   "source": [
    "## Spherical harmonic maps"
   ]
  },
  {
   "cell_type": "markdown",
   "metadata": {},
   "source": [
    "However, in some cases it might be useful to check in the general case whether or not a map is positive semi-definite. This entails running a nonlinear minimization on the intensity across the surface. For spherical harmonic maps, this is implemented in the `minimize()` method. Let's import `starry`, instantiate a map, and take a look."
   ]
  },
  {
   "cell_type": "code",
   "execution_count": null,
   "metadata": {},
   "outputs": [],
   "source": [
    "import numpy as np\n",
    "import matplotlib.pyplot as plt\n",
    "import starry\n",
    "\n",
    "starry.config.lazy = False\n",
    "starry.config.quiet = True"
   ]
  },
  {
   "cell_type": "markdown",
   "metadata": {},
   "source": [
    "Let's set the coefficients randomly..."
   ]
  },
  {
   "cell_type": "code",
   "execution_count": null,
   "metadata": {},
   "outputs": [],
   "source": [
    "map = starry.Map(ydeg=5)\n",
    "np.random.seed(0)\n",
    "map[1:, :] = 0.1 * np.random.randn(map.Ny - 1)"
   ]
  },
  {
   "cell_type": "markdown",
   "metadata": {},
   "source": [
    "... and plot the map on a lat-lon grid:"
   ]
  },
  {
   "cell_type": "code",
   "execution_count": null,
   "metadata": {},
   "outputs": [],
   "source": [
    "image = map.render(projection=\"rect\")\n",
    "plt.imshow(image, origin=\"lower\", cmap=\"plasma\", extent=(-180, 180, -90, 90))\n",
    "plt.xlabel(\"longitude [deg]\")\n",
    "plt.ylabel(\"latitude [deg]\")\n",
    "plt.colorbar();"
   ]
  },
  {
   "cell_type": "code",
   "execution_count": null,
   "metadata": {
    "tags": [
     "hide_input"
    ]
   },
   "outputs": [],
   "source": [
    "# Pre-run this to ensure it's compiled\n",
    "map.minimize();"
   ]
  },
  {
   "cell_type": "markdown",
   "metadata": {},
   "source": [
    "The map clearly goes negative in certain regions. If we call `minimize()`, we can get the latitude, longitude, and value of the intensity at the minimum:"
   ]
  },
  {
   "cell_type": "code",
   "execution_count": null,
   "metadata": {},
   "outputs": [],
   "source": [
    "%%time\n",
    "lat, lon, value = map.minimize()"
   ]
  },
  {
   "cell_type": "code",
   "execution_count": null,
   "metadata": {},
   "outputs": [],
   "source": [
    "print(lat, lon, value)"
   ]
  },
  {
   "cell_type": "code",
   "execution_count": null,
   "metadata": {},
   "outputs": [],
   "source": [
    "plt.imshow(image, origin=\"lower\", cmap=\"plasma\", extent=(-180, 180, -90, 90))\n",
    "plt.xlabel(\"longitude [deg]\")\n",
    "plt.ylabel(\"latitude [deg]\")\n",
    "plt.axvline(lon, color=\"k\", ls=\"--\")\n",
    "plt.axhline(lat, color=\"k\", ls=\"--\")\n",
    "plt.title(\"minimum: {0:.3f}\".format(value))\n",
    "plt.colorbar();"
   ]
  },
  {
   "cell_type": "markdown",
   "metadata": {},
   "source": [
    "The method is *fairly* fast, so it could be used, for example, as a penalty when doing inference."
   ]
  },
  {
   "cell_type": "markdown",
   "metadata": {},
   "source": [
    "## Limb-darkened maps"
   ]
  },
  {
   "cell_type": "markdown",
   "metadata": {},
   "source": [
    "For limb-darkened maps, it's a little easier to check whether the map is positive everywhere. Because the limb darkening profile is one-dimensional, we can use [Sturm's theorem](https://en.wikipedia.org/wiki/Sturm%27s_theorem) to verify that\n",
    "\n",
    "   * The intensity is non-negative everywhere\n",
    "   * The intensity is monotonically decreasing toward the limb\n",
    "\n",
    "Limb-darkened maps (or spherical harmonic maps with a limb darkening filter) implement the `limbdark_is_physical` method, which checks whether both points are true. Note, importantly, that the second point is specific to limb *darkening*. In principle the specific intensity could get brighter toward the limb (as is the case at certain wavelengths for the Sun), so you wouldn't want to use in those cases."
   ]
  },
  {
   "cell_type": "code",
   "execution_count": null,
   "metadata": {},
   "outputs": [],
   "source": [
    "map = starry.Map(udeg=4)"
   ]
  },
  {
   "cell_type": "markdown",
   "metadata": {},
   "source": [
    "Let's try this on a few limb-darkened maps:"
   ]
  },
  {
   "cell_type": "code",
   "execution_count": null,
   "metadata": {},
   "outputs": [],
   "source": [
    "map[1:] = [0.5, 0.25, 0.5, 0.25]"
   ]
  },
  {
   "cell_type": "code",
   "execution_count": null,
   "metadata": {},
   "outputs": [],
   "source": [
    "map.show()"
   ]
  },
  {
   "cell_type": "markdown",
   "metadata": {},
   "source": [
    "Is it physical?"
   ]
  },
  {
   "cell_type": "code",
   "execution_count": null,
   "metadata": {},
   "outputs": [],
   "source": [
    "map.limbdark_is_physical()"
   ]
  },
  {
   "cell_type": "markdown",
   "metadata": {},
   "source": [
    "No! Let's plot the intensity as a function of $\\mu$ to see why:"
   ]
  },
  {
   "cell_type": "code",
   "execution_count": null,
   "metadata": {},
   "outputs": [],
   "source": [
    "mu = np.linspace(0, 1, 1000)\n",
    "plt.plot(mu, map.intensity(mu=mu))\n",
    "plt.axhline(0, color=\"k\", ls=\"--\")\n",
    "plt.gca().invert_xaxis()\n",
    "plt.xlabel(r\"$\\mu$\")\n",
    "plt.ylabel(\"relative intensity\");"
   ]
  },
  {
   "cell_type": "markdown",
   "metadata": {},
   "source": [
    "The intensity is negative close to the limb. "
   ]
  },
  {
   "cell_type": "markdown",
   "metadata": {},
   "source": [
    "Let's try a different coefficient vector:"
   ]
  },
  {
   "cell_type": "code",
   "execution_count": null,
   "metadata": {},
   "outputs": [],
   "source": [
    "map[1:] = [0.1, -2.0, 2.25, 0.5]"
   ]
  },
  {
   "cell_type": "code",
   "execution_count": null,
   "metadata": {},
   "outputs": [],
   "source": [
    "map.show()"
   ]
  },
  {
   "cell_type": "markdown",
   "metadata": {},
   "source": [
    "Is it physical?"
   ]
  },
  {
   "cell_type": "code",
   "execution_count": null,
   "metadata": {},
   "outputs": [],
   "source": [
    "map.limbdark_is_physical()"
   ]
  },
  {
   "cell_type": "code",
   "execution_count": null,
   "metadata": {},
   "outputs": [],
   "source": [
    "mu = np.linspace(0, 1, 1000)\n",
    "plt.plot(mu, map.intensity(mu=mu))\n",
    "plt.axhline(0, color=\"k\", ls=\"--\")\n",
    "plt.gca().invert_xaxis()\n",
    "plt.xlabel(r\"$\\mu$\")\n",
    "plt.ylabel(\"relative intensity\");"
   ]
  },
  {
   "cell_type": "markdown",
   "metadata": {},
   "source": [
    "Even though it's positive everywhere, it's not monotonic!"
   ]
  },
  {
   "cell_type": "markdown",
   "metadata": {},
   "source": [
    "One last example:"
   ]
  },
  {
   "cell_type": "code",
   "execution_count": null,
   "metadata": {},
   "outputs": [],
   "source": [
    "map[1:] = [0.5, -0.1, 0.25, 0.25]"
   ]
  },
  {
   "cell_type": "code",
   "execution_count": null,
   "metadata": {},
   "outputs": [],
   "source": [
    "map.show()"
   ]
  },
  {
   "cell_type": "markdown",
   "metadata": {},
   "source": [
    "Is it physical?"
   ]
  },
  {
   "cell_type": "code",
   "execution_count": null,
   "metadata": {},
   "outputs": [],
   "source": [
    "map.limbdark_is_physical()"
   ]
  },
  {
   "cell_type": "code",
   "execution_count": null,
   "metadata": {},
   "outputs": [],
   "source": [
    "mu = np.linspace(0, 1, 1000)\n",
    "plt.plot(mu, map.intensity(mu=mu))\n",
    "plt.axhline(0, color=\"k\", ls=\"--\")\n",
    "plt.gca().invert_xaxis()\n",
    "plt.xlabel(r\"$\\mu$\")\n",
    "plt.ylabel(\"relative intensity\");"
   ]
  },
  {
   "cell_type": "markdown",
   "metadata": {},
   "source": [
    "This one is both non-negative everywhere *and* monotonic, so it's a physical limb darkening model."
   ]
  }
 ],
 "metadata": {
  "celltoolbar": "Tags",
  "kernelspec": {
   "display_name": "Python 3",
   "language": "python",
   "name": "python3"
  },
  "language_info": {
   "codemirror_mode": {
    "name": "ipython",
    "version": 3
   },
   "file_extension": ".py",
   "mimetype": "text/x-python",
   "name": "python",
   "nbconvert_exporter": "python",
   "pygments_lexer": "ipython3",
   "version": "3.7.4"
  }
 },
 "nbformat": 4,
 "nbformat_minor": 2
}
