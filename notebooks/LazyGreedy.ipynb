{
 "cells": [
  {
   "cell_type": "raw",
   "metadata": {
    "raw_mimetype": "text/restructuredtext"
   },
   "source": [
    ".. warning::\n",
    "    This page is still under development."
   ]
  },
  {
   "cell_type": "markdown",
   "metadata": {},
   "source": [
    "# Lazy versus greedy evaluation"
   ]
  },
  {
   "cell_type": "code",
   "execution_count": null,
   "metadata": {
    "tags": [
     "hide_input"
    ]
   },
   "outputs": [],
   "source": [
    "%matplotlib inline"
   ]
  },
  {
   "cell_type": "code",
   "execution_count": null,
   "metadata": {
    "tags": [
     "hide_input"
    ]
   },
   "outputs": [],
   "source": [
    "%run notebook_setup.py"
   ]
  },
  {
   "cell_type": "code",
   "execution_count": null,
   "metadata": {
    "tags": [
     "hide_input"
    ]
   },
   "outputs": [],
   "source": [
    "import starry\n",
    "\n",
    "starry.config.quiet = True"
   ]
  },
  {
   "cell_type": "markdown",
   "metadata": {},
   "source": [
    "## tl;dr\n",
    "\n",
    "Version `1.0` of the code evaluates things *lazily* by default, meaning that all internal values are nodes in a graph, stored as `theano` tensors. Lazy mode is required for interfacing with `pymc3` to do inference (refer to the several tutorials on `pymc3` sampling). If you *really* need the value of a `theano` object, you can always call its `eval()` method, but keep in mind that operation can be somewhat slow.\n",
    "\n",
    "If, on the other hand, you're not interested in using `pymc3` or in any of the derivatives of `starry` models, you can disable lazy evaluation by typing\n",
    "\n",
    "```python\n",
    "starry.config.lazy = False\n",
    "```\n",
    "\n",
    "at the top of your script, *before* you instantiate any `starry` maps. If you do that, `starry` will behave as it did in previous versions: you don't have to call the `eval()` method or worry about any tensor nonsense."
   ]
  },
  {
   "cell_type": "markdown",
   "metadata": {},
   "source": [
    "## Lazy mode"
   ]
  },
  {
   "cell_type": "markdown",
   "metadata": {},
   "source": [
    "One of the big changes in version `1.0` of `starry` is *lazy evaluation* mode, which is now the default. [Lazy evaluation](https://en.wikipedia.org/wiki/Lazy_evaluation) means that the evaluation of all expressions in the code is delayed until a numerical value is needed (i.e., when outputting or plotting the result). This is as opposed to [greedy or eager evaluation](https://en.wikipedia.org/wiki/Eager_evaluation), in which all expressions are evaluated on-the-fly, as soon as the code encounters them. In lazy evaluation mode, expressions are compiled and stored in memory as *nodes in a graph*, which are only executed when a numerical value is required. This strategy allows for some cool compile-time optimization under the hood. But by far the greatest advantage of lazy evaluation (at least in our case) is that it makes it easy to autodifferentiate expressions using backpropagation. This lets us compute derivatives of all expressions extremely efficiently, and those can be seemlessly integrated into derivative-based MCMC sampling schemes such as Hamiltonian Monte Carlo or NUTS.\n",
    "\n",
    "Version `1.0` of `starry` is built on top of the [theano](https://github.com/Theano/Theano) machine learning library, which handles all of the graph compiling and backpropagation. There's lots of other software that does similar things (such as `tensorflow` and `pytorch`), but the advantage of `theano` is that it is also the backbone of [exoplanet](https://github.com/dfm/exoplanet) and [pymc3](https://github.com/pymc-devs/pymc3). This allows us to easily integrate `starry` with all the cool inference machinery of those two packages.\n",
    "\n",
    "Let's look at some examples of how lazy evaluation works in `starry`. Let's instantiate a regular `starry` map:"
   ]
  },
  {
   "cell_type": "code",
   "execution_count": null,
   "metadata": {},
   "outputs": [],
   "source": [
    "import starry\n",
    "\n",
    "map = starry.Map(ydeg=1)"
   ]
  },
  {
   "cell_type": "markdown",
   "metadata": {},
   "source": [
    "We can give this map a simple dipole by assigning a value to the coefficient of the $Y_{1,0}$ spherical harmonic:"
   ]
  },
  {
   "cell_type": "code",
   "execution_count": null,
   "metadata": {},
   "outputs": [],
   "source": [
    "map[1, 0] = 0.5"
   ]
  },
  {
   "cell_type": "markdown",
   "metadata": {},
   "source": [
    "Since the coefficient of the $Y_{0,0}$ harmonic is fixed at unity, our spherical harmonic coefficients are now the vector $y = (1, 0, \\frac{1}{2}, 0)$. Here's what that looks like:"
   ]
  },
  {
   "cell_type": "code",
   "execution_count": null,
   "metadata": {},
   "outputs": [],
   "source": [
    "map.show()"
   ]
  },
  {
   "cell_type": "markdown",
   "metadata": {},
   "source": [
    "Recall that the spherical harmonic coefficients are stored in the `y` attribute of the map. Let's take a look:"
   ]
  },
  {
   "cell_type": "code",
   "execution_count": null,
   "metadata": {},
   "outputs": [],
   "source": [
    "map.y"
   ]
  },
  {
   "cell_type": "markdown",
   "metadata": {},
   "source": [
    "That doesn't look right, but it *is*: the vector $y$ is stored internally as a `theano` tensor and doesn't yet have a numerical value:"
   ]
  },
  {
   "cell_type": "code",
   "execution_count": null,
   "metadata": {},
   "outputs": [],
   "source": [
    "type(map.y)"
   ]
  },
  {
   "cell_type": "markdown",
   "metadata": {},
   "source": [
    "In order to access its value, I can call its `eval` method:"
   ]
  },
  {
   "cell_type": "code",
   "execution_count": null,
   "metadata": {},
   "outputs": [],
   "source": [
    "map.y.eval()"
   ]
  },
  {
   "cell_type": "markdown",
   "metadata": {},
   "source": [
    "Which is what we expected."
   ]
  },
  {
   "cell_type": "markdown",
   "metadata": {},
   "source": [
    "## Greedy mode"
   ]
  },
  {
   "cell_type": "markdown",
   "metadata": {},
   "source": [
    "To run `starry` in greedy (i.e., not lazy) mode, you can add the following line somewhere near the top of your script:"
   ]
  },
  {
   "cell_type": "code",
   "execution_count": null,
   "metadata": {
    "tags": [
     "hide_input"
    ]
   },
   "outputs": [],
   "source": [
    "# *-*-*- DON'T DO THIS AT HOME! -*-*-*\n",
    "# You shouldn't mix greedy and lazy maps in\n",
    "# the same session, as you risk angering theano.\n",
    "# I'm able to get away with it in this example\n",
    "# because I'm just evaluating a few variables.\n",
    "# But if I were to try to do anything else, things\n",
    "# would probably break!\n",
    "starry.config._allow_changes = True"
   ]
  },
  {
   "cell_type": "code",
   "execution_count": null,
   "metadata": {},
   "outputs": [],
   "source": [
    "starry.config.lazy = False"
   ]
  },
  {
   "cell_type": "markdown",
   "metadata": {},
   "source": [
    "(Note that if you try to change the evaluation mode after you've instantiated a `starry` map, the code will complain.)\n",
    "\n",
    "In greedy mode, things behave as they did in previous versions of the code. Check it out:"
   ]
  },
  {
   "cell_type": "code",
   "execution_count": null,
   "metadata": {},
   "outputs": [],
   "source": [
    "map = starry.Map(ydeg=1)"
   ]
  },
  {
   "cell_type": "code",
   "execution_count": null,
   "metadata": {},
   "outputs": [],
   "source": [
    "map[1, 0] = 0.5"
   ]
  },
  {
   "cell_type": "code",
   "execution_count": null,
   "metadata": {},
   "outputs": [],
   "source": [
    "map.y"
   ]
  },
  {
   "cell_type": "code",
   "execution_count": null,
   "metadata": {},
   "outputs": [],
   "source": [
    "type(map.y)"
   ]
  }
 ],
 "metadata": {
  "celltoolbar": "Tags",
  "kernelspec": {
   "display_name": "Python 3",
   "language": "python",
   "name": "python3"
  },
  "language_info": {
   "codemirror_mode": {
    "name": "ipython",
    "version": 3
   },
   "file_extension": ".py",
   "mimetype": "text/x-python",
   "name": "python",
   "nbconvert_exporter": "python",
   "pygments_lexer": "ipython3",
   "version": "3.7.4"
  }
 },
 "nbformat": 4,
 "nbformat_minor": 2
}
