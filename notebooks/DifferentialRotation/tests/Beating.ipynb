{
 "cells": [
  {
   "cell_type": "markdown",
   "metadata": {},
   "source": [
    "# Beating"
   ]
  },
  {
   "cell_type": "code",
   "execution_count": null,
   "metadata": {},
   "outputs": [],
   "source": [
    "%matplotlib inline"
   ]
  },
  {
   "cell_type": "code",
   "execution_count": null,
   "metadata": {},
   "outputs": [],
   "source": [
    "%run notebook_setup.py"
   ]
  },
  {
   "cell_type": "code",
   "execution_count": null,
   "metadata": {},
   "outputs": [],
   "source": [
    "import starry\n",
    "import matplotlib.pyplot as plt\n",
    "import numpy as np\n",
    "from tqdm.notebook import tqdm\n",
    "from mpl_toolkits.axes_grid1 import make_axes_locatable\n",
    "from matplotlib import colors\n",
    "import time\n",
    "from scipy.interpolate import interp1d"
   ]
  },
  {
   "cell_type": "code",
   "execution_count": null,
   "metadata": {},
   "outputs": [],
   "source": [
    "starry.config.lazy = False\n",
    "starry.config.quiet = True\n",
    "np.random.seed(0)"
   ]
  },
  {
   "cell_type": "code",
   "execution_count": null,
   "metadata": {},
   "outputs": [],
   "source": [
    "p1 = 1.0\n",
    "p2 = 20.0\n",
    "inc = 60\n",
    "t = np.linspace(0, 100, 1000)\n",
    "map = starry.Map(20)\n",
    "\n",
    "\n",
    "def plot(flux):\n",
    "    fig, ax = plt.subplots(1, 2, figsize=(12, 2.5))\n",
    "    map.show(ax=ax[0], projection=\"moll\")\n",
    "    ax[1].plot(t, flux, lw=1)\n",
    "    ax[1].set_xlabel(\"time [days]\")\n",
    "    ax[1].set_ylabel(\"flux\");"
   ]
  },
  {
   "cell_type": "code",
   "execution_count": null,
   "metadata": {},
   "outputs": [],
   "source": [
    "map.reset(inc=inc)\n",
    "map.add_spot(lat=0, lon=0, sigma=0.01, intensity=-0.1)\n",
    "flux = 0.5 * map.flux(theta=360 / p1 * t) + 0.5 * map.flux(theta=360 / p2 * t)\n",
    "plot(flux)"
   ]
  },
  {
   "cell_type": "code",
   "execution_count": null,
   "metadata": {},
   "outputs": [],
   "source": [
    "map.reset(inc=inc)\n",
    "map.add_spot(lat=0, lon=0, sigma=0.5, intensity=-0.1)\n",
    "flux = 0.5 * map.flux(theta=360 / p1 * t) + 0.5 * map.flux(theta=360 / p2 * t)\n",
    "plot(flux)"
   ]
  },
  {
   "cell_type": "code",
   "execution_count": null,
   "metadata": {},
   "outputs": [],
   "source": []
  }
 ],
 "metadata": {
  "kernelspec": {
   "display_name": "Python 3",
   "language": "python",
   "name": "python3"
  },
  "language_info": {
   "codemirror_mode": {
    "name": "ipython",
    "version": 3
   },
   "file_extension": ".py",
   "mimetype": "text/x-python",
   "name": "python",
   "nbconvert_exporter": "python",
   "pygments_lexer": "ipython3",
   "version": "3.7.4"
  }
 },
 "nbformat": 4,
 "nbformat_minor": 2
}
