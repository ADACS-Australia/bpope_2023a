{
 "cells": [
  {
   "cell_type": "markdown",
   "metadata": {},
   "source": [
    "# Evolving surfaces"
   ]
  },
  {
   "cell_type": "code",
   "execution_count": null,
   "metadata": {},
   "outputs": [],
   "source": [
    "%matplotlib inline"
   ]
  },
  {
   "cell_type": "code",
   "execution_count": null,
   "metadata": {},
   "outputs": [],
   "source": [
    "%run notebook_setup.py"
   ]
  },
  {
   "cell_type": "code",
   "execution_count": null,
   "metadata": {},
   "outputs": [],
   "source": [
    "import starry\n",
    "import matplotlib.pyplot as plt\n",
    "import numpy as np\n",
    "from tqdm.notebook import tqdm\n",
    "from mpl_toolkits.axes_grid1 import make_axes_locatable\n",
    "from matplotlib import colors\n",
    "import time\n",
    "from scipy.interpolate import interp1d\n",
    "import theano\n",
    "import theano.tensor as tt"
   ]
  },
  {
   "cell_type": "code",
   "execution_count": null,
   "metadata": {},
   "outputs": [],
   "source": [
    "starry.config.lazy = True\n",
    "starry.config.quiet = True"
   ]
  },
  {
   "cell_type": "markdown",
   "metadata": {},
   "source": [
    "## Shear or no shear?"
   ]
  },
  {
   "cell_type": "code",
   "execution_count": null,
   "metadata": {},
   "outputs": [],
   "source": [
    "map = starry.Map(35)\n",
    "map.add_spot(lat=30, lon=0, sigma=0.1, intensity=-0.1, relative=False)\n",
    "map.add_spot(lat=0, lon=90, sigma=0.01, intensity=-0.1, relative=False)\n",
    "map[20:, :] = 0\n",
    "map.alpha = 0.05\n",
    "map.tau = np.inf\n",
    "theta_lo = 360 * np.linspace(0, 15, 100)\n",
    "image_shear = np.pi * map.render(projection=\"moll\", theta=theta_lo).eval()\n",
    "theta_hi = 360 * np.linspace(0, 15, 1000)\n",
    "flux_shear = map.flux(theta=theta_hi).eval()"
   ]
  },
  {
   "cell_type": "code",
   "execution_count": null,
   "metadata": {},
   "outputs": [],
   "source": [
    "def _get_image(theta):\n",
    "    map = starry.Map(20)\n",
    "    map.add_spot(lat=0, lon=90, sigma=0.01, intensity=-0.1, relative=False)\n",
    "    map.add_spot(\n",
    "        lat=30,\n",
    "        lon=-theta * 0.05 * np.sin(np.pi / 6) ** 2,\n",
    "        sigma=0.1,\n",
    "        intensity=-0.1,\n",
    "        relative=False,\n",
    "    )\n",
    "    return map.render(projection=\"moll\")\n",
    "\n",
    "\n",
    "_theta = tt.dscalar()\n",
    "_theta.tag.test_value = 0.0\n",
    "get_image = theano.function([_theta], _get_image(_theta))\n",
    "image_noshear = np.pi * np.array([get_image(theta_i) for theta_i in theta])\n",
    "\n",
    "map = starry.Map(20)\n",
    "map.add_spot(lat=0, lon=90, sigma=0.01, intensity=-0.1, relative=False)\n",
    "flux_noshear = 0.5 * map.flux(theta=theta_hi).eval()\n",
    "map.reset()\n",
    "map.add_spot(\n",
    "    lat=30, lon=0, sigma=0.1, intensity=-0.1, relative=False,\n",
    ")\n",
    "flux_noshear += (\n",
    "    0.5 * map.flux(theta=theta_hi * (1 - 0.05 * np.sin(np.pi / 6) ** 2)).eval()\n",
    ")"
   ]
  },
  {
   "cell_type": "code",
   "execution_count": null,
   "metadata": {},
   "outputs": [],
   "source": [
    "plt.plot(theta_hi / 360.0, flux_noshear / np.mean(flux_noshear), label=\"no shear\")\n",
    "plt.plot(theta_hi / 360.0, flux_shear / np.mean(flux_shear), label=\"shear\")\n",
    "plt.legend()\n",
    "plt.xlabel(\"time [rotations]\")\n",
    "plt.ylabel(\"flux\");"
   ]
  },
  {
   "cell_type": "code",
   "execution_count": null,
   "metadata": {},
   "outputs": [],
   "source": [
    "map.show(image=image_noshear, projection=\"moll\")"
   ]
  },
  {
   "cell_type": "code",
   "execution_count": null,
   "metadata": {},
   "outputs": [],
   "source": [
    "map.show(image=image_shear, projection=\"moll\")"
   ]
  }
 ],
 "metadata": {
  "kernelspec": {
   "display_name": "Python 3",
   "language": "python",
   "name": "python3"
  },
  "language_info": {
   "codemirror_mode": {
    "name": "ipython",
    "version": 3
   },
   "file_extension": ".py",
   "mimetype": "text/x-python",
   "name": "python",
   "nbconvert_exporter": "python",
   "pygments_lexer": "ipython3",
   "version": "3.7.4"
  }
 },
 "nbformat": 4,
 "nbformat_minor": 2
}
