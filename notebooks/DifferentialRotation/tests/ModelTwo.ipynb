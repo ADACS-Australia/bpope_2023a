{
 "cells": [
  {
   "cell_type": "markdown",
   "metadata": {},
   "source": [
    "# Evolving surfaces"
   ]
  },
  {
   "cell_type": "code",
   "execution_count": null,
   "metadata": {},
   "outputs": [],
   "source": [
    "%matplotlib inline"
   ]
  },
  {
   "cell_type": "code",
   "execution_count": null,
   "metadata": {},
   "outputs": [],
   "source": [
    "%run notebook_setup.py"
   ]
  },
  {
   "cell_type": "code",
   "execution_count": null,
   "metadata": {},
   "outputs": [],
   "source": [
    "import starry\n",
    "import matplotlib.pyplot as plt\n",
    "import numpy as np\n",
    "from tqdm.notebook import tqdm\n",
    "from mpl_toolkits.axes_grid1 import make_axes_locatable\n",
    "from matplotlib import colors\n",
    "import time\n",
    "from scipy.interpolate import interp1d\n",
    "import theano\n",
    "import theano.tensor as tt\n",
    "import theano.sparse as ts\n",
    "import pymc3 as pm\n",
    "import pymc3.distributions.transforms as tr\n",
    "import exoplanet as exo\n",
    "from scipy.sparse import csr_matrix, csc_matrix"
   ]
  },
  {
   "cell_type": "code",
   "execution_count": null,
   "metadata": {},
   "outputs": [],
   "source": [
    "starry.config.lazy = False\n",
    "starry.config.quiet = True\n",
    "np.random.seed(0)"
   ]
  },
  {
   "cell_type": "markdown",
   "metadata": {},
   "source": [
    "## Generate"
   ]
  },
  {
   "cell_type": "markdown",
   "metadata": {},
   "source": [
    "Containers:"
   ]
  },
  {
   "cell_type": "code",
   "execution_count": null,
   "metadata": {},
   "outputs": [],
   "source": [
    "class Truth(object):\n",
    "    pass\n",
    "\n",
    "\n",
    "truth = Truth()"
   ]
  },
  {
   "cell_type": "code",
   "execution_count": null,
   "metadata": {},
   "outputs": [],
   "source": [
    "class Data(object):\n",
    "    pass\n",
    "\n",
    "\n",
    "data = Data()"
   ]
  },
  {
   "cell_type": "markdown",
   "metadata": {},
   "source": [
    "Parameters:"
   ]
  },
  {
   "cell_type": "code",
   "execution_count": null,
   "metadata": {},
   "outputs": [],
   "source": [
    "truth.ydeg = 20\n",
    "truth.inc = 85.0\n",
    "truth.prot = 1.129337\n",
    "truth.alpha = 0.1\n",
    "\n",
    "truth.nspots = 30\n",
    "truth.tau_mu = 20 * truth.prot\n",
    "truth.tau_sig = 1.0\n",
    "\n",
    "data.tmax = 100\n",
    "data.tpad = 50.0\n",
    "data.npts = 1001\n",
    "data.t = np.sort(\n",
    "    np.linspace(0, data.tmax, data.npts)\n",
    "    + (1e-3 * data.tmax / data.npts) * np.random.randn(data.npts)\n",
    ")\n",
    "data.ferr = 1e-4"
   ]
  },
  {
   "cell_type": "markdown",
   "metadata": {},
   "source": [
    "Generate the spot expansions:"
   ]
  },
  {
   "cell_type": "code",
   "execution_count": null,
   "metadata": {},
   "outputs": [],
   "source": [
    "map = starry.Map(truth.ydeg)\n",
    "\n",
    "# Spot latitude distribution: isotropic\n",
    "lat = lambda: (np.arccos(2 * np.random.random() - 1) - 0.5 * np.pi) * 180 / np.pi\n",
    "\n",
    "# Spot longitude distribution: isotropic\n",
    "lon = lambda: 360.0 * np.random.random()\n",
    "\n",
    "# Spot size distribution\n",
    "sigma = lambda: max(0.01, np.exp(-3.5 + 0.4 * np.random.randn()))\n",
    "\n",
    "# Spot intensity distribution\n",
    "intensity = lambda: -min(0.5, np.exp(-3 + 0.5 * np.random.randn()))\n",
    "\n",
    "# Generate the Ylm coeffs for each spot\n",
    "truth.y = np.empty((truth.nspots, (truth.ydeg + 1) ** 2))\n",
    "truth.lats = np.zeros(truth.nspots)\n",
    "for n in tqdm(range(truth.nspots)):\n",
    "    map.reset()\n",
    "    truth.lats[n] = lat()\n",
    "    map.add_spot(lat=truth.lats[n], lon=lon(), sigma=sigma(), intensity=intensity())\n",
    "    truth.y[n] = map.amp * map.y\n",
    "truth.y[:, 0] = 0"
   ]
  },
  {
   "cell_type": "markdown",
   "metadata": {},
   "source": [
    "Compute the empirical mean and covariance of this distribution:"
   ]
  },
  {
   "cell_type": "code",
   "execution_count": null,
   "metadata": {},
   "outputs": [],
   "source": [
    "N = 99999\n",
    "y = np.empty((N, (truth.ydeg + 1) ** 2 - 1))\n",
    "for n in tqdm(range(N)):\n",
    "    map.reset()\n",
    "    map.add_spot(lat=lat(), lon=lon(), sigma=sigma(), intensity=intensity())\n",
    "    y[n] = map.amp * map.y[1:]\n",
    "\n",
    "truth.ymu = np.mean(y, axis=0)\n",
    "truth.ycov = np.cov(y.T)\n",
    "truth.ycov[np.diag_indices_from(truth.ycov)] += 1e-12"
   ]
  },
  {
   "cell_type": "markdown",
   "metadata": {},
   "source": [
    "Draw and visualize a sample:"
   ]
  },
  {
   "cell_type": "code",
   "execution_count": null,
   "metadata": {},
   "outputs": [],
   "source": [
    "map.reset()\n",
    "map[1:, :] = np.random.multivariate_normal(truth.ymu, truth.ycov)\n",
    "map.show(projection=\"moll\", colorbar=True)"
   ]
  },
  {
   "cell_type": "markdown",
   "metadata": {},
   "source": [
    "Here are our actual spots:"
   ]
  },
  {
   "cell_type": "code",
   "execution_count": null,
   "metadata": {},
   "outputs": [],
   "source": [
    "nx = 1 + int(np.ceil(np.sqrt(truth.nspots)))\n",
    "ny = 1\n",
    "while ny * nx < truth.nspots:\n",
    "    ny += 1\n",
    "fig, ax = plt.subplots(ny, nx, figsize=(12, 5))\n",
    "ax = ax.flatten()\n",
    "for axis in ax:\n",
    "    axis.axis(\"off\")\n",
    "for k in tqdm(range(truth.nspots)):\n",
    "    map.reset()\n",
    "    map[1:, :] = truth.y[k, 1:]\n",
    "    img = np.pi * map.render(projection=\"moll\", res=100)\n",
    "    ax[k].imshow(\n",
    "        img,\n",
    "        origin=\"lower\",\n",
    "        extent=(-1, 1, -0.5, 0.5),\n",
    "        cmap=\"Greys_r\",\n",
    "        vmin=0.9,\n",
    "        vmax=1,\n",
    "    )\n",
    "    x_el = np.linspace(-1, 1, 1000)\n",
    "    y_el = 0.5 * np.sqrt(1 - x_el ** 2)\n",
    "    ax[k].plot(x_el, y_el, \"k-\", lw=1, clip_on=False)\n",
    "    ax[k].plot(x_el, -y_el, \"k-\", lw=1, clip_on=False)"
   ]
  },
  {
   "cell_type": "markdown",
   "metadata": {},
   "source": [
    "Get the spot timescales:"
   ]
  },
  {
   "cell_type": "code",
   "execution_count": null,
   "metadata": {},
   "outputs": [],
   "source": [
    "truth.tau = truth.tau_mu + truth.tau_sig * np.random.randn(truth.nspots)"
   ]
  },
  {
   "cell_type": "code",
   "execution_count": null,
   "metadata": {},
   "outputs": [],
   "source": [
    "plt.hist(truth.tau)\n",
    "plt.xlabel(\"timescale [days]\");"
   ]
  },
  {
   "cell_type": "markdown",
   "metadata": {},
   "source": [
    "Get the spot emergence times:"
   ]
  },
  {
   "cell_type": "code",
   "execution_count": null,
   "metadata": {},
   "outputs": [],
   "source": [
    "truth.t0 = np.sort((data.tmax + data.tpad) * np.random.random(truth.nspots) - data.tpad)"
   ]
  },
  {
   "cell_type": "code",
   "execution_count": null,
   "metadata": {},
   "outputs": [],
   "source": [
    "plt.hist(truth.t0)\n",
    "plt.xlabel(\"emergence time [days]\");"
   ]
  },
  {
   "cell_type": "markdown",
   "metadata": {},
   "source": [
    "Get the spot amplitudes as a function of time:"
   ]
  },
  {
   "cell_type": "code",
   "execution_count": null,
   "metadata": {},
   "outputs": [],
   "source": [
    "truth.a = np.exp(\n",
    "    -((data.t.reshape(1, -1) - truth.t0.reshape(-1, 1)) ** 2)\n",
    "    / (2 * truth.tau.reshape(-1, 1) ** 2)\n",
    ")"
   ]
  },
  {
   "cell_type": "code",
   "execution_count": null,
   "metadata": {},
   "outputs": [],
   "source": [
    "plt.imshow(\n",
    "    truth.a, aspect=\"auto\", extent=(0, data.tmax, truth.nspots, 0), vmin=0, vmax=1\n",
    ")\n",
    "plt.colorbar(label=\"amplitude\")\n",
    "plt.plot(truth.t0, 0.5 + np.arange(truth.nspots), \"w|\", ms=7.5)\n",
    "plt.xlim(0, data.tmax)\n",
    "plt.xlabel(\"time [days]\")\n",
    "plt.ylabel(\"spot number\");"
   ]
  },
  {
   "cell_type": "markdown",
   "metadata": {},
   "source": [
    "Visualize the star:"
   ]
  },
  {
   "cell_type": "code",
   "execution_count": null,
   "metadata": {},
   "outputs": [],
   "source": [
    "def get_movie(\n",
    "    t=data.t,\n",
    "    y=truth.y,\n",
    "    lats=truth.lats,\n",
    "    prot=truth.prot,\n",
    "    alpha=truth.alpha,\n",
    "    a=truth.a,\n",
    "    downsamp=10,\n",
    "    res=300,\n",
    "):\n",
    "\n",
    "    # Instantiate a map of the right degree\n",
    "    map = starry.Map(ydeg=np.sqrt(y.shape[1]) - 1)\n",
    "\n",
    "    # Theano function for rendering one spot\n",
    "    def _render(y, theta, res):\n",
    "        \"\"\"Render the map on a Mollweide grid.\"\"\"\n",
    "        # Compute the Cartesian grid\n",
    "        xyz = map.ops.compute_moll_grid(res)[-1]\n",
    "\n",
    "        # Compute the polynomial basis\n",
    "        pT = map.ops.pT(xyz[0], xyz[1], xyz[2])\n",
    "\n",
    "        # Rotate the map\n",
    "        Ry = map.ops.left_project(\n",
    "            tt.transpose(tt.tile(y, [theta.shape[0], 1])),\n",
    "            np.array(0.5 * np.pi),\n",
    "            np.array(0.0),\n",
    "            theta,\n",
    "            np.array(0.0),\n",
    "            np.array(np.inf),\n",
    "            np.array(0.0),\n",
    "        )\n",
    "\n",
    "        # Change basis to polynomials\n",
    "        A1Ry = ts.dot(map.ops.A1, Ry)\n",
    "\n",
    "        # Dot the polynomial into the basis\n",
    "        res = tt.reshape(tt.dot(pT, A1Ry), [res, res, -1])\n",
    "\n",
    "        # We need the shape to be (nframes, npix, npix)\n",
    "        return res.dimshuffle(2, 0, 1)\n",
    "\n",
    "    # Compile the theano function\n",
    "    with theano.configparser.change_flags(compute_test_value=\"off\"):\n",
    "        _y = tt.dvector()\n",
    "        _theta = tt.dvector()\n",
    "        _res = tt.iscalar()\n",
    "        render_spot = theano.function([_y, _theta, _res], _render(_y, _theta, _res))\n",
    "\n",
    "    # Sum the contribution from each spot in the co-rotating frame\n",
    "    nim = len(t[::downsamp])\n",
    "    img = np.ones((nim, res, res))\n",
    "    theta_eq = 2 * np.pi / prot * t\n",
    "    theta = theta_eq.reshape(1, -1) * (\n",
    "        1 - alpha * np.sin(np.pi / 180 * lats.reshape(-1, 1)) ** 2\n",
    "    )\n",
    "    theta_diff = theta - theta_eq.reshape(1, -1)\n",
    "    for k in tqdm(range(len(lats))):\n",
    "        imgk = np.pi * render_spot(y[k], theta_diff[k, ::downsamp], res)\n",
    "        img += a[k, ::downsamp].reshape(-1, 1, 1) * imgk\n",
    "\n",
    "    return img"
   ]
  },
  {
   "cell_type": "code",
   "execution_count": null,
   "metadata": {},
   "outputs": [],
   "source": [
    "truth.movie = get_movie()\n",
    "map.show(image=truth.movie, projection=\"moll\", colorbar=True)"
   ]
  },
  {
   "cell_type": "markdown",
   "metadata": {},
   "source": [
    "Get the light curve:"
   ]
  },
  {
   "cell_type": "code",
   "execution_count": null,
   "metadata": {},
   "outputs": [],
   "source": [
    "def get_model(\n",
    "    t=data.t,\n",
    "    y=truth.y,\n",
    "    lats=truth.lats,\n",
    "    prot=truth.prot,\n",
    "    inc=truth.inc,\n",
    "    alpha=truth.alpha,\n",
    "    a=truth.a,\n",
    "):\n",
    "\n",
    "    # Instantiate a map of the right degree\n",
    "    map = starry.Map(ydeg=np.sqrt(y.shape[1]) - 1, inc=inc)\n",
    "\n",
    "    # Angular phases of each spot\n",
    "    theta_eq = 360.0 / prot * t\n",
    "    theta = theta_eq.reshape(1, -1) * (\n",
    "        1 - alpha * np.sin(np.pi / 180 * lats.reshape(-1, 1)) ** 2\n",
    "    )\n",
    "\n",
    "    # Sum the contribution from each spot\n",
    "    model = np.ones_like(t)\n",
    "    for k in range(len(lats)):\n",
    "        model += a[k] * map.design_matrix(theta=theta[k]).dot(y[k])\n",
    "\n",
    "    return model"
   ]
  },
  {
   "cell_type": "code",
   "execution_count": null,
   "metadata": {},
   "outputs": [],
   "source": [
    "def plot_lc(t, fluxes, styles=None, nrow=5, ncol=3, figsize=(12, 10)):\n",
    "\n",
    "    fig = plt.figure(figsize=figsize)\n",
    "    ax_main = plt.subplot2grid((nrow, ncol), (0, 0), colspan=ncol, rowspan=2)\n",
    "    ax_sub = [\n",
    "        plt.subplot2grid((nrow, ncol), (2 + i, j))\n",
    "        for i in range(nrow - 2)\n",
    "        for j in range(ncol)\n",
    "    ]\n",
    "    nsub = len(ax_sub)\n",
    "    npts = len(t)\n",
    "\n",
    "    if styles is None:\n",
    "        styles = [dict() for flux in fluxes]\n",
    "    for flux, style in zip(fluxes, styles):\n",
    "        ax_main.plot(t, flux, **style)\n",
    "\n",
    "        for k, ax in enumerate(ax_sub):\n",
    "\n",
    "            a = int(k * npts / nsub)\n",
    "            b = int((k + 1) * npts / nsub)\n",
    "            ax.plot(t[a:b], flux[a:b], **style)\n",
    "\n",
    "    ax_main.legend(fontsize=8, loc=\"lower left\")\n",
    "\n",
    "    for label in ax_main.get_yticklabels() + ax_main.get_xticklabels():\n",
    "        label.set_fontsize(10)\n",
    "    for ax in ax_sub:\n",
    "        for label in ax.get_yticklabels() + ax.get_xticklabels():\n",
    "            label.set_fontsize(8)\n",
    "    ax_main.set_ylabel(\"flux\")\n",
    "    for ax in ax_sub[-ncol:]:\n",
    "        ax.set_xlabel(\"time [days]\", fontsize=12)\n",
    "    for ax in ax_sub[::ncol]:\n",
    "        ax.set_ylabel(\"flux\", fontsize=12)"
   ]
  },
  {
   "cell_type": "code",
   "execution_count": null,
   "metadata": {},
   "outputs": [],
   "source": [
    "truth.flux0 = get_model(alpha=0)\n",
    "truth.flux = get_model(alpha=truth.alpha)"
   ]
  },
  {
   "cell_type": "code",
   "execution_count": null,
   "metadata": {},
   "outputs": [],
   "source": [
    "plot_lc(\n",
    "    data.t,\n",
    "    [truth.flux0, truth.flux],\n",
    "    styles=[\n",
    "        dict(color=\"C1\", lw=1, alpha=0.5, label=\"solid\"),\n",
    "        dict(color=\"C0\", lw=2, label=\"diff rot\"),\n",
    "    ],\n",
    ")"
   ]
  },
  {
   "cell_type": "markdown",
   "metadata": {},
   "source": [
    "Generate the dataset:"
   ]
  },
  {
   "cell_type": "code",
   "execution_count": null,
   "metadata": {},
   "outputs": [],
   "source": [
    "data.flux = truth.flux + data.ferr * np.random.randn(len(truth.flux))"
   ]
  },
  {
   "cell_type": "code",
   "execution_count": null,
   "metadata": {},
   "outputs": [],
   "source": [
    "plot_lc(\n",
    "    data.t,\n",
    "    [truth.flux, data.flux],\n",
    "    styles=[\n",
    "        dict(color=\"C0\", lw=1, alpha=0.5, label=\"true\"),\n",
    "        dict(color=\"k\", ls=\"None\", marker=\".\", ms=2, label=\"observed\"),\n",
    "    ],\n",
    ")"
   ]
  },
  {
   "cell_type": "markdown",
   "metadata": {},
   "source": [
    "## Inference"
   ]
  },
  {
   "cell_type": "code",
   "execution_count": null,
   "metadata": {},
   "outputs": [],
   "source": [
    "ydeg = 10\n",
    "N = (ydeg + 1) ** 2\n",
    "nnodes = 60\n",
    "\n",
    "# The dataset\n",
    "t = data.t\n",
    "flux = data.flux\n",
    "ferr = data.ferr\n",
    "npts = data.npts\n",
    "\n",
    "# Our priors\n",
    "ymu = truth.ymu[: N - 1]\n",
    "ycov = truth.ycov[: N - 1, : N - 1]\n",
    "\n",
    "# Things we'll assume we know\n",
    "inc = truth.inc\n",
    "prot = truth.prot"
   ]
  },
  {
   "cell_type": "code",
   "execution_count": null,
   "metadata": {},
   "outputs": [],
   "source": [
    "# Pre-compute the starry design matrix\n",
    "map = starry.Map(ydeg, inc=inc)\n",
    "theta_x = 360.0 / prot * t\n",
    "X = map.design_matrix(theta=theta_x)[:, 1:]"
   ]
  },
  {
   "cell_type": "code",
   "execution_count": null,
   "metadata": {},
   "outputs": [],
   "source": [
    "# Pre-compute the interpolation matrix (linear)\n",
    "tnodes = np.linspace(t[0], t[-1], nnodes)\n",
    "dt = tnodes[1] - tnodes[0]\n",
    "diags = np.zeros((nnodes, npts))\n",
    "for k in range(nnodes):\n",
    "    w = 1 - np.abs(tnodes[k] - t) / dt\n",
    "    w[w < 0] = 0\n",
    "    diags[k] = w\n",
    "I = np.hstack([np.diag(diag) for diag in diags])\n",
    "\n",
    "# Visualize\n",
    "I = np.hstack([np.diag(diag) for diag in diags])\n",
    "plt.figure()\n",
    "for diag in diags:\n",
    "    plt.plot(diag)\n",
    "plt.figure()\n",
    "f = np.array(I)\n",
    "f[f == 0] = np.nan\n",
    "f[~np.isnan(f)] = 1.0\n",
    "plt.imshow(f, aspect=\"auto\");"
   ]
  },
  {
   "cell_type": "code",
   "execution_count": null,
   "metadata": {},
   "outputs": [],
   "source": [
    "# Pre-compute the interpolation matrix (cubic)\n",
    "if False:\n",
    "\n",
    "    tnodes = np.linspace(t[0], t[-1], nnodes)\n",
    "    dt = tnodes[1] - tnodes[0]\n",
    "    diags = np.zeros((nnodes, npts))\n",
    "\n",
    "    # Catmull–Rom spline\n",
    "    M = np.array(\n",
    "        [[0, 1, 0, 0], [-0.5, 0, 0.5, 0], [1, -2.5, 2, -0.5], [-0.5, 1.5, -1.5, 0.5]]\n",
    "    )\n",
    "\n",
    "    for k in range(1, nnodes - 2):\n",
    "        u = (t - tnodes[k]) / dt\n",
    "        idx = (u >= 0) & (u < 1)\n",
    "        u = u[idx]\n",
    "        U = np.vander(u, N=4, increasing=True)\n",
    "        A = U.dot(M)\n",
    "        diags[k - 1 : k + 3, idx] += A.T\n",
    "\n",
    "    # Linear interpolation at endpoints\n",
    "    for k in [0, -1]:\n",
    "        w = 1 - np.abs(tnodes[k] - t) / dt\n",
    "        w[w < 0] = 0\n",
    "        diags[k] = w\n",
    "    w = 1 - (tnodes[1] - t) / dt\n",
    "    w[w < 0] = 0\n",
    "    w[w > 1] = 0\n",
    "    diags[1] += w\n",
    "    w = 1 + (tnodes[-2] - t) / dt\n",
    "    w[w > 1] = 0\n",
    "    diags[-2] += w\n",
    "\n",
    "    # Visualize\n",
    "    I3 = np.hstack([np.diag(diag) for diag in diags])\n",
    "    plt.figure()\n",
    "    for diag in diags:\n",
    "        plt.plot(diag)\n",
    "    plt.figure()\n",
    "    f = np.array(I3)\n",
    "    f[f == 0] = np.nan\n",
    "    f[~np.isnan(f)] = 1.0\n",
    "    plt.imshow(f, aspect=\"auto\");"
   ]
  },
  {
   "cell_type": "code",
   "execution_count": null,
   "metadata": {},
   "outputs": [],
   "source": [
    "# The full design matrix\n",
    "from scipy.linalg import block_diag\n",
    "\n",
    "XL = block_diag(*[X for n in range(nnodes)])\n",
    "A = I.dot(XL)"
   ]
  },
  {
   "cell_type": "code",
   "execution_count": null,
   "metadata": {},
   "outputs": [],
   "source": [
    "f = np.array(A)\n",
    "f[f == 0] = np.nan\n",
    "plt.imshow(f, aspect=\"auto\")\n",
    "plt.colorbar();"
   ]
  },
  {
   "cell_type": "code",
   "execution_count": null,
   "metadata": {},
   "outputs": [],
   "source": [
    "L1 = np.array(ycov)\n",
    "plt.imshow(L1)\n",
    "plt.colorbar();"
   ]
  },
  {
   "cell_type": "code",
   "execution_count": null,
   "metadata": {},
   "outputs": [],
   "source": [
    "amp = 1\n",
    "tau = 2.5\n",
    "k = np.arange(nnodes).reshape(1, -1) - np.arange(nnodes).reshape(-1, 1)\n",
    "L2 = amp * np.exp(-0.5 * (k * dt / tau) ** 2)\n",
    "plt.imshow(L2)\n",
    "plt.colorbar();"
   ]
  },
  {
   "cell_type": "code",
   "execution_count": null,
   "metadata": {},
   "outputs": [],
   "source": [
    "L = np.kron(L2, L1)\n",
    "L += 1e-12 * np.eye(L.shape[0])"
   ]
  },
  {
   "cell_type": "code",
   "execution_count": null,
   "metadata": {},
   "outputs": [],
   "source": [
    "fig = plt.figure(figsize=(12, 12))\n",
    "\n",
    "f = np.array(L)\n",
    "vmax = np.max(np.abs(f))\n",
    "f /= vmax\n",
    "f[np.abs(f) < 1e-5] = 0\n",
    "\n",
    "imm = plt.imshow(np.log10(-f), cmap=\"Blues\", vmin=-5, vmax=0)\n",
    "cbm = plt.colorbar(shrink=0.65)\n",
    "cbm.set_ticks([-5, -4, -3, -2, -1, 0])\n",
    "cbm.set_ticklabels([r\"$-10^{%d}$\" % n for n in cbm.get_ticks()])\n",
    "imp = plt.imshow(np.log10(f), cmap=\"Reds\", vmin=-5, vmax=0)\n",
    "cbp = plt.colorbar(shrink=0.65)\n",
    "cbp.set_ticks([-5, -4, -3, -2, -1, 0])\n",
    "cbp.set_ticklabels([r\"$10^{%d}$\" % n for n in cbm.get_ticks()])"
   ]
  },
  {
   "cell_type": "code",
   "execution_count": null,
   "metadata": {},
   "outputs": [],
   "source": [
    "mu = np.concatenate([ymu for n in range(nnodes)])\n",
    "y_guess, y_guess_cov = starry.linalg.solve(A, flux - 1.0, C=ferr ** 2, mu=mu, L=L)"
   ]
  },
  {
   "cell_type": "code",
   "execution_count": null,
   "metadata": {},
   "outputs": [],
   "source": [
    "model_guess = 1 + A.dot(y_guess)\n",
    "model_sig = np.diag(A.dot(y_guess_cov).dot(A.T))"
   ]
  },
  {
   "cell_type": "code",
   "execution_count": null,
   "metadata": {},
   "outputs": [],
   "source": [
    "plot_lc(\n",
    "    t,\n",
    "    [flux, model_guess],\n",
    "    styles=[\n",
    "        dict(color=\"k\", ls=\"None\", marker=\".\", ms=2, label=\"observed\"),\n",
    "        dict(color=\"C0\", lw=1, alpha=0.5, label=\"MAP\"),\n",
    "    ],\n",
    "    nrow=6,\n",
    "    ncol=3,\n",
    "    figsize=(12, 12),\n",
    ")"
   ]
  },
  {
   "cell_type": "code",
   "execution_count": null,
   "metadata": {},
   "outputs": [],
   "source": [
    "def get_y(y, time):\n",
    "    Y = y.reshape(nnodes, N - 1)\n",
    "    if time < tnodes[0]:\n",
    "        return Y[0]\n",
    "    elif time >= tnodes[-1]:\n",
    "        return Y[-1]\n",
    "    k = np.argmin(time >= tnodes) - 1\n",
    "    return ((time - tnodes[k]) * Y[k + 1] + (tnodes[k + 1] - time) * Y[k]) / (\n",
    "        tnodes[k + 1] - tnodes[k]\n",
    "    )"
   ]
  },
  {
   "cell_type": "code",
   "execution_count": null,
   "metadata": {},
   "outputs": [],
   "source": [
    "def _get_image(_y):\n",
    "    map = starry.Map(ydeg, lazy=True)\n",
    "    map[1:, :] = _y\n",
    "    return np.pi * map.render(projection=\"rect\", res=300)\n",
    "\n",
    "\n",
    "with theano.configparser.change_flags(compute_test_value=\"off\"):\n",
    "    _y = tt.dvector()\n",
    "    get_image = theano.function([_y], _get_image(_y))\n",
    "\n",
    "\n",
    "downsamp = 2\n",
    "nim = len(t[::downsamp])\n",
    "img = np.zeros((nim, 300, 300))\n",
    "for k in tqdm(range(nim)):\n",
    "    img[k] = get_image(get_y(y_guess, t[::downsamp][k]))"
   ]
  },
  {
   "cell_type": "code",
   "execution_count": null,
   "metadata": {},
   "outputs": [],
   "source": [
    "map.show(image=img, projection=\"rect\", colorbar=True, interval=15)"
   ]
  },
  {
   "cell_type": "code",
   "execution_count": null,
   "metadata": {},
   "outputs": [],
   "source": [
    "lat, lon = map.get_latlon_grid(300, projection=\"rect\")"
   ]
  },
  {
   "cell_type": "code",
   "execution_count": null,
   "metadata": {},
   "outputs": [],
   "source": [
    "lag = 30\n",
    "\n",
    "Z = np.zeros((nim, 300)) * np.nan\n",
    "for k in range(300):\n",
    "\n",
    "    if np.abs(lat[k][0]) > 80:\n",
    "        Z[:, k] = np.nan\n",
    "        continue\n",
    "\n",
    "    f = img[:, k, :]\n",
    "    idx = ~np.isnan(f[0])\n",
    "    for j in range(lag, nim):\n",
    "        f0 = f[j - lag][idx]\n",
    "        fj = f[j][idx]\n",
    "        if len(fj):\n",
    "            corr = correlate(np.tile(f0, 2), fj, mode=\"valid\")\n",
    "            cc = len(corr) - 1 - np.argmax(corr)\n",
    "            if cc > len(corr) // 2:\n",
    "                cc -= len(corr) - 1\n",
    "            Z[j, k] = cc * np.nanmean(np.diff(lon[k]))"
   ]
  },
  {
   "cell_type": "code",
   "execution_count": null,
   "metadata": {},
   "outputs": [],
   "source": [
    "fig, ax = plt.subplots(3, figsize=(10, 12), sharex=True)\n",
    "\n",
    "vmax = max(-np.nanmin(Z), np.nanmax(Z))\n",
    "vmin = -vmax\n",
    "im = ax[0].imshow(\n",
    "    Z, aspect=\"auto\", extent=(-90, 90, data.tmax, 0), vmin=vmin, vmax=vmax, cmap=\"RdBu\",\n",
    ")\n",
    "plt.colorbar(im, ax=ax[0])\n",
    "\n",
    "mean = np.nanmean(Z, axis=0)\n",
    "med = np.nanmedian(Z, axis=0)\n",
    "std = np.nanstd(Z, axis=0)\n",
    "ax[1].plot(lat[:, 0], mean)\n",
    "ax[1].plot(lat[:, 0], med)\n",
    "ax[1].set_xlim(-90, 90)\n",
    "cb_ = plt.colorbar(im, ax=ax[1])\n",
    "cb_.ax.set_visible(False)\n",
    "\n",
    "delt = t[lag] - t[0]\n",
    "signal = -truth.alpha * 360.0 / truth.prot * delt * np.sin(lat[:, 0] * np.pi / 180) ** 2\n",
    "ax[2].plot(lat[:, 0], signal)\n",
    "ax[2].set_xlim(-90, 90)\n",
    "cb_ = plt.colorbar(im, ax=ax[2])\n",
    "cb_.ax.set_visible(False)"
   ]
  },
  {
   "cell_type": "markdown",
   "metadata": {},
   "source": [
    "Baseline:"
   ]
  },
  {
   "cell_type": "code",
   "execution_count": null,
   "metadata": {},
   "outputs": [],
   "source": [
    "map.load(\"earth\")\n",
    "map.alpha = 1\n",
    "img = map.render(projection=\"rect\", theta=np.linspace(0, 360.0, nim))\n",
    "map.alpha = 0.0"
   ]
  },
  {
   "cell_type": "code",
   "execution_count": null,
   "metadata": {},
   "outputs": [],
   "source": [
    "map.show(image=img, projection=\"rect\", colorbar=True, interval=15)"
   ]
  },
  {
   "cell_type": "code",
   "execution_count": null,
   "metadata": {},
   "outputs": [],
   "source": [
    "lat, lon = map.get_latlon_grid(300, projection=\"rect\")"
   ]
  },
  {
   "cell_type": "code",
   "execution_count": null,
   "metadata": {},
   "outputs": [],
   "source": [
    "lag = 30\n",
    "\n",
    "Z = np.zeros((nim, 300)) * np.nan\n",
    "for k in range(300):\n",
    "\n",
    "    if np.abs(lat[k][0]) > 80:\n",
    "        Z[:, k] = np.nan\n",
    "        continue\n",
    "\n",
    "    f = img[:, k, :]\n",
    "    idx = ~np.isnan(f[0])\n",
    "    for j in range(lag, nim):\n",
    "        f0 = f[j - lag][idx]\n",
    "        fj = f[j][idx]\n",
    "        if len(fj):\n",
    "            corr = correlate(np.tile(f0, 2), fj, mode=\"valid\")\n",
    "            cc = len(corr) - 1 - np.argmax(corr)\n",
    "            if cc > len(corr) // 2:\n",
    "                cc -= len(corr) - 1\n",
    "            Z[j, k] = cc * np.nanmean(np.diff(lon[k]))"
   ]
  },
  {
   "cell_type": "code",
   "execution_count": null,
   "metadata": {},
   "outputs": [],
   "source": [
    "fig, ax = plt.subplots(3, figsize=(10, 12), sharex=True)\n",
    "\n",
    "vmax = max(-np.nanmin(Z), np.nanmax(Z))\n",
    "vmin = -vmax\n",
    "im = ax[0].imshow(\n",
    "    Z, aspect=\"auto\", extent=(-90, 90, data.tmax, 0), vmin=vmin, vmax=vmax, cmap=\"RdBu\",\n",
    ")\n",
    "plt.colorbar(im, ax=ax[0])\n",
    "\n",
    "mean = np.nanmean(Z, axis=0)\n",
    "med = np.nanmedian(Z, axis=0)\n",
    "std = np.nanstd(Z, axis=0)\n",
    "ax[1].plot(lat[:, 0], mean)\n",
    "ax[1].plot(lat[:, 0], med)\n",
    "ax[1].set_xlim(-90, 90)\n",
    "cb_ = plt.colorbar(im, ax=ax[1])\n",
    "cb_.ax.set_visible(False)\n",
    "\n",
    "signal = -360.0 / nim * lag * np.sin(lat[:, 0] * np.pi / 180) ** 2\n",
    "ax[2].plot(lat[:, 0], signal)\n",
    "ax[2].set_xlim(-90, 90)\n",
    "cb_ = plt.colorbar(im, ax=ax[2])\n",
    "cb_.ax.set_visible(False)"
   ]
  },
  {
   "cell_type": "markdown",
   "metadata": {},
   "source": [
    "Sampling"
   ]
  },
  {
   "cell_type": "code",
   "execution_count": null,
   "metadata": {},
   "outputs": [],
   "source": [
    "breakpoint()"
   ]
  },
  {
   "cell_type": "code",
   "execution_count": null,
   "metadata": {},
   "outputs": [],
   "source": [
    "with pm.Model() as model:\n",
    "\n",
    "    m = tt.ones(npts)\n",
    "    y = tt.zeros((nnodes, N))\n",
    "    for k in range(nnodes):\n",
    "        y = tt.set_subtensor(\n",
    "            y[k],\n",
    "            pm.MvNormal(\n",
    "                \"y{}\".format(k),\n",
    "                ymu,\n",
    "                ycov,\n",
    "                shape=(N,),\n",
    "                testval=y_guess.reshape(nnodes, -1)[k],\n",
    "            ),\n",
    "        )\n",
    "\n",
    "    m = 1.0 + tt.dot(A, tt.flatten(y))\n",
    "    pm.Deterministic(\"m\", m)\n",
    "    m_guess = exo.eval_in_model(m)\n",
    "\n",
    "    # Likelihood\n",
    "    pm.Normal(\"obs\", mu=m, sd=ferr, observed=flux)"
   ]
  },
  {
   "cell_type": "code",
   "execution_count": null,
   "metadata": {},
   "outputs": [],
   "source": [
    "with model:\n",
    "    map_soln = exo.optimize(options=dict(maxiter=399))"
   ]
  },
  {
   "cell_type": "code",
   "execution_count": null,
   "metadata": {},
   "outputs": [],
   "source": [
    "plot_lc(\n",
    "    t,\n",
    "    [flux, m_guess, map_soln[\"m\"]],\n",
    "    styles=[\n",
    "        dict(color=\"k\", ls=\"None\", marker=\".\", ms=2, label=\"observed\"),\n",
    "        dict(color=\"C1\", lw=2, alpha=0.5, label=\"guess\"),\n",
    "        dict(color=\"C0\", lw=1, alpha=1, label=\"MAP\"),\n",
    "    ],\n",
    "    nrow=6,\n",
    "    ncol=3,\n",
    "    figsize=(12, 12),\n",
    ")"
   ]
  },
  {
   "cell_type": "code",
   "execution_count": null,
   "metadata": {},
   "outputs": [],
   "source": []
  }
 ],
 "metadata": {
  "kernelspec": {
   "display_name": "Python 3",
   "language": "python",
   "name": "python3"
  },
  "language_info": {
   "codemirror_mode": {
    "name": "ipython",
    "version": 3
   },
   "file_extension": ".py",
   "mimetype": "text/x-python",
   "name": "python",
   "nbconvert_exporter": "python",
   "pygments_lexer": "ipython3",
   "version": "3.7.4"
  }
 },
 "nbformat": 4,
 "nbformat_minor": 2
}
