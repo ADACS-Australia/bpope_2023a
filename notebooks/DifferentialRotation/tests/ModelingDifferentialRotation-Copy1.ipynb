{
 "cells": [
  {
   "cell_type": "markdown",
   "metadata": {},
   "source": [
    "# Modeling differential rotation"
   ]
  },
  {
   "cell_type": "code",
   "execution_count": null,
   "metadata": {
    "tags": [
     "hide_input"
    ]
   },
   "outputs": [],
   "source": [
    "%matplotlib inline"
   ]
  },
  {
   "cell_type": "code",
   "execution_count": null,
   "metadata": {
    "tags": [
     "hide_input"
    ]
   },
   "outputs": [],
   "source": [
    "%run notebook_setup.py"
   ]
  },
  {
   "cell_type": "code",
   "execution_count": null,
   "metadata": {},
   "outputs": [],
   "source": [
    "import matplotlib.pyplot as plt\n",
    "import numpy as np\n",
    "from tqdm.notebook import tqdm\n",
    "from scipy.special import factorial\n",
    "from scipy.interpolate import interp1d\n",
    "import starry\n",
    "\n",
    "starry.config.lazy = True\n",
    "starry.config.quiet = True"
   ]
  },
  {
   "cell_type": "markdown",
   "metadata": {},
   "source": [
    "## Global parameters"
   ]
  },
  {
   "cell_type": "code",
   "execution_count": null,
   "metadata": {},
   "outputs": [],
   "source": [
    "# Spherical harmonic degrees\n",
    "ydeg_true = 30\n",
    "ydeg_inf = 20\n",
    "\n",
    "# Stellar parameters\n",
    "prot = 1.0\n",
    "alpha = 0.02\n",
    "inc = 75\n",
    "\n",
    "# Light curve noise\n",
    "ferr = 1e-3\n",
    "\n",
    "# Time & rotational phase array\n",
    "time = np.linspace(-10, 10, 1000)\n",
    "theta = 360.0 / prot * time"
   ]
  },
  {
   "cell_type": "markdown",
   "metadata": {},
   "source": [
    "## Generate a surface map"
   ]
  },
  {
   "cell_type": "markdown",
   "metadata": {},
   "source": [
    "Let's generate a rectangular lat/lon grid:"
   ]
  },
  {
   "cell_type": "code",
   "execution_count": null,
   "metadata": {},
   "outputs": [],
   "source": [
    "nlat = 101\n",
    "nlon = 200\n",
    "lat_arr = np.linspace(-90, 90, nlat)\n",
    "lon_arr = np.linspace(-180, 180, nlon)\n",
    "lon_grid, lat_grid = np.meshgrid(lon_arr, lat_arr)"
   ]
  },
  {
   "cell_type": "markdown",
   "metadata": {},
   "source": [
    "and create an image of a stellar surface with several funny-looking spots:"
   ]
  },
  {
   "cell_type": "code",
   "execution_count": null,
   "metadata": {},
   "outputs": [],
   "source": [
    "I = np.ones((nlat, nlon))\n",
    "y = [10, 42.5, 10, 10, -50, -30, -10, 20, -40, 50]\n",
    "x = [0, 0, -32.5, 32.5, -90, -130, 130, 130, 130, -120]\n",
    "s = [0.1, 0.1, 0.1, 0.1, 0.15, 0.1, 0.1, 0.075, 0.075, 0.125]\n",
    "for i in range(len(y)):\n",
    "    r = np.sqrt(((lat_grid - y[i]) / 180) ** 2 + ((lon_grid - x[i]) / 180) ** 2)\n",
    "    I -= np.exp(-((r / s[i]) ** 2))\n",
    "I[I < 0] = 0\n",
    "\n",
    "plt.imshow(I, origin=\"lower\", vmax=1, extent=(-180, 180, -90, 90))\n",
    "plt.xlabel(\"longitude [deg]\")\n",
    "plt.ylabel(\"latitude [deg]\")\n",
    "plt.colorbar();"
   ]
  },
  {
   "cell_type": "markdown",
   "metadata": {},
   "source": [
    "## Add differential rotation"
   ]
  },
  {
   "cell_type": "markdown",
   "metadata": {},
   "source": [
    "It's straightforward to apply differential rotation to this map given an equatorial rotational period ``prot``, a differential rotation shear ``alpha``, and a time ``t`` since the time at which the original map is defined. Let's code up a function that returns a new version of the map after differential rotation:"
   ]
  },
  {
   "cell_type": "code",
   "execution_count": null,
   "metadata": {},
   "outputs": [],
   "source": [
    "def diff_rotate(I, lon_arr, lat_arr, prot, alpha, t):\n",
    "    Irot = np.zeros_like(I)\n",
    "    omega_eq = 360.0 / prot\n",
    "    for i, lat in enumerate(lat_arr):\n",
    "        new_lon_arr = lon_arr + omega_eq * alpha * t * np.sin(lat * np.pi / 180.0) ** 2\n",
    "        new_lon_arr = ((new_lon_arr + 180) % 360) - 180\n",
    "        func = interp1d(lon_arr, I[i])\n",
    "        Irot[i] = func(new_lon_arr)\n",
    "    return Irot"
   ]
  },
  {
   "cell_type": "code",
   "execution_count": null,
   "metadata": {},
   "outputs": [],
   "source": [
    "fig, ax = plt.subplots(3, 3, figsize=(12, 6))\n",
    "ax = ax.flatten()\n",
    "for i, t in enumerate(np.linspace(-10, 10, len(ax))):\n",
    "    Irot = diff_rotate(I, lon_arr, lat_arr, prot, alpha, t)\n",
    "    ax[i].imshow(Irot, origin=\"lower\")\n",
    "    ax[i].set(xticks=[], yticks=[])\n",
    "    ax[i].set_ylabel(r\"${:.2f}$\".format(t), fontsize=10)"
   ]
  },
  {
   "cell_type": "markdown",
   "metadata": {},
   "source": [
    "## Expand in spherical harmonics"
   ]
  },
  {
   "cell_type": "code",
   "execution_count": null,
   "metadata": {},
   "outputs": [],
   "source": [
    "map = starry.Map(ydeg_true, inc=inc)\n",
    "P = map.intensity_design_matrix(lat=lat_grid.flatten(), lon=lon_grid.flatten()).eval()\n",
    "Q = np.linalg.solve(P.T.dot(P) + 1e-8 * np.eye(P.shape[1]), P.T)"
   ]
  },
  {
   "cell_type": "code",
   "execution_count": null,
   "metadata": {},
   "outputs": [],
   "source": [
    "fig, ax = plt.subplots(3, 3, figsize=(12, 6))\n",
    "ax = ax.flatten()\n",
    "for i, t in enumerate(np.linspace(-10, 10, len(ax))):\n",
    "    Irot = diff_rotate(I, lon_arr, lat_arr, prot, alpha, t)\n",
    "    map[:, :] = Q.dot(Irot.flat)\n",
    "    map.show(ax=ax[i], projection=\"rect\", cmap=\"viridis\", grid=False)\n",
    "    ax[i].set(xticks=[], yticks=[])\n",
    "    ax[i].set_ylabel(r\"${:.2f}$\".format(t), fontsize=10)"
   ]
  },
  {
   "cell_type": "code",
   "execution_count": null,
   "metadata": {},
   "outputs": [],
   "source": [
    "y = np.empty((len(time), map.Ny))\n",
    "for i in tqdm(range(len(time))):\n",
    "    Irot = diff_rotate(I, lon_arr, lat_arr, prot, alpha, time[i])\n",
    "    y[i] = Q.dot(Irot.flat)"
   ]
  },
  {
   "cell_type": "code",
   "execution_count": null,
   "metadata": {},
   "outputs": [],
   "source": [
    "# Store the base map (at t = 0)\n",
    "y0 = Q.dot(I.flat)"
   ]
  },
  {
   "cell_type": "markdown",
   "metadata": {},
   "source": [
    "## Generate a light curve"
   ]
  },
  {
   "cell_type": "code",
   "execution_count": null,
   "metadata": {},
   "outputs": [],
   "source": [
    "A = map.design_matrix(theta=theta).eval()"
   ]
  },
  {
   "cell_type": "code",
   "execution_count": null,
   "metadata": {},
   "outputs": [],
   "source": [
    "flux0 = np.einsum(\"ij,ji->i\", A, y.T)\n",
    "flux0 /= np.nanmedian(flux0)"
   ]
  },
  {
   "cell_type": "code",
   "execution_count": null,
   "metadata": {},
   "outputs": [],
   "source": [
    "flux = flux0 + ferr * np.random.randn(len(flux0))"
   ]
  },
  {
   "cell_type": "code",
   "execution_count": null,
   "metadata": {},
   "outputs": [],
   "source": [
    "plt.plot(time, flux, \"k.\", alpha=0.5, ms=3)\n",
    "plt.plot(time, flux0, \"C0-\", lw=1, alpha=0.5)\n",
    "plt.xlabel(\"time [periods]\")\n",
    "plt.ylabel(\"flux [normalized]\");"
   ]
  },
  {
   "cell_type": "markdown",
   "metadata": {},
   "source": [
    "## Inference"
   ]
  },
  {
   "cell_type": "code",
   "execution_count": null,
   "metadata": {},
   "outputs": [],
   "source": [
    "map = starry.Map(ydeg_inf)"
   ]
  },
  {
   "cell_type": "code",
   "execution_count": null,
   "metadata": {},
   "outputs": [],
   "source": [
    "# Base map\n",
    "y0_inf = y0[: (ydeg_inf + 1) ** 2]\n",
    "map[:, :] = y0_inf\n",
    "map.show(projection=\"rect\");"
   ]
  },
  {
   "cell_type": "code",
   "execution_count": null,
   "metadata": {},
   "outputs": [],
   "source": [
    "class DifferentialOperator(object):\n",
    "    def __init__(self, ydeg, oversample=2, eps=1e-6):\n",
    "\n",
    "        # Get pixel transforms\n",
    "        self.ydeg = ydeg\n",
    "        self.order = ydeg\n",
    "        map = starry.Map(ydeg)\n",
    "        self.lat, self.lon, self.P, self.Q, _, _ = map.get_pixel_transforms(\n",
    "            oversample=oversample\n",
    "        )\n",
    "\n",
    "        # Get indices of unique latitudes\n",
    "        self.unique_lat = np.sort(list(set(self.lat)))\n",
    "        self.idx = np.array([self.lat == l for l in self.unique_lat])\n",
    "\n",
    "        # Dimensions\n",
    "        self.npix = len(self.lat)\n",
    "        self.nlat = len(self.unique_lat)\n",
    "        self.nfourier = 2 * self.order - 1\n",
    "        self.ncoeff = (self.ydeg + 1) ** 2\n",
    "\n",
    "        # Transform tensor\n",
    "        self.T = np.empty((self.nlat, self.nfourier, self.ncoeff))\n",
    "        for i, row in enumerate(self.idx):\n",
    "            X = self._get_X(self.lon[row])\n",
    "            A = np.linalg.solve(X.T.dot(X) + eps * np.eye(X.shape[1]), X.T)\n",
    "            if (i == 0) or (i == self.nlat - 1):\n",
    "                A[:, :] = 0\n",
    "                A[0, 0] = 1\n",
    "            self.T[i] = A.dot(self.P[row])\n",
    "\n",
    "        # Misc\n",
    "        self.Dp = np.empty((self.npix, self.ncoeff))\n",
    "        self.mag = np.sin(self.unique_lat * np.pi / 180.0) ** 2\n",
    "\n",
    "    def _get_X(self, theta):\n",
    "        return np.vstack(\n",
    "            (\n",
    "                np.ones((1, len(theta))),\n",
    "                np.array(\n",
    "                    [\n",
    "                        [\n",
    "                            np.sin(n * theta * np.pi / 180),\n",
    "                            np.cos(n * theta * np.pi / 180),\n",
    "                        ]\n",
    "                        for n in range(1, self.order)\n",
    "                    ]\n",
    "                ).reshape(-1, len(theta)),\n",
    "            )\n",
    "        ).T\n",
    "\n",
    "    def get_D(self, theta):\n",
    "        for i, row in enumerate(self.idx):\n",
    "            new_lon = self.lon[row] + theta * self.mag[i]\n",
    "            new_lon = ((new_lon + 180) % 360) - 180\n",
    "            X = self._get_X(new_lon)\n",
    "            self.Dp[row] = X.dot(self.T[i])\n",
    "        return self.Q.dot(self.Dp)\n",
    "\n",
    "\n",
    "DiffOp = DifferentialOperator(ydeg_inf)\n",
    "D = DiffOp.get_D(60)\n",
    "\n",
    "map.load(\"earth\")\n",
    "map[:, :] = D.dot(map.y.eval())\n",
    "map.show(projection=\"rect\")"
   ]
  },
  {
   "cell_type": "code",
   "execution_count": null,
   "metadata": {},
   "outputs": [],
   "source": [
    "plt.imshow(D)"
   ]
  },
  {
   "cell_type": "code",
   "execution_count": null,
   "metadata": {},
   "outputs": [],
   "source": []
  }
 ],
 "metadata": {
  "celltoolbar": "Raw Cell Format",
  "kernelspec": {
   "display_name": "Python 3",
   "language": "python",
   "name": "python3"
  },
  "language_info": {
   "codemirror_mode": {
    "name": "ipython",
    "version": 3
   },
   "file_extension": ".py",
   "mimetype": "text/x-python",
   "name": "python",
   "nbconvert_exporter": "python",
   "pygments_lexer": "ipython3",
   "version": "3.7.4"
  }
 },
 "nbformat": 4,
 "nbformat_minor": 2
}
