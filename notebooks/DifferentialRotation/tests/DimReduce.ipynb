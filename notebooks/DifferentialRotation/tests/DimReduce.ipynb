{
 "cells": [
  {
   "cell_type": "code",
   "execution_count": null,
   "metadata": {},
   "outputs": [],
   "source": [
    "%matplotlib inline"
   ]
  },
  {
   "cell_type": "code",
   "execution_count": null,
   "metadata": {},
   "outputs": [],
   "source": [
    "%run notebook_setup.py"
   ]
  },
  {
   "cell_type": "code",
   "execution_count": null,
   "metadata": {},
   "outputs": [],
   "source": [
    "import numpy as np\n",
    "import matplotlib.pyplot as plt\n",
    "import starry\n",
    "from scipy.linalg import svd\n",
    "from scipy.linalg import cho_factor, cho_solve"
   ]
  },
  {
   "cell_type": "code",
   "execution_count": null,
   "metadata": {},
   "outputs": [],
   "source": [
    "starry.config.lazy = False"
   ]
  },
  {
   "cell_type": "code",
   "execution_count": null,
   "metadata": {},
   "outputs": [],
   "source": [
    "map = starry.Map(10, inc=60, lazy=False)\n",
    "theta = np.linspace(0, 360, 1000, endpoint=False)\n",
    "X = map.design_matrix(theta=theta)"
   ]
  },
  {
   "cell_type": "code",
   "execution_count": null,
   "metadata": {},
   "outputs": [],
   "source": [
    "np.random.seed(0)\n",
    "y = 1e-2 * np.random.randn(map.Ny)"
   ]
  },
  {
   "cell_type": "code",
   "execution_count": null,
   "metadata": {},
   "outputs": [],
   "source": [
    "ferr = 1e-4\n",
    "flux = X.dot(y) + ferr * np.random.randn(len(theta))"
   ]
  },
  {
   "cell_type": "code",
   "execution_count": null,
   "metadata": {},
   "outputs": [],
   "source": [
    "plt.plot(theta, flux);"
   ]
  },
  {
   "cell_type": "code",
   "execution_count": null,
   "metadata": {},
   "outputs": [],
   "source": [
    "mu = np.zeros(map.Ny)\n",
    "L = 1e-4 * np.eye(map.Ny)"
   ]
  },
  {
   "cell_type": "code",
   "execution_count": null,
   "metadata": {},
   "outputs": [],
   "source": [
    "map.set_data(flux, C=ferr ** 2)\n",
    "map.set_prior(mu=mu, L=L)\n",
    "yhat, cho_ycov = map.solve(design_matrix=X)\n",
    "cho_ycov = np.tril(cho_ycov)"
   ]
  },
  {
   "cell_type": "code",
   "execution_count": null,
   "metadata": {},
   "outputs": [],
   "source": [
    "# Pre-compute\n",
    "U, s, VT = svd(X)\n",
    "M = np.linalg.matrix_rank(X)\n",
    "B = np.array(VT[:M]).T\n",
    "\n",
    "# Solve\n",
    "xhat, cho_xcov = starry.linalg.solve(\n",
    "    X.dot(B), flux, C=ferr ** 2, mu=B.T.dot(mu), L=B.T.dot(L).dot(B)\n",
    ")\n",
    "cho_xcov = np.tril(cho_xcov)\n",
    "\n",
    "# Transform the mean\n",
    "yhat2 = B.dot(xhat)\n",
    "\n",
    "# Transform the covariance (CHECK)\n",
    "xcov = cho_xcov.dot(cho_xcov.T)\n",
    "invycov = B.dot(np.linalg.inv(xcov)).dot(B.T)\n",
    "ycov = np.linalg.inv(invycov + np.linalg.inv(L))\n",
    "cho_ycov2, _ = cho_factor(ycov, lower=True)\n",
    "cho_ycov2 = np.tril(cho_ycov2)"
   ]
  },
  {
   "cell_type": "code",
   "execution_count": null,
   "metadata": {},
   "outputs": [],
   "source": [
    "plt.plot(yhat, lw=3)\n",
    "plt.plot(yhat2, lw=1);"
   ]
  },
  {
   "cell_type": "code",
   "execution_count": null,
   "metadata": {},
   "outputs": [],
   "source": [
    "np.allclose(yhat, yhat2)"
   ]
  },
  {
   "cell_type": "code",
   "execution_count": null,
   "metadata": {},
   "outputs": [],
   "source": [
    "np.allclose(cho_ycov, cho_ycov2, atol=1e-4)"
   ]
  },
  {
   "cell_type": "code",
   "execution_count": null,
   "metadata": {},
   "outputs": [],
   "source": [
    "plt.imshow(np.log10(np.abs(cho_ycov)), vmin=-15, vmax=0)\n",
    "plt.colorbar();"
   ]
  },
  {
   "cell_type": "code",
   "execution_count": null,
   "metadata": {},
   "outputs": [],
   "source": [
    "plt.imshow(np.log10(np.abs(cho_ycov2)), vmin=-15, vmax=0)\n",
    "plt.colorbar();"
   ]
  },
  {
   "cell_type": "code",
   "execution_count": null,
   "metadata": {},
   "outputs": [],
   "source": []
  }
 ],
 "metadata": {
  "kernelspec": {
   "display_name": "Python 3",
   "language": "python",
   "name": "python3"
  },
  "language_info": {
   "codemirror_mode": {
    "name": "ipython",
    "version": 3
   },
   "file_extension": ".py",
   "mimetype": "text/x-python",
   "name": "python",
   "nbconvert_exporter": "python",
   "pygments_lexer": "ipython3",
   "version": "3.7.4"
  }
 },
 "nbformat": 4,
 "nbformat_minor": 2
}
