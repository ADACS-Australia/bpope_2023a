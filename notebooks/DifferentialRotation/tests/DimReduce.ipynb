{
 "cells": [
  {
   "cell_type": "code",
   "execution_count": null,
   "metadata": {},
   "outputs": [],
   "source": [
    "%matplotlib inline"
   ]
  },
  {
   "cell_type": "code",
   "execution_count": null,
   "metadata": {},
   "outputs": [],
   "source": [
    "%run notebook_setup.py"
   ]
  },
  {
   "cell_type": "code",
   "execution_count": null,
   "metadata": {},
   "outputs": [],
   "source": [
    "import numpy as np\n",
    "import matplotlib.pyplot as plt\n",
    "import starry\n",
    "from scipy.linalg import svd\n",
    "from scipy.linalg import cho_factor, cho_solve"
   ]
  },
  {
   "cell_type": "code",
   "execution_count": null,
   "metadata": {},
   "outputs": [],
   "source": [
    "starry.config.lazy = False\n",
    "starry.config.quiet = True"
   ]
  },
  {
   "cell_type": "markdown",
   "metadata": {},
   "source": [
    "Generate the data:"
   ]
  },
  {
   "cell_type": "code",
   "execution_count": null,
   "metadata": {},
   "outputs": [],
   "source": [
    "# Instantiate a map\n",
    "map = starry.Map(10, inc=60, lazy=False)\n",
    "theta = np.linspace(0, 360, 1000, endpoint=False)\n",
    "X = map.design_matrix(theta=theta)"
   ]
  },
  {
   "cell_type": "code",
   "execution_count": null,
   "metadata": {},
   "outputs": [],
   "source": [
    "# Random coefficients\n",
    "np.random.seed(0)\n",
    "yerr = 1e-2\n",
    "y = yerr * np.random.randn(map.Ny)"
   ]
  },
  {
   "cell_type": "code",
   "execution_count": null,
   "metadata": {},
   "outputs": [],
   "source": [
    "# Generate a light curve\n",
    "ferr = 1e-4\n",
    "flux = X.dot(y) + ferr * np.random.randn(len(theta))"
   ]
  },
  {
   "cell_type": "code",
   "execution_count": null,
   "metadata": {},
   "outputs": [],
   "source": [
    "plt.plot(theta, flux)\n",
    "plt.xlabel(\"theta [deg]\")\n",
    "plt.ylabel(\"relative flux\");"
   ]
  },
  {
   "cell_type": "markdown",
   "metadata": {},
   "source": [
    "Full linear solve:"
   ]
  },
  {
   "cell_type": "code",
   "execution_count": null,
   "metadata": {},
   "outputs": [],
   "source": [
    "mu = np.zeros(map.Ny)\n",
    "L = (yerr ** 2) * np.eye(map.Ny)"
   ]
  },
  {
   "cell_type": "code",
   "execution_count": null,
   "metadata": {},
   "outputs": [],
   "source": [
    "map.set_data(flux, C=ferr ** 2)\n",
    "map.set_prior(mu=mu, L=L)\n",
    "yhat, cho_ycov = map.solve(design_matrix=X)\n",
    "cho_ycov = np.tril(cho_ycov)"
   ]
  },
  {
   "cell_type": "markdown",
   "metadata": {},
   "source": [
    "SVD linear solve:"
   ]
  },
  {
   "cell_type": "code",
   "execution_count": null,
   "metadata": {},
   "outputs": [],
   "source": [
    "# Pre-compute\n",
    "U, s, VT = svd(X)\n",
    "M = np.linalg.matrix_rank(X)\n",
    "B = np.array(VT[:M]).T\n",
    "\n",
    "# Something like this could work if we\n",
    "# figure out the correct normalization.\n",
    "\"\"\"\n",
    "t = np.linspace(0, 2 * np.pi, 1000, endpoint=False).reshape(-1, 1)\n",
    "W = np.hstack(\n",
    "    [np.ones_like(t)]\n",
    "    + [\n",
    "        np.hstack([np.cos(n * t), np.sin(n * t)]) / (2 * n + 1) ** 2\n",
    "        for n in range(1, map.ydeg + 1)\n",
    "    ]\n",
    ")\n",
    "B = np.linalg.solve(W.T.dot(W), W.T.dot(X)).T\n",
    "\"\"\"\n",
    "\n",
    "# Solve\n",
    "xhat, cho_xcov = starry.linalg.solve(\n",
    "    X.dot(B), flux, C=ferr ** 2, mu=B.T.dot(mu), L=B.T.dot(L).dot(B)\n",
    ")\n",
    "\n",
    "# Transform the mean\n",
    "yhat2 = B.dot(xhat)\n",
    "\n",
    "# Transform the covariance\n",
    "# NOTE: It's easy to get the inverse posterior covariance, but\n",
    "# we need to invert things *twice* to get the cholesky\n",
    "# factorization of the posterior covariance.\n",
    "# Depending on the use case, we might want to avoid this.\n",
    "invycov = B.dot(cho_solve((cho_xcov, True), B.T))\n",
    "invycov += np.linalg.inv(L)\n",
    "cho_invycov = cho_factor(invycov, lower=True)\n",
    "ycov = cho_solve(cho_invycov, np.eye(L.shape[0]))\n",
    "cho_ycov2, _ = cho_factor(ycov, lower=True)\n",
    "cho_ycov2 = np.tril(cho_ycov2)"
   ]
  },
  {
   "cell_type": "markdown",
   "metadata": {},
   "source": [
    "Compare:"
   ]
  },
  {
   "cell_type": "code",
   "execution_count": null,
   "metadata": {},
   "outputs": [],
   "source": [
    "plt.plot(y, \"k--\", label=\"true\")\n",
    "plt.plot(yhat, lw=3, label=\"full\")\n",
    "plt.plot(yhat2, lw=1, label=\"svd\")\n",
    "std = np.sqrt(np.diag(cho_ycov.dot(cho_ycov.T)))\n",
    "plt.fill_between(np.arange(len(yhat)), yhat - std, yhat + std, color=\"C0\", alpha=0.3)\n",
    "plt.legend(fontsize=10)\n",
    "plt.xlabel(\"coefficient index\")\n",
    "plt.ylabel(\"value\");"
   ]
  },
  {
   "cell_type": "code",
   "execution_count": null,
   "metadata": {},
   "outputs": [],
   "source": [
    "np.allclose(yhat, yhat2)"
   ]
  },
  {
   "cell_type": "code",
   "execution_count": null,
   "metadata": {},
   "outputs": [],
   "source": [
    "fig, ax = plt.subplots(1, 2, figsize=(8, 4))\n",
    "ax[0].imshow(np.log10(np.abs(cho_ycov)), vmin=-15, vmax=0)\n",
    "ax[1].imshow(np.log10(np.abs(cho_ycov2)), vmin=-15, vmax=0);"
   ]
  },
  {
   "cell_type": "code",
   "execution_count": null,
   "metadata": {},
   "outputs": [],
   "source": [
    "plt.plot(np.diag(cho_ycov.dot(cho_ycov.T)), lw=3, label=\"full\")\n",
    "plt.plot(np.diag(cho_ycov2.dot(cho_ycov2.T)), lw=1, label=\"svd\")\n",
    "plt.legend(fontsize=10)\n",
    "plt.xlabel(\"coefficient number\")\n",
    "plt.ylabel(\"uncertainty\");"
   ]
  },
  {
   "cell_type": "code",
   "execution_count": null,
   "metadata": {},
   "outputs": [],
   "source": [
    "np.allclose(cho_ycov, cho_ycov2, atol=1e-4)"
   ]
  }
 ],
 "metadata": {
  "kernelspec": {
   "display_name": "Python 3",
   "language": "python",
   "name": "python3"
  },
  "language_info": {
   "codemirror_mode": {
    "name": "ipython",
    "version": 3
   },
   "file_extension": ".py",
   "mimetype": "text/x-python",
   "name": "python",
   "nbconvert_exporter": "python",
   "pygments_lexer": "ipython3",
   "version": "3.7.4"
  }
 },
 "nbformat": 4,
 "nbformat_minor": 2
}
