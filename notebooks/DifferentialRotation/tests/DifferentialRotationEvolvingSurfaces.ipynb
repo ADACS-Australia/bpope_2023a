{
 "cells": [
  {
   "cell_type": "markdown",
   "metadata": {},
   "source": [
    "# Evolving surfaces"
   ]
  },
  {
   "cell_type": "code",
   "execution_count": null,
   "metadata": {},
   "outputs": [],
   "source": [
    "%matplotlib inline"
   ]
  },
  {
   "cell_type": "code",
   "execution_count": null,
   "metadata": {},
   "outputs": [],
   "source": [
    "%run notebook_setup.py"
   ]
  },
  {
   "cell_type": "code",
   "execution_count": null,
   "metadata": {},
   "outputs": [],
   "source": [
    "import starry\n",
    "import matplotlib.pyplot as plt\n",
    "import numpy as np\n",
    "from tqdm.notebook import tqdm\n",
    "from mpl_toolkits.axes_grid1 import make_axes_locatable\n",
    "from matplotlib import colors\n",
    "import time\n",
    "from scipy.interpolate import interp1d"
   ]
  },
  {
   "cell_type": "code",
   "execution_count": null,
   "metadata": {},
   "outputs": [],
   "source": [
    "starry.config.lazy = False\n",
    "starry.config.quiet = True\n",
    "np.random.seed(0)"
   ]
  },
  {
   "cell_type": "markdown",
   "metadata": {},
   "source": [
    "## Generate the dataset"
   ]
  },
  {
   "cell_type": "markdown",
   "metadata": {},
   "source": [
    "### Process parameters"
   ]
  },
  {
   "cell_type": "code",
   "execution_count": null,
   "metadata": {},
   "outputs": [],
   "source": [
    "# Ylm parameters\n",
    "ydeg_max = 20\n",
    "ydeg = 15\n",
    "\n",
    "# Geometry\n",
    "inc = 75.0\n",
    "\n",
    "# Light curve\n",
    "tmax = 200.0\n",
    "npts = 10000\n",
    "ferr = 1e-4\n",
    "\n",
    "# Rotation\n",
    "prot = 3.1\n",
    "alpha = 0.025\n",
    "\n",
    "# Spots\n",
    "tau_mu = 60.0\n",
    "tau_sd = 5.0\n",
    "tau = lambda: tau_mu + tau_sd * np.random.randn()  # spot duration in days\n",
    "spotfreq = 0.25  # avg number of new spots / day\n",
    "\n",
    "# Spot latitude distribution\n",
    "lat = lambda: (np.arccos(2 * np.random.random() - 1) - 0.5 * np.pi) * 180 / np.pi\n",
    "# lat = lambda: (-1 if np.random.random() < 0.5 else 1)* 30.0 + 10.0 * np.random.randn()\n",
    "# lat = lambda: 15.0 * np.random.randn()\n",
    "\n",
    "# Spot longitude distribution: isotropic\n",
    "lon = lambda: 360.0 * np.random.random()\n",
    "\n",
    "# Spot size distribution\n",
    "sigma = lambda: max(0.01, np.exp(-3.5 + 0.4 * np.random.randn()))\n",
    "\n",
    "# Spot intensity distribution\n",
    "intensity = lambda: -min(0.5, np.exp(-3 + 0.5 * np.random.randn()))\n",
    "\n",
    "# Spot amplitude as a function of time\n",
    "def amplitude(time, t0, amp=0.1, b=25, dur=0.45):\n",
    "    phase = (time - t0) / tau()\n",
    "    t1 = 0.5 * (1 - dur)\n",
    "    t2 = 0.5 * (1 + dur)\n",
    "    f1 = np.exp(b * (phase - t1)) / (np.exp(b * (phase - t1)) + 1)\n",
    "    f2 = 1 - np.exp(b * (phase - t2)) / (np.exp(b * (phase - t2)) + 1)\n",
    "    f = np.minimum(f1, f2)\n",
    "    f0 = np.exp(-t1 * b) / (np.exp(-t1 * b) + 1)\n",
    "    f -= f0\n",
    "    f[phase < 0] = 0.0\n",
    "    f[phase > 1] = 0.0\n",
    "    return f"
   ]
  },
  {
   "cell_type": "code",
   "execution_count": null,
   "metadata": {},
   "outputs": [],
   "source": [
    "# Spot size distribution\n",
    "sigma = lambda: max(0.01, np.exp(-3.5 + 0.4 * np.random.randn()))\n",
    "plt.hist([sigma() for k in range(10000)], bins=30)\n",
    "plt.xlabel(\"spot size\");"
   ]
  },
  {
   "cell_type": "code",
   "execution_count": null,
   "metadata": {},
   "outputs": [],
   "source": [
    "# Spot intensity distribution\n",
    "plt.hist([np.abs(intensity()) for k in range(10000)], bins=30)\n",
    "plt.xlabel(\"|intensity|\");"
   ]
  },
  {
   "cell_type": "code",
   "execution_count": null,
   "metadata": {},
   "outputs": [],
   "source": [
    "# Spot latitude distribution\n",
    "plt.hist([lat() for k in range(10000)], bins=30)\n",
    "plt.xlim(-90, 90)\n",
    "plt.xlabel(\"latitude\");"
   ]
  },
  {
   "cell_type": "code",
   "execution_count": null,
   "metadata": {},
   "outputs": [],
   "source": [
    "# Time array\n",
    "time = np.linspace(0, tmax, npts)"
   ]
  },
  {
   "cell_type": "code",
   "execution_count": null,
   "metadata": {},
   "outputs": [],
   "source": [
    "# Sample amplitude as a function of time\n",
    "plt.plot(time, amplitude(time, 0));"
   ]
  },
  {
   "cell_type": "code",
   "execution_count": null,
   "metadata": {},
   "outputs": [],
   "source": [
    "# Spot emergence times\n",
    "x = np.random.random(npts)\n",
    "dt = time[1] - time[0]\n",
    "t0 = np.sort((1 + tau_mu / tmax) * time[x < dt * spotfreq] - tau_mu)\n",
    "nspots = len(t0)\n",
    "print(nspots)"
   ]
  },
  {
   "cell_type": "code",
   "execution_count": null,
   "metadata": {},
   "outputs": [],
   "source": [
    "# Spot amplitudes\n",
    "amp = np.array([amplitude(time, t0[k]) for k in range(nspots)])"
   ]
  },
  {
   "cell_type": "code",
   "execution_count": null,
   "metadata": {},
   "outputs": [],
   "source": [
    "plt.figure(figsize=(12, 8))\n",
    "plt.imshow(amp, aspect=\"auto\", extent=(0, tmax, nspots, 0), vmin=0, vmax=1)\n",
    "plt.colorbar()\n",
    "plt.xlabel(\"time [days]\")\n",
    "plt.ylabel(\"spot number\");"
   ]
  },
  {
   "cell_type": "markdown",
   "metadata": {},
   "source": [
    "### Spot components"
   ]
  },
  {
   "cell_type": "code",
   "execution_count": null,
   "metadata": {},
   "outputs": [],
   "source": [
    "# Setup figure\n",
    "nx = 1 + int(np.ceil(np.sqrt(nspots)))\n",
    "ny = 1\n",
    "while ny * nx < nspots:\n",
    "    ny += 1\n",
    "fig, ax = plt.subplots(ny, nx, figsize=(12, 8))\n",
    "ax = ax.flatten()\n",
    "for axis in ax:\n",
    "    axis.axis(\"off\")\n",
    "\n",
    "# Generate maps\n",
    "map = starry.Map(ydeg_max)\n",
    "y = np.zeros((nspots, (ydeg_max + 1) ** 2))\n",
    "for k in tqdm(range(nspots)):\n",
    "    map.reset()\n",
    "    map.add_spot(\n",
    "        lat=lat(), lon=lon(), sigma=sigma(), intensity=intensity(), relative=False\n",
    "    )\n",
    "    map[ydeg + 1 :, :] = 0.0\n",
    "    y[k] = map.amp * map.y\n",
    "    img = np.pi * map.render(projection=\"moll\", res=100)\n",
    "    ax[k].imshow(\n",
    "        img, origin=\"lower\", extent=(-1, 1, -0.5, 0.5), cmap=\"Greys_r\", vmax=1,\n",
    "    )\n",
    "    x_el = np.linspace(-1, 1, 1000)\n",
    "    y_el = 0.5 * np.sqrt(1 - x_el ** 2)\n",
    "    ax[k].plot(x_el, y_el, \"k-\", lw=1, clip_on=False)\n",
    "    ax[k].plot(x_el, -y_el, \"k-\", lw=1, clip_on=False)"
   ]
  },
  {
   "cell_type": "markdown",
   "metadata": {},
   "source": [
    "### Compute the flux"
   ]
  },
  {
   "cell_type": "code",
   "execution_count": null,
   "metadata": {},
   "outputs": [],
   "source": [
    "map = starry.Map(ydeg_max)\n",
    "map.inc = inc\n",
    "\n",
    "# No diff rot\n",
    "map.alpha = 0.0\n",
    "flux_no_diff_rot = np.ones_like(time)\n",
    "for k in tqdm(range(nspots)):\n",
    "    theta = 360.0 / prot * (time - t0[k])\n",
    "    map[:, :] = y[k]\n",
    "    flux_no_diff_rot += amp[k] * (map.flux(theta=theta) - 1.0)\n",
    "\n",
    "# With diff rot\n",
    "map.alpha = alpha\n",
    "flux0 = np.ones_like(time)\n",
    "for k in tqdm(range(nspots)):\n",
    "    theta = 360.0 / prot * (time - t0[k])\n",
    "    map[:, :] = y[k]\n",
    "    flux0 += amp[k] * (map.flux(theta=theta) - 1.0)"
   ]
  },
  {
   "cell_type": "code",
   "execution_count": null,
   "metadata": {},
   "outputs": [],
   "source": [
    "plt.plot(time, flux_no_diff_rot, lw=1, color=\"C1\", alpha=0.5)\n",
    "plt.plot(time, flux0, \"C0-\");"
   ]
  },
  {
   "cell_type": "code",
   "execution_count": null,
   "metadata": {},
   "outputs": [],
   "source": [
    "np.savez(\n",
    "    \"lightcurve.npz\",\n",
    "    time=time,\n",
    "    flux0=flux0,\n",
    "    ydeg=ydeg,\n",
    "    inc=inc,\n",
    "    alpha=alpha,\n",
    "    y=y,\n",
    "    prot=prot,\n",
    "    ydeg_max=ydeg_max,\n",
    ")"
   ]
  },
  {
   "cell_type": "markdown",
   "metadata": {},
   "source": [
    "### Image"
   ]
  },
  {
   "cell_type": "code",
   "execution_count": null,
   "metadata": {},
   "outputs": [],
   "source": [
    "res = 300\n",
    "downsamp = 100\n",
    "nim = len(time[::downsamp])\n",
    "img = np.ones((nim, res, res))\n",
    "map.alpha = alpha\n",
    "for k in tqdm(range(nspots)):\n",
    "    theta = 360.0 / prot * (time - t0[k])\n",
    "    map[:, :] = y[k]\n",
    "    imgk = np.pi * map.render(projection=\"moll\", res=res, theta=theta[::downsamp]) - 1.0\n",
    "    img += amp[k, ::downsamp].reshape(-1, 1, 1) * imgk\n",
    "map.show(image=img, projection=\"moll\", colorbar=True)"
   ]
  },
  {
   "cell_type": "code",
   "execution_count": null,
   "metadata": {},
   "outputs": [],
   "source": [
    "map.alpha = 0.1\n",
    "X = map.design_matrix(theta=theta)\n",
    "plt.imshow(np.log10(np.abs(X)), aspect=\"auto\")"
   ]
  },
  {
   "cell_type": "code",
   "execution_count": null,
   "metadata": {},
   "outputs": [],
   "source": [
    "map.alpha = 0.1\n",
    "X = map.design_matrix(theta=theta - 30 * 360)\n",
    "plt.imshow(np.log10(np.abs(X)), aspect=\"auto\")"
   ]
  },
  {
   "cell_type": "code",
   "execution_count": null,
   "metadata": {},
   "outputs": [],
   "source": []
  }
 ],
 "metadata": {
  "kernelspec": {
   "display_name": "Python 3",
   "language": "python",
   "name": "python3"
  },
  "language_info": {
   "codemirror_mode": {
    "name": "ipython",
    "version": 3
   },
   "file_extension": ".py",
   "mimetype": "text/x-python",
   "name": "python",
   "nbconvert_exporter": "python",
   "pygments_lexer": "ipython3",
   "version": "3.7.4"
  }
 },
 "nbformat": 4,
 "nbformat_minor": 2
}
