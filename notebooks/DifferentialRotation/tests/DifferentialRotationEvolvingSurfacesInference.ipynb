{
 "cells": [
  {
   "cell_type": "markdown",
   "metadata": {},
   "source": [
    "# Evolving surfaces"
   ]
  },
  {
   "cell_type": "code",
   "execution_count": null,
   "metadata": {},
   "outputs": [],
   "source": [
    "%matplotlib inline"
   ]
  },
  {
   "cell_type": "code",
   "execution_count": null,
   "metadata": {},
   "outputs": [],
   "source": [
    "%run notebook_setup.py"
   ]
  },
  {
   "cell_type": "code",
   "execution_count": null,
   "metadata": {},
   "outputs": [],
   "source": [
    "import starry\n",
    "import matplotlib.pyplot as plt\n",
    "import numpy as np\n",
    "from tqdm.notebook import tqdm\n",
    "from mpl_toolkits.axes_grid1 import make_axes_locatable\n",
    "from matplotlib import colors\n",
    "import time\n",
    "from scipy.interpolate import interp1d"
   ]
  },
  {
   "cell_type": "code",
   "execution_count": null,
   "metadata": {},
   "outputs": [],
   "source": [
    "starry.config.lazy = False\n",
    "starry.config.quiet = True\n",
    "np.random.seed(0)"
   ]
  },
  {
   "cell_type": "code",
   "execution_count": null,
   "metadata": {},
   "outputs": [],
   "source": [
    "# Load the data\n",
    "data = np.load(\"lightcurve.npz\")\n",
    "time = data[\"time\"]\n",
    "flux0 = data[\"flux0\"]\n",
    "ydeg = data[\"ydeg\"]\n",
    "ydeg_max = data[\"ydeg_max\"]\n",
    "inc = data[\"inc\"]\n",
    "y = data[\"y\"]\n",
    "prot = data[\"prot\"]"
   ]
  },
  {
   "cell_type": "code",
   "execution_count": null,
   "metadata": {},
   "outputs": [],
   "source": [
    "ferr = 1e-4\n",
    "flux = flux0 + ferr * np.random.randn(len(flux0))"
   ]
  },
  {
   "cell_type": "code",
   "execution_count": null,
   "metadata": {},
   "outputs": [],
   "source": [
    "plt.plot(time, flux, \"k.\", ms=3, alpha=0.5)\n",
    "plt.plot(time, flux0, \"C0-\", lw=1);"
   ]
  },
  {
   "cell_type": "code",
   "execution_count": null,
   "metadata": {},
   "outputs": [],
   "source": [
    "# Get the light curve for each ~period\n",
    "theta = (360.0 / prot * (time - time[0])) % 360.0\n",
    "breaks = np.where(np.diff(theta) < 0)[0]\n",
    "sz = np.max(np.diff(breaks)) + 1\n",
    "Theta = []\n",
    "Time = []\n",
    "Flux = []\n",
    "i = 0\n",
    "for b in breaks:\n",
    "    eps = sz - (b - i)\n",
    "    idx = slice(i, b + eps)\n",
    "    t = np.array(theta[idx])\n",
    "    if t[0] > 180:\n",
    "        t[0] -= 360.0\n",
    "    if t[-1] < 180:\n",
    "        t[-1] += 360.0\n",
    "    Theta.append(t)\n",
    "    Time.append(time[idx])\n",
    "    Flux.append(flux[idx])\n",
    "    i = b\n",
    "Theta = np.array(Theta)\n",
    "Time = np.array(Time)\n",
    "Flux = np.array(Flux)"
   ]
  },
  {
   "cell_type": "code",
   "execution_count": null,
   "metadata": {},
   "outputs": [],
   "source": [
    "alpha = np.linspace(0, 1.0, 100)\n",
    "lnlike = np.zeros((len(alpha), len(Theta)))\n",
    "\n",
    "map = starry.Map(ydeg_max, inc=inc)\n",
    "for k in tqdm(range(len(alpha))):\n",
    "    map.alpha = alpha[k]\n",
    "    for i in range(len(Theta)):\n",
    "        map.set_data(Flux[i], C=ferr ** 2)\n",
    "        map.set_prior(L=1e-6)\n",
    "        lnlike[k, i] = map.lnlike(theta=Theta[i])"
   ]
  },
  {
   "cell_type": "code",
   "execution_count": null,
   "metadata": {},
   "outputs": [],
   "source": [
    "fig = plt.figure(figsize=(12, 8))\n",
    "ax = [\n",
    "    plt.subplot2grid((4, 1), (0, 0), rowspan=3),\n",
    "    plt.subplot2grid((4, 1), (3, 0)),\n",
    "]\n",
    "ax[0].imshow(\n",
    "    np.exp(lnlike - lnlike.max(axis=0)).T,\n",
    "    origin=\"lower\",\n",
    "    extent=(0, 1.0, 0, len(Theta)),\n",
    "    aspect=\"auto\",\n",
    ")\n",
    "ax[0].axis(\"off\")\n",
    "ax[1].plot(alpha, np.exp(lnlike.sum(axis=1) - lnlike.sum(axis=1).max()))\n",
    "ax[1].set_yticks([])\n",
    "ax[1].set_xlim(0, 1.0)\n",
    "ax[1].set_xlabel(\"alpha\")\n",
    "ax[1].axvline(0.025, color=\"C1\");"
   ]
  },
  {
   "cell_type": "code",
   "execution_count": null,
   "metadata": {},
   "outputs": [],
   "source": []
  }
 ],
 "metadata": {
  "kernelspec": {
   "display_name": "Python 3",
   "language": "python",
   "name": "python3"
  },
  "language_info": {
   "codemirror_mode": {
    "name": "ipython",
    "version": 3
   },
   "file_extension": ".py",
   "mimetype": "text/x-python",
   "name": "python",
   "nbconvert_exporter": "python",
   "pygments_lexer": "ipython3",
   "version": "3.7.4"
  }
 },
 "nbformat": 4,
 "nbformat_minor": 2
}
