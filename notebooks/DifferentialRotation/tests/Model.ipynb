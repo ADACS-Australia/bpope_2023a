{
 "cells": [
  {
   "cell_type": "markdown",
   "metadata": {},
   "source": [
    "# Evolving surfaces"
   ]
  },
  {
   "cell_type": "code",
   "execution_count": null,
   "metadata": {},
   "outputs": [],
   "source": [
    "%matplotlib inline"
   ]
  },
  {
   "cell_type": "code",
   "execution_count": null,
   "metadata": {},
   "outputs": [],
   "source": [
    "%run notebook_setup.py"
   ]
  },
  {
   "cell_type": "code",
   "execution_count": null,
   "metadata": {},
   "outputs": [],
   "source": [
    "import starry\n",
    "import matplotlib.pyplot as plt\n",
    "import numpy as np\n",
    "from tqdm.notebook import tqdm\n",
    "from mpl_toolkits.axes_grid1 import make_axes_locatable\n",
    "from matplotlib import colors\n",
    "import time\n",
    "from scipy.interpolate import interp1d\n",
    "import theano\n",
    "import theano.tensor as tt"
   ]
  },
  {
   "cell_type": "code",
   "execution_count": null,
   "metadata": {},
   "outputs": [],
   "source": [
    "starry.config.lazy = True\n",
    "starry.config.quiet = True"
   ]
  },
  {
   "cell_type": "markdown",
   "metadata": {},
   "source": [
    "## Generate"
   ]
  },
  {
   "cell_type": "code",
   "execution_count": null,
   "metadata": {},
   "outputs": [],
   "source": [
    "np.random.seed(0)"
   ]
  },
  {
   "cell_type": "markdown",
   "metadata": {},
   "source": [
    "Parameters:"
   ]
  },
  {
   "cell_type": "code",
   "execution_count": null,
   "metadata": {},
   "outputs": [],
   "source": [
    "ydeg = 20\n",
    "ypad = 5\n",
    "inc = 75.0\n",
    "prot = 1.0\n",
    "alpha = 0.01\n",
    "\n",
    "nspots = 30\n",
    "tau_mu = 10 * prot\n",
    "tau_sig = np.sqrt(tau_mu)\n",
    "dtau = 2.0\n",
    "tpad = 50.0\n",
    "\n",
    "tmax = 100\n",
    "npts = 1001\n",
    "t = np.linspace(0, tmax, npts)\n",
    "dt = t[1] - t[0]"
   ]
  },
  {
   "cell_type": "markdown",
   "metadata": {},
   "source": [
    "Generate the spot expansions:"
   ]
  },
  {
   "cell_type": "code",
   "execution_count": null,
   "metadata": {},
   "outputs": [],
   "source": [
    "map = starry.Map(ydeg)\n",
    "\n",
    "# Spot latitude distribution: isotropic\n",
    "lat = lambda: (np.arccos(2 * np.random.random() - 1) - 0.5 * np.pi) * 180 / np.pi\n",
    "\n",
    "# Spot longitude distribution: isotropic\n",
    "lon = lambda: 360.0 * np.random.random()\n",
    "\n",
    "# Spot size distribution\n",
    "sigma = lambda: max(0.01, np.exp(-3.5 + 0.4 * np.random.randn()))\n",
    "\n",
    "# Spot intensity distribution\n",
    "intensity = lambda: -min(0.5, np.exp(-3 + 0.5 * np.random.randn()))\n",
    "\n",
    "# Generate the Ylm coeffs for each spot\n",
    "y = np.empty((nspots, (ydeg + 1) ** 2))\n",
    "for n in range(nspots):\n",
    "    map.reset()\n",
    "    map.add_spot(lat=lat(), lon=lon(), sigma=sigma(), intensity=intensity())\n",
    "    y[n] = (map.amp * map.y).eval()\n",
    "y[:, (ydeg - ypad + 1) ** 2 :] = 0\n",
    "y[:, 0] = 0"
   ]
  },
  {
   "cell_type": "code",
   "execution_count": null,
   "metadata": {},
   "outputs": [],
   "source": [
    "nx = 1 + int(np.ceil(np.sqrt(nspots)))\n",
    "ny = 1\n",
    "while ny * nx < nspots:\n",
    "    ny += 1\n",
    "fig, ax = plt.subplots(ny, nx, figsize=(12, 5))\n",
    "ax = ax.flatten()\n",
    "for axis in ax:\n",
    "    axis.axis(\"off\")\n",
    "for k in range(nspots):\n",
    "    map.reset()\n",
    "    map[1:, :] = y[k, 1:]\n",
    "    img = np.pi * map.render(projection=\"moll\", res=100).eval()\n",
    "    ax[k].imshow(\n",
    "        img,\n",
    "        origin=\"lower\",\n",
    "        extent=(-1, 1, -0.5, 0.5),\n",
    "        cmap=\"Greys_r\",\n",
    "        vmin=0.9,\n",
    "        vmax=1,\n",
    "    )\n",
    "    x_el = np.linspace(-1, 1, 1000)\n",
    "    y_el = 0.5 * np.sqrt(1 - x_el ** 2)\n",
    "    ax[k].plot(x_el, y_el, \"k-\", lw=1, clip_on=False)\n",
    "    ax[k].plot(x_el, -y_el, \"k-\", lw=1, clip_on=False)"
   ]
  },
  {
   "cell_type": "markdown",
   "metadata": {},
   "source": [
    "Get the spot timescales:"
   ]
  },
  {
   "cell_type": "code",
   "execution_count": null,
   "metadata": {},
   "outputs": [],
   "source": [
    "tau = tau_mu + tau_sig * np.random.randn(nspots)"
   ]
  },
  {
   "cell_type": "code",
   "execution_count": null,
   "metadata": {},
   "outputs": [],
   "source": [
    "plt.hist(tau)\n",
    "plt.xlabel(\"timescale [days]\");"
   ]
  },
  {
   "cell_type": "markdown",
   "metadata": {},
   "source": [
    "Get the spot emergence times and phases:"
   ]
  },
  {
   "cell_type": "code",
   "execution_count": null,
   "metadata": {},
   "outputs": [],
   "source": [
    "t0 = np.sort((tmax + tpad) * np.random.random(nspots) - tpad)\n",
    "theta = (360.0 / prot) * (t.reshape(1, -1) - t0.reshape(-1, 1))"
   ]
  },
  {
   "cell_type": "code",
   "execution_count": null,
   "metadata": {},
   "outputs": [],
   "source": [
    "plt.hist(t0)\n",
    "plt.xlabel(\"emergence time [days]\");"
   ]
  },
  {
   "cell_type": "markdown",
   "metadata": {},
   "source": [
    "Get the spot amplitudes as a function of time:"
   ]
  },
  {
   "cell_type": "code",
   "execution_count": null,
   "metadata": {},
   "outputs": [],
   "source": [
    "a = np.exp(\n",
    "    -((t.reshape(1, -1) - (t0 + dtau * tau).reshape(-1, 1)) ** 2)\n",
    "    / (2 * tau.reshape(-1, 1) ** 2)\n",
    ")"
   ]
  },
  {
   "cell_type": "code",
   "execution_count": null,
   "metadata": {},
   "outputs": [],
   "source": [
    "plt.imshow(a, aspect=\"auto\", extent=(0, tmax, nspots, 0), vmin=0, vmax=1)\n",
    "plt.colorbar(label=\"amplitude\")\n",
    "plt.plot(t0, 0.5 + np.arange(nspots), \"w|\", ms=7.5)\n",
    "plt.xlim(0, tmax)\n",
    "plt.xlabel(\"time [days]\")\n",
    "plt.ylabel(\"spot number\");"
   ]
  },
  {
   "cell_type": "markdown",
   "metadata": {},
   "source": [
    "Visualize the star:"
   ]
  },
  {
   "cell_type": "code",
   "execution_count": null,
   "metadata": {},
   "outputs": [],
   "source": [
    "def _get_image(_y, _theta):\n",
    "    map = starry.Map(ydeg, inc=inc, alpha=alpha, tau=np.inf)\n",
    "    map[1:, :] = _y[1:]\n",
    "    return np.pi * map.render(projection=\"moll\", res=300, theta=_theta) - 1.0\n",
    "\n",
    "\n",
    "with theano.configparser.change_flags(compute_test_value=\"off\"):\n",
    "    _y = tt.dvector()\n",
    "    _theta = tt.dvector()\n",
    "    get_image = theano.function([_y, _theta], _get_image(_y, _theta))\n",
    "\n",
    "\n",
    "downsamp = 10\n",
    "nim = len(t[::downsamp])\n",
    "img = np.ones((nim, 300, 300))\n",
    "for k in tqdm(range(nspots)):\n",
    "    img += a[k, ::downsamp].reshape(-1, 1, 1) * get_image(y[k], theta[k, ::downsamp])\n",
    "map.show(image=img, projection=\"moll\", colorbar=True)"
   ]
  },
  {
   "cell_type": "markdown",
   "metadata": {},
   "source": [
    "Get the light curve:"
   ]
  },
  {
   "cell_type": "code",
   "execution_count": null,
   "metadata": {},
   "outputs": [],
   "source": [
    "def get_model(\n",
    "    t=t, y=y, a=a, theta=theta, prot=prot, inc=inc, alpha=alpha, tpad=tpad, fast=True\n",
    "):\n",
    "\n",
    "    map.inc = inc\n",
    "    map.alpha = alpha\n",
    "    map.tau = np.inf\n",
    "    model = np.ones(npts)\n",
    "    nspots = len(y)\n",
    "\n",
    "    if fast:\n",
    "\n",
    "        theta0 = (\n",
    "            360.0\n",
    "            / prot\n",
    "            * np.concatenate(\n",
    "                (-t[::-1], t[1:], np.arange(t[-1], t[-1] + tpad, t[1] - t[0])[1:],)\n",
    "            )\n",
    "        )\n",
    "        X0 = map.design_matrix(theta=theta0).eval()\n",
    "        for k in range(nspots):\n",
    "            i = np.argmax(theta0 > theta[k, 0]) - 1\n",
    "            Xa = X0[i : i + npts]\n",
    "            Xb = X0[i + 1 : i + 1 + npts]\n",
    "            X = (\n",
    "                Xa * (theta0[i] - theta[k, 0]) + Xb * (theta0[i + 1] - theta[k, 0])\n",
    "            ) / (theta0[i + 1] - theta0[i])\n",
    "            model += a[k] * X0[i : i + npts].dot(y[k])\n",
    "\n",
    "    else:\n",
    "\n",
    "        for k in range(nspots):\n",
    "            X = map.design_matrix(theta=theta[k]).eval()\n",
    "            model += a[k] * X.dot(y[k])\n",
    "\n",
    "    return model"
   ]
  },
  {
   "cell_type": "code",
   "execution_count": null,
   "metadata": {},
   "outputs": [],
   "source": [
    "def plot_lc(t, fluxes, styles=None, nrow=5, ncol=3, figsize=(12, 10)):\n",
    "\n",
    "    fig = plt.figure(figsize=figsize)\n",
    "    ax_main = plt.subplot2grid((nrow, ncol), (0, 0), colspan=ncol, rowspan=2)\n",
    "    ax_sub = [\n",
    "        plt.subplot2grid((nrow, ncol), (2 + i, j))\n",
    "        for i in range(nrow - 2)\n",
    "        for j in range(ncol)\n",
    "    ]\n",
    "    nsub = len(ax_sub)\n",
    "    npts = len(t)\n",
    "\n",
    "    if styles is None:\n",
    "        styles = [dict() for flux in fluxes]\n",
    "    for flux, style in zip(fluxes, styles):\n",
    "        ax_main.plot(t, flux, **style)\n",
    "\n",
    "        for k, ax in enumerate(ax_sub):\n",
    "\n",
    "            a = int(k * npts / nsub)\n",
    "            b = int((k + 1) * npts / nsub)\n",
    "            ax.plot(t[a:b], flux[a:b], **style)\n",
    "\n",
    "    ax_main.legend(fontsize=8, loc=\"lower left\")\n",
    "\n",
    "    for label in ax_main.get_yticklabels() + ax_main.get_xticklabels():\n",
    "        label.set_fontsize(10)\n",
    "    for ax in ax_sub:\n",
    "        for label in ax.get_yticklabels() + ax.get_xticklabels():\n",
    "            label.set_fontsize(8)\n",
    "    ax_main.set_ylabel(\"flux\")\n",
    "    for ax in ax_sub[-ncol:]:\n",
    "        ax.set_xlabel(\"time [days]\", fontsize=12)\n",
    "    for ax in ax_sub[::ncol]:\n",
    "        ax.set_ylabel(\"flux\", fontsize=12)"
   ]
  },
  {
   "cell_type": "code",
   "execution_count": null,
   "metadata": {},
   "outputs": [],
   "source": [
    "flux0 = get_model(alpha=0, fast=False)\n",
    "flux = get_model(alpha=alpha, fast=False)"
   ]
  },
  {
   "cell_type": "code",
   "execution_count": null,
   "metadata": {},
   "outputs": [],
   "source": [
    "plt.hist(tau);"
   ]
  },
  {
   "cell_type": "code",
   "execution_count": null,
   "metadata": {},
   "outputs": [],
   "source": [
    "plt.hist(tau);"
   ]
  },
  {
   "cell_type": "code",
   "execution_count": null,
   "metadata": {},
   "outputs": [],
   "source": [
    "plt.hist(tau);"
   ]
  },
  {
   "cell_type": "code",
   "execution_count": null,
   "metadata": {},
   "outputs": [],
   "source": [
    "plot_lc(\n",
    "    t,\n",
    "    [flux0, flux],\n",
    "    styles=[\n",
    "        dict(color=\"C1\", lw=1, alpha=0.5, label=\"solid\"),\n",
    "        dict(color=\"C0\", lw=2, label=\"diff rot\"),\n",
    "    ],\n",
    ")"
   ]
  },
  {
   "cell_type": "markdown",
   "metadata": {},
   "source": [
    "## Inference"
   ]
  },
  {
   "cell_type": "code",
   "execution_count": null,
   "metadata": {},
   "outputs": [],
   "source": [
    "import pymc3 as pm\n",
    "import pymc3.distributions.transforms as tr\n",
    "import exoplanet as exo\n",
    "import theano.tensor as tt"
   ]
  },
  {
   "cell_type": "code",
   "execution_count": null,
   "metadata": {},
   "outputs": [],
   "source": [
    "alpha_tru = alpha\n",
    "t0_tru = np.array(t0)\n",
    "tau_tru = np.array(tau)\n",
    "y_tru = np.array(y)\n",
    "nspots_tru = nspots"
   ]
  },
  {
   "cell_type": "code",
   "execution_count": null,
   "metadata": {},
   "outputs": [],
   "source": [
    "ferr = 1e-4\n",
    "fobs = flux + ferr * np.random.randn(len(flux))"
   ]
  },
  {
   "cell_type": "code",
   "execution_count": null,
   "metadata": {},
   "outputs": [],
   "source": [
    "plot_lc(\n",
    "    t,\n",
    "    [flux, fobs],\n",
    "    styles=[\n",
    "        dict(color=\"C0\", lw=1, alpha=0.5, label=\"true\"),\n",
    "        dict(color=\"k\", ls=\"None\", marker=\".\", ms=2, label=\"observed\"),\n",
    "    ],\n",
    ")"
   ]
  },
  {
   "cell_type": "code",
   "execution_count": null,
   "metadata": {},
   "outputs": [],
   "source": [
    "ymu = np.mean(y_tru, axis=0)\n",
    "ycov = np.cov(y_tru.T)\n",
    "ycov += 1e-12 * np.eye(len(ymu))\n",
    "nspots = 10"
   ]
  },
  {
   "cell_type": "code",
   "execution_count": null,
   "metadata": {},
   "outputs": [],
   "source": [
    "map = starry.Map(ydeg)\n",
    "map[:, :] = np.random.multivariate_normal(ymu, ycov)\n",
    "map.show(projection=\"moll\")"
   ]
  },
  {
   "cell_type": "code",
   "execution_count": null,
   "metadata": {},
   "outputs": [],
   "source": [
    "# Guess: evenly spaced\n",
    "t0_guess = np.linspace(-tpad + 0.01, tmax - 0.01, nspots)\n",
    "\n",
    "# Guess\n",
    "alpha_guess = 0.1\n",
    "tau_guess = 1.0\n",
    "delta_guess = 0.0\n",
    "\n",
    "# Phases\n",
    "theta = (360.0 / prot) * (t.reshape(1, -1) - tt.reshape(t0_guess, (-1, 1)))\n",
    "\n",
    "# Solve for the ylms at each epoch\n",
    "map = starry.Map(ydeg, inc=inc, alpha=alpha_guess, tau=tau_guess, delta=delta_guess)\n",
    "y_guess = [None for n in range(nspots)]\n",
    "npns = int(np.floor(npts / nspots))\n",
    "for n in tqdm(range(nspots)):\n",
    "    a = np.argmin(np.abs(t - t0_guess[n]))\n",
    "    b = a + npns\n",
    "    start = max(0, a - npns // 2)\n",
    "    stop = min(npts, a + npns // 2)\n",
    "    idx = slice(start, stop)\n",
    "    map.set_data(fobs[idx] - 1.0, C=ferr ** 2)\n",
    "    map.set_prior(mu=ymu, L=ycov)\n",
    "    y, _ = map.solve(theta=theta[n][idx])\n",
    "    y_guess[n] = y.eval()"
   ]
  },
  {
   "cell_type": "code",
   "execution_count": null,
   "metadata": {},
   "outputs": [],
   "source": [
    "with pm.Model() as model:\n",
    "\n",
    "    # Spot emergence times\n",
    "    t0 = pm.Uniform(\n",
    "        \"t0\",\n",
    "        -tpad,\n",
    "        tmax,\n",
    "        shape=nspots,\n",
    "        # transform=tr.Ordered(),\n",
    "        testval=t0_guess,\n",
    "    )\n",
    "\n",
    "    # Differential rotation\n",
    "    alpha = pm.Uniform(\"alpha\", 0.0, 1.0, testval=alpha_guess)\n",
    "    tau = pm.Uniform(\"tau\", 0.0, 2.0, testval=tau_guess)\n",
    "    delta = pm.Uniform(\"delta\", -1.0, 1.0, testval=delta_guess)\n",
    "\n",
    "    # Phases\n",
    "    theta = (360.0 / prot) * (t.reshape(1, -1) - tt.reshape(t0, (-1, 1)))\n",
    "\n",
    "    # Flux model\n",
    "    map = starry.Map(ydeg, inc=inc, alpha=alpha, tau=tau, delta=delta)\n",
    "    m = tt.ones(npts)\n",
    "    for k in range(nspots):\n",
    "        yk = pm.MvNormal(\n",
    "            \"y{}\".format(k), ymu, ycov, shape=(len(ymu),), testval=y_guess[k],\n",
    "        )\n",
    "        X = map.design_matrix(theta=theta[k])\n",
    "        m += tt.dot(X, yk)\n",
    "    pm.Deterministic(\"m\", m)\n",
    "    m_guess = exo.eval_in_model(m)\n",
    "\n",
    "    # Likelihood\n",
    "    pm.Normal(\"obs\", mu=m, sd=ferr, observed=fobs)"
   ]
  },
  {
   "cell_type": "code",
   "execution_count": null,
   "metadata": {},
   "outputs": [],
   "source": [
    "with model:\n",
    "    map_soln = exo.optimize(options=dict(maxiter=399))"
   ]
  },
  {
   "cell_type": "code",
   "execution_count": null,
   "metadata": {},
   "outputs": [],
   "source": [
    "plot_lc(\n",
    "    t,\n",
    "    [fobs, m_guess, map_soln[\"m\"]],\n",
    "    styles=[\n",
    "        dict(color=\"k\", ls=\"None\", marker=\".\", ms=2, label=\"observed\"),\n",
    "        dict(color=\"C1\", lw=1, alpha=0.5, label=\"guess\"),\n",
    "        dict(color=\"C0\", lw=1, alpha=1, label=\"MAP\"),\n",
    "    ],\n",
    "    nrow=6,\n",
    "    ncol=3,\n",
    "    figsize=(12, 12),\n",
    ")"
   ]
  },
  {
   "cell_type": "code",
   "execution_count": null,
   "metadata": {},
   "outputs": [],
   "source": [
    "plot_lc(\n",
    "    t,\n",
    "    [fobs, map_soln[\"m\"]],\n",
    "    styles=[\n",
    "        dict(color=\"k\", ls=\"None\", marker=\".\", ms=2, label=\"observed\"),\n",
    "        dict(color=\"C0\", lw=1, alpha=1, label=\"MAP\"),\n",
    "    ],\n",
    "    nrow=6, ncol=3, figsize=(12, 12)\n",
    ")i"
   ]
  },
  {
   "cell_type": "code",
   "execution_count": null,
   "metadata": {},
   "outputs": [],
   "source": [
    "map_tmp = starry.Map(20)\n",
    "map_tmp[1:, :] = map_soln[\"y5\"][1:]\n",
    "map_tmp.show(projection=\"moll\")"
   ]
  },
  {
   "cell_type": "code",
   "execution_count": null,
   "metadata": {},
   "outputs": [],
   "source": [
    "map_soln[\"alpha\"]"
   ]
  },
  {
   "cell_type": "code",
   "execution_count": null,
   "metadata": {},
   "outputs": [],
   "source": [
    "map_soln[\"tau\"]"
   ]
  },
  {
   "cell_type": "code",
   "execution_count": null,
   "metadata": {},
   "outputs": [],
   "source": [
    "map_soln[\"delta\"]"
   ]
  },
  {
   "cell_type": "code",
   "execution_count": null,
   "metadata": {},
   "outputs": [],
   "source": [
    "with model:\n",
    "    trace = pm.sample(\n",
    "        tune=300,\n",
    "        draws=1000,\n",
    "        start=map_soln,\n",
    "        cores=2,\n",
    "        chains=2,\n",
    "        step=exo.get_dense_nuts_step(target_accept=0.9),\n",
    "    )"
   ]
  }
 ],
 "metadata": {
  "kernelspec": {
   "display_name": "Python 3",
   "language": "python",
   "name": "python3"
  },
  "language_info": {
   "codemirror_mode": {
    "name": "ipython",
    "version": 3
   },
   "file_extension": ".py",
   "mimetype": "text/x-python",
   "name": "python",
   "nbconvert_exporter": "python",
   "pygments_lexer": "ipython3",
   "version": "3.7.4"
  }
 },
 "nbformat": 4,
 "nbformat_minor": 2
}
