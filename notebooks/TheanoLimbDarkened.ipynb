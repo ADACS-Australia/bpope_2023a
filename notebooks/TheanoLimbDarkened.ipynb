{
 "cells": [
  {
   "cell_type": "code",
   "execution_count": 1,
   "metadata": {},
   "outputs": [],
   "source": [
    "%matplotlib inline\n",
    "%config InlineBackend.figure_format = \"retina\""
   ]
  },
  {
   "cell_type": "code",
   "execution_count": 2,
   "metadata": {},
   "outputs": [],
   "source": [
    "import matplotlib.pyplot as plt\n",
    "from matplotlib import rcParams\n",
    "rcParams[\"savefig.dpi\"] = 100\n",
    "rcParams[\"figure.dpi\"] = 100\n",
    "rcParams[\"figure.figsize\"] = 12, 4\n",
    "rcParams[\"font.size\"] = 16\n",
    "rcParams[\"text.usetex\"] = False\n",
    "rcParams[\"font.family\"] = [\"sans-serif\"]\n",
    "rcParams[\"font.sans-serif\"] = [\"cmss10\"]\n",
    "rcParams[\"axes.unicode_minus\"] = False"
   ]
  },
  {
   "cell_type": "code",
   "execution_count": 3,
   "metadata": {},
   "outputs": [],
   "source": [
    "import numpy as np\n",
    "import pymc3 as pm\n",
    "import exoplanet as exo\n",
    "import starry\n",
    "import theano\n",
    "import theano.tensor as tt"
   ]
  },
  {
   "cell_type": "code",
   "execution_count": 46,
   "metadata": {},
   "outputs": [
    {
     "name": "stdout",
     "output_type": "stream",
     "text": [
      "u [-0.00472115 -0.00244178] [-0.00472115 -0.00244178]\n",
      "b 0.0007568178400598446 0.0007568178400598446\n",
      "ro -0.24129282382813103 -0.24129282382813103\n"
     ]
    }
   ],
   "source": [
    "# Define all arguments\n",
    "kwargs = {\n",
    "    \"u\":        [0.4, 0.26],\n",
    "    \"b\":        0.15,\n",
    "    \"zo\":       1.0,\n",
    "    \"ro\":       0.1\n",
    "}\n",
    "theano_kwargs = {}\n",
    "for key in kwargs.keys():\n",
    "    theano_kwargs[key] = theano.shared(np.float64(kwargs[key]), name=key)\n",
    "\n",
    "# Compute the rv and its gradient using starry\n",
    "map = starry.Map(ydeg=0, udeg=2)\n",
    "map[1:] = kwargs.pop(\"u\")\n",
    "rv, grad = map.flux(gradient=True, **kwargs)\n",
    "\n",
    "# Instantiate the theano op\n",
    "model = map.flux_op(**theano_kwargs)\n",
    "\n",
    "# Compute the gradient using Theano\n",
    "varnames = sorted(theano_kwargs.keys())\n",
    "vars = [theano_kwargs[k] for k in varnames]\n",
    "computed = dict(zip(varnames,\n",
    "                    theano.function([], theano.grad(model[0], vars))()))\n",
    "\n",
    "# Compare\n",
    "for key in theano_kwargs.keys():\n",
    "    if key == \"zo\":\n",
    "        continue\n",
    "    print(key, np.squeeze(grad[key]), np.squeeze(computed[key]))\n",
    "    assert np.allclose(np.squeeze(grad[key]), np.squeeze(computed[key]))"
   ]
  },
  {
   "cell_type": "code",
   "execution_count": null,
   "metadata": {},
   "outputs": [],
   "source": []
  }
 ],
 "metadata": {
  "kernelspec": {
   "display_name": "Python 3",
   "language": "python",
   "name": "python3"
  },
  "language_info": {
   "codemirror_mode": {
    "name": "ipython",
    "version": 3
   },
   "file_extension": ".py",
   "mimetype": "text/x-python",
   "name": "python",
   "nbconvert_exporter": "python",
   "pygments_lexer": "ipython3",
   "version": "3.7.2"
  }
 },
 "nbformat": 4,
 "nbformat_minor": 2
}
