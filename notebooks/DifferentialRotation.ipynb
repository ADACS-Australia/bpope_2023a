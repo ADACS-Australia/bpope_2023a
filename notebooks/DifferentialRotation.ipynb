{
 "cells": [
  {
   "cell_type": "raw",
   "metadata": {
    "raw_mimetype": "text/restructuredtext"
   },
   "source": [
    ".. warning::\n",
    "\n",
    "    This tutorial showcases an experimental feature. The way ``starry`` models differential rotation\n",
    "    is likely to change in the future. We're working on making it faster and better conditioned for\n",
    "    large values of ``alpha``."
   ]
  },
  {
   "cell_type": "markdown",
   "metadata": {},
   "source": [
    "# Differential Rotation"
   ]
  },
  {
   "cell_type": "markdown",
   "metadata": {},
   "source": [
    "The new version of `starry` implements an experimental version of differential rotation. This is still an experimental feature, mostly because it is extremely slow to compute. Because differential rotation leads to winding of features on the surface, the angular scale of these surface features becomes smaller and smaller with time, so the actual degree of the spherical harmonic expansion we'd need to preserve these features would increase without bound. `starry` implements a truncated expansion of the effect of differential rotation, but the operations still scale very steeply with the degree of the original map. Additionally, the approximation becomes worse and worse over time. This is something fundamental about differential rotation: it's simply not possible to model it accurately with spherical harmonics.\n",
    "\n",
    "However, for weak differential rotation ($\\alpha \\ll 1$) and over short timescales, the implementation in `starry` may still be useful! Let's take a look."
   ]
  },
  {
   "cell_type": "code",
   "execution_count": null,
   "metadata": {
    "tags": [
     "hide_input"
    ]
   },
   "outputs": [],
   "source": [
    "%matplotlib inline"
   ]
  },
  {
   "cell_type": "code",
   "execution_count": null,
   "metadata": {
    "tags": [
     "hide_input"
    ]
   },
   "outputs": [],
   "source": [
    "%run notebook_setup.py"
   ]
  },
  {
   "cell_type": "markdown",
   "metadata": {},
   "source": [
    "Let's import `starry` as usual, and disable lazy evaluation."
   ]
  },
  {
   "cell_type": "code",
   "execution_count": null,
   "metadata": {},
   "outputs": [],
   "source": [
    "import starry\n",
    "import numpy as np\n",
    "import matplotlib.pyplot as plt\n",
    "\n",
    "starry.config.lazy = False\n",
    "starry.config.quiet = True"
   ]
  },
  {
   "cell_type": "markdown",
   "metadata": {},
   "source": [
    "To create a map with differential rotation enabled, pass the `drorder` keyword to `starry.Map()`. This is the order of the approximation to differential rotation and should usually be 1 (or 2 if absolutely necessary). In general, the spherical harmonic expansion scales *terribly* with the order."
   ]
  },
  {
   "cell_type": "code",
   "execution_count": null,
   "metadata": {},
   "outputs": [],
   "source": [
    "map = starry.Map(ydeg=5, drorder=1)"
   ]
  },
  {
   "cell_type": "markdown",
   "metadata": {},
   "source": [
    "Let's incline the map a bit and give it a dipole-like feature:"
   ]
  },
  {
   "cell_type": "code",
   "execution_count": null,
   "metadata": {},
   "outputs": [],
   "source": [
    "map.inc = 60\n",
    "map[2, 0] = 1"
   ]
  },
  {
   "cell_type": "markdown",
   "metadata": {},
   "source": [
    "Here's what that looks like in lat-lon coordinates:"
   ]
  },
  {
   "cell_type": "code",
   "execution_count": null,
   "metadata": {},
   "outputs": [],
   "source": [
    "map.show(projection=\"rect\")"
   ]
  },
  {
   "cell_type": "markdown",
   "metadata": {},
   "source": [
    "And here's an animation over two rotation cycles (no differential rotation yet):"
   ]
  },
  {
   "cell_type": "code",
   "execution_count": null,
   "metadata": {},
   "outputs": [],
   "source": [
    "map.show(theta=np.linspace(0, 720, 200), dpi=150)"
   ]
  },
  {
   "cell_type": "markdown",
   "metadata": {},
   "source": [
    "and the corresponding light curve:"
   ]
  },
  {
   "cell_type": "code",
   "execution_count": null,
   "metadata": {},
   "outputs": [],
   "source": [
    "theta = np.linspace(0, 720, 1000)\n",
    "flux0 = map.flux(theta=theta)\n",
    "plt.plot(theta, flux0);"
   ]
  },
  {
   "cell_type": "markdown",
   "metadata": {},
   "source": [
    "We haven't yet provided a value for the differential rotation parameter, so there's nothing exciting going on. To do that, we specify the $\\alpha$ parameter, which is the linear shear due to differential rotation:"
   ]
  },
  {
   "cell_type": "code",
   "execution_count": null,
   "metadata": {},
   "outputs": [],
   "source": [
    "map.alpha = 0.1"
   ]
  },
  {
   "cell_type": "markdown",
   "metadata": {},
   "source": [
    "Given this linear shear, the angular velocity $\\omega$ at a latitude $\\phi$ on the surface is given by\n",
    "\n",
    "$\\omega(\\phi) = \\omega_{eq}(1 - \\alpha \\sin^2\\phi)$,\n",
    "\n",
    "where $\\omega_{eq}$ is the angular velocity at the equator.\n",
    "\n",
    "Here's what the rotating map now looks like over two cycles. Note the shearing away from the equator:"
   ]
  },
  {
   "cell_type": "code",
   "execution_count": null,
   "metadata": {},
   "outputs": [],
   "source": [
    "map.show(projection=\"rect\", theta=np.linspace(0, 720, 100))"
   ]
  },
  {
   "cell_type": "markdown",
   "metadata": {},
   "source": [
    "Here's the same map in projection:"
   ]
  },
  {
   "cell_type": "code",
   "execution_count": null,
   "metadata": {},
   "outputs": [],
   "source": [
    "map.show(theta=np.linspace(0, 720, 200), dpi=150)"
   ]
  },
  {
   "cell_type": "markdown",
   "metadata": {},
   "source": [
    "Finally, let's compare the two light curves:"
   ]
  },
  {
   "cell_type": "code",
   "execution_count": null,
   "metadata": {},
   "outputs": [],
   "source": [
    "theta = np.linspace(0, 720, 1000)\n",
    "flux = map.flux(theta=theta)\n",
    "plt.plot(theta, flux0, label=r\"$\\alpha = 0$\")\n",
    "plt.plot(theta, flux, label=r\"$\\alpha = 0.1$\")\n",
    "plt.legend(loc=\"lower left\");"
   ]
  },
  {
   "cell_type": "markdown",
   "metadata": {},
   "source": [
    "Finally, another word of caution. Since differential rotation leads to increasingly smaller features on the surface, the `starry` approximation breaks down after a certain amount of time. The plots below show images of the surface of this star for different values of the quantity $\\omega t \\alpha$, in which the expansion is done in `starry`. \n",
    "\n",
    "Note that for small values of $\\omega t \\alpha$, things look great, but above about $90^\\circ$, the polar regions develop unphysical \"blobs\". That's the limited resolution of the map kicking in: there's no easy way to accurately describe a strongly sheared profile with $l = 5$ spherical harmonics!\n",
    "\n",
    "The blue and orange lines show the position of the peak intensity of the map, computed analytically (blue) and from the `starry` approximation (orange). The `starry` solution tracks the analytic one pretty well also up to about $90^\\circ$, beyond which the limiations of the approximation becomes evident.\n",
    "\n",
    "So, **bottom line:** when `drorder=1`, the `starry` approximation is only good up to about $\\omega t \\alpha = 90^\\circ$."
   ]
  },
  {
   "cell_type": "code",
   "execution_count": null,
   "metadata": {
    "tags": [
     "hide_input"
    ]
   },
   "outputs": [],
   "source": [
    "# Render the map at several phases\n",
    "theta = np.linspace(0, 360 * 4, 17)\n",
    "res = 300\n",
    "images = map.render(projection=\"rect\", theta=theta, res=res)\n",
    "lat = np.linspace(-90, 90, res, endpoint=False)\n",
    "lon = np.linspace(-180, 180, res, endpoint=False)\n",
    "\n",
    "# Compute the longitude of the maximum on the side\n",
    "# facing the observer; it's easiest if we just mask the far side\n",
    "images_masked = np.array(images)\n",
    "images_masked[:, :, : (res // 4)] = 0\n",
    "images_masked[:, :, -(res // 4) :] = 0\n",
    "lon_starry = [lon[np.argmax(img, axis=1)] for img in images_masked]\n",
    "\n",
    "# Compute the expected longitude of the maximum given\n",
    "# the linear differential rotation law\n",
    "lon_exact = [-theta_i * map.alpha * np.sin(lat * np.pi / 180) ** 2 for theta_i in theta]\n",
    "\n",
    "# Plot it!\n",
    "fig, ax = plt.subplots(5, 3, figsize=(12, 12))\n",
    "ax = ax.flatten()\n",
    "for k in range(len(ax)):\n",
    "    ax[k].imshow(\n",
    "        images[k],\n",
    "        extent=(-180, 180, -90, 90),\n",
    "        cmap=\"plasma\",\n",
    "        vmin=images[0].min(),\n",
    "        vmax=images[0].max(),\n",
    "    )\n",
    "    ax[k].plot(lon_exact[k], lat)\n",
    "    ax[k].plot(lon_starry[k], lat)\n",
    "    ax[k].set_title(r\"$\\omega t \\alpha = {}^\\circ$\".format(theta[k] * map.alpha))\n",
    "    ax[k].set_ylim(-75, 75)\n",
    "    for tick in ax[k].xaxis.get_major_ticks() + ax[k].yaxis.get_major_ticks():\n",
    "        tick.label.set_fontsize(8)"
   ]
  }
 ],
 "metadata": {
  "celltoolbar": "Tags",
  "kernelspec": {
   "display_name": "Python 3",
   "language": "python",
   "name": "python3"
  },
  "language_info": {
   "codemirror_mode": {
    "name": "ipython",
    "version": 3
   },
   "file_extension": ".py",
   "mimetype": "text/x-python",
   "name": "python",
   "nbconvert_exporter": "python",
   "pygments_lexer": "ipython3",
   "version": "3.7.4"
  }
 },
 "nbformat": 4,
 "nbformat_minor": 2
}
