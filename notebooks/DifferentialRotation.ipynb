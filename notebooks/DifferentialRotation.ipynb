{
 "cells": [
  {
   "cell_type": "raw",
   "metadata": {
    "raw_mimetype": "text/restructuredtext"
   },
   "source": [
    ".. warning::\n",
    "    This page is still under development."
   ]
  },
  {
   "cell_type": "markdown",
   "metadata": {},
   "source": [
    "# Differential Rotation"
   ]
  },
  {
   "cell_type": "code",
   "execution_count": null,
   "metadata": {
    "tags": [
     "hide_input"
    ]
   },
   "outputs": [],
   "source": [
    "%matplotlib inline"
   ]
  },
  {
   "cell_type": "code",
   "execution_count": null,
   "metadata": {
    "tags": [
     "hide_input"
    ]
   },
   "outputs": [],
   "source": [
    "%run notebook_setup.py"
   ]
  },
  {
   "cell_type": "code",
   "execution_count": null,
   "metadata": {},
   "outputs": [],
   "source": [
    "import starry\n",
    "import numpy as np\n",
    "import matplotlib.pyplot as plt\n",
    "\n",
    "starry.config.lazy = False\n",
    "starry.config.quiet = True"
   ]
  },
  {
   "cell_type": "code",
   "execution_count": null,
   "metadata": {},
   "outputs": [],
   "source": [
    "map = starry.Map(ydeg=5, drorder=1)\n",
    "map.alpha = 0.1\n",
    "\n",
    "# This is a bit hacky: compute the Ylm expansion of cos(latitude)\n",
    "# then rotate it 90 degrees so it's cos(longitude) instead.\n",
    "# Expanding a longitudinal cosine directly doesn't work as well\n",
    "map.load(np.tile(np.cos(np.linspace(-np.pi, np.pi, 500)), (1000, 1)).T)\n",
    "map.rotate([0, 0, 1], 90)"
   ]
  },
  {
   "cell_type": "code",
   "execution_count": null,
   "metadata": {},
   "outputs": [],
   "source": [
    "map.show(projection=\"rect\")"
   ]
  },
  {
   "cell_type": "code",
   "execution_count": null,
   "metadata": {},
   "outputs": [],
   "source": [
    "# Render the map at 5 phases\n",
    "theta = np.linspace(0, 360 * 2, 9)\n",
    "res = 300\n",
    "images = map.render(projection=\"rect\", theta=theta, res=res)\n",
    "lat = np.linspace(-90, 90, res, endpoint=False)\n",
    "lon = np.linspace(-180, 180, res, endpoint=False)\n",
    "\n",
    "# Compute the longitude of the maximum on the side\n",
    "# facing the observer; it's easiest if we just mask the far side\n",
    "images_masked = np.array(images)\n",
    "images_masked[:, :, : (res // 4)] = 0\n",
    "images_masked[:, :, -(res // 4) :] = 0\n",
    "lon_starry = [lon[np.argmax(img, axis=1)] for img in images_masked]\n",
    "\n",
    "# Compute the expected longitude of the maximum given\n",
    "# the linear differential rotation law\n",
    "lon_exact = [-theta_i * map.alpha * np.sin(lat * np.pi / 180) ** 2 for theta_i in theta]"
   ]
  },
  {
   "cell_type": "code",
   "execution_count": null,
   "metadata": {},
   "outputs": [],
   "source": [
    "# Plot it!\n",
    "fig, ax = plt.subplots(3, 3, figsize=(12, 8))\n",
    "ax = ax.flatten()\n",
    "for k in range(9):\n",
    "    ax[k].imshow(images[k], extent=(-180, 180, -90, 90), cmap=\"plasma\")\n",
    "    ax[k].plot(lon_exact[k], lat)\n",
    "    ax[k].plot(lon_starry[k], lat)\n",
    "    ax[k].set_title(r\"$\\theta = {}^\\circ$\".format(theta[k]))\n",
    "    for tick in ax[k].xaxis.get_major_ticks() + ax[k].yaxis.get_major_ticks():\n",
    "        tick.label.set_fontsize(8)"
   ]
  }
 ],
 "metadata": {
  "celltoolbar": "Tags",
  "kernelspec": {
   "display_name": "Python 3",
   "language": "python",
   "name": "python3"
  },
  "language_info": {
   "codemirror_mode": {
    "name": "ipython",
    "version": 3
   },
   "file_extension": ".py",
   "mimetype": "text/x-python",
   "name": "python",
   "nbconvert_exporter": "python",
   "pygments_lexer": "ipython3",
   "version": "3.7.4"
  }
 },
 "nbformat": 4,
 "nbformat_minor": 2
}
