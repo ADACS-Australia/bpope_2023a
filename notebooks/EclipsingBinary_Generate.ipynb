{
 "cells": [
  {
   "cell_type": "markdown",
   "metadata": {},
   "source": [
    "# Eclipsing binary: Generate the data\n",
    "\n",
    "Let's generate an eclipsing binary light curve with `starry`. We are going to use this light curve later in [this notebook](EclipsingBinary_PyMC3.ipynb), [this notebook](EclipsingBinary_Linear.ipynb), and [this notebook](EclipsingBinary_FullSolution.ipynb) to show how to perform inference with `starry`.\n",
    "\n",
    "The example in this notebook isn't meant to be realistic; rather, it's meant to show the various things we can model with `starry`. Let's begin with the usual imports, and note that we are disabling `lazy` evaluation to keep things simple."
   ]
  },
  {
   "cell_type": "code",
   "execution_count": null,
   "metadata": {
    "tags": [
     "hide_input"
    ]
   },
   "outputs": [],
   "source": [
    "%matplotlib inline"
   ]
  },
  {
   "cell_type": "code",
   "execution_count": null,
   "metadata": {
    "tags": [
     "hide_input"
    ]
   },
   "outputs": [],
   "source": [
    "%run notebook_setup.py"
   ]
  },
  {
   "cell_type": "code",
   "execution_count": null,
   "metadata": {},
   "outputs": [],
   "source": [
    "import matplotlib.pyplot as plt\n",
    "import numpy as np\n",
    "import starry\n",
    "\n",
    "np.random.seed(12)\n",
    "starry.config.lazy = False\n",
    "starry.config.quiet = True"
   ]
  },
  {
   "cell_type": "markdown",
   "metadata": {},
   "source": [
    "First, let's define the maps of the two bodies. For simplicity, we'll place a single large spot on each star. We'll keep the degree of the maps limited to $l = 5$, which is fairly low (you can change this if you'd like!). We'll give the first star an equatorial spot:"
   ]
  },
  {
   "cell_type": "code",
   "execution_count": null,
   "metadata": {},
   "outputs": [],
   "source": [
    "map = starry.Map(ydeg=5)\n",
    "map.add_spot(amp=-0.075, sigma=0.1, lat=0, lon=-30)\n",
    "A_y = np.array(map.y[1:])"
   ]
  },
  {
   "cell_type": "markdown",
   "metadata": {},
   "source": [
    "The keywords `amp` and `sigma` control the amplitude and size of the Gaussian expansion of the spot, respectively. The amplitude is measured in the percentage of the luminosity, so this spot corresponds to a decrease in luminosity of 7.5 percent. The standard deviation `sigma` is the (unitless) standard deviation of the Gaussian in $\\cos\\theta$ on the surface of the star. Here's what this particular spot looks like:"
   ]
  },
  {
   "cell_type": "code",
   "execution_count": null,
   "metadata": {},
   "outputs": [],
   "source": [
    "map.show()"
   ]
  },
  {
   "cell_type": "markdown",
   "metadata": {},
   "source": [
    "Note that we're storing the $l > 0$ coefficients in `A_y` (the $Y_{0,0}$ coefficient is always fixed at unity in `starry`). \n",
    "\n",
    "Let's add a similar spot to the secondary, but we'll place it in the southern hemisphere and at a different longitude:"
   ]
  },
  {
   "cell_type": "code",
   "execution_count": null,
   "metadata": {},
   "outputs": [],
   "source": [
    "map.reset()\n",
    "map.add_spot(amp=-0.075, sigma=0.1, lat=-30, lon=60)\n",
    "B_y = np.array(map.y[1:])"
   ]
  },
  {
   "cell_type": "markdown",
   "metadata": {},
   "source": [
    "Here's what the secondary looks like:"
   ]
  },
  {
   "cell_type": "code",
   "execution_count": null,
   "metadata": {},
   "outputs": [],
   "source": [
    "map.show()"
   ]
  },
  {
   "cell_type": "markdown",
   "metadata": {},
   "source": [
    "Now let's define and store all of the parameters of the system. The primary is a sun-like star. The secondary is a smaller star (say, a K dwarf) on a very short period orbit. To make things interesting, the rotation periods of the primary and secondary are resonant with the orbital period at 5:4 and 5:8, respectively. The equators of both stars are coplanar with the orbit, but the entire system is viewed at an inclination of $80^\\circ$. Since the orbital period is so short, both the primary and secondary eclipses are somewhat grazing."
   ]
  },
  {
   "cell_type": "code",
   "execution_count": null,
   "metadata": {},
   "outputs": [],
   "source": [
    "A = dict(\n",
    "    ydeg=5,  # degree of the map\n",
    "    udeg=2,  # degree of the limb darkening\n",
    "    inc=80.0,  # inclination in degrees\n",
    "    amp=1.0,  # amplitude (a value prop. to luminosity)\n",
    "    r=1.0,  #  radius in R_sun\n",
    "    m=1.0,  # mass in M_sun\n",
    "    prot=1.25,  # rotational period in days\n",
    "    u=[0.40, 0.25],  # limb darkening coefficients\n",
    "    y=A_y,  # the spherical harmonic coefficients\n",
    ")\n",
    "\n",
    "B = dict(\n",
    "    ydeg=5,  # degree of the map\n",
    "    udeg=2,  # degree of the limb darkening\n",
    "    inc=80.0,  # inclination in degrees\n",
    "    amp=0.1,  # amplitude (a value prop. to luminosity)\n",
    "    r=0.7,  #  radius in R_sun\n",
    "    m=0.7,  #  mass in M_sun\n",
    "    porb=1.00,  # orbital period in days\n",
    "    prot=0.625,  # rotational period in days\n",
    "    t0=0.15,  # reference time in days (when it transits A)\n",
    "    u=[0.20, 0.05],  # limb darkening coefficients\n",
    "    y=B_y,  # the spherical harmonic coefficients\n",
    ")"
   ]
  },
  {
   "cell_type": "markdown",
   "metadata": {},
   "source": [
    "Finally, let's instantiate the Keplerian system so we can generate a light curve. First we instantiate the primary by calling `starry.Primary`:"
   ]
  },
  {
   "cell_type": "code",
   "execution_count": null,
   "metadata": {},
   "outputs": [],
   "source": [
    "pri = starry.Primary(\n",
    "    starry.Map(ydeg=A[\"ydeg\"], udeg=A[\"udeg\"], inc=A[\"inc\"], amp=A[\"amp\"]),\n",
    "    r=A[\"r\"],\n",
    "    m=A[\"m\"],\n",
    "    prot=A[\"prot\"],\n",
    ")\n",
    "pri.map[1:] = A[\"u\"]\n",
    "pri.map[1:, :] = A[\"y\"]\n",
    "pri.map.show(theta=np.linspace(0, 360, 50))"
   ]
  },
  {
   "cell_type": "markdown",
   "metadata": {},
   "source": [
    "And then the secondary via `starry.Secondary`. Note that we need to specify a few extra parameters for the secondary, such as the orbital period, the reference time, and the orbital inclination (there are other parameters too, such as the eccentricity, which defaults to zero). Importantly, note that we specify the inclination of the secondary **twice**: once within the call to `Map`, and once as a direct keyword to `Secondary`. That's because the former defines the inclination of the rotational axis of the *map* with respect to the plane of the sky, and the secoond defines the inclination of the *orbital plane* with respect to the plane of the sky. For more information on this, see the tutorial on [Orientation](Orientation.ipynb)."
   ]
  },
  {
   "cell_type": "code",
   "execution_count": null,
   "metadata": {},
   "outputs": [],
   "source": [
    "sec = starry.Secondary(\n",
    "    starry.Map(ydeg=B[\"ydeg\"], udeg=B[\"udeg\"], inc=B[\"inc\"], amp=B[\"amp\"]),\n",
    "    r=B[\"r\"],\n",
    "    m=B[\"m\"],\n",
    "    porb=B[\"porb\"],\n",
    "    prot=B[\"prot\"],\n",
    "    t0=B[\"t0\"],\n",
    "    inc=B[\"inc\"],\n",
    ")\n",
    "sec.map[1:] = B[\"u\"]\n",
    "sec.map[1:, :] = B[\"y\"]\n",
    "sec.map.show(theta=np.linspace(0, 360, 50))"
   ]
  },
  {
   "cell_type": "markdown",
   "metadata": {},
   "source": [
    "Now we're ready to generate a synthetic light curve. To do this, we instantiate a `System` object:"
   ]
  },
  {
   "cell_type": "code",
   "execution_count": null,
   "metadata": {},
   "outputs": [],
   "source": [
    "sys = starry.System(pri, sec)"
   ]
  },
  {
   "cell_type": "markdown",
   "metadata": {},
   "source": [
    "Sometimes it's useful to check if we defined things correctly by visualizing the system using the `show()` method:"
   ]
  },
  {
   "cell_type": "code",
   "execution_count": null,
   "metadata": {},
   "outputs": [],
   "source": [
    "sys.show(t=np.linspace(-2.5, 2.5, 300), window_pad=4.75, figsize=(5, 5))"
   ]
  },
  {
   "cell_type": "markdown",
   "metadata": {},
   "source": [
    "If we're happy, we can generate a light curve by calling the `flux` method of the `System` object:"
   ]
  },
  {
   "cell_type": "code",
   "execution_count": null,
   "metadata": {},
   "outputs": [],
   "source": [
    "t = np.linspace(-2.5, 2.5, 1000)\n",
    "flux_true = sys.flux(t)\n",
    "sigma = 0.0005\n",
    "flux = flux_true + sigma * np.random.randn(len(t))"
   ]
  },
  {
   "cell_type": "markdown",
   "metadata": {},
   "source": [
    "We're computing the light curve over 5 days. Note that we also added a tiny bit of Gaussian noise to the observation. Let's look at the light curve:"
   ]
  },
  {
   "cell_type": "code",
   "execution_count": null,
   "metadata": {},
   "outputs": [],
   "source": [
    "fig, ax = plt.subplots(1, figsize=(12, 5))\n",
    "ax.plot(t, flux, \"k.\", alpha=0.3, ms=2)\n",
    "ax.plot(t, flux_true, lw=1)\n",
    "ax.set_xlabel(\"time [days]\", fontsize=24)\n",
    "ax.set_ylabel(\"normalized flux\", fontsize=24);"
   ]
  },
  {
   "cell_type": "markdown",
   "metadata": {},
   "source": [
    "Finally, let's save all of the data so we can do inference later."
   ]
  },
  {
   "cell_type": "code",
   "execution_count": null,
   "metadata": {},
   "outputs": [],
   "source": [
    "np.savez(\"eb.npz\", A=A, B=B, t=t, flux=flux, sigma=sigma)"
   ]
  }
 ],
 "metadata": {
  "celltoolbar": "Tags",
  "kernelspec": {
   "display_name": "Python 3",
   "language": "python",
   "name": "python3"
  },
  "language_info": {
   "codemirror_mode": {
    "name": "ipython",
    "version": 3
   },
   "file_extension": ".py",
   "mimetype": "text/x-python",
   "name": "python",
   "nbconvert_exporter": "python",
   "pygments_lexer": "ipython3",
   "version": "3.7.4"
  }
 },
 "nbformat": 4,
 "nbformat_minor": 2
}
