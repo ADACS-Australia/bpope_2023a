{
 "cells": [
  {
   "cell_type": "markdown",
   "metadata": {},
   "source": [
    "# Eclipsing binary: `pymc3` solution"
   ]
  },
  {
   "cell_type": "code",
   "execution_count": null,
   "metadata": {
    "tags": [
     "hide_input"
    ]
   },
   "outputs": [],
   "source": [
    "%matplotlib inline\n",
    "%config InlineBackend.figure_format='retina'"
   ]
  },
  {
   "cell_type": "code",
   "execution_count": null,
   "metadata": {},
   "outputs": [],
   "source": [
    "import matplotlib.pyplot as plt\n",
    "import numpy as np\n",
    "import pymc3 as pm\n",
    "import exoplanet as xo\n",
    "import os\n",
    "import starry\n",
    "from corner import corner\n",
    "\n",
    "np.random.seed(12)\n",
    "starry.config.lazy = True\n",
    "starry.config.quiet = True"
   ]
  },
  {
   "cell_type": "markdown",
   "metadata": {},
   "source": [
    "## Load the data\n",
    "\n",
    "We generated the data in **EclipsingBinary_Generate.ipynb**. Let's load that dataset:"
   ]
  },
  {
   "cell_type": "code",
   "execution_count": null,
   "metadata": {
    "tags": [
     "hide_input",
     "hide_output"
    ]
   },
   "outputs": [],
   "source": [
    "# Run the Generate notebook if needed\n",
    "if not os.path.exists(\"eb.npz\"):\n",
    "    import nbformat\n",
    "    from nbconvert.preprocessors import ExecutePreprocessor\n",
    "\n",
    "    with open(\"EclipsingBinary_Generate.ipynb\") as f:\n",
    "        nb = nbformat.read(f, as_version=4)\n",
    "    ep = ExecutePreprocessor(timeout=600, kernel_name=\"python3\")\n",
    "    ep.preprocess(nb);"
   ]
  },
  {
   "cell_type": "code",
   "execution_count": null,
   "metadata": {},
   "outputs": [],
   "source": [
    "data = np.load(\"eb.npz\", allow_pickle=True)\n",
    "A = data[\"A\"].item()\n",
    "B = data[\"B\"].item()\n",
    "t = data[\"t\"]\n",
    "flux = data[\"flux\"]\n",
    "sigma = data[\"sigma\"]"
   ]
  },
  {
   "cell_type": "markdown",
   "metadata": {},
   "source": [
    "Instantiate the primary, secondary, and system objects. We assume we know the true values of all the orbital parameters and star properties, *except* for the two surface maps."
   ]
  },
  {
   "cell_type": "code",
   "execution_count": null,
   "metadata": {},
   "outputs": [],
   "source": [
    "with pm.Model() as model:\n",
    "\n",
    "    # Primary\n",
    "    pri = starry.Primary(\n",
    "        starry.Map(ydeg=A[\"ydeg\"], udeg=A[\"udeg\"], inc=A[\"inc\"], amp=A[\"amp\"]),\n",
    "        r=A[\"r\"],\n",
    "        m=A[\"m\"],\n",
    "        prot=A[\"prot\"],\n",
    "    )\n",
    "    pri.map[1:] = A[\"u\"]\n",
    "\n",
    "    # Secondary\n",
    "    sec = starry.Secondary(\n",
    "        starry.Map(ydeg=B[\"ydeg\"], udeg=B[\"udeg\"], inc=B[\"inc\"], amp=B[\"amp\"]),\n",
    "        r=B[\"r\"],\n",
    "        m=B[\"m\"],\n",
    "        porb=B[\"porb\"],\n",
    "        prot=B[\"prot\"],\n",
    "        t0=B[\"t0\"],\n",
    "        inc=B[\"inc\"],\n",
    "    )\n",
    "    sec.map[1:] = B[\"u\"]\n",
    "\n",
    "    # System\n",
    "    sys = starry.System(pri, sec)"
   ]
  },
  {
   "cell_type": "markdown",
   "metadata": {},
   "source": [
    "Here's the light curve we're going to do inference on:"
   ]
  },
  {
   "cell_type": "code",
   "execution_count": null,
   "metadata": {},
   "outputs": [],
   "source": [
    "fig, ax = plt.subplots(1, figsize=(12, 5))\n",
    "ax.plot(t, flux, \"k.\", alpha=0.5, ms=4)\n",
    "ax.set_xlabel(\"time [days]\", fontsize=24)\n",
    "ax.set_ylabel(\"normalized flux\", fontsize=24);"
   ]
  },
  {
   "cell_type": "markdown",
   "metadata": {},
   "source": [
    "## Let's define the `pymc3` model"
   ]
  },
  {
   "cell_type": "code",
   "execution_count": null,
   "metadata": {},
   "outputs": [],
   "source": [
    "with pm.Model() as model:\n",
    "\n",
    "    # The Ylm coefficients of the primary\n",
    "    # with a zero-mean isotropic Gaussian prior\n",
    "    ncoeff = pri.map.Ny - 1\n",
    "    pri_mu = np.zeros(ncoeff)\n",
    "    pri_cov = 1e-2 * np.eye(ncoeff)\n",
    "    pri.map[1:, :] = pm.MvNormal(\"pri_y\", pri_mu, pri_cov, shape=(ncoeff,))\n",
    "\n",
    "    # The Ylm coefficients of the secondary\n",
    "    # with a zero-mean isotropic Gaussian prior\n",
    "    ncoeff = sec.map.Ny - 1\n",
    "    sec_mu = np.zeros(ncoeff)\n",
    "    sec_cov = 1e-2 * np.eye(ncoeff)\n",
    "    sec.map[1:, :] = pm.MvNormal(\"sec_y\", sec_mu, sec_cov, shape=(ncoeff,))\n",
    "\n",
    "    # Compute the flux\n",
    "    flux_model = sys.flux(t=t)\n",
    "\n",
    "    # Track some values for plotting later\n",
    "    pm.Deterministic(\"flux_model\", flux_model)\n",
    "\n",
    "    # Save our initial guess\n",
    "    flux_model_guess = xo.eval_in_model(flux_model)\n",
    "\n",
    "    # The likelihood function assuming known Gaussian uncertainty\n",
    "    pm.Normal(\"obs\", mu=flux_model, sd=sigma, observed=flux)"
   ]
  },
  {
   "cell_type": "markdown",
   "metadata": {},
   "source": [
    "Now we run a quick gradient descent to find the MAP (maximum a posteriori) solution. This will give us a decent starting point for the inference problem."
   ]
  },
  {
   "cell_type": "code",
   "execution_count": null,
   "metadata": {},
   "outputs": [],
   "source": [
    "%%time\n",
    "with model:\n",
    "    map_soln = xo.optimize()"
   ]
  },
  {
   "cell_type": "markdown",
   "metadata": {},
   "source": [
    "Plot the MAP model alongside the data and the initial guess. Note that we're doing quite well."
   ]
  },
  {
   "cell_type": "code",
   "execution_count": null,
   "metadata": {},
   "outputs": [],
   "source": [
    "plt.figure(figsize=(12, 5))\n",
    "plt.plot(t, flux, \"k.\", alpha=0.3, ms=2, label=\"data\")\n",
    "plt.plot(t, flux_model_guess, \"C1--\", lw=1, alpha=0.5, label=\"Initial\")\n",
    "plt.plot(\n",
    "    t, xo.eval_in_model(flux_model, map_soln, model=model), \"C1-\", label=\"MAP\", lw=1\n",
    ")\n",
    "plt.legend(fontsize=10, numpoints=5)\n",
    "plt.xlabel(\"time [days]\", fontsize=24)\n",
    "plt.ylabel(\"relative flux\", fontsize=24);"
   ]
  },
  {
   "cell_type": "markdown",
   "metadata": {},
   "source": [
    "Plot the corresponding maps: note that we recover the spots!"
   ]
  },
  {
   "cell_type": "code",
   "execution_count": null,
   "metadata": {},
   "outputs": [],
   "source": [
    "map = starry.Map(ydeg=A[\"ydeg\"])\n",
    "map.inc = A[\"inc\"]\n",
    "map[1:, :] = map_soln[\"pri_y\"]\n",
    "map.show(theta=np.linspace(0, 360, 50))"
   ]
  },
  {
   "cell_type": "code",
   "execution_count": null,
   "metadata": {},
   "outputs": [],
   "source": [
    "map = starry.Map(ydeg=B[\"ydeg\"])\n",
    "map.inc = B[\"inc\"]\n",
    "map[1:, :] = map_soln[\"sec_y\"]\n",
    "map.show(theta=np.linspace(0, 360, 50))"
   ]
  },
  {
   "cell_type": "markdown",
   "metadata": {},
   "source": [
    "## NUTS sampling\n",
    "\n",
    "Now let's run the NUTS sampler to get posteriors on the map of `B`."
   ]
  },
  {
   "cell_type": "code",
   "execution_count": null,
   "metadata": {},
   "outputs": [],
   "source": [
    "%%time\n",
    "with model:\n",
    "    trace = pm.sample(\n",
    "        tune=250,\n",
    "        draws=500,\n",
    "        start=map_soln,\n",
    "        chains=4,\n",
    "        cores=1,\n",
    "        step=xo.get_dense_nuts_step(target_accept=0.9),\n",
    "    )"
   ]
  },
  {
   "cell_type": "markdown",
   "metadata": {},
   "source": [
    "Things appear to have converged well:"
   ]
  },
  {
   "cell_type": "code",
   "execution_count": null,
   "metadata": {},
   "outputs": [],
   "source": [
    "varnames = [\"pri_y\", \"sec_y\"]\n",
    "display(pm.summary(trace, varnames=varnames).head())\n",
    "display(pm.summary(trace, varnames=varnames).tail())"
   ]
  },
  {
   "cell_type": "markdown",
   "metadata": {},
   "source": [
    "Plot the model for 24 random samples:"
   ]
  },
  {
   "cell_type": "code",
   "execution_count": null,
   "metadata": {},
   "outputs": [],
   "source": [
    "plt.figure(figsize=(12, 5))\n",
    "plt.plot(t, flux, \"k.\", alpha=0.3, ms=2, label=\"data\")\n",
    "label = \"samples\"\n",
    "for i in np.random.choice(range(len(trace[\"flux_model\"])), 24):\n",
    "    plt.plot(t, trace[\"flux_model\"][i], \"C0-\", alpha=0.3, label=label)\n",
    "    label = None\n",
    "plt.legend(fontsize=10, numpoints=5)\n",
    "plt.xlabel(\"time [days]\", fontsize=24)\n",
    "plt.ylabel(\"relative flux\", fontsize=24);"
   ]
  },
  {
   "cell_type": "markdown",
   "metadata": {},
   "source": [
    "Draw samples from the two maps and compare to the truth:"
   ]
  },
  {
   "cell_type": "code",
   "execution_count": null,
   "metadata": {},
   "outputs": [],
   "source": [
    "np.random.seed(0)\n",
    "i = np.random.randint(len(trace[\"pri_y\"]))\n",
    "\n",
    "map = starry.Map(ydeg=A[\"ydeg\"])\n",
    "map[1:, :] = trace[\"pri_y\"][i]\n",
    "pri_draw = map.render(projection=\"rect\").eval()\n",
    "map[1:, :] = A[\"y\"]\n",
    "pri_true = map.render(projection=\"rect\").eval()\n",
    "\n",
    "map = starry.Map(ydeg=B[\"ydeg\"])\n",
    "map[1:, :] = trace[\"sec_y\"][i]\n",
    "sec_draw = map.render(projection=\"rect\").eval()\n",
    "map[1:, :] = B[\"y\"]\n",
    "sec_true = map.render(projection=\"rect\").eval()"
   ]
  },
  {
   "cell_type": "code",
   "execution_count": null,
   "metadata": {},
   "outputs": [],
   "source": [
    "fig, ax = plt.subplots(2, 2, figsize=(8, 4.5))\n",
    "ax[0, 0].imshow(\n",
    "    pri_true,\n",
    "    origin=\"lower\",\n",
    "    extent=(-180, 180, -90, 90),\n",
    "    cmap=\"plasma\",\n",
    "    vmin=0,\n",
    "    vmax=0.4,\n",
    ")\n",
    "ax[1, 0].imshow(\n",
    "    pri_draw,\n",
    "    origin=\"lower\",\n",
    "    extent=(-180, 180, -90, 90),\n",
    "    cmap=\"plasma\",\n",
    "    vmin=0,\n",
    "    vmax=0.4,\n",
    ")\n",
    "ax[0, 1].imshow(\n",
    "    sec_true,\n",
    "    origin=\"lower\",\n",
    "    extent=(-180, 180, -90, 90),\n",
    "    cmap=\"plasma\",\n",
    "    vmin=0,\n",
    "    vmax=0.4,\n",
    ")\n",
    "ax[1, 1].imshow(\n",
    "    sec_draw,\n",
    "    origin=\"lower\",\n",
    "    extent=(-180, 180, -90, 90),\n",
    "    cmap=\"plasma\",\n",
    "    vmin=0,\n",
    "    vmax=0.4,\n",
    ")\n",
    "ax[0, 0].set_title(\"primary\")\n",
    "ax[0, 1].set_title(\"secondary\")\n",
    "ax[0, 0].set_ylabel(\"true\", rotation=0, labelpad=20)\n",
    "ax[1, 0].set_ylabel(\"draw\", rotation=0, labelpad=20);"
   ]
  },
  {
   "cell_type": "markdown",
   "metadata": {},
   "source": [
    "Here's a corner plot for the first several coefficients of the primary map:"
   ]
  },
  {
   "cell_type": "code",
   "execution_count": null,
   "metadata": {},
   "outputs": [],
   "source": [
    "fig, ax = plt.subplots(9, 9, figsize=(7, 7))\n",
    "labels = [\n",
    "    r\"$Y_{%d,%d}$\" % (l, m) for l in range(pri.map.ydeg + 1) for m in range(-l, l + 1)\n",
    "]\n",
    "corner(trace[\"pri_y\"][:, :9], fig=fig, labels=labels)\n",
    "for axis in ax.flatten():\n",
    "    axis.xaxis.set_tick_params(labelsize=6)\n",
    "    axis.yaxis.set_tick_params(labelsize=6)\n",
    "    axis.xaxis.label.set_size(12)\n",
    "    axis.yaxis.label.set_size(12)\n",
    "    axis.xaxis.set_label_coords(0.5, -0.6)\n",
    "    axis.yaxis.set_label_coords(-0.6, 0.5)"
   ]
  }
 ],
 "metadata": {
  "celltoolbar": "Tags",
  "kernelspec": {
   "display_name": "Python 3",
   "language": "python",
   "name": "python3"
  },
  "language_info": {
   "codemirror_mode": {
    "name": "ipython",
    "version": 3
   },
   "file_extension": ".py",
   "mimetype": "text/x-python",
   "name": "python",
   "nbconvert_exporter": "python",
   "pygments_lexer": "ipython3",
   "version": "3.7.2"
  }
 },
 "nbformat": 4,
 "nbformat_minor": 2
}
