{
 "cells": [
  {
   "cell_type": "markdown",
   "metadata": {},
   "source": [
    "# The pixel transform"
   ]
  },
  {
   "cell_type": "markdown",
   "metadata": {},
   "source": [
    "Even though it is convenient to define surface maps in the spherical harmonic basis (because it allows us to compute fluxes analytically), the spherical harmonic basis does have some downsides. The main one relates to the fact that it's really hard to ensure positivity of a surface map when we're in the $Y_{lm}$ basis. Since spherical harmonics are polynomials on the surface of the sphere, ensuring positivity of a degree $l$ spherical harmonic expansion is equivalent to ensuring a polynomial of the same total degree has no roots, which isn't trivial.\n",
    "\n",
    "It's much easier to ensure positivity in *pixel space*, i.e., on a discrete grid on the surface of the sphere. This notebook discusses how to use the `get_pixel_tranforms` method to obtain the linear operators that transform back and forth between pixels (on a Mollweide grid) and spherical harmonics."
   ]
  },
  {
   "cell_type": "code",
   "execution_count": null,
   "metadata": {
    "tags": [
     "hide_input"
    ]
   },
   "outputs": [],
   "source": [
    "%matplotlib inline"
   ]
  },
  {
   "cell_type": "code",
   "execution_count": null,
   "metadata": {
    "tags": [
     "hide_input"
    ]
   },
   "outputs": [],
   "source": [
    "%run notebook_setup.py"
   ]
  },
  {
   "cell_type": "code",
   "execution_count": null,
   "metadata": {},
   "outputs": [],
   "source": [
    "import starry\n",
    "import matplotlib.pyplot as plt\n",
    "\n",
    "starry.config.lazy = False\n",
    "starry.config.quiet = True"
   ]
  },
  {
   "cell_type": "markdown",
   "metadata": {},
   "source": [
    "We begin by instantiating a map of the Earth at $l = 20$:"
   ]
  },
  {
   "cell_type": "code",
   "execution_count": null,
   "metadata": {},
   "outputs": [],
   "source": [
    "map = starry.Map(20)\n",
    "map.load(\"earth\", sigma=0.075)\n",
    "y0 = np.array(map.y)\n",
    "fig, ax = plt.subplots(1, figsize=(12, 5))\n",
    "map.show(ax=ax, projection=\"rect\", colorbar=True)"
   ]
  },
  {
   "cell_type": "markdown",
   "metadata": {},
   "source": [
    "Now let's get the pixel transform on a Mollweide grid:"
   ]
  },
  {
   "cell_type": "code",
   "execution_count": null,
   "metadata": {},
   "outputs": [],
   "source": [
    "res = 50\n",
    "lat, lon, Y2P, P2Y, Dx, Dy = map.get_pixel_transforms()"
   ]
  },
  {
   "cell_type": "markdown",
   "metadata": {},
   "source": [
    "Here are the two matrices that transform spherical harmonics to pixels and pixels to spherical harmonics, respectively:"
   ]
  },
  {
   "cell_type": "code",
   "execution_count": null,
   "metadata": {},
   "outputs": [],
   "source": [
    "fig, ax = plt.subplots(1, 2, figsize=(15, 7))\n",
    "ax[0].imshow(np.log10(np.abs(Y2P)), vmin=-10)\n",
    "ax[1].imshow(np.log10(np.abs(P2Y)), vmin=-10)\n",
    "ax[0].set(xticks=[], yticks=[], xlabel=r\"$N_{ylm}$\", ylabel=r\"$N_{pix}$\", title=\"Y2P\")\n",
    "ax[1].set(xticks=[], yticks=[], xlabel=r\"$N_{pix}$\", ylabel=r\"$N_{ylm}$\", title=\"P2Y\");"
   ]
  },
  {
   "cell_type": "markdown",
   "metadata": {},
   "source": [
    "Let's get the pixel representation of our map..."
   ]
  },
  {
   "cell_type": "code",
   "execution_count": null,
   "metadata": {},
   "outputs": [],
   "source": [
    "p = Y2P.dot(map.y)"
   ]
  },
  {
   "cell_type": "markdown",
   "metadata": {},
   "source": [
    "... and visualize this vector on a rectangular lat/lon grid:"
   ]
  },
  {
   "cell_type": "code",
   "execution_count": null,
   "metadata": {},
   "outputs": [],
   "source": [
    "fig, ax = plt.subplots(1, figsize=(12, 5))\n",
    "im = ax.scatter(lon, lat, s=300, c=p, alpha=0.5, ec=\"none\", cmap=\"plasma\")\n",
    "plt.colorbar(im)\n",
    "ax.set_xlim(-180, 180)\n",
    "ax.set_ylim(-90, 90)\n",
    "ax.set_xlabel(\"Longitude [deg]\")\n",
    "ax.set_ylabel(\"Latitude [deg]\");"
   ]
  },
  {
   "cell_type": "markdown",
   "metadata": {},
   "source": [
    "That's the forward transform. We can now transform back to spherical harmonics and see what we get:"
   ]
  },
  {
   "cell_type": "code",
   "execution_count": null,
   "metadata": {},
   "outputs": [],
   "source": [
    "y = P2Y.dot(p)"
   ]
  },
  {
   "cell_type": "markdown",
   "metadata": {},
   "source": [
    "Here's the difference between the original spherical harmonic vector and the vector after the full cycle of transformations. Because of numerics (and a small regularization term in the inversion), the transform isn't exactyl one-to-one, but it's close."
   ]
  },
  {
   "cell_type": "code",
   "execution_count": null,
   "metadata": {},
   "outputs": [],
   "source": [
    "plt.plot(np.abs((y0 - y) / y0))\n",
    "plt.yscale(\"log\")\n",
    "plt.ylabel(\"difference\")\n",
    "plt.xlabel(\"spherical harmonic index\");"
   ]
  },
  {
   "cell_type": "markdown",
   "metadata": {},
   "source": [
    "We can also plot the new map using `starry`:"
   ]
  },
  {
   "cell_type": "raw",
   "metadata": {
    "raw_mimetype": "text/restructuredtext"
   },
   "source": [
    ".. note::\n",
    "\n",
    "    Maps in ``starry`` require the coefficient of the :math:`Y_{0,0}` term to be unity.\n",
    "    In order to ingest the new :math:`Y_{lm}` coefficients into ``starry``, we divide them by the \n",
    "    :math:`Y_{0,0}` term then set the map amplitude equal to the :math:`Y_{0,0}` term to get the\n",
    "    correct scaling."
   ]
  },
  {
   "cell_type": "code",
   "execution_count": null,
   "metadata": {},
   "outputs": [],
   "source": [
    "map[1:, :] = y[1:] / y[0]\n",
    "map.amp = y[0]\n",
    "fig, ax = plt.subplots(1, figsize=(12, 5))\n",
    "map.show(ax=ax, projection=\"rect\", colorbar=True)"
   ]
  },
  {
   "cell_type": "markdown",
   "metadata": {},
   "source": [
    "## Differentiation"
   ]
  },
  {
   "cell_type": "markdown",
   "metadata": {},
   "source": [
    "Experimental! More info coming soon."
   ]
  },
  {
   "cell_type": "code",
   "execution_count": null,
   "metadata": {},
   "outputs": [],
   "source": [
    "# X derivative\n",
    "Dxp = Dx.dot(p)\n",
    "Dxp_y = P2Y.dot(Dxp)\n",
    "\n",
    "map[1:, :] = Dxp_y[1:] / Dxp_y[0]\n",
    "map.amp = Dxp_y[0]\n",
    "fig, ax = plt.subplots(1, figsize=(12, 5))\n",
    "map.show(ax=ax, projection=\"rect\", colorbar=True)"
   ]
  },
  {
   "cell_type": "code",
   "execution_count": null,
   "metadata": {},
   "outputs": [],
   "source": [
    "# Y derivative\n",
    "Dyp = Dy.dot(p)\n",
    "Dyp_y = P2Y.dot(Dyp)\n",
    "\n",
    "map[1:, :] = Dyp_y[1:] / Dyp_y[0]\n",
    "map.amp = Dyp_y[0]\n",
    "fig, ax = plt.subplots(1, figsize=(12, 5))\n",
    "map.show(ax=ax, projection=\"rect\", colorbar=True)"
   ]
  }
 ],
 "metadata": {
  "celltoolbar": "Tags",
  "kernelspec": {
   "display_name": "Python 3",
   "language": "python",
   "name": "python3"
  },
  "language_info": {
   "codemirror_mode": {
    "name": "ipython",
    "version": 3
   },
   "file_extension": ".py",
   "mimetype": "text/x-python",
   "name": "python",
   "nbconvert_exporter": "python",
   "pygments_lexer": "ipython3",
   "version": "3.7.4"
  }
 },
 "nbformat": 4,
 "nbformat_minor": 2
}
