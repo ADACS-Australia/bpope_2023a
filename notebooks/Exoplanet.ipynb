{
 "cells": [
  {
   "cell_type": "markdown",
   "metadata": {},
   "source": [
    "# A simple exoplanet system"
   ]
  },
  {
   "cell_type": "markdown",
   "metadata": {},
   "source": [
    "Here we'll discuss how to instantiate an exoplanet system and compute its full light curve. Currently, all orbital stuff lives in the `starry.kepler` module, which implements a simple Keplerian solver using the `exoplanet` package. This works for systems of exoplanets orbiting stars, moons orbiting planets, and binary star systems. Keep in mind, however, that the primary object is assumed to sit at the origin, and the secondary objects are assumed to be massless. A more flexible N-body solver using `rebound` is in the works, so stay tuned!"
   ]
  },
  {
   "cell_type": "code",
   "execution_count": null,
   "metadata": {
    "tags": [
     "hide_input"
    ]
   },
   "outputs": [],
   "source": [
    "%matplotlib inline"
   ]
  },
  {
   "cell_type": "code",
   "execution_count": null,
   "metadata": {
    "tags": [
     "hide_input"
    ]
   },
   "outputs": [],
   "source": [
    "%run notebook_setup.py"
   ]
  },
  {
   "cell_type": "code",
   "execution_count": null,
   "metadata": {},
   "outputs": [],
   "source": [
    "import numpy as np\n",
    "import starry\n",
    "\n",
    "starry.config.lazy = False\n",
    "starry.config.quiet = True"
   ]
  },
  {
   "cell_type": "markdown",
   "metadata": {},
   "source": [
    "## Creating a star"
   ]
  },
  {
   "cell_type": "markdown",
   "metadata": {},
   "source": [
    "Let's instantiate a `Primary` object:"
   ]
  },
  {
   "cell_type": "code",
   "execution_count": null,
   "metadata": {},
   "outputs": [],
   "source": [
    "star = starry.Primary(starry.Map(ydeg=0, udeg=2, amp=1.0), m=1.0, r=1.0, prot=1.0)"
   ]
  },
  {
   "cell_type": "markdown",
   "metadata": {},
   "source": [
    "The first argument to `starry.Primary` is a `starry.Map` instance defining the surface map of the object. We're giving the star a quadratically limb-darkened (`udeg = 2`) map with no other spatial features (`ydeg = 0`). The aplitude `amp` controls the overall scaling of the intensity of the object and is therefore equal to its luminosity (in arbitrary units).\n",
    "\n",
    "The `starry.Primary` class takes additional keywords, including the mass, radius, and rotation period, all of which we set to unity. By default, these are measured in solar units (for the mass and radius) and days (for the periods), though it's easy to change that. [Check out the docs for more details](../Primary.rst). "
   ]
  },
  {
   "cell_type": "raw",
   "metadata": {
    "raw_mimetype": "text/restructuredtext"
   },
   "source": [
    ".. note::\n",
    "   Parameters of the surface map (such as `ydeg`, `udeg`, and `amp`) should be passed to the `Map` object; \n",
    "   all other parameters should be passed directly to the `Primary` object. You'll get a warning if you\n",
    "   try to do something like\n",
    "   \n",
    "       .. code-block::python\n",
    "           \n",
    "           star = starry.Primary(starry.Map(ydeg=0, udeg=2, amp=1.0, m=1.0))\n",
    "           \n",
    "   since `starry.Map` isn't aware of what a mass is!"
   ]
  },
  {
   "cell_type": "markdown",
   "metadata": {},
   "source": [
    "Let's now set the limb darkening coefficients of the star. Let's give the stellar map a linear and a quadratic limb-darkening coefficient:"
   ]
  },
  {
   "cell_type": "code",
   "execution_count": null,
   "metadata": {},
   "outputs": [],
   "source": [
    "star.map[1] = 0.40\n",
    "star.map[2] = 0.26"
   ]
  },
  {
   "cell_type": "markdown",
   "metadata": {},
   "source": [
    "Here's what that looks like:"
   ]
  },
  {
   "cell_type": "code",
   "execution_count": null,
   "metadata": {},
   "outputs": [],
   "source": [
    "star.map.show()"
   ]
  },
  {
   "cell_type": "markdown",
   "metadata": {},
   "source": [
    "## Creating a planet"
   ]
  },
  {
   "cell_type": "markdown",
   "metadata": {},
   "source": [
    "Let's create a (very) hot Jupiter with some interesting properties:"
   ]
  },
  {
   "cell_type": "code",
   "execution_count": null,
   "metadata": {},
   "outputs": [],
   "source": [
    "planet = starry.kepler.Secondary(\n",
    "    starry.Map(ydeg=5, amp=5e-3),  # the surface map\n",
    "    m=0,  # mass in solar masses\n",
    "    r=0.1,  # radius in solar radii\n",
    "    porb=1.0,  # orbital period in days\n",
    "    prot=1.0,  # rotation period in days (synchronous)\n",
    "    Omega=30,  # longitude of ascending node in degrees\n",
    "    ecc=0.3,  # eccentricity\n",
    "    w=30,  # longitude of pericenter in degrees\n",
    "    t0=0,  # time of transit in days\n",
    ")"
   ]
  },
  {
   "cell_type": "markdown",
   "metadata": {},
   "source": [
    "Here we've instantiated a planet with a fifth degree surface map, zero mass, a radius that is one-tenth that of the star, a luminosity (amplitude) that is $5\\times 10^{-3}$ times that of the star, an orbital period of 1 day, a rotational period of 1 day, and a bit of an eccentricity."
   ]
  },
  {
   "cell_type": "raw",
   "metadata": {
    "raw_mimetype": "text/restructuredtext"
   },
   "source": [
    ".. note::\n",
    "   The default rotational period for planets is **infinity**, so if you don't specify ``prot``, the planet's surface\n",
    "   map will not rotate as the planet orbits the star and there will be no phase curve variation. For planets whose\n",
    "   emission tracks the star (i.e., a hot Jupiter with a hotspot) set ``prot=porb``. Also note that the default \n",
    "   amplitude and mass is **unity**, so make sure to change those as well if you don't want a planet that's as bright\n",
    "   and as massive as its star!"
   ]
  },
  {
   "cell_type": "markdown",
   "metadata": {},
   "source": [
    "There are a bunch of other settings related to the orbit, so check out the docs for those. The next thing we get to do is specify the planet's map. For simplicity, let's just create a random one:"
   ]
  },
  {
   "cell_type": "code",
   "execution_count": null,
   "metadata": {},
   "outputs": [],
   "source": [
    "np.random.seed(123)\n",
    "planet.map[1:, :] = 0.01 * np.random.randn(planet.map.Ny - 1)"
   ]
  },
  {
   "cell_type": "code",
   "execution_count": null,
   "metadata": {},
   "outputs": [],
   "source": [
    "planet.map.show()"
   ]
  },
  {
   "cell_type": "markdown",
   "metadata": {},
   "source": [
    "Note that when instantiating a map for a `starry.kepler.Secondary` instance, **the map is defined as it would appear at the reference time**, ``t0``. That's also the time of *transit*. Quite often we're interested in the side of the planet that faces the star during secondary eclipse (since that's what we're able to map!). In that case, we can specify the initial rotational phase of the planet (when ``t=t0``) to be $180^\\circ$:"
   ]
  },
  {
   "cell_type": "code",
   "execution_count": null,
   "metadata": {},
   "outputs": [],
   "source": [
    "planet.theta0 = 180"
   ]
  },
  {
   "cell_type": "markdown",
   "metadata": {},
   "source": [
    "The image above now corresponds to the side of the planet visible during (or near) secondary eclipse, assuming it's synchronously rotation. Check out the [viewing geometry tutorial](Orientation.ipynb) for more information.\n",
    "\n",
    "Now, it's probably a good idea to ensure we didn't end up with negative specific intensity anywhere:"
   ]
  },
  {
   "cell_type": "code",
   "execution_count": null,
   "metadata": {},
   "outputs": [],
   "source": [
    "planet.map.minimize()"
   ]
  },
  {
   "cell_type": "markdown",
   "metadata": {},
   "source": [
    "This routine performs gradient descent to try to find the global minimum of the map, and returns the latitude, longitude, and value of the intensity at the minimum. The intensity is positive, so we're good to go."
   ]
  },
  {
   "cell_type": "markdown",
   "metadata": {},
   "source": [
    "## Creating a system"
   ]
  },
  {
   "cell_type": "markdown",
   "metadata": {},
   "source": [
    "Now that we have a star and a planet, we can instantiate a planetary system:"
   ]
  },
  {
   "cell_type": "code",
   "execution_count": null,
   "metadata": {},
   "outputs": [],
   "source": [
    "system = starry.System(star, planet)"
   ]
  },
  {
   "cell_type": "markdown",
   "metadata": {},
   "source": [
    "The first argument to a `starry.System` call is a `Primary` object, followed by any number of `Secondary` objects.\n",
    "\n",
    "There are some other system attributes you can set--notably an exposure time (`texp`)--if the exposure time of your data is long enough to affect the light curve shape. [Check out the docs for more information](../System.rst)."
   ]
  },
  {
   "cell_type": "markdown",
   "metadata": {},
   "source": [
    "## Computing light curves"
   ]
  },
  {
   "cell_type": "markdown",
   "metadata": {},
   "source": [
    "We're ready to compute the full system light curve:"
   ]
  },
  {
   "cell_type": "code",
   "execution_count": null,
   "metadata": {
    "tags": [
     "hide_input"
    ]
   },
   "outputs": [],
   "source": [
    "# HACK: run this to pre-compile the flux method\n",
    "system.flux(0.0);"
   ]
  },
  {
   "cell_type": "code",
   "execution_count": null,
   "metadata": {},
   "outputs": [],
   "source": [
    "%%time\n",
    "time = np.linspace(-0.25, 3.25, 10000)\n",
    "flux_system = system.flux(time)"
   ]
  },
  {
   "cell_type": "markdown",
   "metadata": {},
   "source": [
    "Cool -- `starry` computed 10,000 cadences in a few tens of ms. Let's check it out:"
   ]
  },
  {
   "cell_type": "code",
   "execution_count": null,
   "metadata": {},
   "outputs": [],
   "source": [
    "plt.plot(time, flux_system)\n",
    "plt.xlabel(\"time [days]\")\n",
    "plt.ylabel(\"system flux\");"
   ]
  },
  {
   "cell_type": "markdown",
   "metadata": {},
   "source": [
    "We can also plot the stellar and planetary light curves individually:"
   ]
  },
  {
   "cell_type": "code",
   "execution_count": null,
   "metadata": {},
   "outputs": [],
   "source": [
    "flux_star, flux_planet = system.flux(time, total=False)"
   ]
  },
  {
   "cell_type": "code",
   "execution_count": null,
   "metadata": {},
   "outputs": [],
   "source": [
    "plt.plot(time, flux_star)\n",
    "plt.xlabel(\"time [days]\")\n",
    "plt.ylabel(\"stellar flux\");"
   ]
  },
  {
   "cell_type": "code",
   "execution_count": null,
   "metadata": {},
   "outputs": [],
   "source": [
    "plt.plot(time, flux_planet)\n",
    "plt.xlabel(\"time [days]\")\n",
    "plt.ylabel(\"planet flux\");"
   ]
  },
  {
   "cell_type": "markdown",
   "metadata": {},
   "source": [
    "And, just for fun, the planet's orbit (the sky plane is the $xy$ plane, with $y$ pointing up and $x$ pointing to the right; $z$ points toward the observer):"
   ]
  },
  {
   "cell_type": "code",
   "execution_count": null,
   "metadata": {},
   "outputs": [],
   "source": [
    "x, y, z = system.position(time)"
   ]
  },
  {
   "cell_type": "markdown",
   "metadata": {},
   "source": [
    "The variables $x$, $y$, and $z$ now contain two elements: the position of the star (index 0) and the position of the planet (index 1). Let's plot the planet's orbit:"
   ]
  },
  {
   "cell_type": "code",
   "execution_count": null,
   "metadata": {},
   "outputs": [],
   "source": [
    "plt.plot(time, x[1], label=\"x\")\n",
    "plt.plot(time, y[1], label=\"y\")\n",
    "plt.plot(time, z[1], label=\"z\")\n",
    "plt.ylabel(\"position [R$_*$]\")\n",
    "plt.xlabel(\"time [days]\")\n",
    "plt.legend()\n",
    "\n",
    "fig, ax = plt.subplots(1, 3, sharex=True, sharey=True)\n",
    "ax[0].plot(x[1], y[1])\n",
    "ax[1].plot(x[1], z[1])\n",
    "ax[2].plot(z[1], y[1])\n",
    "for n in [0, 1, 2]:\n",
    "    ax[n].scatter(0, 0, marker=\"*\", color=\"k\", s=100, zorder=10)\n",
    "ax[0].set_xlabel(r\"x [R$_*$]\")\n",
    "ax[0].set_ylabel(r\"y [R$_*$]\")\n",
    "ax[1].set_xlabel(r\"x [R$_*$]\")\n",
    "ax[1].set_ylabel(r\"z [R$_*$]\")\n",
    "ax[2].set_xlabel(r\"z [R$_*$]\")\n",
    "ax[2].set_ylabel(r\"y [R$_*$]\");"
   ]
  },
  {
   "cell_type": "markdown",
   "metadata": {},
   "source": [
    "## Comparison to `batman`"
   ]
  },
  {
   "cell_type": "markdown",
   "metadata": {},
   "source": [
    "One last thing we can do is compare a simple transit calculation to what we'd get with the `batman` code [(Kreidberg 2015)](https://astro.uchicago.edu/~kreidberg/batman/), a widely used and well-tested light curve tool."
   ]
  },
  {
   "cell_type": "markdown",
   "metadata": {},
   "source": [
    "First, let's define all the system parameters:"
   ]
  },
  {
   "cell_type": "code",
   "execution_count": null,
   "metadata": {},
   "outputs": [],
   "source": [
    "u1 = 0.4  # Stellar linear limb darkening coefficient\n",
    "u2 = 0.26  # Stellar quadratic limb darkening coefficient\n",
    "rplanet = 0.1  # Planet radius in units of stellar radius\n",
    "inc = 89.95  # Planet orbital inclination\n",
    "per = 50  # Planet orbital period in days\n",
    "mstar = 1  # Stellar mass in Msun\n",
    "rstar = 1  # Stellar radius in Rsun\n",
    "a = (per ** 2 * starry.constants.G_grav * mstar / (4 * np.pi ** 2)) ** (\n",
    "    1.0 / 3.0\n",
    ")  # semi-major axis in Rsun"
   ]
  },
  {
   "cell_type": "markdown",
   "metadata": {},
   "source": [
    "We'll evaluate the light curve on the following time grid:"
   ]
  },
  {
   "cell_type": "code",
   "execution_count": null,
   "metadata": {},
   "outputs": [],
   "source": [
    "npts = 500\n",
    "time = np.linspace(-0.3, 0.3, npts)"
   ]
  },
  {
   "cell_type": "markdown",
   "metadata": {},
   "source": [
    "Let's evaluate the `starry` light curve for this system:"
   ]
  },
  {
   "cell_type": "code",
   "execution_count": null,
   "metadata": {},
   "outputs": [],
   "source": [
    "# Instantiate the star\n",
    "star = starry.Primary(starry.Map(udeg=2))\n",
    "star.map[1] = u1\n",
    "star.map[2] = u2\n",
    "\n",
    "# Instantiate the planet\n",
    "planet = starry.kepler.Secondary(starry.Map(amp=0), m=0, porb=per, inc=inc, r=rplanet)\n",
    "\n",
    "# Instantiate the system\n",
    "system = starry.System(star, planet)\n",
    "\n",
    "# Compute and store the light curve\n",
    "flux_starry = system.flux(time)"
   ]
  },
  {
   "cell_type": "markdown",
   "metadata": {},
   "source": [
    "And now the `batman` light curve:"
   ]
  },
  {
   "cell_type": "code",
   "execution_count": null,
   "metadata": {},
   "outputs": [],
   "source": [
    "import batman\n",
    "\n",
    "params = batman.TransitParams()\n",
    "params.limb_dark = \"quadratic\"\n",
    "params.u = [u1, u2]\n",
    "params.t0 = 0.0\n",
    "params.ecc = 0.0\n",
    "params.w = 90.0\n",
    "params.rp = rplanet\n",
    "params.a = a\n",
    "params.per = per\n",
    "params.inc = inc\n",
    "m = batman.TransitModel(params, time)\n",
    "flux_batman = m.light_curve(params)"
   ]
  },
  {
   "cell_type": "markdown",
   "metadata": {},
   "source": [
    "Let's plot the two light curves:"
   ]
  },
  {
   "cell_type": "code",
   "execution_count": null,
   "metadata": {},
   "outputs": [],
   "source": [
    "plt.plot(time, flux_starry, label=\"starry\", lw=3)\n",
    "plt.plot(time, flux_batman, \"--\", label=\"batman\", lw=3)\n",
    "plt.xlabel(\"time [days]\", fontsize=16)\n",
    "plt.ylabel(\"stellar flux\", fontsize=16)\n",
    "plt.legend();"
   ]
  },
  {
   "cell_type": "markdown",
   "metadata": {},
   "source": [
    "Here is the difference between the two models:"
   ]
  },
  {
   "cell_type": "code",
   "execution_count": null,
   "metadata": {},
   "outputs": [],
   "source": [
    "plt.plot(time, flux_starry - flux_batman)\n",
    "plt.xlabel(\"time [days]\")\n",
    "plt.ylabel(\"residuals\");"
   ]
  },
  {
   "cell_type": "markdown",
   "metadata": {},
   "source": [
    "It's on the order of a few parts per billion, which is quite small. The oscillations are due to the fact that `batman` uses [Hasting's approximation](https://github.com/lkreidberg/batman/blob/master/c_src/_quadratic_ld.c#L304) to compute the elliptic integrals, which is slightly faster but leads to small errors. In practice, however, the two models are equivalent for exoplanet transit modeling."
   ]
  }
 ],
 "metadata": {
  "celltoolbar": "Tags",
  "kernelspec": {
   "display_name": "Python 3",
   "language": "python",
   "name": "python3"
  },
  "language_info": {
   "codemirror_mode": {
    "name": "ipython",
    "version": 3
   },
   "file_extension": ".py",
   "mimetype": "text/x-python",
   "name": "python",
   "nbconvert_exporter": "python",
   "pygments_lexer": "ipython3",
   "version": "3.7.4"
  }
 },
 "nbformat": 4,
 "nbformat_minor": 2
}
